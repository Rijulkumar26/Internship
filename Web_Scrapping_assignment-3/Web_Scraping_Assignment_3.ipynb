{
 "cells": [
  {
   "cell_type": "markdown",
   "metadata": {
    "id": "IQwber-V7K7f"
   },
   "source": [
    "# Q1. Python program which searches all the product under a particular product\n"
   ]
  },
  {
   "cell_type": "code",
   "execution_count": 2,
   "metadata": {
    "colab": {
     "base_uri": "https://localhost:8080/"
    },
    "id": "tLluyyrv5m9h",
    "outputId": "c57d9773-4ca8-4878-87cd-04764e5b562c"
   },
   "outputs": [
    {
     "name": "stdout",
     "output_type": "stream",
     "text": [
      "Collecting selenium==4.3.0\n",
      "  Using cached selenium-4.3.0-py3-none-any.whl (981 kB)\n",
      "Collecting trio~=0.17\n",
      "  Using cached trio-0.21.0-py3-none-any.whl (358 kB)\n",
      "Collecting urllib3[secure,socks]~=1.26\n",
      "  Using cached urllib3-1.26.11-py2.py3-none-any.whl (139 kB)\n",
      "Collecting trio-websocket~=0.9\n",
      "  Using cached trio_websocket-0.9.2-py3-none-any.whl (16 kB)\n",
      "Collecting async-generator>=1.9\n",
      "  Using cached async_generator-1.10-py3-none-any.whl (18 kB)\n",
      "Collecting outcome\n",
      "  Using cached outcome-1.2.0-py2.py3-none-any.whl (9.7 kB)\n",
      "Collecting attrs>=19.2.0\n",
      "  Downloading attrs-22.1.0-py2.py3-none-any.whl (58 kB)\n",
      "\u001b[K     |████████████████████████████████| 58 kB 935 kB/s eta 0:00:01\n",
      "\u001b[?25hCollecting idna\n",
      "  Using cached idna-3.3-py3-none-any.whl (61 kB)\n",
      "Collecting sortedcontainers\n",
      "  Using cached sortedcontainers-2.4.0-py2.py3-none-any.whl (29 kB)\n",
      "Collecting sniffio\n",
      "  Using cached sniffio-1.2.0-py3-none-any.whl (10 kB)\n",
      "Collecting wsproto>=0.14\n",
      "  Using cached wsproto-1.1.0-py3-none-any.whl (24 kB)\n",
      "Collecting PySocks!=1.5.7,<2.0,>=1.5.6\n",
      "  Using cached PySocks-1.7.1-py3-none-any.whl (16 kB)\n",
      "Collecting certifi\n",
      "  Using cached certifi-2022.6.15-py3-none-any.whl (160 kB)\n",
      "Collecting cryptography>=1.3.4\n",
      "  Using cached cryptography-37.0.4-cp36-abi3-manylinux_2_24_x86_64.whl (4.1 MB)\n",
      "Collecting pyOpenSSL>=0.14\n",
      "  Using cached pyOpenSSL-22.0.0-py2.py3-none-any.whl (55 kB)\n",
      "Collecting cffi>=1.12\n",
      "  Using cached cffi-1.15.1-cp37-cp37m-manylinux_2_17_x86_64.manylinux2014_x86_64.whl (427 kB)\n",
      "Collecting pycparser\n",
      "  Using cached pycparser-2.21-py2.py3-none-any.whl (118 kB)\n",
      "Collecting h11<1,>=0.9.0\n",
      "  Using cached h11-0.13.0-py3-none-any.whl (58 kB)\n",
      "Collecting typing-extensions\n",
      "  Using cached typing_extensions-4.3.0-py3-none-any.whl (25 kB)\n",
      "Installing collected packages: pycparser, typing-extensions, cffi, attrs, sortedcontainers, sniffio, outcome, idna, h11, cryptography, async-generator, wsproto, urllib3, trio, PySocks, pyOpenSSL, certifi, trio-websocket, selenium\n",
      "  Attempting uninstall: pycparser\n",
      "    Found existing installation: pycparser 2.21\n",
      "    Uninstalling pycparser-2.21:\n",
      "      Successfully uninstalled pycparser-2.21\n",
      "  Attempting uninstall: typing-extensions\n",
      "    Found existing installation: typing-extensions 4.3.0\n",
      "    Uninstalling typing-extensions-4.3.0:\n",
      "      Successfully uninstalled typing-extensions-4.3.0\n",
      "  Attempting uninstall: cffi\n",
      "    Found existing installation: cffi 1.15.1\n",
      "    Uninstalling cffi-1.15.1:\n",
      "      Successfully uninstalled cffi-1.15.1\n",
      "  Attempting uninstall: attrs\n",
      "    Found existing installation: attrs 21.4.0\n",
      "    Uninstalling attrs-21.4.0:\n",
      "      Successfully uninstalled attrs-21.4.0\n",
      "  Attempting uninstall: sortedcontainers\n",
      "    Found existing installation: sortedcontainers 2.4.0\n",
      "    Uninstalling sortedcontainers-2.4.0:\n",
      "      Successfully uninstalled sortedcontainers-2.4.0\n",
      "  Attempting uninstall: sniffio\n",
      "    Found existing installation: sniffio 1.2.0\n",
      "    Uninstalling sniffio-1.2.0:\n",
      "      Successfully uninstalled sniffio-1.2.0\n",
      "  Attempting uninstall: outcome\n",
      "    Found existing installation: outcome 1.2.0\n",
      "    Uninstalling outcome-1.2.0:\n",
      "      Successfully uninstalled outcome-1.2.0\n",
      "  Attempting uninstall: idna\n",
      "    Found existing installation: idna 3.3\n",
      "    Uninstalling idna-3.3:\n",
      "      Successfully uninstalled idna-3.3\n",
      "  Attempting uninstall: h11\n",
      "    Found existing installation: h11 0.13.0\n",
      "    Uninstalling h11-0.13.0:\n",
      "      Successfully uninstalled h11-0.13.0\n",
      "  Attempting uninstall: cryptography\n",
      "    Found existing installation: cryptography 37.0.4\n",
      "    Uninstalling cryptography-37.0.4:\n",
      "      Successfully uninstalled cryptography-37.0.4\n",
      "  Attempting uninstall: async-generator\n",
      "    Found existing installation: async-generator 1.10\n",
      "    Uninstalling async-generator-1.10:\n",
      "      Successfully uninstalled async-generator-1.10\n",
      "  Attempting uninstall: wsproto\n",
      "    Found existing installation: wsproto 1.1.0\n",
      "    Uninstalling wsproto-1.1.0:\n",
      "      Successfully uninstalled wsproto-1.1.0\n",
      "  Attempting uninstall: urllib3\n",
      "    Found existing installation: urllib3 1.26.11\n",
      "    Uninstalling urllib3-1.26.11:\n",
      "      Successfully uninstalled urllib3-1.26.11\n",
      "  Attempting uninstall: trio\n",
      "    Found existing installation: trio 0.21.0\n",
      "    Uninstalling trio-0.21.0:\n",
      "      Successfully uninstalled trio-0.21.0\n",
      "  Attempting uninstall: PySocks\n",
      "    Found existing installation: PySocks 1.7.1\n",
      "    Uninstalling PySocks-1.7.1:\n",
      "      Successfully uninstalled PySocks-1.7.1\n",
      "  Attempting uninstall: pyOpenSSL\n",
      "    Found existing installation: pyOpenSSL 22.0.0\n",
      "    Uninstalling pyOpenSSL-22.0.0:\n",
      "      Successfully uninstalled pyOpenSSL-22.0.0\n",
      "  Attempting uninstall: certifi\n",
      "    Found existing installation: certifi 2022.6.15\n",
      "    Uninstalling certifi-2022.6.15:\n",
      "      Successfully uninstalled certifi-2022.6.15\n",
      "  Attempting uninstall: trio-websocket\n",
      "    Found existing installation: trio-websocket 0.9.2\n",
      "    Uninstalling trio-websocket-0.9.2:\n",
      "      Successfully uninstalled trio-websocket-0.9.2\n",
      "  Attempting uninstall: selenium\n",
      "    Found existing installation: selenium 4.3.0\n",
      "    Uninstalling selenium-4.3.0:\n",
      "      Successfully uninstalled selenium-4.3.0\n",
      "\u001b[31mERROR: pip's dependency resolver does not currently take into account all the packages that are installed. This behaviour is the source of the following dependency conflicts.\n",
      "conda-repo-cli 1.0.4 requires pathlib, which is not installed.\n",
      "anaconda-project 0.10.2 requires ruamel-yaml, which is not installed.\u001b[0m\n",
      "Successfully installed PySocks-1.7.1 async-generator-1.10 attrs-22.1.0 certifi-2022.6.15 cffi-1.15.1 cryptography-37.0.4 h11-0.13.0 idna-3.3 outcome-1.2.0 pyOpenSSL-22.0.0 pycparser-2.21 selenium-4.3.0 sniffio-1.2.0 sortedcontainers-2.4.0 trio-0.21.0 trio-websocket-0.9.2 typing-extensions-4.3.0 urllib3-1.26.11 wsproto-1.1.0\n"
     ]
    }
   ],
   "source": [
    "!pip install selenium==4.3.0 --force-reinstall  #installing selenium library"
   ]
  },
  {
   "cell_type": "code",
   "execution_count": 1043,
   "metadata": {
    "id": "RpLvkbrb5zP5"
   },
   "outputs": [],
   "source": [
    "#import all required libraries\n",
    "import selenium\n",
    "from selenium import webdriver\n",
    "from selenium.webdriver.common.by import By\n",
    "import pandas as pd\n",
    "import time\n",
    "import warnings\n",
    "warnings.filterwarnings(\"ignore\")\n",
    "\n",
    "from selenium.common.exceptions import NoSuchElementException"
   ]
  },
  {
   "cell_type": "code",
   "execution_count": 241,
   "metadata": {
    "colab": {
     "base_uri": "https://localhost:8080/",
     "height": 130
    },
    "id": "JmA4XgIw67Rr",
    "outputId": "ef461702-bc82-4880-c7f3-95a2d6c55cf8"
   },
   "outputs": [],
   "source": [
    "#connecting to webdriver\n",
    "driver = webdriver.Chrome('chromedriver')"
   ]
  },
  {
   "cell_type": "code",
   "execution_count": 242,
   "metadata": {
    "id": "NrwIbzwc-WR4"
   },
   "outputs": [],
   "source": [
    "url = 'https://www.amazon.in'\n",
    "driver.get(url)"
   ]
  },
  {
   "cell_type": "code",
   "execution_count": 243,
   "metadata": {},
   "outputs": [
    {
     "name": "stdout",
     "output_type": "stream",
     "text": [
      "Please input the product you want to search\n",
      "guitar\n"
     ]
    }
   ],
   "source": [
    "#Taking input from user\n",
    "print(\"Please input the product you want to search\")\n",
    "string = input()"
   ]
  },
  {
   "cell_type": "code",
   "execution_count": 244,
   "metadata": {},
   "outputs": [
    {
     "data": {
      "text/plain": [
       "<selenium.webdriver.remote.webelement.WebElement (session=\"072fc0a7d6f78a59c15b6e4eb1aea1bb\", element=\"6297cc49-01f1-4e60-a563-c296adcfb6de\")>"
      ]
     },
     "execution_count": 244,
     "metadata": {},
     "output_type": "execute_result"
    }
   ],
   "source": [
    "#Finding web element for Product search bar\n",
    "search_pro = driver.find_element(By.XPATH,\"/html/body/div[1]/header/div/div[1]/div[2]/div/form/div[2]/div[1]/input\")\n",
    "search_pro"
   ]
  },
  {
   "cell_type": "code",
   "execution_count": 245,
   "metadata": {},
   "outputs": [],
   "source": [
    "#Write on search bar\n",
    "search_pro.send_keys(string)"
   ]
  },
  {
   "cell_type": "code",
   "execution_count": 246,
   "metadata": {},
   "outputs": [
    {
     "data": {
      "text/plain": [
       "<selenium.webdriver.remote.webelement.WebElement (session=\"072fc0a7d6f78a59c15b6e4eb1aea1bb\", element=\"2b3f45eb-5bee-473c-8d0c-11c5f8b49c33\")>"
      ]
     },
     "execution_count": 246,
     "metadata": {},
     "output_type": "execute_result"
    }
   ],
   "source": [
    "#Finding web element for search button\n",
    "search_but = driver.find_element(By.XPATH,\"/html/body/div[1]/header/div/div[1]/div[2]/div/form/div[3]/div/span/input\")\n",
    "search_but"
   ]
  },
  {
   "cell_type": "code",
   "execution_count": 247,
   "metadata": {},
   "outputs": [],
   "source": [
    "#Clicking search button\n",
    "search_but.click()"
   ]
  },
  {
   "cell_type": "markdown",
   "metadata": {},
   "source": [
    " "
   ]
  },
  {
   "cell_type": "markdown",
   "metadata": {},
   "source": [
    "# Q2. Now scrape the following details of each product listed in first 3 pages of your search results from above question"
   ]
  },
  {
   "cell_type": "code",
   "execution_count": 248,
   "metadata": {},
   "outputs": [],
   "source": [
    "#Tags extracted from amazon page with multiple products\n",
    "url = []"
   ]
  },
  {
   "cell_type": "code",
   "execution_count": 249,
   "metadata": {},
   "outputs": [],
   "source": [
    "#Fetching url to open each description page from page 0 to 2\n",
    "\n",
    "start=0\n",
    "end=3\n",
    "for page in range(start,end):\n",
    "    \n",
    "    #extracting url tags\n",
    "    url_tags= driver.find_elements(By.XPATH, '//a[@class=\"a-link-normal s-no-outline\"]')\n",
    "    for i in url_tags:\n",
    "        url.append(i.get_attribute('href'))\n",
    "        \n",
    "    time.sleep(4)\n",
    "    if page<2: #For pressing next button and going page 0 to 1 and again 1 to 2\n",
    "        button = driver.find_element(By.XPATH,'//a[@class=\"s-pagination-item s-pagination-next s-pagination-button s-pagination-separator\"]')\n",
    "        button.click()\n",
    "    else: #For pressing previous button 2 times continously (2 to 1 and then 1 to 0) and going page 2 to 0\n",
    "        button = driver.find_element(By.XPATH,'//a[@class=\"s-pagination-item s-pagination-previous s-pagination-button s-pagination-separator\"]')\n",
    "        button.click() #page 2 to1\n",
    "        time.sleep(5)\n",
    "        \n",
    "        button = driver.find_element(By.XPATH,'//a[@class=\"s-pagination-item s-pagination-previous s-pagination-button s-pagination-separator\"]')\n",
    "        button.click() #page 1 to 0\n",
    "    time.sleep(4)"
   ]
  },
  {
   "cell_type": "code",
   "execution_count": 250,
   "metadata": {},
   "outputs": [],
   "source": [
    "#Tags extracted from inside each product page\n",
    "brand = []\n",
    "ret = []\n",
    "avail = []\n",
    "name = []\n",
    "price = []\n",
    "delivery = []"
   ]
  },
  {
   "cell_type": "code",
   "execution_count": 251,
   "metadata": {},
   "outputs": [],
   "source": [
    "#let's extract all web elements having required parent tags and then extract required elements from them\n",
    "for i in url:\n",
    "    driver.get(i)\n",
    "    time.sleep(4)\n",
    "    \n",
    "    #Extracting Brand name from parent tag\n",
    "    try:\n",
    "        brand_tag = driver.find_element(By.XPATH,\"/html/body/div[2]/div[2]\")\n",
    "        lst = brand_tag.text.replace('\\n',' ').split(' ')\n",
    "        if lst.count(\"Brand\") > 0:\n",
    "            j = lst.index('Brand')\n",
    "            brand.append(lst[j+1:j+2][0]) #list element next to 'Brand' is brand name\n",
    "        else:\n",
    "            brand.append(\"-\")\n",
    "    except NoSuchElementException:\n",
    "        brand.append(\"-\")\n",
    "    \n",
    "    #Extracting Return/Exchange from parent tag\n",
    "    try:\n",
    "        ret_tag = driver.find_elements(By.XPATH,'//a[@class=\"a-size-small a-link-normal a-text-normal\"]')\n",
    "        ret.append(ret_tag[1].text)\n",
    "    except NoSuchElementException:\n",
    "        ret.append(\"-\")\n",
    "    \n",
    "    #Extracting Product name from parent tag\n",
    "    try:\n",
    "        name_tag = driver.find_element(By.XPATH,'//span[@class=\"a-size-large product-title-word-break\"]')\n",
    "        name.append(name_tag.text)\n",
    "    except NoSuchElementException:\n",
    "        name.append(\"-\")\n",
    "    \n",
    "    time.sleep(3)\n",
    "    \n",
    "    #Extracting Price from parent tag\n",
    "    try:\n",
    "        price_tag = driver.find_element(By.XPATH,'//span[@class=\"a-price aok-align-center\" or @class=\"a-price a-text-price a-size-medium\"]')\n",
    "        price.append(price_tag.text.split(\"\\n\")[0])\n",
    "    except NoSuchElementException:\n",
    "        price.append(\"-\")\n",
    "    \n",
    "    #Extracting Expected Delivery from parent tag\n",
    "    try:\n",
    "        delivery_tag = driver.find_elements(By.XPATH,'//div[@class=\"a-spacing-base\"]')\n",
    "        delivery.append(delivery_tag[1].text.split(\".\")[0])\n",
    "    except NoSuchElementException:\n",
    "        delivery.append(\"-\")\n",
    "    \n",
    "    #Extracting Availability status from parent tag\n",
    "    try:\n",
    "        avail_tag = driver.find_element(By.XPATH,'//div[@class=\"a-section a-spacing-none }\"]')\n",
    "        avail.append(avail_tag.text)\n",
    "        time.sleep(6)\n",
    "    except NoSuchElementException:\n",
    "        avail.append(\"-\")\n",
    "        time.sleep(6)"
   ]
  },
  {
   "cell_type": "code",
   "execution_count": 252,
   "metadata": {},
   "outputs": [
    {
     "data": {
      "text/plain": [
       "184"
      ]
     },
     "execution_count": 252,
     "metadata": {},
     "output_type": "execute_result"
    }
   ],
   "source": [
    "len(delivery)"
   ]
  },
  {
   "cell_type": "code",
   "execution_count": 253,
   "metadata": {},
   "outputs": [
    {
     "data": {
      "text/plain": [
       "184"
      ]
     },
     "execution_count": 253,
     "metadata": {},
     "output_type": "execute_result"
    }
   ],
   "source": [
    "len(price)"
   ]
  },
  {
   "cell_type": "code",
   "execution_count": 254,
   "metadata": {},
   "outputs": [
    {
     "data": {
      "text/plain": [
       "184"
      ]
     },
     "execution_count": 254,
     "metadata": {},
     "output_type": "execute_result"
    }
   ],
   "source": [
    "len(name)"
   ]
  },
  {
   "cell_type": "code",
   "execution_count": 255,
   "metadata": {},
   "outputs": [
    {
     "data": {
      "text/plain": [
       "184"
      ]
     },
     "execution_count": 255,
     "metadata": {},
     "output_type": "execute_result"
    }
   ],
   "source": [
    "len(avail)"
   ]
  },
  {
   "cell_type": "code",
   "execution_count": 256,
   "metadata": {},
   "outputs": [
    {
     "data": {
      "text/plain": [
       "184"
      ]
     },
     "execution_count": 256,
     "metadata": {},
     "output_type": "execute_result"
    }
   ],
   "source": [
    "len(ret)"
   ]
  },
  {
   "cell_type": "code",
   "execution_count": 257,
   "metadata": {},
   "outputs": [
    {
     "data": {
      "text/plain": [
       "184"
      ]
     },
     "execution_count": 257,
     "metadata": {},
     "output_type": "execute_result"
    }
   ],
   "source": [
    "len(url)"
   ]
  },
  {
   "cell_type": "code",
   "execution_count": 264,
   "metadata": {},
   "outputs": [
    {
     "data": {
      "text/html": [
       "<div>\n",
       "<style scoped>\n",
       "    .dataframe tbody tr th:only-of-type {\n",
       "        vertical-align: middle;\n",
       "    }\n",
       "\n",
       "    .dataframe tbody tr th {\n",
       "        vertical-align: top;\n",
       "    }\n",
       "\n",
       "    .dataframe thead th {\n",
       "        text-align: right;\n",
       "    }\n",
       "</style>\n",
       "<table border=\"1\" class=\"dataframe\">\n",
       "  <thead>\n",
       "    <tr style=\"text-align: right;\">\n",
       "      <th></th>\n",
       "      <th>Brand Name</th>\n",
       "      <th>Name of Product</th>\n",
       "      <th>Price</th>\n",
       "      <th>Return/Exchange</th>\n",
       "      <th>Expected Delivery</th>\n",
       "      <th>Availability</th>\n",
       "      <th>Product URL</th>\n",
       "    </tr>\n",
       "  </thead>\n",
       "  <tbody>\n",
       "    <tr>\n",
       "      <th>0</th>\n",
       "      <td>Kadence</td>\n",
       "      <td>Kadence Frontier Series, Acoustic Guitar With/...</td>\n",
       "      <td>₹5,299</td>\n",
       "      <td>7 Days Replacement</td>\n",
       "      <td>FREE delivery Wednesday, August 3</td>\n",
       "      <td>In stock.</td>\n",
       "      <td>https://www.amazon.in/gp/slredirect/picassoRed...</td>\n",
       "    </tr>\n",
       "    <tr>\n",
       "      <th>1</th>\n",
       "      <td>Medellin</td>\n",
       "      <td>Medellin 38\" Acoustic Guitar Carbon Fiber body...</td>\n",
       "      <td>₹2,499</td>\n",
       "      <td>7 Days Replacement</td>\n",
       "      <td>FREE delivery Friday, August 5</td>\n",
       "      <td>In stock.</td>\n",
       "      <td>https://www.amazon.in/gp/slredirect/picassoRed...</td>\n",
       "    </tr>\n",
       "    <tr>\n",
       "      <th>2</th>\n",
       "      <td>Kadence</td>\n",
       "      <td>Kadence Frontier Jumbo Semi Acoustic Guitar Wi...</td>\n",
       "      <td>₹7,348</td>\n",
       "      <td>7 Days Replacement</td>\n",
       "      <td>FREE delivery Friday, August 5</td>\n",
       "      <td>In stock.</td>\n",
       "      <td>https://www.amazon.in/gp/slredirect/picassoRed...</td>\n",
       "    </tr>\n",
       "    <tr>\n",
       "      <th>3</th>\n",
       "      <td>Samara</td>\n",
       "      <td>Samara SA41 BK 41\" Cutaway Acoustic Guitar</td>\n",
       "      <td>₹5,700</td>\n",
       "      <td>7 Days Replacement</td>\n",
       "      <td></td>\n",
       "      <td>Only 2 left in stock.</td>\n",
       "      <td>https://www.amazon.in/gp/slredirect/picassoRed...</td>\n",
       "    </tr>\n",
       "    <tr>\n",
       "      <th>4</th>\n",
       "      <td>Juârez</td>\n",
       "      <td>Juârez Acoustic Guitar, 38 Inch Cutaway, 038C ...</td>\n",
       "      <td>₹2,099</td>\n",
       "      <td>7 Days Replacement</td>\n",
       "      <td>FREE delivery Thursday, August 4</td>\n",
       "      <td>In stock.</td>\n",
       "      <td>https://www.amazon.in/Juarez-Acoustic-Cutaway-...</td>\n",
       "    </tr>\n",
       "    <tr>\n",
       "      <th>...</th>\n",
       "      <td>...</td>\n",
       "      <td>...</td>\n",
       "      <td>...</td>\n",
       "      <td>...</td>\n",
       "      <td>...</td>\n",
       "      <td>...</td>\n",
       "      <td>...</td>\n",
       "    </tr>\n",
       "    <tr>\n",
       "      <th>179</th>\n",
       "      <td>YAMAHA</td>\n",
       "      <td>Yamaha F310, 6-Strings Acoustic Guitar Bundle ...</td>\n",
       "      <td>₹10,790</td>\n",
       "      <td>7 Days Replacement</td>\n",
       "      <td>FREE delivery Saturday, August 6</td>\n",
       "      <td>In stock.</td>\n",
       "      <td>https://www.amazon.in/Yamaha-F310-6-Strings-Ac...</td>\n",
       "    </tr>\n",
       "    <tr>\n",
       "      <th>180</th>\n",
       "      <td>-</td>\n",
       "      <td>Right Search ® Dancing Cactus and Guitar Set_CG11</td>\n",
       "      <td>₹1,399</td>\n",
       "      <td>Amazon Delivered</td>\n",
       "      <td>FREE delivery Tomorrow, August 2</td>\n",
       "      <td>In stock.</td>\n",
       "      <td>https://www.amazon.in/gp/slredirect/picassoRed...</td>\n",
       "    </tr>\n",
       "    <tr>\n",
       "      <th>181</th>\n",
       "      <td>YAMAHA</td>\n",
       "      <td>yamaha acoustic guitar F310, 6-Strings Acousti...</td>\n",
       "      <td>₹10,250</td>\n",
       "      <td>-</td>\n",
       "      <td>The selected seller cannot deliver the item to...</td>\n",
       "      <td>Only 1 left in stock.</td>\n",
       "      <td>https://www.amazon.in/gp/slredirect/picassoRed...</td>\n",
       "    </tr>\n",
       "    <tr>\n",
       "      <th>182</th>\n",
       "      <td>Blueberry</td>\n",
       "      <td>Blueberry 38C, 38\" Acoustic Guitar Kit with Ba...</td>\n",
       "      <td>₹2,695</td>\n",
       "      <td>7 Days Replacement</td>\n",
       "      <td>FREE delivery Friday, August 5</td>\n",
       "      <td>In stock.</td>\n",
       "      <td>https://www.amazon.in/gp/slredirect/picassoRed...</td>\n",
       "    </tr>\n",
       "    <tr>\n",
       "      <th>183</th>\n",
       "      <td>OCTAVE</td>\n",
       "      <td>Octave Guitars</td>\n",
       "      <td>₹4,800</td>\n",
       "      <td>Amazon Delivered</td>\n",
       "      <td>₹100 delivery Sunday, August 7</td>\n",
       "      <td>Only 1 left in stock.</td>\n",
       "      <td>https://www.amazon.in/gp/slredirect/picassoRed...</td>\n",
       "    </tr>\n",
       "  </tbody>\n",
       "</table>\n",
       "<p>184 rows × 7 columns</p>\n",
       "</div>"
      ],
      "text/plain": [
       "    Brand Name                                    Name of Product    Price  \\\n",
       "0      Kadence  Kadence Frontier Series, Acoustic Guitar With/...   ₹5,299   \n",
       "1     Medellin  Medellin 38\" Acoustic Guitar Carbon Fiber body...   ₹2,499   \n",
       "2      Kadence  Kadence Frontier Jumbo Semi Acoustic Guitar Wi...   ₹7,348   \n",
       "3       Samara         Samara SA41 BK 41\" Cutaway Acoustic Guitar   ₹5,700   \n",
       "4       Juârez  Juârez Acoustic Guitar, 38 Inch Cutaway, 038C ...   ₹2,099   \n",
       "..         ...                                                ...      ...   \n",
       "179     YAMAHA  Yamaha F310, 6-Strings Acoustic Guitar Bundle ...  ₹10,790   \n",
       "180          -  Right Search ® Dancing Cactus and Guitar Set_CG11   ₹1,399   \n",
       "181     YAMAHA  yamaha acoustic guitar F310, 6-Strings Acousti...  ₹10,250   \n",
       "182  Blueberry  Blueberry 38C, 38\" Acoustic Guitar Kit with Ba...   ₹2,695   \n",
       "183     OCTAVE                                     Octave Guitars   ₹4,800   \n",
       "\n",
       "        Return/Exchange                                  Expected Delivery  \\\n",
       "0    7 Days Replacement                  FREE delivery Wednesday, August 3   \n",
       "1    7 Days Replacement                     FREE delivery Friday, August 5   \n",
       "2    7 Days Replacement                     FREE delivery Friday, August 5   \n",
       "3    7 Days Replacement                                                      \n",
       "4    7 Days Replacement                   FREE delivery Thursday, August 4   \n",
       "..                  ...                                                ...   \n",
       "179  7 Days Replacement                   FREE delivery Saturday, August 6   \n",
       "180    Amazon Delivered                   FREE delivery Tomorrow, August 2   \n",
       "181                   -  The selected seller cannot deliver the item to...   \n",
       "182  7 Days Replacement                     FREE delivery Friday, August 5   \n",
       "183    Amazon Delivered                     ₹100 delivery Sunday, August 7   \n",
       "\n",
       "              Availability                                        Product URL  \n",
       "0                In stock.  https://www.amazon.in/gp/slredirect/picassoRed...  \n",
       "1                In stock.  https://www.amazon.in/gp/slredirect/picassoRed...  \n",
       "2                In stock.  https://www.amazon.in/gp/slredirect/picassoRed...  \n",
       "3    Only 2 left in stock.  https://www.amazon.in/gp/slredirect/picassoRed...  \n",
       "4                In stock.  https://www.amazon.in/Juarez-Acoustic-Cutaway-...  \n",
       "..                     ...                                                ...  \n",
       "179              In stock.  https://www.amazon.in/Yamaha-F310-6-Strings-Ac...  \n",
       "180              In stock.  https://www.amazon.in/gp/slredirect/picassoRed...  \n",
       "181  Only 1 left in stock.  https://www.amazon.in/gp/slredirect/picassoRed...  \n",
       "182              In stock.  https://www.amazon.in/gp/slredirect/picassoRed...  \n",
       "183  Only 1 left in stock.  https://www.amazon.in/gp/slredirect/picassoRed...  \n",
       "\n",
       "[184 rows x 7 columns]"
      ]
     },
     "execution_count": 264,
     "metadata": {},
     "output_type": "execute_result"
    }
   ],
   "source": [
    "product = pd.DataFrame()\n",
    "product['Brand Name'] = brand\n",
    "product['Name of Product'] = name\n",
    "product['Price'] = price\n",
    "product['Return/Exchange'] = ret\n",
    "product['Expected Delivery'] = delivery\n",
    "product['Availability'] = avail\n",
    "product['Product URL'] = url\n",
    "product"
   ]
  },
  {
   "cell_type": "code",
   "execution_count": 265,
   "metadata": {},
   "outputs": [],
   "source": [
    "#Creating csv file\n",
    "product.to_csv('Web_scraping_assignment_3_q2.csv')"
   ]
  },
  {
   "cell_type": "code",
   "execution_count": 266,
   "metadata": {},
   "outputs": [],
   "source": [
    "driver.close()"
   ]
  },
  {
   "cell_type": "markdown",
   "metadata": {},
   "source": [
    " "
   ]
  },
  {
   "cell_type": "markdown",
   "metadata": {},
   "source": [
    "# Q3. Python program to access the search bar and search button on images.google.com and scrape 10 images each for keywords ‘fruits’, ‘cars’ and ‘Machine Learning’, ‘Guitar’, ‘Cakes’"
   ]
  },
  {
   "cell_type": "code",
   "execution_count": 456,
   "metadata": {},
   "outputs": [
    {
     "name": "stdout",
     "output_type": "stream",
     "text": [
      "Collecting Selenium-Screenshot\n",
      "  Downloading Selenium_Screenshot-2.0.0-py3-none-any.whl (7.6 kB)\n",
      "Requirement already satisfied: Pillow in /home/dell/anaconda3/lib/python3.7/site-packages (from Selenium-Screenshot) (8.4.0)\n",
      "Requirement already satisfied: selenium in /home/dell/anaconda3/lib/python3.7/site-packages (from Selenium-Screenshot) (4.3.0)\n",
      "Requirement already satisfied: trio-websocket~=0.9 in /home/dell/anaconda3/lib/python3.7/site-packages (from selenium->Selenium-Screenshot) (0.9.2)\n",
      "Requirement already satisfied: trio~=0.17 in /home/dell/anaconda3/lib/python3.7/site-packages (from selenium->Selenium-Screenshot) (0.21.0)\n",
      "Requirement already satisfied: urllib3[secure,socks]~=1.26 in /home/dell/anaconda3/lib/python3.7/site-packages (from selenium->Selenium-Screenshot) (1.26.11)\n",
      "Requirement already satisfied: attrs>=19.2.0 in /home/dell/anaconda3/lib/python3.7/site-packages (from trio~=0.17->selenium->Selenium-Screenshot) (22.1.0)\n",
      "Requirement already satisfied: idna in /home/dell/anaconda3/lib/python3.7/site-packages (from trio~=0.17->selenium->Selenium-Screenshot) (3.3)\n",
      "Requirement already satisfied: sortedcontainers in /home/dell/anaconda3/lib/python3.7/site-packages (from trio~=0.17->selenium->Selenium-Screenshot) (2.4.0)\n",
      "Requirement already satisfied: async-generator>=1.9 in /home/dell/anaconda3/lib/python3.7/site-packages (from trio~=0.17->selenium->Selenium-Screenshot) (1.10)\n",
      "Requirement already satisfied: outcome in /home/dell/anaconda3/lib/python3.7/site-packages (from trio~=0.17->selenium->Selenium-Screenshot) (1.2.0)\n",
      "Requirement already satisfied: sniffio in /home/dell/anaconda3/lib/python3.7/site-packages (from trio~=0.17->selenium->Selenium-Screenshot) (1.2.0)\n",
      "Requirement already satisfied: wsproto>=0.14 in /home/dell/anaconda3/lib/python3.7/site-packages (from trio-websocket~=0.9->selenium->Selenium-Screenshot) (1.1.0)\n",
      "Requirement already satisfied: PySocks!=1.5.7,<2.0,>=1.5.6 in /home/dell/anaconda3/lib/python3.7/site-packages (from urllib3[secure,socks]~=1.26->selenium->Selenium-Screenshot) (1.7.1)\n",
      "Requirement already satisfied: pyOpenSSL>=0.14 in /home/dell/anaconda3/lib/python3.7/site-packages (from urllib3[secure,socks]~=1.26->selenium->Selenium-Screenshot) (22.0.0)\n",
      "Requirement already satisfied: certifi in /home/dell/anaconda3/lib/python3.7/site-packages (from urllib3[secure,socks]~=1.26->selenium->Selenium-Screenshot) (2022.6.15)\n",
      "Requirement already satisfied: cryptography>=1.3.4 in /home/dell/anaconda3/lib/python3.7/site-packages (from urllib3[secure,socks]~=1.26->selenium->Selenium-Screenshot) (37.0.4)\n",
      "Requirement already satisfied: cffi>=1.12 in /home/dell/anaconda3/lib/python3.7/site-packages (from cryptography>=1.3.4->urllib3[secure,socks]~=1.26->selenium->Selenium-Screenshot) (1.15.1)\n",
      "Requirement already satisfied: pycparser in /home/dell/anaconda3/lib/python3.7/site-packages (from cffi>=1.12->cryptography>=1.3.4->urllib3[secure,socks]~=1.26->selenium->Selenium-Screenshot) (2.21)\n",
      "Requirement already satisfied: h11<1,>=0.9.0 in /home/dell/anaconda3/lib/python3.7/site-packages (from wsproto>=0.14->trio-websocket~=0.9->selenium->Selenium-Screenshot) (0.13.0)\n",
      "Requirement already satisfied: typing-extensions in /home/dell/anaconda3/lib/python3.7/site-packages (from h11<1,>=0.9.0->wsproto>=0.14->trio-websocket~=0.9->selenium->Selenium-Screenshot) (4.3.0)\n",
      "Installing collected packages: Selenium-Screenshot\n",
      "Successfully installed Selenium-Screenshot-2.0.0\n"
     ]
    }
   ],
   "source": [
    "!pip3 install Selenium-Screenshot"
   ]
  },
  {
   "cell_type": "code",
   "execution_count": 525,
   "metadata": {},
   "outputs": [],
   "source": [
    "#To open webdriver in incognito mode\n",
    "chrome_options = webdriver.ChromeOptions()\n",
    "chrome_options.add_argument(\"--incognito\")"
   ]
  },
  {
   "cell_type": "code",
   "execution_count": 526,
   "metadata": {},
   "outputs": [],
   "source": [
    "#connecting to webdriver\n",
    "driver = webdriver.Chrome(chrome_options=chrome_options)"
   ]
  },
  {
   "cell_type": "code",
   "execution_count": 527,
   "metadata": {},
   "outputs": [],
   "source": [
    "url = 'https://images.google.com/'\n",
    "driver.get(url)"
   ]
  },
  {
   "cell_type": "code",
   "execution_count": 528,
   "metadata": {},
   "outputs": [],
   "source": [
    "#Function to be used for images list from (cars to Cakes) \n",
    "def search(image_name):\n",
    "    \n",
    "    #Finding web element for search space\n",
    "    search_img = driver.find_element(By.XPATH,\"/html/body/c-wiz/c-wiz/div/div[3]/div[2]/div/div[1]/form/div[1]/div[2]/div/div[2]/input\")\n",
    "    search_img.clear()\n",
    "    \n",
    "    #Write on search bar\n",
    "    search_img.send_keys(image_name)\n",
    "    \n",
    "    #Finding web element for search button\n",
    "    search_but = driver.find_element(By.XPATH,\"/html/body/c-wiz/c-wiz/div/div[3]/div[2]/div/div[1]/form/div[1]/div[2]/button/div\")\n",
    "    search_but\n",
    "    \n",
    "    #Clicking search button\n",
    "    search_but.click()\n",
    "    time.sleep(6)"
   ]
  },
  {
   "cell_type": "code",
   "execution_count": 529,
   "metadata": {},
   "outputs": [],
   "source": [
    "#For searching first element of image list i.e. fruits \n",
    "#Finding web element for search space\n",
    "search_img = driver.find_element(By.XPATH,\"/html/body/div[1]/div[3]/form/div[1]/div[1]/div[1]/div/div[2]/input\")\n",
    "search_img\n",
    "\n",
    "#Write on search bar for first image name\n",
    "search_img.send_keys(\"fruits\")\n",
    "    \n",
    "#Finding web element for search button\n",
    "search_but = driver.find_element(By.XPATH,\"/html/body/div[1]/div[3]/form/div[1]/div[1]/div[1]/button/div\")\n",
    "search_but\n",
    "    \n",
    "#Clicking search button\n",
    "search_but.click()\n",
    "time.sleep(6)"
   ]
  },
  {
   "cell_type": "code",
   "execution_count": 531,
   "metadata": {},
   "outputs": [],
   "source": [
    "#Creating list of image names\n",
    "images = [\"fruits\",\"cars\",\"Machine Learning\",\"Guitar\",\"Cakes\"]"
   ]
  },
  {
   "cell_type": "code",
   "execution_count": 532,
   "metadata": {},
   "outputs": [],
   "source": [
    "#For images of first element of image list i.e. fruits \n",
    "source_tag = driver.find_elements(By.XPATH, '//img[@jsname=\"Q4LuWd\"]')\n",
    "for ig in source_tag:\n",
    "    try:\n",
    "        if i < 10:\n",
    "            source.append(ig.get_attribute('src'))\n",
    "            i=i+1\n",
    "    except:\n",
    "        pass\n",
    "    \n",
    "    # Scroll down to bottom\n",
    "    driver.execute_script(\"window.scrollTo(0, document.body.scrollHeight);\")\n",
    "\n",
    "    # Wait to load page\n",
    "    time.sleep(2)"
   ]
  },
  {
   "cell_type": "code",
   "execution_count": 533,
   "metadata": {},
   "outputs": [],
   "source": [
    "#For images of images list from (cars to Cakes)\n",
    "for img in images[1:5]:\n",
    "    source_tag=[]\n",
    "    k = 0\n",
    "    search(img)\n",
    "    source_tag = driver.find_elements(By.XPATH, '//img[@jsname=\"Q4LuWd\"]')\n",
    "    try:\n",
    "        if k < 10:\n",
    "            source.append(source_tag[k].get_attribute('src'))\n",
    "            k=k+1\n",
    "    except:\n",
    "        pass\n",
    "    \n",
    "    # Scroll down to bottom\n",
    "    driver.execute_script(\"window.scrollTo(0, document.body.scrollHeight);\")\n",
    "\n",
    "    # Wait to load page\n",
    "    time.sleep(2)"
   ]
  },
  {
   "cell_type": "code",
   "execution_count": 535,
   "metadata": {},
   "outputs": [
    {
     "name": "stdout",
     "output_type": "stream",
     "text": [
      "Downloading 0 of 50 images\n",
      "Downloading 1 of 50 images\n",
      "Downloading 2 of 50 images\n",
      "Downloading 3 of 50 images\n",
      "Downloading 4 of 50 images\n",
      "Downloading 5 of 50 images\n",
      "Downloading 6 of 50 images\n",
      "Downloading 7 of 50 images\n",
      "Downloading 8 of 50 images\n",
      "Downloading 9 of 50 images\n",
      "Downloading 10 of 50 images\n",
      "Downloading 11 of 50 images\n",
      "Downloading 12 of 50 images\n",
      "Downloading 13 of 50 images\n",
      "Downloading 14 of 50 images\n",
      "Downloading 15 of 50 images\n",
      "Downloading 16 of 50 images\n",
      "Downloading 17 of 50 images\n",
      "Downloading 18 of 50 images\n",
      "Downloading 19 of 50 images\n",
      "Downloading 20 of 50 images\n",
      "Downloading 21 of 50 images\n",
      "Downloading 22 of 50 images\n",
      "Downloading 23 of 50 images\n",
      "Downloading 24 of 50 images\n",
      "Downloading 25 of 50 images\n",
      "Downloading 26 of 50 images\n",
      "Downloading 27 of 50 images\n",
      "Downloading 28 of 50 images\n",
      "Downloading 29 of 50 images\n",
      "Downloading 30 of 50 images\n",
      "Downloading 31 of 50 images\n",
      "Downloading 32 of 50 images\n",
      "Downloading 33 of 50 images\n",
      "Downloading 34 of 50 images\n",
      "Downloading 35 of 50 images\n",
      "Downloading 36 of 50 images\n",
      "Downloading 37 of 50 images\n",
      "Downloading 38 of 50 images\n",
      "Downloading 39 of 50 images\n",
      "Downloading 40 of 50 images\n",
      "Downloading 41 of 50 images\n",
      "Downloading 42 of 50 images\n",
      "Downloading 43 of 50 images\n",
      "Downloading 44 of 50 images\n",
      "Downloading 45 of 50 images\n",
      "Downloading 46 of 50 images\n",
      "Downloading 47 of 50 images\n",
      "Downloading 48 of 50 images\n",
      "Downloading 49 of 50 images\n"
     ]
    }
   ],
   "source": [
    "#Downloading all images using their source url\n",
    "for j in range(0,len(source)):\n",
    "    print(\"Downloading \"+ str(j) +\" of 50 images\")\n",
    "    driver.get(source[j])\n",
    "    driver.save_screenshot(str(images[int(j/10)])+str(j%10) + \".png\")"
   ]
  },
  {
   "cell_type": "markdown",
   "metadata": {},
   "source": [
    "#All 50 images (0 to 49) has been downloaded"
   ]
  },
  {
   "cell_type": "code",
   "execution_count": 536,
   "metadata": {},
   "outputs": [],
   "source": [
    "driver.quit()"
   ]
  },
  {
   "cell_type": "markdown",
   "metadata": {},
   "source": [
    " "
   ]
  },
  {
   "cell_type": "markdown",
   "metadata": {},
   "source": [
    "# Q4. Python program to search for a smartphone on www.flipkart.com"
   ]
  },
  {
   "cell_type": "code",
   "execution_count": 537,
   "metadata": {},
   "outputs": [],
   "source": [
    "#connecting to webdriver\n",
    "driver = webdriver.Chrome('chromedriver')"
   ]
  },
  {
   "cell_type": "code",
   "execution_count": 538,
   "metadata": {},
   "outputs": [],
   "source": [
    "url = 'https://www.flipkart.com/'\n",
    "driver.get(url)"
   ]
  },
  {
   "cell_type": "code",
   "execution_count": 539,
   "metadata": {},
   "outputs": [
    {
     "data": {
      "text/plain": [
       "<selenium.webdriver.remote.webelement.WebElement (session=\"0d9962985af4c1c93d6483b43e59f6c6\", element=\"09e1c05c-084e-4c15-a862-ad04f2383364\")>"
      ]
     },
     "execution_count": 539,
     "metadata": {},
     "output_type": "execute_result"
    }
   ],
   "source": [
    "#Finding web element for Product search bar\n",
    "search_pro = driver.find_element(By.XPATH,\"/html/body/div[1]/div/div[1]/div[1]/div[2]/div[2]/form/div/div/input\")\n",
    "search_pro"
   ]
  },
  {
   "cell_type": "code",
   "execution_count": 540,
   "metadata": {},
   "outputs": [],
   "source": [
    "#Write on search bar\n",
    "search_pro.send_keys(\"smartphone\")"
   ]
  },
  {
   "cell_type": "code",
   "execution_count": 541,
   "metadata": {},
   "outputs": [
    {
     "data": {
      "text/plain": [
       "<selenium.webdriver.remote.webelement.WebElement (session=\"0d9962985af4c1c93d6483b43e59f6c6\", element=\"252ee7b4-00cb-4e2d-88c3-2ece379fa24b\")>"
      ]
     },
     "execution_count": 541,
     "metadata": {},
     "output_type": "execute_result"
    }
   ],
   "source": [
    "#Finding web element for search button\n",
    "search_but = driver.find_element(By.XPATH,\"/html/body/div[1]/div/div[1]/div[1]/div[2]/div[2]/form/div/button\")\n",
    "search_but"
   ]
  },
  {
   "cell_type": "code",
   "execution_count": 542,
   "metadata": {},
   "outputs": [],
   "source": [
    "#Clicking search button\n",
    "search_but.click()"
   ]
  },
  {
   "cell_type": "code",
   "execution_count": 634,
   "metadata": {},
   "outputs": [
    {
     "data": {
      "text/plain": [
       "24"
      ]
     },
     "execution_count": 634,
     "metadata": {},
     "output_type": "execute_result"
    }
   ],
   "source": [
    "#let's extract all web elements having Brand Name as parent tag\n",
    "brand_tags = driver.find_elements(By.XPATH, '//div[@class=\"_4rR01T\"]')\n",
    "len(brand_tags)"
   ]
  },
  {
   "cell_type": "code",
   "execution_count": 635,
   "metadata": {},
   "outputs": [],
   "source": [
    "#extracting Brand names\n",
    "brand = []\n",
    "for i in brand_tags:\n",
    "    brand.append(i.text.split(\" \")[0])"
   ]
  },
  {
   "cell_type": "code",
   "execution_count": 636,
   "metadata": {},
   "outputs": [
    {
     "data": {
      "text/plain": [
       "24"
      ]
     },
     "execution_count": 636,
     "metadata": {},
     "output_type": "execute_result"
    }
   ],
   "source": [
    "#let's extract all web elements having Smartphone Name as parent tag\n",
    "name_tags = driver.find_elements(By.XPATH, '//div[@class=\"_4rR01T\"]')\n",
    "len(name_tags)"
   ]
  },
  {
   "cell_type": "code",
   "execution_count": 637,
   "metadata": {},
   "outputs": [],
   "source": [
    "#extracting Smartphone Colour\n",
    "name = []\n",
    "for i in name_tags:\n",
    "    name.append(i.text.split(\"(\")[0])"
   ]
  },
  {
   "cell_type": "code",
   "execution_count": 638,
   "metadata": {},
   "outputs": [
    {
     "data": {
      "text/plain": [
       "24"
      ]
     },
     "execution_count": 638,
     "metadata": {},
     "output_type": "execute_result"
    }
   ],
   "source": [
    "#let's extract all web elements having Smartphone Colour as parent tag\n",
    "colour_tags = driver.find_elements(By.XPATH, '//div[@class=\"_4rR01T\"]')\n",
    "len(colour_tags)"
   ]
  },
  {
   "cell_type": "code",
   "execution_count": 639,
   "metadata": {},
   "outputs": [],
   "source": [
    "#extracting Smartphone Colour\n",
    "colour = []\n",
    "for i in colour_tags:\n",
    "    colour.append(i.text.replace(\",\",\"(\").split(\"(\")[1])"
   ]
  },
  {
   "cell_type": "code",
   "execution_count": 640,
   "metadata": {},
   "outputs": [],
   "source": [
    "#let's extract all web elements having Smartphone RAM as parent tag\n",
    "ram_tags = driver.find_elements(By.XPATH, '//li[@class=\"rgWa7D\"]')"
   ]
  },
  {
   "cell_type": "code",
   "execution_count": 641,
   "metadata": {},
   "outputs": [
    {
     "data": {
      "text/plain": [
       "24"
      ]
     },
     "execution_count": 641,
     "metadata": {},
     "output_type": "execute_result"
    }
   ],
   "source": [
    "#extracting Smartphone RAM\n",
    "ram_test = []\n",
    "ram=[]\n",
    "re=[]\n",
    "\n",
    "for i in ram_tags:\n",
    "    ram_test.append(i.text)\n",
    "\n",
    "# to get string with substring(GB RAM) in it\n",
    "re = [i for i in ram_test if \"GB RAM\" in i]\n",
    "\n",
    "ram = [j.split(\"|\")[0] for j in re]\n",
    "len(ram)"
   ]
  },
  {
   "cell_type": "code",
   "execution_count": 642,
   "metadata": {},
   "outputs": [],
   "source": [
    "#let's extract all web elements having Smartphone ROM as parent tag\n",
    "rom_tags = driver.find_elements(By.XPATH, '//li[@class=\"rgWa7D\"]')"
   ]
  },
  {
   "cell_type": "code",
   "execution_count": 643,
   "metadata": {},
   "outputs": [
    {
     "data": {
      "text/plain": [
       "24"
      ]
     },
     "execution_count": 643,
     "metadata": {},
     "output_type": "execute_result"
    }
   ],
   "source": [
    "#extracting Smartphone ROM\n",
    "rom_test = []\n",
    "rom=[]\n",
    "re=[]\n",
    "\n",
    "for i in rom_tags:\n",
    "    rom_test.append(i.text)\n",
    "\n",
    "# to get string with substring(GB ROM) in it\n",
    "re = [i for i in rom_test if \"GB ROM\" in i]\n",
    "\n",
    "rom = [j.split(\"|\")[1] for j in re]\n",
    "len(rom)"
   ]
  },
  {
   "cell_type": "code",
   "execution_count": 644,
   "metadata": {},
   "outputs": [],
   "source": [
    "#let's extract all web elements having Smartphone Front Camera as parent tag\n",
    "fcam_tags = driver.find_elements(By.XPATH, '//li[@class=\"rgWa7D\"]')"
   ]
  },
  {
   "cell_type": "code",
   "execution_count": 645,
   "metadata": {},
   "outputs": [
    {
     "data": {
      "text/plain": [
       "24"
      ]
     },
     "execution_count": 645,
     "metadata": {},
     "output_type": "execute_result"
    }
   ],
   "source": [
    "#extracting Smartphone Front Camera\n",
    "fcam_test = []\n",
    "fcam=[]\n",
    "re=[]\n",
    "\n",
    "for i in fcam_tags:\n",
    "    fcam_test.append(i.text)\n",
    "\n",
    "# to get string with substring(MP) in it\n",
    "re = [i for i in fcam_test if \"MP\" in i]\n",
    "#re\n",
    "\n",
    "fcam_try = [j.split(\"|\") for j in re]\n",
    "#fcam_try\n",
    "\n",
    "for j in range(0,len(re)):\n",
    "    fcam.append([i for i in fcam_try[j] if \"Front Camera\" in i][0])  # to get string with substring(Front Camera) in it\n",
    "len(fcam)"
   ]
  },
  {
   "cell_type": "code",
   "execution_count": 646,
   "metadata": {},
   "outputs": [],
   "source": [
    "#let's extract all web elements having Smartphone Back Camera as parent tag\n",
    "bcam_tags = driver.find_elements(By.XPATH, '//li[@class=\"rgWa7D\"]')"
   ]
  },
  {
   "cell_type": "code",
   "execution_count": 647,
   "metadata": {},
   "outputs": [
    {
     "data": {
      "text/plain": [
       "24"
      ]
     },
     "execution_count": 647,
     "metadata": {},
     "output_type": "execute_result"
    }
   ],
   "source": [
    "#extracting Smartphone Back Camera\n",
    "bcam_test = []\n",
    "bcam=[]\n",
    "re=[]\n",
    "\n",
    "for i in bcam_tags:\n",
    "    bcam_test.append(i.text)\n",
    "\n",
    "# to get string with substring(MP) in it\n",
    "re = [i for i in bcam_test if \"MP\" in i]\n",
    "#re\n",
    "\n",
    "bcam_try = [j.split(\"|\") for j in re]\n",
    "#bcam_try\n",
    "\n",
    "for j in range(0,len(re)):\n",
    "    bcam.append([i for i in bcam_try[j] if \"Front Camera\" not in i][0]) # to get string with substring(Front Camera) not in it\n",
    "len(bcam)"
   ]
  },
  {
   "cell_type": "code",
   "execution_count": 648,
   "metadata": {},
   "outputs": [],
   "source": [
    "#let's extract all web elements having Smartphone Display as parent tag\n",
    "disp_tags = driver.find_elements(By.XPATH, '//li[@class=\"rgWa7D\"]')"
   ]
  },
  {
   "cell_type": "code",
   "execution_count": 649,
   "metadata": {},
   "outputs": [
    {
     "data": {
      "text/plain": [
       "24"
      ]
     },
     "execution_count": 649,
     "metadata": {},
     "output_type": "execute_result"
    }
   ],
   "source": [
    "#extracting Smartphone Display\n",
    "disp_test = []\n",
    "disp=[]\n",
    "\n",
    "for i in disp_tags:\n",
    "    disp_test.append(i.text)\n",
    "\n",
    "# to get string with substring(Display) in it\n",
    "disp = [i for i in disp_test if \"Display\" in i]\n",
    "len(disp)"
   ]
  },
  {
   "cell_type": "code",
   "execution_count": 650,
   "metadata": {},
   "outputs": [],
   "source": [
    "#let's extract all web elements having Smartphone Battery capacity as parent tag\n",
    "bat_tags = driver.find_elements(By.XPATH, '//li[@class=\"rgWa7D\"]')"
   ]
  },
  {
   "cell_type": "code",
   "execution_count": 651,
   "metadata": {},
   "outputs": [
    {
     "data": {
      "text/plain": [
       "24"
      ]
     },
     "execution_count": 651,
     "metadata": {},
     "output_type": "execute_result"
    }
   ],
   "source": [
    "#extracting Smartphone Battery\n",
    "bat_test = []\n",
    "bat=[]\n",
    "\n",
    "for i in bat_tags:\n",
    "    bat_test.append(i.text)\n",
    "\n",
    "# to get string with substring(Battery) in it\n",
    "bat = [i for i in bat_test if \"Battery\" in i]\n",
    "len(bat)"
   ]
  },
  {
   "cell_type": "code",
   "execution_count": 652,
   "metadata": {},
   "outputs": [],
   "source": [
    "#let's extract all web elements having Smartphone Price as parent tag\n",
    "price_tags = driver.find_elements(By.XPATH, '//div[@class=\"_30jeq3 _1_WHN1\"]')"
   ]
  },
  {
   "cell_type": "code",
   "execution_count": 653,
   "metadata": {},
   "outputs": [
    {
     "data": {
      "text/plain": [
       "24"
      ]
     },
     "execution_count": 653,
     "metadata": {},
     "output_type": "execute_result"
    }
   ],
   "source": [
    "#extracting Smartphone Price\n",
    "price=[]\n",
    "\n",
    "for i in price_tags:\n",
    "    price.append(i.text)\n",
    "len(price)"
   ]
  },
  {
   "cell_type": "code",
   "execution_count": 654,
   "metadata": {},
   "outputs": [],
   "source": [
    "#let's extract all web elements having Smartphone URL as parent tag\n",
    "url_tags = driver.find_elements(By.XPATH, '//a[@class=\"_1fQZEK\"]')"
   ]
  },
  {
   "cell_type": "code",
   "execution_count": 655,
   "metadata": {},
   "outputs": [
    {
     "data": {
      "text/plain": [
       "24"
      ]
     },
     "execution_count": 655,
     "metadata": {},
     "output_type": "execute_result"
    }
   ],
   "source": [
    "#extracting Smartphone URL\n",
    "url=[]\n",
    "\n",
    "for i in url_tags:\n",
    "    url.append(i.get_attribute('href'))\n",
    "len(url)"
   ]
  },
  {
   "cell_type": "code",
   "execution_count": 656,
   "metadata": {},
   "outputs": [],
   "source": [
    "# Since all parameters are 24 in number so no element missing and hence no need to add \"-\""
   ]
  },
  {
   "cell_type": "code",
   "execution_count": 660,
   "metadata": {},
   "outputs": [
    {
     "data": {
      "text/html": [
       "<div>\n",
       "<style scoped>\n",
       "    .dataframe tbody tr th:only-of-type {\n",
       "        vertical-align: middle;\n",
       "    }\n",
       "\n",
       "    .dataframe tbody tr th {\n",
       "        vertical-align: top;\n",
       "    }\n",
       "\n",
       "    .dataframe thead th {\n",
       "        text-align: right;\n",
       "    }\n",
       "</style>\n",
       "<table border=\"1\" class=\"dataframe\">\n",
       "  <thead>\n",
       "    <tr style=\"text-align: right;\">\n",
       "      <th></th>\n",
       "      <th>Brand Name</th>\n",
       "      <th>Smartphone name</th>\n",
       "      <th>Colour</th>\n",
       "      <th>RAM</th>\n",
       "      <th>ROM</th>\n",
       "      <th>Front Camera</th>\n",
       "      <th>Back Camera</th>\n",
       "      <th>Display Size</th>\n",
       "      <th>Battery capacity</th>\n",
       "      <th>Price</th>\n",
       "      <th>URL</th>\n",
       "    </tr>\n",
       "  </thead>\n",
       "  <tbody>\n",
       "    <tr>\n",
       "      <th>0</th>\n",
       "      <td>SAMSUNG</td>\n",
       "      <td>SAMSUNG Galaxy F22</td>\n",
       "      <td>Denim Black</td>\n",
       "      <td>4 GB RAM</td>\n",
       "      <td>64 GB ROM</td>\n",
       "      <td>13MP Front Camera</td>\n",
       "      <td>48MP + 8MP + 2MP + 2MP</td>\n",
       "      <td>16.26 cm (6.4 inch) HD+ Display</td>\n",
       "      <td>6000 mAh Lithium-ion Battery</td>\n",
       "      <td>₹11,999</td>\n",
       "      <td>https://www.flipkart.com/samsung-galaxy-f22-de...</td>\n",
       "    </tr>\n",
       "    <tr>\n",
       "      <th>1</th>\n",
       "      <td>realme</td>\n",
       "      <td>realme C11 2021</td>\n",
       "      <td>Cool Blue</td>\n",
       "      <td>2 GB RAM</td>\n",
       "      <td>32 GB ROM</td>\n",
       "      <td>5MP Front Camera</td>\n",
       "      <td>8MP Rear Camera</td>\n",
       "      <td>16.51 cm (6.5 inch) HD+ Display</td>\n",
       "      <td>5000 mAh Battery</td>\n",
       "      <td>₹7,499</td>\n",
       "      <td>https://www.flipkart.com/realme-c11-2021-cool-...</td>\n",
       "    </tr>\n",
       "    <tr>\n",
       "      <th>2</th>\n",
       "      <td>realme</td>\n",
       "      <td>realme C11 2021</td>\n",
       "      <td>Cool Grey</td>\n",
       "      <td>2 GB RAM</td>\n",
       "      <td>32 GB ROM</td>\n",
       "      <td>5MP Front Camera</td>\n",
       "      <td>8MP Rear Camera</td>\n",
       "      <td>16.51 cm (6.5 inch) HD+ Display</td>\n",
       "      <td>5000 mAh Battery</td>\n",
       "      <td>₹7,499</td>\n",
       "      <td>https://www.flipkart.com/realme-c11-2021-cool-...</td>\n",
       "    </tr>\n",
       "    <tr>\n",
       "      <th>3</th>\n",
       "      <td>SAMSUNG</td>\n",
       "      <td>SAMSUNG Galaxy F22</td>\n",
       "      <td>Denim Blue</td>\n",
       "      <td>4 GB RAM</td>\n",
       "      <td>64 GB ROM</td>\n",
       "      <td>13MP Front Camera</td>\n",
       "      <td>48MP + 8MP + 2MP + 2MP</td>\n",
       "      <td>16.26 cm (6.4 inch) HD+ Display</td>\n",
       "      <td>6000 mAh Lithium-ion Battery</td>\n",
       "      <td>₹11,999</td>\n",
       "      <td>https://www.flipkart.com/samsung-galaxy-f22-de...</td>\n",
       "    </tr>\n",
       "    <tr>\n",
       "      <th>4</th>\n",
       "      <td>realme</td>\n",
       "      <td>realme C11 2021</td>\n",
       "      <td>Cool Grey</td>\n",
       "      <td>4 GB RAM</td>\n",
       "      <td>64 GB ROM</td>\n",
       "      <td>5MP Front Camera</td>\n",
       "      <td>8MP Rear Camera</td>\n",
       "      <td>16.51 cm (6.5 inch) HD+ Display</td>\n",
       "      <td>5000 mAh Battery</td>\n",
       "      <td>₹8,999</td>\n",
       "      <td>https://www.flipkart.com/realme-c11-2021-cool-...</td>\n",
       "    </tr>\n",
       "    <tr>\n",
       "      <th>5</th>\n",
       "      <td>realme</td>\n",
       "      <td>realme C11 2021</td>\n",
       "      <td>Cool Blue</td>\n",
       "      <td>4 GB RAM</td>\n",
       "      <td>64 GB ROM</td>\n",
       "      <td>5MP Front Camera</td>\n",
       "      <td>8MP Rear Camera</td>\n",
       "      <td>16.51 cm (6.5 inch) HD+ Display</td>\n",
       "      <td>5000 mAh Battery</td>\n",
       "      <td>₹8,999</td>\n",
       "      <td>https://www.flipkart.com/realme-c11-2021-cool-...</td>\n",
       "    </tr>\n",
       "    <tr>\n",
       "      <th>6</th>\n",
       "      <td>realme</td>\n",
       "      <td>realme C31</td>\n",
       "      <td>Light Silver</td>\n",
       "      <td>3 GB RAM</td>\n",
       "      <td>32 GB ROM</td>\n",
       "      <td>5MP Front Camera</td>\n",
       "      <td>13MP + 2MP + 0.3MP</td>\n",
       "      <td>16.56 cm (6.52 inch) HD Display</td>\n",
       "      <td>5000 mAh Battery</td>\n",
       "      <td>₹9,299</td>\n",
       "      <td>https://www.flipkart.com/realme-c31-light-silv...</td>\n",
       "    </tr>\n",
       "    <tr>\n",
       "      <th>7</th>\n",
       "      <td>realme</td>\n",
       "      <td>realme C31</td>\n",
       "      <td>Dark Green</td>\n",
       "      <td>3 GB RAM</td>\n",
       "      <td>32 GB ROM</td>\n",
       "      <td>5MP Front Camera</td>\n",
       "      <td>13MP + 2MP + 0.3MP</td>\n",
       "      <td>16.56 cm (6.52 inch) HD Display</td>\n",
       "      <td>5000 mAh Battery</td>\n",
       "      <td>₹9,299</td>\n",
       "      <td>https://www.flipkart.com/realme-c31-dark-green...</td>\n",
       "    </tr>\n",
       "    <tr>\n",
       "      <th>8</th>\n",
       "      <td>POCO</td>\n",
       "      <td>POCO C31</td>\n",
       "      <td>Royal Blue</td>\n",
       "      <td>4 GB RAM</td>\n",
       "      <td>64 GB ROM</td>\n",
       "      <td>5MP Front Camera</td>\n",
       "      <td>13MP + 2MP + 2MP</td>\n",
       "      <td>16.59 cm (6.53 inch) HD+ Display</td>\n",
       "      <td>5000 mAh Lithium-ion Polymer Battery</td>\n",
       "      <td>₹9,999</td>\n",
       "      <td>https://www.flipkart.com/poco-c31-royal-blue-6...</td>\n",
       "    </tr>\n",
       "    <tr>\n",
       "      <th>9</th>\n",
       "      <td>Infinix</td>\n",
       "      <td>Infinix HOT 12 Play</td>\n",
       "      <td>Horizon Blue</td>\n",
       "      <td>4 GB RAM</td>\n",
       "      <td>64 GB ROM</td>\n",
       "      <td>8MP Front Camera</td>\n",
       "      <td>13MP + Depth Lens</td>\n",
       "      <td>17.32 cm (6.82 inch) HD+ Display</td>\n",
       "      <td>6000 mAh Li-ion Polymer Battery</td>\n",
       "      <td>₹8,999</td>\n",
       "      <td>https://www.flipkart.com/infinix-hot-12-play-h...</td>\n",
       "    </tr>\n",
       "    <tr>\n",
       "      <th>10</th>\n",
       "      <td>Infinix</td>\n",
       "      <td>Infinix HOT 12 Play</td>\n",
       "      <td>Racing Black</td>\n",
       "      <td>4 GB RAM</td>\n",
       "      <td>64 GB ROM</td>\n",
       "      <td>8MP Front Camera</td>\n",
       "      <td>13MP + Depth Lens</td>\n",
       "      <td>17.32 cm (6.82 inch) HD+ Display</td>\n",
       "      <td>6000 mAh Li-ion Polymer Battery</td>\n",
       "      <td>₹8,999</td>\n",
       "      <td>https://www.flipkart.com/infinix-hot-12-play-r...</td>\n",
       "    </tr>\n",
       "    <tr>\n",
       "      <th>11</th>\n",
       "      <td>Infinix</td>\n",
       "      <td>Infinix HOT 12 Play</td>\n",
       "      <td>Daylight Green</td>\n",
       "      <td>4 GB RAM</td>\n",
       "      <td>64 GB ROM</td>\n",
       "      <td>8MP Front Camera</td>\n",
       "      <td>13MP + Depth Lens</td>\n",
       "      <td>17.32 cm (6.82 inch) HD+ Display</td>\n",
       "      <td>6000 mAh Li-ion Polymer Battery</td>\n",
       "      <td>₹8,999</td>\n",
       "      <td>https://www.flipkart.com/infinix-hot-12-play-d...</td>\n",
       "    </tr>\n",
       "    <tr>\n",
       "      <th>12</th>\n",
       "      <td>realme</td>\n",
       "      <td>realme C21</td>\n",
       "      <td>Cross Black</td>\n",
       "      <td>4 GB RAM</td>\n",
       "      <td>64 GB ROM</td>\n",
       "      <td>5MP Front Camera</td>\n",
       "      <td>13MP + 2MP + 2MP</td>\n",
       "      <td>16.51 cm (6.5 inch) HD+ Display</td>\n",
       "      <td>5000 mAh Battery</td>\n",
       "      <td>₹10,599</td>\n",
       "      <td>https://www.flipkart.com/realme-c21-cross-blac...</td>\n",
       "    </tr>\n",
       "    <tr>\n",
       "      <th>13</th>\n",
       "      <td>realme</td>\n",
       "      <td>realme C21</td>\n",
       "      <td>Cross Blue</td>\n",
       "      <td>3 GB RAM</td>\n",
       "      <td>32 GB ROM</td>\n",
       "      <td>5MP Front Camera</td>\n",
       "      <td>13MP + 2MP + 2MP</td>\n",
       "      <td>16.51 cm (6.5 inch) HD+ Display</td>\n",
       "      <td>5000 mAh Battery</td>\n",
       "      <td>₹9,539</td>\n",
       "      <td>https://www.flipkart.com/realme-c21-cross-blue...</td>\n",
       "    </tr>\n",
       "    <tr>\n",
       "      <th>14</th>\n",
       "      <td>realme</td>\n",
       "      <td>realme C31</td>\n",
       "      <td>Dark Green</td>\n",
       "      <td>4 GB RAM</td>\n",
       "      <td>64 GB ROM</td>\n",
       "      <td>5MP Front Camera</td>\n",
       "      <td>13MP + 2MP + 0.3MP</td>\n",
       "      <td>16.56 cm (6.52 inch) HD Display</td>\n",
       "      <td>5000 mAh Battery</td>\n",
       "      <td>₹9,999</td>\n",
       "      <td>https://www.flipkart.com/realme-c31-dark-green...</td>\n",
       "    </tr>\n",
       "    <tr>\n",
       "      <th>15</th>\n",
       "      <td>POCO</td>\n",
       "      <td>POCO C31</td>\n",
       "      <td>Royal Blue</td>\n",
       "      <td>3 GB RAM</td>\n",
       "      <td>32 GB ROM</td>\n",
       "      <td>5MP Front Camera</td>\n",
       "      <td>13MP + 2MP + 2MP</td>\n",
       "      <td>16.59 cm (6.53 inch) HD+ Display</td>\n",
       "      <td>5000 mAh Lithium-ion Polymer Battery</td>\n",
       "      <td>₹8,999</td>\n",
       "      <td>https://www.flipkart.com/poco-c31-royal-blue-3...</td>\n",
       "    </tr>\n",
       "    <tr>\n",
       "      <th>16</th>\n",
       "      <td>POCO</td>\n",
       "      <td>POCO C31</td>\n",
       "      <td>Shadow Gray</td>\n",
       "      <td>4 GB RAM</td>\n",
       "      <td>64 GB ROM</td>\n",
       "      <td>5MP Front Camera</td>\n",
       "      <td>13MP + 2MP + 2MP</td>\n",
       "      <td>16.59 cm (6.53 inch) HD+ Display</td>\n",
       "      <td>5000 mAh Lithium-ion Polymer Battery</td>\n",
       "      <td>₹9,999</td>\n",
       "      <td>https://www.flipkart.com/poco-c31-shadow-gray-...</td>\n",
       "    </tr>\n",
       "    <tr>\n",
       "      <th>17</th>\n",
       "      <td>realme</td>\n",
       "      <td>realme C21</td>\n",
       "      <td>Cross Black</td>\n",
       "      <td>3 GB RAM</td>\n",
       "      <td>32 GB ROM</td>\n",
       "      <td>5MP Front Camera</td>\n",
       "      <td>13MP + 2MP + 2MP</td>\n",
       "      <td>16.51 cm (6.5 inch) HD+ Display</td>\n",
       "      <td>5000 mAh Battery</td>\n",
       "      <td>₹9,539</td>\n",
       "      <td>https://www.flipkart.com/realme-c21-cross-blac...</td>\n",
       "    </tr>\n",
       "    <tr>\n",
       "      <th>18</th>\n",
       "      <td>realme</td>\n",
       "      <td>realme Narzo 50i</td>\n",
       "      <td>Mint Green</td>\n",
       "      <td>2 GB RAM</td>\n",
       "      <td>32 GB ROM</td>\n",
       "      <td>5MP Front Camera</td>\n",
       "      <td>8MP Rear Camera</td>\n",
       "      <td>16.51 cm (6.5 inch) Display</td>\n",
       "      <td>5000 mAh Battery</td>\n",
       "      <td>₹7,599</td>\n",
       "      <td>https://www.flipkart.com/realme-narzo-50i-mint...</td>\n",
       "    </tr>\n",
       "    <tr>\n",
       "      <th>19</th>\n",
       "      <td>realme</td>\n",
       "      <td>realme Narzo 50i</td>\n",
       "      <td>Carbon Black</td>\n",
       "      <td>2 GB RAM</td>\n",
       "      <td>32 GB ROM</td>\n",
       "      <td>5MP Front Camera</td>\n",
       "      <td>8MP Rear Camera</td>\n",
       "      <td>16.51 cm (6.5 inch) Display</td>\n",
       "      <td>5000 mAh Battery</td>\n",
       "      <td>₹7,599</td>\n",
       "      <td>https://www.flipkart.com/realme-narzo-50i-carb...</td>\n",
       "    </tr>\n",
       "    <tr>\n",
       "      <th>20</th>\n",
       "      <td>realme</td>\n",
       "      <td>realme C31</td>\n",
       "      <td>Light Silver</td>\n",
       "      <td>4 GB RAM</td>\n",
       "      <td>64 GB ROM</td>\n",
       "      <td>5MP Front Camera</td>\n",
       "      <td>13MP + 2MP + 0.3MP</td>\n",
       "      <td>16.56 cm (6.52 inch) HD Display</td>\n",
       "      <td>5000 mAh Battery</td>\n",
       "      <td>₹9,999</td>\n",
       "      <td>https://www.flipkart.com/realme-c31-light-silv...</td>\n",
       "    </tr>\n",
       "    <tr>\n",
       "      <th>21</th>\n",
       "      <td>realme</td>\n",
       "      <td>realme C20</td>\n",
       "      <td>Cool Grey</td>\n",
       "      <td>2 GB RAM</td>\n",
       "      <td>32 GB ROM</td>\n",
       "      <td>5MP Front Camera</td>\n",
       "      <td>8MP Rear Camera</td>\n",
       "      <td>16.51 cm (6.5 inch) HD+ Display</td>\n",
       "      <td>5000 mAh Battery</td>\n",
       "      <td>₹7,599</td>\n",
       "      <td>https://www.flipkart.com/realme-c20-cool-grey-...</td>\n",
       "    </tr>\n",
       "    <tr>\n",
       "      <th>22</th>\n",
       "      <td>REDMI</td>\n",
       "      <td>REDMI Note 10T 5G</td>\n",
       "      <td>Metallic Blue</td>\n",
       "      <td>4 GB RAM</td>\n",
       "      <td>64 GB ROM</td>\n",
       "      <td>8MP Front Camera</td>\n",
       "      <td>48MP Primary Camera + 2MP Macro Lens + 2MP Dep...</td>\n",
       "      <td>16.66 cm (6.56 inch) Full HD+ Display</td>\n",
       "      <td>5000 mAh Lithium Polymer Battery</td>\n",
       "      <td>₹16,999</td>\n",
       "      <td>https://www.flipkart.com/redmi-note-10t-5g-met...</td>\n",
       "    </tr>\n",
       "    <tr>\n",
       "      <th>23</th>\n",
       "      <td>realme</td>\n",
       "      <td>realme 9</td>\n",
       "      <td>Stargaze White</td>\n",
       "      <td>6 GB RAM</td>\n",
       "      <td>128 GB ROM</td>\n",
       "      <td>16MP Front Camera</td>\n",
       "      <td>108MP + 8MP + 2MP</td>\n",
       "      <td>16.26 cm (6.4 inch) Full HD+ AMOLED Display</td>\n",
       "      <td>5000 mAh Lithium Ion Battery</td>\n",
       "      <td>₹17,999</td>\n",
       "      <td>https://www.flipkart.com/realme-9-stargaze-whi...</td>\n",
       "    </tr>\n",
       "  </tbody>\n",
       "</table>\n",
       "</div>"
      ],
      "text/plain": [
       "   Brand Name       Smartphone name          Colour        RAM           ROM  \\\n",
       "0     SAMSUNG   SAMSUNG Galaxy F22      Denim Black  4 GB RAM     64 GB ROM    \n",
       "1      realme      realme C11 2021        Cool Blue  2 GB RAM     32 GB ROM    \n",
       "2      realme      realme C11 2021        Cool Grey  2 GB RAM     32 GB ROM    \n",
       "3     SAMSUNG   SAMSUNG Galaxy F22       Denim Blue  4 GB RAM     64 GB ROM    \n",
       "4      realme      realme C11 2021        Cool Grey  4 GB RAM     64 GB ROM    \n",
       "5      realme      realme C11 2021        Cool Blue  4 GB RAM     64 GB ROM    \n",
       "6      realme           realme C31     Light Silver  3 GB RAM     32 GB ROM    \n",
       "7      realme           realme C31       Dark Green  3 GB RAM     32 GB ROM    \n",
       "8        POCO             POCO C31       Royal Blue  4 GB RAM     64 GB ROM    \n",
       "9     Infinix  Infinix HOT 12 Play     Horizon Blue  4 GB RAM     64 GB ROM    \n",
       "10    Infinix  Infinix HOT 12 Play     Racing Black  4 GB RAM     64 GB ROM    \n",
       "11    Infinix  Infinix HOT 12 Play   Daylight Green  4 GB RAM     64 GB ROM    \n",
       "12     realme           realme C21      Cross Black  4 GB RAM     64 GB ROM    \n",
       "13     realme           realme C21       Cross Blue  3 GB RAM     32 GB ROM    \n",
       "14     realme           realme C31       Dark Green  4 GB RAM     64 GB ROM    \n",
       "15       POCO             POCO C31       Royal Blue  3 GB RAM     32 GB ROM    \n",
       "16       POCO             POCO C31      Shadow Gray  4 GB RAM     64 GB ROM    \n",
       "17     realme           realme C21      Cross Black  3 GB RAM     32 GB ROM    \n",
       "18     realme     realme Narzo 50i       Mint Green  2 GB RAM     32 GB ROM    \n",
       "19     realme     realme Narzo 50i     Carbon Black  2 GB RAM     32 GB ROM    \n",
       "20     realme           realme C31     Light Silver  4 GB RAM     64 GB ROM    \n",
       "21     realme           realme C20        Cool Grey  2 GB RAM     32 GB ROM    \n",
       "22      REDMI    REDMI Note 10T 5G    Metallic Blue  4 GB RAM      64 GB ROM   \n",
       "23     realme             realme 9   Stargaze White  6 GB RAM    128 GB ROM    \n",
       "\n",
       "          Front Camera                                        Back Camera  \\\n",
       "0    13MP Front Camera                            48MP + 8MP + 2MP + 2MP    \n",
       "1     5MP Front Camera                                   8MP Rear Camera    \n",
       "2     5MP Front Camera                                   8MP Rear Camera    \n",
       "3    13MP Front Camera                            48MP + 8MP + 2MP + 2MP    \n",
       "4     5MP Front Camera                                   8MP Rear Camera    \n",
       "5     5MP Front Camera                                   8MP Rear Camera    \n",
       "6     5MP Front Camera                                13MP + 2MP + 0.3MP    \n",
       "7     5MP Front Camera                                13MP + 2MP + 0.3MP    \n",
       "8     5MP Front Camera                                  13MP + 2MP + 2MP    \n",
       "9     8MP Front Camera                                 13MP + Depth Lens    \n",
       "10    8MP Front Camera                                 13MP + Depth Lens    \n",
       "11    8MP Front Camera                                 13MP + Depth Lens    \n",
       "12    5MP Front Camera                                  13MP + 2MP + 2MP    \n",
       "13    5MP Front Camera                                  13MP + 2MP + 2MP    \n",
       "14    5MP Front Camera                                13MP + 2MP + 0.3MP    \n",
       "15    5MP Front Camera                                  13MP + 2MP + 2MP    \n",
       "16    5MP Front Camera                                  13MP + 2MP + 2MP    \n",
       "17    5MP Front Camera                                  13MP + 2MP + 2MP    \n",
       "18    5MP Front Camera                                   8MP Rear Camera    \n",
       "19    5MP Front Camera                                   8MP Rear Camera    \n",
       "20    5MP Front Camera                                13MP + 2MP + 0.3MP    \n",
       "21    5MP Front Camera                                   8MP Rear Camera    \n",
       "22    8MP Front Camera  48MP Primary Camera + 2MP Macro Lens + 2MP Dep...   \n",
       "23   16MP Front Camera                                 108MP + 8MP + 2MP    \n",
       "\n",
       "                                   Display Size  \\\n",
       "0               16.26 cm (6.4 inch) HD+ Display   \n",
       "1               16.51 cm (6.5 inch) HD+ Display   \n",
       "2               16.51 cm (6.5 inch) HD+ Display   \n",
       "3               16.26 cm (6.4 inch) HD+ Display   \n",
       "4               16.51 cm (6.5 inch) HD+ Display   \n",
       "5               16.51 cm (6.5 inch) HD+ Display   \n",
       "6               16.56 cm (6.52 inch) HD Display   \n",
       "7               16.56 cm (6.52 inch) HD Display   \n",
       "8              16.59 cm (6.53 inch) HD+ Display   \n",
       "9              17.32 cm (6.82 inch) HD+ Display   \n",
       "10             17.32 cm (6.82 inch) HD+ Display   \n",
       "11             17.32 cm (6.82 inch) HD+ Display   \n",
       "12              16.51 cm (6.5 inch) HD+ Display   \n",
       "13              16.51 cm (6.5 inch) HD+ Display   \n",
       "14              16.56 cm (6.52 inch) HD Display   \n",
       "15             16.59 cm (6.53 inch) HD+ Display   \n",
       "16             16.59 cm (6.53 inch) HD+ Display   \n",
       "17              16.51 cm (6.5 inch) HD+ Display   \n",
       "18                  16.51 cm (6.5 inch) Display   \n",
       "19                  16.51 cm (6.5 inch) Display   \n",
       "20              16.56 cm (6.52 inch) HD Display   \n",
       "21              16.51 cm (6.5 inch) HD+ Display   \n",
       "22        16.66 cm (6.56 inch) Full HD+ Display   \n",
       "23  16.26 cm (6.4 inch) Full HD+ AMOLED Display   \n",
       "\n",
       "                        Battery capacity    Price  \\\n",
       "0           6000 mAh Lithium-ion Battery  ₹11,999   \n",
       "1                       5000 mAh Battery   ₹7,499   \n",
       "2                       5000 mAh Battery   ₹7,499   \n",
       "3           6000 mAh Lithium-ion Battery  ₹11,999   \n",
       "4                       5000 mAh Battery   ₹8,999   \n",
       "5                       5000 mAh Battery   ₹8,999   \n",
       "6                       5000 mAh Battery   ₹9,299   \n",
       "7                       5000 mAh Battery   ₹9,299   \n",
       "8   5000 mAh Lithium-ion Polymer Battery   ₹9,999   \n",
       "9        6000 mAh Li-ion Polymer Battery   ₹8,999   \n",
       "10       6000 mAh Li-ion Polymer Battery   ₹8,999   \n",
       "11       6000 mAh Li-ion Polymer Battery   ₹8,999   \n",
       "12                      5000 mAh Battery  ₹10,599   \n",
       "13                      5000 mAh Battery   ₹9,539   \n",
       "14                      5000 mAh Battery   ₹9,999   \n",
       "15  5000 mAh Lithium-ion Polymer Battery   ₹8,999   \n",
       "16  5000 mAh Lithium-ion Polymer Battery   ₹9,999   \n",
       "17                      5000 mAh Battery   ₹9,539   \n",
       "18                      5000 mAh Battery   ₹7,599   \n",
       "19                      5000 mAh Battery   ₹7,599   \n",
       "20                      5000 mAh Battery   ₹9,999   \n",
       "21                      5000 mAh Battery   ₹7,599   \n",
       "22      5000 mAh Lithium Polymer Battery  ₹16,999   \n",
       "23          5000 mAh Lithium Ion Battery  ₹17,999   \n",
       "\n",
       "                                                  URL  \n",
       "0   https://www.flipkart.com/samsung-galaxy-f22-de...  \n",
       "1   https://www.flipkart.com/realme-c11-2021-cool-...  \n",
       "2   https://www.flipkart.com/realme-c11-2021-cool-...  \n",
       "3   https://www.flipkart.com/samsung-galaxy-f22-de...  \n",
       "4   https://www.flipkart.com/realme-c11-2021-cool-...  \n",
       "5   https://www.flipkart.com/realme-c11-2021-cool-...  \n",
       "6   https://www.flipkart.com/realme-c31-light-silv...  \n",
       "7   https://www.flipkart.com/realme-c31-dark-green...  \n",
       "8   https://www.flipkart.com/poco-c31-royal-blue-6...  \n",
       "9   https://www.flipkart.com/infinix-hot-12-play-h...  \n",
       "10  https://www.flipkart.com/infinix-hot-12-play-r...  \n",
       "11  https://www.flipkart.com/infinix-hot-12-play-d...  \n",
       "12  https://www.flipkart.com/realme-c21-cross-blac...  \n",
       "13  https://www.flipkart.com/realme-c21-cross-blue...  \n",
       "14  https://www.flipkart.com/realme-c31-dark-green...  \n",
       "15  https://www.flipkart.com/poco-c31-royal-blue-3...  \n",
       "16  https://www.flipkart.com/poco-c31-shadow-gray-...  \n",
       "17  https://www.flipkart.com/realme-c21-cross-blac...  \n",
       "18  https://www.flipkart.com/realme-narzo-50i-mint...  \n",
       "19  https://www.flipkart.com/realme-narzo-50i-carb...  \n",
       "20  https://www.flipkart.com/realme-c31-light-silv...  \n",
       "21  https://www.flipkart.com/realme-c20-cool-grey-...  \n",
       "22  https://www.flipkart.com/redmi-note-10t-5g-met...  \n",
       "23  https://www.flipkart.com/realme-9-stargaze-whi...  "
      ]
     },
     "execution_count": 660,
     "metadata": {},
     "output_type": "execute_result"
    }
   ],
   "source": [
    "phone = pd.DataFrame()\n",
    "phone['Brand Name'] = brand\n",
    "phone['Smartphone name'] = name\n",
    "phone['Colour'] = colour\n",
    "phone['RAM'] = ram\n",
    "phone['ROM'] = rom\n",
    "phone['Front Camera'] = fcam\n",
    "phone['Back Camera'] = bcam\n",
    "phone['Display Size'] = disp\n",
    "phone['Battery capacity'] = bat\n",
    "phone['Price'] = price\n",
    "phone['URL'] = url\n",
    "phone"
   ]
  },
  {
   "cell_type": "code",
   "execution_count": 915,
   "metadata": {},
   "outputs": [],
   "source": [
    "#Creating csv file\n",
    "phone.to_csv('Web_scraping_assignment_3_q4.csv')"
   ]
  },
  {
   "cell_type": "markdown",
   "metadata": {},
   "source": [
    " "
   ]
  },
  {
   "cell_type": "markdown",
   "metadata": {},
   "source": [
    "# Q5. Program to scrap geospatial coordinates (latitude, longitude) of a city searched on google maps"
   ]
  },
  {
   "cell_type": "code",
   "execution_count": 665,
   "metadata": {},
   "outputs": [],
   "source": [
    "#connecting to webdriver\n",
    "driver = webdriver.Chrome('chromedriver')"
   ]
  },
  {
   "cell_type": "code",
   "execution_count": 666,
   "metadata": {},
   "outputs": [],
   "source": [
    "url = 'https://www.google.com/maps'\n",
    "driver.get(url)"
   ]
  },
  {
   "cell_type": "code",
   "execution_count": 667,
   "metadata": {},
   "outputs": [
    {
     "name": "stdout",
     "output_type": "stream",
     "text": [
      "Please input the city you want to search\n",
      "pune\n"
     ]
    }
   ],
   "source": [
    "#Taking input from user\n",
    "print(\"Please input the city you want to search\")\n",
    "string = input()"
   ]
  },
  {
   "cell_type": "code",
   "execution_count": 668,
   "metadata": {},
   "outputs": [
    {
     "data": {
      "text/plain": [
       "<selenium.webdriver.remote.webelement.WebElement (session=\"ce1c16129d57918f0ba7693dc32e0b28\", element=\"267805cf-612f-4dea-97b9-351f82af33e4\")>"
      ]
     },
     "execution_count": 668,
     "metadata": {},
     "output_type": "execute_result"
    }
   ],
   "source": [
    "#Finding web element for search bar\n",
    "search_loc = driver.find_element(By.XPATH,\"/html/body/div[3]/div[9]/div[3]/div[1]/div[1]/div[1]/div[2]/form/div[2]/div[3]/div/input[1]\")\n",
    "search_loc"
   ]
  },
  {
   "cell_type": "code",
   "execution_count": 669,
   "metadata": {},
   "outputs": [],
   "source": [
    "#Write on search bar\n",
    "search_loc.send_keys(string)"
   ]
  },
  {
   "cell_type": "code",
   "execution_count": 670,
   "metadata": {},
   "outputs": [
    {
     "data": {
      "text/plain": [
       "<selenium.webdriver.remote.webelement.WebElement (session=\"ce1c16129d57918f0ba7693dc32e0b28\", element=\"86a393ba-1d9f-4761-b813-cdff08180ca4\")>"
      ]
     },
     "execution_count": 670,
     "metadata": {},
     "output_type": "execute_result"
    }
   ],
   "source": [
    "#Finding web element for search button\n",
    "search_but = driver.find_element(By.XPATH,\"/html/body/div[3]/div[9]/div[3]/div[1]/div[1]/div[1]/div[2]/div[1]/button\")\n",
    "search_but"
   ]
  },
  {
   "cell_type": "code",
   "execution_count": 671,
   "metadata": {},
   "outputs": [],
   "source": [
    "#Clicking search button\n",
    "search_but.click()"
   ]
  },
  {
   "cell_type": "code",
   "execution_count": 681,
   "metadata": {},
   "outputs": [],
   "source": [
    "url_string = driver.current_url"
   ]
  },
  {
   "cell_type": "code",
   "execution_count": 682,
   "metadata": {},
   "outputs": [],
   "source": [
    "lat = url_string.replace(\"@\",\",\").split(\",\")[2]\n",
    "long = url_string.replace(\"@\",\",\").split(\",\")[3]"
   ]
  },
  {
   "cell_type": "code",
   "execution_count": 683,
   "metadata": {},
   "outputs": [
    {
     "name": "stdout",
     "output_type": "stream",
     "text": [
      "geospatial coordinates (latitude, longitude) of pune are : 18.5250622 , 73.5834488\n"
     ]
    }
   ],
   "source": [
    "print(\"geospatial coordinates (latitude, longitude) of \"+ string + \" are : \" + lat + \" , \" + long)"
   ]
  },
  {
   "cell_type": "code",
   "execution_count": 684,
   "metadata": {},
   "outputs": [],
   "source": [
    "driver.close()"
   ]
  },
  {
   "cell_type": "markdown",
   "metadata": {},
   "source": [
    "\n"
   ]
  },
  {
   "cell_type": "markdown",
   "metadata": {},
   "source": [
    "# Q6. Scrap details of all the funding deals for second quarter (i.e Jan 21 - March 21) from trak.in"
   ]
  },
  {
   "cell_type": "code",
   "execution_count": 1179,
   "metadata": {},
   "outputs": [],
   "source": [
    "#connecting to webdriver\n",
    "driver = webdriver.Chrome('chromedriver')"
   ]
  },
  {
   "cell_type": "code",
   "execution_count": 1180,
   "metadata": {},
   "outputs": [],
   "source": [
    "url = 'https://trak.in/'\n",
    "driver.get(url)"
   ]
  },
  {
   "cell_type": "code",
   "execution_count": 1181,
   "metadata": {},
   "outputs": [],
   "source": [
    "#Finding web element for funding deals tab and clicking it\n",
    "search_field = driver.find_element(By.XPATH,\"/html/body/div[1]/header/div[2]/div/div/div/div/nav/ul/li[9]/a\")\n",
    "search_field.click()"
   ]
  },
  {
   "cell_type": "code",
   "execution_count": 1182,
   "metadata": {},
   "outputs": [],
   "source": [
    "#let's extract all web elements having row tags as parent tag\n",
    "table_tags = driver.find_elements(By.XPATH,\"/html/body/div[1]/main/div/div/div/div[2]/div[1]/div/div/div/div[1]/div/div[5]/div[3]/div[2]\")"
   ]
  },
  {
   "cell_type": "code",
   "execution_count": 1194,
   "metadata": {},
   "outputs": [],
   "source": [
    "#let's extract all web elements having S.no. as parent tag\n",
    "sno_tags= driver.find_elements(By.XPATH, '//td[@class=\"column-1\"]')"
   ]
  },
  {
   "cell_type": "code",
   "execution_count": 1196,
   "metadata": {},
   "outputs": [
    {
     "data": {
      "text/plain": [
       "11"
      ]
     },
     "execution_count": 1196,
     "metadata": {},
     "output_type": "execute_result"
    }
   ],
   "source": [
    "#extracting S.no.\n",
    "sno = []\n",
    "a=0\n",
    "for i in sno_tags:\n",
    "    #applying condition for jan21 to march21\n",
    "    if a==5 or (a>=12 and a<=20) or a==22:\n",
    "        sno.append(i.text)\n",
    "    a=a+1\n",
    "len(sno)"
   ]
  },
  {
   "cell_type": "code",
   "execution_count": 1198,
   "metadata": {},
   "outputs": [],
   "source": [
    "#let's extract all web elements having Date as parent tag\n",
    "date_tags= driver.find_elements(By.XPATH, '//td[@class=\"column-2\"]')"
   ]
  },
  {
   "cell_type": "code",
   "execution_count": 1200,
   "metadata": {},
   "outputs": [
    {
     "data": {
      "text/plain": [
       "11"
      ]
     },
     "execution_count": 1200,
     "metadata": {},
     "output_type": "execute_result"
    }
   ],
   "source": [
    "#extracting Date\n",
    "date = []\n",
    "a=0\n",
    "for i in date_tags:\n",
    "    #applying condition for jan21 to march21\n",
    "    if a==5 or (a>=12 and a<=20) or a==22:\n",
    "        date.append(i.text)\n",
    "    a=a+1\n",
    "len(date)"
   ]
  },
  {
   "cell_type": "code",
   "execution_count": 1203,
   "metadata": {},
   "outputs": [],
   "source": [
    "#let's extract all web elements having Startup Name as parent tag\n",
    "start_name_tags= driver.find_elements(By.XPATH, '//td[@class=\"column-3\"]')"
   ]
  },
  {
   "cell_type": "code",
   "execution_count": 1205,
   "metadata": {},
   "outputs": [
    {
     "data": {
      "text/plain": [
       "11"
      ]
     },
     "execution_count": 1205,
     "metadata": {},
     "output_type": "execute_result"
    }
   ],
   "source": [
    "#extracting Startup Name\n",
    "start_name = []\n",
    "a=0\n",
    "for i in start_name_tags:\n",
    "    #applying condition for jan21 to march21\n",
    "    if a==5 or (a>=12 and a<=20) or a==22:\n",
    "        start_name.append(i.text)\n",
    "    a=a+1\n",
    "len(start_name)"
   ]
  },
  {
   "cell_type": "code",
   "execution_count": 1210,
   "metadata": {},
   "outputs": [],
   "source": [
    "#let's extract all web elements having Industry/Vertical as parent tag\n",
    "industry_tags= driver.find_elements(By.XPATH, '//td[@class=\"column-4\"]')"
   ]
  },
  {
   "cell_type": "code",
   "execution_count": 1212,
   "metadata": {},
   "outputs": [
    {
     "data": {
      "text/plain": [
       "11"
      ]
     },
     "execution_count": 1212,
     "metadata": {},
     "output_type": "execute_result"
    }
   ],
   "source": [
    "#extracting Industry\n",
    "industry = []\n",
    "a=0\n",
    "for i in industry_tags:\n",
    "    #applying condition for jan21 to march21\n",
    "    if a==5 or (a>=12 and a<=20) or a==22:\n",
    "        industry.append(i.text)\n",
    "    a=a+1\n",
    "len(industry)"
   ]
  },
  {
   "cell_type": "code",
   "execution_count": 1217,
   "metadata": {},
   "outputs": [],
   "source": [
    "#let's extract all web elements having Subvertical as parent tag\n",
    "subvertical_tags= driver.find_elements(By.XPATH, '//td[@class=\"column-5\"]')"
   ]
  },
  {
   "cell_type": "code",
   "execution_count": 1218,
   "metadata": {},
   "outputs": [
    {
     "data": {
      "text/plain": [
       "11"
      ]
     },
     "execution_count": 1218,
     "metadata": {},
     "output_type": "execute_result"
    }
   ],
   "source": [
    "#extracting Subvertical\n",
    "subvertical = []\n",
    "a=0\n",
    "for i in subvertical_tags:\n",
    "    #applying condition for jan21 to march21\n",
    "    if a==5 or (a>=12 and a<=20) or a==22:\n",
    "        subvertical.append(i.text)\n",
    "    a=a+1\n",
    "len(subvertical)"
   ]
  },
  {
   "cell_type": "code",
   "execution_count": 1222,
   "metadata": {},
   "outputs": [],
   "source": [
    "#let's extract all web elements having City/Location as parent tag\n",
    "city_tags= driver.find_elements(By.XPATH, '//td[@class=\"column-6\"]')"
   ]
  },
  {
   "cell_type": "code",
   "execution_count": 1223,
   "metadata": {},
   "outputs": [
    {
     "data": {
      "text/plain": [
       "11"
      ]
     },
     "execution_count": 1223,
     "metadata": {},
     "output_type": "execute_result"
    }
   ],
   "source": [
    "#extracting City\n",
    "city = []\n",
    "a=0\n",
    "for i in city_tags:\n",
    "    #applying condition for jan21 to march21\n",
    "    if a==5 or (a>=12 and a<=20) or a==22:\n",
    "        city.append(i.text)\n",
    "    a=a+1\n",
    "len(city)"
   ]
  },
  {
   "cell_type": "code",
   "execution_count": 1226,
   "metadata": {},
   "outputs": [],
   "source": [
    "#let's extract all web elements having Investors' name as parent tag\n",
    "iname_tags= driver.find_elements(By.XPATH, '//td[@class=\"column-7\"]')"
   ]
  },
  {
   "cell_type": "code",
   "execution_count": 1227,
   "metadata": {},
   "outputs": [
    {
     "data": {
      "text/plain": [
       "11"
      ]
     },
     "execution_count": 1227,
     "metadata": {},
     "output_type": "execute_result"
    }
   ],
   "source": [
    "#extracting investors' name\n",
    "iname = []\n",
    "a=0\n",
    "for i in iname_tags:\n",
    "    #applying condition for jan21 to march21\n",
    "    if a==5 or (a>=12 and a<=20) or a==22:\n",
    "        iname.append(i.text)\n",
    "    a=a+1\n",
    "len(iname)"
   ]
  },
  {
   "cell_type": "code",
   "execution_count": 1228,
   "metadata": {},
   "outputs": [],
   "source": [
    "#let's extract all web elements having Investment type as parent tag\n",
    "itype_tags= driver.find_elements(By.XPATH, '//td[@class=\"column-8\"]')"
   ]
  },
  {
   "cell_type": "code",
   "execution_count": 1230,
   "metadata": {},
   "outputs": [
    {
     "data": {
      "text/plain": [
       "11"
      ]
     },
     "execution_count": 1230,
     "metadata": {},
     "output_type": "execute_result"
    }
   ],
   "source": [
    "#extracting investment type\n",
    "itype = []\n",
    "a=0\n",
    "for i in itype_tags:\n",
    "    #applying condition for jan21 to march21\n",
    "    if a==5 or (a>=12 and a<=20) or a==22:\n",
    "        itype.append(i.text)\n",
    "    a=a+1\n",
    "len(itype)"
   ]
  },
  {
   "cell_type": "code",
   "execution_count": 1234,
   "metadata": {},
   "outputs": [],
   "source": [
    "#let's extract all web elements having Amount as parent tag\n",
    "amount_tags= driver.find_elements(By.XPATH, '//td[@class=\"column-9\"]')"
   ]
  },
  {
   "cell_type": "code",
   "execution_count": 1235,
   "metadata": {},
   "outputs": [
    {
     "data": {
      "text/plain": [
       "11"
      ]
     },
     "execution_count": 1235,
     "metadata": {},
     "output_type": "execute_result"
    }
   ],
   "source": [
    "#extracting Amount\n",
    "amount = []\n",
    "a=0\n",
    "for i in amount_tags:\n",
    "    #applying condition for jan21 to march21\n",
    "    if a==5 or (a>=12 and a<=20) or a==22:\n",
    "        amount.append(i.text)\n",
    "    a=a+1\n",
    "len(amount)"
   ]
  },
  {
   "cell_type": "code",
   "execution_count": 1236,
   "metadata": {},
   "outputs": [
    {
     "data": {
      "text/html": [
       "<div>\n",
       "<style scoped>\n",
       "    .dataframe tbody tr th:only-of-type {\n",
       "        vertical-align: middle;\n",
       "    }\n",
       "\n",
       "    .dataframe tbody tr th {\n",
       "        vertical-align: top;\n",
       "    }\n",
       "\n",
       "    .dataframe thead th {\n",
       "        text-align: right;\n",
       "    }\n",
       "</style>\n",
       "<table border=\"1\" class=\"dataframe\">\n",
       "  <thead>\n",
       "    <tr style=\"text-align: right;\">\n",
       "      <th></th>\n",
       "      <th>Sr. No.</th>\n",
       "      <th>Date</th>\n",
       "      <th>Startup Name</th>\n",
       "      <th>Industry/Vertical</th>\n",
       "      <th>Subvertical</th>\n",
       "      <th>City/Location</th>\n",
       "      <th>Investors Name</th>\n",
       "      <th>Investment Type</th>\n",
       "      <th>Amount (in USD)</th>\n",
       "    </tr>\n",
       "  </thead>\n",
       "  <tbody>\n",
       "    <tr>\n",
       "      <th>0</th>\n",
       "      <td>1</td>\n",
       "      <td>04/03/2021</td>\n",
       "      <td>DealShare</td>\n",
       "      <td>E-commerce</td>\n",
       "      <td>Online shopping platform</td>\n",
       "      <td>Jaipur, Rajasthan</td>\n",
       "      <td>Innoven Capital</td>\n",
       "      <td>Debt Financing</td>\n",
       "      <td>250,000,000</td>\n",
       "    </tr>\n",
       "    <tr>\n",
       "      <th>1</th>\n",
       "      <td>1</td>\n",
       "      <td>11/02/2021</td>\n",
       "      <td>Doubtnut</td>\n",
       "      <td>Edu Tech</td>\n",
       "      <td>E-Learning Platform</td>\n",
       "      <td>Gurgaon</td>\n",
       "      <td>SIG Global, Sequoia Capital, WaterBridge Ventu...</td>\n",
       "      <td>Series B</td>\n",
       "      <td>2,500,000</td>\n",
       "    </tr>\n",
       "    <tr>\n",
       "      <th>2</th>\n",
       "      <td>2</td>\n",
       "      <td>22/02/2021</td>\n",
       "      <td>Zomato</td>\n",
       "      <td>Hospitality</td>\n",
       "      <td>Online Food Delivery Platform</td>\n",
       "      <td>Gurgaon</td>\n",
       "      <td>Tiger Global, Kora</td>\n",
       "      <td>Venture</td>\n",
       "      <td>250,000,000</td>\n",
       "    </tr>\n",
       "    <tr>\n",
       "      <th>3</th>\n",
       "      <td>3</td>\n",
       "      <td>19/02/2021</td>\n",
       "      <td>Fingerlix</td>\n",
       "      <td>Hospitality</td>\n",
       "      <td>Semi-cooked food delivery app</td>\n",
       "      <td>Mumbai</td>\n",
       "      <td>Rhodium Trust, Accel Partners and Swiggy</td>\n",
       "      <td>Series C</td>\n",
       "      <td>2,747,045.20</td>\n",
       "    </tr>\n",
       "    <tr>\n",
       "      <th>4</th>\n",
       "      <td>4</td>\n",
       "      <td>17/02/2021</td>\n",
       "      <td>Zolve</td>\n",
       "      <td>FinTech</td>\n",
       "      <td>Global Neobank Venture</td>\n",
       "      <td>Mumbai</td>\n",
       "      <td>Accel Partners and Lightspeed Venture Partners</td>\n",
       "      <td>Seed</td>\n",
       "      <td>1,50,00,000</td>\n",
       "    </tr>\n",
       "    <tr>\n",
       "      <th>5</th>\n",
       "      <td>5</td>\n",
       "      <td>15/02/2021</td>\n",
       "      <td>KreditBee</td>\n",
       "      <td>Finance</td>\n",
       "      <td>Digital lending platform</td>\n",
       "      <td>Bengaluru</td>\n",
       "      <td>Azim Premji’s PremjiInvest and South Korea’s M...</td>\n",
       "      <td>Series C</td>\n",
       "      <td>75,000,000</td>\n",
       "    </tr>\n",
       "    <tr>\n",
       "      <th>6</th>\n",
       "      <td>6</td>\n",
       "      <td>12/02/2021</td>\n",
       "      <td>Pepperfry</td>\n",
       "      <td>E-commerce</td>\n",
       "      <td>Multi-brand furniture brand</td>\n",
       "      <td>Mumbai</td>\n",
       "      <td>InnoVen Capital</td>\n",
       "      <td>Debt Financing</td>\n",
       "      <td>4,773,958</td>\n",
       "    </tr>\n",
       "    <tr>\n",
       "      <th>7</th>\n",
       "      <td>7</td>\n",
       "      <td>12/02/2021</td>\n",
       "      <td>Grofers</td>\n",
       "      <td>E-Commerce</td>\n",
       "      <td>Online supermarket</td>\n",
       "      <td>Gurgaon</td>\n",
       "      <td>SoftBank Vision Fund (SVF)</td>\n",
       "      <td>Unspecified</td>\n",
       "      <td>55,000,000</td>\n",
       "    </tr>\n",
       "    <tr>\n",
       "      <th>8</th>\n",
       "      <td>8</td>\n",
       "      <td>09/02/2021</td>\n",
       "      <td>Nothing</td>\n",
       "      <td>Technology</td>\n",
       "      <td>Consumer Technology Venture</td>\n",
       "      <td>London</td>\n",
       "      <td>GV</td>\n",
       "      <td>Series A</td>\n",
       "      <td>15,000,000</td>\n",
       "    </tr>\n",
       "    <tr>\n",
       "      <th>9</th>\n",
       "      <td>9</td>\n",
       "      <td>09/02/2021</td>\n",
       "      <td>SplashLearn</td>\n",
       "      <td>EdTech</td>\n",
       "      <td>Game-based learning programme</td>\n",
       "      <td>Gurgaon</td>\n",
       "      <td>Owl Ventures</td>\n",
       "      <td>Series C</td>\n",
       "      <td>18,000,000</td>\n",
       "    </tr>\n",
       "    <tr>\n",
       "      <th>10</th>\n",
       "      <td>2</td>\n",
       "      <td>28/01/2021</td>\n",
       "      <td>Bombay Shaving Company</td>\n",
       "      <td>Consumer Goods Company</td>\n",
       "      <td>Shave care, beard care, and skincare products</td>\n",
       "      <td>New Delhi</td>\n",
       "      <td>Reckitt Benckiser</td>\n",
       "      <td>Venture</td>\n",
       "      <td>6,172,258.50</td>\n",
       "    </tr>\n",
       "  </tbody>\n",
       "</table>\n",
       "</div>"
      ],
      "text/plain": [
       "   Sr. No.        Date            Startup Name       Industry/Vertical  \\\n",
       "0        1  04/03/2021               DealShare              E-commerce   \n",
       "1        1  11/02/2021                Doubtnut                Edu Tech   \n",
       "2        2  22/02/2021                  Zomato             Hospitality   \n",
       "3        3  19/02/2021               Fingerlix             Hospitality   \n",
       "4        4  17/02/2021                   Zolve                 FinTech   \n",
       "5        5  15/02/2021               KreditBee                 Finance   \n",
       "6        6  12/02/2021               Pepperfry              E-commerce   \n",
       "7        7  12/02/2021                 Grofers              E-Commerce   \n",
       "8        8  09/02/2021                 Nothing              Technology   \n",
       "9        9  09/02/2021             SplashLearn                  EdTech   \n",
       "10       2  28/01/2021  Bombay Shaving Company  Consumer Goods Company   \n",
       "\n",
       "                                      Subvertical      City/Location  \\\n",
       "0                        Online shopping platform  Jaipur, Rajasthan   \n",
       "1                             E-Learning Platform            Gurgaon   \n",
       "2                   Online Food Delivery Platform            Gurgaon   \n",
       "3                   Semi-cooked food delivery app             Mumbai   \n",
       "4                          Global Neobank Venture             Mumbai   \n",
       "5                        Digital lending platform          Bengaluru   \n",
       "6                     Multi-brand furniture brand             Mumbai   \n",
       "7                              Online supermarket            Gurgaon   \n",
       "8                     Consumer Technology Venture             London   \n",
       "9                   Game-based learning programme            Gurgaon   \n",
       "10  Shave care, beard care, and skincare products          New Delhi   \n",
       "\n",
       "                                       Investors Name Investment Type  \\\n",
       "0                                     Innoven Capital  Debt Financing   \n",
       "1   SIG Global, Sequoia Capital, WaterBridge Ventu...        Series B   \n",
       "2                                  Tiger Global, Kora         Venture   \n",
       "3            Rhodium Trust, Accel Partners and Swiggy        Series C   \n",
       "4      Accel Partners and Lightspeed Venture Partners            Seed   \n",
       "5   Azim Premji’s PremjiInvest and South Korea’s M...        Series C   \n",
       "6                                     InnoVen Capital  Debt Financing   \n",
       "7                          SoftBank Vision Fund (SVF)     Unspecified   \n",
       "8                                                  GV        Series A   \n",
       "9                                        Owl Ventures        Series C   \n",
       "10                                  Reckitt Benckiser         Venture   \n",
       "\n",
       "   Amount (in USD)  \n",
       "0      250,000,000  \n",
       "1        2,500,000  \n",
       "2      250,000,000  \n",
       "3     2,747,045.20  \n",
       "4      1,50,00,000  \n",
       "5       75,000,000  \n",
       "6        4,773,958  \n",
       "7       55,000,000  \n",
       "8       15,000,000  \n",
       "9       18,000,000  \n",
       "10    6,172,258.50  "
      ]
     },
     "execution_count": 1236,
     "metadata": {},
     "output_type": "execute_result"
    }
   ],
   "source": [
    "funding = pd.DataFrame()\n",
    "funding['Sr. No.'] = sno\n",
    "funding['Date'] = date\n",
    "funding['Startup Name'] = start_name\n",
    "funding['Industry/Vertical'] = industry\n",
    "funding['Subvertical'] = subvertical\n",
    "funding['City/Location'] = city\n",
    "funding['Investors Name'] = iname\n",
    "funding['Investment Type'] = itype\n",
    "funding['Amount (in USD)'] = amount\n",
    "funding"
   ]
  },
  {
   "cell_type": "code",
   "execution_count": 1237,
   "metadata": {},
   "outputs": [],
   "source": [
    "#Creating csv file\n",
    "funding.to_csv('Web_scraping_assignment_3_q6.csv')"
   ]
  },
  {
   "cell_type": "code",
   "execution_count": 1238,
   "metadata": {},
   "outputs": [],
   "source": [
    "driver.quit()"
   ]
  },
  {
   "cell_type": "markdown",
   "metadata": {},
   "source": [
    " "
   ]
  },
  {
   "cell_type": "markdown",
   "metadata": {},
   "source": [
    "# Q7. program to scrap all the available details of best gaming laptops from digit.in"
   ]
  },
  {
   "cell_type": "code",
   "execution_count": 1110,
   "metadata": {},
   "outputs": [],
   "source": [
    "#connecting to webdriver\n",
    "driver = webdriver.Chrome('chromedriver')"
   ]
  },
  {
   "cell_type": "code",
   "execution_count": 1111,
   "metadata": {},
   "outputs": [],
   "source": [
    "url = 'https://www.digit.in/'\n",
    "driver.get(url)"
   ]
  },
  {
   "cell_type": "code",
   "execution_count": 1112,
   "metadata": {},
   "outputs": [],
   "source": [
    "#Finding web element for 'Best Gaming Laptop in india' tab and clicking it\n",
    "search_field = driver.find_element(By.XPATH,\"/html/body/div[3]/div/div[2]/div[2]/div[4]/ul/li[9]/a\")\n",
    "search_field.click()"
   ]
  },
  {
   "cell_type": "code",
   "execution_count": 1128,
   "metadata": {},
   "outputs": [
    {
     "data": {
      "text/plain": [
       "10"
      ]
     },
     "execution_count": 1128,
     "metadata": {},
     "output_type": "execute_result"
    }
   ],
   "source": [
    "#let's extract all web elements having Laptop Name as parent tag\n",
    "name_tags= driver.find_elements(By.XPATH, '//div[@class=\"TopNumbeHeading active sticky-footer\"]')\n",
    "len(name_tags)"
   ]
  },
  {
   "cell_type": "code",
   "execution_count": 1129,
   "metadata": {},
   "outputs": [
    {
     "data": {
      "text/plain": [
       "10"
      ]
     },
     "execution_count": 1129,
     "metadata": {},
     "output_type": "execute_result"
    }
   ],
   "source": [
    "#extracting Laptop name\n",
    "name = []\n",
    "for i in name_tags:\n",
    "    name.append(i.text.split(\"\\n\")[1])\n",
    "len(name)"
   ]
  },
  {
   "cell_type": "code",
   "execution_count": 1138,
   "metadata": {},
   "outputs": [],
   "source": [
    "#let's extract all web elements having Laptop Processor as parent tag\n",
    "processor_tags= driver.find_elements(By.XPATH, '//tr')"
   ]
  },
  {
   "cell_type": "code",
   "execution_count": 1139,
   "metadata": {},
   "outputs": [
    {
     "data": {
      "text/plain": [
       "10"
      ]
     },
     "execution_count": 1139,
     "metadata": {},
     "output_type": "execute_result"
    }
   ],
   "source": [
    "#extracting Laptop Processor\n",
    "processor = []\n",
    "processor_test = []\n",
    "for i in processor_tags:\n",
    "    processor_test.append(i.text)\n",
    "#processor_test\n",
    "\n",
    "#to get string with substring(only 'Processor :') in it\n",
    "processor_try = [i for i in processor_test if (\"Processor :\" in i and \"Graphics Processor :\" not in i) ]\n",
    "#processor_try\n",
    "\n",
    "processor = [j.split(\":\")[1] for j in processor_try]\n",
    "len(processor)"
   ]
  },
  {
   "cell_type": "code",
   "execution_count": 1142,
   "metadata": {},
   "outputs": [],
   "source": [
    "#let's extract all web elements having Laptop Display as parent tag\n",
    "display_tags= driver.find_elements(By.XPATH, '//tr')"
   ]
  },
  {
   "cell_type": "code",
   "execution_count": 1143,
   "metadata": {},
   "outputs": [
    {
     "data": {
      "text/plain": [
       "10"
      ]
     },
     "execution_count": 1143,
     "metadata": {},
     "output_type": "execute_result"
    }
   ],
   "source": [
    "#extracting Laptop Display\n",
    "display = []\n",
    "display_test = []\n",
    "for i in display_tags:\n",
    "    display_test.append(i.text)\n",
    "display_test\n",
    "\n",
    "#to get string with substring(Display :) in it\n",
    "display_try = [i for i in display_test if \"Display :\" in i]\n",
    "display_try\n",
    "\n",
    "display = [j.split(\":\")[1] for j in display_try]\n",
    "len(display)"
   ]
  },
  {
   "cell_type": "code",
   "execution_count": 1146,
   "metadata": {},
   "outputs": [],
   "source": [
    "#let's extract all web elements having OS as parent tag\n",
    "os_tags= driver.find_elements(By.XPATH, '//tr')"
   ]
  },
  {
   "cell_type": "code",
   "execution_count": 1150,
   "metadata": {},
   "outputs": [
    {
     "data": {
      "text/plain": [
       "10"
      ]
     },
     "execution_count": 1150,
     "metadata": {},
     "output_type": "execute_result"
    }
   ],
   "source": [
    "#extracting OS\n",
    "os = []\n",
    "os_test = []\n",
    "for i in os_tags:\n",
    "    os_test.append(i.text)\n",
    "#os_test\n",
    "\n",
    "#to get string with substring(OS :) in it\n",
    "os_try = [i for i in os_test if \"OS :\" in i]\n",
    "#os_try\n",
    "\n",
    "os = [j.split(\":\")[1] for j in os_try]\n",
    "len(os)"
   ]
  },
  {
   "cell_type": "code",
   "execution_count": 1155,
   "metadata": {},
   "outputs": [],
   "source": [
    "#let's extract all web elements having Memory as parent tag\n",
    "memory_tags= driver.find_elements(By.XPATH, '//tr')"
   ]
  },
  {
   "cell_type": "code",
   "execution_count": 1156,
   "metadata": {},
   "outputs": [
    {
     "data": {
      "text/plain": [
       "10"
      ]
     },
     "execution_count": 1156,
     "metadata": {},
     "output_type": "execute_result"
    }
   ],
   "source": [
    "#extracting Memory\n",
    "memory_test = []\n",
    "memory = []\n",
    "for i in memory_tags:\n",
    "    memory_test.append(i.text)\n",
    "#memory_test\n",
    "\n",
    "#to get string with substring(Memory :) in it\n",
    "memory_try = [i for i in memory_test if \"Memory :\" in i]\n",
    "#memory_try\n",
    "\n",
    "memory = [j.split(\":\")[1] for j in memory_try]\n",
    "len(memory)"
   ]
  },
  {
   "cell_type": "code",
   "execution_count": 1161,
   "metadata": {},
   "outputs": [],
   "source": [
    "#let's extract all web elements having Graphics Processor as parent tag\n",
    "gp_tags= driver.find_elements(By.XPATH, '//tr')"
   ]
  },
  {
   "cell_type": "code",
   "execution_count": 1162,
   "metadata": {},
   "outputs": [
    {
     "data": {
      "text/plain": [
       "10"
      ]
     },
     "execution_count": 1162,
     "metadata": {},
     "output_type": "execute_result"
    }
   ],
   "source": [
    "#extracting Graphics Processor\n",
    "gp = []\n",
    "gp_test = []\n",
    "for i in gp_tags:\n",
    "    gp_test.append(i.text)\n",
    "#gp_test\n",
    "\n",
    "#to get string with substring(Graphics Processor :) in it\n",
    "gp_try = [i for i in gp_test if \"Graphics Processor :\" in i]\n",
    "#gp_try\n",
    "\n",
    "gp = [j.split(\":\")[1] for j in gp_try]\n",
    "len(gp)"
   ]
  },
  {
   "cell_type": "code",
   "execution_count": 1167,
   "metadata": {},
   "outputs": [],
   "source": [
    "#let's extract all web elements having Body as parent tag\n",
    "body_tags= driver.find_elements(By.XPATH, '//tr')"
   ]
  },
  {
   "cell_type": "code",
   "execution_count": 1168,
   "metadata": {},
   "outputs": [
    {
     "data": {
      "text/plain": [
       "10"
      ]
     },
     "execution_count": 1168,
     "metadata": {},
     "output_type": "execute_result"
    }
   ],
   "source": [
    "#extracting Body\n",
    "body = []\n",
    "body_test = []\n",
    "for i in body_tags:\n",
    "    body_test.append(i.text)\n",
    "#body_test\n",
    "\n",
    "#to get string with substring(Body :) in it\n",
    "body_try = [i for i in body_test if \"Body :\" in i]\n",
    "body_try\n",
    "\n",
    "body = [j.split(\":\")[1] for j in body_try]\n",
    "len(body)"
   ]
  },
  {
   "cell_type": "code",
   "execution_count": 1169,
   "metadata": {},
   "outputs": [],
   "source": [
    "#let's extract all web elements having Price as parent tag\n",
    "price_tags= driver.find_elements(By.XPATH, '//td[@class=\"smprice\"]')"
   ]
  },
  {
   "cell_type": "code",
   "execution_count": 1171,
   "metadata": {},
   "outputs": [
    {
     "data": {
      "text/plain": [
       "10"
      ]
     },
     "execution_count": 1171,
     "metadata": {},
     "output_type": "execute_result"
    }
   ],
   "source": [
    "#extracting Price\n",
    "price = []\n",
    "for i in price_tags:\n",
    "    price.append(i.text)\n",
    "len(price)"
   ]
  },
  {
   "cell_type": "code",
   "execution_count": 1172,
   "metadata": {},
   "outputs": [],
   "source": [
    "#let's extract all web elements having Seller as parent tag\n",
    "seller_tags= driver.find_elements(By.XPATH, '//td[@class=\"smmerchant\"]')"
   ]
  },
  {
   "cell_type": "code",
   "execution_count": 1174,
   "metadata": {},
   "outputs": [
    {
     "data": {
      "text/plain": [
       "10"
      ]
     },
     "execution_count": 1174,
     "metadata": {},
     "output_type": "execute_result"
    }
   ],
   "source": [
    "#extracting Seller\n",
    "seller = []\n",
    "for i in seller_tags:\n",
    "    seller.append(i.text)\n",
    "len(seller)"
   ]
  },
  {
   "cell_type": "code",
   "execution_count": 1176,
   "metadata": {},
   "outputs": [
    {
     "data": {
      "text/html": [
       "<div>\n",
       "<style scoped>\n",
       "    .dataframe tbody tr th:only-of-type {\n",
       "        vertical-align: middle;\n",
       "    }\n",
       "\n",
       "    .dataframe tbody tr th {\n",
       "        vertical-align: top;\n",
       "    }\n",
       "\n",
       "    .dataframe thead th {\n",
       "        text-align: right;\n",
       "    }\n",
       "</style>\n",
       "<table border=\"1\" class=\"dataframe\">\n",
       "  <thead>\n",
       "    <tr style=\"text-align: right;\">\n",
       "      <th></th>\n",
       "      <th>Laptop Name</th>\n",
       "      <th>Seller</th>\n",
       "      <th>Price</th>\n",
       "      <th>Processor</th>\n",
       "      <th>Display</th>\n",
       "      <th>OS</th>\n",
       "      <th>Memory</th>\n",
       "      <th>Graphics Processor</th>\n",
       "      <th>Body</th>\n",
       "    </tr>\n",
       "  </thead>\n",
       "  <tbody>\n",
       "    <tr>\n",
       "      <th>0</th>\n",
       "      <td>MSI TITAN GT77-12UHS</td>\n",
       "      <td>N/A</td>\n",
       "      <td>N/A</td>\n",
       "      <td>12th Gen Intel Core i9-12900HX 16 core processor</td>\n",
       "      <td>17.3″ (3840 x 2160) screen, 120 Hz refresh rate</td>\n",
       "      <td>Windows 11 Home</td>\n",
       "      <td>64 GB DDR5 RAM &amp; 2 TB SSD</td>\n",
       "      <td>16 GB DDR6 NVIDIA GeForce RTX 3080 Ti Graphic...</td>\n",
       "      <td>397 x 330 x 23 mm dimension &amp; 3.3 kg weight</td>\n",
       "    </tr>\n",
       "    <tr>\n",
       "      <th>1</th>\n",
       "      <td>ALIENWARE X17 R2</td>\n",
       "      <td>Dell</td>\n",
       "      <td>₹ 389,990</td>\n",
       "      <td>12th Gen Intel Core i9-12900HK 14 core proces...</td>\n",
       "      <td>17.3″ (1920x1080) screen, 360 Hz refresh rate</td>\n",
       "      <td>Windows 11 Home</td>\n",
       "      <td>32 GB DDR5 RAM &amp; 1 TB SSD</td>\n",
       "      <td>16 GB DDR6 NVIDIA GeForce RTX 3080 Ti, Graphi...</td>\n",
       "      <td>399.23 x 299.57 x 14.75 mm dimension &amp; 3.02 k...</td>\n",
       "    </tr>\n",
       "    <tr>\n",
       "      <th>2</th>\n",
       "      <td>ACER PREDATOR TRITON 500 SE PT516-52S</td>\n",
       "      <td>N/A</td>\n",
       "      <td>₹ 300,000</td>\n",
       "      <td>12th Gen Intel Core i7-12700H 14 core process...</td>\n",
       "      <td>16″ (2560 x 1600) screen, 240 Hz refresh rate</td>\n",
       "      <td>Windows 11 Home</td>\n",
       "      <td>32 GB DDR5 RAM &amp; 2 TB SSD</td>\n",
       "      <td>8 GB DDR6 NVIDIA GeForce RTXTM 3070 Ti Graphi...</td>\n",
       "      <td>358 x 262 x 19.9 mm dimension &amp; 2.4 kg weight</td>\n",
       "    </tr>\n",
       "    <tr>\n",
       "      <th>3</th>\n",
       "      <td>OMEN BY HP (16-B1371TX)</td>\n",
       "      <td>Amazon</td>\n",
       "      <td>₹ 195,600</td>\n",
       "      <td>12th Gen Intel Core i7-12700H 14 core process...</td>\n",
       "      <td>16.1″ (2560 x 1440) screen</td>\n",
       "      <td>Windows 11 Home</td>\n",
       "      <td>8 GB DDR5 RAM &amp; 1 TB SSD</td>\n",
       "      <td>8 GB GDDR6 NVIDIA GeForce RTX 3070 Graphics card</td>\n",
       "      <td>369 x 248 x 23 mm dimension &amp; 2.32 kg weight</td>\n",
       "    </tr>\n",
       "    <tr>\n",
       "      <th>4</th>\n",
       "      <td>ACER PREDATOR HELIOS 300 AN515-45 (NH.QBRSI.0</td>\n",
       "      <td>N/A</td>\n",
       "      <td>₹ 172,999</td>\n",
       "      <td>AMD Ryzen 9-5900HX 8 core processor</td>\n",
       "      <td>15.6″ (2560 x 1440) screen, 165 Hz refresh rate</td>\n",
       "      <td>Windows 11 Home</td>\n",
       "      <td>16 GB DDR4 RAM &amp; 512 GB SSD</td>\n",
       "      <td>8 GB DDR6 NVIDIA GeForce RTX 3070 Graphics card</td>\n",
       "      <td>363 x 255 x 23.9 mm dimension &amp; 2.4 kg weight</td>\n",
       "    </tr>\n",
       "    <tr>\n",
       "      <th>5</th>\n",
       "      <td>MSI DELTA 15 (A5EFK-083IN)</td>\n",
       "      <td>N/A</td>\n",
       "      <td>₹ 188,990</td>\n",
       "      <td>AMD 5th Gen Ryzen 9-5900HX 8 core processor w...</td>\n",
       "      <td>15.6″ (1920 x 1080) screen, 240Hz refresh rate</td>\n",
       "      <td>Windows 11 Home</td>\n",
       "      <td>16 GB DDR4 RAM &amp; 1 TB SSD</td>\n",
       "      <td>10 GB DDR6 AMD Radeon RX 6700M Graphics card</td>\n",
       "      <td>357 x 247 x 19 mm dimension &amp; 1.9 kg weight</td>\n",
       "    </tr>\n",
       "    <tr>\n",
       "      <th>6</th>\n",
       "      <td>OMEN BY HP (16-C0141AX)</td>\n",
       "      <td>Amazon</td>\n",
       "      <td>₹ 129,899</td>\n",
       "      <td>AMD Ryzen™ 9 5900HX 8 core processor with 3.3...</td>\n",
       "      <td>16.1″ (2560 x 1440) screen</td>\n",
       "      <td>Windows 11 Home</td>\n",
       "      <td>16 GB DDR4 RAM &amp; 1 TB NVMe</td>\n",
       "      <td>8 GB GDDR6 AMD Radeon™ RX 6600M Graphics card</td>\n",
       "      <td>36.92 x 24.8 x 2.3 mm dimension &amp; 2.3 kg weight</td>\n",
       "    </tr>\n",
       "    <tr>\n",
       "      <th>7</th>\n",
       "      <td>LENOVO LEGION 5I PRO (82RF00MGIN)</td>\n",
       "      <td>N/A</td>\n",
       "      <td>₹ 230,890</td>\n",
       "      <td>12th Gen Intel Core i7-12700H 14 core process...</td>\n",
       "      <td>16″ (2560 x 1600) screen, 165 Hz refresh rate</td>\n",
       "      <td>Windows 11 Home</td>\n",
       "      <td>16 GB DDR5 RAM &amp; 1 TB SSD</td>\n",
       "      <td>6 GB DDR6 NVIDIA GeForce RTX 3060 Graphics card</td>\n",
       "      <td>359.9 x 264.4 x 19.9 mm dimension &amp; 2.5 kg we...</td>\n",
       "    </tr>\n",
       "    <tr>\n",
       "      <th>8</th>\n",
       "      <td>ALIENWARE M15 R5 RYZEN EDITION ICC-C780001WIN</td>\n",
       "      <td>Amazon</td>\n",
       "      <td>₹ 140,999</td>\n",
       "      <td>AMD Ryzen R7-5800H 8 core processor with 4.40...</td>\n",
       "      <td>15.6″ (1920 x 1080) screen, 165Hz refresh rate</td>\n",
       "      <td>Windows 11 Home</td>\n",
       "      <td>16 GB DDR4 RAM &amp; 512 GB SSD</td>\n",
       "      <td>6 GB DDR6 NVIDIA GeForce RTX 3060 Graphics card</td>\n",
       "      <td>356.2 x 272.5 x 22.85 mm dimension &amp; 2.69 kg ...</td>\n",
       "    </tr>\n",
       "    <tr>\n",
       "      <th>9</th>\n",
       "      <td>LENOVO SLIM 7 GEN 6 (82K8002JIN)</td>\n",
       "      <td>Croma</td>\n",
       "      <td>₹ 135,490</td>\n",
       "      <td>Lenovo Ryzen 7-5800H processor with 3.2 GHz c...</td>\n",
       "      <td>15.6″ screen, 165 Hz refresh rate</td>\n",
       "      <td>Windows 11 Home</td>\n",
       "      <td>16 GB DDR4 RAM &amp; 1 TB SSD</td>\n",
       "      <td>6 GB DDR6 NVIDIA GeForce 3060 Max-Q Graphics ...</td>\n",
       "      <td>356 x 252 x 16 mm dimension &amp; 1.9 kg weight</td>\n",
       "    </tr>\n",
       "  </tbody>\n",
       "</table>\n",
       "</div>"
      ],
      "text/plain": [
       "                                     Laptop Name  Seller      Price  \\\n",
       "0                           MSI TITAN GT77-12UHS     N/A        N/A   \n",
       "1                               ALIENWARE X17 R2    Dell  ₹ 389,990   \n",
       "2          ACER PREDATOR TRITON 500 SE PT516-52S     N/A  ₹ 300,000   \n",
       "3                        OMEN BY HP (16-B1371TX)  Amazon  ₹ 195,600   \n",
       "4  ACER PREDATOR HELIOS 300 AN515-45 (NH.QBRSI.0     N/A  ₹ 172,999   \n",
       "5                     MSI DELTA 15 (A5EFK-083IN)     N/A  ₹ 188,990   \n",
       "6                        OMEN BY HP (16-C0141AX)  Amazon  ₹ 129,899   \n",
       "7              LENOVO LEGION 5I PRO (82RF00MGIN)     N/A  ₹ 230,890   \n",
       "8  ALIENWARE M15 R5 RYZEN EDITION ICC-C780001WIN  Amazon  ₹ 140,999   \n",
       "9               LENOVO SLIM 7 GEN 6 (82K8002JIN)   Croma  ₹ 135,490   \n",
       "\n",
       "                                           Processor  \\\n",
       "0   12th Gen Intel Core i9-12900HX 16 core processor   \n",
       "1   12th Gen Intel Core i9-12900HK 14 core proces...   \n",
       "2   12th Gen Intel Core i7-12700H 14 core process...   \n",
       "3   12th Gen Intel Core i7-12700H 14 core process...   \n",
       "4                AMD Ryzen 9-5900HX 8 core processor   \n",
       "5   AMD 5th Gen Ryzen 9-5900HX 8 core processor w...   \n",
       "6   AMD Ryzen™ 9 5900HX 8 core processor with 3.3...   \n",
       "7   12th Gen Intel Core i7-12700H 14 core process...   \n",
       "8   AMD Ryzen R7-5800H 8 core processor with 4.40...   \n",
       "9   Lenovo Ryzen 7-5800H processor with 3.2 GHz c...   \n",
       "\n",
       "                                            Display                OS  \\\n",
       "0   17.3″ (3840 x 2160) screen, 120 Hz refresh rate   Windows 11 Home   \n",
       "1     17.3″ (1920x1080) screen, 360 Hz refresh rate   Windows 11 Home   \n",
       "2     16″ (2560 x 1600) screen, 240 Hz refresh rate   Windows 11 Home   \n",
       "3                        16.1″ (2560 x 1440) screen   Windows 11 Home   \n",
       "4   15.6″ (2560 x 1440) screen, 165 Hz refresh rate   Windows 11 Home   \n",
       "5    15.6″ (1920 x 1080) screen, 240Hz refresh rate   Windows 11 Home   \n",
       "6                        16.1″ (2560 x 1440) screen   Windows 11 Home   \n",
       "7     16″ (2560 x 1600) screen, 165 Hz refresh rate   Windows 11 Home   \n",
       "8    15.6″ (1920 x 1080) screen, 165Hz refresh rate   Windows 11 Home   \n",
       "9                 15.6″ screen, 165 Hz refresh rate   Windows 11 Home   \n",
       "\n",
       "                         Memory  \\\n",
       "0     64 GB DDR5 RAM & 2 TB SSD   \n",
       "1     32 GB DDR5 RAM & 1 TB SSD   \n",
       "2     32 GB DDR5 RAM & 2 TB SSD   \n",
       "3      8 GB DDR5 RAM & 1 TB SSD   \n",
       "4   16 GB DDR4 RAM & 512 GB SSD   \n",
       "5     16 GB DDR4 RAM & 1 TB SSD   \n",
       "6    16 GB DDR4 RAM & 1 TB NVMe   \n",
       "7     16 GB DDR5 RAM & 1 TB SSD   \n",
       "8   16 GB DDR4 RAM & 512 GB SSD   \n",
       "9     16 GB DDR4 RAM & 1 TB SSD   \n",
       "\n",
       "                                  Graphics Processor  \\\n",
       "0   16 GB DDR6 NVIDIA GeForce RTX 3080 Ti Graphic...   \n",
       "1   16 GB DDR6 NVIDIA GeForce RTX 3080 Ti, Graphi...   \n",
       "2   8 GB DDR6 NVIDIA GeForce RTXTM 3070 Ti Graphi...   \n",
       "3   8 GB GDDR6 NVIDIA GeForce RTX 3070 Graphics card   \n",
       "4    8 GB DDR6 NVIDIA GeForce RTX 3070 Graphics card   \n",
       "5       10 GB DDR6 AMD Radeon RX 6700M Graphics card   \n",
       "6      8 GB GDDR6 AMD Radeon™ RX 6600M Graphics card   \n",
       "7    6 GB DDR6 NVIDIA GeForce RTX 3060 Graphics card   \n",
       "8    6 GB DDR6 NVIDIA GeForce RTX 3060 Graphics card   \n",
       "9   6 GB DDR6 NVIDIA GeForce 3060 Max-Q Graphics ...   \n",
       "\n",
       "                                                Body  \n",
       "0        397 x 330 x 23 mm dimension & 3.3 kg weight  \n",
       "1   399.23 x 299.57 x 14.75 mm dimension & 3.02 k...  \n",
       "2      358 x 262 x 19.9 mm dimension & 2.4 kg weight  \n",
       "3       369 x 248 x 23 mm dimension & 2.32 kg weight  \n",
       "4      363 x 255 x 23.9 mm dimension & 2.4 kg weight  \n",
       "5        357 x 247 x 19 mm dimension & 1.9 kg weight  \n",
       "6    36.92 x 24.8 x 2.3 mm dimension & 2.3 kg weight  \n",
       "7   359.9 x 264.4 x 19.9 mm dimension & 2.5 kg we...  \n",
       "8   356.2 x 272.5 x 22.85 mm dimension & 2.69 kg ...  \n",
       "9        356 x 252 x 16 mm dimension & 1.9 kg weight  "
      ]
     },
     "execution_count": 1176,
     "metadata": {},
     "output_type": "execute_result"
    }
   ],
   "source": [
    "laptop = pd.DataFrame()\n",
    "laptop['Laptop Name'] = name\n",
    "laptop['Seller'] = seller\n",
    "laptop['Price'] = price\n",
    "laptop['Processor'] = processor\n",
    "laptop['Display'] = display\n",
    "laptop['OS'] = os\n",
    "laptop['Memory'] = memory\n",
    "laptop['Graphics Processor'] = gp\n",
    "laptop['Body'] = body\n",
    "laptop"
   ]
  },
  {
   "cell_type": "code",
   "execution_count": 1177,
   "metadata": {},
   "outputs": [],
   "source": [
    "#Creating csv file\n",
    "laptop.to_csv('Web_scraping_assignment_3_q7.csv')"
   ]
  },
  {
   "cell_type": "code",
   "execution_count": 1178,
   "metadata": {},
   "outputs": [],
   "source": [
    "driver.close()"
   ]
  },
  {
   "cell_type": "markdown",
   "metadata": {},
   "source": [
    " "
   ]
  },
  {
   "cell_type": "markdown",
   "metadata": {},
   "source": [
    "# Q8. Python program to scrape the details for all billionaires from www.forbes.com"
   ]
  },
  {
   "cell_type": "code",
   "execution_count": 1296,
   "metadata": {},
   "outputs": [],
   "source": [
    "#connecting to webdriver\n",
    "driver = webdriver.Chrome('chromedriver')"
   ]
  },
  {
   "cell_type": "code",
   "execution_count": 1297,
   "metadata": {},
   "outputs": [],
   "source": [
    "url = 'https://www.forbes.com/'\n",
    "driver.get(url)"
   ]
  },
  {
   "cell_type": "code",
   "execution_count": 1298,
   "metadata": {},
   "outputs": [],
   "source": [
    "#Finding web element for 'Explore' tab and clicking it\n",
    "search_field = driver.find_element(By.XPATH,\"/html/body/div[1]/header/nav/div[1]/button[1]\")\n",
    "search_field.click()"
   ]
  },
  {
   "cell_type": "code",
   "execution_count": 1299,
   "metadata": {},
   "outputs": [],
   "source": [
    "#Finding web element for 'Billionaires' tab and clicking it\n",
    "search_field = driver.find_element(By.XPATH,\"/html/body/div[1]/header/nav/div[3]/ul/li[1]\")\n",
    "search_field.click()"
   ]
  },
  {
   "cell_type": "code",
   "execution_count": 1300,
   "metadata": {},
   "outputs": [],
   "source": [
    "#Finding web element for 'World's Billionaires' tab and clicking it\n",
    "search_field = driver.find_element(By.XPATH,\"/html/body/div[1]/header/nav/div[3]/ul/li[1]/div[2]/ul/li[2]/a\")\n",
    "search_field.click()"
   ]
  },
  {
   "cell_type": "code",
   "execution_count": 1302,
   "metadata": {},
   "outputs": [
    {
     "data": {
      "text/plain": [
       "200"
      ]
     },
     "execution_count": 1302,
     "metadata": {},
     "output_type": "execute_result"
    }
   ],
   "source": [
    "#let's extract all web elements having Rank as parent tag\n",
    "rank_tags = driver.find_elements(By.XPATH, '//div[@class=\"rank\"]')\n",
    "len(rank_tags)"
   ]
  },
  {
   "cell_type": "code",
   "execution_count": 1303,
   "metadata": {},
   "outputs": [],
   "source": [
    "#extracting ranks\n",
    "rank = []\n",
    "for i in rank_tags:\n",
    "    rank.append(i.text.split(\".\")[0])"
   ]
  },
  {
   "cell_type": "code",
   "execution_count": 1305,
   "metadata": {},
   "outputs": [
    {
     "data": {
      "text/plain": [
       "200"
      ]
     },
     "execution_count": 1305,
     "metadata": {},
     "output_type": "execute_result"
    }
   ],
   "source": [
    "#let's extract all web elements having Name as parent tag\n",
    "name_tags = driver.find_elements(By.XPATH, '//div[@class=\"personName\"]')\n",
    "len(name_tags)"
   ]
  },
  {
   "cell_type": "code",
   "execution_count": 1306,
   "metadata": {},
   "outputs": [
    {
     "data": {
      "text/plain": [
       "200"
      ]
     },
     "execution_count": 1306,
     "metadata": {},
     "output_type": "execute_result"
    }
   ],
   "source": [
    "#extracting Names\n",
    "name = []\n",
    "for i in name_tags:\n",
    "    name.append(i.text)\n",
    "len(name)"
   ]
  },
  {
   "cell_type": "code",
   "execution_count": 1307,
   "metadata": {},
   "outputs": [
    {
     "data": {
      "text/plain": [
       "200"
      ]
     },
     "execution_count": 1307,
     "metadata": {},
     "output_type": "execute_result"
    }
   ],
   "source": [
    "#let's extract all web elements having Net Worth as parent tag\n",
    "worth_tags = driver.find_elements(By.XPATH, '//div[@class=\"netWorth\"]')\n",
    "len(worth_tags)"
   ]
  },
  {
   "cell_type": "code",
   "execution_count": 1308,
   "metadata": {},
   "outputs": [
    {
     "data": {
      "text/plain": [
       "200"
      ]
     },
     "execution_count": 1308,
     "metadata": {},
     "output_type": "execute_result"
    }
   ],
   "source": [
    "#extracting Net Worth\n",
    "worth = []\n",
    "for i in worth_tags:\n",
    "    worth.append(i.text)\n",
    "len(worth)"
   ]
  },
  {
   "cell_type": "code",
   "execution_count": 1309,
   "metadata": {},
   "outputs": [
    {
     "data": {
      "text/plain": [
       "200"
      ]
     },
     "execution_count": 1309,
     "metadata": {},
     "output_type": "execute_result"
    }
   ],
   "source": [
    "#let's extract all web elements having Age as parent tag\n",
    "age_tags = driver.find_elements(By.XPATH, '//div[@class=\"age\"]')\n",
    "len(age_tags)"
   ]
  },
  {
   "cell_type": "code",
   "execution_count": 1310,
   "metadata": {},
   "outputs": [
    {
     "data": {
      "text/plain": [
       "200"
      ]
     },
     "execution_count": 1310,
     "metadata": {},
     "output_type": "execute_result"
    }
   ],
   "source": [
    "#extracting Age\n",
    "age = []\n",
    "for i in age_tags:\n",
    "    age.append(i.text)\n",
    "len(age)"
   ]
  },
  {
   "cell_type": "code",
   "execution_count": 1311,
   "metadata": {},
   "outputs": [
    {
     "data": {
      "text/plain": [
       "200"
      ]
     },
     "execution_count": 1311,
     "metadata": {},
     "output_type": "execute_result"
    }
   ],
   "source": [
    "#let's extract all web elements having Country as parent tag\n",
    "country_tags = driver.find_elements(By.XPATH, '//div[@class=\"countryOfCitizenship\"]')\n",
    "len(country_tags)"
   ]
  },
  {
   "cell_type": "code",
   "execution_count": 1312,
   "metadata": {},
   "outputs": [
    {
     "data": {
      "text/plain": [
       "200"
      ]
     },
     "execution_count": 1312,
     "metadata": {},
     "output_type": "execute_result"
    }
   ],
   "source": [
    "#extracting Country\n",
    "country = []\n",
    "for i in country_tags:\n",
    "    country.append(i.text)\n",
    "len(country)"
   ]
  },
  {
   "cell_type": "code",
   "execution_count": 1313,
   "metadata": {},
   "outputs": [
    {
     "data": {
      "text/plain": [
       "200"
      ]
     },
     "execution_count": 1313,
     "metadata": {},
     "output_type": "execute_result"
    }
   ],
   "source": [
    "#let's extract all web elements having Source of income as parent tag\n",
    "source_tags = driver.find_elements(By.XPATH, '//div[@class=\"source\"]')\n",
    "len(source_tags)"
   ]
  },
  {
   "cell_type": "code",
   "execution_count": 1314,
   "metadata": {},
   "outputs": [
    {
     "data": {
      "text/plain": [
       "200"
      ]
     },
     "execution_count": 1314,
     "metadata": {},
     "output_type": "execute_result"
    }
   ],
   "source": [
    "#extracting Source of income\n",
    "source = []\n",
    "for i in source_tags:\n",
    "    source.append(i.text)\n",
    "len(source)"
   ]
  },
  {
   "cell_type": "code",
   "execution_count": 1315,
   "metadata": {},
   "outputs": [
    {
     "data": {
      "text/plain": [
       "200"
      ]
     },
     "execution_count": 1315,
     "metadata": {},
     "output_type": "execute_result"
    }
   ],
   "source": [
    "#let's extract all web elements having Industry as parent tag\n",
    "industry_tags = driver.find_elements(By.XPATH, '//div[@class=\"category\"]')\n",
    "len(industry_tags)"
   ]
  },
  {
   "cell_type": "code",
   "execution_count": 1316,
   "metadata": {},
   "outputs": [
    {
     "data": {
      "text/plain": [
       "200"
      ]
     },
     "execution_count": 1316,
     "metadata": {},
     "output_type": "execute_result"
    }
   ],
   "source": [
    "#extracting Industry\n",
    "industry = []\n",
    "for i in industry_tags:\n",
    "    industry.append(i.text)\n",
    "len(industry)"
   ]
  },
  {
   "cell_type": "code",
   "execution_count": 1317,
   "metadata": {},
   "outputs": [
    {
     "data": {
      "text/html": [
       "<div>\n",
       "<style scoped>\n",
       "    .dataframe tbody tr th:only-of-type {\n",
       "        vertical-align: middle;\n",
       "    }\n",
       "\n",
       "    .dataframe tbody tr th {\n",
       "        vertical-align: top;\n",
       "    }\n",
       "\n",
       "    .dataframe thead th {\n",
       "        text-align: right;\n",
       "    }\n",
       "</style>\n",
       "<table border=\"1\" class=\"dataframe\">\n",
       "  <thead>\n",
       "    <tr style=\"text-align: right;\">\n",
       "      <th></th>\n",
       "      <th>Rank</th>\n",
       "      <th>Name</th>\n",
       "      <th>Net Worth</th>\n",
       "      <th>Age</th>\n",
       "      <th>Country</th>\n",
       "      <th>Source of income</th>\n",
       "      <th>Industry</th>\n",
       "    </tr>\n",
       "  </thead>\n",
       "  <tbody>\n",
       "    <tr>\n",
       "      <th>0</th>\n",
       "      <td>1</td>\n",
       "      <td>Elon Musk</td>\n",
       "      <td>$219 B</td>\n",
       "      <td>50</td>\n",
       "      <td>United States</td>\n",
       "      <td>Tesla, SpaceX</td>\n",
       "      <td>Automotive</td>\n",
       "    </tr>\n",
       "    <tr>\n",
       "      <th>1</th>\n",
       "      <td>2</td>\n",
       "      <td>Jeff Bezos</td>\n",
       "      <td>$171 B</td>\n",
       "      <td>58</td>\n",
       "      <td>United States</td>\n",
       "      <td>Amazon</td>\n",
       "      <td>Technology</td>\n",
       "    </tr>\n",
       "    <tr>\n",
       "      <th>2</th>\n",
       "      <td>3</td>\n",
       "      <td>Bernard Arnault &amp; family</td>\n",
       "      <td>$158 B</td>\n",
       "      <td>73</td>\n",
       "      <td>France</td>\n",
       "      <td>LVMH</td>\n",
       "      <td>Fashion &amp; Retail</td>\n",
       "    </tr>\n",
       "    <tr>\n",
       "      <th>3</th>\n",
       "      <td>4</td>\n",
       "      <td>Bill Gates</td>\n",
       "      <td>$129 B</td>\n",
       "      <td>66</td>\n",
       "      <td>United States</td>\n",
       "      <td>Microsoft</td>\n",
       "      <td>Technology</td>\n",
       "    </tr>\n",
       "    <tr>\n",
       "      <th>4</th>\n",
       "      <td>5</td>\n",
       "      <td>Warren Buffett</td>\n",
       "      <td>$118 B</td>\n",
       "      <td>91</td>\n",
       "      <td>United States</td>\n",
       "      <td>Berkshire Hathaway</td>\n",
       "      <td>Finance &amp; Investments</td>\n",
       "    </tr>\n",
       "    <tr>\n",
       "      <th>...</th>\n",
       "      <td>...</td>\n",
       "      <td>...</td>\n",
       "      <td>...</td>\n",
       "      <td>...</td>\n",
       "      <td>...</td>\n",
       "      <td>...</td>\n",
       "      <td>...</td>\n",
       "    </tr>\n",
       "    <tr>\n",
       "      <th>195</th>\n",
       "      <td>192</td>\n",
       "      <td>Marcel Herrmann Telles</td>\n",
       "      <td>$10.3 B</td>\n",
       "      <td>72</td>\n",
       "      <td>Brazil</td>\n",
       "      <td>beer</td>\n",
       "      <td>Food &amp; Beverage</td>\n",
       "    </tr>\n",
       "    <tr>\n",
       "      <th>196</th>\n",
       "      <td>197</td>\n",
       "      <td>Leon Black</td>\n",
       "      <td>$10 B</td>\n",
       "      <td>70</td>\n",
       "      <td>United States</td>\n",
       "      <td>private equity</td>\n",
       "      <td>Finance &amp; Investments</td>\n",
       "    </tr>\n",
       "    <tr>\n",
       "      <th>197</th>\n",
       "      <td>197</td>\n",
       "      <td>Joe Gebbia</td>\n",
       "      <td>$10 B</td>\n",
       "      <td>40</td>\n",
       "      <td>United States</td>\n",
       "      <td>Airbnb</td>\n",
       "      <td>Technology</td>\n",
       "    </tr>\n",
       "    <tr>\n",
       "      <th>198</th>\n",
       "      <td>197</td>\n",
       "      <td>David Geffen</td>\n",
       "      <td>$10 B</td>\n",
       "      <td>79</td>\n",
       "      <td>United States</td>\n",
       "      <td>movies, record labels</td>\n",
       "      <td>Media &amp; Entertainment</td>\n",
       "    </tr>\n",
       "    <tr>\n",
       "      <th>199</th>\n",
       "      <td>197</td>\n",
       "      <td>Yu Renrong</td>\n",
       "      <td>$10 B</td>\n",
       "      <td>56</td>\n",
       "      <td>China</td>\n",
       "      <td>semiconductors</td>\n",
       "      <td>Manufacturing</td>\n",
       "    </tr>\n",
       "  </tbody>\n",
       "</table>\n",
       "<p>200 rows × 7 columns</p>\n",
       "</div>"
      ],
      "text/plain": [
       "    Rank                      Name Net Worth Age        Country  \\\n",
       "0      1                 Elon Musk    $219 B  50  United States   \n",
       "1      2                Jeff Bezos    $171 B  58  United States   \n",
       "2      3  Bernard Arnault & family    $158 B  73         France   \n",
       "3      4                Bill Gates    $129 B  66  United States   \n",
       "4      5            Warren Buffett    $118 B  91  United States   \n",
       "..   ...                       ...       ...  ..            ...   \n",
       "195  192    Marcel Herrmann Telles   $10.3 B  72         Brazil   \n",
       "196  197                Leon Black     $10 B  70  United States   \n",
       "197  197                Joe Gebbia     $10 B  40  United States   \n",
       "198  197              David Geffen     $10 B  79  United States   \n",
       "199  197                Yu Renrong     $10 B  56          China   \n",
       "\n",
       "          Source of income               Industry  \n",
       "0            Tesla, SpaceX             Automotive  \n",
       "1                   Amazon             Technology  \n",
       "2                     LVMH       Fashion & Retail  \n",
       "3                Microsoft             Technology  \n",
       "4       Berkshire Hathaway  Finance & Investments  \n",
       "..                     ...                    ...  \n",
       "195                   beer        Food & Beverage  \n",
       "196         private equity  Finance & Investments  \n",
       "197                 Airbnb             Technology  \n",
       "198  movies, record labels  Media & Entertainment  \n",
       "199         semiconductors          Manufacturing  \n",
       "\n",
       "[200 rows x 7 columns]"
      ]
     },
     "execution_count": 1317,
     "metadata": {},
     "output_type": "execute_result"
    }
   ],
   "source": [
    "billion = pd.DataFrame()\n",
    "billion['Rank'] = rank\n",
    "billion['Name'] = name\n",
    "billion['Net Worth'] = worth\n",
    "billion['Age'] = age\n",
    "billion['Country'] = country\n",
    "billion['Source of income'] = source\n",
    "billion['Industry'] = industry\n",
    "billion"
   ]
  },
  {
   "cell_type": "code",
   "execution_count": 1318,
   "metadata": {},
   "outputs": [],
   "source": [
    "#Creating csv file\n",
    "billion.to_csv('Web_scraping_assignment_3_q8.csv')"
   ]
  },
  {
   "cell_type": "code",
   "execution_count": 1319,
   "metadata": {},
   "outputs": [],
   "source": [
    "driver.close()"
   ]
  },
  {
   "cell_type": "markdown",
   "metadata": {},
   "source": [
    " "
   ]
  },
  {
   "cell_type": "markdown",
   "metadata": {},
   "source": [
    "# Q9. program to extract at least 500 Comments, Comment upvote and time when comment was posted from any YouTube Video"
   ]
  },
  {
   "cell_type": "code",
   "execution_count": 879,
   "metadata": {},
   "outputs": [],
   "source": [
    "#connecting to webdriver\n",
    "driver = webdriver.Chrome('chromedriver')"
   ]
  },
  {
   "cell_type": "code",
   "execution_count": 880,
   "metadata": {},
   "outputs": [],
   "source": [
    "url = 'https://www.youtube.com/watch?v=wdZt8vmSRwc&ab_channel=VshUminwade'\n",
    "driver.get(url)"
   ]
  },
  {
   "cell_type": "code",
   "execution_count": 901,
   "metadata": {},
   "outputs": [],
   "source": [
    "#let's extract all web elements having Comments as parent tag\n",
    "comment_tags = driver.find_elements(By.XPATH, '//div[@id=\"comment-content\"]')"
   ]
  },
  {
   "cell_type": "code",
   "execution_count": 902,
   "metadata": {},
   "outputs": [
    {
     "data": {
      "text/plain": [
       "500"
      ]
     },
     "execution_count": 902,
     "metadata": {},
     "output_type": "execute_result"
    }
   ],
   "source": [
    "#extracting 500 Comments\n",
    "comment = []\n",
    "a=0\n",
    "for i in comment_tags:\n",
    "    if a<=499:\n",
    "        comment.append(i.text)\n",
    "    a=a+1\n",
    "len(comment)"
   ]
  },
  {
   "cell_type": "code",
   "execution_count": 903,
   "metadata": {},
   "outputs": [],
   "source": [
    "#let's extract all web elements having Comment upvotes as parent tag\n",
    "up_tags = driver.find_elements(By.XPATH, '//span[@id=\"vote-count-middle\"]')"
   ]
  },
  {
   "cell_type": "code",
   "execution_count": 904,
   "metadata": {},
   "outputs": [
    {
     "data": {
      "text/plain": [
       "500"
      ]
     },
     "execution_count": 904,
     "metadata": {},
     "output_type": "execute_result"
    }
   ],
   "source": [
    "#extracting 500 Comment upvotes\n",
    "up = []\n",
    "a=0\n",
    "for i in up_tags:\n",
    "    if a<=499 and (i.text.strip()!=\"\"):\n",
    "        up.append(i.text)\n",
    "    elif a<=499 and i.text.strip()==\"\":\n",
    "        up.append(\"0\")\n",
    "    a=a+1\n",
    "len(up)"
   ]
  },
  {
   "cell_type": "code",
   "execution_count": 911,
   "metadata": {},
   "outputs": [],
   "source": [
    "#let's extract all web elements having Comment time as parent tag\n",
    "time_tags = driver.find_elements(By.XPATH, '//yt-formatted-string[@class=\"published-time-text style-scope ytd-comment-renderer\"]')"
   ]
  },
  {
   "cell_type": "code",
   "execution_count": 912,
   "metadata": {},
   "outputs": [
    {
     "data": {
      "text/plain": [
       "500"
      ]
     },
     "execution_count": 912,
     "metadata": {},
     "output_type": "execute_result"
    }
   ],
   "source": [
    "#extracting 500 Comment time\n",
    "time = []\n",
    "a=0\n",
    "for i in time_tags:\n",
    "    if a<=499:\n",
    "        time.append(i.text)\n",
    "    a=a+1\n",
    "len(time)"
   ]
  },
  {
   "cell_type": "code",
   "execution_count": 913,
   "metadata": {},
   "outputs": [
    {
     "data": {
      "text/html": [
       "<div>\n",
       "<style scoped>\n",
       "    .dataframe tbody tr th:only-of-type {\n",
       "        vertical-align: middle;\n",
       "    }\n",
       "\n",
       "    .dataframe tbody tr th {\n",
       "        vertical-align: top;\n",
       "    }\n",
       "\n",
       "    .dataframe thead th {\n",
       "        text-align: right;\n",
       "    }\n",
       "</style>\n",
       "<table border=\"1\" class=\"dataframe\">\n",
       "  <thead>\n",
       "    <tr style=\"text-align: right;\">\n",
       "      <th></th>\n",
       "      <th>Comments</th>\n",
       "      <th>Comment Upvotes</th>\n",
       "      <th>Comment time</th>\n",
       "    </tr>\n",
       "  </thead>\n",
       "  <tbody>\n",
       "    <tr>\n",
       "      <th>0</th>\n",
       "      <td>Song list markers.\\n\\n1. Zara Si Dil Mei - 00:...</td>\n",
       "      <td>14K</td>\n",
       "      <td>2 years ago</td>\n",
       "    </tr>\n",
       "    <tr>\n",
       "      <th>1</th>\n",
       "      <td>Listening to his evergreen hits rn, and I can'...</td>\n",
       "      <td>5.9K</td>\n",
       "      <td>2 months ago</td>\n",
       "    </tr>\n",
       "    <tr>\n",
       "      <th>2</th>\n",
       "      <td>Meaning of KK  :-\\n\\nKk means Krishna\\nKk mean...</td>\n",
       "      <td>688</td>\n",
       "      <td>1 month ago (edited)</td>\n",
       "    </tr>\n",
       "    <tr>\n",
       "      <th>3</th>\n",
       "      <td>He ruled in my music playlist... no one can ta...</td>\n",
       "      <td>209</td>\n",
       "      <td>1 month ago</td>\n",
       "    </tr>\n",
       "    <tr>\n",
       "      <th>4</th>\n",
       "      <td>\"Legends never die they will stay in your memo...</td>\n",
       "      <td>24</td>\n",
       "      <td>2 weeks ago</td>\n",
       "    </tr>\n",
       "    <tr>\n",
       "      <th>...</th>\n",
       "      <td>...</td>\n",
       "      <td>...</td>\n",
       "      <td>...</td>\n",
       "    </tr>\n",
       "    <tr>\n",
       "      <th>495</th>\n",
       "      <td>Rest in peace sir️</td>\n",
       "      <td>0</td>\n",
       "      <td>1 month ago</td>\n",
       "    </tr>\n",
       "    <tr>\n",
       "      <th>496</th>\n",
       "      <td>Very nice voice we always like your song we al...</td>\n",
       "      <td>0</td>\n",
       "      <td>2 weeks ago</td>\n",
       "    </tr>\n",
       "    <tr>\n",
       "      <th>497</th>\n",
       "      <td>My favorite one singer kk,,,,love from bd,,,,🇧...</td>\n",
       "      <td>0</td>\n",
       "      <td>1 month ago</td>\n",
       "    </tr>\n",
       "    <tr>\n",
       "      <th>498</th>\n",
       "      <td>I am kk lover I miss yout kk</td>\n",
       "      <td>1</td>\n",
       "      <td>1 month ago</td>\n",
       "    </tr>\n",
       "    <tr>\n",
       "      <th>499</th>\n",
       "      <td>We can't believe that he is no more ... May hi...</td>\n",
       "      <td>115</td>\n",
       "      <td>1 month ago</td>\n",
       "    </tr>\n",
       "  </tbody>\n",
       "</table>\n",
       "<p>500 rows × 3 columns</p>\n",
       "</div>"
      ],
      "text/plain": [
       "                                              Comments Comment Upvotes  \\\n",
       "0    Song list markers.\\n\\n1. Zara Si Dil Mei - 00:...             14K   \n",
       "1    Listening to his evergreen hits rn, and I can'...            5.9K   \n",
       "2    Meaning of KK  :-\\n\\nKk means Krishna\\nKk mean...             688   \n",
       "3    He ruled in my music playlist... no one can ta...             209   \n",
       "4    \"Legends never die they will stay in your memo...              24   \n",
       "..                                                 ...             ...   \n",
       "495                                 Rest in peace sir️               0   \n",
       "496  Very nice voice we always like your song we al...               0   \n",
       "497  My favorite one singer kk,,,,love from bd,,,,🇧...               0   \n",
       "498                       I am kk lover I miss yout kk               1   \n",
       "499  We can't believe that he is no more ... May hi...             115   \n",
       "\n",
       "             Comment time  \n",
       "0             2 years ago  \n",
       "1            2 months ago  \n",
       "2    1 month ago (edited)  \n",
       "3             1 month ago  \n",
       "4             2 weeks ago  \n",
       "..                    ...  \n",
       "495           1 month ago  \n",
       "496           2 weeks ago  \n",
       "497           1 month ago  \n",
       "498           1 month ago  \n",
       "499           1 month ago  \n",
       "\n",
       "[500 rows x 3 columns]"
      ]
     },
     "execution_count": 913,
     "metadata": {},
     "output_type": "execute_result"
    }
   ],
   "source": [
    "youtube = pd.DataFrame()\n",
    "youtube['Comments'] = comment\n",
    "youtube['Comment Upvotes'] = up\n",
    "youtube['Comment time'] = time\n",
    "youtube"
   ]
  },
  {
   "cell_type": "code",
   "execution_count": 917,
   "metadata": {},
   "outputs": [],
   "source": [
    "#Creating csv file\n",
    "youtube.to_csv('Web_scraping_assignment_3_q9.csv')"
   ]
  },
  {
   "cell_type": "code",
   "execution_count": 918,
   "metadata": {},
   "outputs": [],
   "source": [
    "driver.close()"
   ]
  },
  {
   "cell_type": "markdown",
   "metadata": {},
   "source": [
    " "
   ]
  },
  {
   "cell_type": "markdown",
   "metadata": {},
   "source": [
    "# Q10. python program to scrape a data for all available Hostels from https://www.hostelworld.com/ in “London” location"
   ]
  },
  {
   "cell_type": "code",
   "execution_count": 936,
   "metadata": {},
   "outputs": [],
   "source": [
    "#connecting to webdriver\n",
    "driver = webdriver.Chrome('chromedriver')"
   ]
  },
  {
   "cell_type": "code",
   "execution_count": 937,
   "metadata": {},
   "outputs": [],
   "source": [
    "url = 'https://www.hostelworld.com/'\n",
    "driver.get(url)"
   ]
  },
  {
   "cell_type": "code",
   "execution_count": 940,
   "metadata": {},
   "outputs": [
    {
     "data": {
      "text/plain": [
       "<selenium.webdriver.remote.webelement.WebElement (session=\"a2cf34a8cbcf3bdd41e5f955bc8a546e\", element=\"da3cabbe-0fc6-48eb-9b3f-ed60891bdca9\")>"
      ]
     },
     "execution_count": 940,
     "metadata": {},
     "output_type": "execute_result"
    }
   ],
   "source": [
    "#Finding web element for search field\n",
    "search_loc = driver.find_element(By.XPATH, \"/html/body/div[3]/div/div/div[1]/div[1]/div/div/div[4]/div/div[2]/div/div[1]/div/div/div/input\")\n",
    "search_loc"
   ]
  },
  {
   "cell_type": "code",
   "execution_count": 941,
   "metadata": {},
   "outputs": [],
   "source": [
    "#Write on search field\n",
    "search_loc.send_keys(\"London\")"
   ]
  },
  {
   "cell_type": "code",
   "execution_count": 942,
   "metadata": {},
   "outputs": [
    {
     "data": {
      "text/plain": [
       "<selenium.webdriver.remote.webelement.WebElement (session=\"a2cf34a8cbcf3bdd41e5f955bc8a546e\", element=\"b18636b7-0bbe-4483-ae67-d6aa8315cf42\")>"
      ]
     },
     "execution_count": 942,
     "metadata": {},
     "output_type": "execute_result"
    }
   ],
   "source": [
    "#Finding web element for \"London\" in dropdown\n",
    "search_drop = driver.find_element(By.XPATH,\"/html/body/div[3]/div/div/div[1]/div[1]/div/div/div[4]/div/div[2]/div/div[1]/div/div/ul/li[2]/div\")\n",
    "search_drop"
   ]
  },
  {
   "cell_type": "code",
   "execution_count": 943,
   "metadata": {},
   "outputs": [],
   "source": [
    "#Clicking london in dropdown\n",
    "search_drop.click()"
   ]
  },
  {
   "cell_type": "code",
   "execution_count": 945,
   "metadata": {},
   "outputs": [
    {
     "data": {
      "text/plain": [
       "<selenium.webdriver.remote.webelement.WebElement (session=\"a2cf34a8cbcf3bdd41e5f955bc8a546e\", element=\"47f9a7ad-6559-4613-909c-19559cfbf400\")>"
      ]
     },
     "execution_count": 945,
     "metadata": {},
     "output_type": "execute_result"
    }
   ],
   "source": [
    "#Finding web element for search button\n",
    "search_but = driver.find_element(By.XPATH,\"/html/body/div[3]/div/div/div[1]/div[1]/div/div/div[4]/div/div[2]/div/div[5]/button\")\n",
    "search_but"
   ]
  },
  {
   "cell_type": "code",
   "execution_count": 946,
   "metadata": {},
   "outputs": [],
   "source": [
    "#Clicking search button\n",
    "search_but.click()"
   ]
  },
  {
   "cell_type": "code",
   "execution_count": 1075,
   "metadata": {},
   "outputs": [],
   "source": [
    "name = []\n",
    "dist = []\n",
    "trev = []\n",
    "pfp = []\n",
    "dfp = []\n",
    "fac = []"
   ]
  },
  {
   "cell_type": "code",
   "execution_count": 1088,
   "metadata": {},
   "outputs": [],
   "source": [
    "#let's extract all web elements having Hostel Name as parent tag\n",
    "name_tags = driver.find_elements(By.XPATH, '//h2[@class=\"title title-6\"]')"
   ]
  },
  {
   "cell_type": "code",
   "execution_count": 1089,
   "metadata": {},
   "outputs": [],
   "source": [
    "#extracting Hostel name\n",
    "for i in name_tags:\n",
    "    name.append(i.text)"
   ]
  },
  {
   "cell_type": "code",
   "execution_count": 1101,
   "metadata": {},
   "outputs": [
    {
     "data": {
      "text/plain": [
       "54"
      ]
     },
     "execution_count": 1101,
     "metadata": {},
     "output_type": "execute_result"
    }
   ],
   "source": [
    "len(name)"
   ]
  },
  {
   "cell_type": "code",
   "execution_count": 1090,
   "metadata": {},
   "outputs": [],
   "source": [
    "#let's extract all web elements having Distance from city centre as parent tag\n",
    "dist_tags = driver.find_elements(By.XPATH, '//span[@class=\"description\"]')"
   ]
  },
  {
   "cell_type": "code",
   "execution_count": 1091,
   "metadata": {},
   "outputs": [],
   "source": [
    "#extracting Distance from city centre\n",
    "for i in dist_tags:\n",
    "    dist.append(i.text.split(\"-\")[1])"
   ]
  },
  {
   "cell_type": "code",
   "execution_count": 1102,
   "metadata": {},
   "outputs": [
    {
     "data": {
      "text/plain": [
       "54"
      ]
     },
     "execution_count": 1102,
     "metadata": {},
     "output_type": "execute_result"
    }
   ],
   "source": [
    "len(dist)"
   ]
  },
  {
   "cell_type": "code",
   "execution_count": 1092,
   "metadata": {},
   "outputs": [],
   "source": [
    "#let's extract all web elements having Total reviews as parent tag\n",
    "trev_tags = driver.find_elements(By.XPATH, '//div[@class=\"reviews\"]')"
   ]
  },
  {
   "cell_type": "code",
   "execution_count": 1093,
   "metadata": {},
   "outputs": [],
   "source": [
    "#extracting Total reviews\n",
    "for i in trev_tags:\n",
    "    trev.append(i.text)"
   ]
  },
  {
   "cell_type": "code",
   "execution_count": 1103,
   "metadata": {},
   "outputs": [
    {
     "data": {
      "text/plain": [
       "54"
      ]
     },
     "execution_count": 1103,
     "metadata": {},
     "output_type": "execute_result"
    }
   ],
   "source": [
    "len(trev)"
   ]
  },
  {
   "cell_type": "code",
   "execution_count": 1094,
   "metadata": {},
   "outputs": [],
   "source": [
    "#let's extract all web elements having Private from Price as parent tag\n",
    "pfp_tags = driver.find_elements(By.XPATH, '//div[@class=\"price-col\"]')"
   ]
  },
  {
   "cell_type": "code",
   "execution_count": 1095,
   "metadata": {},
   "outputs": [],
   "source": [
    "#extracting Private from Price\n",
    "a=0\n",
    "for i in pfp_tags:\n",
    "    if a%2==0:\n",
    "        pfp.append(i.text)\n",
    "    a=a+1"
   ]
  },
  {
   "cell_type": "code",
   "execution_count": 1104,
   "metadata": {},
   "outputs": [
    {
     "data": {
      "text/plain": [
       "54"
      ]
     },
     "execution_count": 1104,
     "metadata": {},
     "output_type": "execute_result"
    }
   ],
   "source": [
    "len(pfp)"
   ]
  },
  {
   "cell_type": "code",
   "execution_count": 1096,
   "metadata": {},
   "outputs": [],
   "source": [
    "#let's extract all web elements having Dorm from Price as parent tag\n",
    "dfp_tags = driver.find_elements(By.XPATH, '//div[@class=\"price-col\"]')"
   ]
  },
  {
   "cell_type": "code",
   "execution_count": 1097,
   "metadata": {},
   "outputs": [],
   "source": [
    "#extracting Dorm from Price\n",
    "a=0\n",
    "for i in dfp_tags:\n",
    "    if a%2!=0:\n",
    "        dfp.append(i.text)\n",
    "    a=a+1"
   ]
  },
  {
   "cell_type": "code",
   "execution_count": 1105,
   "metadata": {},
   "outputs": [
    {
     "data": {
      "text/plain": [
       "54"
      ]
     },
     "execution_count": 1105,
     "metadata": {},
     "output_type": "execute_result"
    }
   ],
   "source": [
    "len(dfp)"
   ]
  },
  {
   "cell_type": "code",
   "execution_count": 1098,
   "metadata": {},
   "outputs": [],
   "source": [
    "#let's extract all web elements having Facilities as parent tag\n",
    "fac_tags = driver.find_elements(By.XPATH, '//div[@class=\"rating-factors prop-card-tablet rating-factors small\"]')"
   ]
  },
  {
   "cell_type": "code",
   "execution_count": 1099,
   "metadata": {},
   "outputs": [],
   "source": [
    "#extracting Facilities\n",
    "for i in fac_tags:\n",
    "    fac.append(i.text.replace(\"\\n\",\" , \"))"
   ]
  },
  {
   "cell_type": "code",
   "execution_count": 1106,
   "metadata": {},
   "outputs": [
    {
     "data": {
      "text/plain": [
       "54"
      ]
     },
     "execution_count": 1106,
     "metadata": {},
     "output_type": "execute_result"
    }
   ],
   "source": [
    "len(fac)"
   ]
  },
  {
   "cell_type": "code",
   "execution_count": 1055,
   "metadata": {},
   "outputs": [],
   "source": [
    "#Fetching url to open each description page from page 0 to 1\n",
    "url=[]\n",
    "start=0\n",
    "end=2\n",
    "for page in range(start,end):\n",
    "    \n",
    "    #extracting url tags\n",
    "    url_tags= driver.find_elements(By.XPATH, '//a[@class=\"view-button\"]')\n",
    "    for i in url_tags:\n",
    "        url.append(i.get_attribute('href'))\n",
    "        \n",
    "    time.sleep(4)\n",
    "    if page<1:\n",
    "        button = driver.find_element(By.XPATH,'//div[@class=\"pagination-item pagination-next\"]')\n",
    "        button.click()\n",
    "    time.sleep(4)"
   ]
  },
  {
   "cell_type": "code",
   "execution_count": 1056,
   "metadata": {},
   "outputs": [
    {
     "data": {
      "text/plain": [
       "['https://www.hostelworld.com/pwa/hosteldetails.php/St-Christopher-s-Village/London/502?from=2022-08-02&to=2022-08-05&guests=2',\n",
       " 'https://www.hostelworld.com/pwa/hosteldetails.php/Selina-Camden/London/310274?from=2022-08-02&to=2022-08-05&guests=2',\n",
       " 'https://www.hostelworld.com/pwa/hosteldetails.php/Wombat-s-City-Hostel-London/London/88047?from=2022-08-02&to=2022-08-05&guests=2',\n",
       " 'https://www.hostelworld.com/pwa/hosteldetails.php/Generator-London/London/510?from=2022-08-02&to=2022-08-05&guests=2',\n",
       " 'https://www.hostelworld.com/pwa/hosteldetails.php/Urbany-Hostel-London/London/303427?from=2022-08-02&to=2022-08-05&guests=2',\n",
       " 'https://www.hostelworld.com/pwa/hosteldetails.php/Safestay-London-Elephant-Castle/London/55551?from=2022-08-02&to=2022-08-05&guests=2',\n",
       " 'https://www.hostelworld.com/pwa/hosteldetails.php/No-8-Willesden-Hostel-London/London/18420?from=2022-08-02&to=2022-08-05&guests=2',\n",
       " 'https://www.hostelworld.com/pwa/hosteldetails.php/No-8-Seven-Sisters/London/91108?from=2022-08-02&to=2022-08-05&guests=2',\n",
       " 'https://www.hostelworld.com/pwa/hosteldetails.php/London-Backpackers/London/527?from=2022-08-02&to=2022-08-05&guests=2',\n",
       " 'https://www.hostelworld.com/pwa/hosteldetails.php/Barmy-Badger-Backpackers/London/64746?from=2022-08-02&to=2022-08-05&guests=2',\n",
       " 'https://www.hostelworld.com/pwa/hosteldetails.php/Safestay-London-Kensington-Holland-Park/London/93920?from=2022-08-02&to=2022-08-05&guests=2',\n",
       " 'https://www.hostelworld.com/pwa/hosteldetails.php/St-Christopher-s-Inn-London-Bridge/London/503?from=2022-08-02&to=2022-08-05&guests=2',\n",
       " 'https://www.hostelworld.com/pwa/hosteldetails.php/Phoenix-Hostel/London/48221?from=2022-08-02&to=2022-08-05&guests=2',\n",
       " 'https://www.hostelworld.com/pwa/hosteldetails.php/Smart-Hyde-Park-View-Hostel/London/8069?from=2022-08-02&to=2022-08-05&guests=2',\n",
       " 'https://www.hostelworld.com/pwa/hosteldetails.php/NX-London-Hostel/London/15204?from=2022-08-02&to=2022-08-05&guests=2',\n",
       " 'https://www.hostelworld.com/pwa/hosteldetails.php/Hostel-One-Notting-Hill/London/291433?from=2022-08-02&to=2022-08-05&guests=2',\n",
       " 'https://www.hostelworld.com/pwa/hosteldetails.php/St-Christopher-s-Hammersmith/London/20976?from=2022-08-02&to=2022-08-05&guests=2',\n",
       " 'https://www.hostelworld.com/pwa/hosteldetails.php/St-Christopher-s-Camden/London/505?from=2022-08-02&to=2022-08-05&guests=2',\n",
       " 'https://www.hostelworld.com/pwa/hosteldetails.php/St-Christopher-s-Inn-Liverpool-Street/London/271698?from=2022-08-02&to=2022-08-05&guests=2',\n",
       " 'https://www.hostelworld.com/pwa/hosteldetails.php/St-Christopher-s-Oasis-Female-Only/London/504?from=2022-08-02&to=2022-08-05&guests=2',\n",
       " 'https://www.hostelworld.com/pwa/hosteldetails.php/London-Waterloo-Hostel/London/39493?from=2022-08-02&to=2022-08-05&guests=2',\n",
       " 'https://www.hostelworld.com/pwa/hosteldetails.php/Palmers-Lodge-Swiss-Cottage/London/14348?from=2022-08-02&to=2022-08-05&guests=2',\n",
       " 'https://www.hostelworld.com/pwa/hosteldetails.php/PubLove-The-White-Ferry-Victoria/London/39761?from=2022-08-02&to=2022-08-05&guests=2',\n",
       " 'https://www.hostelworld.com/pwa/hosteldetails.php/Clink261/London/516?from=2022-08-02&to=2022-08-05&guests=2',\n",
       " 'https://www.hostelworld.com/pwa/hosteldetails.php/St-Christopher-s-Greenwich/London/501?from=2022-08-02&to=2022-08-05&guests=2',\n",
       " 'https://www.hostelworld.com/pwa/hosteldetails.php/PubLove-The-Steam-Engine-Waterloo/London/29389?from=2022-08-02&to=2022-08-05&guests=2',\n",
       " 'https://www.hostelworld.com/pwa/hosteldetails.php/St-Christopher-s-Shepherds-Bush/London/506?from=2022-08-02&to=2022-08-05&guests=2',\n",
       " 'https://www.hostelworld.com/pwa/hosteldetails.php/PubLove-The-Rose-Crown/London/297123?from=2022-08-02&to=2022-08-05&guests=2',\n",
       " 'https://www.hostelworld.com/pwa/hosteldetails.php/PubLove-The-Exmouth-Arms-Euston/London/93796?from=2022-08-02&to=2022-08-05&guests=2',\n",
       " 'https://www.hostelworld.com/pwa/hosteldetails.php/PubLove-The-Crown-Battersea/London/60336?from=2022-08-02&to=2022-08-05&guests=2',\n",
       " 'https://www.hostelworld.com/pwa/hosteldetails.php/Park-Villa/London/98066?from=2022-08-02&to=2022-08-05&guests=2',\n",
       " 'https://www.hostelworld.com/pwa/hosteldetails.php/Saint-James-Backpackers/London/70909?from=2022-08-02&to=2022-08-05&guests=2',\n",
       " 'https://www.hostelworld.com/pwa/hosteldetails.php/Kensal-Green-Backpackers/London/4483?from=2022-08-02&to=2022-08-05&guests=2',\n",
       " 'https://www.hostelworld.com/pwa/hosteldetails.php/PubLove-The-Green-Man-Paddington/London/21953?from=2022-08-02&to=2022-08-05&guests=2',\n",
       " 'https://www.hostelworld.com/pwa/hosteldetails.php/Book-a-Bed-Hostels/London/14746?from=2022-08-02&to=2022-08-05&guests=2',\n",
       " 'https://www.hostelworld.com/pwa/hosteldetails.php/Britannia-Inn-Hotel/London/47955?from=2022-08-02&to=2022-08-05&guests=2',\n",
       " 'https://www.hostelworld.com/pwa/hosteldetails.php/The-Backpackshack/London/63112?from=2022-08-02&to=2022-08-05&guests=2',\n",
       " 'https://www.hostelworld.com/pwa/hosteldetails.php/London-House-Hotel/London/529?from=2022-08-02&to=2022-08-05&guests=2',\n",
       " 'https://www.hostelworld.com/pwa/hosteldetails.php/Elmwood-Hotel/London/34338?from=2022-08-02&to=2022-08-05&guests=2',\n",
       " 'https://www.hostelworld.com/pwa/hosteldetails.php/Kip-Hotel/London/266789?from=2022-08-02&to=2022-08-05&guests=2',\n",
       " 'https://www.hostelworld.com/pwa/hosteldetails.php/The-London-Home-Hostel/London/80690?from=2022-08-02&to=2022-08-05&guests=2',\n",
       " 'https://www.hostelworld.com/pwa/hosteldetails.php/The-W14-Hotel-Bar/London/50220?from=2022-08-02&to=2022-08-05&guests=2',\n",
       " 'https://www.hostelworld.com/pwa/hosteldetails.php/Cranbrook-Hotel/London/10144?from=2022-08-02&to=2022-08-05&guests=2',\n",
       " 'https://www.hostelworld.com/pwa/hosteldetails.php/Colliers-Hotel/London/308375?from=2022-08-02&to=2022-08-05&guests=2',\n",
       " 'https://www.hostelworld.com/pwa/hosteldetails.php/City-Hotel-Carlton/London/27551?from=2022-08-02&to=2022-08-05&guests=2',\n",
       " 'https://www.hostelworld.com/pwa/hosteldetails.php/Hotel-Shepherds-Bush-London/London/308621?from=2022-08-02&to=2022-08-05&guests=2',\n",
       " 'https://www.hostelworld.com/pwa/hosteldetails.php/Tony-s-House-Hotel/London/8503?from=2022-08-02&to=2022-08-05&guests=2',\n",
       " 'https://www.hostelworld.com/pwa/hosteldetails.php/Aron-Guest-House/London/64748?from=2022-08-02&to=2022-08-05&guests=2',\n",
       " 'https://www.hostelworld.com/pwa/hosteldetails.php/Beaconsfield/London/11708?from=2022-08-02&to=2022-08-05&guests=2',\n",
       " 'https://www.hostelworld.com/pwa/hosteldetails.php/Park-Hotel-Essex/London/10143?from=2022-08-02&to=2022-08-05&guests=2',\n",
       " 'https://www.hostelworld.com/pwa/hosteldetails.php/Wellesley-Hotel/London/305734?from=2022-08-02&to=2022-08-05&guests=2',\n",
       " 'https://www.hostelworld.com/pwa/hosteldetails.php/Destinations-Hostels-The-Gallery/London/314563?from=2022-08-02&to=2022-08-05&guests=2',\n",
       " 'https://www.hostelworld.com/pwa/hosteldetails.php/YHA-London-St-Pauls/London/6977?from=2022-08-02&to=2022-08-05&guests=2',\n",
       " 'https://www.hostelworld.com/pwa/hosteldetails.php/Park-Hotel/London/295852?from=2022-08-02&to=2022-08-05&guests=2']"
      ]
     },
     "execution_count": 1056,
     "metadata": {},
     "output_type": "execute_result"
    }
   ],
   "source": [
    "url"
   ]
  },
  {
   "cell_type": "code",
   "execution_count": 1062,
   "metadata": {},
   "outputs": [],
   "source": [
    "rat=[]\n",
    "orev=[]\n",
    "desc=[]"
   ]
  },
  {
   "cell_type": "code",
   "execution_count": 1063,
   "metadata": {},
   "outputs": [],
   "source": [
    "#let's extract all web elements having required parent tags and then extract required elements from them\n",
    "for i in url:\n",
    "    driver.get(i)\n",
    "    time.sleep(2)\n",
    "    driver.execute_script(\"window.stop();\") #using here because website keeps on loading even when everything is already on the website page\n",
    "    #Extracting Ratings from parent tag\n",
    "    try:\n",
    "        rat_tag = driver.find_elements(By.XPATH,'//div[@class=\"score orange big\"]')\n",
    "        rat.append(rat_tag[1].text)\n",
    "    except NoSuchElementException:\n",
    "        rat.append(\"-\")\n",
    "    \n",
    "    #Extracting Overall Review from parent tag\n",
    "    try:\n",
    "        orev_tag = driver.find_element(By.XPATH,'//div[@class=\"keyword\"]')\n",
    "        orev.append(orev_tag.text)\n",
    "    except NoSuchElementException:\n",
    "        orev.append(\"-\")\n",
    "    \n",
    "    #Extracting Description from parent tag\n",
    "    try:\n",
    "        desc_tag = driver.find_element(By.XPATH,'//div[@class=\"content\"]')\n",
    "        desc.append(desc_tag.text)\n",
    "        time.sleep(2)\n",
    "    except NoSuchElementException:\n",
    "        desc.append(\"-\")\n",
    "        time.sleep(2)"
   ]
  },
  {
   "cell_type": "code",
   "execution_count": 1064,
   "metadata": {},
   "outputs": [
    {
     "data": {
      "text/plain": [
       "54"
      ]
     },
     "execution_count": 1064,
     "metadata": {},
     "output_type": "execute_result"
    }
   ],
   "source": [
    "len(rat)"
   ]
  },
  {
   "cell_type": "code",
   "execution_count": 1065,
   "metadata": {},
   "outputs": [
    {
     "data": {
      "text/plain": [
       "54"
      ]
     },
     "execution_count": 1065,
     "metadata": {},
     "output_type": "execute_result"
    }
   ],
   "source": [
    "len(orev)"
   ]
  },
  {
   "cell_type": "code",
   "execution_count": 1066,
   "metadata": {},
   "outputs": [
    {
     "data": {
      "text/plain": [
       "54"
      ]
     },
     "execution_count": 1066,
     "metadata": {},
     "output_type": "execute_result"
    }
   ],
   "source": [
    "len(desc)"
   ]
  },
  {
   "cell_type": "code",
   "execution_count": 1107,
   "metadata": {},
   "outputs": [
    {
     "data": {
      "text/html": [
       "<div>\n",
       "<style scoped>\n",
       "    .dataframe tbody tr th:only-of-type {\n",
       "        vertical-align: middle;\n",
       "    }\n",
       "\n",
       "    .dataframe tbody tr th {\n",
       "        vertical-align: top;\n",
       "    }\n",
       "\n",
       "    .dataframe thead th {\n",
       "        text-align: right;\n",
       "    }\n",
       "</style>\n",
       "<table border=\"1\" class=\"dataframe\">\n",
       "  <thead>\n",
       "    <tr style=\"text-align: right;\">\n",
       "      <th></th>\n",
       "      <th>Hostel Name</th>\n",
       "      <th>Distance from city center</th>\n",
       "      <th>Ratings</th>\n",
       "      <th>Total Reviews</th>\n",
       "      <th>Overall Reviews</th>\n",
       "      <th>Privates from price</th>\n",
       "      <th>Dorms from price</th>\n",
       "      <th>Facilities</th>\n",
       "      <th>Property Description</th>\n",
       "    </tr>\n",
       "  </thead>\n",
       "  <tbody>\n",
       "    <tr>\n",
       "      <th>0</th>\n",
       "      <td>St Christopher's Village</td>\n",
       "      <td>1.8km from city centre</td>\n",
       "      <td>8.1</td>\n",
       "      <td>11400 Total Reviews</td>\n",
       "      <td>Fabulous</td>\n",
       "      <td>No Privates Available</td>\n",
       "      <td>Dorms From\\nRs1807.43 Rs1627</td>\n",
       "      <td>Perfect Location , Superb Staff , Excellent Cl...</td>\n",
       "      <td>165 Borough High Street, London, England</td>\n",
       "    </tr>\n",
       "    <tr>\n",
       "      <th>1</th>\n",
       "      <td>Selina Camden</td>\n",
       "      <td>5.5km from city centre</td>\n",
       "      <td>8.5</td>\n",
       "      <td>34 Total Reviews</td>\n",
       "      <td>Fabulous</td>\n",
       "      <td>Privates From\\nRs27466</td>\n",
       "      <td>Dorms From\\nRs9999.98 Rs8500</td>\n",
       "      <td>Perfect Location , Superb Staff , Fantastic Cl...</td>\n",
       "      <td>89 Chalk Farm Rd, Chalk Farm, London, England</td>\n",
       "    </tr>\n",
       "    <tr>\n",
       "      <th>2</th>\n",
       "      <td>Wombat's City Hostel London</td>\n",
       "      <td>3.6km from city centre</td>\n",
       "      <td>9.1</td>\n",
       "      <td>13875 Total Reviews</td>\n",
       "      <td>Superb</td>\n",
       "      <td>Privates From\\nRs24822.65 Rs18617</td>\n",
       "      <td>Dorms From\\nRs3809.57 Rs2857</td>\n",
       "      <td>Perfect Location , Superb Staff , Fantastic Cl...</td>\n",
       "      <td>7 Dock Street, London, England</td>\n",
       "    </tr>\n",
       "    <tr>\n",
       "      <th>3</th>\n",
       "      <td>Generator London</td>\n",
       "      <td>3km from city centre</td>\n",
       "      <td>7.7</td>\n",
       "      <td>7067 Total Reviews</td>\n",
       "      <td>Very Good</td>\n",
       "      <td>Privates From\\nRs8808</td>\n",
       "      <td>Dorms From\\nRs2297</td>\n",
       "      <td>Perfect Location , Marvellous Staff , Awesome ...</td>\n",
       "      <td>Compton Place, Off 37 Tavistock Place, WC1, Lo...</td>\n",
       "    </tr>\n",
       "    <tr>\n",
       "      <th>4</th>\n",
       "      <td>Urbany Hostel London</td>\n",
       "      <td>5.4km from city centre</td>\n",
       "      <td>9.3</td>\n",
       "      <td>419 Total Reviews</td>\n",
       "      <td>Superb</td>\n",
       "      <td>Privates From\\nRs14365</td>\n",
       "      <td>Dorms From\\nRs3830</td>\n",
       "      <td>Perfect Location , Superb Staff , Fantastic Cl...</td>\n",
       "      <td>48-49 Princes Square, Paddington, London, England</td>\n",
       "    </tr>\n",
       "    <tr>\n",
       "      <th>5</th>\n",
       "      <td>Safestay London Elephant &amp; Castle</td>\n",
       "      <td>1.7km from city centre</td>\n",
       "      <td>7.0</td>\n",
       "      <td>4412 Total Reviews</td>\n",
       "      <td>Very Good</td>\n",
       "      <td>Privates From\\nRs15959</td>\n",
       "      <td>Dorms From\\nRs1596</td>\n",
       "      <td>Wonderful Location , Brilliant Staff , Awesome...</td>\n",
       "      <td>144-152 Walworth Road, London, England</td>\n",
       "    </tr>\n",
       "    <tr>\n",
       "      <th>6</th>\n",
       "      <td>No.8 Willesden Hostel London</td>\n",
       "      <td>10km from city centre</td>\n",
       "      <td>6.8</td>\n",
       "      <td>4805 Total Reviews</td>\n",
       "      <td>Good</td>\n",
       "      <td>No Privates Available</td>\n",
       "      <td>Dorms From\\nRs995</td>\n",
       "      <td>Great Location , Marvellous Staff , Awesome Cl...</td>\n",
       "      <td>305 High Rd, Willesden, London, England</td>\n",
       "    </tr>\n",
       "    <tr>\n",
       "      <th>7</th>\n",
       "      <td>No.8 Seven Sisters</td>\n",
       "      <td>9km from city centre</td>\n",
       "      <td>6.2</td>\n",
       "      <td>3824 Total Reviews</td>\n",
       "      <td>Good</td>\n",
       "      <td>No Privates Available</td>\n",
       "      <td>Dorms From\\nRs946</td>\n",
       "      <td>Great Location , Marvellous Staff</td>\n",
       "      <td>618 Seven Sisters Rd, Seven Sisters, London, E...</td>\n",
       "    </tr>\n",
       "    <tr>\n",
       "      <th>8</th>\n",
       "      <td>London Backpackers</td>\n",
       "      <td>11.9km from city centre</td>\n",
       "      <td>8.1</td>\n",
       "      <td>4294 Total Reviews</td>\n",
       "      <td>Fabulous</td>\n",
       "      <td>No Privates Available</td>\n",
       "      <td>Dorms From\\nRs1596</td>\n",
       "      <td>Wonderful Location , Superb Staff , Excellent ...</td>\n",
       "      <td>8/10 Queens Parade, Queens Road, Hendon Centra...</td>\n",
       "    </tr>\n",
       "    <tr>\n",
       "      <th>9</th>\n",
       "      <td>Barmy Badger Backpackers</td>\n",
       "      <td>5.5km from city centre</td>\n",
       "      <td>9.0</td>\n",
       "      <td>1793 Total Reviews</td>\n",
       "      <td>Superb</td>\n",
       "      <td>Privates From\\nRs8414</td>\n",
       "      <td>Dorms From\\nRs2966</td>\n",
       "      <td>Perfect Location , Superb Staff , Fantastic Cl...</td>\n",
       "      <td>17 Longridge Road, Earls Court, London, England</td>\n",
       "    </tr>\n",
       "    <tr>\n",
       "      <th>10</th>\n",
       "      <td>Safestay London Kensington Holland Park</td>\n",
       "      <td>5.9km from city centre</td>\n",
       "      <td>6.5</td>\n",
       "      <td>1273 Total Reviews</td>\n",
       "      <td>Good</td>\n",
       "      <td>No Privates Available</td>\n",
       "      <td>Dorms From\\nRs1480</td>\n",
       "      <td>Wonderful Location , Brilliant Staff</td>\n",
       "      <td>Holland Park Ave, Holland Walk, London, England</td>\n",
       "    </tr>\n",
       "    <tr>\n",
       "      <th>11</th>\n",
       "      <td>St Christopher's Inn - London Bridge</td>\n",
       "      <td>1.8km from city centre</td>\n",
       "      <td>8.3</td>\n",
       "      <td>3336 Total Reviews</td>\n",
       "      <td>Fabulous</td>\n",
       "      <td>No Privates Available</td>\n",
       "      <td>Dorms From\\nRs1992.98 Rs1794</td>\n",
       "      <td>Perfect Location , Superb Staff , Excellent Cl...</td>\n",
       "      <td>121 Borough High Street, London, England</td>\n",
       "    </tr>\n",
       "    <tr>\n",
       "      <th>12</th>\n",
       "      <td>Phoenix Hostel</td>\n",
       "      <td>4.2km from city centre</td>\n",
       "      <td>7.5</td>\n",
       "      <td>3684 Total Reviews</td>\n",
       "      <td>Very Good</td>\n",
       "      <td>No Privates Available</td>\n",
       "      <td>Dorms From\\nRs2030.94 Rs1828</td>\n",
       "      <td>Perfect Location , Superb Staff , Awesome Clea...</td>\n",
       "      <td>6 Daventry Street, London, England</td>\n",
       "    </tr>\n",
       "    <tr>\n",
       "      <th>13</th>\n",
       "      <td>Smart Hyde Park View Hostel</td>\n",
       "      <td>5km from city centre</td>\n",
       "      <td>8.1</td>\n",
       "      <td>4578 Total Reviews</td>\n",
       "      <td>Fabulous</td>\n",
       "      <td>No Privates Available</td>\n",
       "      <td>Dorms From\\nRs3714</td>\n",
       "      <td>Perfect Location , Superb Staff , Excellent Cl...</td>\n",
       "      <td>16 Leinster Terrace W2 3EU, London, England</td>\n",
       "    </tr>\n",
       "    <tr>\n",
       "      <th>14</th>\n",
       "      <td>Queen Elizabeth Chelsea</td>\n",
       "      <td>5.7km from city centre</td>\n",
       "      <td>7.3</td>\n",
       "      <td>3308 Total Reviews</td>\n",
       "      <td>Very Good</td>\n",
       "      <td>No Privates Available</td>\n",
       "      <td>Dorms From\\nRs1966</td>\n",
       "      <td>Wonderful Location , Marvellous Staff</td>\n",
       "      <td>323 New Cross Road, London, England</td>\n",
       "    </tr>\n",
       "    <tr>\n",
       "      <th>15</th>\n",
       "      <td>NX London Hostel</td>\n",
       "      <td>6.1km from city centre</td>\n",
       "      <td>9.2</td>\n",
       "      <td>1181 Total Reviews</td>\n",
       "      <td>Superb</td>\n",
       "      <td>Privates From\\nRs8083.95 Rs6871</td>\n",
       "      <td>No Dorms Available</td>\n",
       "      <td>Wonderful Location , Marvellous Staff , Awesom...</td>\n",
       "      <td>63 Prince's Square, London, England</td>\n",
       "    </tr>\n",
       "    <tr>\n",
       "      <th>16</th>\n",
       "      <td>Hostel One Notting Hill</td>\n",
       "      <td>5.5km from city centre</td>\n",
       "      <td>7.9</td>\n",
       "      <td>1437 Total Reviews</td>\n",
       "      <td>Very Good</td>\n",
       "      <td>Privates From\\nRs15888</td>\n",
       "      <td>Dorms From\\nRs3230</td>\n",
       "      <td>Perfect Location , Superb Staff , Fantastic Cl...</td>\n",
       "      <td>28, Hammersmith Broadway, Hammersmith, London,...</td>\n",
       "    </tr>\n",
       "    <tr>\n",
       "      <th>17</th>\n",
       "      <td>St Christopher's Hammersmith</td>\n",
       "      <td>7.5km from city centre</td>\n",
       "      <td>8.4</td>\n",
       "      <td>4076 Total Reviews</td>\n",
       "      <td>Fabulous</td>\n",
       "      <td>No Privates Available</td>\n",
       "      <td>Dorms From\\nRs1885.52 Rs1697</td>\n",
       "      <td>Perfect Location , Superb Staff , Excellent Cl...</td>\n",
       "      <td>48-50 Camden High Street, Camden NW1, London, ...</td>\n",
       "    </tr>\n",
       "    <tr>\n",
       "      <th>18</th>\n",
       "      <td>St Christopher's Camden</td>\n",
       "      <td>4.3km from city centre</td>\n",
       "      <td>8.8</td>\n",
       "      <td>3813 Total Reviews</td>\n",
       "      <td>Fabulous</td>\n",
       "      <td>No Privates Available</td>\n",
       "      <td>Dorms From\\nRs2129.8 Rs1917</td>\n",
       "      <td>Perfect Location , Superb Staff , Excellent Cl...</td>\n",
       "      <td>52 Wilson Street, Finsbury, London, England</td>\n",
       "    </tr>\n",
       "    <tr>\n",
       "      <th>19</th>\n",
       "      <td>St Christopher's Inn - Liverpool Street</td>\n",
       "      <td>3.2km from city centre</td>\n",
       "      <td>8.3</td>\n",
       "      <td>422 Total Reviews</td>\n",
       "      <td>Fabulous</td>\n",
       "      <td>No Privates Available</td>\n",
       "      <td>Dorms From\\nRs3567.94 Rs3211</td>\n",
       "      <td>Perfect Location , Superb Staff , Fantastic Cl...</td>\n",
       "      <td>163 Borough High Street, SE1 1HR, Southwark, L...</td>\n",
       "    </tr>\n",
       "    <tr>\n",
       "      <th>20</th>\n",
       "      <td>St Christopher's Oasis-Female Only</td>\n",
       "      <td>1.8km from city centre</td>\n",
       "      <td>6.3</td>\n",
       "      <td>670 Total Reviews</td>\n",
       "      <td>Good</td>\n",
       "      <td>Privates From\\nRs9446.93 Rs8502</td>\n",
       "      <td>No Dorms Available</td>\n",
       "      <td>Perfect Location , Superb Staff , Excellent Cl...</td>\n",
       "      <td>73 Lambeth Walk, London, London, England</td>\n",
       "    </tr>\n",
       "    <tr>\n",
       "      <th>21</th>\n",
       "      <td>London Waterloo Hostel</td>\n",
       "      <td>0.7km from city centre</td>\n",
       "      <td>8.8</td>\n",
       "      <td>2508 Total Reviews</td>\n",
       "      <td>Fabulous</td>\n",
       "      <td>No Privates Available</td>\n",
       "      <td>Dorms From\\nRs2350</td>\n",
       "      <td>Wonderful Location , Marvellous Staff</td>\n",
       "      <td>40 College Crescent, Swiss Cottage, London, En...</td>\n",
       "    </tr>\n",
       "    <tr>\n",
       "      <th>22</th>\n",
       "      <td>Palmers Lodge - Swiss Cottage</td>\n",
       "      <td>6.5km from city centre</td>\n",
       "      <td>8.1</td>\n",
       "      <td>15494 Total Reviews</td>\n",
       "      <td>Fabulous</td>\n",
       "      <td>No Privates Available</td>\n",
       "      <td>Dorms From\\nRs2153</td>\n",
       "      <td>Perfect Location , Superb Staff , Fantastic Cl...</td>\n",
       "      <td>1a Sutherland Street, Victoria, London, England</td>\n",
       "    </tr>\n",
       "    <tr>\n",
       "      <th>23</th>\n",
       "      <td>PubLove @ The White Ferry, Victoria</td>\n",
       "      <td>2.4km from city centre</td>\n",
       "      <td>7.8</td>\n",
       "      <td>274 Total Reviews</td>\n",
       "      <td>Very Good</td>\n",
       "      <td>No Privates Available</td>\n",
       "      <td>Dorms From\\nRs3482</td>\n",
       "      <td>Perfect Location , Superb Staff , Excellent Cl...</td>\n",
       "      <td>261-265 Grays Inn Road, Kings Cross, London, E...</td>\n",
       "    </tr>\n",
       "    <tr>\n",
       "      <th>24</th>\n",
       "      <td>St Christopher's Greenwich</td>\n",
       "      <td>7.6km from city centre</td>\n",
       "      <td>6.8</td>\n",
       "      <td>3223 Total Reviews</td>\n",
       "      <td>Good</td>\n",
       "      <td>No Privates Available</td>\n",
       "      <td>Dorms From\\nRs1742.96 Rs1569</td>\n",
       "      <td>Wonderful Location , Brilliant Staff , Awesome...</td>\n",
       "      <td>189 Greenwich High Road, Greenwich, London, En...</td>\n",
       "    </tr>\n",
       "    <tr>\n",
       "      <th>25</th>\n",
       "      <td>PubLove @ The Steam Engine, Waterloo</td>\n",
       "      <td>0.5km from city centre</td>\n",
       "      <td>8.4</td>\n",
       "      <td>296 Total Reviews</td>\n",
       "      <td>Fabulous</td>\n",
       "      <td>No Privates Available</td>\n",
       "      <td>Dorms From\\nRs5029</td>\n",
       "      <td>Perfect Location , Superb Staff , Excellent Cl...</td>\n",
       "      <td>41-42 Cosser St, London, England</td>\n",
       "    </tr>\n",
       "    <tr>\n",
       "      <th>26</th>\n",
       "      <td>St Christopher's Shepherds Bush</td>\n",
       "      <td>7km from city centre</td>\n",
       "      <td>7.4</td>\n",
       "      <td>702 Total Reviews</td>\n",
       "      <td>Very Good</td>\n",
       "      <td>No Privates Available</td>\n",
       "      <td>Dorms From\\nRs2279.53 Rs2052</td>\n",
       "      <td>Perfect Location , Superb Staff , Awesome Clea...</td>\n",
       "      <td>Belushis Bar, 13-15 Shepherds Bush Green., Lon...</td>\n",
       "    </tr>\n",
       "    <tr>\n",
       "      <th>27</th>\n",
       "      <td>PubLove @ The Rose &amp; Crown</td>\n",
       "      <td>1.6km from city centre</td>\n",
       "      <td>8.0</td>\n",
       "      <td>141 Total Reviews</td>\n",
       "      <td>Fabulous</td>\n",
       "      <td>No Privates Available</td>\n",
       "      <td>Dorms From\\nRs4545</td>\n",
       "      <td>Perfect Location , Superb Staff , Awesome Clea...</td>\n",
       "      <td>65 Union Street, London, England</td>\n",
       "    </tr>\n",
       "    <tr>\n",
       "      <th>28</th>\n",
       "      <td>PubLove @ The Exmouth Arms, Euston</td>\n",
       "      <td>3.4km from city centre</td>\n",
       "      <td>7.1</td>\n",
       "      <td>1037 Total Reviews</td>\n",
       "      <td>Very Good</td>\n",
       "      <td>No Privates Available</td>\n",
       "      <td>Dorms From\\nRs3224</td>\n",
       "      <td>Perfect Location , Marvellous Staff , Awesome ...</td>\n",
       "      <td>1 Starcross Street, London, England</td>\n",
       "    </tr>\n",
       "    <tr>\n",
       "      <th>29</th>\n",
       "      <td>PubLove @ The Crown, Battersea</td>\n",
       "      <td>4.7km from city centre</td>\n",
       "      <td>6.5</td>\n",
       "      <td>255 Total Reviews</td>\n",
       "      <td>Good</td>\n",
       "      <td>Privates From\\nRs25532</td>\n",
       "      <td>Dorms From\\nRs2643</td>\n",
       "      <td>Great Location , Brilliant Staff</td>\n",
       "      <td>102 Lavender Hill,, Battersea, London, England</td>\n",
       "    </tr>\n",
       "    <tr>\n",
       "      <th>30</th>\n",
       "      <td>Park Villa</td>\n",
       "      <td>6.3km from city centre</td>\n",
       "      <td>7.9</td>\n",
       "      <td>873 Total Reviews</td>\n",
       "      <td>Very Good</td>\n",
       "      <td>No Privates Available</td>\n",
       "      <td>Dorms From\\nRs4645</td>\n",
       "      <td>Perfect Location , Superb Staff , Excellent Cl...</td>\n",
       "      <td>51 Grove Road, Bow, London, England</td>\n",
       "    </tr>\n",
       "    <tr>\n",
       "      <th>31</th>\n",
       "      <td>Saint James Backpackers</td>\n",
       "      <td>5.5km from city centre</td>\n",
       "      <td>6.6</td>\n",
       "      <td>1815 Total Reviews</td>\n",
       "      <td>Good</td>\n",
       "      <td>No Privates Available</td>\n",
       "      <td>Dorms From\\nRs2417.79 Rs2297</td>\n",
       "      <td>Wonderful Location , Marvellous Staff</td>\n",
       "      <td>21 Longridge Road, London, England</td>\n",
       "    </tr>\n",
       "    <tr>\n",
       "      <th>32</th>\n",
       "      <td>Kensal Green Backpackers</td>\n",
       "      <td>8.2km from city centre</td>\n",
       "      <td>-</td>\n",
       "      <td>3640 Total Reviews</td>\n",
       "      <td>Rating</td>\n",
       "      <td>No Privates Available</td>\n",
       "      <td>Dorms From\\nRs1612</td>\n",
       "      <td></td>\n",
       "      <td>639 Harrow Road, London, England</td>\n",
       "    </tr>\n",
       "    <tr>\n",
       "      <th>33</th>\n",
       "      <td>PubLove @ The Green Man, Paddington</td>\n",
       "      <td>4.3km from city centre</td>\n",
       "      <td>7.7</td>\n",
       "      <td>418 Total Reviews</td>\n",
       "      <td>Very Good</td>\n",
       "      <td>No Privates Available</td>\n",
       "      <td>Dorms From\\nRs2805</td>\n",
       "      <td>Perfect Location , Superb Staff , Excellent Cl...</td>\n",
       "      <td>308 Edgware Road, London, England</td>\n",
       "    </tr>\n",
       "    <tr>\n",
       "      <th>34</th>\n",
       "      <td>Book a Bed Hostels</td>\n",
       "      <td>6.9km from city centre</td>\n",
       "      <td>6.8</td>\n",
       "      <td>1201 Total Reviews</td>\n",
       "      <td>Good</td>\n",
       "      <td>Privates From\\nRs7833.64 Rs7050</td>\n",
       "      <td>Dorms From\\nRs2318.93 Rs2087</td>\n",
       "      <td>Great Location , Marvellous Staff , Awesome Cl...</td>\n",
       "      <td>86 Tanner's Hill, Deptford, London, England</td>\n",
       "    </tr>\n",
       "    <tr>\n",
       "      <th>35</th>\n",
       "      <td>Britannia Inn Hotel</td>\n",
       "      <td>14.5km from city centre</td>\n",
       "      <td>8.2</td>\n",
       "      <td>22 Total Reviews</td>\n",
       "      <td>Fabulous</td>\n",
       "      <td>Privates From\\nRs10799</td>\n",
       "      <td>No Dorms Available</td>\n",
       "      <td>Wonderful Location , Superb Staff , Excellent ...</td>\n",
       "      <td>54, Mansfield Road, Ilford London, London, Eng...</td>\n",
       "    </tr>\n",
       "    <tr>\n",
       "      <th>36</th>\n",
       "      <td>The Backpackshack</td>\n",
       "      <td>10.9km from city centre</td>\n",
       "      <td>8.7</td>\n",
       "      <td>734 Total Reviews</td>\n",
       "      <td>Fabulous</td>\n",
       "      <td>Privates From\\nRs4836</td>\n",
       "      <td>No Dorms Available</td>\n",
       "      <td>Wonderful Location , Superb Staff , Fantastic ...</td>\n",
       "      <td>1 Mill Hill Road, The Talbot Pub, W3 8JB, Lond...</td>\n",
       "    </tr>\n",
       "    <tr>\n",
       "      <th>37</th>\n",
       "      <td>London House Hotel</td>\n",
       "      <td>5.3km from city centre</td>\n",
       "      <td>8.8</td>\n",
       "      <td>1382 Total Reviews</td>\n",
       "      <td>Fabulous</td>\n",
       "      <td>Privates From\\nRs26344.24 Rs18441</td>\n",
       "      <td>No Dorms Available</td>\n",
       "      <td>Perfect Location , Superb Staff , Fantastic Cl...</td>\n",
       "      <td>81 Kensington Garden Square, Bayswater W2 4DJ,...</td>\n",
       "    </tr>\n",
       "    <tr>\n",
       "      <th>38</th>\n",
       "      <td>Elmwood Hotel</td>\n",
       "      <td>3.2km from city centre</td>\n",
       "      <td>6.1</td>\n",
       "      <td>116 Total Reviews</td>\n",
       "      <td>Good</td>\n",
       "      <td>Privates From\\nRs11928</td>\n",
       "      <td>No Dorms Available</td>\n",
       "      <td>Perfect Location , Awesome Cleanliness</td>\n",
       "      <td>19 &amp; 20 Argyle square, London, London, England</td>\n",
       "    </tr>\n",
       "    <tr>\n",
       "      <th>39</th>\n",
       "      <td>Kip Hotel</td>\n",
       "      <td>6.8km from city centre</td>\n",
       "      <td>6.6</td>\n",
       "      <td>54 Total Reviews</td>\n",
       "      <td>Good</td>\n",
       "      <td>Privates From\\nRs8865</td>\n",
       "      <td>No Dorms Available</td>\n",
       "      <td>Nice Location , Superb Staff , Excellent Clean...</td>\n",
       "      <td>2 Aspland Grove, London, England</td>\n",
       "    </tr>\n",
       "    <tr>\n",
       "      <th>40</th>\n",
       "      <td>The London Home Hostel</td>\n",
       "      <td>8.2km from city centre</td>\n",
       "      <td>-</td>\n",
       "      <td>258 Total Reviews</td>\n",
       "      <td>Rating</td>\n",
       "      <td>Privates From\\nRs6093</td>\n",
       "      <td>Dorms From\\nRs2418</td>\n",
       "      <td></td>\n",
       "      <td>39 Chatsworth Road, London, London, England</td>\n",
       "    </tr>\n",
       "    <tr>\n",
       "      <th>41</th>\n",
       "      <td>The W14 Hotel &amp; Bar</td>\n",
       "      <td>6.5km from city centre</td>\n",
       "      <td>8.6</td>\n",
       "      <td>280 Total Reviews</td>\n",
       "      <td>Fabulous</td>\n",
       "      <td>Privates From\\nRs16248</td>\n",
       "      <td>No Dorms Available</td>\n",
       "      <td>Perfect Location , Marvellous Staff , Excellen...</td>\n",
       "      <td>16-22 Gunterstone Road, West Kensington, Londo...</td>\n",
       "    </tr>\n",
       "    <tr>\n",
       "      <th>42</th>\n",
       "      <td>Cranbrook Hotel</td>\n",
       "      <td>14.8km from city centre</td>\n",
       "      <td>-</td>\n",
       "      <td>58 Total Reviews</td>\n",
       "      <td>No Rating</td>\n",
       "      <td>Privates From\\nRs8349</td>\n",
       "      <td>No Dorms Available</td>\n",
       "      <td></td>\n",
       "      <td>22/24 Coventry Road, Ilford, London, England</td>\n",
       "    </tr>\n",
       "    <tr>\n",
       "      <th>43</th>\n",
       "      <td>Colliers Hotel</td>\n",
       "      <td>2.1km from city centre</td>\n",
       "      <td>6.6</td>\n",
       "      <td>8 Total Reviews</td>\n",
       "      <td>Good</td>\n",
       "      <td>Privates From\\nRs9671</td>\n",
       "      <td>No Dorms Available</td>\n",
       "      <td>Perfect Location , Brilliant Staff , Awesome C...</td>\n",
       "      <td>95-97 Warwick Way, Pimlico, London, England</td>\n",
       "    </tr>\n",
       "    <tr>\n",
       "      <th>44</th>\n",
       "      <td>City Hotel Carlton</td>\n",
       "      <td>1.8km from city centre</td>\n",
       "      <td>6.7</td>\n",
       "      <td>40 Total Reviews</td>\n",
       "      <td>Good</td>\n",
       "      <td>Privates From\\nRs8897</td>\n",
       "      <td>No Dorms Available</td>\n",
       "      <td>Great Location , Marvellous Staff</td>\n",
       "      <td>90 Belgrave Road, Victoria, London, England</td>\n",
       "    </tr>\n",
       "    <tr>\n",
       "      <th>45</th>\n",
       "      <td>Hotel Shepherds Bush London</td>\n",
       "      <td>7.6km from city centre</td>\n",
       "      <td>-</td>\n",
       "      <td>0 Total Reviews</td>\n",
       "      <td>No Rating</td>\n",
       "      <td>Privates From\\nRs20038.8 Rs16231</td>\n",
       "      <td>No Dorms Available</td>\n",
       "      <td></td>\n",
       "      <td>11 -12 Poplar Mews, Uxbridge Rd, Shepherd's Bu...</td>\n",
       "    </tr>\n",
       "    <tr>\n",
       "      <th>46</th>\n",
       "      <td>Tony's House Hotel</td>\n",
       "      <td>4.3km from city centre</td>\n",
       "      <td>-</td>\n",
       "      <td>406 Total Reviews</td>\n",
       "      <td>No Rating</td>\n",
       "      <td>Privates From\\nRs5319</td>\n",
       "      <td>No Dorms Available</td>\n",
       "      <td></td>\n",
       "      <td>30 Norfolk Square, Hyde Park, London, England</td>\n",
       "    </tr>\n",
       "    <tr>\n",
       "      <th>47</th>\n",
       "      <td>Aron Guest House</td>\n",
       "      <td>13.1km from city centre</td>\n",
       "      <td>-</td>\n",
       "      <td>26 Total Reviews</td>\n",
       "      <td>No Rating</td>\n",
       "      <td>Privates From\\nRs10155</td>\n",
       "      <td>No Dorms Available</td>\n",
       "      <td></td>\n",
       "      <td>27 South Ealing, London, England</td>\n",
       "    </tr>\n",
       "    <tr>\n",
       "      <th>48</th>\n",
       "      <td>Beaconsfield</td>\n",
       "      <td>8.6km from city centre</td>\n",
       "      <td>-</td>\n",
       "      <td>28 Total Reviews</td>\n",
       "      <td>No Rating</td>\n",
       "      <td>Privates From\\nRs8607</td>\n",
       "      <td>No Dorms Available</td>\n",
       "      <td></td>\n",
       "      <td>357 - 359 Green Lanes, London, England</td>\n",
       "    </tr>\n",
       "    <tr>\n",
       "      <th>49</th>\n",
       "      <td>Park Hotel Essex</td>\n",
       "      <td>24.1km from city centre</td>\n",
       "      <td>8.0</td>\n",
       "      <td>109 Total Reviews</td>\n",
       "      <td>Fabulous</td>\n",
       "      <td>Privates From\\nRs24661</td>\n",
       "      <td>No Dorms Available</td>\n",
       "      <td>Wonderful Location , Marvellous Staff , Excell...</td>\n",
       "      <td>327 Cranbrook Road, Ilford, London, England</td>\n",
       "    </tr>\n",
       "    <tr>\n",
       "      <th>50</th>\n",
       "      <td>Wellesley Hotel</td>\n",
       "      <td>14.7km from city centre</td>\n",
       "      <td>-</td>\n",
       "      <td>0 Total Reviews</td>\n",
       "      <td>No Rating</td>\n",
       "      <td>Privates From\\nRs9865</td>\n",
       "      <td>No Dorms Available</td>\n",
       "      <td></td>\n",
       "      <td>17, Wellesley Rd Ilford, London, England</td>\n",
       "    </tr>\n",
       "    <tr>\n",
       "      <th>51</th>\n",
       "      <td>Destinations Hostels @ The Gallery</td>\n",
       "      <td>1.7km from city centre</td>\n",
       "      <td>-</td>\n",
       "      <td>0 Total Reviews</td>\n",
       "      <td>No Rating</td>\n",
       "      <td>No Privates Available</td>\n",
       "      <td>Dorms From\\nRs4352</td>\n",
       "      <td></td>\n",
       "      <td>1 Lupus street, Pimlico, London, England</td>\n",
       "    </tr>\n",
       "    <tr>\n",
       "      <th>52</th>\n",
       "      <td>Park Hotel</td>\n",
       "      <td>4.9km from city centre</td>\n",
       "      <td>-</td>\n",
       "      <td>0 Total Reviews</td>\n",
       "      <td>No Rating</td>\n",
       "      <td>Privates From\\nRs13540</td>\n",
       "      <td>No Dorms Available</td>\n",
       "      <td></td>\n",
       "      <td>36 Carter Lane, EC4V 5AB, London, England</td>\n",
       "    </tr>\n",
       "    <tr>\n",
       "      <th>53</th>\n",
       "      <td>YHA London St Pauls</td>\n",
       "      <td>1.9km from city centre</td>\n",
       "      <td>-</td>\n",
       "      <td>2074 Total Reviews</td>\n",
       "      <td>No Rating</td>\n",
       "      <td>Privates From\\nRs4836</td>\n",
       "      <td>No Dorms Available</td>\n",
       "      <td></td>\n",
       "      <td>64 Belgrave Road, Lillington and Longmoore Gar...</td>\n",
       "    </tr>\n",
       "  </tbody>\n",
       "</table>\n",
       "</div>"
      ],
      "text/plain": [
       "                                Hostel Name Distance from city center Ratings  \\\n",
       "0                  St Christopher's Village    1.8km from city centre     8.1   \n",
       "1                             Selina Camden    5.5km from city centre     8.5   \n",
       "2               Wombat's City Hostel London    3.6km from city centre     9.1   \n",
       "3                          Generator London      3km from city centre     7.7   \n",
       "4                      Urbany Hostel London    5.4km from city centre     9.3   \n",
       "5         Safestay London Elephant & Castle    1.7km from city centre     7.0   \n",
       "6              No.8 Willesden Hostel London     10km from city centre     6.8   \n",
       "7                        No.8 Seven Sisters      9km from city centre     6.2   \n",
       "8                        London Backpackers   11.9km from city centre     8.1   \n",
       "9                  Barmy Badger Backpackers    5.5km from city centre     9.0   \n",
       "10  Safestay London Kensington Holland Park    5.9km from city centre     6.5   \n",
       "11     St Christopher's Inn - London Bridge    1.8km from city centre     8.3   \n",
       "12                           Phoenix Hostel    4.2km from city centre     7.5   \n",
       "13              Smart Hyde Park View Hostel      5km from city centre     8.1   \n",
       "14                  Queen Elizabeth Chelsea    5.7km from city centre     7.3   \n",
       "15                         NX London Hostel    6.1km from city centre     9.2   \n",
       "16                  Hostel One Notting Hill    5.5km from city centre     7.9   \n",
       "17             St Christopher's Hammersmith    7.5km from city centre     8.4   \n",
       "18                  St Christopher's Camden    4.3km from city centre     8.8   \n",
       "19  St Christopher's Inn - Liverpool Street    3.2km from city centre     8.3   \n",
       "20       St Christopher's Oasis-Female Only    1.8km from city centre     6.3   \n",
       "21                   London Waterloo Hostel    0.7km from city centre     8.8   \n",
       "22            Palmers Lodge - Swiss Cottage    6.5km from city centre     8.1   \n",
       "23      PubLove @ The White Ferry, Victoria    2.4km from city centre     7.8   \n",
       "24               St Christopher's Greenwich    7.6km from city centre     6.8   \n",
       "25     PubLove @ The Steam Engine, Waterloo    0.5km from city centre     8.4   \n",
       "26          St Christopher's Shepherds Bush      7km from city centre     7.4   \n",
       "27               PubLove @ The Rose & Crown    1.6km from city centre     8.0   \n",
       "28       PubLove @ The Exmouth Arms, Euston    3.4km from city centre     7.1   \n",
       "29           PubLove @ The Crown, Battersea    4.7km from city centre     6.5   \n",
       "30                               Park Villa    6.3km from city centre     7.9   \n",
       "31                  Saint James Backpackers    5.5km from city centre     6.6   \n",
       "32                 Kensal Green Backpackers    8.2km from city centre       -   \n",
       "33      PubLove @ The Green Man, Paddington    4.3km from city centre     7.7   \n",
       "34                       Book a Bed Hostels    6.9km from city centre     6.8   \n",
       "35                      Britannia Inn Hotel   14.5km from city centre     8.2   \n",
       "36                        The Backpackshack   10.9km from city centre     8.7   \n",
       "37                       London House Hotel    5.3km from city centre     8.8   \n",
       "38                            Elmwood Hotel    3.2km from city centre     6.1   \n",
       "39                                Kip Hotel    6.8km from city centre     6.6   \n",
       "40                   The London Home Hostel    8.2km from city centre       -   \n",
       "41                      The W14 Hotel & Bar    6.5km from city centre     8.6   \n",
       "42                          Cranbrook Hotel   14.8km from city centre       -   \n",
       "43                           Colliers Hotel    2.1km from city centre     6.6   \n",
       "44                       City Hotel Carlton    1.8km from city centre     6.7   \n",
       "45              Hotel Shepherds Bush London    7.6km from city centre       -   \n",
       "46                       Tony's House Hotel    4.3km from city centre       -   \n",
       "47                         Aron Guest House   13.1km from city centre       -   \n",
       "48                             Beaconsfield    8.6km from city centre       -   \n",
       "49                         Park Hotel Essex   24.1km from city centre     8.0   \n",
       "50                          Wellesley Hotel   14.7km from city centre       -   \n",
       "51       Destinations Hostels @ The Gallery    1.7km from city centre       -   \n",
       "52                               Park Hotel    4.9km from city centre       -   \n",
       "53                      YHA London St Pauls    1.9km from city centre       -   \n",
       "\n",
       "          Total Reviews Overall Reviews                Privates from price  \\\n",
       "0   11400 Total Reviews        Fabulous              No Privates Available   \n",
       "1      34 Total Reviews        Fabulous             Privates From\\nRs27466   \n",
       "2   13875 Total Reviews          Superb  Privates From\\nRs24822.65 Rs18617   \n",
       "3    7067 Total Reviews       Very Good              Privates From\\nRs8808   \n",
       "4     419 Total Reviews          Superb             Privates From\\nRs14365   \n",
       "5    4412 Total Reviews       Very Good             Privates From\\nRs15959   \n",
       "6    4805 Total Reviews            Good              No Privates Available   \n",
       "7    3824 Total Reviews            Good              No Privates Available   \n",
       "8    4294 Total Reviews        Fabulous              No Privates Available   \n",
       "9    1793 Total Reviews          Superb              Privates From\\nRs8414   \n",
       "10   1273 Total Reviews            Good              No Privates Available   \n",
       "11   3336 Total Reviews        Fabulous              No Privates Available   \n",
       "12   3684 Total Reviews       Very Good              No Privates Available   \n",
       "13   4578 Total Reviews        Fabulous              No Privates Available   \n",
       "14   3308 Total Reviews       Very Good              No Privates Available   \n",
       "15   1181 Total Reviews          Superb    Privates From\\nRs8083.95 Rs6871   \n",
       "16   1437 Total Reviews       Very Good             Privates From\\nRs15888   \n",
       "17   4076 Total Reviews        Fabulous              No Privates Available   \n",
       "18   3813 Total Reviews        Fabulous              No Privates Available   \n",
       "19    422 Total Reviews        Fabulous              No Privates Available   \n",
       "20    670 Total Reviews            Good    Privates From\\nRs9446.93 Rs8502   \n",
       "21   2508 Total Reviews        Fabulous              No Privates Available   \n",
       "22  15494 Total Reviews        Fabulous              No Privates Available   \n",
       "23    274 Total Reviews       Very Good              No Privates Available   \n",
       "24   3223 Total Reviews            Good              No Privates Available   \n",
       "25    296 Total Reviews        Fabulous              No Privates Available   \n",
       "26    702 Total Reviews       Very Good              No Privates Available   \n",
       "27    141 Total Reviews        Fabulous              No Privates Available   \n",
       "28   1037 Total Reviews       Very Good              No Privates Available   \n",
       "29    255 Total Reviews            Good             Privates From\\nRs25532   \n",
       "30    873 Total Reviews       Very Good              No Privates Available   \n",
       "31   1815 Total Reviews            Good              No Privates Available   \n",
       "32   3640 Total Reviews          Rating              No Privates Available   \n",
       "33    418 Total Reviews       Very Good              No Privates Available   \n",
       "34   1201 Total Reviews            Good    Privates From\\nRs7833.64 Rs7050   \n",
       "35     22 Total Reviews        Fabulous             Privates From\\nRs10799   \n",
       "36    734 Total Reviews        Fabulous              Privates From\\nRs4836   \n",
       "37   1382 Total Reviews        Fabulous  Privates From\\nRs26344.24 Rs18441   \n",
       "38    116 Total Reviews            Good             Privates From\\nRs11928   \n",
       "39     54 Total Reviews            Good              Privates From\\nRs8865   \n",
       "40    258 Total Reviews          Rating              Privates From\\nRs6093   \n",
       "41    280 Total Reviews        Fabulous             Privates From\\nRs16248   \n",
       "42     58 Total Reviews       No Rating              Privates From\\nRs8349   \n",
       "43      8 Total Reviews            Good              Privates From\\nRs9671   \n",
       "44     40 Total Reviews            Good              Privates From\\nRs8897   \n",
       "45      0 Total Reviews       No Rating   Privates From\\nRs20038.8 Rs16231   \n",
       "46    406 Total Reviews       No Rating              Privates From\\nRs5319   \n",
       "47     26 Total Reviews       No Rating             Privates From\\nRs10155   \n",
       "48     28 Total Reviews       No Rating              Privates From\\nRs8607   \n",
       "49    109 Total Reviews        Fabulous             Privates From\\nRs24661   \n",
       "50      0 Total Reviews       No Rating              Privates From\\nRs9865   \n",
       "51      0 Total Reviews       No Rating              No Privates Available   \n",
       "52      0 Total Reviews       No Rating             Privates From\\nRs13540   \n",
       "53   2074 Total Reviews       No Rating              Privates From\\nRs4836   \n",
       "\n",
       "                Dorms from price  \\\n",
       "0   Dorms From\\nRs1807.43 Rs1627   \n",
       "1   Dorms From\\nRs9999.98 Rs8500   \n",
       "2   Dorms From\\nRs3809.57 Rs2857   \n",
       "3             Dorms From\\nRs2297   \n",
       "4             Dorms From\\nRs3830   \n",
       "5             Dorms From\\nRs1596   \n",
       "6              Dorms From\\nRs995   \n",
       "7              Dorms From\\nRs946   \n",
       "8             Dorms From\\nRs1596   \n",
       "9             Dorms From\\nRs2966   \n",
       "10            Dorms From\\nRs1480   \n",
       "11  Dorms From\\nRs1992.98 Rs1794   \n",
       "12  Dorms From\\nRs2030.94 Rs1828   \n",
       "13            Dorms From\\nRs3714   \n",
       "14            Dorms From\\nRs1966   \n",
       "15            No Dorms Available   \n",
       "16            Dorms From\\nRs3230   \n",
       "17  Dorms From\\nRs1885.52 Rs1697   \n",
       "18   Dorms From\\nRs2129.8 Rs1917   \n",
       "19  Dorms From\\nRs3567.94 Rs3211   \n",
       "20            No Dorms Available   \n",
       "21            Dorms From\\nRs2350   \n",
       "22            Dorms From\\nRs2153   \n",
       "23            Dorms From\\nRs3482   \n",
       "24  Dorms From\\nRs1742.96 Rs1569   \n",
       "25            Dorms From\\nRs5029   \n",
       "26  Dorms From\\nRs2279.53 Rs2052   \n",
       "27            Dorms From\\nRs4545   \n",
       "28            Dorms From\\nRs3224   \n",
       "29            Dorms From\\nRs2643   \n",
       "30            Dorms From\\nRs4645   \n",
       "31  Dorms From\\nRs2417.79 Rs2297   \n",
       "32            Dorms From\\nRs1612   \n",
       "33            Dorms From\\nRs2805   \n",
       "34  Dorms From\\nRs2318.93 Rs2087   \n",
       "35            No Dorms Available   \n",
       "36            No Dorms Available   \n",
       "37            No Dorms Available   \n",
       "38            No Dorms Available   \n",
       "39            No Dorms Available   \n",
       "40            Dorms From\\nRs2418   \n",
       "41            No Dorms Available   \n",
       "42            No Dorms Available   \n",
       "43            No Dorms Available   \n",
       "44            No Dorms Available   \n",
       "45            No Dorms Available   \n",
       "46            No Dorms Available   \n",
       "47            No Dorms Available   \n",
       "48            No Dorms Available   \n",
       "49            No Dorms Available   \n",
       "50            No Dorms Available   \n",
       "51            Dorms From\\nRs4352   \n",
       "52            No Dorms Available   \n",
       "53            No Dorms Available   \n",
       "\n",
       "                                           Facilities  \\\n",
       "0   Perfect Location , Superb Staff , Excellent Cl...   \n",
       "1   Perfect Location , Superb Staff , Fantastic Cl...   \n",
       "2   Perfect Location , Superb Staff , Fantastic Cl...   \n",
       "3   Perfect Location , Marvellous Staff , Awesome ...   \n",
       "4   Perfect Location , Superb Staff , Fantastic Cl...   \n",
       "5   Wonderful Location , Brilliant Staff , Awesome...   \n",
       "6   Great Location , Marvellous Staff , Awesome Cl...   \n",
       "7                   Great Location , Marvellous Staff   \n",
       "8   Wonderful Location , Superb Staff , Excellent ...   \n",
       "9   Perfect Location , Superb Staff , Fantastic Cl...   \n",
       "10               Wonderful Location , Brilliant Staff   \n",
       "11  Perfect Location , Superb Staff , Excellent Cl...   \n",
       "12  Perfect Location , Superb Staff , Awesome Clea...   \n",
       "13  Perfect Location , Superb Staff , Excellent Cl...   \n",
       "14              Wonderful Location , Marvellous Staff   \n",
       "15  Wonderful Location , Marvellous Staff , Awesom...   \n",
       "16  Perfect Location , Superb Staff , Fantastic Cl...   \n",
       "17  Perfect Location , Superb Staff , Excellent Cl...   \n",
       "18  Perfect Location , Superb Staff , Excellent Cl...   \n",
       "19  Perfect Location , Superb Staff , Fantastic Cl...   \n",
       "20  Perfect Location , Superb Staff , Excellent Cl...   \n",
       "21              Wonderful Location , Marvellous Staff   \n",
       "22  Perfect Location , Superb Staff , Fantastic Cl...   \n",
       "23  Perfect Location , Superb Staff , Excellent Cl...   \n",
       "24  Wonderful Location , Brilliant Staff , Awesome...   \n",
       "25  Perfect Location , Superb Staff , Excellent Cl...   \n",
       "26  Perfect Location , Superb Staff , Awesome Clea...   \n",
       "27  Perfect Location , Superb Staff , Awesome Clea...   \n",
       "28  Perfect Location , Marvellous Staff , Awesome ...   \n",
       "29                   Great Location , Brilliant Staff   \n",
       "30  Perfect Location , Superb Staff , Excellent Cl...   \n",
       "31              Wonderful Location , Marvellous Staff   \n",
       "32                                                      \n",
       "33  Perfect Location , Superb Staff , Excellent Cl...   \n",
       "34  Great Location , Marvellous Staff , Awesome Cl...   \n",
       "35  Wonderful Location , Superb Staff , Excellent ...   \n",
       "36  Wonderful Location , Superb Staff , Fantastic ...   \n",
       "37  Perfect Location , Superb Staff , Fantastic Cl...   \n",
       "38             Perfect Location , Awesome Cleanliness   \n",
       "39  Nice Location , Superb Staff , Excellent Clean...   \n",
       "40                                                      \n",
       "41  Perfect Location , Marvellous Staff , Excellen...   \n",
       "42                                                      \n",
       "43  Perfect Location , Brilliant Staff , Awesome C...   \n",
       "44                  Great Location , Marvellous Staff   \n",
       "45                                                      \n",
       "46                                                      \n",
       "47                                                      \n",
       "48                                                      \n",
       "49  Wonderful Location , Marvellous Staff , Excell...   \n",
       "50                                                      \n",
       "51                                                      \n",
       "52                                                      \n",
       "53                                                      \n",
       "\n",
       "                                 Property Description  \n",
       "0            165 Borough High Street, London, England  \n",
       "1       89 Chalk Farm Rd, Chalk Farm, London, England  \n",
       "2                      7 Dock Street, London, England  \n",
       "3   Compton Place, Off 37 Tavistock Place, WC1, Lo...  \n",
       "4   48-49 Princes Square, Paddington, London, England  \n",
       "5              144-152 Walworth Road, London, England  \n",
       "6             305 High Rd, Willesden, London, England  \n",
       "7   618 Seven Sisters Rd, Seven Sisters, London, E...  \n",
       "8   8/10 Queens Parade, Queens Road, Hendon Centra...  \n",
       "9     17 Longridge Road, Earls Court, London, England  \n",
       "10    Holland Park Ave, Holland Walk, London, England  \n",
       "11           121 Borough High Street, London, England  \n",
       "12                 6 Daventry Street, London, England  \n",
       "13        16 Leinster Terrace W2 3EU, London, England  \n",
       "14                323 New Cross Road, London, England  \n",
       "15                63 Prince's Square, London, England  \n",
       "16  28, Hammersmith Broadway, Hammersmith, London,...  \n",
       "17  48-50 Camden High Street, Camden NW1, London, ...  \n",
       "18        52 Wilson Street, Finsbury, London, England  \n",
       "19  163 Borough High Street, SE1 1HR, Southwark, L...  \n",
       "20           73 Lambeth Walk, London, London, England  \n",
       "21  40 College Crescent, Swiss Cottage, London, En...  \n",
       "22    1a Sutherland Street, Victoria, London, England  \n",
       "23  261-265 Grays Inn Road, Kings Cross, London, E...  \n",
       "24  189 Greenwich High Road, Greenwich, London, En...  \n",
       "25                   41-42 Cosser St, London, England  \n",
       "26  Belushis Bar, 13-15 Shepherds Bush Green., Lon...  \n",
       "27                   65 Union Street, London, England  \n",
       "28                1 Starcross Street, London, England  \n",
       "29     102 Lavender Hill,, Battersea, London, England  \n",
       "30                51 Grove Road, Bow, London, England  \n",
       "31                 21 Longridge Road, London, England  \n",
       "32                   639 Harrow Road, London, England  \n",
       "33                  308 Edgware Road, London, England  \n",
       "34        86 Tanner's Hill, Deptford, London, England  \n",
       "35  54, Mansfield Road, Ilford London, London, Eng...  \n",
       "36  1 Mill Hill Road, The Talbot Pub, W3 8JB, Lond...  \n",
       "37  81 Kensington Garden Square, Bayswater W2 4DJ,...  \n",
       "38     19 & 20 Argyle square, London, London, England  \n",
       "39                   2 Aspland Grove, London, England  \n",
       "40        39 Chatsworth Road, London, London, England  \n",
       "41  16-22 Gunterstone Road, West Kensington, Londo...  \n",
       "42       22/24 Coventry Road, Ilford, London, England  \n",
       "43        95-97 Warwick Way, Pimlico, London, England  \n",
       "44        90 Belgrave Road, Victoria, London, England  \n",
       "45  11 -12 Poplar Mews, Uxbridge Rd, Shepherd's Bu...  \n",
       "46      30 Norfolk Square, Hyde Park, London, England  \n",
       "47                   27 South Ealing, London, England  \n",
       "48             357 - 359 Green Lanes, London, England  \n",
       "49        327 Cranbrook Road, Ilford, London, England  \n",
       "50           17, Wellesley Rd Ilford, London, England  \n",
       "51           1 Lupus street, Pimlico, London, England  \n",
       "52          36 Carter Lane, EC4V 5AB, London, England  \n",
       "53  64 Belgrave Road, Lillington and Longmoore Gar...  "
      ]
     },
     "execution_count": 1107,
     "metadata": {},
     "output_type": "execute_result"
    }
   ],
   "source": [
    "hostel = pd.DataFrame()\n",
    "hostel['Hostel Name'] = name\n",
    "hostel['Distance from city center'] = dist\n",
    "hostel['Ratings'] = rat\n",
    "hostel['Total Reviews'] = trev\n",
    "hostel['Overall Reviews'] = orev\n",
    "hostel['Privates from price'] = pfp\n",
    "hostel['Dorms from price'] = dfp\n",
    "hostel['Facilities'] = fac\n",
    "hostel['Property Description'] = desc\n",
    "hostel"
   ]
  },
  {
   "cell_type": "code",
   "execution_count": 1108,
   "metadata": {},
   "outputs": [],
   "source": [
    "#Creating csv file\n",
    "hostel.to_csv('Web_scraping_assignment_3_q10.csv')"
   ]
  },
  {
   "cell_type": "code",
   "execution_count": 1109,
   "metadata": {},
   "outputs": [],
   "source": [
    "driver.close()"
   ]
  }
 ],
 "metadata": {
  "colab": {
   "collapsed_sections": [],
   "name": "Web_Scraping_Assigment-2 .ipynb",
   "provenance": []
  },
  "kernelspec": {
   "display_name": "Python 3 (ipykernel)",
   "language": "python",
   "name": "python3"
  },
  "language_info": {
   "codemirror_mode": {
    "name": "ipython",
    "version": 3
   },
   "file_extension": ".py",
   "mimetype": "text/x-python",
   "name": "python",
   "nbconvert_exporter": "python",
   "pygments_lexer": "ipython3",
   "version": "3.7.11"
  }
 },
 "nbformat": 4,
 "nbformat_minor": 1
}
