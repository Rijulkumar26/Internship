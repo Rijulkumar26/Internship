{
 "cells": [
  {
   "cell_type": "code",
   "execution_count": 1,
   "metadata": {
    "colab": {
     "base_uri": "https://localhost:8080/"
    },
    "id": "oscIdeLfSTYT",
    "outputId": "20fba7b4-9fb6-4270-fc28-c0c07455b92c"
   },
   "outputs": [
    {
     "name": "stdout",
     "output_type": "stream",
     "text": [
      "Collecting bs4\n",
      "  Downloading bs4-0.0.1.tar.gz (1.1 kB)\n",
      "Requirement already satisfied: beautifulsoup4 in /home/dell/anaconda3/lib/python3.7/site-packages (from bs4) (4.10.0)\n",
      "Requirement already satisfied: soupsieve>1.2 in /home/dell/anaconda3/lib/python3.7/site-packages (from beautifulsoup4->bs4) (2.3.1)\n",
      "Building wheels for collected packages: bs4\n",
      "  Building wheel for bs4 (setup.py) ... \u001b[?25ldone\n",
      "\u001b[?25h  Created wheel for bs4: filename=bs4-0.0.1-py3-none-any.whl size=1272 sha256=1da6f0ca2a3098f5ad22975c13be294e4a16df5006e88eb4a5c5efb3fc8b173a\n",
      "  Stored in directory: /home/dell/.cache/pip/wheels/0a/9e/ba/20e5bbc1afef3a491f0b3bb74d508f99403aabe76eda2167ca\n",
      "Successfully built bs4\n",
      "Installing collected packages: bs4\n",
      "Successfully installed bs4-0.0.1\n",
      "Requirement already satisfied: requests in /home/dell/anaconda3/lib/python3.7/site-packages (2.27.1)\n",
      "Requirement already satisfied: charset-normalizer~=2.0.0 in /home/dell/anaconda3/lib/python3.7/site-packages (from requests) (2.0.4)\n",
      "Requirement already satisfied: certifi>=2017.4.17 in /home/dell/anaconda3/lib/python3.7/site-packages (from requests) (2021.10.8)\n",
      "Requirement already satisfied: idna<4,>=2.5 in /home/dell/anaconda3/lib/python3.7/site-packages (from requests) (3.3)\n",
      "Requirement already satisfied: urllib3<1.27,>=1.21.1 in /home/dell/anaconda3/lib/python3.7/site-packages (from requests) (1.26.7)\n"
     ]
    }
   ],
   "source": [
    "!pip3 install bs4\n",
    "!pip3 install requests"
   ]
  },
  {
   "cell_type": "code",
   "execution_count": 2,
   "metadata": {
    "id": "4PF8G-SOS2lt"
   },
   "outputs": [],
   "source": [
    "#importing required libraries\n",
    "from bs4 import BeautifulSoup\n",
    "import requests"
   ]
  },
  {
   "cell_type": "markdown",
   "metadata": {
    "id": "AyKBcBtKRojJ"
   },
   "source": [
    "# Q1. Display all header tags in 'wikipedia.org'\n"
   ]
  },
  {
   "cell_type": "code",
   "execution_count": 3,
   "metadata": {
    "id": "XEa50v-xTjZD"
   },
   "outputs": [],
   "source": [
    "page1 = requests.get('https://en.wikipedia.org/wiki/Main_Page')"
   ]
  },
  {
   "cell_type": "code",
   "execution_count": 4,
   "metadata": {
    "colab": {
     "base_uri": "https://localhost:8080/"
    },
    "id": "ZDqBOSZkUtGd",
    "outputId": "c3a78222-9e9e-4908-bb77-729447badb48"
   },
   "outputs": [
    {
     "data": {
      "text/plain": [
       "<Response [200]>"
      ]
     },
     "execution_count": 4,
     "metadata": {},
     "output_type": "execute_result"
    }
   ],
   "source": [
    "page1"
   ]
  },
  {
   "cell_type": "code",
   "execution_count": 5,
   "metadata": {
    "id": "pp6S1wrYUyCy"
   },
   "outputs": [],
   "source": [
    "soup1 = BeautifulSoup(page1.content)\n",
    "#soup1"
   ]
  },
  {
   "cell_type": "code",
   "execution_count": 6,
   "metadata": {
    "id": "27zqS9g_U7nD"
   },
   "outputs": [],
   "source": [
    "#First Level HTML header tag\n",
    "header1 = []\n",
    "for i in soup1.find_all('h1'):\n",
    "  header1.append(i.text)"
   ]
  },
  {
   "cell_type": "code",
   "execution_count": 7,
   "metadata": {
    "colab": {
     "base_uri": "https://localhost:8080/"
    },
    "id": "CxjU06OPeKn3",
    "outputId": "11911d31-6911-477a-d6cd-0addbcbac36e"
   },
   "outputs": [
    {
     "data": {
      "text/plain": [
       "['Main Page', 'Welcome to Wikipedia']"
      ]
     },
     "execution_count": 7,
     "metadata": {},
     "output_type": "execute_result"
    }
   ],
   "source": [
    "header1"
   ]
  },
  {
   "cell_type": "code",
   "execution_count": 8,
   "metadata": {
    "id": "-R6VXjrpiVOI"
   },
   "outputs": [],
   "source": [
    "#Second Level HTML header tag\n",
    "header2 = []\n",
    "for i in soup1.find_all('h2'):\n",
    "  header2.append(i.text)"
   ]
  },
  {
   "cell_type": "code",
   "execution_count": 9,
   "metadata": {
    "colab": {
     "base_uri": "https://localhost:8080/"
    },
    "id": "tEqSjkB-eXDk",
    "outputId": "d3dc04dd-3754-4e49-efd6-63b83192c511"
   },
   "outputs": [
    {
     "data": {
      "text/plain": [
       "[\"From today's featured article\",\n",
       " 'Did you know\\xa0...',\n",
       " 'In the news',\n",
       " 'On this day',\n",
       " \"Today's featured picture\",\n",
       " 'Other areas of Wikipedia',\n",
       " \"Wikipedia's sister projects\",\n",
       " 'Wikipedia languages',\n",
       " 'Navigation menu']"
      ]
     },
     "execution_count": 9,
     "metadata": {},
     "output_type": "execute_result"
    }
   ],
   "source": [
    "header2"
   ]
  },
  {
   "cell_type": "markdown",
   "metadata": {
    "id": "O0PLSB6fkEyo"
   },
   "source": [
    "#Q2. Display IMDB's Top rated 100 movies' data"
   ]
  },
  {
   "cell_type": "code",
   "execution_count": 10,
   "metadata": {
    "id": "iMCiRUvxq4QT"
   },
   "outputs": [],
   "source": [
    "import pandas as pd"
   ]
  },
  {
   "cell_type": "code",
   "execution_count": 11,
   "metadata": {
    "id": "ictYoCpeoPgB"
   },
   "outputs": [],
   "source": [
    "page2 = requests.get('https://imdb.com/chart/top/')"
   ]
  },
  {
   "cell_type": "code",
   "execution_count": 12,
   "metadata": {
    "colab": {
     "base_uri": "https://localhost:8080/"
    },
    "id": "xM3TXF-Oot1D",
    "outputId": "72c42e63-8752-4bb3-e80c-700af7f732cf"
   },
   "outputs": [
    {
     "data": {
      "text/plain": [
       "<Response [200]>"
      ]
     },
     "execution_count": 12,
     "metadata": {},
     "output_type": "execute_result"
    }
   ],
   "source": [
    "page2"
   ]
  },
  {
   "cell_type": "code",
   "execution_count": 13,
   "metadata": {
    "id": "wlaSL-Ulox5l"
   },
   "outputs": [],
   "source": [
    "soup2 = BeautifulSoup(page2.content)\n",
    "#soup2"
   ]
  },
  {
   "cell_type": "code",
   "execution_count": 14,
   "metadata": {
    "id": "uhS0VvFto2HI"
   },
   "outputs": [],
   "source": [
    "movies = []\n",
    "year = []\n",
    "rating = []"
   ]
  },
  {
   "cell_type": "code",
   "execution_count": 15,
   "metadata": {
    "id": "HFhWGN22rs_D"
   },
   "outputs": [],
   "source": [
    "#Extracting movie name list\n",
    "a = 0\n",
    "for i in soup2.find_all('td', class_=\"titleColumn\"):\n",
    "  movies.append(i.text.split('\\n')[2].strip())\n",
    "  a = a + 1\n",
    "  if a >= 100:\n",
    "    break"
   ]
  },
  {
   "cell_type": "code",
   "execution_count": 16,
   "metadata": {
    "colab": {
     "base_uri": "https://localhost:8080/"
    },
    "id": "TkIosBwTuOK6",
    "outputId": "7183be95-c36a-4929-a11f-c79227982d8a"
   },
   "outputs": [
    {
     "data": {
      "text/plain": [
       "['The Shawshank Redemption',\n",
       " 'The Godfather',\n",
       " 'The Dark Knight',\n",
       " 'The Godfather Part II',\n",
       " '12 Angry Men',\n",
       " \"Schindler's List\",\n",
       " 'The Lord of the Rings: The Return of the King',\n",
       " 'Pulp Fiction',\n",
       " 'The Lord of the Rings: The Fellowship of the Ring',\n",
       " 'Il buono, il brutto, il cattivo',\n",
       " 'Forrest Gump',\n",
       " 'Fight Club',\n",
       " 'Inception',\n",
       " 'The Lord of the Rings: The Two Towers',\n",
       " 'The Empire Strikes Back',\n",
       " 'The Matrix',\n",
       " 'Goodfellas',\n",
       " \"One Flew Over the Cuckoo's Nest\",\n",
       " 'Se7en',\n",
       " 'Shichinin no samurai',\n",
       " \"It's a Wonderful Life\",\n",
       " 'The Silence of the Lambs',\n",
       " 'Cidade de Deus',\n",
       " 'Saving Private Ryan',\n",
       " 'La vita è bella',\n",
       " 'The Green Mile',\n",
       " 'Interstellar',\n",
       " 'Star Wars',\n",
       " 'Terminator 2: Judgment Day',\n",
       " 'Back to the Future',\n",
       " 'Sen to Chihiro no kamikakushi',\n",
       " 'Psycho',\n",
       " 'The Pianist',\n",
       " 'Léon',\n",
       " 'Gisaengchung',\n",
       " 'The Lion King',\n",
       " 'Gladiator',\n",
       " 'American History X',\n",
       " 'The Usual Suspects',\n",
       " 'The Departed',\n",
       " 'The Prestige',\n",
       " 'Casablanca',\n",
       " 'Whiplash',\n",
       " 'Top Gun: Maverick',\n",
       " 'The Intouchables',\n",
       " 'Modern Times',\n",
       " 'Seppuku',\n",
       " 'Hotaru no haka',\n",
       " 'Once Upon a Time in the West',\n",
       " 'Rear Window',\n",
       " 'Alien',\n",
       " 'City Lights',\n",
       " 'Nuovo Cinema Paradiso',\n",
       " 'Memento',\n",
       " 'Apocalypse Now',\n",
       " 'Raiders of the Lost Ark',\n",
       " 'Django Unchained',\n",
       " 'WALL·E',\n",
       " 'The Lives of Others',\n",
       " 'Sunset Blvd.',\n",
       " 'Paths of Glory',\n",
       " 'The Shining',\n",
       " 'The Great Dictator',\n",
       " 'Witness for the Prosecution',\n",
       " 'Avengers: Infinity War',\n",
       " 'Aliens',\n",
       " 'American Beauty',\n",
       " 'Dr. Strangelove or: How I Learned to Stop Worrying and Love the Bomb',\n",
       " 'Spider-Man: Into the Spider-Verse',\n",
       " 'The Dark Knight Rises',\n",
       " 'Oldeuboi',\n",
       " 'Joker',\n",
       " 'Braveheart',\n",
       " 'Amadeus',\n",
       " 'Toy Story',\n",
       " 'Coco',\n",
       " 'Das Boot',\n",
       " 'Inglourious Basterds',\n",
       " 'Mononoke-hime',\n",
       " 'Avengers: Endgame',\n",
       " 'Once Upon a Time in America',\n",
       " 'Good Will Hunting',\n",
       " 'Requiem for a Dream',\n",
       " 'Toy Story 3',\n",
       " 'Kimi no na wa.',\n",
       " \"Singin' in the Rain\",\n",
       " '3 Idiots',\n",
       " 'Star Wars: Episode VI - Return of the Jedi',\n",
       " '2001: A Space Odyssey',\n",
       " 'Eternal Sunshine of the Spotless Mind',\n",
       " 'Reservoir Dogs',\n",
       " 'Tengoku to jigoku',\n",
       " 'Capharnaüm',\n",
       " 'Citizen Kane',\n",
       " 'Lawrence of Arabia',\n",
       " 'Jagten',\n",
       " 'M - Eine Stadt sucht einen Mörder',\n",
       " 'North by Northwest',\n",
       " 'Vertigo',\n",
       " \"Le fabuleux destin d'Amélie Poulain\"]"
      ]
     },
     "execution_count": 16,
     "metadata": {},
     "output_type": "execute_result"
    }
   ],
   "source": [
    "movies"
   ]
  },
  {
   "cell_type": "code",
   "execution_count": 17,
   "metadata": {
    "colab": {
     "base_uri": "https://localhost:8080/"
    },
    "id": "6sDtztQT4Duy",
    "outputId": "1d394de7-6414-4678-809d-0d5ffaa1ac19"
   },
   "outputs": [
    {
     "data": {
      "text/plain": [
       "100"
      ]
     },
     "execution_count": 17,
     "metadata": {},
     "output_type": "execute_result"
    }
   ],
   "source": [
    "len(movies)"
   ]
  },
  {
   "cell_type": "code",
   "execution_count": 18,
   "metadata": {
    "id": "G7O0H1h_sD4n"
   },
   "outputs": [],
   "source": [
    "#Extracting movie release year list\n",
    "b = 0\n",
    "for j in soup2.find_all('span', class_=\"secondaryInfo\"):\n",
    "  year.append(j.text[1:5])\n",
    "  b = b + 1\n",
    "  if b >= 100:\n",
    "    break"
   ]
  },
  {
   "cell_type": "code",
   "execution_count": 19,
   "metadata": {
    "colab": {
     "base_uri": "https://localhost:8080/"
    },
    "id": "5-VhhdUvtg8f",
    "outputId": "b55947a9-7e10-4f62-bcb5-c598220f2ab2"
   },
   "outputs": [
    {
     "data": {
      "text/plain": [
       "['1994',\n",
       " '1972',\n",
       " '2008',\n",
       " '1974',\n",
       " '1957',\n",
       " '1993',\n",
       " '2003',\n",
       " '1994',\n",
       " '2001',\n",
       " '1966',\n",
       " '1994',\n",
       " '1999',\n",
       " '2010',\n",
       " '2002',\n",
       " '1980',\n",
       " '1999',\n",
       " '1990',\n",
       " '1975',\n",
       " '1995',\n",
       " '1954',\n",
       " '1946',\n",
       " '1991',\n",
       " '2002',\n",
       " '1998',\n",
       " '1997',\n",
       " '1999',\n",
       " '2014',\n",
       " '1977',\n",
       " '1991',\n",
       " '1985',\n",
       " '2001',\n",
       " '1960',\n",
       " '2002',\n",
       " '1994',\n",
       " '2019',\n",
       " '1994',\n",
       " '2000',\n",
       " '1998',\n",
       " '1995',\n",
       " '2006',\n",
       " '2006',\n",
       " '1942',\n",
       " '2014',\n",
       " '2022',\n",
       " '2011',\n",
       " '1936',\n",
       " '1962',\n",
       " '1988',\n",
       " '1968',\n",
       " '1954',\n",
       " '1979',\n",
       " '1931',\n",
       " '1988',\n",
       " '2000',\n",
       " '1979',\n",
       " '1981',\n",
       " '2012',\n",
       " '2008',\n",
       " '2006',\n",
       " '1950',\n",
       " '1957',\n",
       " '1980',\n",
       " '1940',\n",
       " '1957',\n",
       " '2018',\n",
       " '1986',\n",
       " '1999',\n",
       " '1964',\n",
       " '2018',\n",
       " '2012',\n",
       " '2003',\n",
       " '2019',\n",
       " '1995',\n",
       " '1984',\n",
       " '1995',\n",
       " '2017',\n",
       " '1981',\n",
       " '2009',\n",
       " '1997',\n",
       " '2019',\n",
       " '1984',\n",
       " '1997',\n",
       " '2000',\n",
       " '2010',\n",
       " '2016',\n",
       " '1952',\n",
       " '2009',\n",
       " '1983',\n",
       " '1968',\n",
       " '2004',\n",
       " '1992',\n",
       " '1963',\n",
       " '2018',\n",
       " '1941',\n",
       " '1962',\n",
       " '2012',\n",
       " '1931',\n",
       " '1959',\n",
       " '1958',\n",
       " '2001']"
      ]
     },
     "execution_count": 19,
     "metadata": {},
     "output_type": "execute_result"
    }
   ],
   "source": [
    "year"
   ]
  },
  {
   "cell_type": "code",
   "execution_count": 20,
   "metadata": {
    "id": "HY6dcpOyuT1P"
   },
   "outputs": [],
   "source": [
    "#Extracting movie rating list\n",
    "c = 0\n",
    "for k in soup2.find_all('td', class_=\"ratingColumn imdbRating\"):\n",
    "  rating.append(k.text.split('\\n')[1])\n",
    "  c = c + 1\n",
    "  if c >= 100:\n",
    "    break"
   ]
  },
  {
   "cell_type": "code",
   "execution_count": 21,
   "metadata": {
    "colab": {
     "base_uri": "https://localhost:8080/"
    },
    "id": "PquUFF2M1hE8",
    "outputId": "be736523-7360-42c0-8f26-7a9506d52cae"
   },
   "outputs": [
    {
     "data": {
      "text/plain": [
       "['9.2',\n",
       " '9.2',\n",
       " '9.0',\n",
       " '9.0',\n",
       " '8.9',\n",
       " '8.9',\n",
       " '8.9',\n",
       " '8.9',\n",
       " '8.8',\n",
       " '8.8',\n",
       " '8.8',\n",
       " '8.7',\n",
       " '8.7',\n",
       " '8.7',\n",
       " '8.7',\n",
       " '8.7',\n",
       " '8.7',\n",
       " '8.6',\n",
       " '8.6',\n",
       " '8.6',\n",
       " '8.6',\n",
       " '8.6',\n",
       " '8.6',\n",
       " '8.6',\n",
       " '8.6',\n",
       " '8.6',\n",
       " '8.6',\n",
       " '8.6',\n",
       " '8.5',\n",
       " '8.5',\n",
       " '8.5',\n",
       " '8.5',\n",
       " '8.5',\n",
       " '8.5',\n",
       " '8.5',\n",
       " '8.5',\n",
       " '8.5',\n",
       " '8.5',\n",
       " '8.5',\n",
       " '8.5',\n",
       " '8.5',\n",
       " '8.5',\n",
       " '8.5',\n",
       " '8.5',\n",
       " '8.5',\n",
       " '8.4',\n",
       " '8.4',\n",
       " '8.4',\n",
       " '8.4',\n",
       " '8.4',\n",
       " '8.4',\n",
       " '8.4',\n",
       " '8.4',\n",
       " '8.4',\n",
       " '8.4',\n",
       " '8.4',\n",
       " '8.4',\n",
       " '8.4',\n",
       " '8.4',\n",
       " '8.4',\n",
       " '8.4',\n",
       " '8.4',\n",
       " '8.4',\n",
       " '8.4',\n",
       " '8.4',\n",
       " '8.3',\n",
       " '8.3',\n",
       " '8.3',\n",
       " '8.3',\n",
       " '8.3',\n",
       " '8.3',\n",
       " '8.3',\n",
       " '8.3',\n",
       " '8.3',\n",
       " '8.3',\n",
       " '8.3',\n",
       " '8.3',\n",
       " '8.3',\n",
       " '8.3',\n",
       " '8.3',\n",
       " '8.3',\n",
       " '8.3',\n",
       " '8.3',\n",
       " '8.3',\n",
       " '8.3',\n",
       " '8.3',\n",
       " '8.3',\n",
       " '8.3',\n",
       " '8.3',\n",
       " '8.3',\n",
       " '8.3',\n",
       " '8.3',\n",
       " '8.3',\n",
       " '8.3',\n",
       " '8.3',\n",
       " '8.3',\n",
       " '8.3',\n",
       " '8.3',\n",
       " '8.2',\n",
       " '8.2']"
      ]
     },
     "execution_count": 21,
     "metadata": {},
     "output_type": "execute_result"
    }
   ],
   "source": [
    "rating"
   ]
  },
  {
   "cell_type": "code",
   "execution_count": 22,
   "metadata": {
    "id": "B__RmZ1x4_k8"
   },
   "outputs": [],
   "source": [
    "data = {\n",
    "    'Movie Name' : movies,\n",
    "    'Year of release' : year,\n",
    "    'IMDB Rating' : rating \n",
    "}\n",
    "df = pd.DataFrame(data)"
   ]
  },
  {
   "cell_type": "code",
   "execution_count": 23,
   "metadata": {
    "colab": {
     "base_uri": "https://localhost:8080/",
     "height": 424
    },
    "id": "bRym6XOX6Zfs",
    "outputId": "1a46b7cb-d043-4203-d0b2-e1216d687f99"
   },
   "outputs": [
    {
     "data": {
      "text/html": [
       "<div>\n",
       "<style scoped>\n",
       "    .dataframe tbody tr th:only-of-type {\n",
       "        vertical-align: middle;\n",
       "    }\n",
       "\n",
       "    .dataframe tbody tr th {\n",
       "        vertical-align: top;\n",
       "    }\n",
       "\n",
       "    .dataframe thead th {\n",
       "        text-align: right;\n",
       "    }\n",
       "</style>\n",
       "<table border=\"1\" class=\"dataframe\">\n",
       "  <thead>\n",
       "    <tr style=\"text-align: right;\">\n",
       "      <th></th>\n",
       "      <th>Movie Name</th>\n",
       "      <th>Year of release</th>\n",
       "      <th>IMDB Rating</th>\n",
       "    </tr>\n",
       "  </thead>\n",
       "  <tbody>\n",
       "    <tr>\n",
       "      <th>0</th>\n",
       "      <td>The Shawshank Redemption</td>\n",
       "      <td>1994</td>\n",
       "      <td>9.2</td>\n",
       "    </tr>\n",
       "    <tr>\n",
       "      <th>1</th>\n",
       "      <td>The Godfather</td>\n",
       "      <td>1972</td>\n",
       "      <td>9.2</td>\n",
       "    </tr>\n",
       "    <tr>\n",
       "      <th>2</th>\n",
       "      <td>The Dark Knight</td>\n",
       "      <td>2008</td>\n",
       "      <td>9.0</td>\n",
       "    </tr>\n",
       "    <tr>\n",
       "      <th>3</th>\n",
       "      <td>The Godfather Part II</td>\n",
       "      <td>1974</td>\n",
       "      <td>9.0</td>\n",
       "    </tr>\n",
       "    <tr>\n",
       "      <th>4</th>\n",
       "      <td>12 Angry Men</td>\n",
       "      <td>1957</td>\n",
       "      <td>8.9</td>\n",
       "    </tr>\n",
       "    <tr>\n",
       "      <th>...</th>\n",
       "      <td>...</td>\n",
       "      <td>...</td>\n",
       "      <td>...</td>\n",
       "    </tr>\n",
       "    <tr>\n",
       "      <th>95</th>\n",
       "      <td>Jagten</td>\n",
       "      <td>2012</td>\n",
       "      <td>8.3</td>\n",
       "    </tr>\n",
       "    <tr>\n",
       "      <th>96</th>\n",
       "      <td>M - Eine Stadt sucht einen Mörder</td>\n",
       "      <td>1931</td>\n",
       "      <td>8.3</td>\n",
       "    </tr>\n",
       "    <tr>\n",
       "      <th>97</th>\n",
       "      <td>North by Northwest</td>\n",
       "      <td>1959</td>\n",
       "      <td>8.3</td>\n",
       "    </tr>\n",
       "    <tr>\n",
       "      <th>98</th>\n",
       "      <td>Vertigo</td>\n",
       "      <td>1958</td>\n",
       "      <td>8.2</td>\n",
       "    </tr>\n",
       "    <tr>\n",
       "      <th>99</th>\n",
       "      <td>Le fabuleux destin d'Amélie Poulain</td>\n",
       "      <td>2001</td>\n",
       "      <td>8.2</td>\n",
       "    </tr>\n",
       "  </tbody>\n",
       "</table>\n",
       "<p>100 rows × 3 columns</p>\n",
       "</div>"
      ],
      "text/plain": [
       "                             Movie Name Year of release IMDB Rating\n",
       "0              The Shawshank Redemption            1994         9.2\n",
       "1                         The Godfather            1972         9.2\n",
       "2                       The Dark Knight            2008         9.0\n",
       "3                 The Godfather Part II            1974         9.0\n",
       "4                          12 Angry Men            1957         8.9\n",
       "..                                  ...             ...         ...\n",
       "95                               Jagten            2012         8.3\n",
       "96    M - Eine Stadt sucht einen Mörder            1931         8.3\n",
       "97                   North by Northwest            1959         8.3\n",
       "98                              Vertigo            1958         8.2\n",
       "99  Le fabuleux destin d'Amélie Poulain            2001         8.2\n",
       "\n",
       "[100 rows x 3 columns]"
      ]
     },
     "execution_count": 23,
     "metadata": {},
     "output_type": "execute_result"
    }
   ],
   "source": [
    "df"
   ]
  },
  {
   "cell_type": "markdown",
   "metadata": {
    "id": "cPtaz5b36tgL"
   },
   "source": [
    "#Q3. Display IMDB'S Top rated Indian movies' data"
   ]
  },
  {
   "cell_type": "code",
   "execution_count": 24,
   "metadata": {
    "id": "g7gRLFcM7C1P"
   },
   "outputs": [],
   "source": [
    "page3 = requests.get('https://www.imdb.com/india/top-rated-indian-movies/')"
   ]
  },
  {
   "cell_type": "code",
   "execution_count": 25,
   "metadata": {
    "colab": {
     "base_uri": "https://localhost:8080/"
    },
    "id": "G0Ug_14jNqe5",
    "outputId": "40e9415d-8be7-4062-b796-6752fddbfc26"
   },
   "outputs": [
    {
     "data": {
      "text/plain": [
       "<Response [200]>"
      ]
     },
     "execution_count": 25,
     "metadata": {},
     "output_type": "execute_result"
    }
   ],
   "source": [
    "page3"
   ]
  },
  {
   "cell_type": "code",
   "execution_count": 26,
   "metadata": {
    "id": "VO9BthvANtJy"
   },
   "outputs": [],
   "source": [
    "soup3 = BeautifulSoup(page3.content)\n",
    "#soup3"
   ]
  },
  {
   "cell_type": "code",
   "execution_count": 27,
   "metadata": {
    "id": "gdZGTiilOdno"
   },
   "outputs": [],
   "source": [
    "movies = []\n",
    "year = []\n",
    "rating = []"
   ]
  },
  {
   "cell_type": "code",
   "execution_count": 28,
   "metadata": {
    "id": "WFcejdgmOv6c"
   },
   "outputs": [],
   "source": [
    "#Extracting movie name list\n",
    "a = 0\n",
    "for i in soup3.find_all('td', class_=\"titleColumn\"):\n",
    "  movies.append(i.text.split('\\n')[2].strip())\n",
    "  a = a + 1\n",
    "  if a >= 100:\n",
    "    break"
   ]
  },
  {
   "cell_type": "code",
   "execution_count": 29,
   "metadata": {
    "colab": {
     "base_uri": "https://localhost:8080/"
    },
    "id": "mcwuPugfO4nX",
    "outputId": "3a2577d0-6f8a-4878-dbb4-6464a0ebd10c"
   },
   "outputs": [
    {
     "data": {
      "text/plain": [
       "['Jai Bhim',\n",
       " 'Anbe Sivam',\n",
       " 'Golmaal',\n",
       " 'Nayakan',\n",
       " 'Pariyerum Perumal',\n",
       " '3 Idiots',\n",
       " 'Apur Sansar',\n",
       " 'Manichitrathazhu',\n",
       " 'Black Friday',\n",
       " 'Kumbalangi Nights',\n",
       " 'C/o Kancharapalem',\n",
       " 'Taare Zameen Par',\n",
       " '#Home',\n",
       " 'Vikram',\n",
       " 'Soorarai Pottru',\n",
       " 'Dangal',\n",
       " 'Kireedam',\n",
       " 'Kaithi',\n",
       " 'Jersey',\n",
       " 'Thevar Magan',\n",
       " 'Pather Panchali',\n",
       " 'Asuran',\n",
       " '96',\n",
       " 'Visaaranai',\n",
       " 'Thalapathi',\n",
       " 'Natsamrat',\n",
       " 'Sarpatta Parambarai',\n",
       " 'Drishyam 2',\n",
       " 'Sardar Udham',\n",
       " 'Thani Oruvan',\n",
       " 'Aparajito',\n",
       " 'Vada Chennai',\n",
       " 'Jaane Bhi Do Yaaro',\n",
       " 'Khosla Ka Ghosla!',\n",
       " 'Drishyam',\n",
       " 'Chupke Chupke',\n",
       " 'Peranbu',\n",
       " 'Agent Sai Srinivasa Athreya',\n",
       " 'Anniyan',\n",
       " 'Mahanati',\n",
       " 'Super Deluxe',\n",
       " 'Satya',\n",
       " 'Bangalore Days',\n",
       " 'Premam',\n",
       " 'Ratsasan',\n",
       " 'Devasuram',\n",
       " 'Bhaag Milkha Bhaag',\n",
       " 'Gangs of Wasseypur',\n",
       " 'Aruvi',\n",
       " 'Andhadhun',\n",
       " 'Drishyam',\n",
       " 'Kannathil Muthamittal',\n",
       " 'Guide',\n",
       " 'Shahid',\n",
       " 'Chithram',\n",
       " 'Iruvar',\n",
       " 'Sairat',\n",
       " 'Paan Singh Tomar',\n",
       " 'Zindagi Na Milegi Dobara',\n",
       " 'Vikram Vedha',\n",
       " 'Tumbbad',\n",
       " 'Mudhalvan',\n",
       " 'Dhuruvangal Pathinaaru',\n",
       " 'Black',\n",
       " 'Chhichhore',\n",
       " 'Spadikam',\n",
       " 'Swades: We, the People',\n",
       " 'Chak De! India',\n",
       " 'Jo Jeeta Wohi Sikandar',\n",
       " 'Pudhu Pettai',\n",
       " 'Papanasam',\n",
       " 'Pyaasa',\n",
       " 'Soodhu Kavvum',\n",
       " 'PK',\n",
       " 'Munna Bhai M.B.B.S.',\n",
       " 'Article 15',\n",
       " 'Mandela',\n",
       " 'Queen',\n",
       " 'Talvar',\n",
       " 'Uri: The Surgical Strike',\n",
       " 'Kaakkaa Muttai',\n",
       " 'OMG: Oh My God!',\n",
       " 'Lagaan: Once Upon a Time in India',\n",
       " 'Jigarthanda',\n",
       " 'Sarfarosh',\n",
       " 'Udaan',\n",
       " 'Barfi!',\n",
       " 'Sholay',\n",
       " 'Theeran Adhigaaram Ondru',\n",
       " 'Ustad Hotel',\n",
       " 'Hera Pheri',\n",
       " 'The Legend of Bhagat Singh',\n",
       " 'Angoor',\n",
       " 'Rang De Basanti',\n",
       " 'Baasha',\n",
       " 'Masaan',\n",
       " 'Kahaani',\n",
       " 'Baahubali 2: The Conclusion',\n",
       " 'Dil Chahta Hai',\n",
       " 'Maheshinte Prathikaaram']"
      ]
     },
     "execution_count": 29,
     "metadata": {},
     "output_type": "execute_result"
    }
   ],
   "source": [
    "movies"
   ]
  },
  {
   "cell_type": "code",
   "execution_count": 30,
   "metadata": {
    "colab": {
     "base_uri": "https://localhost:8080/"
    },
    "id": "lLS_YX1APDbF",
    "outputId": "e125bb2e-ea1d-46e5-9053-92f82fe2b267"
   },
   "outputs": [
    {
     "data": {
      "text/plain": [
       "100"
      ]
     },
     "execution_count": 30,
     "metadata": {},
     "output_type": "execute_result"
    }
   ],
   "source": [
    "len(movies)"
   ]
  },
  {
   "cell_type": "code",
   "execution_count": 31,
   "metadata": {
    "id": "l8qO_C_0PHI9"
   },
   "outputs": [],
   "source": [
    "#Extracting movie release year list\n",
    "b = 0\n",
    "for j in soup3.find_all('span', class_=\"secondaryInfo\"):\n",
    "  year.append(j.text[1:5])\n",
    "  b = b + 1\n",
    "  if b >= 100:\n",
    "    break"
   ]
  },
  {
   "cell_type": "code",
   "execution_count": 32,
   "metadata": {
    "colab": {
     "base_uri": "https://localhost:8080/"
    },
    "id": "XSRIuQelPOHR",
    "outputId": "a6c7bf64-3294-4f12-a577-b8982387b788"
   },
   "outputs": [
    {
     "data": {
      "text/plain": [
       "['2021',\n",
       " '2003',\n",
       " '1979',\n",
       " '1987',\n",
       " '2018',\n",
       " '2009',\n",
       " '1959',\n",
       " '1993',\n",
       " '2004',\n",
       " '2019',\n",
       " '2018',\n",
       " '2007',\n",
       " '2021',\n",
       " '2022',\n",
       " '2020',\n",
       " '2016',\n",
       " '1989',\n",
       " '2019',\n",
       " '2019',\n",
       " '1992',\n",
       " '1955',\n",
       " '2019',\n",
       " '2018',\n",
       " '2015',\n",
       " '1991',\n",
       " '2016',\n",
       " '2021',\n",
       " '2021',\n",
       " '2021',\n",
       " '2015',\n",
       " '1956',\n",
       " '2018',\n",
       " '1983',\n",
       " '2006',\n",
       " '2013',\n",
       " '1975',\n",
       " '2018',\n",
       " '2019',\n",
       " '2005',\n",
       " '2018',\n",
       " '2019',\n",
       " '1998',\n",
       " '2014',\n",
       " '2015',\n",
       " '2018',\n",
       " '1993',\n",
       " '2013',\n",
       " '2012',\n",
       " '2016',\n",
       " '2018',\n",
       " '2015',\n",
       " '2002',\n",
       " '1965',\n",
       " '2012',\n",
       " '1988',\n",
       " '1997',\n",
       " '2016',\n",
       " '2012',\n",
       " '2011',\n",
       " '2017',\n",
       " '2018',\n",
       " '1999',\n",
       " '2016',\n",
       " '2005',\n",
       " '2019',\n",
       " '1995',\n",
       " '2004',\n",
       " '2007',\n",
       " '1992',\n",
       " '2006',\n",
       " '2015',\n",
       " '1957',\n",
       " '2013',\n",
       " '2014',\n",
       " '2003',\n",
       " '2019',\n",
       " '2021',\n",
       " '2013',\n",
       " '2015',\n",
       " '2019',\n",
       " '2014',\n",
       " '2012',\n",
       " '2001',\n",
       " '2014',\n",
       " '1999',\n",
       " '2010',\n",
       " '2012',\n",
       " '1975',\n",
       " '2017',\n",
       " '2012',\n",
       " '2000',\n",
       " '2002',\n",
       " '1982',\n",
       " '2006',\n",
       " '1995',\n",
       " '2015',\n",
       " '2012',\n",
       " '2017',\n",
       " '2001',\n",
       " '2016']"
      ]
     },
     "execution_count": 32,
     "metadata": {},
     "output_type": "execute_result"
    }
   ],
   "source": [
    "year"
   ]
  },
  {
   "cell_type": "code",
   "execution_count": 33,
   "metadata": {
    "id": "KSIFtoBbPWPD"
   },
   "outputs": [],
   "source": [
    "#Extracting movie rating list\n",
    "c = 0\n",
    "for k in soup3.find_all('td', class_=\"ratingColumn imdbRating\"):\n",
    "  rating.append(k.text.split('\\n')[1])\n",
    "  c = c + 1\n",
    "  if c >= 100:\n",
    "    break"
   ]
  },
  {
   "cell_type": "code",
   "execution_count": 34,
   "metadata": {
    "colab": {
     "base_uri": "https://localhost:8080/"
    },
    "id": "cKiqTCMPPgtR",
    "outputId": "c1d642dd-103d-4906-b63e-8d95e1cec897"
   },
   "outputs": [
    {
     "data": {
      "text/plain": [
       "['8.4',\n",
       " '8.4',\n",
       " '8.4',\n",
       " '8.4',\n",
       " '8.4',\n",
       " '8.3',\n",
       " '8.3',\n",
       " '8.3',\n",
       " '8.3',\n",
       " '8.3',\n",
       " '8.3',\n",
       " '8.3',\n",
       " '8.3',\n",
       " '8.3',\n",
       " '8.3',\n",
       " '8.3',\n",
       " '8.3',\n",
       " '8.3',\n",
       " '8.3',\n",
       " '8.2',\n",
       " '8.2',\n",
       " '8.2',\n",
       " '8.2',\n",
       " '8.2',\n",
       " '8.2',\n",
       " '8.2',\n",
       " '8.2',\n",
       " '8.2',\n",
       " '8.2',\n",
       " '8.2',\n",
       " '8.2',\n",
       " '8.2',\n",
       " '8.2',\n",
       " '8.2',\n",
       " '8.1',\n",
       " '8.1',\n",
       " '8.1',\n",
       " '8.1',\n",
       " '8.1',\n",
       " '8.1',\n",
       " '8.1',\n",
       " '8.1',\n",
       " '8.1',\n",
       " '8.1',\n",
       " '8.1',\n",
       " '8.1',\n",
       " '8.1',\n",
       " '8.1',\n",
       " '8.1',\n",
       " '8.1',\n",
       " '8.1',\n",
       " '8.1',\n",
       " '8.1',\n",
       " '8.1',\n",
       " '8.1',\n",
       " '8.1',\n",
       " '8.1',\n",
       " '8.1',\n",
       " '8.1',\n",
       " '8.1',\n",
       " '8.1',\n",
       " '8.1',\n",
       " '8.1',\n",
       " '8.1',\n",
       " '8.1',\n",
       " '8.1',\n",
       " '8.1',\n",
       " '8.1',\n",
       " '8.1',\n",
       " '8.1',\n",
       " '8.1',\n",
       " '8.1',\n",
       " '8.1',\n",
       " '8.0',\n",
       " '8.0',\n",
       " '8.0',\n",
       " '8.0',\n",
       " '8.0',\n",
       " '8.0',\n",
       " '8.0',\n",
       " '8.0',\n",
       " '8.0',\n",
       " '8.0',\n",
       " '8.0',\n",
       " '8.0',\n",
       " '8.0',\n",
       " '8.0',\n",
       " '8.0',\n",
       " '8.0',\n",
       " '8.0',\n",
       " '8.0',\n",
       " '8.0',\n",
       " '8.0',\n",
       " '8.0',\n",
       " '8.0',\n",
       " '8.0',\n",
       " '8.0',\n",
       " '8.0',\n",
       " '8.0',\n",
       " '8.0']"
      ]
     },
     "execution_count": 34,
     "metadata": {},
     "output_type": "execute_result"
    }
   ],
   "source": [
    "rating"
   ]
  },
  {
   "cell_type": "code",
   "execution_count": 35,
   "metadata": {
    "id": "x485V9N8PmC2"
   },
   "outputs": [],
   "source": [
    "data = {\n",
    "    'Movie Name' : movies,\n",
    "    'Year of release' : year,\n",
    "    'IMDB Rating' : rating \n",
    "}\n",
    "df = pd.DataFrame(data)"
   ]
  },
  {
   "cell_type": "code",
   "execution_count": 36,
   "metadata": {
    "colab": {
     "base_uri": "https://localhost:8080/",
     "height": 424
    },
    "id": "NE1uYlZjPvpi",
    "outputId": "20ab6c45-0e0f-4f65-e433-5fa546c19b2c"
   },
   "outputs": [
    {
     "data": {
      "text/html": [
       "<div>\n",
       "<style scoped>\n",
       "    .dataframe tbody tr th:only-of-type {\n",
       "        vertical-align: middle;\n",
       "    }\n",
       "\n",
       "    .dataframe tbody tr th {\n",
       "        vertical-align: top;\n",
       "    }\n",
       "\n",
       "    .dataframe thead th {\n",
       "        text-align: right;\n",
       "    }\n",
       "</style>\n",
       "<table border=\"1\" class=\"dataframe\">\n",
       "  <thead>\n",
       "    <tr style=\"text-align: right;\">\n",
       "      <th></th>\n",
       "      <th>Movie Name</th>\n",
       "      <th>Year of release</th>\n",
       "      <th>IMDB Rating</th>\n",
       "    </tr>\n",
       "  </thead>\n",
       "  <tbody>\n",
       "    <tr>\n",
       "      <th>0</th>\n",
       "      <td>Jai Bhim</td>\n",
       "      <td>2021</td>\n",
       "      <td>8.4</td>\n",
       "    </tr>\n",
       "    <tr>\n",
       "      <th>1</th>\n",
       "      <td>Anbe Sivam</td>\n",
       "      <td>2003</td>\n",
       "      <td>8.4</td>\n",
       "    </tr>\n",
       "    <tr>\n",
       "      <th>2</th>\n",
       "      <td>Golmaal</td>\n",
       "      <td>1979</td>\n",
       "      <td>8.4</td>\n",
       "    </tr>\n",
       "    <tr>\n",
       "      <th>3</th>\n",
       "      <td>Nayakan</td>\n",
       "      <td>1987</td>\n",
       "      <td>8.4</td>\n",
       "    </tr>\n",
       "    <tr>\n",
       "      <th>4</th>\n",
       "      <td>Pariyerum Perumal</td>\n",
       "      <td>2018</td>\n",
       "      <td>8.4</td>\n",
       "    </tr>\n",
       "    <tr>\n",
       "      <th>...</th>\n",
       "      <td>...</td>\n",
       "      <td>...</td>\n",
       "      <td>...</td>\n",
       "    </tr>\n",
       "    <tr>\n",
       "      <th>95</th>\n",
       "      <td>Masaan</td>\n",
       "      <td>2015</td>\n",
       "      <td>8.0</td>\n",
       "    </tr>\n",
       "    <tr>\n",
       "      <th>96</th>\n",
       "      <td>Kahaani</td>\n",
       "      <td>2012</td>\n",
       "      <td>8.0</td>\n",
       "    </tr>\n",
       "    <tr>\n",
       "      <th>97</th>\n",
       "      <td>Baahubali 2: The Conclusion</td>\n",
       "      <td>2017</td>\n",
       "      <td>8.0</td>\n",
       "    </tr>\n",
       "    <tr>\n",
       "      <th>98</th>\n",
       "      <td>Dil Chahta Hai</td>\n",
       "      <td>2001</td>\n",
       "      <td>8.0</td>\n",
       "    </tr>\n",
       "    <tr>\n",
       "      <th>99</th>\n",
       "      <td>Maheshinte Prathikaaram</td>\n",
       "      <td>2016</td>\n",
       "      <td>8.0</td>\n",
       "    </tr>\n",
       "  </tbody>\n",
       "</table>\n",
       "<p>100 rows × 3 columns</p>\n",
       "</div>"
      ],
      "text/plain": [
       "                     Movie Name Year of release IMDB Rating\n",
       "0                      Jai Bhim            2021         8.4\n",
       "1                    Anbe Sivam            2003         8.4\n",
       "2                       Golmaal            1979         8.4\n",
       "3                       Nayakan            1987         8.4\n",
       "4             Pariyerum Perumal            2018         8.4\n",
       "..                          ...             ...         ...\n",
       "95                       Masaan            2015         8.0\n",
       "96                      Kahaani            2012         8.0\n",
       "97  Baahubali 2: The Conclusion            2017         8.0\n",
       "98               Dil Chahta Hai            2001         8.0\n",
       "99      Maheshinte Prathikaaram            2016         8.0\n",
       "\n",
       "[100 rows x 3 columns]"
      ]
     },
     "execution_count": 36,
     "metadata": {},
     "output_type": "execute_result"
    }
   ],
   "source": [
    "df"
   ]
  },
  {
   "cell_type": "markdown",
   "metadata": {
    "id": "hAwbeBHD7EAI"
   },
   "source": [
    "#Q4. Display list of respected former presidents of India"
   ]
  },
  {
   "cell_type": "code",
   "execution_count": 37,
   "metadata": {
    "id": "jUAsulpH7rQL"
   },
   "outputs": [],
   "source": [
    "page4 = requests.get('https://presidentofindia.nic.in/former-presidents.htm')"
   ]
  },
  {
   "cell_type": "code",
   "execution_count": 38,
   "metadata": {
    "colab": {
     "base_uri": "https://localhost:8080/"
    },
    "id": "q8jnnp7OQYOM",
    "outputId": "4a495bce-5dec-48f4-a0d5-0717e078188d"
   },
   "outputs": [
    {
     "data": {
      "text/plain": [
       "<Response [200]>"
      ]
     },
     "execution_count": 38,
     "metadata": {},
     "output_type": "execute_result"
    }
   ],
   "source": [
    "page4 # can not scrap because response is [503]"
   ]
  },
  {
   "cell_type": "markdown",
   "metadata": {
    "id": "2SdslsuB7rjU"
   },
   "source": [
    "#Q5. Scrape Cricket rankings"
   ]
  },
  {
   "cell_type": "markdown",
   "metadata": {
    "id": "3HjZp9zI74jq"
   },
   "source": [
    "**a. Top 10 ODI Teams in men's cricket**"
   ]
  },
  {
   "cell_type": "code",
   "execution_count": 39,
   "metadata": {
    "id": "kS7qfFfJQ_Tt"
   },
   "outputs": [],
   "source": [
    "page5 = requests.get('https://www.icc-cricket.com/rankings/mens/team-rankings/odi')"
   ]
  },
  {
   "cell_type": "code",
   "execution_count": 40,
   "metadata": {
    "colab": {
     "base_uri": "https://localhost:8080/"
    },
    "id": "uYIkJcjXRGYi",
    "outputId": "983bf04b-4453-4691-931d-ad55bcda3d7b"
   },
   "outputs": [
    {
     "data": {
      "text/plain": [
       "<Response [200]>"
      ]
     },
     "execution_count": 40,
     "metadata": {},
     "output_type": "execute_result"
    }
   ],
   "source": [
    "page5"
   ]
  },
  {
   "cell_type": "code",
   "execution_count": 41,
   "metadata": {
    "id": "EFWWMs4YRT5N"
   },
   "outputs": [],
   "source": [
    "soup5 = BeautifulSoup(page5.content)\n",
    "#soup5"
   ]
  },
  {
   "cell_type": "code",
   "execution_count": 42,
   "metadata": {
    "id": "Qu35HJ6n8uRK"
   },
   "outputs": [],
   "source": [
    "#Extracting top 10 ODI teams\n",
    "topteam = []\n",
    "a = 0\n",
    "for i in soup5.find_all('span', class_ = \"u-hide-phablet\"):\n",
    "  topteam.append(i.text)\n",
    "  a = a + 1\n",
    "  if a >= 10:\n",
    "    break\n"
   ]
  },
  {
   "cell_type": "code",
   "execution_count": 43,
   "metadata": {
    "colab": {
     "base_uri": "https://localhost:8080/"
    },
    "id": "lPvBi10q3EzP",
    "outputId": "df9d1a42-bf31-4bc7-aae7-b02e5a008431"
   },
   "outputs": [
    {
     "data": {
      "text/plain": [
       "['New Zealand',\n",
       " 'England',\n",
       " 'Pakistan',\n",
       " 'India',\n",
       " 'Australia',\n",
       " 'South Africa',\n",
       " 'Bangladesh',\n",
       " 'Sri Lanka',\n",
       " 'West Indies',\n",
       " 'Afghanistan']"
      ]
     },
     "execution_count": 43,
     "metadata": {},
     "output_type": "execute_result"
    }
   ],
   "source": [
    "topteam"
   ]
  },
  {
   "cell_type": "code",
   "execution_count": 44,
   "metadata": {
    "id": "9yj1BzwL1yrz"
   },
   "outputs": [],
   "source": [
    "#Extracting top 10 ODI teams matches\n",
    "ttmatches = []\n",
    "a = 0\n",
    "for i in soup5.find_all('td', class_ = \"table-body__cell u-center-text\"):\n",
    "  if a %2 == 0:  \n",
    "    ttmatches.append(i.text)  #Extracting 2-10 rank ODI teams matches\n",
    "  a = a + 1\n",
    "  if a >= 18:\n",
    "    break\n",
    "\n",
    "ttmatchestop = soup5.find('td', class_= \"rankings-block__banner--matches\") #Extracting 1st rank ODI team matches"
   ]
  },
  {
   "cell_type": "code",
   "execution_count": 45,
   "metadata": {
    "id": "4Xbw11Nr5-sl"
   },
   "outputs": [],
   "source": [
    "ttmatches.insert(0,ttmatchestop.text)"
   ]
  },
  {
   "cell_type": "code",
   "execution_count": 46,
   "metadata": {
    "colab": {
     "base_uri": "https://localhost:8080/"
    },
    "id": "TCdbsvKb4x04",
    "outputId": "1335bf70-3fe6-438a-afd9-09cb37ae4518"
   },
   "outputs": [
    {
     "data": {
      "text/plain": [
       "['12', '22', '19', '22', '23', '19', '24', '29', '32', '18']"
      ]
     },
     "execution_count": 46,
     "metadata": {},
     "output_type": "execute_result"
    }
   ],
   "source": [
    "ttmatches"
   ]
  },
  {
   "cell_type": "code",
   "execution_count": 47,
   "metadata": {
    "id": "DzktqGM06bt7"
   },
   "outputs": [],
   "source": [
    "#Extracting top 10 ODI teams points\n",
    "ttpoints = []\n",
    "a = 0\n",
    "for i in soup5.find_all('td', class_ = \"table-body__cell u-center-text\"):\n",
    "  if a %2 != 0:  \n",
    "    ttpoints.append(i.text)  #Extracting 2-10 rank ODI teams points\n",
    "  a = a + 1\n",
    "  if a >= 18:\n",
    "    break\n",
    "\n",
    "ttpointstop = soup5.find('td', class_= \"rankings-block__banner--points\") #Extracting 1st rank ODI team points"
   ]
  },
  {
   "cell_type": "code",
   "execution_count": 48,
   "metadata": {
    "id": "S5jErJE67VEu"
   },
   "outputs": [],
   "source": [
    "ttpoints.insert(0,ttpointstop.text)"
   ]
  },
  {
   "cell_type": "code",
   "execution_count": 49,
   "metadata": {
    "colab": {
     "base_uri": "https://localhost:8080/"
    },
    "id": "Ai1GenT47VSp",
    "outputId": "f10e4bc3-8c00-4fda-d999-96e959c8d760"
   },
   "outputs": [
    {
     "data": {
      "text/plain": [
       "['1,505',\n",
       " '2,756',\n",
       " '2,005',\n",
       " '2,304',\n",
       " '2,325',\n",
       " '1,872',\n",
       " '2,275',\n",
       " '2,658',\n",
       " '2,306',\n",
       " '1,238']"
      ]
     },
     "execution_count": 49,
     "metadata": {},
     "output_type": "execute_result"
    }
   ],
   "source": [
    "ttpoints"
   ]
  },
  {
   "cell_type": "code",
   "execution_count": 50,
   "metadata": {
    "id": "n6yelIqz7pq8"
   },
   "outputs": [],
   "source": [
    "#Extracting top 10 ODI teams rating\n",
    "ttrating = []\n",
    "a = 0\n",
    "for i in soup5.find_all('td', class_ = \"table-body__cell u-text-right rating\"):  \n",
    "  ttrating.append(i.text)  #Extracting 2-10 rank ODI teams rating\n",
    "  a = a + 1\n",
    "  if a >= 9:\n",
    "    break\n",
    "\n",
    "ttratingtop = soup5.find('td', class_= \"rankings-block__banner--rating u-text-right\") #Extracting 1st rank ODI team rating"
   ]
  },
  {
   "cell_type": "code",
   "execution_count": 51,
   "metadata": {
    "id": "hqI2yPTIKMd0"
   },
   "outputs": [],
   "source": [
    "ttrating.insert(0,ttratingtop.text.split(\"\\n\")[1].strip())"
   ]
  },
  {
   "cell_type": "code",
   "execution_count": 52,
   "metadata": {
    "colab": {
     "base_uri": "https://localhost:8080/"
    },
    "id": "f9DGuIgcKMd1",
    "outputId": "8f8713e4-e65e-4b36-fdfa-9e53bed3d517"
   },
   "outputs": [
    {
     "data": {
      "text/plain": [
       "['125', '125', '106', '105', '101', '99', '95', '92', '72', '69']"
      ]
     },
     "execution_count": 52,
     "metadata": {},
     "output_type": "execute_result"
    }
   ],
   "source": [
    "ttrating"
   ]
  },
  {
   "cell_type": "code",
   "execution_count": 53,
   "metadata": {
    "id": "rJZSboCfJgZt"
   },
   "outputs": [],
   "source": [
    "data = {\n",
    "    'Top 10 ODI teams' : topteam,\n",
    "    'Matches' : ttmatches,\n",
    "    'Points' : ttpoints,\n",
    "    'Ratings' : ttrating \n",
    "}\n",
    "df = pd.DataFrame(data)"
   ]
  },
  {
   "cell_type": "code",
   "execution_count": 54,
   "metadata": {
    "colab": {
     "base_uri": "https://localhost:8080/",
     "height": 363
    },
    "id": "5Cia1nIdKiHB",
    "outputId": "a36626d9-8f21-4633-8d99-8dd0d7bb24c6"
   },
   "outputs": [
    {
     "data": {
      "text/html": [
       "<div>\n",
       "<style scoped>\n",
       "    .dataframe tbody tr th:only-of-type {\n",
       "        vertical-align: middle;\n",
       "    }\n",
       "\n",
       "    .dataframe tbody tr th {\n",
       "        vertical-align: top;\n",
       "    }\n",
       "\n",
       "    .dataframe thead th {\n",
       "        text-align: right;\n",
       "    }\n",
       "</style>\n",
       "<table border=\"1\" class=\"dataframe\">\n",
       "  <thead>\n",
       "    <tr style=\"text-align: right;\">\n",
       "      <th></th>\n",
       "      <th>Top 10 ODI teams</th>\n",
       "      <th>Matches</th>\n",
       "      <th>Points</th>\n",
       "      <th>Ratings</th>\n",
       "    </tr>\n",
       "  </thead>\n",
       "  <tbody>\n",
       "    <tr>\n",
       "      <th>0</th>\n",
       "      <td>New Zealand</td>\n",
       "      <td>12</td>\n",
       "      <td>1,505</td>\n",
       "      <td>125</td>\n",
       "    </tr>\n",
       "    <tr>\n",
       "      <th>1</th>\n",
       "      <td>England</td>\n",
       "      <td>22</td>\n",
       "      <td>2,756</td>\n",
       "      <td>125</td>\n",
       "    </tr>\n",
       "    <tr>\n",
       "      <th>2</th>\n",
       "      <td>Pakistan</td>\n",
       "      <td>19</td>\n",
       "      <td>2,005</td>\n",
       "      <td>106</td>\n",
       "    </tr>\n",
       "    <tr>\n",
       "      <th>3</th>\n",
       "      <td>India</td>\n",
       "      <td>22</td>\n",
       "      <td>2,304</td>\n",
       "      <td>105</td>\n",
       "    </tr>\n",
       "    <tr>\n",
       "      <th>4</th>\n",
       "      <td>Australia</td>\n",
       "      <td>23</td>\n",
       "      <td>2,325</td>\n",
       "      <td>101</td>\n",
       "    </tr>\n",
       "    <tr>\n",
       "      <th>5</th>\n",
       "      <td>South Africa</td>\n",
       "      <td>19</td>\n",
       "      <td>1,872</td>\n",
       "      <td>99</td>\n",
       "    </tr>\n",
       "    <tr>\n",
       "      <th>6</th>\n",
       "      <td>Bangladesh</td>\n",
       "      <td>24</td>\n",
       "      <td>2,275</td>\n",
       "      <td>95</td>\n",
       "    </tr>\n",
       "    <tr>\n",
       "      <th>7</th>\n",
       "      <td>Sri Lanka</td>\n",
       "      <td>29</td>\n",
       "      <td>2,658</td>\n",
       "      <td>92</td>\n",
       "    </tr>\n",
       "    <tr>\n",
       "      <th>8</th>\n",
       "      <td>West Indies</td>\n",
       "      <td>32</td>\n",
       "      <td>2,306</td>\n",
       "      <td>72</td>\n",
       "    </tr>\n",
       "    <tr>\n",
       "      <th>9</th>\n",
       "      <td>Afghanistan</td>\n",
       "      <td>18</td>\n",
       "      <td>1,238</td>\n",
       "      <td>69</td>\n",
       "    </tr>\n",
       "  </tbody>\n",
       "</table>\n",
       "</div>"
      ],
      "text/plain": [
       "  Top 10 ODI teams Matches Points Ratings\n",
       "0      New Zealand      12  1,505     125\n",
       "1          England      22  2,756     125\n",
       "2         Pakistan      19  2,005     106\n",
       "3            India      22  2,304     105\n",
       "4        Australia      23  2,325     101\n",
       "5     South Africa      19  1,872      99\n",
       "6       Bangladesh      24  2,275      95\n",
       "7        Sri Lanka      29  2,658      92\n",
       "8      West Indies      32  2,306      72\n",
       "9      Afghanistan      18  1,238      69"
      ]
     },
     "execution_count": 54,
     "metadata": {},
     "output_type": "execute_result"
    }
   ],
   "source": [
    "df"
   ]
  },
  {
   "cell_type": "markdown",
   "metadata": {
    "id": "u1-VVkOF8F1d"
   },
   "source": [
    "**b. Top 10 ODI Batsmen**"
   ]
  },
  {
   "cell_type": "code",
   "execution_count": 55,
   "metadata": {
    "id": "2_tDYCM18vBn"
   },
   "outputs": [],
   "source": [
    "page5 = requests.get('https://www.icc-cricket.com/rankings/mens/player-rankings/odi')"
   ]
  },
  {
   "cell_type": "code",
   "execution_count": 56,
   "metadata": {
    "colab": {
     "base_uri": "https://localhost:8080/"
    },
    "id": "atcQ6v39VKiv",
    "outputId": "a17fa678-7b60-4bca-c746-afb5ec8b3640"
   },
   "outputs": [
    {
     "data": {
      "text/plain": [
       "<Response [200]>"
      ]
     },
     "execution_count": 56,
     "metadata": {},
     "output_type": "execute_result"
    }
   ],
   "source": [
    "page5"
   ]
  },
  {
   "cell_type": "code",
   "execution_count": 57,
   "metadata": {
    "id": "pOgQ4PBPVLr3"
   },
   "outputs": [],
   "source": [
    "soup5 = BeautifulSoup(page5.content)\n",
    "#soup5"
   ]
  },
  {
   "cell_type": "code",
   "execution_count": 58,
   "metadata": {
    "id": "cfGtJu4AVTnj"
   },
   "outputs": [],
   "source": [
    "#Extracting top 10 ODI batsmen\n",
    "topbat = []\n",
    "b = 0\n",
    "for i in soup5.find_all('td', class_=\"table-body__cell name\"):\n",
    "  topbat.append(i.text.split('\\n')[1]) #2nd to 10th ranking batsmen\n",
    "  b = b + 1\n",
    "  if b >= 9:\n",
    "    break\n",
    "topbat1 = soup5.find('div',class_=\"rankings-block__banner--name\") #1st ranking batsman\n",
    "topbat.insert(0,topbat1.text) #inserting 1st batsman on top of list"
   ]
  },
  {
   "cell_type": "code",
   "execution_count": 59,
   "metadata": {
    "colab": {
     "base_uri": "https://localhost:8080/"
    },
    "id": "krP89bzFVdk-",
    "outputId": "66bc9702-d179-4433-88e8-d5b6eb4bbfda"
   },
   "outputs": [
    {
     "data": {
      "text/plain": [
       "['Babar Azam',\n",
       " 'Imam-ul-Haq',\n",
       " 'Virat Kohli',\n",
       " 'Rohit Sharma',\n",
       " 'Quinton de Kock',\n",
       " 'Ross Taylor',\n",
       " 'Rassie van der Dussen',\n",
       " 'Jonny Bairstow',\n",
       " 'David Warner',\n",
       " 'Shai Hope']"
      ]
     },
     "execution_count": 59,
     "metadata": {},
     "output_type": "execute_result"
    }
   ],
   "source": [
    "topbat"
   ]
  },
  {
   "cell_type": "code",
   "execution_count": 60,
   "metadata": {
    "id": "scIXh7ogAQ_e"
   },
   "outputs": [],
   "source": [
    "#Extracting top 10 ODI batsmen team\n",
    "topbatteam = []\n",
    "b = 0\n",
    "for i in soup5.find_all('span', class_=\"table-body__logo-text\"):\n",
    "  topbatteam.append(i.text) #2nd to 10th ranking batsmen team\n",
    "  b = b + 1\n",
    "  if b >= 9:\n",
    "    break\n",
    "topbatteam1 = soup5.find('div',class_=\"rankings-block__banner--nationality\") #1st ranking batsman team\n",
    "topbatteam.insert(0,topbatteam1.text.split(\"\\n\")[2].strip()) #inserting 1st batsman team on top of list"
   ]
  },
  {
   "cell_type": "code",
   "execution_count": 61,
   "metadata": {
    "colab": {
     "base_uri": "https://localhost:8080/"
    },
    "id": "5rU4fux1Bbme",
    "outputId": "f20cbb28-74d6-4be8-e019-d5fd7ae8c15e"
   },
   "outputs": [
    {
     "data": {
      "text/plain": [
       "['PAK', 'PAK', 'IND', 'IND', 'SA', 'NZ', 'SA', 'ENG', 'AUS', 'WI']"
      ]
     },
     "execution_count": 61,
     "metadata": {},
     "output_type": "execute_result"
    }
   ],
   "source": [
    "topbatteam"
   ]
  },
  {
   "cell_type": "code",
   "execution_count": 62,
   "metadata": {
    "id": "FR4a40hFDFBN"
   },
   "outputs": [],
   "source": [
    "#Extracting top 10 ODI batsmen rating\n",
    "topbatrating = []\n",
    "b = 0\n",
    "for i in soup5.find_all('td', class_=\"table-body__cell u-text-right rating\"):\n",
    "  topbatrating.append(i.text) #2nd to 10th ranking batsmen rating\n",
    "  b = b + 1\n",
    "  if b >= 9:\n",
    "    break\n",
    "topbatrating1 = soup5.find('div',class_=\"rankings-block__banner--rating\") #1st ranking batsman rating\n",
    "topbatrating.insert(0,topbatrating1.text) #inserting 1st batsman rating on top of list"
   ]
  },
  {
   "cell_type": "code",
   "execution_count": 63,
   "metadata": {
    "colab": {
     "base_uri": "https://localhost:8080/"
    },
    "id": "3Inu4r-kDFRG",
    "outputId": "65782ed8-3c4c-4014-d4f7-5c8b0635a4d7"
   },
   "outputs": [
    {
     "data": {
      "text/plain": [
       "['892', '815', '811', '791', '789', '775', '769', '752', '737', '718']"
      ]
     },
     "execution_count": 63,
     "metadata": {},
     "output_type": "execute_result"
    }
   ],
   "source": [
    "topbatrating"
   ]
  },
  {
   "cell_type": "code",
   "execution_count": 64,
   "metadata": {
    "id": "ATupjukNK2ix"
   },
   "outputs": [],
   "source": [
    "data = {\n",
    "    'Top 10 ODI batsmen' : topbat,\n",
    "    'Teams' : topbatteam,\n",
    "    'Ratings' : topbatrating \n",
    "}\n",
    "df = pd.DataFrame(data)"
   ]
  },
  {
   "cell_type": "code",
   "execution_count": 65,
   "metadata": {
    "colab": {
     "base_uri": "https://localhost:8080/",
     "height": 363
    },
    "id": "TtwJp6-XLG6u",
    "outputId": "e23c8f8b-7769-4eb8-dd68-00e46f0748d5"
   },
   "outputs": [
    {
     "data": {
      "text/html": [
       "<div>\n",
       "<style scoped>\n",
       "    .dataframe tbody tr th:only-of-type {\n",
       "        vertical-align: middle;\n",
       "    }\n",
       "\n",
       "    .dataframe tbody tr th {\n",
       "        vertical-align: top;\n",
       "    }\n",
       "\n",
       "    .dataframe thead th {\n",
       "        text-align: right;\n",
       "    }\n",
       "</style>\n",
       "<table border=\"1\" class=\"dataframe\">\n",
       "  <thead>\n",
       "    <tr style=\"text-align: right;\">\n",
       "      <th></th>\n",
       "      <th>Top 10 ODI batsmen</th>\n",
       "      <th>Teams</th>\n",
       "      <th>Ratings</th>\n",
       "    </tr>\n",
       "  </thead>\n",
       "  <tbody>\n",
       "    <tr>\n",
       "      <th>0</th>\n",
       "      <td>Babar Azam</td>\n",
       "      <td>PAK</td>\n",
       "      <td>892</td>\n",
       "    </tr>\n",
       "    <tr>\n",
       "      <th>1</th>\n",
       "      <td>Imam-ul-Haq</td>\n",
       "      <td>PAK</td>\n",
       "      <td>815</td>\n",
       "    </tr>\n",
       "    <tr>\n",
       "      <th>2</th>\n",
       "      <td>Virat Kohli</td>\n",
       "      <td>IND</td>\n",
       "      <td>811</td>\n",
       "    </tr>\n",
       "    <tr>\n",
       "      <th>3</th>\n",
       "      <td>Rohit Sharma</td>\n",
       "      <td>IND</td>\n",
       "      <td>791</td>\n",
       "    </tr>\n",
       "    <tr>\n",
       "      <th>4</th>\n",
       "      <td>Quinton de Kock</td>\n",
       "      <td>SA</td>\n",
       "      <td>789</td>\n",
       "    </tr>\n",
       "    <tr>\n",
       "      <th>5</th>\n",
       "      <td>Ross Taylor</td>\n",
       "      <td>NZ</td>\n",
       "      <td>775</td>\n",
       "    </tr>\n",
       "    <tr>\n",
       "      <th>6</th>\n",
       "      <td>Rassie van der Dussen</td>\n",
       "      <td>SA</td>\n",
       "      <td>769</td>\n",
       "    </tr>\n",
       "    <tr>\n",
       "      <th>7</th>\n",
       "      <td>Jonny Bairstow</td>\n",
       "      <td>ENG</td>\n",
       "      <td>752</td>\n",
       "    </tr>\n",
       "    <tr>\n",
       "      <th>8</th>\n",
       "      <td>David Warner</td>\n",
       "      <td>AUS</td>\n",
       "      <td>737</td>\n",
       "    </tr>\n",
       "    <tr>\n",
       "      <th>9</th>\n",
       "      <td>Shai Hope</td>\n",
       "      <td>WI</td>\n",
       "      <td>718</td>\n",
       "    </tr>\n",
       "  </tbody>\n",
       "</table>\n",
       "</div>"
      ],
      "text/plain": [
       "      Top 10 ODI batsmen Teams Ratings\n",
       "0             Babar Azam   PAK     892\n",
       "1            Imam-ul-Haq   PAK     815\n",
       "2            Virat Kohli   IND     811\n",
       "3           Rohit Sharma   IND     791\n",
       "4        Quinton de Kock    SA     789\n",
       "5            Ross Taylor    NZ     775\n",
       "6  Rassie van der Dussen    SA     769\n",
       "7         Jonny Bairstow   ENG     752\n",
       "8           David Warner   AUS     737\n",
       "9              Shai Hope    WI     718"
      ]
     },
     "execution_count": 65,
     "metadata": {},
     "output_type": "execute_result"
    }
   ],
   "source": [
    "df"
   ]
  },
  {
   "cell_type": "markdown",
   "metadata": {
    "id": "ebIp4-zq8Pn9"
   },
   "source": [
    "**c. Top 10 ODI Bowlers**"
   ]
  },
  {
   "cell_type": "code",
   "execution_count": 66,
   "metadata": {
    "id": "_5TWiPs68vvh"
   },
   "outputs": [],
   "source": [
    "page5 = requests.get('https://www.icc-cricket.com/rankings/mens/player-rankings/odi')"
   ]
  },
  {
   "cell_type": "code",
   "execution_count": 67,
   "metadata": {
    "colab": {
     "base_uri": "https://localhost:8080/"
    },
    "id": "9z_1-n1mYp9w",
    "outputId": "187a6da3-eee3-46ed-9141-9c98a1f27c4c"
   },
   "outputs": [
    {
     "data": {
      "text/plain": [
       "<Response [200]>"
      ]
     },
     "execution_count": 67,
     "metadata": {},
     "output_type": "execute_result"
    }
   ],
   "source": [
    "page5"
   ]
  },
  {
   "cell_type": "code",
   "execution_count": 68,
   "metadata": {
    "id": "p2HiET5WYtcB"
   },
   "outputs": [],
   "source": [
    "soup5 = BeautifulSoup(page5.content)\n",
    "#soup5"
   ]
  },
  {
   "cell_type": "code",
   "execution_count": 69,
   "metadata": {
    "id": "O-8FuLnzY0ZE"
   },
   "outputs": [],
   "source": [
    "#Extracting top 10 ODI bowlers\n",
    "topbowler = []\n",
    "topplayer = []\n",
    "c = 0\n",
    "for i in soup5.find_all('td', class_=\"table-body__cell name\"):\n",
    "  topplayer.append(i.text.split('\\n')[1])\n",
    "for c in range(9,18):\n",
    "   topbowler.append(topplayer[c])#2nd to 10th ranking bowlers "
   ]
  },
  {
   "cell_type": "code",
   "execution_count": 70,
   "metadata": {
    "id": "7fJ59kSMdU-5"
   },
   "outputs": [],
   "source": [
    "topplayer1 = []\n",
    "for j in soup5.find_all('div',class_=\"rankings-block__banner--name\"):\n",
    "  topplayer1.append(j.text)\n",
    "topbowler1 = topplayer1[1]"
   ]
  },
  {
   "cell_type": "code",
   "execution_count": 71,
   "metadata": {
    "id": "SHZPiq-ReQIl"
   },
   "outputs": [],
   "source": [
    "topbowler.insert(0,topbowler1) #Inserting 1st rank bowler infront of list"
   ]
  },
  {
   "cell_type": "code",
   "execution_count": 72,
   "metadata": {
    "colab": {
     "base_uri": "https://localhost:8080/"
    },
    "id": "xEPgr3R6ZnDm",
    "outputId": "ec86986c-9f48-4718-e97b-1407f3de783b"
   },
   "outputs": [
    {
     "data": {
      "text/plain": [
       "['Trent Boult',\n",
       " 'Matt Henry',\n",
       " 'Shaheen Afridi',\n",
       " 'Chris Woakes',\n",
       " 'Jasprit Bumrah',\n",
       " 'Josh Hazlewood',\n",
       " 'Mujeeb Ur Rahman',\n",
       " 'Mehedi Hasan',\n",
       " 'Mohammad Nabi',\n",
       " 'Shakib Al Hasan']"
      ]
     },
     "execution_count": 72,
     "metadata": {},
     "output_type": "execute_result"
    }
   ],
   "source": [
    "topbowler"
   ]
  },
  {
   "cell_type": "code",
   "execution_count": 73,
   "metadata": {
    "id": "H7cystLMFZtp"
   },
   "outputs": [],
   "source": [
    "#Extracting top 10 ODI bowlers teams\n",
    "topbowlerteam = []\n",
    "topplayerteam = []\n",
    "c = 0\n",
    "for i in soup5.find_all('span', class_=\"table-body__logo-text\"):\n",
    "  topplayerteam.append(i.text)\n",
    "for c in range(9,18):\n",
    "   topbowlerteam.append(topplayerteam[c])#2nd to 10th ranking bowlers team"
   ]
  },
  {
   "cell_type": "code",
   "execution_count": 74,
   "metadata": {
    "id": "FMBOTCioFZ_X"
   },
   "outputs": [],
   "source": [
    "topplayerteam1 = []\n",
    "for j in soup5.find_all('div',class_=\"rankings-block__banner--nationality\"):\n",
    "  topplayerteam1.append(j.text)\n",
    "topbowlerteam1 = topplayerteam1[1]"
   ]
  },
  {
   "cell_type": "code",
   "execution_count": 75,
   "metadata": {
    "id": "tGAzUELQFaQU"
   },
   "outputs": [],
   "source": [
    "topbowlerteam.insert(0,topbowlerteam1.split(\"\\n\")[2].strip()) #Inserting 1st rank bowler team infront of list"
   ]
  },
  {
   "cell_type": "code",
   "execution_count": 76,
   "metadata": {
    "colab": {
     "base_uri": "https://localhost:8080/"
    },
    "id": "Ps5ToxC9F5u8",
    "outputId": "8772cb01-33f6-4bbc-e905-0991a535a8c4"
   },
   "outputs": [
    {
     "data": {
      "text/plain": [
       "['NZ', 'NZ', 'PAK', 'ENG', 'IND', 'AUS', 'AFG', 'BAN', 'AFG', 'BAN']"
      ]
     },
     "execution_count": 76,
     "metadata": {},
     "output_type": "execute_result"
    }
   ],
   "source": [
    "topbowlerteam"
   ]
  },
  {
   "cell_type": "code",
   "execution_count": 77,
   "metadata": {
    "id": "fsueathzIZq3"
   },
   "outputs": [],
   "source": [
    "#Extracting top 10 ODI bowlers ratings\n",
    "topbowlerrat = []\n",
    "topplayerrat = []\n",
    "c = 0\n",
    "for i in soup5.find_all('td', class_=\"table-body__cell u-text-right rating\"):\n",
    "  topplayerrat.append(i.text)\n",
    "for c in range(9,18):\n",
    "   topbowlerrat.append(topplayerrat[c])#2nd to 10th ranking bowlers rating"
   ]
  },
  {
   "cell_type": "code",
   "execution_count": 78,
   "metadata": {
    "id": "QVea0oH6IZ1D"
   },
   "outputs": [],
   "source": [
    "topplayerrat1 = []\n",
    "for j in soup5.find_all('div',class_=\"rankings-block__banner--rating\"):\n",
    "  topplayerrat1.append(j.text)\n",
    "topbowlerrat1 = topplayerrat1[1]"
   ]
  },
  {
   "cell_type": "code",
   "execution_count": 79,
   "metadata": {
    "id": "hLp-hNtEIZ8h"
   },
   "outputs": [],
   "source": [
    "topbowlerrat.insert(0,topbowlerrat1) #Inserting 1st rank bowler rating infront of list"
   ]
  },
  {
   "cell_type": "code",
   "execution_count": 80,
   "metadata": {
    "colab": {
     "base_uri": "https://localhost:8080/"
    },
    "id": "qxZcN_J0IZ_G",
    "outputId": "87f0bb61-8307-42df-ca43-3573e9bcccbb"
   },
   "outputs": [
    {
     "data": {
      "text/plain": [
       "['726', '683', '681', '680', '679', '679', '676', '661', '657', '657']"
      ]
     },
     "execution_count": 80,
     "metadata": {},
     "output_type": "execute_result"
    }
   ],
   "source": [
    "topbowlerrat"
   ]
  },
  {
   "cell_type": "code",
   "execution_count": 81,
   "metadata": {
    "id": "YfSZbGsrLTTr"
   },
   "outputs": [],
   "source": [
    "data = {\n",
    "    'Top 10 ODI bowlers' : topbowler,\n",
    "    'Teams' : topbowlerteam,\n",
    "    'Ratings' : topbowlerrat \n",
    "}\n",
    "df = pd.DataFrame(data)"
   ]
  },
  {
   "cell_type": "code",
   "execution_count": 82,
   "metadata": {
    "colab": {
     "base_uri": "https://localhost:8080/",
     "height": 363
    },
    "id": "Okh2LeF8LTYJ",
    "outputId": "cdbfe9fd-b319-4b1f-d895-bfc4411be1d1"
   },
   "outputs": [
    {
     "data": {
      "text/html": [
       "<div>\n",
       "<style scoped>\n",
       "    .dataframe tbody tr th:only-of-type {\n",
       "        vertical-align: middle;\n",
       "    }\n",
       "\n",
       "    .dataframe tbody tr th {\n",
       "        vertical-align: top;\n",
       "    }\n",
       "\n",
       "    .dataframe thead th {\n",
       "        text-align: right;\n",
       "    }\n",
       "</style>\n",
       "<table border=\"1\" class=\"dataframe\">\n",
       "  <thead>\n",
       "    <tr style=\"text-align: right;\">\n",
       "      <th></th>\n",
       "      <th>Top 10 ODI bowlers</th>\n",
       "      <th>Teams</th>\n",
       "      <th>Ratings</th>\n",
       "    </tr>\n",
       "  </thead>\n",
       "  <tbody>\n",
       "    <tr>\n",
       "      <th>0</th>\n",
       "      <td>Trent Boult</td>\n",
       "      <td>NZ</td>\n",
       "      <td>726</td>\n",
       "    </tr>\n",
       "    <tr>\n",
       "      <th>1</th>\n",
       "      <td>Matt Henry</td>\n",
       "      <td>NZ</td>\n",
       "      <td>683</td>\n",
       "    </tr>\n",
       "    <tr>\n",
       "      <th>2</th>\n",
       "      <td>Shaheen Afridi</td>\n",
       "      <td>PAK</td>\n",
       "      <td>681</td>\n",
       "    </tr>\n",
       "    <tr>\n",
       "      <th>3</th>\n",
       "      <td>Chris Woakes</td>\n",
       "      <td>ENG</td>\n",
       "      <td>680</td>\n",
       "    </tr>\n",
       "    <tr>\n",
       "      <th>4</th>\n",
       "      <td>Jasprit Bumrah</td>\n",
       "      <td>IND</td>\n",
       "      <td>679</td>\n",
       "    </tr>\n",
       "    <tr>\n",
       "      <th>5</th>\n",
       "      <td>Josh Hazlewood</td>\n",
       "      <td>AUS</td>\n",
       "      <td>679</td>\n",
       "    </tr>\n",
       "    <tr>\n",
       "      <th>6</th>\n",
       "      <td>Mujeeb Ur Rahman</td>\n",
       "      <td>AFG</td>\n",
       "      <td>676</td>\n",
       "    </tr>\n",
       "    <tr>\n",
       "      <th>7</th>\n",
       "      <td>Mehedi Hasan</td>\n",
       "      <td>BAN</td>\n",
       "      <td>661</td>\n",
       "    </tr>\n",
       "    <tr>\n",
       "      <th>8</th>\n",
       "      <td>Mohammad Nabi</td>\n",
       "      <td>AFG</td>\n",
       "      <td>657</td>\n",
       "    </tr>\n",
       "    <tr>\n",
       "      <th>9</th>\n",
       "      <td>Shakib Al Hasan</td>\n",
       "      <td>BAN</td>\n",
       "      <td>657</td>\n",
       "    </tr>\n",
       "  </tbody>\n",
       "</table>\n",
       "</div>"
      ],
      "text/plain": [
       "  Top 10 ODI bowlers Teams Ratings\n",
       "0        Trent Boult    NZ     726\n",
       "1         Matt Henry    NZ     683\n",
       "2     Shaheen Afridi   PAK     681\n",
       "3       Chris Woakes   ENG     680\n",
       "4     Jasprit Bumrah   IND     679\n",
       "5     Josh Hazlewood   AUS     679\n",
       "6   Mujeeb Ur Rahman   AFG     676\n",
       "7       Mehedi Hasan   BAN     661\n",
       "8      Mohammad Nabi   AFG     657\n",
       "9    Shakib Al Hasan   BAN     657"
      ]
     },
     "execution_count": 82,
     "metadata": {},
     "output_type": "execute_result"
    }
   ],
   "source": [
    "df"
   ]
  },
  {
   "cell_type": "markdown",
   "metadata": {
    "id": "sOPpVYXB9xTU"
   },
   "source": [
    "#Q6. Scrape Cricket rankings"
   ]
  },
  {
   "cell_type": "markdown",
   "metadata": {
    "id": "SCPEXfMj9xTV"
   },
   "source": [
    "**a. Top 10 ODI Teams in women's cricket**"
   ]
  },
  {
   "cell_type": "code",
   "execution_count": 83,
   "metadata": {
    "id": "lDYcwXdQ9xTV"
   },
   "outputs": [],
   "source": [
    "page6 = requests.get('https://www.icc-cricket.com/rankings/womens/team-rankings/odi')"
   ]
  },
  {
   "cell_type": "code",
   "execution_count": 84,
   "metadata": {
    "colab": {
     "base_uri": "https://localhost:8080/"
    },
    "id": "_xQEXX5UgAxI",
    "outputId": "64dffb11-1a3d-4588-9695-d9ef80a4c590"
   },
   "outputs": [
    {
     "data": {
      "text/plain": [
       "<Response [200]>"
      ]
     },
     "execution_count": 84,
     "metadata": {},
     "output_type": "execute_result"
    }
   ],
   "source": [
    "page6"
   ]
  },
  {
   "cell_type": "code",
   "execution_count": 85,
   "metadata": {
    "id": "f6qjik9cgCUQ"
   },
   "outputs": [],
   "source": [
    "soup6 = BeautifulSoup(page6.content)\n",
    "#soup6"
   ]
  },
  {
   "cell_type": "code",
   "execution_count": 86,
   "metadata": {
    "id": "deniCx-L_ZOH"
   },
   "outputs": [],
   "source": [
    "#Extracting top 10 ODI teams\n",
    "topteam = []\n",
    "a = 0\n",
    "for i in soup6.find_all('span', class_ = \"u-hide-phablet\"):\n",
    "  topteam.append(i.text)\n",
    "  a = a + 1\n",
    "  if a >= 10:\n",
    "    break\n"
   ]
  },
  {
   "cell_type": "code",
   "execution_count": 87,
   "metadata": {
    "colab": {
     "base_uri": "https://localhost:8080/"
    },
    "id": "6ELaR_oE_ZOI",
    "outputId": "5cf139cf-81d2-4eb0-b7fe-cecaf14c5b64"
   },
   "outputs": [
    {
     "data": {
      "text/plain": [
       "['Australia',\n",
       " 'South Africa',\n",
       " 'England',\n",
       " 'India',\n",
       " 'New Zealand',\n",
       " 'West Indies',\n",
       " 'Bangladesh',\n",
       " 'Pakistan',\n",
       " 'Sri Lanka',\n",
       " 'Ireland']"
      ]
     },
     "execution_count": 87,
     "metadata": {},
     "output_type": "execute_result"
    }
   ],
   "source": [
    "topteam"
   ]
  },
  {
   "cell_type": "code",
   "execution_count": 88,
   "metadata": {
    "id": "jo1WrqSa_ZOI"
   },
   "outputs": [],
   "source": [
    "#Extracting top 10 ODI teams matches\n",
    "ttmatches = []\n",
    "a = 0\n",
    "for i in soup6.find_all('td', class_ = \"table-body__cell u-center-text\"):\n",
    "  if a %2 == 0:  \n",
    "    ttmatches.append(i.text)  #Extracting 2-10 rank ODI teams matches\n",
    "  a = a + 1\n",
    "  if a >= 18:\n",
    "    break\n",
    "\n",
    "ttmatchestop = soup6.find('td', class_= \"rankings-block__banner--matches\") #Extracting 1st rank ODI team matches"
   ]
  },
  {
   "cell_type": "code",
   "execution_count": 89,
   "metadata": {
    "id": "ljqwUO4P_ZOI"
   },
   "outputs": [],
   "source": [
    "ttmatches.insert(0,ttmatchestop.text)"
   ]
  },
  {
   "cell_type": "code",
   "execution_count": 90,
   "metadata": {
    "colab": {
     "base_uri": "https://localhost:8080/"
    },
    "id": "2rrSs2qs_ZOJ",
    "outputId": "8430f18e-9314-44df-b7ad-3555a7e18a61"
   },
   "outputs": [
    {
     "data": {
      "text/plain": [
       "['29', '32', '30', '29', '31', '30', '12', '30', '8', '8']"
      ]
     },
     "execution_count": 90,
     "metadata": {},
     "output_type": "execute_result"
    }
   ],
   "source": [
    "ttmatches"
   ]
  },
  {
   "cell_type": "code",
   "execution_count": 91,
   "metadata": {
    "id": "xp23Jms7_ZOJ"
   },
   "outputs": [],
   "source": [
    "#Extracting top 10 ODI teams points\n",
    "ttpoints = []\n",
    "a = 0\n",
    "for i in soup6.find_all('td', class_ = \"table-body__cell u-center-text\"):\n",
    "  if a %2 != 0:  \n",
    "    ttpoints.append(i.text)  #Extracting 2-10 rank ODI teams points\n",
    "  a = a + 1\n",
    "  if a >= 18:\n",
    "    break\n",
    "\n",
    "ttpointstop = soup6.find('td', class_= \"rankings-block__banner--points\") #Extracting 1st rank ODI team points"
   ]
  },
  {
   "cell_type": "code",
   "execution_count": 92,
   "metadata": {
    "id": "Lw4sarLM_ZOJ"
   },
   "outputs": [],
   "source": [
    "ttpoints.insert(0,ttpointstop.text)"
   ]
  },
  {
   "cell_type": "code",
   "execution_count": 93,
   "metadata": {
    "colab": {
     "base_uri": "https://localhost:8080/"
    },
    "id": "aFAGQhiX_ZOK",
    "outputId": "e0065866-4776-40a8-ff51-29268e1eb9ce"
   },
   "outputs": [
    {
     "data": {
      "text/plain": [
       "['4,837',\n",
       " '3,949',\n",
       " '3,531',\n",
       " '2,889',\n",
       " '3,019',\n",
       " '2,768',\n",
       " '930',\n",
       " '1,962',\n",
       " '384',\n",
       " '351']"
      ]
     },
     "execution_count": 93,
     "metadata": {},
     "output_type": "execute_result"
    }
   ],
   "source": [
    "ttpoints"
   ]
  },
  {
   "cell_type": "code",
   "execution_count": 94,
   "metadata": {
    "id": "GsKQtBSQ_ZOK"
   },
   "outputs": [],
   "source": [
    "#Extracting top 10 ODI teams rating\n",
    "ttrating = []\n",
    "a = 0\n",
    "for i in soup6.find_all('td', class_ = \"table-body__cell u-text-right rating\"):  \n",
    "  ttrating.append(i.text)  #Extracting 2-10 rank ODI teams rating\n",
    "  a = a + 1\n",
    "  if a >= 9:\n",
    "    break\n",
    "\n",
    "ttratingtop = soup6.find('td', class_= \"rankings-block__banner--rating u-text-right\") #Extracting 1st rank ODI team rating"
   ]
  },
  {
   "cell_type": "code",
   "execution_count": 95,
   "metadata": {
    "id": "nv1FQCpC71vW"
   },
   "outputs": [],
   "source": [
    "ttrating.insert(0,ttratingtop.text.split(\"\\n\")[1].strip())"
   ]
  },
  {
   "cell_type": "code",
   "execution_count": 96,
   "metadata": {
    "colab": {
     "base_uri": "https://localhost:8080/"
    },
    "id": "i4VWWkY471yn",
    "outputId": "d3f9e57f-94ac-4127-e404-226fbcb4482b"
   },
   "outputs": [
    {
     "data": {
      "text/plain": [
       "['167', '123', '118', '100', '97', '92', '78', '65', '48', '44']"
      ]
     },
     "execution_count": 96,
     "metadata": {},
     "output_type": "execute_result"
    }
   ],
   "source": [
    "ttrating"
   ]
  },
  {
   "cell_type": "code",
   "execution_count": 97,
   "metadata": {
    "id": "hp7Cv8bULnjO"
   },
   "outputs": [],
   "source": [
    "data = {\n",
    "    'Top 10 ODI teams' : topteam,\n",
    "    'Matches' : ttmatches,\n",
    "    'Points' : ttpoints,\n",
    "    'Ratings' : ttrating\n",
    "}\n",
    "df = pd.DataFrame(data)"
   ]
  },
  {
   "cell_type": "code",
   "execution_count": 98,
   "metadata": {
    "colab": {
     "base_uri": "https://localhost:8080/",
     "height": 363
    },
    "id": "1x5scNpcMC8f",
    "outputId": "43b20dc5-b008-4683-fd72-2206d7201c1e"
   },
   "outputs": [
    {
     "data": {
      "text/html": [
       "<div>\n",
       "<style scoped>\n",
       "    .dataframe tbody tr th:only-of-type {\n",
       "        vertical-align: middle;\n",
       "    }\n",
       "\n",
       "    .dataframe tbody tr th {\n",
       "        vertical-align: top;\n",
       "    }\n",
       "\n",
       "    .dataframe thead th {\n",
       "        text-align: right;\n",
       "    }\n",
       "</style>\n",
       "<table border=\"1\" class=\"dataframe\">\n",
       "  <thead>\n",
       "    <tr style=\"text-align: right;\">\n",
       "      <th></th>\n",
       "      <th>Top 10 ODI teams</th>\n",
       "      <th>Matches</th>\n",
       "      <th>Points</th>\n",
       "      <th>Ratings</th>\n",
       "    </tr>\n",
       "  </thead>\n",
       "  <tbody>\n",
       "    <tr>\n",
       "      <th>0</th>\n",
       "      <td>Australia</td>\n",
       "      <td>29</td>\n",
       "      <td>4,837</td>\n",
       "      <td>167</td>\n",
       "    </tr>\n",
       "    <tr>\n",
       "      <th>1</th>\n",
       "      <td>South Africa</td>\n",
       "      <td>32</td>\n",
       "      <td>3,949</td>\n",
       "      <td>123</td>\n",
       "    </tr>\n",
       "    <tr>\n",
       "      <th>2</th>\n",
       "      <td>England</td>\n",
       "      <td>30</td>\n",
       "      <td>3,531</td>\n",
       "      <td>118</td>\n",
       "    </tr>\n",
       "    <tr>\n",
       "      <th>3</th>\n",
       "      <td>India</td>\n",
       "      <td>29</td>\n",
       "      <td>2,889</td>\n",
       "      <td>100</td>\n",
       "    </tr>\n",
       "    <tr>\n",
       "      <th>4</th>\n",
       "      <td>New Zealand</td>\n",
       "      <td>31</td>\n",
       "      <td>3,019</td>\n",
       "      <td>97</td>\n",
       "    </tr>\n",
       "    <tr>\n",
       "      <th>5</th>\n",
       "      <td>West Indies</td>\n",
       "      <td>30</td>\n",
       "      <td>2,768</td>\n",
       "      <td>92</td>\n",
       "    </tr>\n",
       "    <tr>\n",
       "      <th>6</th>\n",
       "      <td>Bangladesh</td>\n",
       "      <td>12</td>\n",
       "      <td>930</td>\n",
       "      <td>78</td>\n",
       "    </tr>\n",
       "    <tr>\n",
       "      <th>7</th>\n",
       "      <td>Pakistan</td>\n",
       "      <td>30</td>\n",
       "      <td>1,962</td>\n",
       "      <td>65</td>\n",
       "    </tr>\n",
       "    <tr>\n",
       "      <th>8</th>\n",
       "      <td>Sri Lanka</td>\n",
       "      <td>8</td>\n",
       "      <td>384</td>\n",
       "      <td>48</td>\n",
       "    </tr>\n",
       "    <tr>\n",
       "      <th>9</th>\n",
       "      <td>Ireland</td>\n",
       "      <td>8</td>\n",
       "      <td>351</td>\n",
       "      <td>44</td>\n",
       "    </tr>\n",
       "  </tbody>\n",
       "</table>\n",
       "</div>"
      ],
      "text/plain": [
       "  Top 10 ODI teams Matches Points Ratings\n",
       "0        Australia      29  4,837     167\n",
       "1     South Africa      32  3,949     123\n",
       "2          England      30  3,531     118\n",
       "3            India      29  2,889     100\n",
       "4      New Zealand      31  3,019      97\n",
       "5      West Indies      30  2,768      92\n",
       "6       Bangladesh      12    930      78\n",
       "7         Pakistan      30  1,962      65\n",
       "8        Sri Lanka       8    384      48\n",
       "9          Ireland       8    351      44"
      ]
     },
     "execution_count": 98,
     "metadata": {},
     "output_type": "execute_result"
    }
   ],
   "source": [
    "df"
   ]
  },
  {
   "cell_type": "markdown",
   "metadata": {
    "id": "R5wiHrVG9xTV"
   },
   "source": [
    "**b. Top 10 women's ODI Batting**"
   ]
  },
  {
   "cell_type": "code",
   "execution_count": 99,
   "metadata": {
    "id": "wptZ0QQ-9xTW"
   },
   "outputs": [],
   "source": [
    "page6 = requests.get('https://www.icc-cricket.com/rankings/womens/player-rankings/odi')"
   ]
  },
  {
   "cell_type": "code",
   "execution_count": 100,
   "metadata": {
    "colab": {
     "base_uri": "https://localhost:8080/"
    },
    "id": "l7AxnELXhPn7",
    "outputId": "4d0cee43-bfff-41aa-aa93-542e511cfefe"
   },
   "outputs": [
    {
     "data": {
      "text/plain": [
       "<Response [200]>"
      ]
     },
     "execution_count": 100,
     "metadata": {},
     "output_type": "execute_result"
    }
   ],
   "source": [
    "page6"
   ]
  },
  {
   "cell_type": "code",
   "execution_count": 101,
   "metadata": {
    "id": "kaxZiEEwhQFT"
   },
   "outputs": [],
   "source": [
    "soup6 = BeautifulSoup(page6.content)\n",
    "#soup6"
   ]
  },
  {
   "cell_type": "code",
   "execution_count": 102,
   "metadata": {
    "id": "b5S5wq9sir5Z"
   },
   "outputs": [],
   "source": [
    "#Extracting top 10 ODI batswomen\n",
    "topbat = []\n",
    "b = 0\n",
    "for i in soup6.find_all('td', class_=\"table-body__cell name\"):\n",
    "  topbat.append(i.text.split('\\n')[1]) #2nd to 10th ranking batswomen\n",
    "  b = b + 1\n",
    "  if b >= 9:\n",
    "    break\n",
    "topbat1 = soup6.find('div',class_=\"rankings-block__banner--name\") #1st ranking batswoman\n",
    "topbat.insert(0,topbat1.text) #inserting 1st batswoman on top of list"
   ]
  },
  {
   "cell_type": "code",
   "execution_count": 103,
   "metadata": {
    "colab": {
     "base_uri": "https://localhost:8080/"
    },
    "id": "3vxz7qqtjIXK",
    "outputId": "6b4ba87e-4e97-45da-805a-f5e149cc8a34"
   },
   "outputs": [
    {
     "data": {
      "text/plain": [
       "['Alyssa Healy',\n",
       " 'Natalie Sciver',\n",
       " 'Beth Mooney',\n",
       " 'Laura Wolvaardt',\n",
       " 'Meg Lanning',\n",
       " 'Rachael Haynes',\n",
       " 'Amy Satterthwaite',\n",
       " 'Smriti Mandhana',\n",
       " 'Tammy Beaumont',\n",
       " 'Ellyse Perry']"
      ]
     },
     "execution_count": 103,
     "metadata": {},
     "output_type": "execute_result"
    }
   ],
   "source": [
    "topbat"
   ]
  },
  {
   "cell_type": "code",
   "execution_count": 104,
   "metadata": {
    "id": "x34ZP48bMdE4"
   },
   "outputs": [],
   "source": [
    "#Extracting top 10 ODI batswomen teams\n",
    "topbatteam = []\n",
    "b = 0\n",
    "for i in soup6.find_all('span', class_=\"table-body__logo-text\"):\n",
    "  topbatteam.append(i.text) #2nd to 10th ranking batswomen\n",
    "  b = b + 1\n",
    "  if b >= 9:\n",
    "    break\n",
    "topbatteam1 = soup6.find('div',class_=\"rankings-block__banner--nationality\") #1st ranking batswoman\n",
    "topbatteam.insert(0,topbatteam1.text.split(\"\\n\")[2].strip()) #inserting 1st batswoman on top of list"
   ]
  },
  {
   "cell_type": "code",
   "execution_count": 105,
   "metadata": {
    "colab": {
     "base_uri": "https://localhost:8080/"
    },
    "id": "zCS2h4v6MdSF",
    "outputId": "cd320dfb-731b-4bfc-8e0d-65d7af3c3e9b"
   },
   "outputs": [
    {
     "data": {
      "text/plain": [
       "['AUS', 'ENG', 'AUS', 'SA', 'AUS', 'AUS', 'NZ', 'IND', 'ENG', 'AUS']"
      ]
     },
     "execution_count": 105,
     "metadata": {},
     "output_type": "execute_result"
    }
   ],
   "source": [
    "topbatteam"
   ]
  },
  {
   "cell_type": "code",
   "execution_count": 106,
   "metadata": {
    "id": "F01m60ueNzp4"
   },
   "outputs": [],
   "source": [
    "#Extracting top 10 ODI batswomen ratings\n",
    "topbatrat = []\n",
    "b = 0\n",
    "for i in soup6.find_all('td', class_=\"table-body__cell u-text-right rating\"):\n",
    "  topbatrat.append(i.text) #2nd to 10th ranking batswomen\n",
    "  b = b + 1\n",
    "  if b >= 9:\n",
    "    break\n",
    "topbatrat1 = soup6.find('div',class_=\"rankings-block__banner--rating\") #1st ranking batswoman\n",
    "topbatrat.insert(0,topbatrat1.text) #inserting 1st batswoman on top of list"
   ]
  },
  {
   "cell_type": "code",
   "execution_count": 107,
   "metadata": {
    "colab": {
     "base_uri": "https://localhost:8080/"
    },
    "id": "h6ZPHwPMNz3k",
    "outputId": "dac9fbe8-b745-4dc0-8e23-b7ab66391489"
   },
   "outputs": [
    {
     "data": {
      "text/plain": [
       "['785', '750', '748', '713', '710', '701', '681', '669', '659', '642']"
      ]
     },
     "execution_count": 107,
     "metadata": {},
     "output_type": "execute_result"
    }
   ],
   "source": [
    "topbatrat"
   ]
  },
  {
   "cell_type": "code",
   "execution_count": 108,
   "metadata": {
    "id": "p1UBpyJhOkvs"
   },
   "outputs": [],
   "source": [
    "data = {\n",
    "    'Top 10 ODI batswomen' : topbat,\n",
    "    'Teams' : topbatteam,\n",
    "    'Ratings' : topbatrat \n",
    "}\n",
    "df = pd.DataFrame(data)"
   ]
  },
  {
   "cell_type": "code",
   "execution_count": 109,
   "metadata": {
    "colab": {
     "base_uri": "https://localhost:8080/",
     "height": 363
    },
    "id": "fgTWW8Y6OkzG",
    "outputId": "353199db-dcfb-4642-967a-5d5c83e4b57f"
   },
   "outputs": [
    {
     "data": {
      "text/html": [
       "<div>\n",
       "<style scoped>\n",
       "    .dataframe tbody tr th:only-of-type {\n",
       "        vertical-align: middle;\n",
       "    }\n",
       "\n",
       "    .dataframe tbody tr th {\n",
       "        vertical-align: top;\n",
       "    }\n",
       "\n",
       "    .dataframe thead th {\n",
       "        text-align: right;\n",
       "    }\n",
       "</style>\n",
       "<table border=\"1\" class=\"dataframe\">\n",
       "  <thead>\n",
       "    <tr style=\"text-align: right;\">\n",
       "      <th></th>\n",
       "      <th>Top 10 ODI batswomen</th>\n",
       "      <th>Teams</th>\n",
       "      <th>Ratings</th>\n",
       "    </tr>\n",
       "  </thead>\n",
       "  <tbody>\n",
       "    <tr>\n",
       "      <th>0</th>\n",
       "      <td>Alyssa Healy</td>\n",
       "      <td>AUS</td>\n",
       "      <td>785</td>\n",
       "    </tr>\n",
       "    <tr>\n",
       "      <th>1</th>\n",
       "      <td>Natalie Sciver</td>\n",
       "      <td>ENG</td>\n",
       "      <td>750</td>\n",
       "    </tr>\n",
       "    <tr>\n",
       "      <th>2</th>\n",
       "      <td>Beth Mooney</td>\n",
       "      <td>AUS</td>\n",
       "      <td>748</td>\n",
       "    </tr>\n",
       "    <tr>\n",
       "      <th>3</th>\n",
       "      <td>Laura Wolvaardt</td>\n",
       "      <td>SA</td>\n",
       "      <td>713</td>\n",
       "    </tr>\n",
       "    <tr>\n",
       "      <th>4</th>\n",
       "      <td>Meg Lanning</td>\n",
       "      <td>AUS</td>\n",
       "      <td>710</td>\n",
       "    </tr>\n",
       "    <tr>\n",
       "      <th>5</th>\n",
       "      <td>Rachael Haynes</td>\n",
       "      <td>AUS</td>\n",
       "      <td>701</td>\n",
       "    </tr>\n",
       "    <tr>\n",
       "      <th>6</th>\n",
       "      <td>Amy Satterthwaite</td>\n",
       "      <td>NZ</td>\n",
       "      <td>681</td>\n",
       "    </tr>\n",
       "    <tr>\n",
       "      <th>7</th>\n",
       "      <td>Smriti Mandhana</td>\n",
       "      <td>IND</td>\n",
       "      <td>669</td>\n",
       "    </tr>\n",
       "    <tr>\n",
       "      <th>8</th>\n",
       "      <td>Tammy Beaumont</td>\n",
       "      <td>ENG</td>\n",
       "      <td>659</td>\n",
       "    </tr>\n",
       "    <tr>\n",
       "      <th>9</th>\n",
       "      <td>Ellyse Perry</td>\n",
       "      <td>AUS</td>\n",
       "      <td>642</td>\n",
       "    </tr>\n",
       "  </tbody>\n",
       "</table>\n",
       "</div>"
      ],
      "text/plain": [
       "  Top 10 ODI batswomen Teams Ratings\n",
       "0         Alyssa Healy   AUS     785\n",
       "1       Natalie Sciver   ENG     750\n",
       "2          Beth Mooney   AUS     748\n",
       "3      Laura Wolvaardt    SA     713\n",
       "4          Meg Lanning   AUS     710\n",
       "5       Rachael Haynes   AUS     701\n",
       "6    Amy Satterthwaite    NZ     681\n",
       "7      Smriti Mandhana   IND     669\n",
       "8       Tammy Beaumont   ENG     659\n",
       "9         Ellyse Perry   AUS     642"
      ]
     },
     "execution_count": 109,
     "metadata": {},
     "output_type": "execute_result"
    }
   ],
   "source": [
    "df"
   ]
  },
  {
   "cell_type": "markdown",
   "metadata": {
    "id": "M-fEqmdp9xTW"
   },
   "source": [
    "**c. Top 10 women's ODI all-rounder**"
   ]
  },
  {
   "cell_type": "code",
   "execution_count": 110,
   "metadata": {
    "id": "wMU-j-509xTW"
   },
   "outputs": [],
   "source": [
    "page6 = requests.get('https://www.icc-cricket.com/rankings/womens/player-rankings/odi')"
   ]
  },
  {
   "cell_type": "code",
   "execution_count": 111,
   "metadata": {
    "colab": {
     "base_uri": "https://localhost:8080/"
    },
    "id": "0ecKjUamjfFe",
    "outputId": "b184c2b0-5296-407d-d048-e7dc015aa01c"
   },
   "outputs": [
    {
     "data": {
      "text/plain": [
       "<Response [200]>"
      ]
     },
     "execution_count": 111,
     "metadata": {},
     "output_type": "execute_result"
    }
   ],
   "source": [
    "page6"
   ]
  },
  {
   "cell_type": "code",
   "execution_count": 112,
   "metadata": {
    "id": "jtcha668jiSN"
   },
   "outputs": [],
   "source": [
    "soup6 = BeautifulSoup(page6.content)\n",
    "#soup6"
   ]
  },
  {
   "cell_type": "code",
   "execution_count": 113,
   "metadata": {
    "id": "RYpQNzUWjjF0"
   },
   "outputs": [],
   "source": [
    "#Extracting top 10 ODI all-rounder\n",
    "toprounder = []\n",
    "topplayer = []\n",
    "c = 0\n",
    "for i in soup6.find_all('td', class_=\"table-body__cell name\"):\n",
    "  topplayer.append(i.text.split('\\n')[1])\n",
    "for c in range(18,27):\n",
    "   toprounder.append(topplayer[c])#2nd to 10th ranking all-rounder"
   ]
  },
  {
   "cell_type": "code",
   "execution_count": 114,
   "metadata": {
    "id": "5e487iA8j0Pl"
   },
   "outputs": [],
   "source": [
    "topplayer1 = []\n",
    "for j in soup6.find_all('div',class_=\"rankings-block__banner--name\"):\n",
    "  topplayer1.append(j.text)\n",
    "toprounder1 = topplayer1[2]"
   ]
  },
  {
   "cell_type": "code",
   "execution_count": 115,
   "metadata": {
    "id": "e-4LtgELj025"
   },
   "outputs": [],
   "source": [
    "toprounder.insert(0,toprounder1) #Inserting 1st rank all-rounder infront of list"
   ]
  },
  {
   "cell_type": "code",
   "execution_count": 116,
   "metadata": {
    "colab": {
     "base_uri": "https://localhost:8080/"
    },
    "id": "ObIMCA7IkFAr",
    "outputId": "1aa6762b-9e11-4579-e832-7f839e056aad"
   },
   "outputs": [
    {
     "data": {
      "text/plain": [
       "['Natalie Sciver',\n",
       " 'Ellyse Perry',\n",
       " 'Hayley Matthews',\n",
       " 'Marizanne Kapp',\n",
       " 'Amelia Kerr',\n",
       " 'Ashleigh Gardner',\n",
       " 'Deepti Sharma',\n",
       " 'Jess Jonassen',\n",
       " 'Sune Luus',\n",
       " 'Katherine Brunt']"
      ]
     },
     "execution_count": 116,
     "metadata": {},
     "output_type": "execute_result"
    }
   ],
   "source": [
    "toprounder"
   ]
  },
  {
   "cell_type": "code",
   "execution_count": 117,
   "metadata": {
    "id": "se3VBUsXO0-g"
   },
   "outputs": [],
   "source": [
    "#Extracting top 10 ODI all-rounder team\n",
    "toprounderteam = []\n",
    "topplayerteam = []\n",
    "c = 0\n",
    "for i in soup6.find_all('span', class_=\"table-body__logo-text\"):\n",
    "  topplayerteam.append(i.text)\n",
    "for c in range(18,27):\n",
    "   toprounderteam.append(topplayerteam[c])#2nd to 10th ranking all-rounder team"
   ]
  },
  {
   "cell_type": "code",
   "execution_count": 118,
   "metadata": {
    "id": "LO5y7V0fO1Kh"
   },
   "outputs": [],
   "source": [
    "topplayerteam1 = []\n",
    "for j in soup6.find_all('div',class_=\"rankings-block__banner--nationality\"):\n",
    "  topplayerteam1.append(j.text)\n",
    "toprounderteam1 = topplayerteam1[2]"
   ]
  },
  {
   "cell_type": "code",
   "execution_count": 119,
   "metadata": {
    "id": "cjld-4tlO1OM"
   },
   "outputs": [],
   "source": [
    "toprounderteam.insert(0,toprounderteam1.split(\"\\n\")[2].strip()) #Inserting 1st rank all-rounder team infront of list"
   ]
  },
  {
   "cell_type": "code",
   "execution_count": 120,
   "metadata": {
    "colab": {
     "base_uri": "https://localhost:8080/"
    },
    "id": "C2QAztsCPTeV",
    "outputId": "5b96d1cc-a501-46de-c13c-e8af88cdedac"
   },
   "outputs": [
    {
     "data": {
      "text/plain": [
       "['ENG', 'AUS', 'WI', 'SA', 'NZ', 'AUS', 'IND', 'AUS', 'SA', 'ENG']"
      ]
     },
     "execution_count": 120,
     "metadata": {},
     "output_type": "execute_result"
    }
   ],
   "source": [
    "toprounderteam"
   ]
  },
  {
   "cell_type": "code",
   "execution_count": 121,
   "metadata": {
    "id": "JYpo4B5yQP1W"
   },
   "outputs": [],
   "source": [
    "#Extracting top 10 ODI all-rounder ratings\n",
    "toprounderrat = []\n",
    "topplayerrat = []\n",
    "c = 0\n",
    "for i in soup6.find_all('td', class_=\"table-body__cell u-text-right rating\"):\n",
    "  topplayerrat.append(i.text)\n",
    "for c in range(18,27):\n",
    "   toprounderrat.append(topplayerrat[c])#2nd to 10th ranking all-rounder rating"
   ]
  },
  {
   "cell_type": "code",
   "execution_count": 122,
   "metadata": {
    "id": "Mu3v_tLFQP4g"
   },
   "outputs": [],
   "source": [
    "topplayerrat1 = []\n",
    "for j in soup6.find_all('div',class_=\"rankings-block__banner--rating\"):\n",
    "  topplayerrat1.append(j.text)\n",
    "toprounderrat1 = topplayerrat1[2]"
   ]
  },
  {
   "cell_type": "code",
   "execution_count": 123,
   "metadata": {
    "id": "SYXVxuZCQP7h"
   },
   "outputs": [],
   "source": [
    "toprounderrat.insert(0,toprounderrat1) #Inserting 1st rank all-rounder rating infront of list"
   ]
  },
  {
   "cell_type": "code",
   "execution_count": 124,
   "metadata": {
    "colab": {
     "base_uri": "https://localhost:8080/"
    },
    "id": "l_OuUNh0QP_I",
    "outputId": "909e1c55-f1e8-497c-ac85-34e694b58183"
   },
   "outputs": [
    {
     "data": {
      "text/plain": [
       "['393', '374', '338', '338', '335', '269', '249', '245', '223', '221']"
      ]
     },
     "execution_count": 124,
     "metadata": {},
     "output_type": "execute_result"
    }
   ],
   "source": [
    "toprounderrat"
   ]
  },
  {
   "cell_type": "code",
   "execution_count": 125,
   "metadata": {
    "id": "_NCbCCHRR-sa"
   },
   "outputs": [],
   "source": [
    "data = {\n",
    "    'Top 10 ODI all-rounder' : toprounder,\n",
    "    'Teams' : toprounderteam,\n",
    "    'Ratings' : toprounderrat \n",
    "}\n",
    "df = pd.DataFrame(data)"
   ]
  },
  {
   "cell_type": "code",
   "execution_count": 126,
   "metadata": {
    "colab": {
     "base_uri": "https://localhost:8080/",
     "height": 363
    },
    "id": "o_nFjIjoR_fD",
    "outputId": "e317e2c2-3f42-41a3-865f-758c6d3f3abd"
   },
   "outputs": [
    {
     "data": {
      "text/html": [
       "<div>\n",
       "<style scoped>\n",
       "    .dataframe tbody tr th:only-of-type {\n",
       "        vertical-align: middle;\n",
       "    }\n",
       "\n",
       "    .dataframe tbody tr th {\n",
       "        vertical-align: top;\n",
       "    }\n",
       "\n",
       "    .dataframe thead th {\n",
       "        text-align: right;\n",
       "    }\n",
       "</style>\n",
       "<table border=\"1\" class=\"dataframe\">\n",
       "  <thead>\n",
       "    <tr style=\"text-align: right;\">\n",
       "      <th></th>\n",
       "      <th>Top 10 ODI all-rounder</th>\n",
       "      <th>Teams</th>\n",
       "      <th>Ratings</th>\n",
       "    </tr>\n",
       "  </thead>\n",
       "  <tbody>\n",
       "    <tr>\n",
       "      <th>0</th>\n",
       "      <td>Natalie Sciver</td>\n",
       "      <td>ENG</td>\n",
       "      <td>393</td>\n",
       "    </tr>\n",
       "    <tr>\n",
       "      <th>1</th>\n",
       "      <td>Ellyse Perry</td>\n",
       "      <td>AUS</td>\n",
       "      <td>374</td>\n",
       "    </tr>\n",
       "    <tr>\n",
       "      <th>2</th>\n",
       "      <td>Hayley Matthews</td>\n",
       "      <td>WI</td>\n",
       "      <td>338</td>\n",
       "    </tr>\n",
       "    <tr>\n",
       "      <th>3</th>\n",
       "      <td>Marizanne Kapp</td>\n",
       "      <td>SA</td>\n",
       "      <td>338</td>\n",
       "    </tr>\n",
       "    <tr>\n",
       "      <th>4</th>\n",
       "      <td>Amelia Kerr</td>\n",
       "      <td>NZ</td>\n",
       "      <td>335</td>\n",
       "    </tr>\n",
       "    <tr>\n",
       "      <th>5</th>\n",
       "      <td>Ashleigh Gardner</td>\n",
       "      <td>AUS</td>\n",
       "      <td>269</td>\n",
       "    </tr>\n",
       "    <tr>\n",
       "      <th>6</th>\n",
       "      <td>Deepti Sharma</td>\n",
       "      <td>IND</td>\n",
       "      <td>249</td>\n",
       "    </tr>\n",
       "    <tr>\n",
       "      <th>7</th>\n",
       "      <td>Jess Jonassen</td>\n",
       "      <td>AUS</td>\n",
       "      <td>245</td>\n",
       "    </tr>\n",
       "    <tr>\n",
       "      <th>8</th>\n",
       "      <td>Sune Luus</td>\n",
       "      <td>SA</td>\n",
       "      <td>223</td>\n",
       "    </tr>\n",
       "    <tr>\n",
       "      <th>9</th>\n",
       "      <td>Katherine Brunt</td>\n",
       "      <td>ENG</td>\n",
       "      <td>221</td>\n",
       "    </tr>\n",
       "  </tbody>\n",
       "</table>\n",
       "</div>"
      ],
      "text/plain": [
       "  Top 10 ODI all-rounder Teams Ratings\n",
       "0         Natalie Sciver   ENG     393\n",
       "1           Ellyse Perry   AUS     374\n",
       "2        Hayley Matthews    WI     338\n",
       "3         Marizanne Kapp    SA     338\n",
       "4            Amelia Kerr    NZ     335\n",
       "5       Ashleigh Gardner   AUS     269\n",
       "6          Deepti Sharma   IND     249\n",
       "7          Jess Jonassen   AUS     245\n",
       "8              Sune Luus    SA     223\n",
       "9        Katherine Brunt   ENG     221"
      ]
     },
     "execution_count": 126,
     "metadata": {},
     "output_type": "execute_result"
    }
   ],
   "source": [
    "df"
   ]
  },
  {
   "cell_type": "markdown",
   "metadata": {
    "id": "QoUdD1HK-VI1"
   },
   "source": [
    "#Q7. Scrape mentioned news details"
   ]
  },
  {
   "cell_type": "code",
   "execution_count": 127,
   "metadata": {
    "id": "yM0rdu_bXJAg"
   },
   "outputs": [],
   "source": [
    "page7 = requests.get('https://www.cnbc.com/world/?region=world')"
   ]
  },
  {
   "cell_type": "code",
   "execution_count": 128,
   "metadata": {
    "colab": {
     "base_uri": "https://localhost:8080/"
    },
    "id": "4vFpNHg0XNGS",
    "outputId": "79d8bf03-810e-4c64-d3d1-7c962262b225"
   },
   "outputs": [
    {
     "data": {
      "text/plain": [
       "<Response [200]>"
      ]
     },
     "execution_count": 128,
     "metadata": {},
     "output_type": "execute_result"
    }
   ],
   "source": [
    "page7"
   ]
  },
  {
   "cell_type": "code",
   "execution_count": 129,
   "metadata": {
    "id": "I9uIF-W-XQzG"
   },
   "outputs": [],
   "source": [
    "soup7 = BeautifulSoup(page7.content)\n",
    "#soup7"
   ]
  },
  {
   "cell_type": "markdown",
   "metadata": {
    "id": "ZRpO6a7R-iAg"
   },
   "source": [
    "**i. Headline**"
   ]
  },
  {
   "cell_type": "code",
   "execution_count": 130,
   "metadata": {
    "id": "Cfmp9cZu-pI-"
   },
   "outputs": [],
   "source": [
    "headlines = []"
   ]
  },
  {
   "cell_type": "code",
   "execution_count": 131,
   "metadata": {
    "id": "s2WoBcHRXYaJ"
   },
   "outputs": [],
   "source": [
    "#Extracting headlines\n",
    "for i in soup7.find_all('a', class_=\"LatestNews-headline\"):\n",
    "  headlines.append(i.text)"
   ]
  },
  {
   "cell_type": "code",
   "execution_count": 132,
   "metadata": {
    "colab": {
     "base_uri": "https://localhost:8080/"
    },
    "id": "UPWQztGYXbDY",
    "outputId": "e8cb21e5-1d44-4edf-b95e-a4b430059677"
   },
   "outputs": [
    {
     "data": {
      "text/plain": [
       "['A winning $1 million Mega Millions ticket is about to expire ',\n",
       " 'LVMH buys California wine giant Joseph Phelps as high-end drinks market soars',\n",
       " '25-year-old TikTok creator with 7 million followers saves 50% of her income',\n",
       " \"Bed Bath & Beyond says it's still open to selling its Buybuy Baby division\",\n",
       " \"Unilever reaches deal to keep selling Ben & Jerry's ice cream in Israel\",\n",
       " 'Powell vows to prevent inflation from taking hold in the U.S. for the long run',\n",
       " \"We're trimming a stock we like that's rallying to replenish some cash\",\n",
       " \"DOJ says the U.S. and allies have frozen $30 billion of Russian elites' assets\",\n",
       " 'Goldman expects weak Tesla results, recommends these EV plays',\n",
       " 'What to do if your new job offer gets rescinded, according to HR experts',\n",
       " \"Starz could turn into an 'acquisition machine' after Lionsgate spins it off\",\n",
       " 'NATO deal between Turkey, Sweden and Finland brings home wins for Erdogan',\n",
       " 'Jim Chanos debuts new short bets against data centers, sending shares down',\n",
       " 'This 42-year-old CEO used $3,000 in savings to build a $1.2 billion food startup',\n",
       " \"Watch for these 4 red flags at job interviews, warns Harvard biz expert: 'You don't want to work there'\",\n",
       " \"Goldman's stock picks for the multitrillion dollar ESG opportunity ahead\",\n",
       " 'Snap announces Snapchat+ subscription plan that costs $3.99 a month',\n",
       " 'Jim Cramer invested $100 a month in his 20s—even while living in his car',\n",
       " \"Crypto exchange CoinFlex claims 'Bitcoin Jesus' is the investor behind $47 million debt\",\n",
       " \"Another crypto 'washout' is coming before investors should buy, Fundstrat says\",\n",
       " \"3 ways the Supreme Court's decision on Roe could hurt women in the workplace\",\n",
       " 'Buy now, pay later refunds can get complicated: What to know before you shop',\n",
       " 'What Cramer is watching Wednesday — mass chip price-target cuts, lots of C-suite changes',\n",
       " 'Watch Fed Chair Powell talk live about the economy, interest rates at ECB forum ',\n",
       " \"Wednesday's top analyst calls: Tesla, Goldman Sachs, Penn, Amazon, McDonald's\",\n",
       " 'Analysts still see earnings rising even as the U.S. teeters on a recession',\n",
       " 'Congested Port of Oakland slashing free wait time for import containers',\n",
       " 'Delta offers free flight changes over July Fourth weekend',\n",
       " '‘We are in a hybrid war,’ German foreign minister says amid energy crisis',\n",
       " 'Crypto hedge fund Three Arrows Capital plunges into liquidation as market crash takes toll']"
      ]
     },
     "execution_count": 132,
     "metadata": {},
     "output_type": "execute_result"
    }
   ],
   "source": [
    "headlines"
   ]
  },
  {
   "cell_type": "markdown",
   "metadata": {
    "id": "Z3LkwL4M-riX"
   },
   "source": [
    "**ii. Time**"
   ]
  },
  {
   "cell_type": "code",
   "execution_count": 133,
   "metadata": {
    "id": "xOKhOFxz-wwK"
   },
   "outputs": [],
   "source": [
    "time = []"
   ]
  },
  {
   "cell_type": "code",
   "execution_count": 134,
   "metadata": {
    "id": "D40-eOqnXi6e"
   },
   "outputs": [],
   "source": [
    "#Extracting time\n",
    "for j in soup7.find_all('time', class_=\"LatestNews-timestamp\"):\n",
    "  time.append(j.text)"
   ]
  },
  {
   "cell_type": "code",
   "execution_count": 135,
   "metadata": {
    "colab": {
     "base_uri": "https://localhost:8080/"
    },
    "id": "vz2ywfUEXmR7",
    "outputId": "1a9123d7-b65f-4574-f156-9eeddeb9e674"
   },
   "outputs": [
    {
     "data": {
      "text/plain": [
       "['20 Min Ago',\n",
       " '25 Min Ago',\n",
       " '33 Min Ago',\n",
       " '44 Min Ago',\n",
       " '50 Min Ago',\n",
       " '52 Min Ago',\n",
       " '54 Min Ago',\n",
       " '1 Hour Ago',\n",
       " '1 Hour Ago',\n",
       " '1 Hour Ago',\n",
       " '2 Hours Ago',\n",
       " '2 Hours Ago',\n",
       " '2 Hours Ago',\n",
       " '2 Hours Ago',\n",
       " '3 Hours Ago',\n",
       " '3 Hours Ago',\n",
       " '3 Hours Ago',\n",
       " '3 Hours Ago',\n",
       " '3 Hours Ago',\n",
       " '3 Hours Ago',\n",
       " '4 Hours Ago',\n",
       " '4 Hours Ago',\n",
       " '4 Hours Ago',\n",
       " '4 Hours Ago',\n",
       " '4 Hours Ago',\n",
       " '5 Hours Ago',\n",
       " '5 Hours Ago',\n",
       " '5 Hours Ago',\n",
       " '5 Hours Ago',\n",
       " '5 Hours Ago']"
      ]
     },
     "execution_count": 135,
     "metadata": {},
     "output_type": "execute_result"
    }
   ],
   "source": [
    "time"
   ]
  },
  {
   "cell_type": "markdown",
   "metadata": {
    "id": "eGP0w-hI-xTD"
   },
   "source": [
    "**iii. News Link**"
   ]
  },
  {
   "cell_type": "code",
   "execution_count": 136,
   "metadata": {
    "id": "MJ_4yoWS-2m6"
   },
   "outputs": [],
   "source": [
    "links =[]"
   ]
  },
  {
   "cell_type": "code",
   "execution_count": 137,
   "metadata": {
    "id": "0Rh5fXJOXs0y"
   },
   "outputs": [],
   "source": [
    "#Extracting links\n",
    "for k in soup7.find_all('a', class_=\"LatestNews-headline\",href = True):\n",
    "  links.append(k['href'])"
   ]
  },
  {
   "cell_type": "code",
   "execution_count": 138,
   "metadata": {
    "colab": {
     "base_uri": "https://localhost:8080/"
    },
    "id": "agevkF8HXvDp",
    "outputId": "60f5b2f5-f08d-423c-9b33-fd3cb07bb265"
   },
   "outputs": [
    {
     "data": {
      "text/plain": [
       "['https://www.cnbc.com/2022/06/29/a-mega-millions-ticket-worth-1-million-is-about-to-expire.html',\n",
       " 'https://www.cnbc.com/2022/06/29/lvmh-buys-california-wine-giant-joseph-phelps-as-high-end-drinks-market-soars.html',\n",
       " 'https://www.cnbc.com/2022/06/29/why-tiktoks-brittany-broski-saves-50-percent-of-her-income.html',\n",
       " 'https://www.cnbc.com/2022/06/29/bed-bath-beyond-says-its-still-open-to-selling-its-buybuy-baby-division.html',\n",
       " 'https://www.cnbc.com/2022/06/29/unilever-reaches-deal-to-keep-selling-ben-jerrys-ice-cream-in-israel.html',\n",
       " 'https://www.cnbc.com/2022/06/29/powell-vows-to-prevent-inflation-from-taking-long-run-hold-in-the-us.html',\n",
       " 'https://www.cnbc.com/2022/06/29/investing-club-were-trimming-a-stock-we-like-thats-rallying-to-replenish-some-cash.html',\n",
       " 'https://www.cnbc.com/2022/06/29/doj-says-allies-have-frozen-30-billion-of-russian-oligarch-assets.html',\n",
       " 'https://www.cnbc.com/2022/06/29/goldman-expects-weak-tesla-results-recommends-these-ev-plays.html',\n",
       " 'https://www.cnbc.com/2022/06/29/hr-experts-what-to-do-if-your-new-job-offer-gets-rescinded.html',\n",
       " 'https://www.cnbc.com/2022/06/29/starz-could-turn-into-acquisition-machine-after-spinoff-from-lionsgate.html',\n",
       " 'https://www.cnbc.com/2022/06/29/nato-deal-between-turkey-sweden-and-finland-brings-wins-for-erdogan.html',\n",
       " 'https://www.cnbc.com/2022/06/29/jim-chanos-debuts-new-short-bets-against-data-centers-sending-shares-down.html',\n",
       " 'https://www.cnbc.com/2022/06/29/eat-just-ceo-from-3000-in-savings-to-1point2-billion-food-startup.html',\n",
       " 'https://www.cnbc.com/2022/06/29/watch-for-these-red-flags-during-the-job-interview-says-harvard-business-and-ethics-expert.html',\n",
       " 'https://www.cnbc.com/2022/06/29/goldmans-stock-picks-for-the-multitrillion-dollar-esg-opportunity-ahead.html',\n",
       " 'https://www.cnbc.com/2022/06/29/snapchat-plus-subscription-plan-price-release.html',\n",
       " 'https://www.cnbc.com/2022/06/29/jim-cramer-i-invested-money-even-when-i-lived-in-my-car.html',\n",
       " 'https://www.cnbc.com/2022/06/29/crypto-exchange-coinflex-claims-roger-ver-is-behind-47-million-debt.html',\n",
       " 'https://www.cnbc.com/2022/06/29/theres-another-crypto-washout-coming-before-investors-should-buy-fundstrat-says.html',\n",
       " 'https://www.cnbc.com/2022/06/29/supreme-court-abortion-decision-could-hurt-women-in-the-workplace.html',\n",
       " 'https://www.cnbc.com/2022/06/29/buy-now-pay-later-loans-can-get-complicated-when-you-want-a-refund.html',\n",
       " 'https://www.cnbc.com/2022/06/29/what-cramer-is-watching-wednesday-mass-chip-price-target-cuts-lots-of-c-suite-changes.html',\n",
       " 'https://www.cnbc.com/2022/06/29/watch-fed-chair-powell-talk-live-about-the-economy-interest-rates-at-ecb-forum-.html',\n",
       " 'https://www.cnbc.com/2022/06/29/-wednesday-street-calls-tesla-goldman-sachs-amazon-mcdonalds-.html',\n",
       " 'https://www.cnbc.com/2022/06/29/head-scratcher-analysts-still-see-earnings-rising-this-year-even-as-the-us-teeters-on-a-recession.html',\n",
       " 'https://www.cnbc.com/2022/06/29/port-of-oakland-slashing-free-wait-time-for-import-containers.html',\n",
       " 'https://www.cnbc.com/2022/06/29/delta-offers-free-flight-changes-over-july-fourth-weekend.html',\n",
       " 'https://www.cnbc.com/2022/06/29/russia-ukraine-war-germany-concerned-amid-deepening-energy-crisis.html',\n",
       " 'https://www.cnbc.com/2022/06/29/crypto-hedge-fund-three-arrows-capital-plunges-into-liquidation.html']"
      ]
     },
     "execution_count": 138,
     "metadata": {},
     "output_type": "execute_result"
    }
   ],
   "source": [
    "links"
   ]
  },
  {
   "cell_type": "markdown",
   "metadata": {
    "id": "JfnXWO-cX1V_"
   },
   "source": [
    "#Q8. Scrape the following:"
   ]
  },
  {
   "cell_type": "code",
   "execution_count": 139,
   "metadata": {
    "id": "zakcXLcrYphU"
   },
   "outputs": [],
   "source": [
    "page8 = requests.get('https://www.journals.elsevier.com/artificial-intelligence/most-downloaded-articles')"
   ]
  },
  {
   "cell_type": "code",
   "execution_count": 140,
   "metadata": {
    "colab": {
     "base_uri": "https://localhost:8080/"
    },
    "id": "Eflz2vc2bXi9",
    "outputId": "09c2507c-ac12-4ea5-8225-da06d214babe"
   },
   "outputs": [
    {
     "data": {
      "text/plain": [
       "<Response [200]>"
      ]
     },
     "execution_count": 140,
     "metadata": {},
     "output_type": "execute_result"
    }
   ],
   "source": [
    "page8"
   ]
  },
  {
   "cell_type": "code",
   "execution_count": 141,
   "metadata": {
    "id": "J5VapY_ebZ0J"
   },
   "outputs": [],
   "source": [
    "soup8 = BeautifulSoup(page8.content)\n",
    "#soup8"
   ]
  },
  {
   "cell_type": "markdown",
   "metadata": {
    "id": "MmlQqj6JYA6o"
   },
   "source": [
    "**i. Paper Title**"
   ]
  },
  {
   "cell_type": "code",
   "execution_count": 142,
   "metadata": {
    "id": "j48-CUm3YqF-"
   },
   "outputs": [],
   "source": [
    "title = []"
   ]
  },
  {
   "cell_type": "code",
   "execution_count": 143,
   "metadata": {
    "id": "D2iT8Z6-bti0"
   },
   "outputs": [],
   "source": [
    "#Extracting titles\n",
    "for i in soup8.find_all('h2', class_=\"sc-1qrq3sd-1 MKjKb sc-1nmom32-0 sc-1nmom32-1 hqhUYH ebTA-dR\"):\n",
    "  title.append(i.text)"
   ]
  },
  {
   "cell_type": "code",
   "execution_count": 144,
   "metadata": {
    "colab": {
     "base_uri": "https://localhost:8080/"
    },
    "id": "uv8olw-lbvga",
    "outputId": "ac240d42-9c9c-40a6-f3fa-4a560af4079b"
   },
   "outputs": [
    {
     "data": {
      "text/plain": [
       "['Reward is enough',\n",
       " 'Making sense of raw input',\n",
       " 'Law and logic: A review from an argumentation perspective',\n",
       " 'Creativity and artificial intelligence',\n",
       " 'Artificial cognition for social human–robot interaction: An implementation',\n",
       " 'Explanation in artificial intelligence: Insights from the social sciences',\n",
       " 'Making sense of sensory input',\n",
       " 'Conflict-based search for optimal multi-agent pathfinding',\n",
       " 'Between MDPs and semi-MDPs: A framework for temporal abstraction in reinforcement learning',\n",
       " 'The Hanabi challenge: A new frontier for AI research',\n",
       " 'Evaluating XAI: A comparison of rule-based and example-based explanations',\n",
       " 'Argumentation in artificial intelligence',\n",
       " 'Algorithms for computing strategies in two-player simultaneous move games',\n",
       " 'Multiple object tracking: A literature review',\n",
       " 'Selection of relevant features and examples in machine learning',\n",
       " 'A survey of inverse reinforcement learning: Challenges, methods and progress',\n",
       " 'Explaining individual predictions when features are dependent: More accurate approximations to Shapley values',\n",
       " 'A review of possible effects of cognitive biases on interpretation of rule-based machine learning models',\n",
       " 'Integrating social power into the decision-making of cognitive agents',\n",
       " \"“That's (not) the output I expected!” On the role of end user expectations in creating explanations of AI systems\",\n",
       " 'Explaining black-box classifiers using post-hoc explanations-by-example: The effect of explanations and error-rates in XAI user studies',\n",
       " 'Algorithm runtime prediction: Methods & evaluation',\n",
       " 'Wrappers for feature subset selection',\n",
       " 'Commonsense visual sensemaking for autonomous driving – On generalised neurosymbolic online abduction integrating vision and semantics',\n",
       " 'Quantum computation, quantum theory and AI']"
      ]
     },
     "execution_count": 144,
     "metadata": {},
     "output_type": "execute_result"
    }
   ],
   "source": [
    "title"
   ]
  },
  {
   "cell_type": "markdown",
   "metadata": {
    "id": "FOw2sdTJYPKb"
   },
   "source": [
    "**ii. Authors**"
   ]
  },
  {
   "cell_type": "code",
   "execution_count": 145,
   "metadata": {
    "id": "LY8de9m0Yquy"
   },
   "outputs": [],
   "source": [
    "authors = []"
   ]
  },
  {
   "cell_type": "code",
   "execution_count": 146,
   "metadata": {
    "id": "muyAprQnb19c"
   },
   "outputs": [],
   "source": [
    "#Extracting authors\n",
    "for j in soup8.find_all('span', class_=\"sc-1w3fpd7-0 pgLAT\"):\n",
    "  authors.append(j.text)"
   ]
  },
  {
   "cell_type": "code",
   "execution_count": 147,
   "metadata": {
    "colab": {
     "base_uri": "https://localhost:8080/"
    },
    "id": "KjxNWijib2cw",
    "outputId": "e2506728-d6a7-4deb-c830-f1d672da8f88"
   },
   "outputs": [
    {
     "data": {
      "text/plain": [
       "['Silver, David, Singh, Satinder, Precup, Doina, Sutton, Richard S. ',\n",
       " 'Evans, Richard, Bošnjak, Matko and 5 more',\n",
       " 'Prakken, Henry, Sartor, Giovanni ',\n",
       " 'Boden, Margaret A. ',\n",
       " 'Lemaignan, Séverin, Warnier, Mathieu and 3 more',\n",
       " 'Miller, Tim ',\n",
       " 'Evans, Richard, Hernández-Orallo, José and 3 more',\n",
       " 'Sharon, Guni, Stern, Roni, Felner, Ariel, Sturtevant, Nathan R. ',\n",
       " 'Sutton, Richard S., Precup, Doina, Singh, Satinder ',\n",
       " 'Bard, Nolan, Foerster, Jakob N. and 13 more',\n",
       " 'van der Waa, Jasper, Nieuwburg, Elisabeth, Cremers, Anita, Neerincx, Mark ',\n",
       " 'Bench-Capon, T.J.M., Dunne, Paul E. ',\n",
       " 'Bošanský, Branislav, Lisý, Viliam and 3 more',\n",
       " 'Luo, Wenhan, Xing, Junliang and 4 more',\n",
       " 'Blum, Avrim L., Langley, Pat ',\n",
       " 'Arora, Saurabh, Doshi, Prashant ',\n",
       " 'Aas, Kjersti, Jullum, Martin, Løland, Anders ',\n",
       " 'Kliegr, Tomáš, Bahník, Štěpán, Fürnkranz, Johannes ',\n",
       " 'Pereira, Gonçalo, Prada, Rui, Santos, Pedro A. ',\n",
       " 'Riveiro, Maria, Thill, Serge ',\n",
       " 'Kenny, Eoin M., Ford, Courtney, Quinn, Molly, Keane, Mark T. ',\n",
       " 'Hutter, Frank, Xu, Lin, Hoos, Holger H., Leyton-Brown, Kevin ',\n",
       " 'Kohavi, Ron, John, George H. ',\n",
       " 'Suchan, Jakob, Bhatt, Mehul, Varadarajan, Srikrishna ',\n",
       " 'Ying, Mingsheng ']"
      ]
     },
     "execution_count": 147,
     "metadata": {},
     "output_type": "execute_result"
    }
   ],
   "source": [
    "authors"
   ]
  },
  {
   "cell_type": "markdown",
   "metadata": {
    "id": "es1K8VEUYUnj"
   },
   "source": [
    "**iii. Published Date**"
   ]
  },
  {
   "cell_type": "code",
   "execution_count": 148,
   "metadata": {
    "id": "FgMVs7biYrYc"
   },
   "outputs": [],
   "source": [
    "date = []"
   ]
  },
  {
   "cell_type": "code",
   "execution_count": 149,
   "metadata": {
    "id": "7-I8pON4b-9a"
   },
   "outputs": [],
   "source": [
    "#Extracting dates\n",
    "for k in soup8.find_all('span', class_=\"sc-1thf9ly-2 bKddwo\"):\n",
    "  date.append(k.text)"
   ]
  },
  {
   "cell_type": "code",
   "execution_count": 150,
   "metadata": {
    "colab": {
     "base_uri": "https://localhost:8080/"
    },
    "id": "z_2EJ2vzb_Ay",
    "outputId": "9d06363f-e60e-4bce-ba24-8db8eb6fb00f"
   },
   "outputs": [
    {
     "data": {
      "text/plain": [
       "['October 2021',\n",
       " 'October 2021',\n",
       " 'October 2015',\n",
       " 'August 1998',\n",
       " 'June 2017',\n",
       " 'February 2019',\n",
       " 'April 2021',\n",
       " 'February 2015',\n",
       " 'August 1999',\n",
       " 'March 2020',\n",
       " 'February 2021',\n",
       " 'October 2007',\n",
       " 'August 2016',\n",
       " 'April 2021',\n",
       " 'December 1997',\n",
       " 'August 2021',\n",
       " 'September 2021',\n",
       " 'June 2021',\n",
       " 'December 2016',\n",
       " 'September 2021',\n",
       " 'May 2021',\n",
       " 'January 2014',\n",
       " 'December 1997',\n",
       " 'October 2021',\n",
       " 'February 2010']"
      ]
     },
     "execution_count": 150,
     "metadata": {},
     "output_type": "execute_result"
    }
   ],
   "source": [
    "date"
   ]
  },
  {
   "cell_type": "markdown",
   "metadata": {
    "id": "JVMXznsJYaVq"
   },
   "source": [
    "**iv. Paper URL**"
   ]
  },
  {
   "cell_type": "code",
   "execution_count": 151,
   "metadata": {
    "id": "yQgCkz-icGFc"
   },
   "outputs": [],
   "source": [
    "url = []"
   ]
  },
  {
   "cell_type": "code",
   "execution_count": 152,
   "metadata": {
    "id": "3nohtJBlcGT6"
   },
   "outputs": [],
   "source": [
    "#Extracting url\n",
    "for l in soup8.find_all('a', class_=\"sc-5smygv-0 nrDZj\", href =True):\n",
    "  url.append(l['href'])"
   ]
  },
  {
   "cell_type": "code",
   "execution_count": 153,
   "metadata": {
    "colab": {
     "base_uri": "https://localhost:8080/"
    },
    "id": "ZReWE7IiYsRn",
    "outputId": "f18dec6c-baba-467e-c11f-86fa5968f381"
   },
   "outputs": [
    {
     "data": {
      "text/plain": [
       "['https://www.sciencedirect.com/science/article/pii/S0004370221000862',\n",
       " 'https://www.sciencedirect.com/science/article/pii/S0004370221000722',\n",
       " 'https://www.sciencedirect.com/science/article/pii/S0004370215000910',\n",
       " 'https://www.sciencedirect.com/science/article/pii/S0004370298000551',\n",
       " 'https://www.sciencedirect.com/science/article/pii/S0004370216300790',\n",
       " 'https://www.sciencedirect.com/science/article/pii/S0004370218305988',\n",
       " 'https://www.sciencedirect.com/science/article/pii/S0004370220301855',\n",
       " 'https://www.sciencedirect.com/science/article/pii/S0004370214001386',\n",
       " 'https://www.sciencedirect.com/science/article/pii/S0004370299000521',\n",
       " 'https://www.sciencedirect.com/science/article/pii/S0004370219300116',\n",
       " 'https://www.sciencedirect.com/science/article/pii/S0004370220301533',\n",
       " 'https://www.sciencedirect.com/science/article/pii/S0004370207000793',\n",
       " 'https://www.sciencedirect.com/science/article/pii/S0004370216300285',\n",
       " 'https://www.sciencedirect.com/science/article/pii/S0004370220301958',\n",
       " 'https://www.sciencedirect.com/science/article/pii/S0004370297000635',\n",
       " 'https://www.sciencedirect.com/science/article/pii/S0004370221000515',\n",
       " 'https://www.sciencedirect.com/science/article/pii/S0004370221000539',\n",
       " 'https://www.sciencedirect.com/science/article/pii/S0004370221000096',\n",
       " 'https://www.sciencedirect.com/science/article/pii/S0004370216300868',\n",
       " 'https://www.sciencedirect.com/science/article/pii/S0004370221000588',\n",
       " 'https://www.sciencedirect.com/science/article/pii/S0004370221000102',\n",
       " 'https://www.sciencedirect.com/science/article/pii/S0004370213001082',\n",
       " 'https://www.sciencedirect.com/science/article/pii/S000437029700043X',\n",
       " 'https://www.sciencedirect.com/science/article/pii/S0004370221000734',\n",
       " 'https://www.sciencedirect.com/science/article/pii/S0004370209001398']"
      ]
     },
     "execution_count": 153,
     "metadata": {},
     "output_type": "execute_result"
    }
   ],
   "source": [
    "url"
   ]
  },
  {
   "cell_type": "markdown",
   "metadata": {
    "id": "vgmTwh5ycdzj"
   },
   "source": [
    "#Q9. Scrape mentioned details from dineout"
   ]
  },
  {
   "cell_type": "code",
   "execution_count": 154,
   "metadata": {
    "id": "_pryyK04dKHW"
   },
   "outputs": [],
   "source": [
    "page9 = requests.get('https://www.dineout.co.in/delhi-restaurants/buffet-special')"
   ]
  },
  {
   "cell_type": "code",
   "execution_count": 155,
   "metadata": {
    "colab": {
     "base_uri": "https://localhost:8080/"
    },
    "id": "BhZP0Mafk5Qm",
    "outputId": "147e6f08-ed50-4599-fc86-c98372b5cda3"
   },
   "outputs": [
    {
     "data": {
      "text/plain": [
       "<Response [200]>"
      ]
     },
     "execution_count": 155,
     "metadata": {},
     "output_type": "execute_result"
    }
   ],
   "source": [
    "page9"
   ]
  },
  {
   "cell_type": "code",
   "execution_count": 156,
   "metadata": {
    "id": "tPHYfcsPk7A_"
   },
   "outputs": [],
   "source": [
    "soup9 = BeautifulSoup(page9.content)\n",
    "#soup9"
   ]
  },
  {
   "cell_type": "markdown",
   "metadata": {
    "id": "217WSCAncl-c"
   },
   "source": [
    "**i. Restaurant Name**"
   ]
  },
  {
   "cell_type": "code",
   "execution_count": 157,
   "metadata": {
    "id": "I8WPyevkvgKV"
   },
   "outputs": [],
   "source": [
    "resname = []"
   ]
  },
  {
   "cell_type": "code",
   "execution_count": 158,
   "metadata": {
    "id": "pzmAWACalA3e"
   },
   "outputs": [],
   "source": [
    "#Extracting Restaurant name\n",
    "for i in soup9.find_all('a', class_=\"restnt-name ellipsis\"):\n",
    "  resname.append(i.text)"
   ]
  },
  {
   "cell_type": "code",
   "execution_count": 159,
   "metadata": {
    "colab": {
     "base_uri": "https://localhost:8080/"
    },
    "id": "59GYTYj8lBHP",
    "outputId": "61cd1447-7e5f-4f53-cf48-f12221711bf1"
   },
   "outputs": [
    {
     "data": {
      "text/plain": [
       "['Castle Barbeque',\n",
       " 'Jungle Jamboree',\n",
       " 'Castle Barbeque',\n",
       " 'Cafe Knosh',\n",
       " 'The Barbeque Company',\n",
       " 'India Grill',\n",
       " 'Delhi Barbeque',\n",
       " 'The Monarch - Bar Be Que Village',\n",
       " 'World Cafe',\n",
       " 'Indian Grill Room',\n",
       " 'Mad 4 Bar B Que',\n",
       " 'Barbeque 29',\n",
       " 'Glasshouse']"
      ]
     },
     "execution_count": 159,
     "metadata": {},
     "output_type": "execute_result"
    }
   ],
   "source": [
    "resname"
   ]
  },
  {
   "cell_type": "markdown",
   "metadata": {
    "id": "RJIIx6Nvcv8m"
   },
   "source": [
    "**ii. Cuisine**"
   ]
  },
  {
   "cell_type": "code",
   "execution_count": 160,
   "metadata": {
    "id": "PHHw5QgMdLXy"
   },
   "outputs": [],
   "source": [
    "cuisine = []"
   ]
  },
  {
   "cell_type": "code",
   "execution_count": 161,
   "metadata": {
    "id": "24Td-0wolyTg"
   },
   "outputs": [],
   "source": [
    "#Extracting Cuisine\n",
    "for j in soup9.find_all('div', class_=\"detail-info\"):\n",
    "  cuisine.append(j.text.split('|')[1].strip())"
   ]
  },
  {
   "cell_type": "code",
   "execution_count": 162,
   "metadata": {
    "colab": {
     "base_uri": "https://localhost:8080/"
    },
    "id": "Gx-ooMTMlyW0",
    "outputId": "82ba2a95-8b19-4c6f-a558-1e37b3f3e3ee"
   },
   "outputs": [
    {
     "data": {
      "text/plain": [
       "['North Indian, Chinese',\n",
       " 'North Indian, Asian, Italian',\n",
       " 'Chinese, North Indian',\n",
       " 'Italian, Continental3 deals available',\n",
       " 'North Indian, Chinese4 deals available',\n",
       " 'North Indian, Italian',\n",
       " 'North Indian',\n",
       " 'North Indian',\n",
       " 'North Indian, Italian',\n",
       " 'North Indian, Mughlai',\n",
       " 'North Indian',\n",
       " 'North Indian, Mughlai, Desserts, Beverages',\n",
       " 'European, Italian, Asian, Continental']"
      ]
     },
     "execution_count": 162,
     "metadata": {},
     "output_type": "execute_result"
    }
   ],
   "source": [
    "cuisine"
   ]
  },
  {
   "cell_type": "markdown",
   "metadata": {
    "id": "040SHu8oc40r"
   },
   "source": [
    "**iii. Location**"
   ]
  },
  {
   "cell_type": "code",
   "execution_count": 163,
   "metadata": {
    "id": "hNESF9LpdMQY"
   },
   "outputs": [],
   "source": [
    "loc = []"
   ]
  },
  {
   "cell_type": "code",
   "execution_count": 164,
   "metadata": {
    "id": "DygdCX-vm44P"
   },
   "outputs": [],
   "source": [
    "#Extracting Location\n",
    "for k in soup9.find_all('div', class_=\"restnt-loc ellipsis\"):\n",
    "  loc.append(k.text)"
   ]
  },
  {
   "cell_type": "code",
   "execution_count": 165,
   "metadata": {
    "colab": {
     "base_uri": "https://localhost:8080/"
    },
    "id": "Tr2z21MTm5CQ",
    "outputId": "b4ab2dd2-d9e2-476f-bffd-601b5fa49547"
   },
   "outputs": [
    {
     "data": {
      "text/plain": [
       "['Connaught Place, Central Delhi',\n",
       " '3CS Mall,Lajpat Nagar - 3, South Delhi',\n",
       " 'Pacific Mall,Tagore Garden, West Delhi',\n",
       " 'The Leela Ambience Convention Hotel,Shahdara, East Delhi',\n",
       " 'Gardens Galleria,Sector 38A, Noida',\n",
       " 'Hilton Garden Inn,Saket, South Delhi',\n",
       " 'Taurus Sarovar Portico,Mahipalpur, South Delhi',\n",
       " 'Indirapuram Habitat Centre,Indirapuram, Ghaziabad',\n",
       " 'Vibe by The Lalit Traveller,Sector 35, Faridabad',\n",
       " 'Suncity Business Tower,Golf Course Road, Gurgaon',\n",
       " 'Sector 29, Faridabad',\n",
       " 'NIT, Faridabad',\n",
       " 'DoubleTree By Hilton Gurugram Baani Square,Sector 50, Gurgaon']"
      ]
     },
     "execution_count": 165,
     "metadata": {},
     "output_type": "execute_result"
    }
   ],
   "source": [
    "loc"
   ]
  },
  {
   "cell_type": "markdown",
   "metadata": {
    "id": "cxrKYMfNc8ls"
   },
   "source": [
    "**iv. Ratings**"
   ]
  },
  {
   "cell_type": "code",
   "execution_count": 166,
   "metadata": {
    "id": "A9NNNCU7dNLs"
   },
   "outputs": [],
   "source": [
    "ratings = []"
   ]
  },
  {
   "cell_type": "code",
   "execution_count": 167,
   "metadata": {
    "id": "cBvURLhJnFPR"
   },
   "outputs": [],
   "source": [
    "#Extracting Ratings\n",
    "for l in soup9.find_all('div', class_=\"restnt-rating rating-4\"):\n",
    "  ratings.append(l.text)"
   ]
  },
  {
   "cell_type": "code",
   "execution_count": 168,
   "metadata": {
    "colab": {
     "base_uri": "https://localhost:8080/"
    },
    "id": "Ic8-1Y1AnFSx",
    "outputId": "e4b53bb0-b221-40ca-88ff-cb4a5ee05a79"
   },
   "outputs": [
    {
     "data": {
      "text/plain": [
       "['3.5',\n",
       " '3.9',\n",
       " '3.9',\n",
       " '4.3',\n",
       " '4',\n",
       " '3.9',\n",
       " '3.7',\n",
       " '3.8',\n",
       " '4.3',\n",
       " '4.3',\n",
       " '3.6',\n",
       " '4.2',\n",
       " '4']"
      ]
     },
     "execution_count": 168,
     "metadata": {},
     "output_type": "execute_result"
    }
   ],
   "source": [
    "ratings"
   ]
  },
  {
   "cell_type": "markdown",
   "metadata": {
    "id": "VR4X4f-xdC08"
   },
   "source": [
    "**v. Image URL**"
   ]
  },
  {
   "cell_type": "code",
   "execution_count": 169,
   "metadata": {
    "id": "IsX7zJpTdN6I"
   },
   "outputs": [],
   "source": [
    "url = []"
   ]
  },
  {
   "cell_type": "code",
   "execution_count": 170,
   "metadata": {
    "id": "I_d4KPf-nMXr"
   },
   "outputs": [],
   "source": [
    "#Extracting Image URL\n",
    "for m in soup9.find_all('div', class_=\"img cursor\"):\n",
    "  url.append(m.get('data-link'))"
   ]
  },
  {
   "cell_type": "code",
   "execution_count": 171,
   "metadata": {
    "colab": {
     "base_uri": "https://localhost:8080/"
    },
    "id": "VEqzmoAcnP63",
    "outputId": "54970d0a-0195-46d6-b7da-1122a5c8b61a"
   },
   "outputs": [
    {
     "data": {
      "text/plain": [
       "['/delhi/castle-barbeque-connaught-place-central-delhi-86792',\n",
       " '/delhi/jungle-jamboree-lajpat-nagar-3-south-delhi-59633',\n",
       " '/delhi/castle-barbeque-tagore-garden-west-delhi-38113',\n",
       " '/delhi/cafe-knosh-shahdara-east-delhi-406',\n",
       " '/delhi/the-barbeque-company-sector-38a-noida-79307',\n",
       " '/delhi/india-grill-saket-south-delhi-2687',\n",
       " '/delhi/delhi-barbeque-mahipalpur-south-delhi-52501',\n",
       " '/delhi/the-monarch-bar-be-que-village-indirapuram-ghaziabad-34822',\n",
       " '/delhi/world-cafe-sector-35-faridabad-12366',\n",
       " '/delhi/indian-grill-room-golf-course-road-gurgaon-549',\n",
       " '/delhi/mad-4-bar-b-que-sector-29-faridabad-43488',\n",
       " '/delhi/barbeque-29-nit-faridabad-58842',\n",
       " '/delhi/glasshouse-sector-50-gurgaon-9875']"
      ]
     },
     "execution_count": 171,
     "metadata": {},
     "output_type": "execute_result"
    }
   ],
   "source": [
    "url"
   ]
  },
  {
   "cell_type": "markdown",
   "metadata": {
    "id": "b30KbYgKp77d"
   },
   "source": [
    "#Q10. Scrape the details of top publications from Google Scholar"
   ]
  },
  {
   "cell_type": "code",
   "execution_count": 172,
   "metadata": {
    "id": "fB5fVKnlqQtc"
   },
   "outputs": [],
   "source": [
    "page10 = requests.get('https://scholar.google.com/citations?view_op=top_venues&hl=en')"
   ]
  },
  {
   "cell_type": "code",
   "execution_count": 173,
   "metadata": {
    "colab": {
     "base_uri": "https://localhost:8080/"
    },
    "id": "Z6L4FEAqslMn",
    "outputId": "d5d22eab-635b-4ae9-94a7-9a0da2464183"
   },
   "outputs": [
    {
     "data": {
      "text/plain": [
       "<Response [200]>"
      ]
     },
     "execution_count": 173,
     "metadata": {},
     "output_type": "execute_result"
    }
   ],
   "source": [
    "page10"
   ]
  },
  {
   "cell_type": "code",
   "execution_count": 174,
   "metadata": {
    "id": "zM3S4evhsmA0"
   },
   "outputs": [],
   "source": [
    "soup10 = BeautifulSoup(page10.content)\n",
    "#soup10"
   ]
  },
  {
   "cell_type": "markdown",
   "metadata": {
    "id": "lKVX0ueBsraT"
   },
   "source": [
    "**i. Rank**"
   ]
  },
  {
   "cell_type": "code",
   "execution_count": 175,
   "metadata": {
    "id": "9rZAr1RCsouK"
   },
   "outputs": [],
   "source": [
    "rank = []"
   ]
  },
  {
   "cell_type": "code",
   "execution_count": 176,
   "metadata": {
    "id": "V_hxz0ATsyAl"
   },
   "outputs": [],
   "source": [
    "#Extracting Rank\n",
    "for i in soup10.find_all('td', class_=\"gsc_mvt_p\"):\n",
    "  rank.append(i.text.split(\".\")[0])"
   ]
  },
  {
   "cell_type": "code",
   "execution_count": 177,
   "metadata": {
    "colab": {
     "base_uri": "https://localhost:8080/"
    },
    "id": "q5uRxQYOs0JC",
    "outputId": "74dc5eba-ff23-4db1-ea1f-bc3cef3f372c"
   },
   "outputs": [
    {
     "data": {
      "text/plain": [
       "['1',\n",
       " '2',\n",
       " '3',\n",
       " '4',\n",
       " '5',\n",
       " '6',\n",
       " '7',\n",
       " '8',\n",
       " '9',\n",
       " '10',\n",
       " '11',\n",
       " '12',\n",
       " '13',\n",
       " '14',\n",
       " '15',\n",
       " '16',\n",
       " '17',\n",
       " '18',\n",
       " '19',\n",
       " '20',\n",
       " '21',\n",
       " '22',\n",
       " '23',\n",
       " '24',\n",
       " '25',\n",
       " '26',\n",
       " '27',\n",
       " '28',\n",
       " '29',\n",
       " '30',\n",
       " '31',\n",
       " '32',\n",
       " '33',\n",
       " '34',\n",
       " '35',\n",
       " '36',\n",
       " '37',\n",
       " '38',\n",
       " '39',\n",
       " '40',\n",
       " '41',\n",
       " '42',\n",
       " '43',\n",
       " '44',\n",
       " '45',\n",
       " '46',\n",
       " '47',\n",
       " '48',\n",
       " '49',\n",
       " '50',\n",
       " '51',\n",
       " '52',\n",
       " '53',\n",
       " '54',\n",
       " '55',\n",
       " '56',\n",
       " '57',\n",
       " '58',\n",
       " '59',\n",
       " '60',\n",
       " '61',\n",
       " '62',\n",
       " '63',\n",
       " '64',\n",
       " '65',\n",
       " '66',\n",
       " '67',\n",
       " '68',\n",
       " '69',\n",
       " '70',\n",
       " '71',\n",
       " '72',\n",
       " '73',\n",
       " '74',\n",
       " '75',\n",
       " '76',\n",
       " '77',\n",
       " '78',\n",
       " '79',\n",
       " '80',\n",
       " '81',\n",
       " '82',\n",
       " '83',\n",
       " '84',\n",
       " '85',\n",
       " '86',\n",
       " '87',\n",
       " '88',\n",
       " '89',\n",
       " '90',\n",
       " '91',\n",
       " '92',\n",
       " '93',\n",
       " '94',\n",
       " '95',\n",
       " '96',\n",
       " '97',\n",
       " '98',\n",
       " '99',\n",
       " '100']"
      ]
     },
     "execution_count": 177,
     "metadata": {},
     "output_type": "execute_result"
    }
   ],
   "source": [
    "rank"
   ]
  },
  {
   "cell_type": "markdown",
   "metadata": {
    "id": "r1rHKLk4tHB8"
   },
   "source": [
    "**ii. Publication**"
   ]
  },
  {
   "cell_type": "code",
   "execution_count": 178,
   "metadata": {
    "id": "kEaP9YO6s1Qi"
   },
   "outputs": [],
   "source": [
    "public = []"
   ]
  },
  {
   "cell_type": "code",
   "execution_count": 179,
   "metadata": {
    "id": "QXfH599YtNHr"
   },
   "outputs": [],
   "source": [
    "#Extracting Publication\n",
    "for i in soup10.find_all('td', class_=\"gsc_mvt_t\"):\n",
    "  public.append(i.text)"
   ]
  },
  {
   "cell_type": "code",
   "execution_count": 180,
   "metadata": {
    "colab": {
     "base_uri": "https://localhost:8080/"
    },
    "id": "B0VP5IHXtNRo",
    "outputId": "6ac86d4d-ff5a-416d-82cb-63a7258bf165"
   },
   "outputs": [
    {
     "data": {
      "text/plain": [
       "['Nature',\n",
       " 'The New England Journal of Medicine',\n",
       " 'Science',\n",
       " 'IEEE/CVF Conference on Computer Vision and Pattern Recognition',\n",
       " 'The Lancet',\n",
       " 'Advanced Materials',\n",
       " 'Nature Communications',\n",
       " 'Cell',\n",
       " 'International Conference on Learning Representations',\n",
       " 'Neural Information Processing Systems',\n",
       " 'JAMA',\n",
       " 'Chemical Reviews',\n",
       " 'Proceedings of the National Academy of Sciences',\n",
       " 'Angewandte Chemie',\n",
       " 'Chemical Society Reviews',\n",
       " 'Journal of the American Chemical Society',\n",
       " 'IEEE/CVF International Conference on Computer Vision',\n",
       " 'Nucleic Acids Research',\n",
       " 'International Conference on Machine Learning',\n",
       " 'Nature Medicine',\n",
       " 'Renewable and Sustainable Energy Reviews',\n",
       " 'Science of The Total Environment',\n",
       " 'Advanced Energy Materials',\n",
       " 'Journal of Clinical Oncology',\n",
       " 'ACS Nano',\n",
       " 'Journal of Cleaner Production',\n",
       " 'Advanced Functional Materials',\n",
       " 'Physical Review Letters',\n",
       " 'Scientific Reports',\n",
       " 'The Lancet Oncology',\n",
       " 'Energy & Environmental Science',\n",
       " 'IEEE Access',\n",
       " 'PLoS ONE',\n",
       " 'Science Advances',\n",
       " 'Journal of the American College of Cardiology',\n",
       " 'Applied Catalysis B: Environmental',\n",
       " 'Nature Genetics',\n",
       " 'BMJ',\n",
       " 'Circulation',\n",
       " 'European Conference on Computer Vision',\n",
       " 'International Journal of Molecular Sciences',\n",
       " 'Nature Materials',\n",
       " 'Chemical engineering journal',\n",
       " 'AAAI Conference on Artificial Intelligence',\n",
       " 'Journal of Materials Chemistry A',\n",
       " 'ACS Applied Materials & Interfaces',\n",
       " 'Nature Biotechnology',\n",
       " 'The Lancet Infectious Diseases',\n",
       " 'Frontiers in Immunology',\n",
       " 'Applied Energy',\n",
       " 'Nano Energy',\n",
       " 'Nature Energy',\n",
       " 'Meeting of the Association for Computational Linguistics (ACL)',\n",
       " 'The Astrophysical Journal',\n",
       " 'Gastroenterology',\n",
       " 'Nature Methods',\n",
       " 'IEEE Transactions on Pattern Analysis and Machine Intelligence',\n",
       " 'Cochrane Database of Systematic Reviews',\n",
       " 'Blood',\n",
       " 'Neuron',\n",
       " 'Nano Letters',\n",
       " 'Morbidity and Mortality Weekly Report',\n",
       " 'European Heart Journal',\n",
       " 'Nature Nanotechnology',\n",
       " 'ACS Catalysis',\n",
       " 'Nature Neuroscience',\n",
       " 'American Economic Review',\n",
       " 'Journal of High Energy Physics',\n",
       " 'IEEE Communications Surveys & Tutorials',\n",
       " 'Annals of Oncology',\n",
       " 'Nutrients',\n",
       " 'Accounts of Chemical Research',\n",
       " 'Immunity',\n",
       " 'Environmental Science & Technology',\n",
       " 'Nature Reviews. Molecular Cell Biology',\n",
       " 'Gut',\n",
       " 'Physical Review D',\n",
       " 'ACS Energy Letters',\n",
       " 'Monthly Notices of the Royal Astronomical Society',\n",
       " 'Conference on Empirical Methods in Natural Language Processing (EMNLP)',\n",
       " 'Clinical Infectious Diseases',\n",
       " 'Cell Metabolism',\n",
       " 'Nature Reviews Immunology',\n",
       " 'Joule',\n",
       " 'Nature Photonics',\n",
       " 'International Journal of Environmental Research and Public Health',\n",
       " 'Environmental Pollution',\n",
       " 'Computers in Human Behavior',\n",
       " 'Frontiers in Microbiology',\n",
       " 'Nature Physics',\n",
       " 'Small',\n",
       " 'Cell Reports',\n",
       " 'Molecular Cell',\n",
       " 'Clinical Cancer Research',\n",
       " 'Bioresource Technology',\n",
       " 'Journal of Business Research',\n",
       " 'Molecular Cancer',\n",
       " 'Sensors',\n",
       " 'Nature Climate Change',\n",
       " 'IEEE Internet of Things Journal']"
      ]
     },
     "execution_count": 180,
     "metadata": {},
     "output_type": "execute_result"
    }
   ],
   "source": [
    "public"
   ]
  },
  {
   "cell_type": "markdown",
   "metadata": {
    "id": "YXL8TvoLtVRV"
   },
   "source": [
    "**iii. h5-index**"
   ]
  },
  {
   "cell_type": "code",
   "execution_count": 181,
   "metadata": {
    "id": "7ZL2h7uVtTo_"
   },
   "outputs": [],
   "source": [
    "h5i = []"
   ]
  },
  {
   "cell_type": "code",
   "execution_count": 182,
   "metadata": {
    "id": "F46-WC9Htj6O"
   },
   "outputs": [],
   "source": [
    "#Extracting h5-index\n",
    "a=0\n",
    "for i in soup10.find_all('td', class_=\"gsc_mvt_n\"):\n",
    "  a = a+1\n",
    "  if a % 2 != 0:\n",
    "    h5i.append(i.text)"
   ]
  },
  {
   "cell_type": "code",
   "execution_count": 183,
   "metadata": {
    "colab": {
     "base_uri": "https://localhost:8080/"
    },
    "id": "b34MzM7xtuGo",
    "outputId": "e23cb29c-e7eb-4833-b547-104fad8a2adf"
   },
   "outputs": [
    {
     "data": {
      "text/plain": [
       "['444',\n",
       " '432',\n",
       " '401',\n",
       " '389',\n",
       " '354',\n",
       " '312',\n",
       " '307',\n",
       " '300',\n",
       " '286',\n",
       " '278',\n",
       " '267',\n",
       " '265',\n",
       " '256',\n",
       " '245',\n",
       " '244',\n",
       " '242',\n",
       " '239',\n",
       " '238',\n",
       " '237',\n",
       " '235',\n",
       " '227',\n",
       " '225',\n",
       " '220',\n",
       " '213',\n",
       " '211',\n",
       " '211',\n",
       " '210',\n",
       " '207',\n",
       " '206',\n",
       " '202',\n",
       " '202',\n",
       " '200',\n",
       " '198',\n",
       " '197',\n",
       " '195',\n",
       " '192',\n",
       " '191',\n",
       " '190',\n",
       " '189',\n",
       " '186',\n",
       " '183',\n",
       " '181',\n",
       " '181',\n",
       " '180',\n",
       " '178',\n",
       " '177',\n",
       " '175',\n",
       " '173',\n",
       " '173',\n",
       " '173',\n",
       " '172',\n",
       " '170',\n",
       " '169',\n",
       " '167',\n",
       " '166',\n",
       " '165',\n",
       " '165',\n",
       " '165',\n",
       " '165',\n",
       " '164',\n",
       " '164',\n",
       " '163',\n",
       " '163',\n",
       " '163',\n",
       " '163',\n",
       " '162',\n",
       " '160',\n",
       " '160',\n",
       " '159',\n",
       " '159',\n",
       " '159',\n",
       " '159',\n",
       " '158',\n",
       " '158',\n",
       " '155',\n",
       " '155',\n",
       " '155',\n",
       " '155',\n",
       " '155',\n",
       " '154',\n",
       " '153',\n",
       " '153',\n",
       " '152',\n",
       " '152',\n",
       " '152',\n",
       " '152',\n",
       " '152',\n",
       " '152',\n",
       " '151',\n",
       " '151',\n",
       " '150',\n",
       " '149',\n",
       " '149',\n",
       " '146',\n",
       " '146',\n",
       " '145',\n",
       " '145',\n",
       " '145',\n",
       " '144',\n",
       " '144']"
      ]
     },
     "execution_count": 183,
     "metadata": {},
     "output_type": "execute_result"
    }
   ],
   "source": [
    "h5i"
   ]
  },
  {
   "cell_type": "markdown",
   "metadata": {
    "id": "Oh4BH19et5Aw"
   },
   "source": [
    "**iv. h5-median**"
   ]
  },
  {
   "cell_type": "code",
   "execution_count": 184,
   "metadata": {
    "id": "LGbiQpn8uGuz"
   },
   "outputs": [],
   "source": [
    "h5m = []"
   ]
  },
  {
   "cell_type": "code",
   "execution_count": 185,
   "metadata": {
    "id": "r6S566PfuGxn"
   },
   "outputs": [],
   "source": [
    "#Extracting h5-median\n",
    "a=0\n",
    "for i in soup10.find_all('td', class_=\"gsc_mvt_n\"):\n",
    "  a = a+1\n",
    "  if a % 2 == 0:\n",
    "    h5m.append(i.text)"
   ]
  },
  {
   "cell_type": "code",
   "execution_count": 186,
   "metadata": {
    "colab": {
     "base_uri": "https://localhost:8080/"
    },
    "id": "coXsFdVDuG1F",
    "outputId": "32c938df-12fd-42a7-fe81-90221b259a31"
   },
   "outputs": [
    {
     "data": {
      "text/plain": [
       "['667',\n",
       " '780',\n",
       " '614',\n",
       " '627',\n",
       " '635',\n",
       " '418',\n",
       " '428',\n",
       " '505',\n",
       " '533',\n",
       " '436',\n",
       " '425',\n",
       " '444',\n",
       " '364',\n",
       " '332',\n",
       " '386',\n",
       " '344',\n",
       " '415',\n",
       " '550',\n",
       " '421',\n",
       " '389',\n",
       " '324',\n",
       " '311',\n",
       " '300',\n",
       " '315',\n",
       " '277',\n",
       " '273',\n",
       " '280',\n",
       " '294',\n",
       " '274',\n",
       " '329',\n",
       " '290',\n",
       " '303',\n",
       " '278',\n",
       " '294',\n",
       " '276',\n",
       " '246',\n",
       " '297',\n",
       " '307',\n",
       " '301',\n",
       " '321',\n",
       " '253',\n",
       " '265',\n",
       " '224',\n",
       " '296',\n",
       " '220',\n",
       " '223',\n",
       " '315',\n",
       " '296',\n",
       " '228',\n",
       " '217',\n",
       " '232',\n",
       " '314',\n",
       " '304',\n",
       " '234',\n",
       " '254',\n",
       " '296',\n",
       " '293',\n",
       " '243',\n",
       " '229',\n",
       " '231',\n",
       " '207',\n",
       " '302',\n",
       " '265',\n",
       " '264',\n",
       " '220',\n",
       " '248',\n",
       " '263',\n",
       " '220',\n",
       " '304',\n",
       " '243',\n",
       " '214',\n",
       " '211',\n",
       " '242',\n",
       " '214',\n",
       " '340',\n",
       " '235',\n",
       " '217',\n",
       " '212',\n",
       " '194',\n",
       " '249',\n",
       " '278',\n",
       " '211',\n",
       " '292',\n",
       " '233',\n",
       " '228',\n",
       " '225',\n",
       " '222',\n",
       " '214',\n",
       " '225',\n",
       " '222',\n",
       " '196',\n",
       " '205',\n",
       " '202',\n",
       " '201',\n",
       " '190',\n",
       " '233',\n",
       " '209',\n",
       " '201',\n",
       " '228',\n",
       " '212']"
      ]
     },
     "execution_count": 186,
     "metadata": {},
     "output_type": "execute_result"
    }
   ],
   "source": [
    "h5m"
   ]
  }
 ],
 "metadata": {
  "colab": {
   "collapsed_sections": [],
   "name": "Web_Scraping_Assignment-1_except_Q9.ipynb",
   "provenance": []
  },
  "kernelspec": {
   "display_name": "Python 3 (ipykernel)",
   "language": "python",
   "name": "python3"
  },
  "language_info": {
   "codemirror_mode": {
    "name": "ipython",
    "version": 3
   },
   "file_extension": ".py",
   "mimetype": "text/x-python",
   "name": "python",
   "nbconvert_exporter": "python",
   "pygments_lexer": "ipython3",
   "version": "3.7.11"
  }
 },
 "nbformat": 4,
 "nbformat_minor": 1
}
