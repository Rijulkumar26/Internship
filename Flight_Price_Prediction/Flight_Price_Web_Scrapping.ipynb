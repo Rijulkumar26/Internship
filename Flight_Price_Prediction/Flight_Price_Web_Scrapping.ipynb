{
 "cells": [
  {
   "cell_type": "markdown",
   "metadata": {},
   "source": [
    " "
   ]
  },
  {
   "cell_type": "code",
   "execution_count": 1,
   "metadata": {},
   "outputs": [],
   "source": [
    "#import all required libraries\n",
    "import selenium\n",
    "from selenium import webdriver\n",
    "from selenium.webdriver.common.by import By\n",
    "import pandas as pd\n",
    "import time\n",
    "import warnings\n",
    "warnings.filterwarnings(\"ignore\")\n",
    "\n",
    "from selenium.common.exceptions import NoSuchElementException"
   ]
  },
  {
   "cell_type": "markdown",
   "metadata": {},
   "source": [
    "### Scrape the Flight prices and other details of at least 1500 flights from yatra.com that are scheduled from 7 oct to 12 oct"
   ]
  },
  {
   "cell_type": "code",
   "execution_count": 16,
   "metadata": {},
   "outputs": [],
   "source": [
    "#connecting to webdriver\n",
    "driver = webdriver.Chrome('chromedriver')"
   ]
  },
  {
   "cell_type": "code",
   "execution_count": 17,
   "metadata": {},
   "outputs": [],
   "source": [
    "# yatra.com Delhi to Mumbai flights url\n",
    "url = 'https://flight.yatra.com/air-search-ui/dom2/trigger?ADT=1&CHD=0&INF=0&class=Economy&destination=BOM&destinationCountry=IN&flexi=0&flight_depart_date=07%2F10%2F2022&hb=&noOfSegments=1&origin=DEL&originCountry=IN&type=O&unique=1664343722404&viewName=normal'\n",
    "driver.get(url)"
   ]
  },
  {
   "cell_type": "code",
   "execution_count": 20,
   "metadata": {},
   "outputs": [],
   "source": [
    "name = []\n",
    "date = []\n",
    "src =[]\n",
    "dest = []\n",
    "dtime = []\n",
    "atime =[]\n",
    "dur = []\n",
    "stop = []\n",
    "price = []"
   ]
  },
  {
   "cell_type": "code",
   "execution_count": 84,
   "metadata": {},
   "outputs": [],
   "source": [
    "a = 0\n",
    "\n",
    "#extracting Airline name tags\n",
    "name_tags = driver.find_elements(By.XPATH, '//span[@class=\"i-b text ellipsis\"]')\n",
    "for i in name_tags:\n",
    "    name.append(i.text)\n",
    "    a=a+1\n",
    "    \n",
    "\n",
    "#date\n",
    "for i in range(0,a):\n",
    "    date.append(\"12 oct 2022\")\n",
    "\n",
    "\n",
    "#extracting source tags\n",
    "b=0\n",
    "src_tags = driver.find_elements(By.XPATH, '//p[@class=\"fs-10 font-lightgrey no-wrap city ellipsis\"]')\n",
    "for i in src_tags:\n",
    "    if b%2==0:\n",
    "        src.append(i.text)\n",
    "    b=b+1\n",
    "    \n",
    "#extracting Destination tags\n",
    "b=0\n",
    "dest_tags = driver.find_elements(By.XPATH, '//p[@class=\"fs-10 font-lightgrey no-wrap city ellipsis\"]')\n",
    "for i in dest_tags:\n",
    "    if b%2 != 0:\n",
    "        dest.append(i.text)\n",
    "    b=b+1\n",
    "    \n",
    "    \n",
    "#extracting Departure time tags\n",
    "dtime_tags = driver.find_elements(By.XPATH, '//div[@class=\"i-b pr\"]')\n",
    "for i in dtime_tags:\n",
    "    dtime.append(i.text)\n",
    "    \n",
    "\n",
    "#extracting Arrival time tags\n",
    "atime_tags = driver.find_elements(By.XPATH, '//p[@class=\"bold fs-15 mb-2 pr time\"]')\n",
    "for i in atime_tags:\n",
    "    atime.append(i.text)\n",
    "\n",
    "    \n",
    "#extracting Duration tags\n",
    "dur_tags = driver.find_elements(By.XPATH, '//p[@class=\"fs-12 bold du mb-2\"]')\n",
    "for i in dur_tags:\n",
    "    dur.append(i.text)\n",
    "    \n",
    "#extracting Total Stop tags\n",
    "stop_tags = driver.find_elements(By.XPATH, '//div[@class=\" font-lightgrey fs-10 tipsy i-b fs-10\"]')\n",
    "for i in stop_tags:\n",
    "    stop.append(i.text)\n",
    "    \n",
    "    \n",
    "#extracting Price tags\n",
    "price_tags = driver.find_elements(By.XPATH, '//div[@class=\"i-b tipsy fare-summary-tooltip fs-18\"]')\n",
    "for i in price_tags:\n",
    "    price.append(i.text)\n",
    "    \n",
    "time.sleep(5)"
   ]
  },
  {
   "cell_type": "code",
   "execution_count": 94,
   "metadata": {},
   "outputs": [],
   "source": [
    "# yatra.com Bangalore to Kolkata flights url\n",
    "url = 'https://flight.yatra.com/air-search-ui/dom2/trigger?type=O&viewName=normal&flexi=0&noOfSegments=1&origin=BLR&originCountry=IN&destination=CCU&destinationCountry=IN&flight_depart_date=07%2F10%2F2022&ADT=1&CHD=0&INF=0&class=Economy&source=fresco-home&unqvaldesktop=1209659215728'\n",
    "driver.get(url)"
   ]
  },
  {
   "cell_type": "code",
   "execution_count": 147,
   "metadata": {},
   "outputs": [],
   "source": [
    "a = 0\n",
    "\n",
    "#extracting Airline name tags\n",
    "name_tags = driver.find_elements(By.XPATH, '//span[@class=\"i-b text ellipsis\"]')\n",
    "for i in name_tags:\n",
    "    name.append(i.text)\n",
    "    a=a+1\n",
    "    \n",
    "\n",
    "#date\n",
    "for i in range(0,a):\n",
    "    date.append(\"12 oct 2022\")\n",
    "\n",
    "\n",
    "#extracting source tags\n",
    "b=0\n",
    "src_tags = driver.find_elements(By.XPATH, '//p[@class=\"fs-10 font-lightgrey no-wrap city ellipsis\"]')\n",
    "for i in src_tags:\n",
    "    if b%2==0:\n",
    "        src.append(i.text)\n",
    "    b=b+1\n",
    "    \n",
    "#extracting Destination tags\n",
    "b=0\n",
    "dest_tags = driver.find_elements(By.XPATH, '//p[@class=\"fs-10 font-lightgrey no-wrap city ellipsis\"]')\n",
    "for i in dest_tags:\n",
    "    if b%2 != 0:\n",
    "        dest.append(i.text)\n",
    "    b=b+1\n",
    "    \n",
    "    \n",
    "#extracting Departure time tags\n",
    "dtime_tags = driver.find_elements(By.XPATH, '//div[@class=\"i-b pr\"]')\n",
    "for i in dtime_tags:\n",
    "    dtime.append(i.text)\n",
    "    \n",
    "\n",
    "#extracting Arrival time tags\n",
    "atime_tags = driver.find_elements(By.XPATH, '//p[@class=\"bold fs-15 mb-2 pr time\"]')\n",
    "for i in atime_tags:\n",
    "    atime.append(i.text)\n",
    "\n",
    "    \n",
    "#extracting Duration tags\n",
    "dur_tags = driver.find_elements(By.XPATH, '//p[@class=\"fs-12 bold du mb-2\"]')\n",
    "for i in dur_tags:\n",
    "    dur.append(i.text)\n",
    "    \n",
    "#extracting Total Stop tags\n",
    "stop_tags = driver.find_elements(By.XPATH, '//div[@class=\" font-lightgrey fs-10 tipsy i-b fs-10\"]')\n",
    "for i in stop_tags:\n",
    "    stop.append(i.text)\n",
    "    \n",
    "    \n",
    "#extracting Price tags\n",
    "price_tags = driver.find_elements(By.XPATH, '//div[@class=\"i-b tipsy fare-summary-tooltip fs-18\"]')\n",
    "for i in price_tags:\n",
    "    price.append(i.text)\n",
    "    \n",
    "time.sleep(5)"
   ]
  },
  {
   "cell_type": "code",
   "execution_count": 148,
   "metadata": {},
   "outputs": [
    {
     "data": {
      "text/plain": [
       "1698"
      ]
     },
     "execution_count": 148,
     "metadata": {},
     "output_type": "execute_result"
    }
   ],
   "source": [
    "len(name)"
   ]
  },
  {
   "cell_type": "code",
   "execution_count": 149,
   "metadata": {},
   "outputs": [
    {
     "data": {
      "text/plain": [
       "1698"
      ]
     },
     "execution_count": 149,
     "metadata": {},
     "output_type": "execute_result"
    }
   ],
   "source": [
    "len(date)"
   ]
  },
  {
   "cell_type": "code",
   "execution_count": 150,
   "metadata": {},
   "outputs": [
    {
     "data": {
      "text/plain": [
       "1698"
      ]
     },
     "execution_count": 150,
     "metadata": {},
     "output_type": "execute_result"
    }
   ],
   "source": [
    "len(src)"
   ]
  },
  {
   "cell_type": "code",
   "execution_count": 151,
   "metadata": {},
   "outputs": [
    {
     "data": {
      "text/plain": [
       "1698"
      ]
     },
     "execution_count": 151,
     "metadata": {},
     "output_type": "execute_result"
    }
   ],
   "source": [
    "len(dest)"
   ]
  },
  {
   "cell_type": "code",
   "execution_count": 152,
   "metadata": {},
   "outputs": [
    {
     "data": {
      "text/plain": [
       "1698"
      ]
     },
     "execution_count": 152,
     "metadata": {},
     "output_type": "execute_result"
    }
   ],
   "source": [
    "len(dtime)"
   ]
  },
  {
   "cell_type": "code",
   "execution_count": 153,
   "metadata": {},
   "outputs": [
    {
     "data": {
      "text/plain": [
       "1698"
      ]
     },
     "execution_count": 153,
     "metadata": {},
     "output_type": "execute_result"
    }
   ],
   "source": [
    "len(atime)"
   ]
  },
  {
   "cell_type": "code",
   "execution_count": 154,
   "metadata": {},
   "outputs": [
    {
     "data": {
      "text/plain": [
       "1698"
      ]
     },
     "execution_count": 154,
     "metadata": {},
     "output_type": "execute_result"
    }
   ],
   "source": [
    "len(dur)"
   ]
  },
  {
   "cell_type": "code",
   "execution_count": 155,
   "metadata": {},
   "outputs": [
    {
     "data": {
      "text/plain": [
       "1698"
      ]
     },
     "execution_count": 155,
     "metadata": {},
     "output_type": "execute_result"
    }
   ],
   "source": [
    "len(stop)"
   ]
  },
  {
   "cell_type": "code",
   "execution_count": 156,
   "metadata": {
    "scrolled": true
   },
   "outputs": [
    {
     "data": {
      "text/plain": [
       "1698"
      ]
     },
     "execution_count": 156,
     "metadata": {},
     "output_type": "execute_result"
    }
   ],
   "source": [
    "len(price)"
   ]
  },
  {
   "cell_type": "code",
   "execution_count": 157,
   "metadata": {},
   "outputs": [
    {
     "data": {
      "text/html": [
       "<div>\n",
       "<style scoped>\n",
       "    .dataframe tbody tr th:only-of-type {\n",
       "        vertical-align: middle;\n",
       "    }\n",
       "\n",
       "    .dataframe tbody tr th {\n",
       "        vertical-align: top;\n",
       "    }\n",
       "\n",
       "    .dataframe thead th {\n",
       "        text-align: right;\n",
       "    }\n",
       "</style>\n",
       "<table border=\"1\" class=\"dataframe\">\n",
       "  <thead>\n",
       "    <tr style=\"text-align: right;\">\n",
       "      <th></th>\n",
       "      <th>Airline Name</th>\n",
       "      <th>Date of journey</th>\n",
       "      <th>Source</th>\n",
       "      <th>Destination</th>\n",
       "      <th>Departure Time</th>\n",
       "      <th>Arrival Time</th>\n",
       "      <th>Duration</th>\n",
       "      <th>Total stops</th>\n",
       "      <th>Price</th>\n",
       "    </tr>\n",
       "  </thead>\n",
       "  <tbody>\n",
       "    <tr>\n",
       "      <th>0</th>\n",
       "      <td>Go First</td>\n",
       "      <td>7 oct 2022</td>\n",
       "      <td>New Delhi</td>\n",
       "      <td>Mumbai</td>\n",
       "      <td>13:20</td>\n",
       "      <td>15:20</td>\n",
       "      <td>2h 00m</td>\n",
       "      <td>Non Stop</td>\n",
       "      <td>5,950</td>\n",
       "    </tr>\n",
       "    <tr>\n",
       "      <th>1</th>\n",
       "      <td>Go First</td>\n",
       "      <td>7 oct 2022</td>\n",
       "      <td>New Delhi</td>\n",
       "      <td>Mumbai</td>\n",
       "      <td>15:15</td>\n",
       "      <td>17:20</td>\n",
       "      <td>2h 05m</td>\n",
       "      <td>Non Stop</td>\n",
       "      <td>5,950</td>\n",
       "    </tr>\n",
       "    <tr>\n",
       "      <th>2</th>\n",
       "      <td>Go First</td>\n",
       "      <td>7 oct 2022</td>\n",
       "      <td>New Delhi</td>\n",
       "      <td>Mumbai</td>\n",
       "      <td>07:00</td>\n",
       "      <td>09:10</td>\n",
       "      <td>2h 10m</td>\n",
       "      <td>Non Stop</td>\n",
       "      <td>5,950</td>\n",
       "    </tr>\n",
       "    <tr>\n",
       "      <th>3</th>\n",
       "      <td>SpiceJet</td>\n",
       "      <td>7 oct 2022</td>\n",
       "      <td>New Delhi</td>\n",
       "      <td>Mumbai</td>\n",
       "      <td>07:20</td>\n",
       "      <td>09:35</td>\n",
       "      <td>2h 15m</td>\n",
       "      <td>Non Stop</td>\n",
       "      <td>5,950</td>\n",
       "    </tr>\n",
       "    <tr>\n",
       "      <th>4</th>\n",
       "      <td>Go First</td>\n",
       "      <td>7 oct 2022</td>\n",
       "      <td>New Delhi</td>\n",
       "      <td>Mumbai</td>\n",
       "      <td>18:20</td>\n",
       "      <td>20:35</td>\n",
       "      <td>2h 15m</td>\n",
       "      <td>Non Stop</td>\n",
       "      <td>5,950</td>\n",
       "    </tr>\n",
       "    <tr>\n",
       "      <th>...</th>\n",
       "      <td>...</td>\n",
       "      <td>...</td>\n",
       "      <td>...</td>\n",
       "      <td>...</td>\n",
       "      <td>...</td>\n",
       "      <td>...</td>\n",
       "      <td>...</td>\n",
       "      <td>...</td>\n",
       "      <td>...</td>\n",
       "    </tr>\n",
       "    <tr>\n",
       "      <th>1693</th>\n",
       "      <td>Vistara</td>\n",
       "      <td>12 oct 2022</td>\n",
       "      <td>Bangalore</td>\n",
       "      <td>Kolkata</td>\n",
       "      <td>11:30</td>\n",
       "      <td>19:35</td>\n",
       "      <td>8h 05m</td>\n",
       "      <td>2 Stop(s)</td>\n",
       "      <td>20,074</td>\n",
       "    </tr>\n",
       "    <tr>\n",
       "      <th>1694</th>\n",
       "      <td>Air India</td>\n",
       "      <td>12 oct 2022</td>\n",
       "      <td>Bangalore</td>\n",
       "      <td>Kolkata</td>\n",
       "      <td>06:10</td>\n",
       "      <td>14:30</td>\n",
       "      <td>8h 20m</td>\n",
       "      <td>1 Stop</td>\n",
       "      <td>21,124</td>\n",
       "    </tr>\n",
       "    <tr>\n",
       "      <th>1695</th>\n",
       "      <td>Air India</td>\n",
       "      <td>12 oct 2022</td>\n",
       "      <td>Bangalore</td>\n",
       "      <td>Kolkata</td>\n",
       "      <td>11:15</td>\n",
       "      <td>19:10</td>\n",
       "      <td>7h 55m</td>\n",
       "      <td>1 Stop</td>\n",
       "      <td>23,224</td>\n",
       "    </tr>\n",
       "    <tr>\n",
       "      <th>1696</th>\n",
       "      <td>Air India</td>\n",
       "      <td>12 oct 2022</td>\n",
       "      <td>Bangalore</td>\n",
       "      <td>Kolkata</td>\n",
       "      <td>06:10</td>\n",
       "      <td>19:10</td>\n",
       "      <td>13h 00m</td>\n",
       "      <td>1 Stop</td>\n",
       "      <td>23,224</td>\n",
       "    </tr>\n",
       "    <tr>\n",
       "      <th>1697</th>\n",
       "      <td>Air India</td>\n",
       "      <td>12 oct 2022</td>\n",
       "      <td>Bangalore</td>\n",
       "      <td>Kolkata</td>\n",
       "      <td>10:00</td>\n",
       "      <td>19:10</td>\n",
       "      <td>9h 10m</td>\n",
       "      <td>1 Stop</td>\n",
       "      <td>23,749</td>\n",
       "    </tr>\n",
       "  </tbody>\n",
       "</table>\n",
       "<p>1698 rows × 9 columns</p>\n",
       "</div>"
      ],
      "text/plain": [
       "     Airline Name Date of journey     Source Destination Departure Time  \\\n",
       "0        Go First      7 oct 2022  New Delhi      Mumbai          13:20   \n",
       "1        Go First      7 oct 2022  New Delhi      Mumbai          15:15   \n",
       "2        Go First      7 oct 2022  New Delhi      Mumbai          07:00   \n",
       "3        SpiceJet      7 oct 2022  New Delhi      Mumbai          07:20   \n",
       "4        Go First      7 oct 2022  New Delhi      Mumbai          18:20   \n",
       "...           ...             ...        ...         ...            ...   \n",
       "1693      Vistara     12 oct 2022  Bangalore     Kolkata          11:30   \n",
       "1694    Air India     12 oct 2022  Bangalore     Kolkata          06:10   \n",
       "1695    Air India     12 oct 2022  Bangalore     Kolkata          11:15   \n",
       "1696    Air India     12 oct 2022  Bangalore     Kolkata          06:10   \n",
       "1697    Air India     12 oct 2022  Bangalore     Kolkata          10:00   \n",
       "\n",
       "     Arrival Time Duration Total stops   Price  \n",
       "0           15:20   2h 00m    Non Stop   5,950  \n",
       "1           17:20   2h 05m    Non Stop   5,950  \n",
       "2           09:10   2h 10m    Non Stop   5,950  \n",
       "3           09:35   2h 15m    Non Stop   5,950  \n",
       "4           20:35   2h 15m    Non Stop   5,950  \n",
       "...           ...      ...         ...     ...  \n",
       "1693        19:35   8h 05m   2 Stop(s)  20,074  \n",
       "1694        14:30   8h 20m      1 Stop  21,124  \n",
       "1695        19:10   7h 55m      1 Stop  23,224  \n",
       "1696        19:10  13h 00m      1 Stop  23,224  \n",
       "1697        19:10   9h 10m      1 Stop  23,749  \n",
       "\n",
       "[1698 rows x 9 columns]"
      ]
     },
     "execution_count": 157,
     "metadata": {},
     "output_type": "execute_result"
    }
   ],
   "source": [
    "flight = pd.DataFrame()\n",
    "flight['Airline Name'] = name\n",
    "flight['Date of journey'] = date\n",
    "flight['Source'] = src\n",
    "flight['Destination'] = dest\n",
    "flight['Departure Time'] = dtime\n",
    "flight['Arrival Time'] = atime\n",
    "flight['Duration'] = dur\n",
    "flight['Total stops'] = stop\n",
    "flight['Price'] = price\n",
    "flight"
   ]
  },
  {
   "cell_type": "code",
   "execution_count": 158,
   "metadata": {},
   "outputs": [],
   "source": [
    "# saving the excel\n",
    "flight.to_excel('flight_price_data.xlsx')"
   ]
  },
  {
   "cell_type": "code",
   "execution_count": 159,
   "metadata": {},
   "outputs": [],
   "source": [
    "driver.close()"
   ]
  },
  {
   "cell_type": "markdown",
   "metadata": {},
   "source": [
    " "
   ]
  }
 ],
 "metadata": {
  "colab": {
   "collapsed_sections": [],
   "name": "Web_Scraping_Assigment-2 .ipynb",
   "provenance": []
  },
  "kernelspec": {
   "display_name": "Python 3 (ipykernel)",
   "language": "python",
   "name": "python3"
  },
  "language_info": {
   "codemirror_mode": {
    "name": "ipython",
    "version": 3
   },
   "file_extension": ".py",
   "mimetype": "text/x-python",
   "name": "python",
   "nbconvert_exporter": "python",
   "pygments_lexer": "ipython3",
   "version": "3.7.11"
  }
 },
 "nbformat": 4,
 "nbformat_minor": 1
}
