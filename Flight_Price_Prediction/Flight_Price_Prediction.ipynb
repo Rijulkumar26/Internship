{
 "cells": [
  {
   "cell_type": "markdown",
   "id": "915543b7",
   "metadata": {},
   "source": [
    " "
   ]
  },
  {
   "cell_type": "code",
   "execution_count": 1,
   "id": "27d0058e",
   "metadata": {},
   "outputs": [],
   "source": [
    "import numpy as np\n",
    "import pandas as pd\n",
    "import seaborn as sns\n",
    "import matplotlib.pyplot as plt\n",
    "\n",
    "import warnings\n",
    "warnings.filterwarnings('ignore')"
   ]
  },
  {
   "cell_type": "markdown",
   "id": "2a7fa80b",
   "metadata": {},
   "source": [
    "## Data Cleaning and EDA:"
   ]
  },
  {
   "cell_type": "code",
   "execution_count": 2,
   "id": "87177326",
   "metadata": {},
   "outputs": [],
   "source": [
    "df = pd.read_excel('flight_price_data.xlsx',index_col=0)"
   ]
  },
  {
   "cell_type": "code",
   "execution_count": 3,
   "id": "e696383c",
   "metadata": {},
   "outputs": [
    {
     "data": {
      "text/html": [
       "<div>\n",
       "<style scoped>\n",
       "    .dataframe tbody tr th:only-of-type {\n",
       "        vertical-align: middle;\n",
       "    }\n",
       "\n",
       "    .dataframe tbody tr th {\n",
       "        vertical-align: top;\n",
       "    }\n",
       "\n",
       "    .dataframe thead th {\n",
       "        text-align: right;\n",
       "    }\n",
       "</style>\n",
       "<table border=\"1\" class=\"dataframe\">\n",
       "  <thead>\n",
       "    <tr style=\"text-align: right;\">\n",
       "      <th></th>\n",
       "      <th>Airline Name</th>\n",
       "      <th>Date of journey</th>\n",
       "      <th>Source</th>\n",
       "      <th>Destination</th>\n",
       "      <th>Departure Time</th>\n",
       "      <th>Arrival Time</th>\n",
       "      <th>Duration</th>\n",
       "      <th>Total stops</th>\n",
       "      <th>Price</th>\n",
       "    </tr>\n",
       "  </thead>\n",
       "  <tbody>\n",
       "    <tr>\n",
       "      <th>0</th>\n",
       "      <td>Go First</td>\n",
       "      <td>7 oct 2022</td>\n",
       "      <td>New Delhi</td>\n",
       "      <td>Mumbai</td>\n",
       "      <td>13:20</td>\n",
       "      <td>15:20</td>\n",
       "      <td>2h 00m</td>\n",
       "      <td>Non Stop</td>\n",
       "      <td>5,950</td>\n",
       "    </tr>\n",
       "    <tr>\n",
       "      <th>1</th>\n",
       "      <td>Go First</td>\n",
       "      <td>7 oct 2022</td>\n",
       "      <td>New Delhi</td>\n",
       "      <td>Mumbai</td>\n",
       "      <td>15:15</td>\n",
       "      <td>17:20</td>\n",
       "      <td>2h 05m</td>\n",
       "      <td>Non Stop</td>\n",
       "      <td>5,950</td>\n",
       "    </tr>\n",
       "    <tr>\n",
       "      <th>2</th>\n",
       "      <td>Go First</td>\n",
       "      <td>7 oct 2022</td>\n",
       "      <td>New Delhi</td>\n",
       "      <td>Mumbai</td>\n",
       "      <td>07:00</td>\n",
       "      <td>09:10</td>\n",
       "      <td>2h 10m</td>\n",
       "      <td>Non Stop</td>\n",
       "      <td>5,950</td>\n",
       "    </tr>\n",
       "    <tr>\n",
       "      <th>3</th>\n",
       "      <td>SpiceJet</td>\n",
       "      <td>7 oct 2022</td>\n",
       "      <td>New Delhi</td>\n",
       "      <td>Mumbai</td>\n",
       "      <td>07:20</td>\n",
       "      <td>09:35</td>\n",
       "      <td>2h 15m</td>\n",
       "      <td>Non Stop</td>\n",
       "      <td>5,950</td>\n",
       "    </tr>\n",
       "    <tr>\n",
       "      <th>4</th>\n",
       "      <td>Go First</td>\n",
       "      <td>7 oct 2022</td>\n",
       "      <td>New Delhi</td>\n",
       "      <td>Mumbai</td>\n",
       "      <td>18:20</td>\n",
       "      <td>20:35</td>\n",
       "      <td>2h 15m</td>\n",
       "      <td>Non Stop</td>\n",
       "      <td>5,950</td>\n",
       "    </tr>\n",
       "    <tr>\n",
       "      <th>...</th>\n",
       "      <td>...</td>\n",
       "      <td>...</td>\n",
       "      <td>...</td>\n",
       "      <td>...</td>\n",
       "      <td>...</td>\n",
       "      <td>...</td>\n",
       "      <td>...</td>\n",
       "      <td>...</td>\n",
       "      <td>...</td>\n",
       "    </tr>\n",
       "    <tr>\n",
       "      <th>1693</th>\n",
       "      <td>Vistara</td>\n",
       "      <td>12 oct 2022</td>\n",
       "      <td>Bangalore</td>\n",
       "      <td>Kolkata</td>\n",
       "      <td>11:30</td>\n",
       "      <td>19:35</td>\n",
       "      <td>8h 05m</td>\n",
       "      <td>2 Stop(s)</td>\n",
       "      <td>20,074</td>\n",
       "    </tr>\n",
       "    <tr>\n",
       "      <th>1694</th>\n",
       "      <td>Air India</td>\n",
       "      <td>12 oct 2022</td>\n",
       "      <td>Bangalore</td>\n",
       "      <td>Kolkata</td>\n",
       "      <td>06:10</td>\n",
       "      <td>14:30</td>\n",
       "      <td>8h 20m</td>\n",
       "      <td>1 Stop</td>\n",
       "      <td>21,124</td>\n",
       "    </tr>\n",
       "    <tr>\n",
       "      <th>1695</th>\n",
       "      <td>Air India</td>\n",
       "      <td>12 oct 2022</td>\n",
       "      <td>Bangalore</td>\n",
       "      <td>Kolkata</td>\n",
       "      <td>11:15</td>\n",
       "      <td>19:10</td>\n",
       "      <td>7h 55m</td>\n",
       "      <td>1 Stop</td>\n",
       "      <td>23,224</td>\n",
       "    </tr>\n",
       "    <tr>\n",
       "      <th>1696</th>\n",
       "      <td>Air India</td>\n",
       "      <td>12 oct 2022</td>\n",
       "      <td>Bangalore</td>\n",
       "      <td>Kolkata</td>\n",
       "      <td>06:10</td>\n",
       "      <td>19:10</td>\n",
       "      <td>13h 00m</td>\n",
       "      <td>1 Stop</td>\n",
       "      <td>23,224</td>\n",
       "    </tr>\n",
       "    <tr>\n",
       "      <th>1697</th>\n",
       "      <td>Air India</td>\n",
       "      <td>12 oct 2022</td>\n",
       "      <td>Bangalore</td>\n",
       "      <td>Kolkata</td>\n",
       "      <td>10:00</td>\n",
       "      <td>19:10</td>\n",
       "      <td>9h 10m</td>\n",
       "      <td>1 Stop</td>\n",
       "      <td>23,749</td>\n",
       "    </tr>\n",
       "  </tbody>\n",
       "</table>\n",
       "<p>1698 rows × 9 columns</p>\n",
       "</div>"
      ],
      "text/plain": [
       "     Airline Name Date of journey     Source Destination Departure Time  \\\n",
       "0        Go First      7 oct 2022  New Delhi      Mumbai          13:20   \n",
       "1        Go First      7 oct 2022  New Delhi      Mumbai          15:15   \n",
       "2        Go First      7 oct 2022  New Delhi      Mumbai          07:00   \n",
       "3        SpiceJet      7 oct 2022  New Delhi      Mumbai          07:20   \n",
       "4        Go First      7 oct 2022  New Delhi      Mumbai          18:20   \n",
       "...           ...             ...        ...         ...            ...   \n",
       "1693      Vistara     12 oct 2022  Bangalore     Kolkata          11:30   \n",
       "1694    Air India     12 oct 2022  Bangalore     Kolkata          06:10   \n",
       "1695    Air India     12 oct 2022  Bangalore     Kolkata          11:15   \n",
       "1696    Air India     12 oct 2022  Bangalore     Kolkata          06:10   \n",
       "1697    Air India     12 oct 2022  Bangalore     Kolkata          10:00   \n",
       "\n",
       "     Arrival Time Duration Total stops   Price  \n",
       "0           15:20   2h 00m    Non Stop   5,950  \n",
       "1           17:20   2h 05m    Non Stop   5,950  \n",
       "2           09:10   2h 10m    Non Stop   5,950  \n",
       "3           09:35   2h 15m    Non Stop   5,950  \n",
       "4           20:35   2h 15m    Non Stop   5,950  \n",
       "...           ...      ...         ...     ...  \n",
       "1693        19:35   8h 05m   2 Stop(s)  20,074  \n",
       "1694        14:30   8h 20m      1 Stop  21,124  \n",
       "1695        19:10   7h 55m      1 Stop  23,224  \n",
       "1696        19:10  13h 00m      1 Stop  23,224  \n",
       "1697        19:10   9h 10m      1 Stop  23,749  \n",
       "\n",
       "[1698 rows x 9 columns]"
      ]
     },
     "execution_count": 3,
     "metadata": {},
     "output_type": "execute_result"
    }
   ],
   "source": [
    "df"
   ]
  },
  {
   "cell_type": "code",
   "execution_count": 4,
   "id": "af467706",
   "metadata": {
    "scrolled": false
   },
   "outputs": [
    {
     "data": {
      "text/plain": [
       "Airline Name       object\n",
       "Date of journey    object\n",
       "Source             object\n",
       "Destination        object\n",
       "Departure Time     object\n",
       "Arrival Time       object\n",
       "Duration           object\n",
       "Total stops        object\n",
       "Price              object\n",
       "dtype: object"
      ]
     },
     "execution_count": 4,
     "metadata": {},
     "output_type": "execute_result"
    }
   ],
   "source": [
    "#Column Data type in dataframe \n",
    "df.dtypes"
   ]
  },
  {
   "cell_type": "code",
   "execution_count": 5,
   "id": "3c7c4ef4",
   "metadata": {},
   "outputs": [],
   "source": [
    "#Converting duration (in form of hour and min) to minute form\n",
    "df['Duration'] = [(float(j.replace('h','m').split(\"m\")[0]) * 60 + float(j.replace('h','m').split(\"m\")[1])) for j in df['Duration']]"
   ]
  },
  {
   "cell_type": "code",
   "execution_count": 6,
   "id": "44d53b40",
   "metadata": {},
   "outputs": [],
   "source": [
    "#Converting 'Departure Time' from object to datetime datatype\n",
    "df['Departure Time'] = pd.to_datetime(df['Departure Time'], format='%H:%M').dt.time"
   ]
  },
  {
   "cell_type": "code",
   "execution_count": 7,
   "id": "14c6a98f",
   "metadata": {},
   "outputs": [],
   "source": [
    "#Cleaning 'Arrival Time' and converting it from object to datetime datatype\n",
    "df['Arrival Time'] = [j.replace('+ 1 day','').strip() for j in df['Arrival Time']]\n",
    "df['Arrival Time'] = [j.replace('+ 2 days','').strip() for j in df['Arrival Time']]\n",
    "df['Arrival Time'] = pd.to_datetime(df['Arrival Time'], format='%H:%M').dt.time"
   ]
  },
  {
   "cell_type": "code",
   "execution_count": 8,
   "id": "8c8fa63c",
   "metadata": {},
   "outputs": [],
   "source": [
    "#Converting 'Price' from object to float datatype\n",
    "df['Price'] = [j.replace(',','') for j in df['Price']]\n",
    "df['Price'] = df['Price'].astype('float')"
   ]
  },
  {
   "cell_type": "code",
   "execution_count": 9,
   "id": "4ad2cf0f",
   "metadata": {},
   "outputs": [
    {
     "data": {
      "text/html": [
       "<div>\n",
       "<style scoped>\n",
       "    .dataframe tbody tr th:only-of-type {\n",
       "        vertical-align: middle;\n",
       "    }\n",
       "\n",
       "    .dataframe tbody tr th {\n",
       "        vertical-align: top;\n",
       "    }\n",
       "\n",
       "    .dataframe thead th {\n",
       "        text-align: right;\n",
       "    }\n",
       "</style>\n",
       "<table border=\"1\" class=\"dataframe\">\n",
       "  <thead>\n",
       "    <tr style=\"text-align: right;\">\n",
       "      <th></th>\n",
       "      <th>Airline Name</th>\n",
       "      <th>Date of journey</th>\n",
       "      <th>Source</th>\n",
       "      <th>Destination</th>\n",
       "      <th>Departure Time</th>\n",
       "      <th>Arrival Time</th>\n",
       "      <th>Duration</th>\n",
       "      <th>Total stops</th>\n",
       "      <th>Price</th>\n",
       "    </tr>\n",
       "  </thead>\n",
       "  <tbody>\n",
       "    <tr>\n",
       "      <th>0</th>\n",
       "      <td>Go First</td>\n",
       "      <td>7 oct 2022</td>\n",
       "      <td>New Delhi</td>\n",
       "      <td>Mumbai</td>\n",
       "      <td>13:20:00</td>\n",
       "      <td>15:20:00</td>\n",
       "      <td>120.0</td>\n",
       "      <td>Non Stop</td>\n",
       "      <td>5950.0</td>\n",
       "    </tr>\n",
       "    <tr>\n",
       "      <th>1</th>\n",
       "      <td>Go First</td>\n",
       "      <td>7 oct 2022</td>\n",
       "      <td>New Delhi</td>\n",
       "      <td>Mumbai</td>\n",
       "      <td>15:15:00</td>\n",
       "      <td>17:20:00</td>\n",
       "      <td>125.0</td>\n",
       "      <td>Non Stop</td>\n",
       "      <td>5950.0</td>\n",
       "    </tr>\n",
       "    <tr>\n",
       "      <th>2</th>\n",
       "      <td>Go First</td>\n",
       "      <td>7 oct 2022</td>\n",
       "      <td>New Delhi</td>\n",
       "      <td>Mumbai</td>\n",
       "      <td>07:00:00</td>\n",
       "      <td>09:10:00</td>\n",
       "      <td>130.0</td>\n",
       "      <td>Non Stop</td>\n",
       "      <td>5950.0</td>\n",
       "    </tr>\n",
       "    <tr>\n",
       "      <th>3</th>\n",
       "      <td>SpiceJet</td>\n",
       "      <td>7 oct 2022</td>\n",
       "      <td>New Delhi</td>\n",
       "      <td>Mumbai</td>\n",
       "      <td>07:20:00</td>\n",
       "      <td>09:35:00</td>\n",
       "      <td>135.0</td>\n",
       "      <td>Non Stop</td>\n",
       "      <td>5950.0</td>\n",
       "    </tr>\n",
       "    <tr>\n",
       "      <th>4</th>\n",
       "      <td>Go First</td>\n",
       "      <td>7 oct 2022</td>\n",
       "      <td>New Delhi</td>\n",
       "      <td>Mumbai</td>\n",
       "      <td>18:20:00</td>\n",
       "      <td>20:35:00</td>\n",
       "      <td>135.0</td>\n",
       "      <td>Non Stop</td>\n",
       "      <td>5950.0</td>\n",
       "    </tr>\n",
       "    <tr>\n",
       "      <th>...</th>\n",
       "      <td>...</td>\n",
       "      <td>...</td>\n",
       "      <td>...</td>\n",
       "      <td>...</td>\n",
       "      <td>...</td>\n",
       "      <td>...</td>\n",
       "      <td>...</td>\n",
       "      <td>...</td>\n",
       "      <td>...</td>\n",
       "    </tr>\n",
       "    <tr>\n",
       "      <th>1693</th>\n",
       "      <td>Vistara</td>\n",
       "      <td>12 oct 2022</td>\n",
       "      <td>Bangalore</td>\n",
       "      <td>Kolkata</td>\n",
       "      <td>11:30:00</td>\n",
       "      <td>19:35:00</td>\n",
       "      <td>485.0</td>\n",
       "      <td>2 Stop(s)</td>\n",
       "      <td>20074.0</td>\n",
       "    </tr>\n",
       "    <tr>\n",
       "      <th>1694</th>\n",
       "      <td>Air India</td>\n",
       "      <td>12 oct 2022</td>\n",
       "      <td>Bangalore</td>\n",
       "      <td>Kolkata</td>\n",
       "      <td>06:10:00</td>\n",
       "      <td>14:30:00</td>\n",
       "      <td>500.0</td>\n",
       "      <td>1 Stop</td>\n",
       "      <td>21124.0</td>\n",
       "    </tr>\n",
       "    <tr>\n",
       "      <th>1695</th>\n",
       "      <td>Air India</td>\n",
       "      <td>12 oct 2022</td>\n",
       "      <td>Bangalore</td>\n",
       "      <td>Kolkata</td>\n",
       "      <td>11:15:00</td>\n",
       "      <td>19:10:00</td>\n",
       "      <td>475.0</td>\n",
       "      <td>1 Stop</td>\n",
       "      <td>23224.0</td>\n",
       "    </tr>\n",
       "    <tr>\n",
       "      <th>1696</th>\n",
       "      <td>Air India</td>\n",
       "      <td>12 oct 2022</td>\n",
       "      <td>Bangalore</td>\n",
       "      <td>Kolkata</td>\n",
       "      <td>06:10:00</td>\n",
       "      <td>19:10:00</td>\n",
       "      <td>780.0</td>\n",
       "      <td>1 Stop</td>\n",
       "      <td>23224.0</td>\n",
       "    </tr>\n",
       "    <tr>\n",
       "      <th>1697</th>\n",
       "      <td>Air India</td>\n",
       "      <td>12 oct 2022</td>\n",
       "      <td>Bangalore</td>\n",
       "      <td>Kolkata</td>\n",
       "      <td>10:00:00</td>\n",
       "      <td>19:10:00</td>\n",
       "      <td>550.0</td>\n",
       "      <td>1 Stop</td>\n",
       "      <td>23749.0</td>\n",
       "    </tr>\n",
       "  </tbody>\n",
       "</table>\n",
       "<p>1698 rows × 9 columns</p>\n",
       "</div>"
      ],
      "text/plain": [
       "     Airline Name Date of journey     Source Destination Departure Time  \\\n",
       "0        Go First      7 oct 2022  New Delhi      Mumbai       13:20:00   \n",
       "1        Go First      7 oct 2022  New Delhi      Mumbai       15:15:00   \n",
       "2        Go First      7 oct 2022  New Delhi      Mumbai       07:00:00   \n",
       "3        SpiceJet      7 oct 2022  New Delhi      Mumbai       07:20:00   \n",
       "4        Go First      7 oct 2022  New Delhi      Mumbai       18:20:00   \n",
       "...           ...             ...        ...         ...            ...   \n",
       "1693      Vistara     12 oct 2022  Bangalore     Kolkata       11:30:00   \n",
       "1694    Air India     12 oct 2022  Bangalore     Kolkata       06:10:00   \n",
       "1695    Air India     12 oct 2022  Bangalore     Kolkata       11:15:00   \n",
       "1696    Air India     12 oct 2022  Bangalore     Kolkata       06:10:00   \n",
       "1697    Air India     12 oct 2022  Bangalore     Kolkata       10:00:00   \n",
       "\n",
       "     Arrival Time  Duration Total stops    Price  \n",
       "0        15:20:00     120.0    Non Stop   5950.0  \n",
       "1        17:20:00     125.0    Non Stop   5950.0  \n",
       "2        09:10:00     130.0    Non Stop   5950.0  \n",
       "3        09:35:00     135.0    Non Stop   5950.0  \n",
       "4        20:35:00     135.0    Non Stop   5950.0  \n",
       "...           ...       ...         ...      ...  \n",
       "1693     19:35:00     485.0   2 Stop(s)  20074.0  \n",
       "1694     14:30:00     500.0      1 Stop  21124.0  \n",
       "1695     19:10:00     475.0      1 Stop  23224.0  \n",
       "1696     19:10:00     780.0      1 Stop  23224.0  \n",
       "1697     19:10:00     550.0      1 Stop  23749.0  \n",
       "\n",
       "[1698 rows x 9 columns]"
      ]
     },
     "execution_count": 9,
     "metadata": {},
     "output_type": "execute_result"
    }
   ],
   "source": [
    "df"
   ]
  },
  {
   "cell_type": "markdown",
   "id": "c4691881",
   "metadata": {},
   "source": [
    "#### Point to note here is that all columns are not numeric"
   ]
  },
  {
   "cell_type": "code",
   "execution_count": 10,
   "id": "e6b59aa4",
   "metadata": {},
   "outputs": [
    {
     "data": {
      "text/html": [
       "<div>\n",
       "<style scoped>\n",
       "    .dataframe tbody tr th:only-of-type {\n",
       "        vertical-align: middle;\n",
       "    }\n",
       "\n",
       "    .dataframe tbody tr th {\n",
       "        vertical-align: top;\n",
       "    }\n",
       "\n",
       "    .dataframe thead th {\n",
       "        text-align: right;\n",
       "    }\n",
       "</style>\n",
       "<table border=\"1\" class=\"dataframe\">\n",
       "  <thead>\n",
       "    <tr style=\"text-align: right;\">\n",
       "      <th></th>\n",
       "      <th>Duration</th>\n",
       "      <th>Price</th>\n",
       "    </tr>\n",
       "  </thead>\n",
       "  <tbody>\n",
       "    <tr>\n",
       "      <th>count</th>\n",
       "      <td>1698.000000</td>\n",
       "      <td>1698.000000</td>\n",
       "    </tr>\n",
       "    <tr>\n",
       "      <th>mean</th>\n",
       "      <td>597.326266</td>\n",
       "      <td>12468.618375</td>\n",
       "    </tr>\n",
       "    <tr>\n",
       "      <th>std</th>\n",
       "      <td>480.445072</td>\n",
       "      <td>5897.449152</td>\n",
       "    </tr>\n",
       "    <tr>\n",
       "      <th>min</th>\n",
       "      <td>115.000000</td>\n",
       "      <td>5672.000000</td>\n",
       "    </tr>\n",
       "    <tr>\n",
       "      <th>25%</th>\n",
       "      <td>260.000000</td>\n",
       "      <td>8579.000000</td>\n",
       "    </tr>\n",
       "    <tr>\n",
       "      <th>50%</th>\n",
       "      <td>410.000000</td>\n",
       "      <td>10962.000000</td>\n",
       "    </tr>\n",
       "    <tr>\n",
       "      <th>75%</th>\n",
       "      <td>820.000000</td>\n",
       "      <td>15479.500000</td>\n",
       "    </tr>\n",
       "    <tr>\n",
       "      <th>max</th>\n",
       "      <td>2410.000000</td>\n",
       "      <td>36932.000000</td>\n",
       "    </tr>\n",
       "  </tbody>\n",
       "</table>\n",
       "</div>"
      ],
      "text/plain": [
       "          Duration         Price\n",
       "count  1698.000000   1698.000000\n",
       "mean    597.326266  12468.618375\n",
       "std     480.445072   5897.449152\n",
       "min     115.000000   5672.000000\n",
       "25%     260.000000   8579.000000\n",
       "50%     410.000000  10962.000000\n",
       "75%     820.000000  15479.500000\n",
       "max    2410.000000  36932.000000"
      ]
     },
     "execution_count": 10,
     "metadata": {},
     "output_type": "execute_result"
    }
   ],
   "source": [
    "#Statistical summary\n",
    "df.describe()"
   ]
  },
  {
   "cell_type": "code",
   "execution_count": 11,
   "id": "0f7fd935",
   "metadata": {},
   "outputs": [
    {
     "data": {
      "text/plain": [
       "(1698, 9)"
      ]
     },
     "execution_count": 11,
     "metadata": {},
     "output_type": "execute_result"
    }
   ],
   "source": [
    "df.shape"
   ]
  },
  {
   "cell_type": "markdown",
   "id": "dcaddd6e",
   "metadata": {},
   "source": [
    "#### We have 1698 data rows and 9 columns in the dataframe."
   ]
  },
  {
   "cell_type": "markdown",
   "id": "743b2d70",
   "metadata": {},
   "source": [
    "### Target variable is 'Price'"
   ]
  },
  {
   "cell_type": "markdown",
   "id": "e1ed5005",
   "metadata": {},
   "source": [
    " "
   ]
  },
  {
   "cell_type": "markdown",
   "id": "333c5942",
   "metadata": {},
   "source": [
    "### Checking Null values in Training Dataframe:"
   ]
  },
  {
   "cell_type": "code",
   "execution_count": 12,
   "id": "67358d4d",
   "metadata": {
    "scrolled": false
   },
   "outputs": [
    {
     "data": {
      "image/png": "[encoded data removed]",
      "text/plain": [
       "<Figure size 432x288 with 2 Axes>"
      ]
     },
     "metadata": {
      "needs_background": "light"
     },
     "output_type": "display_data"
    }
   ],
   "source": [
    "#Checking null values using heatmap\n",
    "sns.set(rc={'figure.figsize':(8,4)})\n",
    "sns.heatmap(df.isnull())\n",
    "plt.show()"
   ]
  },
  {
   "cell_type": "code",
   "execution_count": 13,
   "id": "b1c506f6",
   "metadata": {},
   "outputs": [
    {
     "data": {
      "text/plain": [
       "0"
      ]
     },
     "execution_count": 13,
     "metadata": {},
     "output_type": "execute_result"
    }
   ],
   "source": [
    "#Total number of null values in complete dataset\n",
    "df.isnull().sum().sum()"
   ]
  },
  {
   "cell_type": "code",
   "execution_count": 14,
   "id": "d0d6fa42",
   "metadata": {
    "scrolled": false
   },
   "outputs": [
    {
     "data": {
      "text/plain": [
       "Airline Name       0\n",
       "Date of journey    0\n",
       "Source             0\n",
       "Destination        0\n",
       "Departure Time     0\n",
       "Arrival Time       0\n",
       "Duration           0\n",
       "Total stops        0\n",
       "Price              0\n",
       "dtype: int64"
      ]
     },
     "execution_count": 14,
     "metadata": {},
     "output_type": "execute_result"
    }
   ],
   "source": [
    "#number of null values in each column\n",
    "df.isnull().sum()"
   ]
  },
  {
   "cell_type": "markdown",
   "id": "8fc78af8",
   "metadata": {},
   "source": [
    "#### As we can see there are no NULL values in dataframe"
   ]
  },
  {
   "cell_type": "markdown",
   "id": "bc9105fc",
   "metadata": {},
   "source": [
    "### Histogram Plots :"
   ]
  },
  {
   "cell_type": "code",
   "execution_count": 15,
   "id": "a7a9e672",
   "metadata": {
    "scrolled": true
   },
   "outputs": [],
   "source": [
    "#Making dataframe of nominal data\n",
    "df_visualisation_nominal = df[['Airline Name','Date of journey','Source','Destination','Total stops']].copy()"
   ]
  },
  {
   "cell_type": "code",
   "execution_count": 16,
   "id": "4a07a7d9",
   "metadata": {},
   "outputs": [
    {
     "name": "stdout",
     "output_type": "stream",
     "text": [
      "IndiGo       514\n",
      "Air India    442\n",
      "Vistara      418\n",
      "Air Asia     143\n",
      "Go First     131\n",
      "SpiceJet      50\n",
      "Name: Airline Name, dtype: int64\n"
     ]
    },
    {
     "data": {
      "image/png": "[encoded data removed]",
      "text/plain": [
       "<Figure size 432x288 with 1 Axes>"
      ]
     },
     "metadata": {
      "needs_background": "light"
     },
     "output_type": "display_data"
    }
   ],
   "source": [
    "#Visualisation of Airline Name data\n",
    "ax = sns.countplot(x='Airline Name',data=df_visualisation_nominal)\n",
    "print(df_visualisation_nominal['Airline Name'].value_counts())"
   ]
  },
  {
   "cell_type": "markdown",
   "id": "cd947733",
   "metadata": {},
   "source": [
    "**As we can see most flights are of Indigo airlines between the source and destinations**"
   ]
  },
  {
   "cell_type": "code",
   "execution_count": 17,
   "id": "1bc54a9b",
   "metadata": {},
   "outputs": [
    {
     "name": "stdout",
     "output_type": "stream",
     "text": [
      "7 oct 2022     291\n",
      "10 oct 2022    283\n",
      "12 oct 2022    282\n",
      "8 oct 2022     281\n",
      "11 oct 2022    281\n",
      "9 oct 2022     280\n",
      "Name: Date of journey, dtype: int64\n"
     ]
    },
    {
     "data": {
      "image/png": "[encoded data removed]",
      "text/plain": [
       "<Figure size 432x288 with 1 Axes>"
      ]
     },
     "metadata": {
      "needs_background": "light"
     },
     "output_type": "display_data"
    }
   ],
   "source": [
    "#Visualisation of Date of journey data\n",
    "ax = sns.countplot(x='Date of journey',data=df_visualisation_nominal)\n",
    "print(df_visualisation_nominal['Date of journey'].value_counts())"
   ]
  },
  {
   "cell_type": "markdown",
   "id": "0763e150",
   "metadata": {},
   "source": [
    "**As we can see that there are almost equal number of flights every day**"
   ]
  },
  {
   "cell_type": "code",
   "execution_count": 18,
   "id": "aa37ab81",
   "metadata": {},
   "outputs": [
    {
     "name": "stdout",
     "output_type": "stream",
     "text": [
      "New Delhi    955\n",
      "Bangalore    743\n",
      "Name: Source, dtype: int64\n"
     ]
    },
    {
     "data": {
      "image/png": "[encoded data removed]",
      "text/plain": [
       "<Figure size 576x288 with 1 Axes>"
      ]
     },
     "metadata": {},
     "output_type": "display_data"
    }
   ],
   "source": [
    "#Visualisation of Source data\n",
    "sns.set(rc={'figure.figsize':(8,4)})\n",
    "ax = sns.countplot(x='Source',data=df_visualisation_nominal)\n",
    "print(df_visualisation_nominal['Source'].value_counts())"
   ]
  },
  {
   "cell_type": "markdown",
   "id": "f66420e3",
   "metadata": {},
   "source": [
    "**There are more flights from Delhi to Mumbai than Bangalore to Kolkata from 7 oct 2022 to 12 oct 2022**"
   ]
  },
  {
   "cell_type": "code",
   "execution_count": 19,
   "id": "1d13298d",
   "metadata": {},
   "outputs": [
    {
     "name": "stdout",
     "output_type": "stream",
     "text": [
      "Mumbai     955\n",
      "Kolkata    743\n",
      "Name: Destination, dtype: int64\n"
     ]
    },
    {
     "data": {
      "image/png": "[encoded data removed]",
      "text/plain": [
       "<Figure size 576x288 with 1 Axes>"
      ]
     },
     "metadata": {},
     "output_type": "display_data"
    }
   ],
   "source": [
    "#Visualisation of Destination data\n",
    "ax = sns.countplot(x='Destination',data=df_visualisation_nominal)\n",
    "print(df_visualisation_nominal['Destination'].value_counts())"
   ]
  },
  {
   "cell_type": "markdown",
   "id": "1e0ca768",
   "metadata": {},
   "source": [
    "**There are more flights to Delhi to Mumbai than Bangalore to Kolkata from 7 oct 2022 to 12 oct 2022**"
   ]
  },
  {
   "cell_type": "code",
   "execution_count": 20,
   "id": "ef429bf4",
   "metadata": {},
   "outputs": [
    {
     "name": "stdout",
     "output_type": "stream",
     "text": [
      "1 Stop       1158\n",
      "Non Stop      398\n",
      "2 Stop(s)     113\n",
      "3 Stop(s)      29\n",
      "Name: Total stops, dtype: int64\n"
     ]
    },
    {
     "data": {
      "image/png": "[encoded data removed]",
      "text/plain": [
       "<Figure size 576x288 with 1 Axes>"
      ]
     },
     "metadata": {},
     "output_type": "display_data"
    }
   ],
   "source": [
    "#Visualisation of Total stops data\n",
    "ax = sns.countplot(x='Total stops',data=df_visualisation_nominal)\n",
    "print(df_visualisation_nominal['Total stops'].value_counts())"
   ]
  },
  {
   "cell_type": "markdown",
   "id": "fd27a26b",
   "metadata": {},
   "source": [
    "**Most are 1 stop flights and least are 3 stop flights.**"
   ]
  },
  {
   "cell_type": "markdown",
   "id": "dc2a4103",
   "metadata": {},
   "source": [
    "### Density Plots:"
   ]
  },
  {
   "cell_type": "code",
   "execution_count": 21,
   "id": "472ef4c9",
   "metadata": {
    "scrolled": true
   },
   "outputs": [],
   "source": [
    "#Making dataframe of Continous data\n",
    "df_visualisation_continous = df[['Duration','Price']].copy()"
   ]
  },
  {
   "cell_type": "code",
   "execution_count": 22,
   "id": "39e6676b",
   "metadata": {},
   "outputs": [
    {
     "data": {
      "text/plain": [
       "<AxesSubplot:xlabel='Duration', ylabel='Density'>"
      ]
     },
     "execution_count": 22,
     "metadata": {},
     "output_type": "execute_result"
    },
    {
     "data": {
      "image/png": "[encoded data removed]",
      "text/plain": [
       "<Figure size 576x288 with 1 Axes>"
      ]
     },
     "metadata": {},
     "output_type": "display_data"
    }
   ],
   "source": [
    "#Visualisation of Duration data\n",
    "sns.distplot(df_visualisation_continous['Duration'])"
   ]
  },
  {
   "cell_type": "markdown",
   "id": "9cb19683",
   "metadata": {},
   "source": [
    "**Above graph looks skewed right with mode around 250 minutes**"
   ]
  },
  {
   "cell_type": "code",
   "execution_count": 23,
   "id": "3d73b505",
   "metadata": {},
   "outputs": [
    {
     "data": {
      "text/plain": [
       "<AxesSubplot:xlabel='Price', ylabel='Density'>"
      ]
     },
     "execution_count": 23,
     "metadata": {},
     "output_type": "execute_result"
    },
    {
     "data": {
      "image/png": "[encoded data removed]",
      "text/plain": [
       "<Figure size 576x288 with 1 Axes>"
      ]
     },
     "metadata": {},
     "output_type": "display_data"
    }
   ],
   "source": [
    "#Visualisation of Price data\n",
    "sns.distplot(df_visualisation_continous['Price'])"
   ]
  },
  {
   "cell_type": "markdown",
   "id": "01becabf",
   "metadata": {},
   "source": [
    "**Above graph looks skewed right with mode around ₹5,000**"
   ]
  },
  {
   "cell_type": "markdown",
   "id": "51f99219",
   "metadata": {},
   "source": [
    "### Some important plots:"
   ]
  },
  {
   "cell_type": "code",
   "execution_count": 24,
   "id": "cec79053",
   "metadata": {},
   "outputs": [
    {
     "data": {
      "text/plain": [
       "<AxesSubplot:xlabel='Date of journey', ylabel='Price'>"
      ]
     },
     "execution_count": 24,
     "metadata": {},
     "output_type": "execute_result"
    },
    {
     "data": {
      "image/png": "[encoded data removed]",
      "text/plain": [
       "<Figure size 576x288 with 1 Axes>"
      ]
     },
     "metadata": {},
     "output_type": "display_data"
    }
   ],
   "source": [
    "#Plotting Price vs Date of journey\n",
    "sns.lineplot(x = df['Date of journey'], y = df['Price'], data = df)"
   ]
  },
  {
   "cell_type": "markdown",
   "id": "9cbaf150",
   "metadata": {},
   "source": [
    "**As we can see that more the difference between date of booking and date of journey, lesser will be the flight price**"
   ]
  },
  {
   "cell_type": "code",
   "execution_count": 25,
   "id": "50ada783",
   "metadata": {},
   "outputs": [
    {
     "data": {
      "text/plain": [
       "<AxesSubplot:xlabel='Airline Name', ylabel='Price'>"
      ]
     },
     "execution_count": 25,
     "metadata": {},
     "output_type": "execute_result"
    },
    {
     "data": {
      "image/png": "[encoded data removed]",
      "text/plain": [
       "<Figure size 576x288 with 1 Axes>"
      ]
     },
     "metadata": {},
     "output_type": "display_data"
    }
   ],
   "source": [
    "#Plotting Price vs Airline Name\n",
    "sns.lineplot(x = df['Airline Name'], y = df['Price'], data = df)"
   ]
  },
  {
   "cell_type": "markdown",
   "id": "8038f857",
   "metadata": {},
   "source": [
    "**As we can see cheapest flight is Spicejet and most expensive is Vistara**"
   ]
  },
  {
   "cell_type": "code",
   "execution_count": 26,
   "id": "47b675c7",
   "metadata": {},
   "outputs": [
    {
     "data": {
      "text/plain": [
       "<AxesSubplot:xlabel='Departure Time', ylabel='Price'>"
      ]
     },
     "execution_count": 26,
     "metadata": {},
     "output_type": "execute_result"
    },
    {
     "data": {
      "image/png": "[encoded data removed]",
      "text/plain": [
       "<Figure size 576x288 with 1 Axes>"
      ]
     },
     "metadata": {},
     "output_type": "display_data"
    }
   ],
   "source": [
    "# Creating df1 with departure time in ascending order and then plotting it with price\n",
    "df1 = df.sort_values(by=['Departure Time'], ascending=True)\n",
    "sns.barplot(x = df1['Departure Time'], y = df1['Price'],data = df1)"
   ]
  },
  {
   "cell_type": "code",
   "execution_count": 27,
   "id": "dbac6dcc",
   "metadata": {},
   "outputs": [
    {
     "data": {
      "text/html": [
       "<div>\n",
       "<style scoped>\n",
       "    .dataframe tbody tr th:only-of-type {\n",
       "        vertical-align: middle;\n",
       "    }\n",
       "\n",
       "    .dataframe tbody tr th {\n",
       "        vertical-align: top;\n",
       "    }\n",
       "\n",
       "    .dataframe thead th {\n",
       "        text-align: right;\n",
       "    }\n",
       "</style>\n",
       "<table border=\"1\" class=\"dataframe\">\n",
       "  <thead>\n",
       "    <tr style=\"text-align: right;\">\n",
       "      <th></th>\n",
       "      <th>Airline Name</th>\n",
       "      <th>Date of journey</th>\n",
       "      <th>Source</th>\n",
       "      <th>Destination</th>\n",
       "      <th>Departure Time</th>\n",
       "      <th>Arrival Time</th>\n",
       "      <th>Duration</th>\n",
       "      <th>Total stops</th>\n",
       "      <th>Price</th>\n",
       "    </tr>\n",
       "  </thead>\n",
       "  <tbody>\n",
       "    <tr>\n",
       "      <th>240</th>\n",
       "      <td>IndiGo</td>\n",
       "      <td>8 oct 2022</td>\n",
       "      <td>New Delhi</td>\n",
       "      <td>Mumbai</td>\n",
       "      <td>00:15:00</td>\n",
       "      <td>05:30:00</td>\n",
       "      <td>315.0</td>\n",
       "      <td>1 Stop</td>\n",
       "      <td>9393.0</td>\n",
       "    </tr>\n",
       "    <tr>\n",
       "      <th>543</th>\n",
       "      <td>IndiGo</td>\n",
       "      <td>10 oct 2022</td>\n",
       "      <td>New Delhi</td>\n",
       "      <td>Mumbai</td>\n",
       "      <td>00:15:00</td>\n",
       "      <td>05:30:00</td>\n",
       "      <td>315.0</td>\n",
       "      <td>1 Stop</td>\n",
       "      <td>7805.0</td>\n",
       "    </tr>\n",
       "    <tr>\n",
       "      <th>370</th>\n",
       "      <td>IndiGo</td>\n",
       "      <td>9 oct 2022</td>\n",
       "      <td>New Delhi</td>\n",
       "      <td>Mumbai</td>\n",
       "      <td>00:15:00</td>\n",
       "      <td>05:30:00</td>\n",
       "      <td>315.0</td>\n",
       "      <td>1 Stop</td>\n",
       "      <td>7805.0</td>\n",
       "    </tr>\n",
       "    <tr>\n",
       "      <th>860</th>\n",
       "      <td>IndiGo</td>\n",
       "      <td>12 oct 2022</td>\n",
       "      <td>New Delhi</td>\n",
       "      <td>Mumbai</td>\n",
       "      <td>00:15:00</td>\n",
       "      <td>05:30:00</td>\n",
       "      <td>315.0</td>\n",
       "      <td>1 Stop</td>\n",
       "      <td>7913.0</td>\n",
       "    </tr>\n",
       "    <tr>\n",
       "      <th>701</th>\n",
       "      <td>IndiGo</td>\n",
       "      <td>11 oct 2022</td>\n",
       "      <td>New Delhi</td>\n",
       "      <td>Mumbai</td>\n",
       "      <td>00:15:00</td>\n",
       "      <td>05:30:00</td>\n",
       "      <td>315.0</td>\n",
       "      <td>1 Stop</td>\n",
       "      <td>7913.0</td>\n",
       "    </tr>\n",
       "    <tr>\n",
       "      <th>...</th>\n",
       "      <td>...</td>\n",
       "      <td>...</td>\n",
       "      <td>...</td>\n",
       "      <td>...</td>\n",
       "      <td>...</td>\n",
       "      <td>...</td>\n",
       "      <td>...</td>\n",
       "      <td>...</td>\n",
       "      <td>...</td>\n",
       "    </tr>\n",
       "    <tr>\n",
       "      <th>813</th>\n",
       "      <td>IndiGo</td>\n",
       "      <td>12 oct 2022</td>\n",
       "      <td>New Delhi</td>\n",
       "      <td>Mumbai</td>\n",
       "      <td>23:35:00</td>\n",
       "      <td>01:40:00</td>\n",
       "      <td>125.0</td>\n",
       "      <td>Non Stop</td>\n",
       "      <td>5954.0</td>\n",
       "    </tr>\n",
       "    <tr>\n",
       "      <th>495</th>\n",
       "      <td>IndiGo</td>\n",
       "      <td>10 oct 2022</td>\n",
       "      <td>New Delhi</td>\n",
       "      <td>Mumbai</td>\n",
       "      <td>23:35:00</td>\n",
       "      <td>01:40:00</td>\n",
       "      <td>125.0</td>\n",
       "      <td>Non Stop</td>\n",
       "      <td>5954.0</td>\n",
       "    </tr>\n",
       "    <tr>\n",
       "      <th>1475</th>\n",
       "      <td>Air Asia</td>\n",
       "      <td>11 oct 2022</td>\n",
       "      <td>Bangalore</td>\n",
       "      <td>Kolkata</td>\n",
       "      <td>23:35:00</td>\n",
       "      <td>02:05:00</td>\n",
       "      <td>150.0</td>\n",
       "      <td>Non Stop</td>\n",
       "      <td>8839.0</td>\n",
       "    </tr>\n",
       "    <tr>\n",
       "      <th>968</th>\n",
       "      <td>Air Asia</td>\n",
       "      <td>7 oct 2022</td>\n",
       "      <td>Bangalore</td>\n",
       "      <td>Kolkata</td>\n",
       "      <td>23:35:00</td>\n",
       "      <td>02:05:00</td>\n",
       "      <td>150.0</td>\n",
       "      <td>Non Stop</td>\n",
       "      <td>8839.0</td>\n",
       "    </tr>\n",
       "    <tr>\n",
       "      <th>1203</th>\n",
       "      <td>Air Asia</td>\n",
       "      <td>9 oct 2022</td>\n",
       "      <td>Bangalore</td>\n",
       "      <td>Kolkata</td>\n",
       "      <td>23:35:00</td>\n",
       "      <td>02:05:00</td>\n",
       "      <td>150.0</td>\n",
       "      <td>Non Stop</td>\n",
       "      <td>8839.0</td>\n",
       "    </tr>\n",
       "  </tbody>\n",
       "</table>\n",
       "<p>1698 rows × 9 columns</p>\n",
       "</div>"
      ],
      "text/plain": [
       "     Airline Name Date of journey     Source Destination Departure Time  \\\n",
       "240        IndiGo      8 oct 2022  New Delhi      Mumbai       00:15:00   \n",
       "543        IndiGo     10 oct 2022  New Delhi      Mumbai       00:15:00   \n",
       "370        IndiGo      9 oct 2022  New Delhi      Mumbai       00:15:00   \n",
       "860        IndiGo     12 oct 2022  New Delhi      Mumbai       00:15:00   \n",
       "701        IndiGo     11 oct 2022  New Delhi      Mumbai       00:15:00   \n",
       "...           ...             ...        ...         ...            ...   \n",
       "813        IndiGo     12 oct 2022  New Delhi      Mumbai       23:35:00   \n",
       "495        IndiGo     10 oct 2022  New Delhi      Mumbai       23:35:00   \n",
       "1475     Air Asia     11 oct 2022  Bangalore     Kolkata       23:35:00   \n",
       "968      Air Asia      7 oct 2022  Bangalore     Kolkata       23:35:00   \n",
       "1203     Air Asia      9 oct 2022  Bangalore     Kolkata       23:35:00   \n",
       "\n",
       "     Arrival Time  Duration Total stops   Price  \n",
       "240      05:30:00     315.0      1 Stop  9393.0  \n",
       "543      05:30:00     315.0      1 Stop  7805.0  \n",
       "370      05:30:00     315.0      1 Stop  7805.0  \n",
       "860      05:30:00     315.0      1 Stop  7913.0  \n",
       "701      05:30:00     315.0      1 Stop  7913.0  \n",
       "...           ...       ...         ...     ...  \n",
       "813      01:40:00     125.0    Non Stop  5954.0  \n",
       "495      01:40:00     125.0    Non Stop  5954.0  \n",
       "1475     02:05:00     150.0    Non Stop  8839.0  \n",
       "968      02:05:00     150.0    Non Stop  8839.0  \n",
       "1203     02:05:00     150.0    Non Stop  8839.0  \n",
       "\n",
       "[1698 rows x 9 columns]"
      ]
     },
     "execution_count": 27,
     "metadata": {},
     "output_type": "execute_result"
    }
   ],
   "source": [
    "df1"
   ]
  },
  {
   "cell_type": "markdown",
   "id": "7a9fe3d1",
   "metadata": {},
   "source": [
    "**As we can see that prices vary every hour throughout the day.**"
   ]
  },
  {
   "cell_type": "markdown",
   "id": "036890e5",
   "metadata": {},
   "source": [
    "#### Visualisation is completed"
   ]
  },
  {
   "cell_type": "markdown",
   "id": "699cd2dd",
   "metadata": {},
   "source": [
    "  "
   ]
  },
  {
   "cell_type": "markdown",
   "id": "0cecece1",
   "metadata": {},
   "source": [
    "### Encoding of Both training and testing Dataframe(Converting String to numeric):"
   ]
  },
  {
   "cell_type": "code",
   "execution_count": 28,
   "id": "bfed3db0",
   "metadata": {},
   "outputs": [],
   "source": [
    "from sklearn.preprocessing import OrdinalEncoder\n",
    "enc = OrdinalEncoder()"
   ]
  },
  {
   "cell_type": "code",
   "execution_count": 29,
   "id": "e6ede536",
   "metadata": {},
   "outputs": [],
   "source": [
    "for i in df.columns:\n",
    "    if df[i].dtypes == \"object\":\n",
    "        df[i] = enc.fit_transform(df[i].values.reshape(-1,1))"
   ]
  },
  {
   "cell_type": "code",
   "execution_count": 30,
   "id": "5ad9afdb",
   "metadata": {},
   "outputs": [
    {
     "data": {
      "text/html": [
       "<div>\n",
       "<style scoped>\n",
       "    .dataframe tbody tr th:only-of-type {\n",
       "        vertical-align: middle;\n",
       "    }\n",
       "\n",
       "    .dataframe tbody tr th {\n",
       "        vertical-align: top;\n",
       "    }\n",
       "\n",
       "    .dataframe thead th {\n",
       "        text-align: right;\n",
       "    }\n",
       "</style>\n",
       "<table border=\"1\" class=\"dataframe\">\n",
       "  <thead>\n",
       "    <tr style=\"text-align: right;\">\n",
       "      <th></th>\n",
       "      <th>Airline Name</th>\n",
       "      <th>Date of journey</th>\n",
       "      <th>Source</th>\n",
       "      <th>Destination</th>\n",
       "      <th>Departure Time</th>\n",
       "      <th>Arrival Time</th>\n",
       "      <th>Duration</th>\n",
       "      <th>Total stops</th>\n",
       "      <th>Price</th>\n",
       "    </tr>\n",
       "  </thead>\n",
       "  <tbody>\n",
       "    <tr>\n",
       "      <th>0</th>\n",
       "      <td>2.0</td>\n",
       "      <td>3.0</td>\n",
       "      <td>1.0</td>\n",
       "      <td>1.0</td>\n",
       "      <td>73.0</td>\n",
       "      <td>84.0</td>\n",
       "      <td>120.0</td>\n",
       "      <td>3.0</td>\n",
       "      <td>5950.0</td>\n",
       "    </tr>\n",
       "    <tr>\n",
       "      <th>1</th>\n",
       "      <td>2.0</td>\n",
       "      <td>3.0</td>\n",
       "      <td>1.0</td>\n",
       "      <td>1.0</td>\n",
       "      <td>89.0</td>\n",
       "      <td>100.0</td>\n",
       "      <td>125.0</td>\n",
       "      <td>3.0</td>\n",
       "      <td>5950.0</td>\n",
       "    </tr>\n",
       "    <tr>\n",
       "      <th>2</th>\n",
       "      <td>2.0</td>\n",
       "      <td>3.0</td>\n",
       "      <td>1.0</td>\n",
       "      <td>1.0</td>\n",
       "      <td>27.0</td>\n",
       "      <td>39.0</td>\n",
       "      <td>130.0</td>\n",
       "      <td>3.0</td>\n",
       "      <td>5950.0</td>\n",
       "    </tr>\n",
       "    <tr>\n",
       "      <th>3</th>\n",
       "      <td>4.0</td>\n",
       "      <td>3.0</td>\n",
       "      <td>1.0</td>\n",
       "      <td>1.0</td>\n",
       "      <td>30.0</td>\n",
       "      <td>41.0</td>\n",
       "      <td>135.0</td>\n",
       "      <td>3.0</td>\n",
       "      <td>5950.0</td>\n",
       "    </tr>\n",
       "    <tr>\n",
       "      <th>4</th>\n",
       "      <td>2.0</td>\n",
       "      <td>3.0</td>\n",
       "      <td>1.0</td>\n",
       "      <td>1.0</td>\n",
       "      <td>114.0</td>\n",
       "      <td>131.0</td>\n",
       "      <td>135.0</td>\n",
       "      <td>3.0</td>\n",
       "      <td>5950.0</td>\n",
       "    </tr>\n",
       "    <tr>\n",
       "      <th>...</th>\n",
       "      <td>...</td>\n",
       "      <td>...</td>\n",
       "      <td>...</td>\n",
       "      <td>...</td>\n",
       "      <td>...</td>\n",
       "      <td>...</td>\n",
       "      <td>...</td>\n",
       "      <td>...</td>\n",
       "      <td>...</td>\n",
       "    </tr>\n",
       "    <tr>\n",
       "      <th>1693</th>\n",
       "      <td>5.0</td>\n",
       "      <td>2.0</td>\n",
       "      <td>0.0</td>\n",
       "      <td>0.0</td>\n",
       "      <td>61.0</td>\n",
       "      <td>121.0</td>\n",
       "      <td>485.0</td>\n",
       "      <td>1.0</td>\n",
       "      <td>20074.0</td>\n",
       "    </tr>\n",
       "    <tr>\n",
       "      <th>1694</th>\n",
       "      <td>1.0</td>\n",
       "      <td>2.0</td>\n",
       "      <td>0.0</td>\n",
       "      <td>0.0</td>\n",
       "      <td>18.0</td>\n",
       "      <td>79.0</td>\n",
       "      <td>500.0</td>\n",
       "      <td>0.0</td>\n",
       "      <td>21124.0</td>\n",
       "    </tr>\n",
       "    <tr>\n",
       "      <th>1695</th>\n",
       "      <td>1.0</td>\n",
       "      <td>2.0</td>\n",
       "      <td>0.0</td>\n",
       "      <td>0.0</td>\n",
       "      <td>60.0</td>\n",
       "      <td>117.0</td>\n",
       "      <td>475.0</td>\n",
       "      <td>0.0</td>\n",
       "      <td>23224.0</td>\n",
       "    </tr>\n",
       "    <tr>\n",
       "      <th>1696</th>\n",
       "      <td>1.0</td>\n",
       "      <td>2.0</td>\n",
       "      <td>0.0</td>\n",
       "      <td>0.0</td>\n",
       "      <td>18.0</td>\n",
       "      <td>117.0</td>\n",
       "      <td>780.0</td>\n",
       "      <td>0.0</td>\n",
       "      <td>23224.0</td>\n",
       "    </tr>\n",
       "    <tr>\n",
       "      <th>1697</th>\n",
       "      <td>1.0</td>\n",
       "      <td>2.0</td>\n",
       "      <td>0.0</td>\n",
       "      <td>0.0</td>\n",
       "      <td>52.0</td>\n",
       "      <td>117.0</td>\n",
       "      <td>550.0</td>\n",
       "      <td>0.0</td>\n",
       "      <td>23749.0</td>\n",
       "    </tr>\n",
       "  </tbody>\n",
       "</table>\n",
       "<p>1698 rows × 9 columns</p>\n",
       "</div>"
      ],
      "text/plain": [
       "      Airline Name  Date of journey  Source  Destination  Departure Time  \\\n",
       "0              2.0              3.0     1.0          1.0            73.0   \n",
       "1              2.0              3.0     1.0          1.0            89.0   \n",
       "2              2.0              3.0     1.0          1.0            27.0   \n",
       "3              4.0              3.0     1.0          1.0            30.0   \n",
       "4              2.0              3.0     1.0          1.0           114.0   \n",
       "...            ...              ...     ...          ...             ...   \n",
       "1693           5.0              2.0     0.0          0.0            61.0   \n",
       "1694           1.0              2.0     0.0          0.0            18.0   \n",
       "1695           1.0              2.0     0.0          0.0            60.0   \n",
       "1696           1.0              2.0     0.0          0.0            18.0   \n",
       "1697           1.0              2.0     0.0          0.0            52.0   \n",
       "\n",
       "      Arrival Time  Duration  Total stops    Price  \n",
       "0             84.0     120.0          3.0   5950.0  \n",
       "1            100.0     125.0          3.0   5950.0  \n",
       "2             39.0     130.0          3.0   5950.0  \n",
       "3             41.0     135.0          3.0   5950.0  \n",
       "4            131.0     135.0          3.0   5950.0  \n",
       "...            ...       ...          ...      ...  \n",
       "1693         121.0     485.0          1.0  20074.0  \n",
       "1694          79.0     500.0          0.0  21124.0  \n",
       "1695         117.0     475.0          0.0  23224.0  \n",
       "1696         117.0     780.0          0.0  23224.0  \n",
       "1697         117.0     550.0          0.0  23749.0  \n",
       "\n",
       "[1698 rows x 9 columns]"
      ]
     },
     "execution_count": 30,
     "metadata": {},
     "output_type": "execute_result"
    }
   ],
   "source": [
    "df"
   ]
  },
  {
   "cell_type": "markdown",
   "id": "0710968f",
   "metadata": {},
   "source": [
    "  "
   ]
  },
  {
   "cell_type": "markdown",
   "id": "3604287d",
   "metadata": {},
   "source": [
    "### Correlations:"
   ]
  },
  {
   "cell_type": "code",
   "execution_count": 31,
   "id": "594c34e9",
   "metadata": {
    "scrolled": false
   },
   "outputs": [
    {
     "data": {
      "text/plain": [
       "<AxesSubplot:>"
      ]
     },
     "execution_count": 31,
     "metadata": {},
     "output_type": "execute_result"
    },
    {
     "data": {
      "image/png": "[encoded data removed]",
      "text/plain": [
       "<Figure size 1584x504 with 2 Axes>"
      ]
     },
     "metadata": {},
     "output_type": "display_data"
    }
   ],
   "source": [
    "plt.figure(figsize = (22,7))\n",
    "sns.heatmap(df.describe(),annot = True, linewidths=0.1)"
   ]
  },
  {
   "cell_type": "code",
   "execution_count": 32,
   "id": "a6a619e3",
   "metadata": {
    "scrolled": true
   },
   "outputs": [
    {
     "data": {
      "text/html": [
       "<div>\n",
       "<style scoped>\n",
       "    .dataframe tbody tr th:only-of-type {\n",
       "        vertical-align: middle;\n",
       "    }\n",
       "\n",
       "    .dataframe tbody tr th {\n",
       "        vertical-align: top;\n",
       "    }\n",
       "\n",
       "    .dataframe thead th {\n",
       "        text-align: right;\n",
       "    }\n",
       "</style>\n",
       "<table border=\"1\" class=\"dataframe\">\n",
       "  <thead>\n",
       "    <tr style=\"text-align: right;\">\n",
       "      <th></th>\n",
       "      <th>Airline Name</th>\n",
       "      <th>Date of journey</th>\n",
       "      <th>Source</th>\n",
       "      <th>Destination</th>\n",
       "      <th>Departure Time</th>\n",
       "      <th>Arrival Time</th>\n",
       "      <th>Duration</th>\n",
       "      <th>Total stops</th>\n",
       "      <th>Price</th>\n",
       "    </tr>\n",
       "  </thead>\n",
       "  <tbody>\n",
       "    <tr>\n",
       "      <th>Airline Name</th>\n",
       "      <td>1.000000</td>\n",
       "      <td>0.044360</td>\n",
       "      <td>-0.107583</td>\n",
       "      <td>-0.107583</td>\n",
       "      <td>0.071250</td>\n",
       "      <td>-0.011711</td>\n",
       "      <td>-0.002427</td>\n",
       "      <td>0.142032</td>\n",
       "      <td>0.076250</td>\n",
       "    </tr>\n",
       "    <tr>\n",
       "      <th>Date of journey</th>\n",
       "      <td>0.044360</td>\n",
       "      <td>1.000000</td>\n",
       "      <td>-0.003354</td>\n",
       "      <td>-0.003354</td>\n",
       "      <td>0.014739</td>\n",
       "      <td>-0.008223</td>\n",
       "      <td>-0.006704</td>\n",
       "      <td>-0.017254</td>\n",
       "      <td>0.247551</td>\n",
       "    </tr>\n",
       "    <tr>\n",
       "      <th>Source</th>\n",
       "      <td>-0.107583</td>\n",
       "      <td>-0.003354</td>\n",
       "      <td>1.000000</td>\n",
       "      <td>1.000000</td>\n",
       "      <td>0.000713</td>\n",
       "      <td>0.032234</td>\n",
       "      <td>-0.214544</td>\n",
       "      <td>0.107323</td>\n",
       "      <td>-0.521240</td>\n",
       "    </tr>\n",
       "    <tr>\n",
       "      <th>Destination</th>\n",
       "      <td>-0.107583</td>\n",
       "      <td>-0.003354</td>\n",
       "      <td>1.000000</td>\n",
       "      <td>1.000000</td>\n",
       "      <td>0.000713</td>\n",
       "      <td>0.032234</td>\n",
       "      <td>-0.214544</td>\n",
       "      <td>0.107323</td>\n",
       "      <td>-0.521240</td>\n",
       "    </tr>\n",
       "    <tr>\n",
       "      <th>Departure Time</th>\n",
       "      <td>0.071250</td>\n",
       "      <td>0.014739</td>\n",
       "      <td>0.000713</td>\n",
       "      <td>0.000713</td>\n",
       "      <td>1.000000</td>\n",
       "      <td>-0.019676</td>\n",
       "      <td>-0.035341</td>\n",
       "      <td>0.099779</td>\n",
       "      <td>-0.096318</td>\n",
       "    </tr>\n",
       "    <tr>\n",
       "      <th>Arrival Time</th>\n",
       "      <td>-0.011711</td>\n",
       "      <td>-0.008223</td>\n",
       "      <td>0.032234</td>\n",
       "      <td>0.032234</td>\n",
       "      <td>-0.019676</td>\n",
       "      <td>1.000000</td>\n",
       "      <td>0.027992</td>\n",
       "      <td>-0.029555</td>\n",
       "      <td>0.137427</td>\n",
       "    </tr>\n",
       "    <tr>\n",
       "      <th>Duration</th>\n",
       "      <td>-0.002427</td>\n",
       "      <td>-0.006704</td>\n",
       "      <td>-0.214544</td>\n",
       "      <td>-0.214544</td>\n",
       "      <td>-0.035341</td>\n",
       "      <td>0.027992</td>\n",
       "      <td>1.000000</td>\n",
       "      <td>-0.401444</td>\n",
       "      <td>0.376862</td>\n",
       "    </tr>\n",
       "    <tr>\n",
       "      <th>Total stops</th>\n",
       "      <td>0.142032</td>\n",
       "      <td>-0.017254</td>\n",
       "      <td>0.107323</td>\n",
       "      <td>0.107323</td>\n",
       "      <td>0.099779</td>\n",
       "      <td>-0.029555</td>\n",
       "      <td>-0.401444</td>\n",
       "      <td>1.000000</td>\n",
       "      <td>-0.400225</td>\n",
       "    </tr>\n",
       "    <tr>\n",
       "      <th>Price</th>\n",
       "      <td>0.076250</td>\n",
       "      <td>0.247551</td>\n",
       "      <td>-0.521240</td>\n",
       "      <td>-0.521240</td>\n",
       "      <td>-0.096318</td>\n",
       "      <td>0.137427</td>\n",
       "      <td>0.376862</td>\n",
       "      <td>-0.400225</td>\n",
       "      <td>1.000000</td>\n",
       "    </tr>\n",
       "  </tbody>\n",
       "</table>\n",
       "</div>"
      ],
      "text/plain": [
       "                 Airline Name  Date of journey    Source  Destination  \\\n",
       "Airline Name         1.000000         0.044360 -0.107583    -0.107583   \n",
       "Date of journey      0.044360         1.000000 -0.003354    -0.003354   \n",
       "Source              -0.107583        -0.003354  1.000000     1.000000   \n",
       "Destination         -0.107583        -0.003354  1.000000     1.000000   \n",
       "Departure Time       0.071250         0.014739  0.000713     0.000713   \n",
       "Arrival Time        -0.011711        -0.008223  0.032234     0.032234   \n",
       "Duration            -0.002427        -0.006704 -0.214544    -0.214544   \n",
       "Total stops          0.142032        -0.017254  0.107323     0.107323   \n",
       "Price                0.076250         0.247551 -0.521240    -0.521240   \n",
       "\n",
       "                 Departure Time  Arrival Time  Duration  Total stops     Price  \n",
       "Airline Name           0.071250     -0.011711 -0.002427     0.142032  0.076250  \n",
       "Date of journey        0.014739     -0.008223 -0.006704    -0.017254  0.247551  \n",
       "Source                 0.000713      0.032234 -0.214544     0.107323 -0.521240  \n",
       "Destination            0.000713      0.032234 -0.214544     0.107323 -0.521240  \n",
       "Departure Time         1.000000     -0.019676 -0.035341     0.099779 -0.096318  \n",
       "Arrival Time          -0.019676      1.000000  0.027992    -0.029555  0.137427  \n",
       "Duration              -0.035341      0.027992  1.000000    -0.401444  0.376862  \n",
       "Total stops            0.099779     -0.029555 -0.401444     1.000000 -0.400225  \n",
       "Price                 -0.096318      0.137427  0.376862    -0.400225  1.000000  "
      ]
     },
     "execution_count": 32,
     "metadata": {},
     "output_type": "execute_result"
    }
   ],
   "source": [
    "#Correlation matrix\n",
    "df.corr()"
   ]
  },
  {
   "cell_type": "code",
   "execution_count": 33,
   "id": "a0aeb27e",
   "metadata": {},
   "outputs": [
    {
     "data": {
      "text/plain": [
       "<AxesSubplot:>"
      ]
     },
     "execution_count": 33,
     "metadata": {},
     "output_type": "execute_result"
    },
    {
     "data": {
      "image/png": "[encoded data removed]",
      "text/plain": [
       "<Figure size 792x288 with 2 Axes>"
      ]
     },
     "metadata": {},
     "output_type": "display_data"
    }
   ],
   "source": [
    "#Correlation of Columns with target column using heatmap\n",
    "plt.figure(figsize = (11,4))\n",
    "sns.heatmap(df.corr(),annot = True, linewidths=0.1)"
   ]
  },
  {
   "cell_type": "markdown",
   "id": "0efd941e",
   "metadata": {},
   "source": [
    "#### Here we can't see very high correlations as highest correlations present here are 1 and -0.52."
   ]
  },
  {
   "cell_type": "markdown",
   "id": "5776f334",
   "metadata": {},
   "source": [
    " "
   ]
  },
  {
   "cell_type": "markdown",
   "id": "d6969195",
   "metadata": {},
   "source": [
    "### Checking columns which appear to be highly correlated with target columns"
   ]
  },
  {
   "cell_type": "code",
   "execution_count": 34,
   "id": "da30f5d0",
   "metadata": {
    "scrolled": false
   },
   "outputs": [
    {
     "data": {
      "image/png": "[encoded data removed]",
      "text/plain": [
       "<Figure size 1584x504 with 1 Axes>"
      ]
     },
     "metadata": {},
     "output_type": "display_data"
    }
   ],
   "source": [
    "plt.figure(figsize=(22,7))\n",
    "df.corr()['Price'].sort_values(ascending = False).drop(['Price']).plot(kind='bar',fontsize=14)\n",
    "plt.xlabel('Feature',fontsize=14)\n",
    "plt.ylabel('Price',fontsize=14)\n",
    "plt.title('Correlation',fontsize=20)\n",
    "plt.show()"
   ]
  },
  {
   "cell_type": "markdown",
   "id": "5fe8963c",
   "metadata": {},
   "source": [
    "#### Here we can't see any high correlation with target column"
   ]
  },
  {
   "cell_type": "markdown",
   "id": "3c07b12f",
   "metadata": {},
   "source": [
    " "
   ]
  },
  {
   "cell_type": "code",
   "execution_count": 35,
   "id": "a170c819",
   "metadata": {},
   "outputs": [
    {
     "data": {
      "image/png": "[encoded data removed]",
      "text/plain": [
       "<Figure size 1584x504 with 1 Axes>"
      ]
     },
     "metadata": {},
     "output_type": "display_data"
    }
   ],
   "source": [
    "#Checking correlation between Price and Destination\n",
    "plt.figure(figsize=(22,7))\n",
    "plt.scatter(df['Price'],df['Destination'])\n",
    "plt.show()"
   ]
  },
  {
   "cell_type": "markdown",
   "id": "599280f1",
   "metadata": {},
   "source": [
    "#### We can't see any high correlations here"
   ]
  },
  {
   "cell_type": "code",
   "execution_count": 36,
   "id": "83220ccd",
   "metadata": {},
   "outputs": [
    {
     "data": {
      "image/png": "[encoded data removed]",
      "text/plain": [
       "<Figure size 1584x504 with 1 Axes>"
      ]
     },
     "metadata": {},
     "output_type": "display_data"
    }
   ],
   "source": [
    "#Checking correlation between Price and Source\n",
    "plt.figure(figsize=(22,7))\n",
    "plt.scatter(df.Price,df.Source)\n",
    "plt.show()"
   ]
  },
  {
   "cell_type": "markdown",
   "id": "017e78c0",
   "metadata": {},
   "source": [
    "#### We can't see any high collinearity here"
   ]
  },
  {
   "cell_type": "code",
   "execution_count": 37,
   "id": "7f3cfcc4",
   "metadata": {
    "scrolled": true
   },
   "outputs": [
    {
     "data": {
      "image/png": "[encoded data removed]",
      "text/plain": [
       "<Figure size 1584x504 with 1 Axes>"
      ]
     },
     "metadata": {},
     "output_type": "display_data"
    }
   ],
   "source": [
    "#Checking correlation between Price and Total Stops\n",
    "plt.figure(figsize=(22,7))\n",
    "plt.scatter(df.Price,df['Total stops'])\n",
    "plt.show()"
   ]
  },
  {
   "cell_type": "markdown",
   "id": "0808a4a7",
   "metadata": {},
   "source": [
    "#### We can't see any high collinearity here"
   ]
  },
  {
   "cell_type": "code",
   "execution_count": 38,
   "id": "231b28a9",
   "metadata": {
    "scrolled": true
   },
   "outputs": [
    {
     "data": {
      "image/png": "[encoded data removed]",
      "text/plain": [
       "<Figure size 1584x504 with 1 Axes>"
      ]
     },
     "metadata": {},
     "output_type": "display_data"
    }
   ],
   "source": [
    "#Checking correlation between Source and Destination\n",
    "plt.figure(figsize=(22,7))\n",
    "plt.scatter(df.Source,df.Destination)\n",
    "plt.show()"
   ]
  },
  {
   "cell_type": "markdown",
   "id": "60c2fb70",
   "metadata": {},
   "source": [
    "#### We can see high collinearity here but that is also because of limitation of data"
   ]
  },
  {
   "cell_type": "markdown",
   "id": "29b804f2",
   "metadata": {},
   "source": [
    " "
   ]
  },
  {
   "cell_type": "markdown",
   "id": "1ca3d354",
   "metadata": {},
   "source": [
    " "
   ]
  },
  {
   "cell_type": "markdown",
   "id": "cad72971",
   "metadata": {},
   "source": [
    "### Checkin VIF for confirmation of above conclusion:"
   ]
  },
  {
   "cell_type": "code",
   "execution_count": 39,
   "id": "3746c303",
   "metadata": {},
   "outputs": [],
   "source": [
    "from statsmodels.stats.outliers_influence import variance_inflation_factor"
   ]
  },
  {
   "cell_type": "code",
   "execution_count": 40,
   "id": "ea786178",
   "metadata": {},
   "outputs": [],
   "source": [
    "X1 = df[['Price', 'Destination']]\n",
    "\n",
    "# VIF dataframe\n",
    "vif_dF = pd.DataFrame()\n",
    "vif_dF[\"feature\"] = X1.columns\n",
    "  \n",
    "# calculating VIF for each feature\n",
    "vif_dF[\"VIF\"] = [variance_inflation_factor(X1.values, i)\n",
    "                          for i in range(len(X1.columns))]"
   ]
  },
  {
   "cell_type": "code",
   "execution_count": 41,
   "id": "084cd378",
   "metadata": {
    "scrolled": true
   },
   "outputs": [
    {
     "name": "stdout",
     "output_type": "stream",
     "text": [
      "       feature       VIF\n",
      "0        Price  1.391839\n",
      "1  Destination  1.391839\n"
     ]
    }
   ],
   "source": [
    "print(vif_dF)"
   ]
  },
  {
   "cell_type": "markdown",
   "id": "0719ea46",
   "metadata": {},
   "source": [
    "### As we can see there is no high correlation(<10)"
   ]
  },
  {
   "cell_type": "code",
   "execution_count": 42,
   "id": "222e797e",
   "metadata": {},
   "outputs": [],
   "source": [
    "X2 = df[['Price','Source']]\n",
    "\n",
    "# VIF dataframe\n",
    "vif_dF = pd.DataFrame()\n",
    "vif_dF[\"feature\"] = X2.columns\n",
    "  \n",
    "# calculating VIF for each feature\n",
    "vif_dF[\"VIF\"] = [variance_inflation_factor(X2.values, i)\n",
    "                          for i in range(len(X2.columns))]"
   ]
  },
  {
   "cell_type": "code",
   "execution_count": 43,
   "id": "4fd43d85",
   "metadata": {
    "scrolled": false
   },
   "outputs": [
    {
     "name": "stdout",
     "output_type": "stream",
     "text": [
      "  feature       VIF\n",
      "0   Price  1.391839\n",
      "1  Source  1.391839\n"
     ]
    }
   ],
   "source": [
    "print(vif_dF)"
   ]
  },
  {
   "cell_type": "markdown",
   "id": "ddde5a00",
   "metadata": {},
   "source": [
    "### As we can see here correlation is not high (<10)"
   ]
  },
  {
   "cell_type": "code",
   "execution_count": 44,
   "id": "a9788321",
   "metadata": {},
   "outputs": [],
   "source": [
    "X3 = df[['Price','Total stops']]\n",
    "\n",
    "# VIF dataframe\n",
    "vif_dF = pd.DataFrame()\n",
    "vif_dF[\"feature\"] = X3.columns\n",
    "  \n",
    "# calculating VIF for each feature\n",
    "vif_dF[\"VIF\"] = [variance_inflation_factor(X3.values, i)\n",
    "                          for i in range(len(X3.columns))]"
   ]
  },
  {
   "cell_type": "code",
   "execution_count": 45,
   "id": "5e45052d",
   "metadata": {
    "scrolled": false
   },
   "outputs": [
    {
     "name": "stdout",
     "output_type": "stream",
     "text": [
      "       feature       VIF\n",
      "0        Price  1.131345\n",
      "1  Total stops  1.131345\n"
     ]
    }
   ],
   "source": [
    "print(vif_dF)"
   ]
  },
  {
   "cell_type": "markdown",
   "id": "5e714a39",
   "metadata": {},
   "source": [
    "### As we can see here correlation is not high (<10)"
   ]
  },
  {
   "cell_type": "code",
   "execution_count": 46,
   "id": "d6671dc1",
   "metadata": {},
   "outputs": [],
   "source": [
    "X4 = df[['Source','Destination']]\n",
    "\n",
    "# VIF dataframe\n",
    "vif_dF = pd.DataFrame()\n",
    "vif_dF[\"feature\"] = X4.columns\n",
    "  \n",
    "# calculating VIF for each feature\n",
    "vif_dF[\"VIF\"] = [variance_inflation_factor(X4.values, i)\n",
    "                          for i in range(len(X4.columns))]"
   ]
  },
  {
   "cell_type": "code",
   "execution_count": 47,
   "id": "1fa18985",
   "metadata": {
    "scrolled": false
   },
   "outputs": [
    {
     "name": "stdout",
     "output_type": "stream",
     "text": [
      "       feature  VIF\n",
      "0       Source  inf\n",
      "1  Destination  inf\n"
     ]
    }
   ],
   "source": [
    "print(vif_dF)"
   ]
  },
  {
   "cell_type": "markdown",
   "id": "c4f94e70",
   "metadata": {},
   "source": [
    "### As we can see here correlation is very high (>10)"
   ]
  },
  {
   "cell_type": "markdown",
   "id": "a866294f",
   "metadata": {},
   "source": [
    " "
   ]
  },
  {
   "cell_type": "code",
   "execution_count": 48,
   "id": "7180cea0",
   "metadata": {},
   "outputs": [],
   "source": [
    "#Dropping Source column\n",
    "df.drop(['Source'], axis=1, inplace=True)"
   ]
  },
  {
   "cell_type": "markdown",
   "id": "5ca0157e",
   "metadata": {},
   "source": [
    "### Removing Skewness :"
   ]
  },
  {
   "cell_type": "code",
   "execution_count": 49,
   "id": "12a7c3d5",
   "metadata": {
    "scrolled": false
   },
   "outputs": [
    {
     "data": {
      "text/plain": [
       "Airline Name       0.074181\n",
       "Date of journey   -0.002342\n",
       "Destination       -0.251897\n",
       "Departure Time     0.079896\n",
       "Arrival Time       0.004694\n",
       "Duration           1.266091\n",
       "Total stops        1.069084\n",
       "Price              1.124543\n",
       "dtype: float64"
      ]
     },
     "execution_count": 49,
     "metadata": {},
     "output_type": "execute_result"
    }
   ],
   "source": [
    "#Checking skewness\n",
    "df.skew()"
   ]
  },
  {
   "cell_type": "markdown",
   "id": "34521fb2",
   "metadata": {},
   "source": [
    "#### Acceptable skewness (-0.65,+0.65)"
   ]
  },
  {
   "cell_type": "code",
   "execution_count": 50,
   "id": "6e3e596f",
   "metadata": {},
   "outputs": [],
   "source": [
    "#Removing skewness from 'Duration'\n",
    "from scipy.stats import boxcox\n",
    "df['Duration'] = boxcox(df['Duration'])[0]"
   ]
  },
  {
   "cell_type": "code",
   "execution_count": 51,
   "id": "18ca7d5d",
   "metadata": {},
   "outputs": [
    {
     "data": {
      "text/plain": [
       "Airline Name       0.074181\n",
       "Date of journey   -0.002342\n",
       "Destination       -0.251897\n",
       "Departure Time     0.079896\n",
       "Arrival Time       0.004694\n",
       "Duration           0.000475\n",
       "Total stops        1.069084\n",
       "Price              1.124543\n",
       "dtype: float64"
      ]
     },
     "execution_count": 51,
     "metadata": {},
     "output_type": "execute_result"
    }
   ],
   "source": [
    "#Checking skewness\n",
    "df.skew()"
   ]
  },
  {
   "cell_type": "markdown",
   "id": "2cc494c2",
   "metadata": {},
   "source": [
    "#### All continous columns (excluding target variable) are now in acceptable skew range "
   ]
  },
  {
   "cell_type": "markdown",
   "id": "e0453e21",
   "metadata": {},
   "source": [
    "### Removing outliers :"
   ]
  },
  {
   "cell_type": "code",
   "execution_count": 52,
   "id": "f703bf2c",
   "metadata": {},
   "outputs": [
    {
     "data": {
      "text/plain": [
       "Airline Name       float64\n",
       "Date of journey    float64\n",
       "Destination        float64\n",
       "Departure Time     float64\n",
       "Arrival Time       float64\n",
       "Duration           float64\n",
       "Total stops        float64\n",
       "Price              float64\n",
       "dtype: object"
      ]
     },
     "execution_count": 52,
     "metadata": {},
     "output_type": "execute_result"
    }
   ],
   "source": [
    "#Outlier check\n",
    "df.dtypes"
   ]
  },
  {
   "cell_type": "code",
   "execution_count": 53,
   "id": "82ad5201",
   "metadata": {},
   "outputs": [
    {
     "data": {
      "text/plain": [
       "Airline Name          AxesSubplot(0.125,0.657941;0.227941x0.222059)\n",
       "Date of journey    AxesSubplot(0.398529,0.657941;0.227941x0.222059)\n",
       "Destination        AxesSubplot(0.672059,0.657941;0.227941x0.222059)\n",
       "Departure Time        AxesSubplot(0.125,0.391471;0.227941x0.222059)\n",
       "Arrival Time       AxesSubplot(0.398529,0.391471;0.227941x0.222059)\n",
       "Duration           AxesSubplot(0.672059,0.391471;0.227941x0.222059)\n",
       "Total stops              AxesSubplot(0.125,0.125;0.227941x0.222059)\n",
       "Price                 AxesSubplot(0.398529,0.125;0.227941x0.222059)\n",
       "dtype: object"
      ]
     },
     "execution_count": 53,
     "metadata": {},
     "output_type": "execute_result"
    },
    {
     "data": {
      "image/png": "[encoded data removed]",
      "text/plain": [
       "<Figure size 720x720 with 9 Axes>"
      ]
     },
     "metadata": {},
     "output_type": "display_data"
    }
   ],
   "source": [
    "#Checking only for continous data types\n",
    "df.plot.box(layout =(3,3),subplots=True,figsize=(10,10))"
   ]
  },
  {
   "cell_type": "markdown",
   "id": "220a6c35",
   "metadata": {},
   "source": [
    "### There looks like outliers in some columns so now we check with z-score:"
   ]
  },
  {
   "cell_type": "code",
   "execution_count": 54,
   "id": "d472b0f4",
   "metadata": {},
   "outputs": [
    {
     "data": {
      "text/plain": [
       "(1698, 8)"
      ]
     },
     "execution_count": 54,
     "metadata": {},
     "output_type": "execute_result"
    }
   ],
   "source": [
    "#Outlier removal using z-score\n",
    "df.shape"
   ]
  },
  {
   "cell_type": "code",
   "execution_count": 55,
   "id": "7e240979",
   "metadata": {},
   "outputs": [
    {
     "data": {
      "text/plain": [
       "(array([1194, 1195, 1196, 1197, 1198, 1199, 1200, 1201, 1320, 1321, 1322,\n",
       "        1323, 1324, 1325, 1326, 1327]),\n",
       " array([7, 7, 7, 7, 7, 7, 7, 7, 7, 7, 7, 7, 7, 7, 7, 7]))"
      ]
     },
     "execution_count": 55,
     "metadata": {},
     "output_type": "execute_result"
    }
   ],
   "source": [
    "from scipy.stats import zscore\n",
    "\n",
    "z = np.abs(zscore(df))\n",
    "threshhold = 3\n",
    "np.where(z>3)"
   ]
  },
  {
   "cell_type": "markdown",
   "id": "0999d0c6",
   "metadata": {},
   "source": [
    "#### We can see that outliers are only in target variable and hence no need to remove them"
   ]
  },
  {
   "cell_type": "markdown",
   "id": "de152ecb",
   "metadata": {},
   "source": [
    " "
   ]
  },
  {
   "cell_type": "markdown",
   "id": "7357b1ef",
   "metadata": {},
   "source": [
    "## Separating the columns into features and target for 'Price' target variable:"
   ]
  },
  {
   "cell_type": "code",
   "execution_count": 56,
   "id": "cb20f821",
   "metadata": {},
   "outputs": [],
   "source": [
    "feature = df.drop(\"Price\",axis=1)\n",
    "target = df[\"Price\"]"
   ]
  },
  {
   "cell_type": "code",
   "execution_count": 57,
   "id": "c1926e40",
   "metadata": {},
   "outputs": [],
   "source": [
    "from sklearn.metrics import r2_score\n",
    "from sklearn.model_selection import train_test_split\n",
    "from sklearn.model_selection import cross_val_score"
   ]
  },
  {
   "cell_type": "code",
   "execution_count": 58,
   "id": "f072314c",
   "metadata": {},
   "outputs": [],
   "source": [
    "import warnings\n",
    "warnings.filterwarnings('ignore')"
   ]
  },
  {
   "cell_type": "markdown",
   "id": "79250f7f",
   "metadata": {},
   "source": [
    "### Model 1:"
   ]
  },
  {
   "cell_type": "code",
   "execution_count": 59,
   "id": "af732882",
   "metadata": {},
   "outputs": [],
   "source": [
    "from sklearn.linear_model import LinearRegression\n",
    "lr = LinearRegression()"
   ]
  },
  {
   "cell_type": "code",
   "execution_count": 60,
   "id": "af58d669",
   "metadata": {},
   "outputs": [
    {
     "name": "stdout",
     "output_type": "stream",
     "text": [
      "At random state 0 the training accuracy is : 0.4999706131691889\n",
      "At random state 0 the testing accuracy is : 0.5476042938881196\n",
      "\n",
      "\n",
      "At random state 1 the training accuracy is : 0.5144345576355316\n",
      "At random state 1 the testing accuracy is : 0.49116938151234435\n",
      "\n",
      "\n",
      "At random state 2 the training accuracy is : 0.5193051741994703\n",
      "At random state 2 the testing accuracy is : 0.4796140830696173\n",
      "\n",
      "\n",
      "At random state 3 the training accuracy is : 0.5236293928202564\n",
      "At random state 3 the testing accuracy is : 0.4548506528086521\n",
      "\n",
      "\n",
      "At random state 4 the training accuracy is : 0.5061153271322764\n",
      "At random state 4 the testing accuracy is : 0.524773298957784\n",
      "\n",
      "\n",
      "At random state 5 the training accuracy is : 0.5147931304495279\n",
      "At random state 5 the testing accuracy is : 0.491763099191842\n",
      "\n",
      "\n",
      "At random state 6 the training accuracy is : 0.5112606024082165\n",
      "At random state 6 the testing accuracy is : 0.5041808327830715\n",
      "\n",
      "\n",
      "At random state 7 the training accuracy is : 0.5052200130141907\n",
      "At random state 7 the testing accuracy is : 0.53130114144219\n",
      "\n",
      "\n",
      "At random state 8 the training accuracy is : 0.5171724098518453\n",
      "At random state 8 the testing accuracy is : 0.484246730948231\n",
      "\n",
      "\n",
      "At random state 9 the training accuracy is : 0.5116297288576696\n",
      "At random state 9 the testing accuracy is : 0.5056275585665695\n",
      "\n",
      "\n"
     ]
    }
   ],
   "source": [
    "for i in range(0,10):\n",
    "    features_train,features_test,target_train,target_test = train_test_split(feature,target,test_size = 0.2,random_state = i)\n",
    "    lr.fit(features_train,target_train)\n",
    "    pred_train = lr.predict(features_train)\n",
    "    pred_test = lr.predict(features_test)\n",
    "    print(\"At random state \" + str(i) + \" the training accuracy is : \" + str(r2_score(target_train,pred_train)))\n",
    "    print(\"At random state \" + str(i) + \" the testing accuracy is : \" + str(r2_score(target_test,pred_test)))\n",
    "    print(\"\\n\")"
   ]
  },
  {
   "cell_type": "code",
   "execution_count": 61,
   "id": "dde64940",
   "metadata": {},
   "outputs": [],
   "source": [
    "features_train,features_test,target_train,target_test = train_test_split(feature,target,test_size = 0.2,random_state = 9)"
   ]
  },
  {
   "cell_type": "code",
   "execution_count": 62,
   "id": "a4d93892",
   "metadata": {},
   "outputs": [
    {
     "data": {
      "text/plain": [
       "LinearRegression()"
      ]
     },
     "execution_count": 62,
     "metadata": {},
     "output_type": "execute_result"
    }
   ],
   "source": [
    "lr.fit(features_train,target_train)"
   ]
  },
  {
   "cell_type": "code",
   "execution_count": 63,
   "id": "ea7b93d2",
   "metadata": {},
   "outputs": [],
   "source": [
    "pred_test = lr.predict(features_test)"
   ]
  },
  {
   "cell_type": "code",
   "execution_count": 64,
   "id": "3bd7a52e",
   "metadata": {},
   "outputs": [
    {
     "name": "stdout",
     "output_type": "stream",
     "text": [
      "0.5056275585665695\n"
     ]
    }
   ],
   "source": [
    "print(r2_score(target_test,pred_test))"
   ]
  },
  {
   "cell_type": "markdown",
   "id": "b3ff627d",
   "metadata": {},
   "source": [
    "### Cross Validation of model:"
   ]
  },
  {
   "cell_type": "code",
   "execution_count": 65,
   "id": "db1f1108",
   "metadata": {},
   "outputs": [],
   "source": [
    "Train_accuracy = r2_score(target_train,pred_train)\n",
    "Test_accuracy = r2_score(target_test,pred_test)"
   ]
  },
  {
   "cell_type": "code",
   "execution_count": 66,
   "id": "95dbaed2",
   "metadata": {},
   "outputs": [
    {
     "name": "stdout",
     "output_type": "stream",
     "text": [
      "At cross fold 2 the cv score is -0.2727951750529799 and accuracy score for training is 0.5116297288576696 and accuracy score for testing is 0.5056275585665695\n",
      "\n",
      "\n",
      "At cross fold 3 the cv score is 0.16394121387635865 and accuracy score for training is 0.5116297288576696 and accuracy score for testing is 0.5056275585665695\n",
      "\n",
      "\n",
      "At cross fold 4 the cv score is 0.10744496808151496 and accuracy score for training is 0.5116297288576696 and accuracy score for testing is 0.5056275585665695\n",
      "\n",
      "\n",
      "At cross fold 5 the cv score is -0.0627489591106342 and accuracy score for training is 0.5116297288576696 and accuracy score for testing is 0.5056275585665695\n",
      "\n",
      "\n",
      "At cross fold 6 the cv score is 0.04923532153402482 and accuracy score for training is 0.5116297288576696 and accuracy score for testing is 0.5056275585665695\n",
      "\n",
      "\n",
      "At cross fold 7 the cv score is -0.05847957887325613 and accuracy score for training is 0.5116297288576696 and accuracy score for testing is 0.5056275585665695\n",
      "\n",
      "\n",
      "At cross fold 8 the cv score is 0.0761097510118202 and accuracy score for training is 0.5116297288576696 and accuracy score for testing is 0.5056275585665695\n",
      "\n",
      "\n",
      "At cross fold 9 the cv score is 0.04344470376809154 and accuracy score for training is 0.5116297288576696 and accuracy score for testing is 0.5056275585665695\n",
      "\n",
      "\n"
     ]
    }
   ],
   "source": [
    "for j in range(2,10):\n",
    "    cv_score = cross_val_score(lr,feature,target,cv=j)\n",
    "    cv_mean = cv_score.mean()\n",
    "    print(\"At cross fold \" + str(j) + \" the cv score is \" + str(cv_mean) + \" and accuracy score for training is \" + str(Train_accuracy) + \" and accuracy score for testing is \" + str(Test_accuracy))\n",
    "    print(\"\\n\")"
   ]
  },
  {
   "cell_type": "code",
   "execution_count": 67,
   "id": "08026873",
   "metadata": {},
   "outputs": [
    {
     "data": {
      "image/png": "[encoded data removed]",
      "text/plain": [
       "<Figure size 576x432 with 1 Axes>"
      ]
     },
     "metadata": {},
     "output_type": "display_data"
    }
   ],
   "source": [
    "plt.figure(figsize=(8,6))\n",
    "plt.scatter(x=target_test,y=pred_test, color='r')\n",
    "plt.plot(target_test,target_test,color='b')\n",
    "plt.xlabel('Actual Price')\n",
    "plt.ylabel('Predicted Price')\n",
    "plt.title('Linear Regression')\n",
    "plt.show()"
   ]
  },
  {
   "cell_type": "markdown",
   "id": "ab344e29",
   "metadata": {},
   "source": [
    "We can see almost all points lie near best fit curve but still there is lot of error present"
   ]
  },
  {
   "cell_type": "markdown",
   "id": "7f680be7",
   "metadata": {},
   "source": [
    "### Regularization using Lasso:"
   ]
  },
  {
   "cell_type": "code",
   "execution_count": 68,
   "id": "b456fc21",
   "metadata": {},
   "outputs": [],
   "source": [
    "from sklearn.model_selection import GridSearchCV\n",
    "from sklearn.model_selection import cross_val_score\n",
    "import warnings\n",
    "warnings.filterwarnings('ignore')"
   ]
  },
  {
   "cell_type": "code",
   "execution_count": 69,
   "id": "993eadba",
   "metadata": {},
   "outputs": [
    {
     "name": "stdout",
     "output_type": "stream",
     "text": [
      "{'alpha': 10, 'random_state': 0}\n"
     ]
    }
   ],
   "source": [
    "from sklearn.linear_model import Lasso\n",
    "parameters = {'alpha':[0.0001,0.001,0.01,0.1,1,10],'random_state':list(range(0,10))}\n",
    "ls=Lasso()\n",
    "clf = GridSearchCV(ls,parameters)\n",
    "clf.fit(features_train,target_train)\n",
    "\n",
    "print(clf.best_params_)"
   ]
  },
  {
   "cell_type": "code",
   "execution_count": 70,
   "id": "18a3d0c2",
   "metadata": {},
   "outputs": [
    {
     "data": {
      "text/plain": [
       "0.5054580891734664"
      ]
     },
     "execution_count": 70,
     "metadata": {},
     "output_type": "execute_result"
    }
   ],
   "source": [
    "ls = Lasso(alpha = 10, random_state=0)\n",
    "ls.fit(features_train,target_train)\n",
    "ls.score(features_train,target_train)\n",
    "pred_ls = ls.predict(features_test)\n",
    "\n",
    "lss = r2_score(target_test,pred_ls)\n",
    "lss"
   ]
  },
  {
   "cell_type": "code",
   "execution_count": 71,
   "id": "e6a648b9",
   "metadata": {},
   "outputs": [
    {
     "data": {
      "text/plain": [
       "0.05002273821678308"
      ]
     },
     "execution_count": 71,
     "metadata": {},
     "output_type": "execute_result"
    }
   ],
   "source": [
    "cv_score = cross_val_score(ls,feature,target,cv=6)\n",
    "cv_mean =cv_score.mean()\n",
    "abs(cv_mean)"
   ]
  },
  {
   "cell_type": "markdown",
   "id": "f1c16505",
   "metadata": {},
   "source": [
    "### Trying other models:"
   ]
  },
  {
   "cell_type": "code",
   "execution_count": 72,
   "id": "1d8f8897",
   "metadata": {},
   "outputs": [],
   "source": [
    "def model_selection(algorithm_instance,features_train,target_train,features_test,target_test):\n",
    "    algorithm_instance.fit(features_train,target_train)\n",
    "    model_1_pred_train = algorithm_instance.predict(features_train)\n",
    "    model_1_pred_test = algorithm_instance.predict(features_test)\n",
    "    print(\"Accuracy for the training model : \",r2_score(target_train,model_1_pred_train))\n",
    "    print(\"Accuracy for the testing model : \",r2_score(target_test,model_1_pred_test))\n",
    "    \n",
    "    Train_accuracy = r2_score(target_train,model_1_pred_train)\n",
    "    Test_accuracy = r2_score(target_test,model_1_pred_test)\n",
    "    \n",
    "    for j in range(2,10):\n",
    "        cv_score = cross_val_score(algorithm_instance,feature,target,cv=j)\n",
    "        cv_mean = cv_score.mean()\n",
    "        print(\"At cross fold \" + str(j) + \" the cv score is \" + str(cv_mean) + \" and accuracy score for training is \" + str(Train_accuracy) + \" and accuracy score for testing is \" + str(Test_accuracy))\n",
    "        print(\"\\n\")"
   ]
  },
  {
   "cell_type": "markdown",
   "id": "fe13c2c9",
   "metadata": {},
   "source": [
    "### Model 2:"
   ]
  },
  {
   "cell_type": "code",
   "execution_count": 73,
   "id": "e674b9cf",
   "metadata": {
    "scrolled": false
   },
   "outputs": [
    {
     "name": "stdout",
     "output_type": "stream",
     "text": [
      "Accuracy for the training model :  -0.06462320433380886\n",
      "Accuracy for the testing model :  -0.0950997703540779\n",
      "At cross fold 2 the cv score is -0.9216749933443029 and accuracy score for training is -0.06462320433380886 and accuracy score for testing is -0.0950997703540779\n",
      "\n",
      "\n",
      "At cross fold 3 the cv score is -0.39744792474129126 and accuracy score for training is -0.06462320433380886 and accuracy score for testing is -0.0950997703540779\n",
      "\n",
      "\n",
      "At cross fold 4 the cv score is -0.3991756151151322 and accuracy score for training is -0.06462320433380886 and accuracy score for testing is -0.0950997703540779\n",
      "\n",
      "\n",
      "At cross fold 5 the cv score is -0.6192897021681978 and accuracy score for training is -0.06462320433380886 and accuracy score for testing is -0.0950997703540779\n",
      "\n",
      "\n",
      "At cross fold 6 the cv score is -0.5440963254357584 and accuracy score for training is -0.06462320433380886 and accuracy score for testing is -0.0950997703540779\n",
      "\n",
      "\n",
      "At cross fold 7 the cv score is -0.7897177990957189 and accuracy score for training is -0.06462320433380886 and accuracy score for testing is -0.0950997703540779\n",
      "\n",
      "\n",
      "At cross fold 8 the cv score is -0.6048073876575478 and accuracy score for training is -0.06462320433380886 and accuracy score for testing is -0.0950997703540779\n",
      "\n",
      "\n",
      "At cross fold 9 the cv score is -0.7057396041210781 and accuracy score for training is -0.06462320433380886 and accuracy score for testing is -0.0950997703540779\n",
      "\n",
      "\n"
     ]
    }
   ],
   "source": [
    "from sklearn.svm import SVR\n",
    "model_selection(SVR(),features_train,target_train,features_test,target_test)"
   ]
  },
  {
   "cell_type": "markdown",
   "id": "82622a47",
   "metadata": {},
   "source": [
    "### Model 3:"
   ]
  },
  {
   "cell_type": "code",
   "execution_count": 74,
   "id": "40787a02",
   "metadata": {},
   "outputs": [
    {
     "name": "stdout",
     "output_type": "stream",
     "text": [
      "Accuracy for the training model :  0.9741278615603357\n",
      "Accuracy for the testing model :  0.7942563514092913\n",
      "At cross fold 2 the cv score is -0.6672666487812541 and accuracy score for training is 0.9741278615603357 and accuracy score for testing is 0.7942563514092913\n",
      "\n",
      "\n",
      "At cross fold 3 the cv score is 0.3293461578295141 and accuracy score for training is 0.9741278615603357 and accuracy score for testing is 0.7942563514092913\n",
      "\n",
      "\n",
      "At cross fold 4 the cv score is -0.02051038105382383 and accuracy score for training is 0.9741278615603357 and accuracy score for testing is 0.7942563514092913\n",
      "\n",
      "\n",
      "At cross fold 5 the cv score is 0.168089015057804 and accuracy score for training is 0.9741278615603357 and accuracy score for testing is 0.7942563514092913\n",
      "\n",
      "\n",
      "At cross fold 6 the cv score is 0.25587743453819695 and accuracy score for training is 0.9741278615603357 and accuracy score for testing is 0.7942563514092913\n",
      "\n",
      "\n",
      "At cross fold 7 the cv score is 0.3802765064428781 and accuracy score for training is 0.9741278615603357 and accuracy score for testing is 0.7942563514092913\n",
      "\n",
      "\n",
      "At cross fold 8 the cv score is 0.1629209078061485 and accuracy score for training is 0.9741278615603357 and accuracy score for testing is 0.7942563514092913\n",
      "\n",
      "\n",
      "At cross fold 9 the cv score is 0.22732094118668947 and accuracy score for training is 0.9741278615603357 and accuracy score for testing is 0.7942563514092913\n",
      "\n",
      "\n"
     ]
    }
   ],
   "source": [
    "from sklearn.ensemble import RandomForestRegressor\n",
    "model_selection(RandomForestRegressor(),features_train,target_train,features_test,target_test)"
   ]
  },
  {
   "cell_type": "markdown",
   "id": "0279899b",
   "metadata": {},
   "source": [
    "### Model 4:"
   ]
  },
  {
   "cell_type": "code",
   "execution_count": 75,
   "id": "1e2ca807",
   "metadata": {},
   "outputs": [
    {
     "name": "stdout",
     "output_type": "stream",
     "text": [
      "Accuracy for the training model :  0.9998320583184103\n",
      "Accuracy for the testing model :  0.6399770563950407\n",
      "At cross fold 2 the cv score is -1.0505756461889422 and accuracy score for training is 0.9998320583184103 and accuracy score for testing is 0.6399770563950407\n",
      "\n",
      "\n",
      "At cross fold 3 the cv score is 0.08709866558826133 and accuracy score for training is 0.9998320583184103 and accuracy score for testing is 0.6399770563950407\n",
      "\n",
      "\n",
      "At cross fold 4 the cv score is -0.2937971804352232 and accuracy score for training is 0.9998320583184103 and accuracy score for testing is 0.6399770563950407\n",
      "\n",
      "\n",
      "At cross fold 5 the cv score is -0.0758889489894022 and accuracy score for training is 0.9998320583184103 and accuracy score for testing is 0.6399770563950407\n",
      "\n",
      "\n",
      "At cross fold 6 the cv score is -0.05070199044660236 and accuracy score for training is 0.9998320583184103 and accuracy score for testing is 0.6399770563950407\n",
      "\n",
      "\n",
      "At cross fold 7 the cv score is 0.17879714305594124 and accuracy score for training is 0.9998320583184103 and accuracy score for testing is 0.6399770563950407\n",
      "\n",
      "\n",
      "At cross fold 8 the cv score is -0.18819123650309272 and accuracy score for training is 0.9998320583184103 and accuracy score for testing is 0.6399770563950407\n",
      "\n",
      "\n",
      "At cross fold 9 the cv score is -0.30050024138701165 and accuracy score for training is 0.9998320583184103 and accuracy score for testing is 0.6399770563950407\n",
      "\n",
      "\n"
     ]
    }
   ],
   "source": [
    "from sklearn.tree import DecisionTreeRegressor\n",
    "model_selection(DecisionTreeRegressor(),features_train,target_train,features_test,target_test)"
   ]
  },
  {
   "cell_type": "markdown",
   "id": "8fb4ad9c",
   "metadata": {},
   "source": [
    "### Conclusion: Here RandomForestRegressor() gives best accuracy hence taking it as main model"
   ]
  },
  {
   "cell_type": "markdown",
   "id": "45366316",
   "metadata": {},
   "source": [
    " "
   ]
  },
  {
   "cell_type": "markdown",
   "id": "20933cbb",
   "metadata": {},
   "source": [
    "#### Below we have tested mean squared error, Root mean squared error and Mean Absolute error method also:"
   ]
  },
  {
   "cell_type": "code",
   "execution_count": 76,
   "id": "943c10b9",
   "metadata": {},
   "outputs": [],
   "source": [
    "from sklearn.metrics import mean_squared_error\n",
    "from sklearn.metrics import mean_absolute_error"
   ]
  },
  {
   "cell_type": "code",
   "execution_count": 77,
   "id": "25a434bd",
   "metadata": {},
   "outputs": [
    {
     "name": "stdout",
     "output_type": "stream",
     "text": [
      "At random state 0 the training accuracy is : 992229.5191224603\n",
      "At random state 0 the testing accuracy is : 5058535.029021392\n",
      "\n",
      "\n",
      "At random state 1 the training accuracy is : 921006.0114341493\n",
      "At random state 1 the testing accuracy is : 7289597.049038809\n",
      "\n",
      "\n",
      "At random state 2 the training accuracy is : 957140.7612476428\n",
      "At random state 2 the testing accuracy is : 5595629.511338454\n",
      "\n",
      "\n",
      "At random state 3 the training accuracy is : 914182.5411096071\n",
      "At random state 3 the testing accuracy is : 7938484.606156677\n",
      "\n",
      "\n",
      "At random state 4 the training accuracy is : 957737.358408634\n",
      "At random state 4 the testing accuracy is : 5712253.412228574\n",
      "\n",
      "\n",
      "At random state 5 the training accuracy is : 846441.92357374\n",
      "At random state 5 the testing accuracy is : 7930774.233215464\n",
      "\n",
      "\n",
      "At random state 6 the training accuracy is : 889120.9443671659\n",
      "At random state 6 the testing accuracy is : 6014781.122977316\n",
      "\n",
      "\n",
      "At random state 7 the training accuracy is : 966563.5069924089\n",
      "At random state 7 the testing accuracy is : 5685500.597739556\n",
      "\n",
      "\n",
      "At random state 8 the training accuracy is : 997572.9623477961\n",
      "At random state 8 the testing accuracy is : 6642782.0013427315\n",
      "\n",
      "\n",
      "At random state 9 the training accuracy is : 914555.5183714837\n",
      "At random state 9 the testing accuracy is : 6771051.306731103\n",
      "\n",
      "\n"
     ]
    }
   ],
   "source": [
    "# Mean Squared Error Method\n",
    "x = RandomForestRegressor()\n",
    "for i in range(0,10):\n",
    "    features_train,features_test,target_train,target_test = train_test_split(feature,target,test_size = 0.2,random_state = i)\n",
    "    x.fit(features_train,target_train)\n",
    "    pred_train = x.predict(features_train)\n",
    "    pred_test = x.predict(features_test)\n",
    "    print(\"At random state \" + str(i) + \" the training accuracy is : \" + str(mean_squared_error(target_train,pred_train)))\n",
    "    print(\"At random state \" + str(i) + \" the testing accuracy is : \" + str(mean_squared_error(target_test,pred_test)))\n",
    "    print(\"\\n\")"
   ]
  },
  {
   "cell_type": "code",
   "execution_count": 78,
   "id": "cff0a35f",
   "metadata": {},
   "outputs": [
    {
     "name": "stdout",
     "output_type": "stream",
     "text": [
      "At random state 0 the training accuracy is : 986.8367617628319\n",
      "At random state 0 the testing accuracy is : 2284.549520543702\n",
      "\n",
      "\n",
      "At random state 1 the training accuracy is : 982.81166788932\n",
      "At random state 1 the testing accuracy is : 2668.061975584535\n",
      "\n",
      "\n",
      "At random state 2 the training accuracy is : 971.1689109758421\n",
      "At random state 2 the testing accuracy is : 2372.1473073056777\n",
      "\n",
      "\n",
      "At random state 3 the training accuracy is : 960.2023082363542\n",
      "At random state 3 the testing accuracy is : 2844.624528436737\n",
      "\n",
      "\n",
      "At random state 4 the training accuracy is : 968.9318712282088\n",
      "At random state 4 the testing accuracy is : 2439.31250526295\n",
      "\n",
      "\n",
      "At random state 5 the training accuracy is : 923.5441583281239\n",
      "At random state 5 the testing accuracy is : 2825.730461784174\n",
      "\n",
      "\n",
      "At random state 6 the training accuracy is : 949.8408176586081\n",
      "At random state 6 the testing accuracy is : 2434.600226829488\n",
      "\n",
      "\n",
      "At random state 7 the training accuracy is : 1005.2366199068897\n",
      "At random state 7 the testing accuracy is : 2405.2637689020103\n",
      "\n",
      "\n",
      "At random state 8 the training accuracy is : 975.1457051841518\n",
      "At random state 8 the testing accuracy is : 2560.5873332470765\n",
      "\n",
      "\n",
      "At random state 9 the training accuracy is : 936.9189494121624\n",
      "At random state 9 the testing accuracy is : 2597.3623455358374\n",
      "\n",
      "\n"
     ]
    }
   ],
   "source": [
    "# Root Mean Squared Error Method\n",
    "\n",
    "for i in range(0,10):\n",
    "    features_train,features_test,target_train,target_test = train_test_split(feature,target,test_size = 0.2,random_state = i)\n",
    "    x.fit(features_train,target_train)\n",
    "    pred_train = x.predict(features_train)\n",
    "    pred_test = x.predict(features_test)\n",
    "    print(\"At random state \" + str(i) + \" the training accuracy is : \" + str(mean_squared_error(target_train,pred_train,squared=False)))\n",
    "    print(\"At random state \" + str(i) + \" the testing accuracy is : \" + str(mean_squared_error(target_test,pred_test,squared=False)))\n",
    "    print(\"\\n\")"
   ]
  },
  {
   "cell_type": "code",
   "execution_count": 79,
   "id": "d9c0ae51",
   "metadata": {},
   "outputs": [
    {
     "name": "stdout",
     "output_type": "stream",
     "text": [
      "At random state 0 the training accuracy is : 611.5013717476681\n",
      "At random state 0 the testing accuracy is : 1411.6192990196078\n",
      "\n",
      "\n",
      "At random state 1 the training accuracy is : 592.7125962199314\n",
      "At random state 1 the testing accuracy is : 1666.2149019607846\n",
      "\n",
      "\n",
      "At random state 2 the training accuracy is : 592.5859107581177\n",
      "At random state 2 the testing accuracy is : 1581.8372460784315\n",
      "\n",
      "\n",
      "At random state 3 the training accuracy is : 595.1322247703205\n",
      "At random state 3 the testing accuracy is : 1767.6454239495802\n",
      "\n",
      "\n",
      "At random state 4 the training accuracy is : 605.5302903780068\n",
      "At random state 4 the testing accuracy is : 1510.773973039216\n",
      "\n",
      "\n",
      "At random state 5 the training accuracy is : 586.8983840206186\n",
      "At random state 5 the testing accuracy is : 1734.8933632352937\n",
      "\n",
      "\n",
      "At random state 6 the training accuracy is : 595.9355196367206\n",
      "At random state 6 the testing accuracy is : 1586.6026083333336\n",
      "\n",
      "\n",
      "At random state 7 the training accuracy is : 609.4874795041728\n",
      "At random state 7 the testing accuracy is : 1437.8305106442579\n",
      "\n",
      "\n",
      "At random state 8 the training accuracy is : 606.0096865488464\n",
      "At random state 8 the testing accuracy is : 1620.5668647058822\n",
      "\n",
      "\n",
      "At random state 9 the training accuracy is : 582.891969808542\n",
      "At random state 9 the testing accuracy is : 1703.8515588235296\n",
      "\n",
      "\n"
     ]
    }
   ],
   "source": [
    "# Mean Absolute Error Method\n",
    "\n",
    "for i in range(0,10):\n",
    "    features_train,features_test,target_train,target_test = train_test_split(feature,target,test_size = 0.2,random_state = i)\n",
    "    x.fit(features_train,target_train)\n",
    "    pred_train = x.predict(features_train)\n",
    "    pred_test = x.predict(features_test)\n",
    "    print(\"At random state \" + str(i) + \" the training accuracy is : \" + str(mean_absolute_error(target_train,pred_train)))\n",
    "    print(\"At random state \" + str(i) + \" the testing accuracy is : \" + str(mean_absolute_error(target_test,pred_test)))\n",
    "    print(\"\\n\")"
   ]
  },
  {
   "cell_type": "markdown",
   "id": "53df08d8",
   "metadata": {},
   "source": [
    "#### Conclusion of 4 metrics method : As we can see we got best accuracy results in r2_score among (r2_score, mse, rms,mae)"
   ]
  },
  {
   "cell_type": "markdown",
   "id": "6d5571c4",
   "metadata": {},
   "source": [
    "### Ensemble technique:"
   ]
  },
  {
   "cell_type": "code",
   "execution_count": 80,
   "id": "8be44c08",
   "metadata": {},
   "outputs": [
    {
     "name": "stdout",
     "output_type": "stream",
     "text": [
      "{'criterion': 'mae', 'max_features': 'auto', 'min_samples_leaf': 1, 'min_samples_split': 2}\n"
     ]
    }
   ],
   "source": [
    "from sklearn.model_selection import GridSearchCV\n",
    "from sklearn.ensemble import RandomForestRegressor\n",
    "\n",
    "#using 4 parameters\n",
    "parameters = {'criterion':['mse','mae'], 'max_features': [\"auto\",\"sqrt\",\"log2\"], 'min_samples_split' : [2,5,10], 'min_samples_leaf' : [1,2,4]}\n",
    "rf = RandomForestRegressor()\n",
    "clf = GridSearchCV(rf,parameters)\n",
    "clf.fit(features_train,target_train)\n",
    "\n",
    "print(clf.best_params_)"
   ]
  },
  {
   "cell_type": "code",
   "execution_count": 81,
   "id": "f2deb4b9",
   "metadata": {},
   "outputs": [
    {
     "name": "stdout",
     "output_type": "stream",
     "text": [
      "R2 score:  80.7249456235667\n",
      "Cross Validation score:  5.002273821678308\n"
     ]
    }
   ],
   "source": [
    "rf = RandomForestRegressor(criterion = \"mae\", max_features = \"auto\", min_samples_leaf = 1, min_samples_split = 2)\n",
    "rf.fit(features_train,target_train)\n",
    "rf.score(features_train,target_train)\n",
    "pred_decision = rf.predict(features_test)\n",
    "\n",
    "rfs = r2_score(target_test,pred_decision)\n",
    "print('R2 score: ', abs(rfs)*100)\n",
    "\n",
    "rfscore = cross_val_score(ls,feature,target,cv=6)\n",
    "rfc =rfscore.mean()\n",
    "rfc\n",
    "print('Cross Validation score: ', abs(rfc)*100)"
   ]
  },
  {
   "cell_type": "markdown",
   "id": "cdf9a8d3",
   "metadata": {},
   "source": [
    "### Conclusion : We got r2_score as 80.72% for 'Price' prediction"
   ]
  },
  {
   "cell_type": "markdown",
   "id": "bd166545",
   "metadata": {},
   "source": [
    " "
   ]
  }
 ],
 "metadata": {
  "kernelspec": {
   "display_name": "Python 3 (ipykernel)",
   "language": "python",
   "name": "python3"
  },
  "language_info": {
   "codemirror_mode": {
    "name": "ipython",
    "version": 3
   },
   "file_extension": ".py",
   "mimetype": "text/x-python",
   "name": "python",
   "nbconvert_exporter": "python",
   "pygments_lexer": "ipython3",
   "version": "3.7.11"
  }
 },
 "nbformat": 4,
 "nbformat_minor": 5
}
