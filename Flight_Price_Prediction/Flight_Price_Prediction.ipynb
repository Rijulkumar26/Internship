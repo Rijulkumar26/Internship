{
 "cells": [
  {
   "cell_type": "markdown",
   "id": "915543b7",
   "metadata": {},
   "source": [
    " "
   ]
  },
  {
   "cell_type": "code",
   "execution_count": 121,
   "id": "82d0bbed",
   "metadata": {},
   "outputs": [],
   "source": [
    "import numpy as np\n",
    "import pandas as pd\n",
    "import seaborn as sns\n",
    "import matplotlib.pyplot as plt\n",
    "\n",
    "import warnings\n",
    "warnings.filterwarnings('ignore')"
   ]
  },
  {
   "cell_type": "markdown",
   "id": "2443a05a",
   "metadata": {},
   "source": [
    "## EDA:"
   ]
  },
  {
   "cell_type": "code",
   "execution_count": 198,
   "id": "b3baf178",
   "metadata": {},
   "outputs": [],
   "source": [
    "df = pd.read_excel('flight_price_data.xlsx',index_col=0)"
   ]
  },
  {
   "cell_type": "code",
   "execution_count": 199,
   "id": "0775917b",
   "metadata": {},
   "outputs": [
    {
     "data": {
      "text/html": [
       "<div>\n",
       "<style scoped>\n",
       "    .dataframe tbody tr th:only-of-type {\n",
       "        vertical-align: middle;\n",
       "    }\n",
       "\n",
       "    .dataframe tbody tr th {\n",
       "        vertical-align: top;\n",
       "    }\n",
       "\n",
       "    .dataframe thead th {\n",
       "        text-align: right;\n",
       "    }\n",
       "</style>\n",
       "<table border=\"1\" class=\"dataframe\">\n",
       "  <thead>\n",
       "    <tr style=\"text-align: right;\">\n",
       "      <th></th>\n",
       "      <th>Airline Name</th>\n",
       "      <th>Date of journey</th>\n",
       "      <th>Source</th>\n",
       "      <th>Destination</th>\n",
       "      <th>Departure Time</th>\n",
       "      <th>Arrival Time</th>\n",
       "      <th>Duration</th>\n",
       "      <th>Total stops</th>\n",
       "      <th>Price</th>\n",
       "    </tr>\n",
       "  </thead>\n",
       "  <tbody>\n",
       "    <tr>\n",
       "      <th>0</th>\n",
       "      <td>Go First</td>\n",
       "      <td>7 oct 2022</td>\n",
       "      <td>New Delhi</td>\n",
       "      <td>Mumbai</td>\n",
       "      <td>13:20</td>\n",
       "      <td>15:20</td>\n",
       "      <td>2h 00m</td>\n",
       "      <td>Non Stop</td>\n",
       "      <td>5,950</td>\n",
       "    </tr>\n",
       "    <tr>\n",
       "      <th>1</th>\n",
       "      <td>Go First</td>\n",
       "      <td>7 oct 2022</td>\n",
       "      <td>New Delhi</td>\n",
       "      <td>Mumbai</td>\n",
       "      <td>15:15</td>\n",
       "      <td>17:20</td>\n",
       "      <td>2h 05m</td>\n",
       "      <td>Non Stop</td>\n",
       "      <td>5,950</td>\n",
       "    </tr>\n",
       "    <tr>\n",
       "      <th>2</th>\n",
       "      <td>Go First</td>\n",
       "      <td>7 oct 2022</td>\n",
       "      <td>New Delhi</td>\n",
       "      <td>Mumbai</td>\n",
       "      <td>07:00</td>\n",
       "      <td>09:10</td>\n",
       "      <td>2h 10m</td>\n",
       "      <td>Non Stop</td>\n",
       "      <td>5,950</td>\n",
       "    </tr>\n",
       "    <tr>\n",
       "      <th>3</th>\n",
       "      <td>SpiceJet</td>\n",
       "      <td>7 oct 2022</td>\n",
       "      <td>New Delhi</td>\n",
       "      <td>Mumbai</td>\n",
       "      <td>07:20</td>\n",
       "      <td>09:35</td>\n",
       "      <td>2h 15m</td>\n",
       "      <td>Non Stop</td>\n",
       "      <td>5,950</td>\n",
       "    </tr>\n",
       "    <tr>\n",
       "      <th>4</th>\n",
       "      <td>Go First</td>\n",
       "      <td>7 oct 2022</td>\n",
       "      <td>New Delhi</td>\n",
       "      <td>Mumbai</td>\n",
       "      <td>18:20</td>\n",
       "      <td>20:35</td>\n",
       "      <td>2h 15m</td>\n",
       "      <td>Non Stop</td>\n",
       "      <td>5,950</td>\n",
       "    </tr>\n",
       "    <tr>\n",
       "      <th>...</th>\n",
       "      <td>...</td>\n",
       "      <td>...</td>\n",
       "      <td>...</td>\n",
       "      <td>...</td>\n",
       "      <td>...</td>\n",
       "      <td>...</td>\n",
       "      <td>...</td>\n",
       "      <td>...</td>\n",
       "      <td>...</td>\n",
       "    </tr>\n",
       "    <tr>\n",
       "      <th>1693</th>\n",
       "      <td>Vistara</td>\n",
       "      <td>12 oct 2022</td>\n",
       "      <td>Bangalore</td>\n",
       "      <td>Kolkata</td>\n",
       "      <td>11:30</td>\n",
       "      <td>19:35</td>\n",
       "      <td>8h 05m</td>\n",
       "      <td>2 Stop(s)</td>\n",
       "      <td>20,074</td>\n",
       "    </tr>\n",
       "    <tr>\n",
       "      <th>1694</th>\n",
       "      <td>Air India</td>\n",
       "      <td>12 oct 2022</td>\n",
       "      <td>Bangalore</td>\n",
       "      <td>Kolkata</td>\n",
       "      <td>06:10</td>\n",
       "      <td>14:30</td>\n",
       "      <td>8h 20m</td>\n",
       "      <td>1 Stop</td>\n",
       "      <td>21,124</td>\n",
       "    </tr>\n",
       "    <tr>\n",
       "      <th>1695</th>\n",
       "      <td>Air India</td>\n",
       "      <td>12 oct 2022</td>\n",
       "      <td>Bangalore</td>\n",
       "      <td>Kolkata</td>\n",
       "      <td>11:15</td>\n",
       "      <td>19:10</td>\n",
       "      <td>7h 55m</td>\n",
       "      <td>1 Stop</td>\n",
       "      <td>23,224</td>\n",
       "    </tr>\n",
       "    <tr>\n",
       "      <th>1696</th>\n",
       "      <td>Air India</td>\n",
       "      <td>12 oct 2022</td>\n",
       "      <td>Bangalore</td>\n",
       "      <td>Kolkata</td>\n",
       "      <td>06:10</td>\n",
       "      <td>19:10</td>\n",
       "      <td>13h 00m</td>\n",
       "      <td>1 Stop</td>\n",
       "      <td>23,224</td>\n",
       "    </tr>\n",
       "    <tr>\n",
       "      <th>1697</th>\n",
       "      <td>Air India</td>\n",
       "      <td>12 oct 2022</td>\n",
       "      <td>Bangalore</td>\n",
       "      <td>Kolkata</td>\n",
       "      <td>10:00</td>\n",
       "      <td>19:10</td>\n",
       "      <td>9h 10m</td>\n",
       "      <td>1 Stop</td>\n",
       "      <td>23,749</td>\n",
       "    </tr>\n",
       "  </tbody>\n",
       "</table>\n",
       "<p>1698 rows × 9 columns</p>\n",
       "</div>"
      ],
      "text/plain": [
       "     Airline Name Date of journey     Source Destination Departure Time  \\\n",
       "0        Go First      7 oct 2022  New Delhi      Mumbai          13:20   \n",
       "1        Go First      7 oct 2022  New Delhi      Mumbai          15:15   \n",
       "2        Go First      7 oct 2022  New Delhi      Mumbai          07:00   \n",
       "3        SpiceJet      7 oct 2022  New Delhi      Mumbai          07:20   \n",
       "4        Go First      7 oct 2022  New Delhi      Mumbai          18:20   \n",
       "...           ...             ...        ...         ...            ...   \n",
       "1693      Vistara     12 oct 2022  Bangalore     Kolkata          11:30   \n",
       "1694    Air India     12 oct 2022  Bangalore     Kolkata          06:10   \n",
       "1695    Air India     12 oct 2022  Bangalore     Kolkata          11:15   \n",
       "1696    Air India     12 oct 2022  Bangalore     Kolkata          06:10   \n",
       "1697    Air India     12 oct 2022  Bangalore     Kolkata          10:00   \n",
       "\n",
       "     Arrival Time Duration Total stops   Price  \n",
       "0           15:20   2h 00m    Non Stop   5,950  \n",
       "1           17:20   2h 05m    Non Stop   5,950  \n",
       "2           09:10   2h 10m    Non Stop   5,950  \n",
       "3           09:35   2h 15m    Non Stop   5,950  \n",
       "4           20:35   2h 15m    Non Stop   5,950  \n",
       "...           ...      ...         ...     ...  \n",
       "1693        19:35   8h 05m   2 Stop(s)  20,074  \n",
       "1694        14:30   8h 20m      1 Stop  21,124  \n",
       "1695        19:10   7h 55m      1 Stop  23,224  \n",
       "1696        19:10  13h 00m      1 Stop  23,224  \n",
       "1697        19:10   9h 10m      1 Stop  23,749  \n",
       "\n",
       "[1698 rows x 9 columns]"
      ]
     },
     "execution_count": 199,
     "metadata": {},
     "output_type": "execute_result"
    }
   ],
   "source": [
    "df"
   ]
  },
  {
   "cell_type": "code",
   "execution_count": 200,
   "id": "a3a67594",
   "metadata": {
    "scrolled": false
   },
   "outputs": [
    {
     "data": {
      "text/plain": [
       "Airline Name       object\n",
       "Date of journey    object\n",
       "Source             object\n",
       "Destination        object\n",
       "Departure Time     object\n",
       "Arrival Time       object\n",
       "Duration           object\n",
       "Total stops        object\n",
       "Price              object\n",
       "dtype: object"
      ]
     },
     "execution_count": 200,
     "metadata": {},
     "output_type": "execute_result"
    }
   ],
   "source": [
    "#Column Data type in dataframe \n",
    "df.dtypes"
   ]
  },
  {
   "cell_type": "code",
   "execution_count": 201,
   "id": "770dac9a",
   "metadata": {},
   "outputs": [],
   "source": [
    "#Converting duration (in form of hour and min) to minute form\n",
    "df['Duration'] = [(float(j.replace('h','m').split(\"m\")[0]) * 60 + float(j.replace('h','m').split(\"m\")[1])) for j in df['Duration']]"
   ]
  },
  {
   "cell_type": "code",
   "execution_count": 202,
   "id": "5ebe17ef",
   "metadata": {},
   "outputs": [],
   "source": [
    "#Converting 'Departure Time' from object to datetime datatype\n",
    "df['Departure Time'] = pd.to_datetime(df['Departure Time'], format='%H:%M').dt.time"
   ]
  },
  {
   "cell_type": "code",
   "execution_count": 203,
   "id": "afe8d9a0",
   "metadata": {},
   "outputs": [],
   "source": [
    "#Cleaning 'Arrival Time' and converting it from object to datetime datatype\n",
    "df['Arrival Time'] = [j.replace('+ 1 day','').strip() for j in df['Arrival Time']]\n",
    "df['Arrival Time'] = [j.replace('+ 2 days','').strip() for j in df['Arrival Time']]\n",
    "df['Arrival Time'] = pd.to_datetime(df['Arrival Time'], format='%H:%M').dt.time"
   ]
  },
  {
   "cell_type": "code",
   "execution_count": 204,
   "id": "a1edb885",
   "metadata": {},
   "outputs": [],
   "source": [
    "#Converting 'Price' from object to float datatype\n",
    "df['Price'] = [j.replace(',','') for j in df['Price']]\n",
    "df['Price'] = df['Price'].astype('float')"
   ]
  },
  {
   "cell_type": "code",
   "execution_count": 205,
   "id": "886ed6a7",
   "metadata": {},
   "outputs": [
    {
     "data": {
      "text/html": [
       "<div>\n",
       "<style scoped>\n",
       "    .dataframe tbody tr th:only-of-type {\n",
       "        vertical-align: middle;\n",
       "    }\n",
       "\n",
       "    .dataframe tbody tr th {\n",
       "        vertical-align: top;\n",
       "    }\n",
       "\n",
       "    .dataframe thead th {\n",
       "        text-align: right;\n",
       "    }\n",
       "</style>\n",
       "<table border=\"1\" class=\"dataframe\">\n",
       "  <thead>\n",
       "    <tr style=\"text-align: right;\">\n",
       "      <th></th>\n",
       "      <th>Airline Name</th>\n",
       "      <th>Date of journey</th>\n",
       "      <th>Source</th>\n",
       "      <th>Destination</th>\n",
       "      <th>Departure Time</th>\n",
       "      <th>Arrival Time</th>\n",
       "      <th>Duration</th>\n",
       "      <th>Total stops</th>\n",
       "      <th>Price</th>\n",
       "    </tr>\n",
       "  </thead>\n",
       "  <tbody>\n",
       "    <tr>\n",
       "      <th>0</th>\n",
       "      <td>Go First</td>\n",
       "      <td>7 oct 2022</td>\n",
       "      <td>New Delhi</td>\n",
       "      <td>Mumbai</td>\n",
       "      <td>13:20:00</td>\n",
       "      <td>15:20:00</td>\n",
       "      <td>120.0</td>\n",
       "      <td>Non Stop</td>\n",
       "      <td>5950.0</td>\n",
       "    </tr>\n",
       "    <tr>\n",
       "      <th>1</th>\n",
       "      <td>Go First</td>\n",
       "      <td>7 oct 2022</td>\n",
       "      <td>New Delhi</td>\n",
       "      <td>Mumbai</td>\n",
       "      <td>15:15:00</td>\n",
       "      <td>17:20:00</td>\n",
       "      <td>125.0</td>\n",
       "      <td>Non Stop</td>\n",
       "      <td>5950.0</td>\n",
       "    </tr>\n",
       "    <tr>\n",
       "      <th>2</th>\n",
       "      <td>Go First</td>\n",
       "      <td>7 oct 2022</td>\n",
       "      <td>New Delhi</td>\n",
       "      <td>Mumbai</td>\n",
       "      <td>07:00:00</td>\n",
       "      <td>09:10:00</td>\n",
       "      <td>130.0</td>\n",
       "      <td>Non Stop</td>\n",
       "      <td>5950.0</td>\n",
       "    </tr>\n",
       "    <tr>\n",
       "      <th>3</th>\n",
       "      <td>SpiceJet</td>\n",
       "      <td>7 oct 2022</td>\n",
       "      <td>New Delhi</td>\n",
       "      <td>Mumbai</td>\n",
       "      <td>07:20:00</td>\n",
       "      <td>09:35:00</td>\n",
       "      <td>135.0</td>\n",
       "      <td>Non Stop</td>\n",
       "      <td>5950.0</td>\n",
       "    </tr>\n",
       "    <tr>\n",
       "      <th>4</th>\n",
       "      <td>Go First</td>\n",
       "      <td>7 oct 2022</td>\n",
       "      <td>New Delhi</td>\n",
       "      <td>Mumbai</td>\n",
       "      <td>18:20:00</td>\n",
       "      <td>20:35:00</td>\n",
       "      <td>135.0</td>\n",
       "      <td>Non Stop</td>\n",
       "      <td>5950.0</td>\n",
       "    </tr>\n",
       "    <tr>\n",
       "      <th>...</th>\n",
       "      <td>...</td>\n",
       "      <td>...</td>\n",
       "      <td>...</td>\n",
       "      <td>...</td>\n",
       "      <td>...</td>\n",
       "      <td>...</td>\n",
       "      <td>...</td>\n",
       "      <td>...</td>\n",
       "      <td>...</td>\n",
       "    </tr>\n",
       "    <tr>\n",
       "      <th>1693</th>\n",
       "      <td>Vistara</td>\n",
       "      <td>12 oct 2022</td>\n",
       "      <td>Bangalore</td>\n",
       "      <td>Kolkata</td>\n",
       "      <td>11:30:00</td>\n",
       "      <td>19:35:00</td>\n",
       "      <td>485.0</td>\n",
       "      <td>2 Stop(s)</td>\n",
       "      <td>20074.0</td>\n",
       "    </tr>\n",
       "    <tr>\n",
       "      <th>1694</th>\n",
       "      <td>Air India</td>\n",
       "      <td>12 oct 2022</td>\n",
       "      <td>Bangalore</td>\n",
       "      <td>Kolkata</td>\n",
       "      <td>06:10:00</td>\n",
       "      <td>14:30:00</td>\n",
       "      <td>500.0</td>\n",
       "      <td>1 Stop</td>\n",
       "      <td>21124.0</td>\n",
       "    </tr>\n",
       "    <tr>\n",
       "      <th>1695</th>\n",
       "      <td>Air India</td>\n",
       "      <td>12 oct 2022</td>\n",
       "      <td>Bangalore</td>\n",
       "      <td>Kolkata</td>\n",
       "      <td>11:15:00</td>\n",
       "      <td>19:10:00</td>\n",
       "      <td>475.0</td>\n",
       "      <td>1 Stop</td>\n",
       "      <td>23224.0</td>\n",
       "    </tr>\n",
       "    <tr>\n",
       "      <th>1696</th>\n",
       "      <td>Air India</td>\n",
       "      <td>12 oct 2022</td>\n",
       "      <td>Bangalore</td>\n",
       "      <td>Kolkata</td>\n",
       "      <td>06:10:00</td>\n",
       "      <td>19:10:00</td>\n",
       "      <td>780.0</td>\n",
       "      <td>1 Stop</td>\n",
       "      <td>23224.0</td>\n",
       "    </tr>\n",
       "    <tr>\n",
       "      <th>1697</th>\n",
       "      <td>Air India</td>\n",
       "      <td>12 oct 2022</td>\n",
       "      <td>Bangalore</td>\n",
       "      <td>Kolkata</td>\n",
       "      <td>10:00:00</td>\n",
       "      <td>19:10:00</td>\n",
       "      <td>550.0</td>\n",
       "      <td>1 Stop</td>\n",
       "      <td>23749.0</td>\n",
       "    </tr>\n",
       "  </tbody>\n",
       "</table>\n",
       "<p>1698 rows × 9 columns</p>\n",
       "</div>"
      ],
      "text/plain": [
       "     Airline Name Date of journey     Source Destination Departure Time  \\\n",
       "0        Go First      7 oct 2022  New Delhi      Mumbai       13:20:00   \n",
       "1        Go First      7 oct 2022  New Delhi      Mumbai       15:15:00   \n",
       "2        Go First      7 oct 2022  New Delhi      Mumbai       07:00:00   \n",
       "3        SpiceJet      7 oct 2022  New Delhi      Mumbai       07:20:00   \n",
       "4        Go First      7 oct 2022  New Delhi      Mumbai       18:20:00   \n",
       "...           ...             ...        ...         ...            ...   \n",
       "1693      Vistara     12 oct 2022  Bangalore     Kolkata       11:30:00   \n",
       "1694    Air India     12 oct 2022  Bangalore     Kolkata       06:10:00   \n",
       "1695    Air India     12 oct 2022  Bangalore     Kolkata       11:15:00   \n",
       "1696    Air India     12 oct 2022  Bangalore     Kolkata       06:10:00   \n",
       "1697    Air India     12 oct 2022  Bangalore     Kolkata       10:00:00   \n",
       "\n",
       "     Arrival Time  Duration Total stops    Price  \n",
       "0        15:20:00     120.0    Non Stop   5950.0  \n",
       "1        17:20:00     125.0    Non Stop   5950.0  \n",
       "2        09:10:00     130.0    Non Stop   5950.0  \n",
       "3        09:35:00     135.0    Non Stop   5950.0  \n",
       "4        20:35:00     135.0    Non Stop   5950.0  \n",
       "...           ...       ...         ...      ...  \n",
       "1693     19:35:00     485.0   2 Stop(s)  20074.0  \n",
       "1694     14:30:00     500.0      1 Stop  21124.0  \n",
       "1695     19:10:00     475.0      1 Stop  23224.0  \n",
       "1696     19:10:00     780.0      1 Stop  23224.0  \n",
       "1697     19:10:00     550.0      1 Stop  23749.0  \n",
       "\n",
       "[1698 rows x 9 columns]"
      ]
     },
     "execution_count": 205,
     "metadata": {},
     "output_type": "execute_result"
    }
   ],
   "source": [
    "df"
   ]
  },
  {
   "cell_type": "markdown",
   "id": "1292d011",
   "metadata": {},
   "source": [
    "#### Point to note here is that all columns are not numeric"
   ]
  },
  {
   "cell_type": "code",
   "execution_count": 206,
   "id": "949eae14",
   "metadata": {},
   "outputs": [
    {
     "data": {
      "text/html": [
       "<div>\n",
       "<style scoped>\n",
       "    .dataframe tbody tr th:only-of-type {\n",
       "        vertical-align: middle;\n",
       "    }\n",
       "\n",
       "    .dataframe tbody tr th {\n",
       "        vertical-align: top;\n",
       "    }\n",
       "\n",
       "    .dataframe thead th {\n",
       "        text-align: right;\n",
       "    }\n",
       "</style>\n",
       "<table border=\"1\" class=\"dataframe\">\n",
       "  <thead>\n",
       "    <tr style=\"text-align: right;\">\n",
       "      <th></th>\n",
       "      <th>Duration</th>\n",
       "      <th>Price</th>\n",
       "    </tr>\n",
       "  </thead>\n",
       "  <tbody>\n",
       "    <tr>\n",
       "      <th>count</th>\n",
       "      <td>1698.000000</td>\n",
       "      <td>1698.000000</td>\n",
       "    </tr>\n",
       "    <tr>\n",
       "      <th>mean</th>\n",
       "      <td>597.326266</td>\n",
       "      <td>12468.618375</td>\n",
       "    </tr>\n",
       "    <tr>\n",
       "      <th>std</th>\n",
       "      <td>480.445072</td>\n",
       "      <td>5897.449152</td>\n",
       "    </tr>\n",
       "    <tr>\n",
       "      <th>min</th>\n",
       "      <td>115.000000</td>\n",
       "      <td>5672.000000</td>\n",
       "    </tr>\n",
       "    <tr>\n",
       "      <th>25%</th>\n",
       "      <td>260.000000</td>\n",
       "      <td>8579.000000</td>\n",
       "    </tr>\n",
       "    <tr>\n",
       "      <th>50%</th>\n",
       "      <td>410.000000</td>\n",
       "      <td>10962.000000</td>\n",
       "    </tr>\n",
       "    <tr>\n",
       "      <th>75%</th>\n",
       "      <td>820.000000</td>\n",
       "      <td>15479.500000</td>\n",
       "    </tr>\n",
       "    <tr>\n",
       "      <th>max</th>\n",
       "      <td>2410.000000</td>\n",
       "      <td>36932.000000</td>\n",
       "    </tr>\n",
       "  </tbody>\n",
       "</table>\n",
       "</div>"
      ],
      "text/plain": [
       "          Duration         Price\n",
       "count  1698.000000   1698.000000\n",
       "mean    597.326266  12468.618375\n",
       "std     480.445072   5897.449152\n",
       "min     115.000000   5672.000000\n",
       "25%     260.000000   8579.000000\n",
       "50%     410.000000  10962.000000\n",
       "75%     820.000000  15479.500000\n",
       "max    2410.000000  36932.000000"
      ]
     },
     "execution_count": 206,
     "metadata": {},
     "output_type": "execute_result"
    }
   ],
   "source": [
    "#Statistical summary\n",
    "df.describe()"
   ]
  },
  {
   "cell_type": "code",
   "execution_count": 207,
   "id": "ae5679e0",
   "metadata": {},
   "outputs": [
    {
     "data": {
      "text/plain": [
       "(1698, 9)"
      ]
     },
     "execution_count": 207,
     "metadata": {},
     "output_type": "execute_result"
    }
   ],
   "source": [
    "df.shape"
   ]
  },
  {
   "cell_type": "markdown",
   "id": "3801735e",
   "metadata": {},
   "source": [
    "#### We have 1698 data rows and 9 columns in the dataframe."
   ]
  },
  {
   "cell_type": "markdown",
   "id": "7b6d143a",
   "metadata": {},
   "source": [
    "### Target variable is 'Price'"
   ]
  },
  {
   "cell_type": "markdown",
   "id": "88bdcaa6",
   "metadata": {},
   "source": [
    " "
   ]
  },
  {
   "cell_type": "markdown",
   "id": "14c9b4f0",
   "metadata": {},
   "source": [
    "### Checking Null values in Training Dataframe:"
   ]
  },
  {
   "cell_type": "code",
   "execution_count": 208,
   "id": "d9b9a64f",
   "metadata": {
    "scrolled": false
   },
   "outputs": [
    {
     "data": {
      "image/png": "[encoded data removed]",
      "text/plain": [
       "<Figure size 576x288 with 2 Axes>"
      ]
     },
     "metadata": {},
     "output_type": "display_data"
    }
   ],
   "source": [
    "#Checking null values using heatmap\n",
    "sns.set(rc={'figure.figsize':(8,4)})\n",
    "sns.heatmap(df.isnull())\n",
    "plt.show()"
   ]
  },
  {
   "cell_type": "code",
   "execution_count": 209,
   "id": "336f27f6",
   "metadata": {},
   "outputs": [
    {
     "data": {
      "text/plain": [
       "0"
      ]
     },
     "execution_count": 209,
     "metadata": {},
     "output_type": "execute_result"
    }
   ],
   "source": [
    "#Total number of null values in complete dataset\n",
    "df.isnull().sum().sum()"
   ]
  },
  {
   "cell_type": "code",
   "execution_count": 210,
   "id": "d2d5aead",
   "metadata": {
    "scrolled": false
   },
   "outputs": [
    {
     "data": {
      "text/plain": [
       "Airline Name       0\n",
       "Date of journey    0\n",
       "Source             0\n",
       "Destination        0\n",
       "Departure Time     0\n",
       "Arrival Time       0\n",
       "Duration           0\n",
       "Total stops        0\n",
       "Price              0\n",
       "dtype: int64"
      ]
     },
     "execution_count": 210,
     "metadata": {},
     "output_type": "execute_result"
    }
   ],
   "source": [
    "#number of null values in each column\n",
    "df.isnull().sum()"
   ]
  },
  {
   "cell_type": "markdown",
   "id": "254bdc90",
   "metadata": {},
   "source": [
    "#### As we can see there are no NULL values in dataframe"
   ]
  },
  {
   "cell_type": "markdown",
   "id": "f3be5d1b",
   "metadata": {},
   "source": [
    "### Histogram Plots :"
   ]
  },
  {
   "cell_type": "code",
   "execution_count": 211,
   "id": "2b83102e",
   "metadata": {
    "scrolled": true
   },
   "outputs": [],
   "source": [
    "#Making dataframe of nominal data\n",
    "df_visualisation_nominal = df[['Airline Name','Date of journey','Source','Destination','Total stops']].copy()"
   ]
  },
  {
   "cell_type": "code",
   "execution_count": 212,
   "id": "91b0762e",
   "metadata": {},
   "outputs": [
    {
     "name": "stdout",
     "output_type": "stream",
     "text": [
      "IndiGo       514\n",
      "Air India    442\n",
      "Vistara      418\n",
      "Air Asia     143\n",
      "Go First     131\n",
      "SpiceJet      50\n",
      "Name: Airline Name, dtype: int64\n"
     ]
    },
    {
     "data": {
      "image/png": "[encoded data removed]",
      "text/plain": [
       "<Figure size 576x288 with 1 Axes>"
      ]
     },
     "metadata": {},
     "output_type": "display_data"
    }
   ],
   "source": [
    "#Visualisation of Airline Name data\n",
    "ax = sns.countplot(x='Airline Name',data=df_visualisation_nominal)\n",
    "print(df_visualisation_nominal['Airline Name'].value_counts())"
   ]
  },
  {
   "cell_type": "markdown",
   "id": "30019e1c",
   "metadata": {},
   "source": [
    "**As we can see most flights are of Indigo airlines between the source and destinations**"
   ]
  },
  {
   "cell_type": "code",
   "execution_count": 213,
   "id": "c2c9df7b",
   "metadata": {},
   "outputs": [
    {
     "name": "stdout",
     "output_type": "stream",
     "text": [
      "7 oct 2022     291\n",
      "10 oct 2022    283\n",
      "12 oct 2022    282\n",
      "8 oct 2022     281\n",
      "11 oct 2022    281\n",
      "9 oct 2022     280\n",
      "Name: Date of journey, dtype: int64\n"
     ]
    },
    {
     "data": {
      "image/png": "[encoded data removed]",
      "text/plain": [
       "<Figure size 576x288 with 1 Axes>"
      ]
     },
     "metadata": {},
     "output_type": "display_data"
    }
   ],
   "source": [
    "#Visualisation of Date of journey data\n",
    "ax = sns.countplot(x='Date of journey',data=df_visualisation_nominal)\n",
    "print(df_visualisation_nominal['Date of journey'].value_counts())"
   ]
  },
  {
   "cell_type": "markdown",
   "id": "efb0ea83",
   "metadata": {},
   "source": [
    "**As we can see that there are almost equal number of flights every day**"
   ]
  },
  {
   "cell_type": "code",
   "execution_count": 214,
   "id": "6c246064",
   "metadata": {},
   "outputs": [
    {
     "name": "stdout",
     "output_type": "stream",
     "text": [
      "New Delhi    955\n",
      "Bangalore    743\n",
      "Name: Source, dtype: int64\n"
     ]
    },
    {
     "data": {
      "image/png": "[encoded data removed]",
      "text/plain": [
       "<Figure size 576x288 with 1 Axes>"
      ]
     },
     "metadata": {},
     "output_type": "display_data"
    }
   ],
   "source": [
    "#Visualisation of Source data\n",
    "sns.set(rc={'figure.figsize':(8,4)})\n",
    "ax = sns.countplot(x='Source',data=df_visualisation_nominal)\n",
    "print(df_visualisation_nominal['Source'].value_counts())"
   ]
  },
  {
   "cell_type": "markdown",
   "id": "00d39b19",
   "metadata": {},
   "source": [
    "**There are more flights from Delhi to Mumbai than Bangalore to Kolkata from 7 oct 2022 to 12 oct 2022**"
   ]
  },
  {
   "cell_type": "code",
   "execution_count": 215,
   "id": "aad7c08b",
   "metadata": {},
   "outputs": [
    {
     "name": "stdout",
     "output_type": "stream",
     "text": [
      "Mumbai     955\n",
      "Kolkata    743\n",
      "Name: Destination, dtype: int64\n"
     ]
    },
    {
     "data": {
      "image/png": "[encoded data removed]",
      "text/plain": [
       "<Figure size 576x288 with 1 Axes>"
      ]
     },
     "metadata": {},
     "output_type": "display_data"
    }
   ],
   "source": [
    "#Visualisation of Destination data\n",
    "ax = sns.countplot(x='Destination',data=df_visualisation_nominal)\n",
    "print(df_visualisation_nominal['Destination'].value_counts())"
   ]
  },
  {
   "cell_type": "markdown",
   "id": "93a1e9c9",
   "metadata": {},
   "source": [
    "**There are more flights to Delhi to Mumbai than Bangalore to Kolkata from 7 oct 2022 to 12 oct 2022**"
   ]
  },
  {
   "cell_type": "code",
   "execution_count": 216,
   "id": "f22413aa",
   "metadata": {},
   "outputs": [
    {
     "name": "stdout",
     "output_type": "stream",
     "text": [
      "1 Stop       1158\n",
      "Non Stop      398\n",
      "2 Stop(s)     113\n",
      "3 Stop(s)      29\n",
      "Name: Total stops, dtype: int64\n"
     ]
    },
    {
     "data": {
      "image/png": "[encoded data removed]",
      "text/plain": [
       "<Figure size 576x288 with 1 Axes>"
      ]
     },
     "metadata": {},
     "output_type": "display_data"
    }
   ],
   "source": [
    "#Visualisation of Total stops data\n",
    "ax = sns.countplot(x='Total stops',data=df_visualisation_nominal)\n",
    "print(df_visualisation_nominal['Total stops'].value_counts())"
   ]
  },
  {
   "cell_type": "markdown",
   "id": "3dcb1d37",
   "metadata": {},
   "source": [
    "**Most are 1 stop flights and least are 3 stop flights.**"
   ]
  },
  {
   "cell_type": "markdown",
   "id": "d80f0166",
   "metadata": {},
   "source": [
    "### Density Plots:"
   ]
  },
  {
   "cell_type": "code",
   "execution_count": 217,
   "id": "2ce2d9fd",
   "metadata": {
    "scrolled": true
   },
   "outputs": [],
   "source": [
    "#Making dataframe of Continous data\n",
    "df_visualisation_continous = df[['Duration','Price']].copy()"
   ]
  },
  {
   "cell_type": "code",
   "execution_count": 218,
   "id": "28ac927b",
   "metadata": {},
   "outputs": [
    {
     "data": {
      "text/plain": [
       "<AxesSubplot:xlabel='Duration', ylabel='Density'>"
      ]
     },
     "execution_count": 218,
     "metadata": {},
     "output_type": "execute_result"
    },
    {
     "data": {
      "image/png": "[encoded data removed]",
      "text/plain": [
       "<Figure size 576x288 with 1 Axes>"
      ]
     },
     "metadata": {},
     "output_type": "display_data"
    }
   ],
   "source": [
    "#Visualisation of Duration data\n",
    "sns.distplot(df_visualisation_continous['Duration'])"
   ]
  },
  {
   "cell_type": "markdown",
   "id": "a87101ce",
   "metadata": {},
   "source": [
    "**Above graph looks skewed right with mode around 250 minutes**"
   ]
  },
  {
   "cell_type": "code",
   "execution_count": 219,
   "id": "55217cac",
   "metadata": {},
   "outputs": [
    {
     "data": {
      "text/plain": [
       "<AxesSubplot:xlabel='Price', ylabel='Density'>"
      ]
     },
     "execution_count": 219,
     "metadata": {},
     "output_type": "execute_result"
    },
    {
     "data": {
      "image/png": "[encoded data removed]",
      "text/plain": [
       "<Figure size 576x288 with 1 Axes>"
      ]
     },
     "metadata": {},
     "output_type": "display_data"
    }
   ],
   "source": [
    "#Visualisation of Price data\n",
    "sns.distplot(df_visualisation_continous['Price'])"
   ]
  },
  {
   "cell_type": "markdown",
   "id": "0f826478",
   "metadata": {},
   "source": [
    "**Above graph looks skewed right with mode around ₹5,000**"
   ]
  },
  {
   "cell_type": "markdown",
   "id": "37808d2d",
   "metadata": {},
   "source": [
    "### Some important plots:"
   ]
  },
  {
   "cell_type": "code",
   "execution_count": 222,
   "id": "f3fc6a15",
   "metadata": {},
   "outputs": [
    {
     "data": {
      "text/plain": [
       "<AxesSubplot:xlabel='Date of journey', ylabel='Price'>"
      ]
     },
     "execution_count": 222,
     "metadata": {},
     "output_type": "execute_result"
    },
    {
     "data": {
      "image/png": "[encoded data removed]",
      "text/plain": [
       "<Figure size 576x288 with 1 Axes>"
      ]
     },
     "metadata": {},
     "output_type": "display_data"
    }
   ],
   "source": [
    "#Plotting Price vs Date of journey\n",
    "sns.lineplot(x = df['Date of journey'], y = df['Price'], data = df)"
   ]
  },
  {
   "cell_type": "markdown",
   "id": "bc5b527e",
   "metadata": {},
   "source": [
    "**As we can see that more the difference between date of booking and date of journey, lesser will be the flight price**"
   ]
  },
  {
   "cell_type": "code",
   "execution_count": 223,
   "id": "f947aeb6",
   "metadata": {},
   "outputs": [
    {
     "data": {
      "text/plain": [
       "<AxesSubplot:xlabel='Airline Name', ylabel='Price'>"
      ]
     },
     "execution_count": 223,
     "metadata": {},
     "output_type": "execute_result"
    },
    {
     "data": {
      "image/png": "[encoded data removed]",
      "text/plain": [
       "<Figure size 576x288 with 1 Axes>"
      ]
     },
     "metadata": {},
     "output_type": "display_data"
    }
   ],
   "source": [
    "#Plotting Price vs Airline Name\n",
    "sns.lineplot(x = df['Airline Name'], y = df['Price'], data = df)"
   ]
  },
  {
   "cell_type": "markdown",
   "id": "856feb11",
   "metadata": {},
   "source": [
    "**As we can see cheapest flight is Spicejet and most expensive is Vistara**"
   ]
  },
  {
   "cell_type": "code",
   "execution_count": 228,
   "id": "b246092b",
   "metadata": {},
   "outputs": [
    {
     "data": {
      "text/plain": [
       "<AxesSubplot:xlabel='Departure Time', ylabel='Price'>"
      ]
     },
     "execution_count": 228,
     "metadata": {},
     "output_type": "execute_result"
    },
    {
     "data": {
      "image/png": "[encoded data removed]",
      "text/plain": [
       "<Figure size 576x288 with 1 Axes>"
      ]
     },
     "metadata": {},
     "output_type": "display_data"
    }
   ],
   "source": [
    "# Creating df1 with departure time in ascending order and then plotting it with price\n",
    "df1 = df.sort_values(by=['Departure Time'], ascending=True)\n",
    "sns.barplot(x = df1['Departure Time'], y = df1['Price'],data = df1)"
   ]
  },
  {
   "cell_type": "code",
   "execution_count": 229,
   "id": "b7b29d5e",
   "metadata": {},
   "outputs": [
    {
     "data": {
      "text/html": [
       "<div>\n",
       "<style scoped>\n",
       "    .dataframe tbody tr th:only-of-type {\n",
       "        vertical-align: middle;\n",
       "    }\n",
       "\n",
       "    .dataframe tbody tr th {\n",
       "        vertical-align: top;\n",
       "    }\n",
       "\n",
       "    .dataframe thead th {\n",
       "        text-align: right;\n",
       "    }\n",
       "</style>\n",
       "<table border=\"1\" class=\"dataframe\">\n",
       "  <thead>\n",
       "    <tr style=\"text-align: right;\">\n",
       "      <th></th>\n",
       "      <th>Airline Name</th>\n",
       "      <th>Date of journey</th>\n",
       "      <th>Source</th>\n",
       "      <th>Destination</th>\n",
       "      <th>Departure Time</th>\n",
       "      <th>Arrival Time</th>\n",
       "      <th>Duration</th>\n",
       "      <th>Total stops</th>\n",
       "      <th>Price</th>\n",
       "    </tr>\n",
       "  </thead>\n",
       "  <tbody>\n",
       "    <tr>\n",
       "      <th>240</th>\n",
       "      <td>IndiGo</td>\n",
       "      <td>8 oct 2022</td>\n",
       "      <td>New Delhi</td>\n",
       "      <td>Mumbai</td>\n",
       "      <td>00:15:00</td>\n",
       "      <td>05:30:00</td>\n",
       "      <td>315.0</td>\n",
       "      <td>1 Stop</td>\n",
       "      <td>9393.0</td>\n",
       "    </tr>\n",
       "    <tr>\n",
       "      <th>543</th>\n",
       "      <td>IndiGo</td>\n",
       "      <td>10 oct 2022</td>\n",
       "      <td>New Delhi</td>\n",
       "      <td>Mumbai</td>\n",
       "      <td>00:15:00</td>\n",
       "      <td>05:30:00</td>\n",
       "      <td>315.0</td>\n",
       "      <td>1 Stop</td>\n",
       "      <td>7805.0</td>\n",
       "    </tr>\n",
       "    <tr>\n",
       "      <th>370</th>\n",
       "      <td>IndiGo</td>\n",
       "      <td>9 oct 2022</td>\n",
       "      <td>New Delhi</td>\n",
       "      <td>Mumbai</td>\n",
       "      <td>00:15:00</td>\n",
       "      <td>05:30:00</td>\n",
       "      <td>315.0</td>\n",
       "      <td>1 Stop</td>\n",
       "      <td>7805.0</td>\n",
       "    </tr>\n",
       "    <tr>\n",
       "      <th>860</th>\n",
       "      <td>IndiGo</td>\n",
       "      <td>12 oct 2022</td>\n",
       "      <td>New Delhi</td>\n",
       "      <td>Mumbai</td>\n",
       "      <td>00:15:00</td>\n",
       "      <td>05:30:00</td>\n",
       "      <td>315.0</td>\n",
       "      <td>1 Stop</td>\n",
       "      <td>7913.0</td>\n",
       "    </tr>\n",
       "    <tr>\n",
       "      <th>701</th>\n",
       "      <td>IndiGo</td>\n",
       "      <td>11 oct 2022</td>\n",
       "      <td>New Delhi</td>\n",
       "      <td>Mumbai</td>\n",
       "      <td>00:15:00</td>\n",
       "      <td>05:30:00</td>\n",
       "      <td>315.0</td>\n",
       "      <td>1 Stop</td>\n",
       "      <td>7913.0</td>\n",
       "    </tr>\n",
       "    <tr>\n",
       "      <th>...</th>\n",
       "      <td>...</td>\n",
       "      <td>...</td>\n",
       "      <td>...</td>\n",
       "      <td>...</td>\n",
       "      <td>...</td>\n",
       "      <td>...</td>\n",
       "      <td>...</td>\n",
       "      <td>...</td>\n",
       "      <td>...</td>\n",
       "    </tr>\n",
       "    <tr>\n",
       "      <th>813</th>\n",
       "      <td>IndiGo</td>\n",
       "      <td>12 oct 2022</td>\n",
       "      <td>New Delhi</td>\n",
       "      <td>Mumbai</td>\n",
       "      <td>23:35:00</td>\n",
       "      <td>01:40:00</td>\n",
       "      <td>125.0</td>\n",
       "      <td>Non Stop</td>\n",
       "      <td>5954.0</td>\n",
       "    </tr>\n",
       "    <tr>\n",
       "      <th>495</th>\n",
       "      <td>IndiGo</td>\n",
       "      <td>10 oct 2022</td>\n",
       "      <td>New Delhi</td>\n",
       "      <td>Mumbai</td>\n",
       "      <td>23:35:00</td>\n",
       "      <td>01:40:00</td>\n",
       "      <td>125.0</td>\n",
       "      <td>Non Stop</td>\n",
       "      <td>5954.0</td>\n",
       "    </tr>\n",
       "    <tr>\n",
       "      <th>1475</th>\n",
       "      <td>Air Asia</td>\n",
       "      <td>11 oct 2022</td>\n",
       "      <td>Bangalore</td>\n",
       "      <td>Kolkata</td>\n",
       "      <td>23:35:00</td>\n",
       "      <td>02:05:00</td>\n",
       "      <td>150.0</td>\n",
       "      <td>Non Stop</td>\n",
       "      <td>8839.0</td>\n",
       "    </tr>\n",
       "    <tr>\n",
       "      <th>968</th>\n",
       "      <td>Air Asia</td>\n",
       "      <td>7 oct 2022</td>\n",
       "      <td>Bangalore</td>\n",
       "      <td>Kolkata</td>\n",
       "      <td>23:35:00</td>\n",
       "      <td>02:05:00</td>\n",
       "      <td>150.0</td>\n",
       "      <td>Non Stop</td>\n",
       "      <td>8839.0</td>\n",
       "    </tr>\n",
       "    <tr>\n",
       "      <th>1203</th>\n",
       "      <td>Air Asia</td>\n",
       "      <td>9 oct 2022</td>\n",
       "      <td>Bangalore</td>\n",
       "      <td>Kolkata</td>\n",
       "      <td>23:35:00</td>\n",
       "      <td>02:05:00</td>\n",
       "      <td>150.0</td>\n",
       "      <td>Non Stop</td>\n",
       "      <td>8839.0</td>\n",
       "    </tr>\n",
       "  </tbody>\n",
       "</table>\n",
       "<p>1698 rows × 9 columns</p>\n",
       "</div>"
      ],
      "text/plain": [
       "     Airline Name Date of journey     Source Destination Departure Time  \\\n",
       "240        IndiGo      8 oct 2022  New Delhi      Mumbai       00:15:00   \n",
       "543        IndiGo     10 oct 2022  New Delhi      Mumbai       00:15:00   \n",
       "370        IndiGo      9 oct 2022  New Delhi      Mumbai       00:15:00   \n",
       "860        IndiGo     12 oct 2022  New Delhi      Mumbai       00:15:00   \n",
       "701        IndiGo     11 oct 2022  New Delhi      Mumbai       00:15:00   \n",
       "...           ...             ...        ...         ...            ...   \n",
       "813        IndiGo     12 oct 2022  New Delhi      Mumbai       23:35:00   \n",
       "495        IndiGo     10 oct 2022  New Delhi      Mumbai       23:35:00   \n",
       "1475     Air Asia     11 oct 2022  Bangalore     Kolkata       23:35:00   \n",
       "968      Air Asia      7 oct 2022  Bangalore     Kolkata       23:35:00   \n",
       "1203     Air Asia      9 oct 2022  Bangalore     Kolkata       23:35:00   \n",
       "\n",
       "     Arrival Time  Duration Total stops   Price  \n",
       "240      05:30:00     315.0      1 Stop  9393.0  \n",
       "543      05:30:00     315.0      1 Stop  7805.0  \n",
       "370      05:30:00     315.0      1 Stop  7805.0  \n",
       "860      05:30:00     315.0      1 Stop  7913.0  \n",
       "701      05:30:00     315.0      1 Stop  7913.0  \n",
       "...           ...       ...         ...     ...  \n",
       "813      01:40:00     125.0    Non Stop  5954.0  \n",
       "495      01:40:00     125.0    Non Stop  5954.0  \n",
       "1475     02:05:00     150.0    Non Stop  8839.0  \n",
       "968      02:05:00     150.0    Non Stop  8839.0  \n",
       "1203     02:05:00     150.0    Non Stop  8839.0  \n",
       "\n",
       "[1698 rows x 9 columns]"
      ]
     },
     "execution_count": 229,
     "metadata": {},
     "output_type": "execute_result"
    }
   ],
   "source": [
    "df1"
   ]
  },
  {
   "cell_type": "markdown",
   "id": "70e1dad5",
   "metadata": {},
   "source": [
    "**As we can see that prices vary every hour throughout the day.**"
   ]
  },
  {
   "cell_type": "markdown",
   "id": "c7ca1425",
   "metadata": {},
   "source": [
    "#### Visualisation is completed"
   ]
  },
  {
   "cell_type": "markdown",
   "id": "b0fe6111",
   "metadata": {},
   "source": [
    "  "
   ]
  },
  {
   "cell_type": "markdown",
   "id": "02cae3e8",
   "metadata": {},
   "source": [
    "### Encoding of Both training and testing Dataframe(Converting String to numeric):"
   ]
  },
  {
   "cell_type": "code",
   "execution_count": 230,
   "id": "6a74a3e9",
   "metadata": {},
   "outputs": [],
   "source": [
    "from sklearn.preprocessing import OrdinalEncoder\n",
    "enc = OrdinalEncoder()"
   ]
  },
  {
   "cell_type": "code",
   "execution_count": 231,
   "id": "2e402c1a",
   "metadata": {},
   "outputs": [],
   "source": [
    "for i in df.columns:\n",
    "    if df[i].dtypes == \"object\":\n",
    "        df[i] = enc.fit_transform(df[i].values.reshape(-1,1))"
   ]
  },
  {
   "cell_type": "code",
   "execution_count": 232,
   "id": "0175c587",
   "metadata": {},
   "outputs": [
    {
     "data": {
      "text/html": [
       "<div>\n",
       "<style scoped>\n",
       "    .dataframe tbody tr th:only-of-type {\n",
       "        vertical-align: middle;\n",
       "    }\n",
       "\n",
       "    .dataframe tbody tr th {\n",
       "        vertical-align: top;\n",
       "    }\n",
       "\n",
       "    .dataframe thead th {\n",
       "        text-align: right;\n",
       "    }\n",
       "</style>\n",
       "<table border=\"1\" class=\"dataframe\">\n",
       "  <thead>\n",
       "    <tr style=\"text-align: right;\">\n",
       "      <th></th>\n",
       "      <th>Airline Name</th>\n",
       "      <th>Date of journey</th>\n",
       "      <th>Source</th>\n",
       "      <th>Destination</th>\n",
       "      <th>Departure Time</th>\n",
       "      <th>Arrival Time</th>\n",
       "      <th>Duration</th>\n",
       "      <th>Total stops</th>\n",
       "      <th>Price</th>\n",
       "    </tr>\n",
       "  </thead>\n",
       "  <tbody>\n",
       "    <tr>\n",
       "      <th>0</th>\n",
       "      <td>2.0</td>\n",
       "      <td>3.0</td>\n",
       "      <td>1.0</td>\n",
       "      <td>1.0</td>\n",
       "      <td>73.0</td>\n",
       "      <td>84.0</td>\n",
       "      <td>120.0</td>\n",
       "      <td>3.0</td>\n",
       "      <td>5950.0</td>\n",
       "    </tr>\n",
       "    <tr>\n",
       "      <th>1</th>\n",
       "      <td>2.0</td>\n",
       "      <td>3.0</td>\n",
       "      <td>1.0</td>\n",
       "      <td>1.0</td>\n",
       "      <td>89.0</td>\n",
       "      <td>100.0</td>\n",
       "      <td>125.0</td>\n",
       "      <td>3.0</td>\n",
       "      <td>5950.0</td>\n",
       "    </tr>\n",
       "    <tr>\n",
       "      <th>2</th>\n",
       "      <td>2.0</td>\n",
       "      <td>3.0</td>\n",
       "      <td>1.0</td>\n",
       "      <td>1.0</td>\n",
       "      <td>27.0</td>\n",
       "      <td>39.0</td>\n",
       "      <td>130.0</td>\n",
       "      <td>3.0</td>\n",
       "      <td>5950.0</td>\n",
       "    </tr>\n",
       "    <tr>\n",
       "      <th>3</th>\n",
       "      <td>4.0</td>\n",
       "      <td>3.0</td>\n",
       "      <td>1.0</td>\n",
       "      <td>1.0</td>\n",
       "      <td>30.0</td>\n",
       "      <td>41.0</td>\n",
       "      <td>135.0</td>\n",
       "      <td>3.0</td>\n",
       "      <td>5950.0</td>\n",
       "    </tr>\n",
       "    <tr>\n",
       "      <th>4</th>\n",
       "      <td>2.0</td>\n",
       "      <td>3.0</td>\n",
       "      <td>1.0</td>\n",
       "      <td>1.0</td>\n",
       "      <td>114.0</td>\n",
       "      <td>131.0</td>\n",
       "      <td>135.0</td>\n",
       "      <td>3.0</td>\n",
       "      <td>5950.0</td>\n",
       "    </tr>\n",
       "    <tr>\n",
       "      <th>...</th>\n",
       "      <td>...</td>\n",
       "      <td>...</td>\n",
       "      <td>...</td>\n",
       "      <td>...</td>\n",
       "      <td>...</td>\n",
       "      <td>...</td>\n",
       "      <td>...</td>\n",
       "      <td>...</td>\n",
       "      <td>...</td>\n",
       "    </tr>\n",
       "    <tr>\n",
       "      <th>1693</th>\n",
       "      <td>5.0</td>\n",
       "      <td>2.0</td>\n",
       "      <td>0.0</td>\n",
       "      <td>0.0</td>\n",
       "      <td>61.0</td>\n",
       "      <td>121.0</td>\n",
       "      <td>485.0</td>\n",
       "      <td>1.0</td>\n",
       "      <td>20074.0</td>\n",
       "    </tr>\n",
       "    <tr>\n",
       "      <th>1694</th>\n",
       "      <td>1.0</td>\n",
       "      <td>2.0</td>\n",
       "      <td>0.0</td>\n",
       "      <td>0.0</td>\n",
       "      <td>18.0</td>\n",
       "      <td>79.0</td>\n",
       "      <td>500.0</td>\n",
       "      <td>0.0</td>\n",
       "      <td>21124.0</td>\n",
       "    </tr>\n",
       "    <tr>\n",
       "      <th>1695</th>\n",
       "      <td>1.0</td>\n",
       "      <td>2.0</td>\n",
       "      <td>0.0</td>\n",
       "      <td>0.0</td>\n",
       "      <td>60.0</td>\n",
       "      <td>117.0</td>\n",
       "      <td>475.0</td>\n",
       "      <td>0.0</td>\n",
       "      <td>23224.0</td>\n",
       "    </tr>\n",
       "    <tr>\n",
       "      <th>1696</th>\n",
       "      <td>1.0</td>\n",
       "      <td>2.0</td>\n",
       "      <td>0.0</td>\n",
       "      <td>0.0</td>\n",
       "      <td>18.0</td>\n",
       "      <td>117.0</td>\n",
       "      <td>780.0</td>\n",
       "      <td>0.0</td>\n",
       "      <td>23224.0</td>\n",
       "    </tr>\n",
       "    <tr>\n",
       "      <th>1697</th>\n",
       "      <td>1.0</td>\n",
       "      <td>2.0</td>\n",
       "      <td>0.0</td>\n",
       "      <td>0.0</td>\n",
       "      <td>52.0</td>\n",
       "      <td>117.0</td>\n",
       "      <td>550.0</td>\n",
       "      <td>0.0</td>\n",
       "      <td>23749.0</td>\n",
       "    </tr>\n",
       "  </tbody>\n",
       "</table>\n",
       "<p>1698 rows × 9 columns</p>\n",
       "</div>"
      ],
      "text/plain": [
       "      Airline Name  Date of journey  Source  Destination  Departure Time  \\\n",
       "0              2.0              3.0     1.0          1.0            73.0   \n",
       "1              2.0              3.0     1.0          1.0            89.0   \n",
       "2              2.0              3.0     1.0          1.0            27.0   \n",
       "3              4.0              3.0     1.0          1.0            30.0   \n",
       "4              2.0              3.0     1.0          1.0           114.0   \n",
       "...            ...              ...     ...          ...             ...   \n",
       "1693           5.0              2.0     0.0          0.0            61.0   \n",
       "1694           1.0              2.0     0.0          0.0            18.0   \n",
       "1695           1.0              2.0     0.0          0.0            60.0   \n",
       "1696           1.0              2.0     0.0          0.0            18.0   \n",
       "1697           1.0              2.0     0.0          0.0            52.0   \n",
       "\n",
       "      Arrival Time  Duration  Total stops    Price  \n",
       "0             84.0     120.0          3.0   5950.0  \n",
       "1            100.0     125.0          3.0   5950.0  \n",
       "2             39.0     130.0          3.0   5950.0  \n",
       "3             41.0     135.0          3.0   5950.0  \n",
       "4            131.0     135.0          3.0   5950.0  \n",
       "...            ...       ...          ...      ...  \n",
       "1693         121.0     485.0          1.0  20074.0  \n",
       "1694          79.0     500.0          0.0  21124.0  \n",
       "1695         117.0     475.0          0.0  23224.0  \n",
       "1696         117.0     780.0          0.0  23224.0  \n",
       "1697         117.0     550.0          0.0  23749.0  \n",
       "\n",
       "[1698 rows x 9 columns]"
      ]
     },
     "execution_count": 232,
     "metadata": {},
     "output_type": "execute_result"
    }
   ],
   "source": [
    "df"
   ]
  },
  {
   "cell_type": "markdown",
   "id": "0fbc78cb",
   "metadata": {},
   "source": [
    "  "
   ]
  },
  {
   "cell_type": "markdown",
   "id": "63b78991",
   "metadata": {},
   "source": [
    "### Correlations:"
   ]
  },
  {
   "cell_type": "code",
   "execution_count": 233,
   "id": "80627b09",
   "metadata": {
    "scrolled": true
   },
   "outputs": [
    {
     "data": {
      "text/plain": [
       "<AxesSubplot:>"
      ]
     },
     "execution_count": 233,
     "metadata": {},
     "output_type": "execute_result"
    },
    {
     "data": {
      "image/png": "[encoded data removed]",
      "text/plain": [
       "<Figure size 1584x504 with 2 Axes>"
      ]
     },
     "metadata": {},
     "output_type": "display_data"
    }
   ],
   "source": [
    "plt.figure(figsize = (22,7))\n",
    "sns.heatmap(df.describe(),annot = True, linewidths=0.1)"
   ]
  },
  {
   "cell_type": "code",
   "execution_count": 234,
   "id": "027693e4",
   "metadata": {
    "scrolled": true
   },
   "outputs": [
    {
     "data": {
      "text/html": [
       "<div>\n",
       "<style scoped>\n",
       "    .dataframe tbody tr th:only-of-type {\n",
       "        vertical-align: middle;\n",
       "    }\n",
       "\n",
       "    .dataframe tbody tr th {\n",
       "        vertical-align: top;\n",
       "    }\n",
       "\n",
       "    .dataframe thead th {\n",
       "        text-align: right;\n",
       "    }\n",
       "</style>\n",
       "<table border=\"1\" class=\"dataframe\">\n",
       "  <thead>\n",
       "    <tr style=\"text-align: right;\">\n",
       "      <th></th>\n",
       "      <th>Airline Name</th>\n",
       "      <th>Date of journey</th>\n",
       "      <th>Source</th>\n",
       "      <th>Destination</th>\n",
       "      <th>Departure Time</th>\n",
       "      <th>Arrival Time</th>\n",
       "      <th>Duration</th>\n",
       "      <th>Total stops</th>\n",
       "      <th>Price</th>\n",
       "    </tr>\n",
       "  </thead>\n",
       "  <tbody>\n",
       "    <tr>\n",
       "      <th>Airline Name</th>\n",
       "      <td>1.000000</td>\n",
       "      <td>0.044360</td>\n",
       "      <td>-0.107583</td>\n",
       "      <td>-0.107583</td>\n",
       "      <td>0.071250</td>\n",
       "      <td>-0.011711</td>\n",
       "      <td>-0.002427</td>\n",
       "      <td>0.142032</td>\n",
       "      <td>0.076250</td>\n",
       "    </tr>\n",
       "    <tr>\n",
       "      <th>Date of journey</th>\n",
       "      <td>0.044360</td>\n",
       "      <td>1.000000</td>\n",
       "      <td>-0.003354</td>\n",
       "      <td>-0.003354</td>\n",
       "      <td>0.014739</td>\n",
       "      <td>-0.008223</td>\n",
       "      <td>-0.006704</td>\n",
       "      <td>-0.017254</td>\n",
       "      <td>0.247551</td>\n",
       "    </tr>\n",
       "    <tr>\n",
       "      <th>Source</th>\n",
       "      <td>-0.107583</td>\n",
       "      <td>-0.003354</td>\n",
       "      <td>1.000000</td>\n",
       "      <td>1.000000</td>\n",
       "      <td>0.000713</td>\n",
       "      <td>0.032234</td>\n",
       "      <td>-0.214544</td>\n",
       "      <td>0.107323</td>\n",
       "      <td>-0.521240</td>\n",
       "    </tr>\n",
       "    <tr>\n",
       "      <th>Destination</th>\n",
       "      <td>-0.107583</td>\n",
       "      <td>-0.003354</td>\n",
       "      <td>1.000000</td>\n",
       "      <td>1.000000</td>\n",
       "      <td>0.000713</td>\n",
       "      <td>0.032234</td>\n",
       "      <td>-0.214544</td>\n",
       "      <td>0.107323</td>\n",
       "      <td>-0.521240</td>\n",
       "    </tr>\n",
       "    <tr>\n",
       "      <th>Departure Time</th>\n",
       "      <td>0.071250</td>\n",
       "      <td>0.014739</td>\n",
       "      <td>0.000713</td>\n",
       "      <td>0.000713</td>\n",
       "      <td>1.000000</td>\n",
       "      <td>-0.019676</td>\n",
       "      <td>-0.035341</td>\n",
       "      <td>0.099779</td>\n",
       "      <td>-0.096318</td>\n",
       "    </tr>\n",
       "    <tr>\n",
       "      <th>Arrival Time</th>\n",
       "      <td>-0.011711</td>\n",
       "      <td>-0.008223</td>\n",
       "      <td>0.032234</td>\n",
       "      <td>0.032234</td>\n",
       "      <td>-0.019676</td>\n",
       "      <td>1.000000</td>\n",
       "      <td>0.027992</td>\n",
       "      <td>-0.029555</td>\n",
       "      <td>0.137427</td>\n",
       "    </tr>\n",
       "    <tr>\n",
       "      <th>Duration</th>\n",
       "      <td>-0.002427</td>\n",
       "      <td>-0.006704</td>\n",
       "      <td>-0.214544</td>\n",
       "      <td>-0.214544</td>\n",
       "      <td>-0.035341</td>\n",
       "      <td>0.027992</td>\n",
       "      <td>1.000000</td>\n",
       "      <td>-0.401444</td>\n",
       "      <td>0.376862</td>\n",
       "    </tr>\n",
       "    <tr>\n",
       "      <th>Total stops</th>\n",
       "      <td>0.142032</td>\n",
       "      <td>-0.017254</td>\n",
       "      <td>0.107323</td>\n",
       "      <td>0.107323</td>\n",
       "      <td>0.099779</td>\n",
       "      <td>-0.029555</td>\n",
       "      <td>-0.401444</td>\n",
       "      <td>1.000000</td>\n",
       "      <td>-0.400225</td>\n",
       "    </tr>\n",
       "    <tr>\n",
       "      <th>Price</th>\n",
       "      <td>0.076250</td>\n",
       "      <td>0.247551</td>\n",
       "      <td>-0.521240</td>\n",
       "      <td>-0.521240</td>\n",
       "      <td>-0.096318</td>\n",
       "      <td>0.137427</td>\n",
       "      <td>0.376862</td>\n",
       "      <td>-0.400225</td>\n",
       "      <td>1.000000</td>\n",
       "    </tr>\n",
       "  </tbody>\n",
       "</table>\n",
       "</div>"
      ],
      "text/plain": [
       "                 Airline Name  Date of journey    Source  Destination  \\\n",
       "Airline Name         1.000000         0.044360 -0.107583    -0.107583   \n",
       "Date of journey      0.044360         1.000000 -0.003354    -0.003354   \n",
       "Source              -0.107583        -0.003354  1.000000     1.000000   \n",
       "Destination         -0.107583        -0.003354  1.000000     1.000000   \n",
       "Departure Time       0.071250         0.014739  0.000713     0.000713   \n",
       "Arrival Time        -0.011711        -0.008223  0.032234     0.032234   \n",
       "Duration            -0.002427        -0.006704 -0.214544    -0.214544   \n",
       "Total stops          0.142032        -0.017254  0.107323     0.107323   \n",
       "Price                0.076250         0.247551 -0.521240    -0.521240   \n",
       "\n",
       "                 Departure Time  Arrival Time  Duration  Total stops     Price  \n",
       "Airline Name           0.071250     -0.011711 -0.002427     0.142032  0.076250  \n",
       "Date of journey        0.014739     -0.008223 -0.006704    -0.017254  0.247551  \n",
       "Source                 0.000713      0.032234 -0.214544     0.107323 -0.521240  \n",
       "Destination            0.000713      0.032234 -0.214544     0.107323 -0.521240  \n",
       "Departure Time         1.000000     -0.019676 -0.035341     0.099779 -0.096318  \n",
       "Arrival Time          -0.019676      1.000000  0.027992    -0.029555  0.137427  \n",
       "Duration              -0.035341      0.027992  1.000000    -0.401444  0.376862  \n",
       "Total stops            0.099779     -0.029555 -0.401444     1.000000 -0.400225  \n",
       "Price                 -0.096318      0.137427  0.376862    -0.400225  1.000000  "
      ]
     },
     "execution_count": 234,
     "metadata": {},
     "output_type": "execute_result"
    }
   ],
   "source": [
    "#Correlation matrix\n",
    "df.corr()"
   ]
  },
  {
   "cell_type": "code",
   "execution_count": 235,
   "id": "a82af475",
   "metadata": {},
   "outputs": [
    {
     "data": {
      "text/plain": [
       "<AxesSubplot:>"
      ]
     },
     "execution_count": 235,
     "metadata": {},
     "output_type": "execute_result"
    },
    {
     "data": {
      "image/png": "[encoded data removed]",
      "text/plain": [
       "<Figure size 792x288 with 2 Axes>"
      ]
     },
     "metadata": {},
     "output_type": "display_data"
    }
   ],
   "source": [
    "#Correlation of Columns with target column using heatmap\n",
    "plt.figure(figsize = (11,4))\n",
    "sns.heatmap(df.corr(),annot = True, linewidths=0.1)"
   ]
  },
  {
   "cell_type": "markdown",
   "id": "cd56cf1b",
   "metadata": {},
   "source": [
    "#### Here we can't see very high correlations as highest correlation present here is -0.52."
   ]
  },
  {
   "cell_type": "markdown",
   "id": "83b99f16",
   "metadata": {},
   "source": [
    " "
   ]
  },
  {
   "cell_type": "markdown",
   "id": "53d609c1",
   "metadata": {},
   "source": [
    "### Checking columns which appear to be highly correlated with target columns"
   ]
  },
  {
   "cell_type": "code",
   "execution_count": 236,
   "id": "5b122d2b",
   "metadata": {
    "scrolled": false
   },
   "outputs": [
    {
     "data": {
      "image/png": "[encoded data removed]",
      "text/plain": [
       "<Figure size 1584x504 with 1 Axes>"
      ]
     },
     "metadata": {},
     "output_type": "display_data"
    }
   ],
   "source": [
    "plt.figure(figsize=(22,7))\n",
    "df.corr()['Price'].sort_values(ascending = False).drop(['Price']).plot(kind='bar',fontsize=14)\n",
    "plt.xlabel('Feature',fontsize=14)\n",
    "plt.ylabel('Price',fontsize=14)\n",
    "plt.title('Correlation',fontsize=20)\n",
    "plt.show()"
   ]
  },
  {
   "cell_type": "markdown",
   "id": "5ea84f96",
   "metadata": {},
   "source": [
    "#### Here we can't see any high correlation with target column"
   ]
  },
  {
   "cell_type": "markdown",
   "id": "1db63f21",
   "metadata": {},
   "source": [
    " "
   ]
  },
  {
   "cell_type": "code",
   "execution_count": 237,
   "id": "805d1a05",
   "metadata": {},
   "outputs": [
    {
     "data": {
      "image/png": "[encoded data removed]",
      "text/plain": [
       "<Figure size 1584x504 with 1 Axes>"
      ]
     },
     "metadata": {},
     "output_type": "display_data"
    }
   ],
   "source": [
    "#Checking correlation between Price and Destination\n",
    "plt.figure(figsize=(22,7))\n",
    "plt.scatter(df['Price'],df['Destination'])\n",
    "plt.show()"
   ]
  },
  {
   "cell_type": "markdown",
   "id": "2f9a1077",
   "metadata": {},
   "source": [
    "#### We can't see any high correlations here"
   ]
  },
  {
   "cell_type": "code",
   "execution_count": 238,
   "id": "5cef9dfe",
   "metadata": {},
   "outputs": [
    {
     "data": {
      "image/png": "[encoded data removed]",
      "text/plain": [
       "<Figure size 1584x504 with 1 Axes>"
      ]
     },
     "metadata": {},
     "output_type": "display_data"
    }
   ],
   "source": [
    "#Checking correlation between Price and Source\n",
    "plt.figure(figsize=(22,7))\n",
    "plt.scatter(df.Price,df.Source)\n",
    "plt.show()"
   ]
  },
  {
   "cell_type": "markdown",
   "id": "3d2a6dee",
   "metadata": {},
   "source": [
    "#### We can't see any high collinearity here"
   ]
  },
  {
   "cell_type": "code",
   "execution_count": 239,
   "id": "17a93eff",
   "metadata": {},
   "outputs": [
    {
     "data": {
      "image/png": "[encoded data removed]",
      "text/plain": [
       "<Figure size 1584x504 with 1 Axes>"
      ]
     },
     "metadata": {},
     "output_type": "display_data"
    }
   ],
   "source": [
    "#Checking correlation between Price and Total Stops\n",
    "plt.figure(figsize=(22,7))\n",
    "plt.scatter(df.Price,df['Total stops'])\n",
    "plt.show()"
   ]
  },
  {
   "cell_type": "markdown",
   "id": "de406b8f",
   "metadata": {},
   "source": [
    "#### We can't see any high collinearity here"
   ]
  },
  {
   "cell_type": "markdown",
   "id": "8ef253b7",
   "metadata": {},
   "source": [
    " "
   ]
  },
  {
   "cell_type": "markdown",
   "id": "93073621",
   "metadata": {},
   "source": [
    " "
   ]
  },
  {
   "cell_type": "markdown",
   "id": "0f2aa71c",
   "metadata": {},
   "source": [
    "### Checkin VIF for confirmation of above conclusion:"
   ]
  },
  {
   "cell_type": "code",
   "execution_count": 240,
   "id": "3aa2ae76",
   "metadata": {},
   "outputs": [],
   "source": [
    "from statsmodels.stats.outliers_influence import variance_inflation_factor"
   ]
  },
  {
   "cell_type": "code",
   "execution_count": 241,
   "id": "32e500e1",
   "metadata": {},
   "outputs": [],
   "source": [
    "X1 = df[['Price', 'Destination']]\n",
    "\n",
    "# VIF dataframe\n",
    "vif_dF = pd.DataFrame()\n",
    "vif_dF[\"feature\"] = X1.columns\n",
    "  \n",
    "# calculating VIF for each feature\n",
    "vif_dF[\"VIF\"] = [variance_inflation_factor(X1.values, i)\n",
    "                          for i in range(len(X1.columns))]"
   ]
  },
  {
   "cell_type": "code",
   "execution_count": 242,
   "id": "21c9d78e",
   "metadata": {
    "scrolled": true
   },
   "outputs": [
    {
     "name": "stdout",
     "output_type": "stream",
     "text": [
      "       feature       VIF\n",
      "0        Price  1.391839\n",
      "1  Destination  1.391839\n"
     ]
    }
   ],
   "source": [
    "print(vif_dF)"
   ]
  },
  {
   "cell_type": "markdown",
   "id": "25216249",
   "metadata": {},
   "source": [
    "### As we can see there is no high correlation(<10)"
   ]
  },
  {
   "cell_type": "code",
   "execution_count": 243,
   "id": "e82287d8",
   "metadata": {},
   "outputs": [],
   "source": [
    "X2 = df[['Price','Source']]\n",
    "\n",
    "# VIF dataframe\n",
    "vif_dF = pd.DataFrame()\n",
    "vif_dF[\"feature\"] = X2.columns\n",
    "  \n",
    "# calculating VIF for each feature\n",
    "vif_dF[\"VIF\"] = [variance_inflation_factor(X2.values, i)\n",
    "                          for i in range(len(X2.columns))]"
   ]
  },
  {
   "cell_type": "code",
   "execution_count": 244,
   "id": "5b43cea8",
   "metadata": {
    "scrolled": false
   },
   "outputs": [
    {
     "name": "stdout",
     "output_type": "stream",
     "text": [
      "  feature       VIF\n",
      "0   Price  1.391839\n",
      "1  Source  1.391839\n"
     ]
    }
   ],
   "source": [
    "print(vif_dF)"
   ]
  },
  {
   "cell_type": "markdown",
   "id": "8b717d17",
   "metadata": {},
   "source": [
    "### As we can see here correlation is not high (<10)"
   ]
  },
  {
   "cell_type": "code",
   "execution_count": 245,
   "id": "c6c349b1",
   "metadata": {},
   "outputs": [],
   "source": [
    "X3 = df[['Price','Total stops']]\n",
    "\n",
    "# VIF dataframe\n",
    "vif_dF = pd.DataFrame()\n",
    "vif_dF[\"feature\"] = X3.columns\n",
    "  \n",
    "# calculating VIF for each feature\n",
    "vif_dF[\"VIF\"] = [variance_inflation_factor(X3.values, i)\n",
    "                          for i in range(len(X3.columns))]"
   ]
  },
  {
   "cell_type": "code",
   "execution_count": 246,
   "id": "e3bcb2c4",
   "metadata": {
    "scrolled": false
   },
   "outputs": [
    {
     "name": "stdout",
     "output_type": "stream",
     "text": [
      "       feature       VIF\n",
      "0        Price  1.131345\n",
      "1  Total stops  1.131345\n"
     ]
    }
   ],
   "source": [
    "print(vif_dF)"
   ]
  },
  {
   "cell_type": "markdown",
   "id": "b639c0dd",
   "metadata": {},
   "source": [
    "### As we can see here correlation is not high (<10)"
   ]
  },
  {
   "cell_type": "markdown",
   "id": "f88fbe4d",
   "metadata": {},
   "source": [
    " "
   ]
  },
  {
   "cell_type": "markdown",
   "id": "7ce6347a",
   "metadata": {},
   "source": [
    "### Removing Skewness :"
   ]
  },
  {
   "cell_type": "code",
   "execution_count": 247,
   "id": "ff5f8245",
   "metadata": {
    "scrolled": false
   },
   "outputs": [
    {
     "data": {
      "text/plain": [
       "Airline Name       0.074181\n",
       "Date of journey   -0.002342\n",
       "Source            -0.251897\n",
       "Destination       -0.251897\n",
       "Departure Time     0.079896\n",
       "Arrival Time       0.004694\n",
       "Duration           1.266091\n",
       "Total stops        1.069084\n",
       "Price              1.124543\n",
       "dtype: float64"
      ]
     },
     "execution_count": 247,
     "metadata": {},
     "output_type": "execute_result"
    }
   ],
   "source": [
    "#Checking skewness\n",
    "df.skew()"
   ]
  },
  {
   "cell_type": "markdown",
   "id": "cab5cf23",
   "metadata": {},
   "source": [
    "#### Acceptable skewness (-0.65,+0.65)"
   ]
  },
  {
   "cell_type": "code",
   "execution_count": 248,
   "id": "40c895b7",
   "metadata": {},
   "outputs": [],
   "source": [
    "#Removing skewness from 'Duration'\n",
    "from scipy.stats import boxcox\n",
    "df['Duration'] = boxcox(df['Duration'])[0]"
   ]
  },
  {
   "cell_type": "code",
   "execution_count": 249,
   "id": "e00ac290",
   "metadata": {},
   "outputs": [
    {
     "data": {
      "text/plain": [
       "Airline Name       0.074181\n",
       "Date of journey   -0.002342\n",
       "Source            -0.251897\n",
       "Destination       -0.251897\n",
       "Departure Time     0.079896\n",
       "Arrival Time       0.004694\n",
       "Duration           0.000475\n",
       "Total stops        1.069084\n",
       "Price              1.124543\n",
       "dtype: float64"
      ]
     },
     "execution_count": 249,
     "metadata": {},
     "output_type": "execute_result"
    }
   ],
   "source": [
    "#Checking skewness\n",
    "df.skew()"
   ]
  },
  {
   "cell_type": "markdown",
   "id": "ae3c79d9",
   "metadata": {},
   "source": [
    "#### All continous columns (excluding target variable) are now in acceptable skew range "
   ]
  },
  {
   "cell_type": "markdown",
   "id": "6a572ee7",
   "metadata": {},
   "source": [
    "### Removing outliers :"
   ]
  },
  {
   "cell_type": "code",
   "execution_count": 250,
   "id": "1b615d42",
   "metadata": {},
   "outputs": [
    {
     "data": {
      "text/plain": [
       "Airline Name       float64\n",
       "Date of journey    float64\n",
       "Source             float64\n",
       "Destination        float64\n",
       "Departure Time     float64\n",
       "Arrival Time       float64\n",
       "Duration           float64\n",
       "Total stops        float64\n",
       "Price              float64\n",
       "dtype: object"
      ]
     },
     "execution_count": 250,
     "metadata": {},
     "output_type": "execute_result"
    }
   ],
   "source": [
    "#Outlier check\n",
    "df.dtypes"
   ]
  },
  {
   "cell_type": "code",
   "execution_count": 251,
   "id": "bcdc95eb",
   "metadata": {},
   "outputs": [
    {
     "data": {
      "text/plain": [
       "Airline Name          AxesSubplot(0.125,0.657941;0.227941x0.222059)\n",
       "Date of journey    AxesSubplot(0.398529,0.657941;0.227941x0.222059)\n",
       "Source             AxesSubplot(0.672059,0.657941;0.227941x0.222059)\n",
       "Destination           AxesSubplot(0.125,0.391471;0.227941x0.222059)\n",
       "Departure Time     AxesSubplot(0.398529,0.391471;0.227941x0.222059)\n",
       "Arrival Time       AxesSubplot(0.672059,0.391471;0.227941x0.222059)\n",
       "Duration                 AxesSubplot(0.125,0.125;0.227941x0.222059)\n",
       "Total stops           AxesSubplot(0.398529,0.125;0.227941x0.222059)\n",
       "Price                 AxesSubplot(0.672059,0.125;0.227941x0.222059)\n",
       "dtype: object"
      ]
     },
     "execution_count": 251,
     "metadata": {},
     "output_type": "execute_result"
    },
    {
     "data": {
      "image/png": "[encoded data removed]",
      "text/plain": [
       "<Figure size 720x720 with 9 Axes>"
      ]
     },
     "metadata": {},
     "output_type": "display_data"
    }
   ],
   "source": [
    "#Checking only for continous data types\n",
    "df.plot.box(layout =(3,3),subplots=True,figsize=(10,10))"
   ]
  },
  {
   "cell_type": "markdown",
   "id": "74d286c5",
   "metadata": {},
   "source": [
    "### There looks like outliers in some columns so now we check with z-score:"
   ]
  },
  {
   "cell_type": "code",
   "execution_count": 252,
   "id": "e35e1357",
   "metadata": {},
   "outputs": [
    {
     "data": {
      "text/plain": [
       "(1698, 9)"
      ]
     },
     "execution_count": 252,
     "metadata": {},
     "output_type": "execute_result"
    }
   ],
   "source": [
    "#Outlier removal using z-score\n",
    "df.shape"
   ]
  },
  {
   "cell_type": "code",
   "execution_count": 253,
   "id": "107fcef6",
   "metadata": {},
   "outputs": [
    {
     "data": {
      "text/plain": [
       "(array([1194, 1195, 1196, 1197, 1198, 1199, 1200, 1201, 1320, 1321, 1322,\n",
       "        1323, 1324, 1325, 1326, 1327]),\n",
       " array([8, 8, 8, 8, 8, 8, 8, 8, 8, 8, 8, 8, 8, 8, 8, 8]))"
      ]
     },
     "execution_count": 253,
     "metadata": {},
     "output_type": "execute_result"
    }
   ],
   "source": [
    "from scipy.stats import zscore\n",
    "\n",
    "z = np.abs(zscore(df))\n",
    "threshhold = 3\n",
    "np.where(z>3)"
   ]
  },
  {
   "cell_type": "markdown",
   "id": "081044ef",
   "metadata": {},
   "source": [
    "#### We can see that outliers are only in target variable and hence no need to remove them"
   ]
  },
  {
   "cell_type": "markdown",
   "id": "53858f08",
   "metadata": {},
   "source": [
    " "
   ]
  },
  {
   "cell_type": "markdown",
   "id": "c01aab84",
   "metadata": {},
   "source": [
    "## Separating the columns into features and target for 'Price' target variable:"
   ]
  },
  {
   "cell_type": "code",
   "execution_count": 254,
   "id": "8fbaf2b6",
   "metadata": {},
   "outputs": [],
   "source": [
    "feature = df.drop(\"Price\",axis=1)\n",
    "target = df[\"Price\"]"
   ]
  },
  {
   "cell_type": "code",
   "execution_count": 255,
   "id": "df9151aa",
   "metadata": {},
   "outputs": [],
   "source": [
    "from sklearn.metrics import r2_score\n",
    "from sklearn.model_selection import train_test_split\n",
    "from sklearn.model_selection import cross_val_score"
   ]
  },
  {
   "cell_type": "code",
   "execution_count": 256,
   "id": "a46d27c6",
   "metadata": {},
   "outputs": [],
   "source": [
    "import warnings\n",
    "warnings.filterwarnings('ignore')"
   ]
  },
  {
   "cell_type": "markdown",
   "id": "d5e00443",
   "metadata": {},
   "source": [
    "### Model 1:"
   ]
  },
  {
   "cell_type": "code",
   "execution_count": 257,
   "id": "2e37eb3f",
   "metadata": {},
   "outputs": [],
   "source": [
    "from sklearn.linear_model import LinearRegression\n",
    "lr = LinearRegression()"
   ]
  },
  {
   "cell_type": "code",
   "execution_count": 258,
   "id": "320d369a",
   "metadata": {},
   "outputs": [
    {
     "name": "stdout",
     "output_type": "stream",
     "text": [
      "At random state 0 the training accuracy is : 0.4999706131691889\n",
      "At random state 0 the testing accuracy is : 0.54760429388812\n",
      "\n",
      "\n",
      "At random state 1 the training accuracy is : 0.5144345576355316\n",
      "At random state 1 the testing accuracy is : 0.491169381512341\n",
      "\n",
      "\n",
      "At random state 2 the training accuracy is : 0.5193051741994703\n",
      "At random state 2 the testing accuracy is : 0.4796140830696175\n",
      "\n",
      "\n",
      "At random state 3 the training accuracy is : 0.5236293928202564\n",
      "At random state 3 the testing accuracy is : 0.45485065280865167\n",
      "\n",
      "\n",
      "At random state 4 the training accuracy is : 0.5061153271322764\n",
      "At random state 4 the testing accuracy is : 0.5247732989577849\n",
      "\n",
      "\n",
      "At random state 5 the training accuracy is : 0.5147931304495279\n",
      "At random state 5 the testing accuracy is : 0.491763099191843\n",
      "\n",
      "\n",
      "At random state 6 the training accuracy is : 0.5112606024082165\n",
      "At random state 6 the testing accuracy is : 0.5041808327830714\n",
      "\n",
      "\n",
      "At random state 7 the training accuracy is : 0.5052200130141907\n",
      "At random state 7 the testing accuracy is : 0.5313011414421898\n",
      "\n",
      "\n",
      "At random state 8 the training accuracy is : 0.5171724098518453\n",
      "At random state 8 the testing accuracy is : 0.48424673094823034\n",
      "\n",
      "\n",
      "At random state 9 the training accuracy is : 0.5116297288576696\n",
      "At random state 9 the testing accuracy is : 0.5056275585665697\n",
      "\n",
      "\n"
     ]
    }
   ],
   "source": [
    "for i in range(0,10):\n",
    "    features_train,features_test,target_train,target_test = train_test_split(feature,target,test_size = 0.2,random_state = i)\n",
    "    lr.fit(features_train,target_train)\n",
    "    pred_train = lr.predict(features_train)\n",
    "    pred_test = lr.predict(features_test)\n",
    "    print(\"At random state \" + str(i) + \" the training accuracy is : \" + str(r2_score(target_train,pred_train)))\n",
    "    print(\"At random state \" + str(i) + \" the testing accuracy is : \" + str(r2_score(target_test,pred_test)))\n",
    "    print(\"\\n\")"
   ]
  },
  {
   "cell_type": "code",
   "execution_count": 259,
   "id": "f6a6ce19",
   "metadata": {},
   "outputs": [],
   "source": [
    "features_train,features_test,target_train,target_test = train_test_split(feature,target,test_size = 0.2,random_state = 9)"
   ]
  },
  {
   "cell_type": "code",
   "execution_count": 260,
   "id": "1ddd11d2",
   "metadata": {},
   "outputs": [
    {
     "data": {
      "text/plain": [
       "LinearRegression()"
      ]
     },
     "execution_count": 260,
     "metadata": {},
     "output_type": "execute_result"
    }
   ],
   "source": [
    "lr.fit(features_train,target_train)"
   ]
  },
  {
   "cell_type": "code",
   "execution_count": 261,
   "id": "2900b940",
   "metadata": {},
   "outputs": [],
   "source": [
    "pred_test = lr.predict(features_test)"
   ]
  },
  {
   "cell_type": "code",
   "execution_count": 262,
   "id": "3a1e1cab",
   "metadata": {},
   "outputs": [
    {
     "name": "stdout",
     "output_type": "stream",
     "text": [
      "0.5056275585665697\n"
     ]
    }
   ],
   "source": [
    "print(r2_score(target_test,pred_test))"
   ]
  },
  {
   "cell_type": "markdown",
   "id": "8b2fb6a5",
   "metadata": {},
   "source": [
    "### Cross Validation of model:"
   ]
  },
  {
   "cell_type": "code",
   "execution_count": 263,
   "id": "db326af6",
   "metadata": {},
   "outputs": [],
   "source": [
    "Train_accuracy = r2_score(target_train,pred_train)\n",
    "Test_accuracy = r2_score(target_test,pred_test)"
   ]
  },
  {
   "cell_type": "code",
   "execution_count": 264,
   "id": "922bac5b",
   "metadata": {},
   "outputs": [
    {
     "name": "stdout",
     "output_type": "stream",
     "text": [
      "At cross fold 2 the cv score is -0.27279517505298084 and accuracy score for training is 0.5116297288576696 and accuracy score for testing is 0.5056275585665697\n",
      "\n",
      "\n",
      "At cross fold 3 the cv score is 0.1639412138763581 and accuracy score for training is 0.5116297288576696 and accuracy score for testing is 0.5056275585665697\n",
      "\n",
      "\n",
      "At cross fold 4 the cv score is 0.10744496808150619 and accuracy score for training is 0.5116297288576696 and accuracy score for testing is 0.5056275585665697\n",
      "\n",
      "\n",
      "At cross fold 5 the cv score is -0.06274895911063919 and accuracy score for training is 0.5116297288576696 and accuracy score for testing is 0.5056275585665697\n",
      "\n",
      "\n",
      "At cross fold 6 the cv score is 0.049235321534024636 and accuracy score for training is 0.5116297288576696 and accuracy score for testing is 0.5056275585665697\n",
      "\n",
      "\n",
      "At cross fold 7 the cv score is -0.05847957887325726 and accuracy score for training is 0.5116297288576696 and accuracy score for testing is 0.5056275585665697\n",
      "\n",
      "\n",
      "At cross fold 8 the cv score is 0.07610975101182157 and accuracy score for training is 0.5116297288576696 and accuracy score for testing is 0.5056275585665697\n",
      "\n",
      "\n",
      "At cross fold 9 the cv score is 0.043444703768088955 and accuracy score for training is 0.5116297288576696 and accuracy score for testing is 0.5056275585665697\n",
      "\n",
      "\n"
     ]
    }
   ],
   "source": [
    "for j in range(2,10):\n",
    "    cv_score = cross_val_score(lr,feature,target,cv=j)\n",
    "    cv_mean = cv_score.mean()\n",
    "    print(\"At cross fold \" + str(j) + \" the cv score is \" + str(cv_mean) + \" and accuracy score for training is \" + str(Train_accuracy) + \" and accuracy score for testing is \" + str(Test_accuracy))\n",
    "    print(\"\\n\")"
   ]
  },
  {
   "cell_type": "code",
   "execution_count": 265,
   "id": "3b62126c",
   "metadata": {},
   "outputs": [
    {
     "data": {
      "image/png": "[encoded data removed]",
      "text/plain": [
       "<Figure size 576x432 with 1 Axes>"
      ]
     },
     "metadata": {},
     "output_type": "display_data"
    }
   ],
   "source": [
    "plt.figure(figsize=(8,6))\n",
    "plt.scatter(x=target_test,y=pred_test, color='r')\n",
    "plt.plot(target_test,target_test,color='b')\n",
    "plt.xlabel('Actual Price')\n",
    "plt.ylabel('Predicted Price')\n",
    "plt.title('Linear Regression')\n",
    "plt.show()"
   ]
  },
  {
   "cell_type": "markdown",
   "id": "2afefa81",
   "metadata": {},
   "source": [
    "We can see almost all points lie near best fit curve but still there is lot of error present"
   ]
  },
  {
   "cell_type": "markdown",
   "id": "37bb3483",
   "metadata": {},
   "source": [
    "### Regularization using Lasso:"
   ]
  },
  {
   "cell_type": "code",
   "execution_count": 266,
   "id": "757643ce",
   "metadata": {},
   "outputs": [],
   "source": [
    "from sklearn.model_selection import GridSearchCV\n",
    "from sklearn.model_selection import cross_val_score\n",
    "import warnings\n",
    "warnings.filterwarnings('ignore')"
   ]
  },
  {
   "cell_type": "code",
   "execution_count": 267,
   "id": "418d9c96",
   "metadata": {},
   "outputs": [
    {
     "name": "stdout",
     "output_type": "stream",
     "text": [
      "{'alpha': 10, 'random_state': 0}\n"
     ]
    }
   ],
   "source": [
    "from sklearn.linear_model import Lasso\n",
    "parameters = {'alpha':[0.0001,0.001,0.01,0.1,1,10],'random_state':list(range(0,10))}\n",
    "ls=Lasso()\n",
    "clf = GridSearchCV(ls,parameters)\n",
    "clf.fit(features_train,target_train)\n",
    "\n",
    "print(clf.best_params_)"
   ]
  },
  {
   "cell_type": "code",
   "execution_count": 268,
   "id": "96223fbf",
   "metadata": {},
   "outputs": [
    {
     "data": {
      "text/plain": [
       "0.5054580891734664"
      ]
     },
     "execution_count": 268,
     "metadata": {},
     "output_type": "execute_result"
    }
   ],
   "source": [
    "ls = Lasso(alpha = 10, random_state=0)\n",
    "ls.fit(features_train,target_train)\n",
    "ls.score(features_train,target_train)\n",
    "pred_ls = ls.predict(features_test)\n",
    "\n",
    "lss = r2_score(target_test,pred_ls)\n",
    "lss"
   ]
  },
  {
   "cell_type": "code",
   "execution_count": 269,
   "id": "77e20de1",
   "metadata": {},
   "outputs": [
    {
     "data": {
      "text/plain": [
       "0.050022738216783304"
      ]
     },
     "execution_count": 269,
     "metadata": {},
     "output_type": "execute_result"
    }
   ],
   "source": [
    "cv_score = cross_val_score(ls,feature,target,cv=6)\n",
    "cv_mean =cv_score.mean()\n",
    "abs(cv_mean)"
   ]
  },
  {
   "cell_type": "markdown",
   "id": "6ec436b0",
   "metadata": {},
   "source": [
    "### Trying other models:"
   ]
  },
  {
   "cell_type": "code",
   "execution_count": 270,
   "id": "92eda722",
   "metadata": {},
   "outputs": [],
   "source": [
    "def model_selection(algorithm_instance,features_train,target_train,features_test,target_test):\n",
    "    algorithm_instance.fit(features_train,target_train)\n",
    "    model_1_pred_train = algorithm_instance.predict(features_train)\n",
    "    model_1_pred_test = algorithm_instance.predict(features_test)\n",
    "    print(\"Accuracy for the training model : \",r2_score(target_train,model_1_pred_train))\n",
    "    print(\"Accuracy for the testing model : \",r2_score(target_test,model_1_pred_test))\n",
    "    \n",
    "    Train_accuracy = r2_score(target_train,model_1_pred_train)\n",
    "    Test_accuracy = r2_score(target_test,model_1_pred_test)\n",
    "    \n",
    "    for j in range(2,10):\n",
    "        cv_score = cross_val_score(algorithm_instance,feature,target,cv=j)\n",
    "        cv_mean = cv_score.mean()\n",
    "        print(\"At cross fold \" + str(j) + \" the cv score is \" + str(cv_mean) + \" and accuracy score for training is \" + str(Train_accuracy) + \" and accuracy score for testing is \" + str(Test_accuracy))\n",
    "        print(\"\\n\")"
   ]
  },
  {
   "cell_type": "markdown",
   "id": "23438c45",
   "metadata": {},
   "source": [
    "### Model 2:"
   ]
  },
  {
   "cell_type": "code",
   "execution_count": 271,
   "id": "95a94020",
   "metadata": {
    "scrolled": false
   },
   "outputs": [
    {
     "name": "stdout",
     "output_type": "stream",
     "text": [
      "Accuracy for the training model :  -0.06459838982796096\n",
      "Accuracy for the testing model :  -0.09505274350538673\n",
      "At cross fold 2 the cv score is -0.9219777891331528 and accuracy score for training is -0.06459838982796096 and accuracy score for testing is -0.09505274350538673\n",
      "\n",
      "\n",
      "At cross fold 3 the cv score is -0.3975006648509718 and accuracy score for training is -0.06459838982796096 and accuracy score for testing is -0.09505274350538673\n",
      "\n",
      "\n",
      "At cross fold 4 the cv score is -0.3992877396228846 and accuracy score for training is -0.06459838982796096 and accuracy score for testing is -0.09505274350538673\n",
      "\n",
      "\n",
      "At cross fold 5 the cv score is -0.6192748852313551 and accuracy score for training is -0.06459838982796096 and accuracy score for testing is -0.09505274350538673\n",
      "\n",
      "\n",
      "At cross fold 6 the cv score is -0.5441695881051395 and accuracy score for training is -0.06459838982796096 and accuracy score for testing is -0.09505274350538673\n",
      "\n",
      "\n",
      "At cross fold 7 the cv score is -0.7898266116455817 and accuracy score for training is -0.06459838982796096 and accuracy score for testing is -0.09505274350538673\n",
      "\n",
      "\n",
      "At cross fold 8 the cv score is -0.6048491907250265 and accuracy score for training is -0.06459838982796096 and accuracy score for testing is -0.09505274350538673\n",
      "\n",
      "\n",
      "At cross fold 9 the cv score is -0.7058614526183338 and accuracy score for training is -0.06459838982796096 and accuracy score for testing is -0.09505274350538673\n",
      "\n",
      "\n"
     ]
    }
   ],
   "source": [
    "from sklearn.svm import SVR\n",
    "model_selection(SVR(),features_train,target_train,features_test,target_test)"
   ]
  },
  {
   "cell_type": "markdown",
   "id": "ee453d21",
   "metadata": {},
   "source": [
    "### Model 3:"
   ]
  },
  {
   "cell_type": "code",
   "execution_count": 272,
   "id": "0dac1d7b",
   "metadata": {},
   "outputs": [
    {
     "name": "stdout",
     "output_type": "stream",
     "text": [
      "Accuracy for the training model :  0.9741864222876007\n",
      "Accuracy for the testing model :  0.7935143612983936\n",
      "At cross fold 2 the cv score is -0.6683840813196462 and accuracy score for training is 0.9741864222876007 and accuracy score for testing is 0.7935143612983936\n",
      "\n",
      "\n",
      "At cross fold 3 the cv score is 0.2844057093519831 and accuracy score for training is 0.9741864222876007 and accuracy score for testing is 0.7935143612983936\n",
      "\n",
      "\n",
      "At cross fold 4 the cv score is 0.03817755026151326 and accuracy score for training is 0.9741864222876007 and accuracy score for testing is 0.7935143612983936\n",
      "\n",
      "\n",
      "At cross fold 5 the cv score is 0.16041522068859776 and accuracy score for training is 0.9741864222876007 and accuracy score for testing is 0.7935143612983936\n",
      "\n",
      "\n",
      "At cross fold 6 the cv score is 0.24713305587007717 and accuracy score for training is 0.9741864222876007 and accuracy score for testing is 0.7935143612983936\n",
      "\n",
      "\n",
      "At cross fold 7 the cv score is 0.3852619514136077 and accuracy score for training is 0.9741864222876007 and accuracy score for testing is 0.7935143612983936\n",
      "\n",
      "\n",
      "At cross fold 8 the cv score is 0.17016624333763158 and accuracy score for training is 0.9741864222876007 and accuracy score for testing is 0.7935143612983936\n",
      "\n",
      "\n",
      "At cross fold 9 the cv score is 0.23241472088726411 and accuracy score for training is 0.9741864222876007 and accuracy score for testing is 0.7935143612983936\n",
      "\n",
      "\n"
     ]
    }
   ],
   "source": [
    "from sklearn.ensemble import RandomForestRegressor\n",
    "model_selection(RandomForestRegressor(),features_train,target_train,features_test,target_test)"
   ]
  },
  {
   "cell_type": "markdown",
   "id": "e7220d2d",
   "metadata": {},
   "source": [
    "### Model 4:"
   ]
  },
  {
   "cell_type": "code",
   "execution_count": 273,
   "id": "843f52b9",
   "metadata": {},
   "outputs": [
    {
     "name": "stdout",
     "output_type": "stream",
     "text": [
      "Accuracy for the training model :  0.9998320583184103\n",
      "Accuracy for the testing model :  0.6595078023970586\n",
      "At cross fold 2 the cv score is -1.070587067964743 and accuracy score for training is 0.9998320583184103 and accuracy score for testing is 0.6595078023970586\n",
      "\n",
      "\n",
      "At cross fold 3 the cv score is 0.09614437261664315 and accuracy score for training is 0.9998320583184103 and accuracy score for testing is 0.6595078023970586\n",
      "\n",
      "\n",
      "At cross fold 4 the cv score is -0.3509417969302106 and accuracy score for training is 0.9998320583184103 and accuracy score for testing is 0.6595078023970586\n",
      "\n",
      "\n",
      "At cross fold 5 the cv score is -0.07545419114596819 and accuracy score for training is 0.9998320583184103 and accuracy score for testing is 0.6595078023970586\n",
      "\n",
      "\n",
      "At cross fold 6 the cv score is -0.05848400809366513 and accuracy score for training is 0.9998320583184103 and accuracy score for testing is 0.6595078023970586\n",
      "\n",
      "\n",
      "At cross fold 7 the cv score is 0.17870630223228548 and accuracy score for training is 0.9998320583184103 and accuracy score for testing is 0.6595078023970586\n",
      "\n",
      "\n",
      "At cross fold 8 the cv score is -0.19441191103313524 and accuracy score for training is 0.9998320583184103 and accuracy score for testing is 0.6595078023970586\n",
      "\n",
      "\n",
      "At cross fold 9 the cv score is -0.34491114263003664 and accuracy score for training is 0.9998320583184103 and accuracy score for testing is 0.6595078023970586\n",
      "\n",
      "\n"
     ]
    }
   ],
   "source": [
    "from sklearn.tree import DecisionTreeRegressor\n",
    "model_selection(DecisionTreeRegressor(),features_train,target_train,features_test,target_test)"
   ]
  },
  {
   "cell_type": "markdown",
   "id": "8bde0441",
   "metadata": {},
   "source": [
    "### Conclusion: Here RandomForestRegressor() gives best accuracy hence taking it as main model"
   ]
  },
  {
   "cell_type": "markdown",
   "id": "52a1ba49",
   "metadata": {},
   "source": [
    " "
   ]
  },
  {
   "cell_type": "markdown",
   "id": "ec6f8ece",
   "metadata": {},
   "source": [
    "#### Below we have tested mean squared error, Root mean squared error and Mean Absolute error method also:"
   ]
  },
  {
   "cell_type": "code",
   "execution_count": 274,
   "id": "7a6021b3",
   "metadata": {},
   "outputs": [],
   "source": [
    "from sklearn.metrics import mean_squared_error\n",
    "from sklearn.metrics import mean_absolute_error"
   ]
  },
  {
   "cell_type": "code",
   "execution_count": 275,
   "id": "20ef0c70",
   "metadata": {},
   "outputs": [
    {
     "name": "stdout",
     "output_type": "stream",
     "text": [
      "At random state 0 the training accuracy is : 976147.9764808735\n",
      "At random state 0 the testing accuracy is : 5097279.187634895\n",
      "\n",
      "\n",
      "At random state 1 the training accuracy is : 921278.8896914272\n",
      "At random state 1 the testing accuracy is : 7142703.787995541\n",
      "\n",
      "\n",
      "At random state 2 the training accuracy is : 925252.4702506954\n",
      "At random state 2 the testing accuracy is : 5837705.253751506\n",
      "\n",
      "\n",
      "At random state 3 the training accuracy is : 943579.8633270365\n",
      "At random state 3 the testing accuracy is : 8213373.16622761\n",
      "\n",
      "\n",
      "At random state 4 the training accuracy is : 967409.6128786311\n",
      "At random state 4 the testing accuracy is : 5610981.762379347\n",
      "\n",
      "\n",
      "At random state 5 the training accuracy is : 821440.8541532614\n",
      "At random state 5 the testing accuracy is : 7783137.7350190235\n",
      "\n",
      "\n",
      "At random state 6 the training accuracy is : 899186.8107389396\n",
      "At random state 6 the testing accuracy is : 6217698.668733508\n",
      "\n",
      "\n",
      "At random state 7 the training accuracy is : 955949.1318530369\n",
      "At random state 7 the testing accuracy is : 5533108.284260293\n",
      "\n",
      "\n",
      "At random state 8 the training accuracy is : 955490.9095564743\n",
      "At random state 8 the testing accuracy is : 6697304.167171846\n",
      "\n",
      "\n",
      "At random state 9 the training accuracy is : 878097.095185604\n",
      "At random state 9 the testing accuracy is : 6863194.296383824\n",
      "\n",
      "\n"
     ]
    }
   ],
   "source": [
    "# Mean Squared Error Method\n",
    "x = RandomForestRegressor()\n",
    "for i in range(0,10):\n",
    "    features_train,features_test,target_train,target_test = train_test_split(feature,target,test_size = 0.2,random_state = i)\n",
    "    x.fit(features_train,target_train)\n",
    "    pred_train = x.predict(features_train)\n",
    "    pred_test = x.predict(features_test)\n",
    "    print(\"At random state \" + str(i) + \" the training accuracy is : \" + str(mean_squared_error(target_train,pred_train)))\n",
    "    print(\"At random state \" + str(i) + \" the testing accuracy is : \" + str(mean_squared_error(target_test,pred_test)))\n",
    "    print(\"\\n\")"
   ]
  },
  {
   "cell_type": "code",
   "execution_count": 276,
   "id": "d0f30482",
   "metadata": {},
   "outputs": [
    {
     "name": "stdout",
     "output_type": "stream",
     "text": [
      "At random state 0 the training accuracy is : 984.2400710310014\n",
      "At random state 0 the testing accuracy is : 2255.466025157495\n",
      "\n",
      "\n",
      "At random state 1 the training accuracy is : 972.7478889964744\n",
      "At random state 1 the testing accuracy is : 2676.7216930155723\n",
      "\n",
      "\n",
      "At random state 2 the training accuracy is : 970.1597174047333\n",
      "At random state 2 the testing accuracy is : 2421.7904808531607\n",
      "\n",
      "\n",
      "At random state 3 the training accuracy is : 945.8000985677196\n",
      "At random state 3 the testing accuracy is : 2841.3256612437035\n",
      "\n",
      "\n",
      "At random state 4 the training accuracy is : 985.5595256903355\n",
      "At random state 4 the testing accuracy is : 2441.139986941231\n",
      "\n",
      "\n",
      "At random state 5 the training accuracy is : 932.4538603402027\n",
      "At random state 5 the testing accuracy is : 2777.3577950912136\n",
      "\n",
      "\n",
      "At random state 6 the training accuracy is : 946.3226755949188\n",
      "At random state 6 the testing accuracy is : 2451.0185588410945\n",
      "\n",
      "\n",
      "At random state 7 the training accuracy is : 989.6338121038177\n",
      "At random state 7 the testing accuracy is : 2376.2559477951772\n",
      "\n",
      "\n",
      "At random state 8 the training accuracy is : 977.6302692746483\n",
      "At random state 8 the testing accuracy is : 2594.765096345426\n",
      "\n",
      "\n",
      "At random state 9 the training accuracy is : 959.4566257065824\n",
      "At random state 9 the testing accuracy is : 2590.461686660371\n",
      "\n",
      "\n"
     ]
    }
   ],
   "source": [
    "# Root Mean Squared Error Method\n",
    "\n",
    "for i in range(0,10):\n",
    "    features_train,features_test,target_train,target_test = train_test_split(feature,target,test_size = 0.2,random_state = i)\n",
    "    x.fit(features_train,target_train)\n",
    "    pred_train = x.predict(features_train)\n",
    "    pred_test = x.predict(features_test)\n",
    "    print(\"At random state \" + str(i) + \" the training accuracy is : \" + str(mean_squared_error(target_train,pred_train,squared=False)))\n",
    "    print(\"At random state \" + str(i) + \" the testing accuracy is : \" + str(mean_squared_error(target_test,pred_test,squared=False)))\n",
    "    print(\"\\n\")"
   ]
  },
  {
   "cell_type": "code",
   "execution_count": 277,
   "id": "958f978d",
   "metadata": {},
   "outputs": [
    {
     "name": "stdout",
     "output_type": "stream",
     "text": [
      "At random state 0 the training accuracy is : 614.2115763377516\n",
      "At random state 0 the testing accuracy is : 1419.6730544117647\n",
      "\n",
      "\n",
      "At random state 1 the training accuracy is : 595.4750419033593\n",
      "At random state 1 the testing accuracy is : 1665.0655539215686\n",
      "\n",
      "\n",
      "At random state 2 the training accuracy is : 600.9976693667159\n",
      "At random state 2 the testing accuracy is : 1570.1090215686277\n",
      "\n",
      "\n",
      "At random state 3 the training accuracy is : 590.9523188161862\n",
      "At random state 3 the testing accuracy is : 1779.7627245098038\n",
      "\n",
      "\n",
      "At random state 4 the training accuracy is : 598.923250736377\n",
      "At random state 4 the testing accuracy is : 1528.8232500000001\n",
      "\n",
      "\n",
      "At random state 5 the training accuracy is : 581.9865231958762\n",
      "At random state 5 the testing accuracy is : 1727.0715221988798\n",
      "\n",
      "\n",
      "At random state 6 the training accuracy is : 588.3501833578794\n",
      "At random state 6 the testing accuracy is : 1554.0931284313726\n",
      "\n",
      "\n",
      "At random state 7 the training accuracy is : 618.9186993127148\n",
      "At random state 7 the testing accuracy is : 1448.7380985294117\n",
      "\n",
      "\n",
      "At random state 8 the training accuracy is : 592.5334553264605\n",
      "At random state 8 the testing accuracy is : 1585.4626833333332\n",
      "\n",
      "\n",
      "At random state 9 the training accuracy is : 580.9787407952871\n",
      "At random state 9 the testing accuracy is : 1641.1736470588237\n",
      "\n",
      "\n"
     ]
    }
   ],
   "source": [
    "# Mean Absolute Error Method\n",
    "\n",
    "for i in range(0,10):\n",
    "    features_train,features_test,target_train,target_test = train_test_split(feature,target,test_size = 0.2,random_state = i)\n",
    "    x.fit(features_train,target_train)\n",
    "    pred_train = x.predict(features_train)\n",
    "    pred_test = x.predict(features_test)\n",
    "    print(\"At random state \" + str(i) + \" the training accuracy is : \" + str(mean_absolute_error(target_train,pred_train)))\n",
    "    print(\"At random state \" + str(i) + \" the testing accuracy is : \" + str(mean_absolute_error(target_test,pred_test)))\n",
    "    print(\"\\n\")"
   ]
  },
  {
   "cell_type": "markdown",
   "id": "64e612dc",
   "metadata": {},
   "source": [
    "#### Conclusion of 4 metrics method : As we can see we got best accuracy results in r2_score among (r2_score, mse, rms,mae)"
   ]
  },
  {
   "cell_type": "markdown",
   "id": "60071c4a",
   "metadata": {},
   "source": [
    "### Ensemble technique:"
   ]
  },
  {
   "cell_type": "code",
   "execution_count": 278,
   "id": "95afd68f",
   "metadata": {},
   "outputs": [
    {
     "name": "stdout",
     "output_type": "stream",
     "text": [
      "{'criterion': 'mse', 'max_features': 'sqrt', 'min_samples_leaf': 1, 'min_samples_split': 2}\n"
     ]
    }
   ],
   "source": [
    "from sklearn.model_selection import GridSearchCV\n",
    "from sklearn.ensemble import RandomForestRegressor\n",
    "\n",
    "#using 4 parameters\n",
    "parameters = {'criterion':['mse','mae'], 'max_features': [\"auto\",\"sqrt\",\"log2\"], 'min_samples_split' : [2,5,10], 'min_samples_leaf' : [1,2,4]}\n",
    "rf = RandomForestRegressor()\n",
    "clf = GridSearchCV(rf,parameters)\n",
    "clf.fit(features_train,target_train)\n",
    "\n",
    "print(clf.best_params_)"
   ]
  },
  {
   "cell_type": "code",
   "execution_count": 281,
   "id": "a79e0547",
   "metadata": {},
   "outputs": [
    {
     "name": "stdout",
     "output_type": "stream",
     "text": [
      "R2 score:  80.46171189109867\n",
      "Cross Validation score:  5.0022738216783305\n"
     ]
    }
   ],
   "source": [
    "rf = RandomForestRegressor(criterion = \"mse\", max_features = \"sqrt\", min_samples_leaf = 1, min_samples_split = 2)\n",
    "rf.fit(features_train,target_train)\n",
    "rf.score(features_train,target_train)\n",
    "pred_decision = rf.predict(features_test)\n",
    "\n",
    "rfs = r2_score(target_test,pred_decision)\n",
    "print('R2 score: ', abs(rfs)*100)\n",
    "\n",
    "rfscore = cross_val_score(ls,feature,target,cv=6)\n",
    "rfc =rfscore.mean()\n",
    "rfc\n",
    "print('Cross Validation score: ', abs(rfc)*100)"
   ]
  },
  {
   "cell_type": "markdown",
   "id": "74a7a4c7",
   "metadata": {},
   "source": [
    "### Conclusion : We got r2_score as 80.46% for 'Price' prediction"
   ]
  },
  {
   "cell_type": "markdown",
   "id": "11808f23",
   "metadata": {},
   "source": [
    " "
   ]
  }
 ],
 "metadata": {
  "kernelspec": {
   "display_name": "Python 3 (ipykernel)",
   "language": "python",
   "name": "python3"
  },
  "language_info": {
   "codemirror_mode": {
    "name": "ipython",
    "version": 3
   },
   "file_extension": ".py",
   "mimetype": "text/x-python",
   "name": "python",
   "nbconvert_exporter": "python",
   "pygments_lexer": "ipython3",
   "version": "3.7.11"
  }
 },
 "nbformat": 4,
 "nbformat_minor": 5
}
