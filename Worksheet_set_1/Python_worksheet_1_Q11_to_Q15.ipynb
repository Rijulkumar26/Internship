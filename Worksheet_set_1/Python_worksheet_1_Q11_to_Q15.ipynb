{
  "nbformat": 4,
  "nbformat_minor": 0,
  "metadata": {
    "colab": {
      "name": "Python worksheet 1 Q11-Q15.ipynb",
      "provenance": [],
      "collapsed_sections": []
    },
    "kernelspec": {
      "name": "python3",
      "display_name": "Python 3"
    },
    "language_info": {
      "name": "python"
    }
  },
  "cells": [
    {
      "cell_type": "markdown",
      "source": [
        "#Q11 find the factorial of a number"
      ],
      "metadata": {
        "id": "rgWL-QXAKQUd"
      }
    },
    {
      "cell_type": "code",
      "execution_count": 21,
      "metadata": {
        "colab": {
          "base_uri": "https://localhost:8080/"
        },
        "id": "mlUmdgwQ_iWq",
        "outputId": "e521b504-ac8c-4e96-9a04-40c402815043"
      },
      "outputs": [
        {
          "output_type": "stream",
          "name": "stdout",
          "text": [
            "Factorial of number 10 is 3628800\n"
          ]
        }
      ],
      "source": [
        "a = 10 #number\n",
        "f = a\n",
        "e = a\n",
        "if e==0 or e==1:\n",
        "  print(\"Factorial of number \"+ str(e) +\" is \"+ str(1))\n",
        "elif e <0:\n",
        "  print(\"factorial does not exist for negative numbers\")\n",
        "else:\n",
        "  while a > 1:\n",
        "    a = a - 1\n",
        "    f = f * a\n",
        "  print(\"Factorial of number \"+ str(e) +\" is \"+ str(f))\n"
      ]
    },
    {
      "cell_type": "markdown",
      "source": [
        "#Q12 find whether a number is prime or composite"
      ],
      "metadata": {
        "id": "FJgXWPBsKZV1"
      }
    },
    {
      "cell_type": "code",
      "source": [
        "a = 5 #number\n",
        "c = 0\n",
        "\n",
        "if a > 0:\n",
        "  for i in range(2,a-1):\n",
        "    if a%i==0:\n",
        "      c=c+1\n",
        "  if c>0:\n",
        "    print(\"The number \" + str(a) + \" is a composite number\")\n",
        "  else:\n",
        "    print(\"The number \" + str(a) + \" is a prime number\")\n",
        "\n",
        "else:\n",
        "  print(\"The number \" + str(a) + \" is neither a prime number nor a composite number\")"
      ],
      "metadata": {
        "colab": {
          "base_uri": "https://localhost:8080/"
        },
        "id": "FMUerMTeFK8L",
        "outputId": "4b5bd53d-4e64-4e50-f879-75374e8574f4"
      },
      "execution_count": 28,
      "outputs": [
        {
          "output_type": "stream",
          "name": "stdout",
          "text": [
            "The number 5 is a prime number\n"
          ]
        }
      ]
    },
    {
      "cell_type": "markdown",
      "source": [
        "#Q13 check whether a given string is palindrome or not"
      ],
      "metadata": {
        "id": "vk4O80MNKjlK"
      }
    },
    {
      "cell_type": "code",
      "source": [
        "string = \"parap\" #String\n",
        "n = len(string)\n",
        "\n",
        "rev_string = \"\"\n",
        "\n",
        "for i in range(n-1,-1,-1):\n",
        "  rev_string = rev_string + string[i:i+1]\n",
        "\n",
        "if rev_string == string:\n",
        "  print(string + \" is a palindrome\")\n",
        "else:\n",
        "  print(string + \" is not a palindrome\")"
      ],
      "metadata": {
        "colab": {
          "base_uri": "https://localhost:8080/"
        },
        "id": "q8U2E2H8KwUo",
        "outputId": "ce849efc-768d-4b86-88a9-12bb719bb69a"
      },
      "execution_count": 65,
      "outputs": [
        {
          "output_type": "stream",
          "name": "stdout",
          "text": [
            "parap is a palindrome\n"
          ]
        }
      ]
    },
    {
      "cell_type": "markdown",
      "source": [
        "#Q14 Get the third side of right-angled triangle from two given sides"
      ],
      "metadata": {
        "id": "O2QTyxdnUUw6"
      }
    },
    {
      "cell_type": "code",
      "source": [
        "a = 10 #side 1\n",
        "b = 6 #side 2\n",
        "\n",
        "c = 0 #side3\n",
        "x = max(a,b)\n",
        "y = min(a,b)\n",
        "\n",
        "d = 0\n",
        "for c in range(x-y+1,x+y): #sum of 2 sides always greater than 3rd side\n",
        "  if (x*x + y*y == c*c) or (x*x + c*c == y*y) or (y*y+ c*c == x*x):\n",
        "    d = c\n",
        "if d == 0 :\n",
        "  print(\"No such triangle exists\")\n",
        "else:\n",
        "  print(\"3rd side will be of length \" + str(d))"
      ],
      "metadata": {
        "colab": {
          "base_uri": "https://localhost:8080/"
        },
        "id": "mySjXIUWUfgk",
        "outputId": "4c65fa28-61a1-4b41-e391-3b021c175030"
      },
      "execution_count": 70,
      "outputs": [
        {
          "output_type": "stream",
          "name": "stdout",
          "text": [
            "3rd side will be of length 8\n"
          ]
        }
      ]
    },
    {
      "cell_type": "markdown",
      "source": [
        "#Q15 Print the frequency of each of the characters present in a given string"
      ],
      "metadata": {
        "id": "7DbuixhLXr54"
      }
    },
    {
      "cell_type": "code",
      "source": [
        "from collections import Counter\n",
        "string = \"applebananamango\" #string\n",
        "\n",
        "n=len(string)\n",
        "sort = sorted(string)\n",
        "print(Counter(sort))"
      ],
      "metadata": {
        "colab": {
          "base_uri": "https://localhost:8080/"
        },
        "id": "hlFio2uwX2fB",
        "outputId": "4c38a055-28fb-42c3-e84d-0ae664d209cd"
      },
      "execution_count": 133,
      "outputs": [
        {
          "output_type": "stream",
          "name": "stdout",
          "text": [
            "Counter({'a': 5, 'n': 3, 'p': 2, 'b': 1, 'e': 1, 'g': 1, 'l': 1, 'm': 1, 'o': 1})\n"
          ]
        }
      ]
    }
  ]
}
