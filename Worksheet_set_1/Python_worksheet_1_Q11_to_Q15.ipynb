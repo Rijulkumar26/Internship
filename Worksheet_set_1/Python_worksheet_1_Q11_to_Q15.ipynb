{
  "nbformat": 4,
  "nbformat_minor": 0,
  "metadata": {
    "colab": {
      "name": "Python worksheet 1 Q11-Q15.ipynb",
      "provenance": [],
      "collapsed_sections": []
    },
    "kernelspec": {
      "name": "python3",
      "display_name": "Python 3"
    },
    "language_info": {
      "name": "python"
    }
  },
  "cells": [
    {
      "cell_type": "markdown",
      "source": [
        "#Q11 find the factorial of a number"
      ],
      "metadata": {
        "id": "rgWL-QXAKQUd"
      }
    },
    {
      "cell_type": "code",
      "execution_count": 1,
      "metadata": {
        "colab": {
          "base_uri": "https://localhost:8080/"
        },
        "id": "mlUmdgwQ_iWq",
        "outputId": "ed479b6e-878b-4686-e410-2417e83cabf0"
      },
      "outputs": [
        {
          "output_type": "stream",
          "name": "stdout",
          "text": [
            "Factorial of number 10 is 3628800\n"
          ]
        }
      ],
      "source": [
        "a = 10 #number\n",
        "f = a\n",
        "e = a\n",
        "if e==0 or e==1:\n",
        "  print(\"Factorial of number \"+ str(e) +\" is \"+ str(1))\n",
        "elif e <0:\n",
        "  print(\"factorial does not exist for negative numbers\")\n",
        "else:\n",
        "  while a > 1:\n",
        "    a = a - 1\n",
        "    f = f * a\n",
        "  print(\"Factorial of number \"+ str(e) +\" is \"+ str(f))\n"
      ]
    },
    {
      "cell_type": "markdown",
      "source": [
        "#Q12 find whether a number is prime or composite"
      ],
      "metadata": {
        "id": "FJgXWPBsKZV1"
      }
    },
    {
      "cell_type": "code",
      "source": [
        "a = 5 #number\n",
        "c = 0\n",
        "\n",
        "if a > 0:\n",
        "  for i in range(2,a-1):\n",
        "    if a%i==0:\n",
        "      c=c+1\n",
        "  if c>0:\n",
        "    print(\"The number \" + str(a) + \" is a composite number\")\n",
        "  else:\n",
        "    print(\"The number \" + str(a) + \" is a prime number\")\n",
        "\n",
        "else:\n",
        "  print(\"The number \" + str(a) + \" is neither a prime number nor a composite number\")"
      ],
      "metadata": {
        "colab": {
          "base_uri": "https://localhost:8080/"
        },
        "id": "FMUerMTeFK8L",
        "outputId": "8c7086ea-839f-438e-e535-fac6c3f2ae10"
      },
      "execution_count": 2,
      "outputs": [
        {
          "output_type": "stream",
          "name": "stdout",
          "text": [
            "The number 5 is a prime number\n"
          ]
        }
      ]
    },
    {
      "cell_type": "markdown",
      "source": [
        "#Q13 check whether a given string is palindrome or not"
      ],
      "metadata": {
        "id": "vk4O80MNKjlK"
      }
    },
    {
      "cell_type": "code",
      "source": [
        "string = \"parap\" #String\n",
        "n = len(string)\n",
        "\n",
        "rev_string = \"\"\n",
        "\n",
        "for i in range(n-1,-1,-1):\n",
        "  rev_string = rev_string + string[i:i+1]\n",
        "\n",
        "if rev_string == string:\n",
        "  print(string + \" is a palindrome\")\n",
        "else:\n",
        "  print(string + \" is not a palindrome\")"
      ],
      "metadata": {
        "colab": {
          "base_uri": "https://localhost:8080/"
        },
        "id": "q8U2E2H8KwUo",
        "outputId": "2b88a909-9cb7-4dd8-8a85-a1500ed95c71"
      },
      "execution_count": 3,
      "outputs": [
        {
          "output_type": "stream",
          "name": "stdout",
          "text": [
            "parap is a palindrome\n"
          ]
        }
      ]
    },
    {
      "cell_type": "markdown",
      "source": [
        "#Q14 Get the third side of right-angled triangle from two given sides"
      ],
      "metadata": {
        "id": "O2QTyxdnUUw6"
      }
    },
    {
      "cell_type": "code",
      "source": [
        "a = 10 #side 1\n",
        "b = 6 #side 2\n",
        "\n",
        "c = 0 #side3\n",
        "x = max(a,b)\n",
        "y = min(a,b)\n",
        "\n",
        "d = 0\n",
        "for c in range(x-y+1,x+y): #sum of 2 sides always greater than 3rd side\n",
        "  if (x*x + y*y == c*c) or (x*x + c*c == y*y) or (y*y+ c*c == x*x):\n",
        "    d = c\n",
        "if d == 0 :\n",
        "  print(\"No such triangle exists\")\n",
        "else:\n",
        "  print(\"3rd side will be of length \" + str(d))"
      ],
      "metadata": {
        "colab": {
          "base_uri": "https://localhost:8080/"
        },
        "id": "mySjXIUWUfgk",
        "outputId": "c4bb663f-aed7-47f9-f1fb-7f6cf5cd40ef"
      },
      "execution_count": 4,
      "outputs": [
        {
          "output_type": "stream",
          "name": "stdout",
          "text": [
            "3rd side will be of length 8\n"
          ]
        }
      ]
    },
    {
      "cell_type": "markdown",
      "source": [
        "#Q15 Print the frequency of each of the characters present in a given string"
      ],
      "metadata": {
        "id": "7DbuixhLXr54"
      }
    },
    {
      "cell_type": "code",
      "source": [
        "from collections import Counter\n",
        "string = \"applebananamango\" #string\n",
        "\n",
        "sort = sorted(string) #converts string into sorted list\n",
        "print(Counter(sort)) #counts frequency of unique list elements appearing "
      ],
      "metadata": {
        "colab": {
          "base_uri": "https://localhost:8080/"
        },
        "id": "hlFio2uwX2fB",
        "outputId": "f2b8506f-5c65-48bf-a995-ea33bdae7c5e"
      },
      "execution_count": 5,
      "outputs": [
        {
          "output_type": "stream",
          "name": "stdout",
          "text": [
            "Counter({'a': 5, 'n': 3, 'p': 2, 'b': 1, 'e': 1, 'g': 1, 'l': 1, 'm': 1, 'o': 1})\n"
          ]
        }
      ]
    }
  ]
}