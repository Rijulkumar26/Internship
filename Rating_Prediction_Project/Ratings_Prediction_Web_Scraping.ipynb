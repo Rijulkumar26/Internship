{
 "cells": [
  {
   "cell_type": "markdown",
   "metadata": {},
   "source": [
    " "
   ]
  },
  {
   "cell_type": "code",
   "execution_count": 1,
   "metadata": {},
   "outputs": [],
   "source": [
    "#import all required libraries\n",
    "import selenium\n",
    "from selenium import webdriver\n",
    "from selenium.webdriver.common.by import By\n",
    "import pandas as pd\n",
    "import time\n",
    "import warnings\n",
    "warnings.filterwarnings(\"ignore\")\n",
    "\n",
    "from selenium.common.exceptions import NoSuchElementException"
   ]
  },
  {
   "cell_type": "markdown",
   "metadata": {},
   "source": [
    "### Scrape the Ratings and Reviews from Amazon.com and Flipkart.com for Laptops, phones, Headphones, smartwatches and Printer"
   ]
  },
  {
   "cell_type": "code",
   "execution_count": 452,
   "metadata": {},
   "outputs": [],
   "source": [
    "#connecting to webdriver\n",
    "driver = webdriver.Chrome('chromedriver')"
   ]
  },
  {
   "cell_type": "markdown",
   "metadata": {},
   "source": [
    "#### Amazon : Laptops"
   ]
  },
  {
   "cell_type": "code",
   "execution_count": 70,
   "metadata": {},
   "outputs": [],
   "source": [
    "# Amazon.com laptop url\n",
    "url = 'https://www.amazon.in/s?k=laptop&crid=SEM0TY2UCADE&sprefix=laptop%2Caps%2C244&ref=nb_sb_noss_1'\n",
    "driver.get(url)"
   ]
  },
  {
   "cell_type": "code",
   "execution_count": 71,
   "metadata": {},
   "outputs": [],
   "source": [
    "url = []"
   ]
  },
  {
   "cell_type": "code",
   "execution_count": 72,
   "metadata": {},
   "outputs": [],
   "source": [
    "#Fetching url to open each description page from page 0 to 14\n",
    "\n",
    "start=0\n",
    "end=15\n",
    "for page in range(start,end):\n",
    "    time.sleep(3)\n",
    "    \n",
    "    #extracting url tags\n",
    "    url_tags= driver.find_elements(By.XPATH, '//a[@class=\"a-link-normal s-underline-text s-underline-link-text s-link-style a-text-normal\"]')\n",
    "    for i in url_tags:\n",
    "        url.append(i.get_attribute('href'))\n",
    "        \n",
    "    time.sleep(4)\n",
    "    if page<2: #For pressing next button\n",
    "        button = driver.find_element(By.XPATH,'//a[@class=\"s-pagination-item s-pagination-next s-pagination-button s-pagination-separator\"]')\n",
    "        button.click()\n",
    "\n",
    "    time.sleep(2)"
   ]
  },
  {
   "cell_type": "code",
   "execution_count": 73,
   "metadata": {},
   "outputs": [
    {
     "data": {
      "text/plain": [
       "330"
      ]
     },
     "execution_count": 73,
     "metadata": {},
     "output_type": "execute_result"
    }
   ],
   "source": [
    "len(url)"
   ]
  },
  {
   "cell_type": "code",
   "execution_count": 79,
   "metadata": {},
   "outputs": [],
   "source": [
    "rating = []\n",
    "review = []\n",
    "a = -1\n",
    "b = -1\n",
    "c = -1"
   ]
  },
  {
   "cell_type": "code",
   "execution_count": 121,
   "metadata": {},
   "outputs": [],
   "source": [
    "#let's extract all web elements having required parent tags and then extract required elements from them\n",
    "for i in url:\n",
    "    driver.get(i)\n",
    "    time.sleep(2)\n",
    "\n",
    "    a = a+1\n",
    "    \n",
    "    #Extracting ratings tags from parent tag\n",
    "    try:\n",
    "        rat_tags = []\n",
    "        rating_test = []\n",
    "        rating_tags = driver.find_elements(By.XPATH, '//a[@class=\"a-link-normal\"]')\n",
    "        rat_tags = [rating_tags.get_attribute('title') for rating_tags in rating_tags]\n",
    "        for i in rat_tags:\n",
    "            rating_test.append(i)\n",
    "        # to get string with substring(out of 5 stars) in it\n",
    "        rating.extend([j for j in rating_test if \"out of 5 stars\" in j])\n",
    "    except:\n",
    "        rating.append(None)\n",
    "\n",
    "    b = b+1\n",
    "    #Extracting review tag from parent tag\n",
    "    try:\n",
    "        review_tags = driver.find_elements(By.XPATH, '//a[@class=\"a-size-base a-link-normal review-title a-color-base review-title-content a-text-bold\"]')\n",
    "        for i in review_tags:\n",
    "            review.append(i.text)\n",
    "    except:\n",
    "        review.append(None)\n",
    "    c = c+1\n",
    "    time.sleep(1)"
   ]
  },
  {
   "cell_type": "code",
   "execution_count": 122,
   "metadata": {},
   "outputs": [
    {
     "data": {
      "text/plain": [
       "1784"
      ]
     },
     "execution_count": 122,
     "metadata": {},
     "output_type": "execute_result"
    }
   ],
   "source": [
    "len(rating)"
   ]
  },
  {
   "cell_type": "code",
   "execution_count": 123,
   "metadata": {},
   "outputs": [
    {
     "data": {
      "text/plain": [
       "1784"
      ]
     },
     "execution_count": 123,
     "metadata": {},
     "output_type": "execute_result"
    }
   ],
   "source": [
    "len(review)"
   ]
  },
  {
   "cell_type": "code",
   "execution_count": 124,
   "metadata": {},
   "outputs": [
    {
     "data": {
      "text/plain": [
       "329"
      ]
     },
     "execution_count": 124,
     "metadata": {},
     "output_type": "execute_result"
    }
   ],
   "source": [
    "a"
   ]
  },
  {
   "cell_type": "code",
   "execution_count": 125,
   "metadata": {},
   "outputs": [
    {
     "data": {
      "text/plain": [
       "329"
      ]
     },
     "execution_count": 125,
     "metadata": {},
     "output_type": "execute_result"
    }
   ],
   "source": [
    "b"
   ]
  },
  {
   "cell_type": "code",
   "execution_count": 126,
   "metadata": {},
   "outputs": [
    {
     "data": {
      "text/plain": [
       "329"
      ]
     },
     "execution_count": 126,
     "metadata": {},
     "output_type": "execute_result"
    }
   ],
   "source": [
    "c"
   ]
  },
  {
   "cell_type": "markdown",
   "metadata": {},
   "source": [
    " \n",
    " "
   ]
  },
  {
   "cell_type": "markdown",
   "metadata": {},
   "source": [
    "#### Amazon : Phones"
   ]
  },
  {
   "cell_type": "code",
   "execution_count": 127,
   "metadata": {},
   "outputs": [],
   "source": [
    "# Amazon.com Phones url\n",
    "url = 'https://www.amazon.in/s?k=phones&crid=1YOXHRZPDQR3E&sprefix=phone%2Caps%2C240&ref=nb_sb_noss_1'\n",
    "driver.get(url)"
   ]
  },
  {
   "cell_type": "code",
   "execution_count": 128,
   "metadata": {},
   "outputs": [],
   "source": [
    "url = []"
   ]
  },
  {
   "cell_type": "code",
   "execution_count": 129,
   "metadata": {},
   "outputs": [],
   "source": [
    "#Fetching url to open each description page from page 0 to 14\n",
    "\n",
    "start=0\n",
    "end=15\n",
    "for page in range(start,end):\n",
    "    time.sleep(3)\n",
    "    \n",
    "    #extracting url tags\n",
    "    url_tags= driver.find_elements(By.XPATH, '//a[@class=\"a-link-normal s-underline-text s-underline-link-text s-link-style a-text-normal\"]')\n",
    "    for i in url_tags:\n",
    "        url.append(i.get_attribute('href'))\n",
    "        \n",
    "    time.sleep(4)\n",
    "    if page<2: #For pressing next button\n",
    "        button = driver.find_element(By.XPATH,'//a[@class=\"s-pagination-item s-pagination-next s-pagination-button s-pagination-separator\"]')\n",
    "        button.click()\n",
    "\n",
    "    time.sleep(2)"
   ]
  },
  {
   "cell_type": "code",
   "execution_count": 130,
   "metadata": {},
   "outputs": [
    {
     "data": {
      "text/plain": [
       "330"
      ]
     },
     "execution_count": 130,
     "metadata": {},
     "output_type": "execute_result"
    }
   ],
   "source": [
    "len(url)"
   ]
  },
  {
   "cell_type": "code",
   "execution_count": 131,
   "metadata": {},
   "outputs": [],
   "source": [
    "rating1 = []\n",
    "review1 = []\n",
    "a = -1\n",
    "b = -1\n",
    "c = -1"
   ]
  },
  {
   "cell_type": "code",
   "execution_count": 162,
   "metadata": {},
   "outputs": [],
   "source": [
    "#let's extract all web elements having required parent tags and then extract required elements from them\n",
    "for i in url:\n",
    "    driver.get(i)\n",
    "    time.sleep(2)\n",
    "\n",
    "    a = a+1\n",
    "    \n",
    "    #Extracting ratings tags from parent tag\n",
    "    try:\n",
    "        rat_tags = []\n",
    "        rating_test = []\n",
    "        rating_tags = driver.find_elements(By.XPATH, '//a[@class=\"a-link-normal\"]')\n",
    "        rat_tags = [rating_tags.get_attribute('title') for rating_tags in rating_tags]\n",
    "        for i in rat_tags:\n",
    "            rating_test.append(i)\n",
    "        # to get string with substring(out of 5 stars) in it\n",
    "        rating1.extend([j for j in rating_test if \"out of 5 stars\" in j])\n",
    "    except:\n",
    "        rating1.append(None)\n",
    "\n",
    "    b = b+1\n",
    "    #Extracting review tag from parent tag\n",
    "    try:\n",
    "        review_tags = driver.find_elements(By.XPATH, '//a[@class=\"a-size-base a-link-normal review-title a-color-base review-title-content a-text-bold\"]')\n",
    "        for i in review_tags:\n",
    "            review1.append(i.text)\n",
    "    except:\n",
    "        review1.append(None)\n",
    "    c = c+1\n",
    "    time.sleep(1)"
   ]
  },
  {
   "cell_type": "code",
   "execution_count": 163,
   "metadata": {},
   "outputs": [
    {
     "data": {
      "text/plain": [
       "2140"
      ]
     },
     "execution_count": 163,
     "metadata": {},
     "output_type": "execute_result"
    }
   ],
   "source": [
    "len(rating1)"
   ]
  },
  {
   "cell_type": "code",
   "execution_count": 164,
   "metadata": {},
   "outputs": [
    {
     "data": {
      "text/plain": [
       "2140"
      ]
     },
     "execution_count": 164,
     "metadata": {},
     "output_type": "execute_result"
    }
   ],
   "source": [
    "len(review1)"
   ]
  },
  {
   "cell_type": "code",
   "execution_count": 165,
   "metadata": {},
   "outputs": [
    {
     "data": {
      "text/plain": [
       "329"
      ]
     },
     "execution_count": 165,
     "metadata": {},
     "output_type": "execute_result"
    }
   ],
   "source": [
    "a"
   ]
  },
  {
   "cell_type": "code",
   "execution_count": 166,
   "metadata": {},
   "outputs": [
    {
     "data": {
      "text/plain": [
       "329"
      ]
     },
     "execution_count": 166,
     "metadata": {},
     "output_type": "execute_result"
    }
   ],
   "source": [
    "b"
   ]
  },
  {
   "cell_type": "code",
   "execution_count": 167,
   "metadata": {},
   "outputs": [
    {
     "data": {
      "text/plain": [
       "329"
      ]
     },
     "execution_count": 167,
     "metadata": {},
     "output_type": "execute_result"
    }
   ],
   "source": [
    "c"
   ]
  },
  {
   "cell_type": "markdown",
   "metadata": {},
   "source": [
    " "
   ]
  },
  {
   "cell_type": "markdown",
   "metadata": {},
   "source": [
    "#### Amazon : Headphone"
   ]
  },
  {
   "cell_type": "code",
   "execution_count": 168,
   "metadata": {},
   "outputs": [],
   "source": [
    "# Amazon.com Headphone url\n",
    "url = 'https://www.amazon.in/s?k=headphones&sprefix=headp%2Caps%2C313&ref=nb_sb_ss_ts-doa-p_1_5'\n",
    "driver.get(url)"
   ]
  },
  {
   "cell_type": "code",
   "execution_count": 169,
   "metadata": {},
   "outputs": [],
   "source": [
    "url = []"
   ]
  },
  {
   "cell_type": "code",
   "execution_count": 170,
   "metadata": {},
   "outputs": [],
   "source": [
    "#Fetching url to open each description page from page 0 to 14\n",
    "\n",
    "start=0\n",
    "end=15\n",
    "for page in range(start,end):\n",
    "    time.sleep(3)\n",
    "    \n",
    "    #extracting url tags\n",
    "    url_tags= driver.find_elements(By.XPATH, '//a[@class=\"a-link-normal s-underline-text s-underline-link-text s-link-style a-text-normal\"]')\n",
    "    for i in url_tags:\n",
    "        url.append(i.get_attribute('href'))\n",
    "        \n",
    "    time.sleep(4)\n",
    "    if page<2: #For pressing next button\n",
    "        button = driver.find_element(By.XPATH,'//a[@class=\"s-pagination-item s-pagination-next s-pagination-button s-pagination-separator\"]')\n",
    "        button.click()\n",
    "\n",
    "    time.sleep(2)"
   ]
  },
  {
   "cell_type": "code",
   "execution_count": 171,
   "metadata": {},
   "outputs": [
    {
     "data": {
      "text/plain": [
       "330"
      ]
     },
     "execution_count": 171,
     "metadata": {},
     "output_type": "execute_result"
    }
   ],
   "source": [
    "len(url)"
   ]
  },
  {
   "cell_type": "code",
   "execution_count": 172,
   "metadata": {},
   "outputs": [],
   "source": [
    "rating2 = []\n",
    "review2 = []\n",
    "a = -1\n",
    "b = -1\n",
    "c = -1"
   ]
  },
  {
   "cell_type": "code",
   "execution_count": 232,
   "metadata": {},
   "outputs": [],
   "source": [
    "#let's extract all web elements having required parent tags and then extract required elements from them\n",
    "for i in url:\n",
    "    driver.get(i)\n",
    "    time.sleep(2)\n",
    "\n",
    "    a = a+1\n",
    "    \n",
    "    #Extracting ratings tags from parent tag\n",
    "    try:\n",
    "        rat_tags = []\n",
    "        rating_test = []\n",
    "        rating_tags = driver.find_elements(By.XPATH, '//a[@class=\"a-link-normal\"]')\n",
    "        rat_tags = [rating_tags.get_attribute('title') for rating_tags in rating_tags]\n",
    "        for i in rat_tags:\n",
    "            rating_test.append(i)\n",
    "        # to get string with substring(out of 5 stars) in it\n",
    "        rating2.extend([j for j in rating_test if \"out of 5 stars\" in j])\n",
    "    except:\n",
    "        rating2.append(None)\n",
    "\n",
    "    b = b+1\n",
    "    #Extracting review tag from parent tag\n",
    "    try:\n",
    "        review_tags = driver.find_elements(By.XPATH, '//a[@class=\"a-size-base a-link-normal review-title a-color-base review-title-content a-text-bold\"]')\n",
    "        for i in review_tags:\n",
    "            review2.append(i.text)\n",
    "    except:\n",
    "        review2.append(None)\n",
    "    c = c+1\n",
    "    time.sleep(1)"
   ]
  },
  {
   "cell_type": "code",
   "execution_count": 233,
   "metadata": {},
   "outputs": [
    {
     "data": {
      "text/plain": [
       "2426"
      ]
     },
     "execution_count": 233,
     "metadata": {},
     "output_type": "execute_result"
    }
   ],
   "source": [
    "len(rating2)"
   ]
  },
  {
   "cell_type": "code",
   "execution_count": 234,
   "metadata": {},
   "outputs": [
    {
     "data": {
      "text/plain": [
       "2426"
      ]
     },
     "execution_count": 234,
     "metadata": {},
     "output_type": "execute_result"
    }
   ],
   "source": [
    "len(review2)"
   ]
  },
  {
   "cell_type": "code",
   "execution_count": 235,
   "metadata": {},
   "outputs": [
    {
     "data": {
      "text/plain": [
       "329"
      ]
     },
     "execution_count": 235,
     "metadata": {},
     "output_type": "execute_result"
    }
   ],
   "source": [
    "a"
   ]
  },
  {
   "cell_type": "code",
   "execution_count": 236,
   "metadata": {},
   "outputs": [
    {
     "data": {
      "text/plain": [
       "329"
      ]
     },
     "execution_count": 236,
     "metadata": {},
     "output_type": "execute_result"
    }
   ],
   "source": [
    "b"
   ]
  },
  {
   "cell_type": "code",
   "execution_count": 237,
   "metadata": {},
   "outputs": [
    {
     "data": {
      "text/plain": [
       "329"
      ]
     },
     "execution_count": 237,
     "metadata": {},
     "output_type": "execute_result"
    }
   ],
   "source": [
    "c"
   ]
  },
  {
   "cell_type": "markdown",
   "metadata": {},
   "source": [
    " "
   ]
  },
  {
   "cell_type": "markdown",
   "metadata": {},
   "source": [
    "#### Amazon : smartwatches"
   ]
  },
  {
   "cell_type": "code",
   "execution_count": 238,
   "metadata": {},
   "outputs": [],
   "source": [
    "# Amazon.com smartwatches url\n",
    "url = 'https://www.amazon.com/s?k=smartwatches&crid=4F4NWGFZH4E9&sprefix=smartwatches%2Caps%2C473&ref=nb_sb_noss_1'\n",
    "driver.get(url)"
   ]
  },
  {
   "cell_type": "code",
   "execution_count": 239,
   "metadata": {},
   "outputs": [],
   "source": [
    "url = []"
   ]
  },
  {
   "cell_type": "code",
   "execution_count": 240,
   "metadata": {},
   "outputs": [],
   "source": [
    "#Fetching url to open each description page from page 0 to 14\n",
    "\n",
    "start=0\n",
    "end=15\n",
    "for page in range(start,end):\n",
    "    time.sleep(3)\n",
    "    \n",
    "    #extracting url tags\n",
    "    url_tags= driver.find_elements(By.XPATH, '//a[@class=\"a-link-normal s-underline-text s-underline-link-text s-link-style a-text-normal\"]')\n",
    "    for i in url_tags:\n",
    "        url.append(i.get_attribute('href'))\n",
    "        \n",
    "    time.sleep(4)\n",
    "    if page<2: #For pressing next button\n",
    "        button = driver.find_element(By.XPATH,'//a[@class=\"s-pagination-item s-pagination-next s-pagination-button s-pagination-separator\"]')\n",
    "        button.click()\n",
    "\n",
    "    time.sleep(2)"
   ]
  },
  {
   "cell_type": "code",
   "execution_count": 242,
   "metadata": {},
   "outputs": [
    {
     "data": {
      "text/plain": [
       "340"
      ]
     },
     "execution_count": 242,
     "metadata": {},
     "output_type": "execute_result"
    }
   ],
   "source": [
    "len(url)"
   ]
  },
  {
   "cell_type": "code",
   "execution_count": 243,
   "metadata": {},
   "outputs": [],
   "source": [
    "rating3 = []\n",
    "review3 = []\n",
    "a = -1\n",
    "b = -1\n",
    "c = -1"
   ]
  },
  {
   "cell_type": "code",
   "execution_count": 289,
   "metadata": {},
   "outputs": [],
   "source": [
    "#let's extract all web elements having required parent tags and then extract required elements from them\n",
    "for i in url:\n",
    "    driver.get(i)\n",
    "    time.sleep(2)\n",
    "\n",
    "    a = a+1\n",
    "    \n",
    "    #Extracting ratings tags from parent tag\n",
    "    try:\n",
    "        rat_tags = []\n",
    "        rating_test = []\n",
    "        rating_tags = driver.find_elements(By.XPATH, '//a[@class=\"a-link-normal\"]')\n",
    "        rat_tags = [rating_tags.get_attribute('title') for rating_tags in rating_tags]\n",
    "        for i in rat_tags:\n",
    "            rating_test.append(i)\n",
    "        # to get string with substring(out of 5 stars) in it\n",
    "        rating3.extend([j for j in rating_test if \"out of 5 stars\" in j])\n",
    "    except:\n",
    "        rating3.append(None)\n",
    "\n",
    "    b = b+1\n",
    "    #Extracting review tag from parent tag\n",
    "    try:\n",
    "        review_tags = driver.find_elements(By.XPATH, '//a[@class=\"a-size-base a-link-normal review-title a-color-base review-title-content a-text-bold\"]')\n",
    "        for i in review_tags:\n",
    "            review3.append(i.text)\n",
    "    except:\n",
    "        review3.append(None)\n",
    "    c = c+1\n",
    "    time.sleep(1)"
   ]
  },
  {
   "cell_type": "code",
   "execution_count": 521,
   "metadata": {},
   "outputs": [
    {
     "data": {
      "text/plain": [
       "2266"
      ]
     },
     "execution_count": 521,
     "metadata": {},
     "output_type": "execute_result"
    }
   ],
   "source": [
    "len(rating3)"
   ]
  },
  {
   "cell_type": "code",
   "execution_count": 522,
   "metadata": {},
   "outputs": [
    {
     "data": {
      "text/plain": [
       "2266"
      ]
     },
     "execution_count": 522,
     "metadata": {},
     "output_type": "execute_result"
    }
   ],
   "source": [
    "len(review3)"
   ]
  },
  {
   "cell_type": "code",
   "execution_count": 292,
   "metadata": {},
   "outputs": [
    {
     "data": {
      "text/plain": [
       "339"
      ]
     },
     "execution_count": 292,
     "metadata": {},
     "output_type": "execute_result"
    }
   ],
   "source": [
    "a"
   ]
  },
  {
   "cell_type": "code",
   "execution_count": 293,
   "metadata": {},
   "outputs": [
    {
     "data": {
      "text/plain": [
       "339"
      ]
     },
     "execution_count": 293,
     "metadata": {},
     "output_type": "execute_result"
    }
   ],
   "source": [
    "b"
   ]
  },
  {
   "cell_type": "code",
   "execution_count": 294,
   "metadata": {},
   "outputs": [
    {
     "data": {
      "text/plain": [
       "339"
      ]
     },
     "execution_count": 294,
     "metadata": {},
     "output_type": "execute_result"
    }
   ],
   "source": [
    "c"
   ]
  },
  {
   "cell_type": "markdown",
   "metadata": {},
   "source": [
    " "
   ]
  },
  {
   "cell_type": "markdown",
   "metadata": {},
   "source": [
    "#### Amazon : Printers"
   ]
  },
  {
   "cell_type": "code",
   "execution_count": 295,
   "metadata": {},
   "outputs": [],
   "source": [
    "# Amazon.com Printers url\n",
    "url = 'https://www.amazon.com/s?k=printers&crid=5OQV2RS4MUY8&sprefix=printers%2Caps%2C502&ref=nb_sb_noss_1'\n",
    "driver.get(url)"
   ]
  },
  {
   "cell_type": "code",
   "execution_count": 296,
   "metadata": {},
   "outputs": [],
   "source": [
    "url = []"
   ]
  },
  {
   "cell_type": "code",
   "execution_count": 297,
   "metadata": {},
   "outputs": [],
   "source": [
    "#Fetching url to open each description page from page 0 to 14\n",
    "\n",
    "start=0\n",
    "end=15\n",
    "for page in range(start,end):\n",
    "    time.sleep(3)\n",
    "    \n",
    "    #extracting url tags\n",
    "    url_tags= driver.find_elements(By.XPATH, '//a[@class=\"a-link-normal s-underline-text s-underline-link-text s-link-style a-text-normal\"]')\n",
    "    for i in url_tags:\n",
    "        url.append(i.get_attribute('href'))\n",
    "        \n",
    "    time.sleep(4)\n",
    "    if page<2: #For pressing next button\n",
    "        button = driver.find_element(By.XPATH,'//a[@class=\"s-pagination-item s-pagination-next s-pagination-button s-pagination-separator\"]')\n",
    "        button.click()\n",
    "\n",
    "    time.sleep(2)"
   ]
  },
  {
   "cell_type": "code",
   "execution_count": 298,
   "metadata": {},
   "outputs": [
    {
     "data": {
      "text/plain": [
       "342"
      ]
     },
     "execution_count": 298,
     "metadata": {},
     "output_type": "execute_result"
    }
   ],
   "source": [
    "len(url)"
   ]
  },
  {
   "cell_type": "code",
   "execution_count": 299,
   "metadata": {},
   "outputs": [],
   "source": [
    "rating4 = []\n",
    "review4 = []\n",
    "a = -1\n",
    "b = -1\n",
    "c = -1"
   ]
  },
  {
   "cell_type": "code",
   "execution_count": 336,
   "metadata": {},
   "outputs": [],
   "source": [
    "#let's extract all web elements having required parent tags and then extract required elements from them\n",
    "for i in url[331:342]:\n",
    "    driver.get(i)\n",
    "    time.sleep(2)\n",
    "\n",
    "    a = a+1\n",
    "    \n",
    "    #Extracting ratings tags from parent tag\n",
    "    try:\n",
    "        rat_tags = []\n",
    "        rating_test = []\n",
    "        rating_tags = driver.find_elements(By.XPATH, '//a[@class=\"a-link-normal\"]')\n",
    "        rat_tags = [rating_tags.get_attribute('title') for rating_tags in rating_tags]\n",
    "        for i in rat_tags:\n",
    "            rating_test.append(i)\n",
    "        # to get string with substring(out of 5 stars) in it\n",
    "        rating4.extend([j for j in rating_test if \"out of 5 stars\" in j])\n",
    "    except:\n",
    "        rating4.append(None)\n",
    "\n",
    "    b = b+1\n",
    "    #Extracting review tag from parent tag\n",
    "    try:\n",
    "        review_tags = driver.find_elements(By.XPATH, '//a[@class=\"a-size-base a-link-normal review-title a-color-base review-title-content a-text-bold\"]')\n",
    "        for i in review_tags:\n",
    "            review4.append(i.text)\n",
    "    except:\n",
    "        review4.append(None)\n",
    "    c = c+1\n",
    "    time.sleep(1)"
   ]
  },
  {
   "cell_type": "code",
   "execution_count": 337,
   "metadata": {},
   "outputs": [
    {
     "data": {
      "text/plain": [
       "2162"
      ]
     },
     "execution_count": 337,
     "metadata": {},
     "output_type": "execute_result"
    }
   ],
   "source": [
    "len(rating4)"
   ]
  },
  {
   "cell_type": "code",
   "execution_count": 338,
   "metadata": {},
   "outputs": [
    {
     "data": {
      "text/plain": [
       "2162"
      ]
     },
     "execution_count": 338,
     "metadata": {},
     "output_type": "execute_result"
    }
   ],
   "source": [
    "len(review4)"
   ]
  },
  {
   "cell_type": "code",
   "execution_count": 339,
   "metadata": {},
   "outputs": [
    {
     "data": {
      "text/plain": [
       "341"
      ]
     },
     "execution_count": 339,
     "metadata": {},
     "output_type": "execute_result"
    }
   ],
   "source": [
    "a"
   ]
  },
  {
   "cell_type": "code",
   "execution_count": 340,
   "metadata": {},
   "outputs": [
    {
     "data": {
      "text/plain": [
       "341"
      ]
     },
     "execution_count": 340,
     "metadata": {},
     "output_type": "execute_result"
    }
   ],
   "source": [
    "b"
   ]
  },
  {
   "cell_type": "code",
   "execution_count": 341,
   "metadata": {},
   "outputs": [
    {
     "data": {
      "text/plain": [
       "341"
      ]
     },
     "execution_count": 341,
     "metadata": {},
     "output_type": "execute_result"
    }
   ],
   "source": [
    "c"
   ]
  },
  {
   "cell_type": "markdown",
   "metadata": {},
   "source": [
    " "
   ]
  },
  {
   "cell_type": "markdown",
   "metadata": {},
   "source": [
    "### Creating dataframe for amazon products"
   ]
  },
  {
   "cell_type": "code",
   "execution_count": 519,
   "metadata": {},
   "outputs": [],
   "source": [
    "am_rating = []\n",
    "am_review = []"
   ]
  },
  {
   "cell_type": "code",
   "execution_count": 520,
   "metadata": {},
   "outputs": [
    {
     "data": {
      "text/plain": [
       "[None, None, None, None, None]"
      ]
     },
     "execution_count": 520,
     "metadata": {},
     "output_type": "execute_result"
    }
   ],
   "source": [
    "[am_rating.extend(l) for l in (rating,rating1,rating2,rating3,rating4)]\n",
    "[am_review.extend(l) for l in (review,review1,review2,review3,review4)]"
   ]
  },
  {
   "cell_type": "code",
   "execution_count": 523,
   "metadata": {},
   "outputs": [
    {
     "data": {
      "text/html": [
       "<div>\n",
       "<style scoped>\n",
       "    .dataframe tbody tr th:only-of-type {\n",
       "        vertical-align: middle;\n",
       "    }\n",
       "\n",
       "    .dataframe tbody tr th {\n",
       "        vertical-align: top;\n",
       "    }\n",
       "\n",
       "    .dataframe thead th {\n",
       "        text-align: right;\n",
       "    }\n",
       "</style>\n",
       "<table border=\"1\" class=\"dataframe\">\n",
       "  <thead>\n",
       "    <tr style=\"text-align: right;\">\n",
       "      <th></th>\n",
       "      <th>Rating</th>\n",
       "      <th>Review</th>\n",
       "    </tr>\n",
       "  </thead>\n",
       "  <tbody>\n",
       "    <tr>\n",
       "      <th>0</th>\n",
       "      <td>5.0 out of 5 stars</td>\n",
       "      <td>Overall nice</td>\n",
       "    </tr>\n",
       "    <tr>\n",
       "      <th>1</th>\n",
       "      <td>5.0 out of 5 stars</td>\n",
       "      <td>Using it from day one and fully satisfied in a...</td>\n",
       "    </tr>\n",
       "    <tr>\n",
       "      <th>2</th>\n",
       "      <td>1.0 out of 5 stars</td>\n",
       "      <td>Not working key board and automatic typing one...</td>\n",
       "    </tr>\n",
       "    <tr>\n",
       "      <th>3</th>\n",
       "      <td>5.0 out of 5 stars</td>\n",
       "      <td>Best Laptop for basic computing on quad core p...</td>\n",
       "    </tr>\n",
       "    <tr>\n",
       "      <th>4</th>\n",
       "      <td>4.0 out of 5 stars</td>\n",
       "      <td>Good Option with some cons</td>\n",
       "    </tr>\n",
       "    <tr>\n",
       "      <th>...</th>\n",
       "      <td>...</td>\n",
       "      <td>...</td>\n",
       "    </tr>\n",
       "    <tr>\n",
       "      <th>10773</th>\n",
       "      <td>4.0 out of 5 stars</td>\n",
       "      <td>Bad print quality after 4 months</td>\n",
       "    </tr>\n",
       "    <tr>\n",
       "      <th>10774</th>\n",
       "      <td>5.0 out of 5 stars</td>\n",
       "      <td>Great product at fraction of the cost</td>\n",
       "    </tr>\n",
       "    <tr>\n",
       "      <th>10775</th>\n",
       "      <td>5.0 out of 5 stars</td>\n",
       "      <td>excelente Producto!</td>\n",
       "    </tr>\n",
       "    <tr>\n",
       "      <th>10776</th>\n",
       "      <td>5.0 out of 5 stars</td>\n",
       "      <td>Exact fit..</td>\n",
       "    </tr>\n",
       "    <tr>\n",
       "      <th>10777</th>\n",
       "      <td>5.0 out of 5 stars</td>\n",
       "      <td>Amazing Color</td>\n",
       "    </tr>\n",
       "  </tbody>\n",
       "</table>\n",
       "<p>10778 rows × 2 columns</p>\n",
       "</div>"
      ],
      "text/plain": [
       "                   Rating                                             Review\n",
       "0      5.0 out of 5 stars                                       Overall nice\n",
       "1      5.0 out of 5 stars  Using it from day one and fully satisfied in a...\n",
       "2      1.0 out of 5 stars  Not working key board and automatic typing one...\n",
       "3      5.0 out of 5 stars  Best Laptop for basic computing on quad core p...\n",
       "4      4.0 out of 5 stars                         Good Option with some cons\n",
       "...                   ...                                                ...\n",
       "10773  4.0 out of 5 stars                   Bad print quality after 4 months\n",
       "10774  5.0 out of 5 stars              Great product at fraction of the cost\n",
       "10775  5.0 out of 5 stars                                excelente Producto!\n",
       "10776  5.0 out of 5 stars                                        Exact fit..\n",
       "10777  5.0 out of 5 stars                                      Amazing Color\n",
       "\n",
       "[10778 rows x 2 columns]"
      ]
     },
     "execution_count": 523,
     "metadata": {},
     "output_type": "execute_result"
    }
   ],
   "source": [
    "amazon = pd.DataFrame()\n",
    "amazon['Rating'] = am_rating\n",
    "amazon['Review'] = am_review\n",
    "amazon"
   ]
  },
  {
   "cell_type": "code",
   "execution_count": 528,
   "metadata": {},
   "outputs": [
    {
     "data": {
      "text/plain": [
       "Rating    object\n",
       "Review    object\n",
       "dtype: object"
      ]
     },
     "execution_count": 528,
     "metadata": {},
     "output_type": "execute_result"
    }
   ],
   "source": [
    "amazon.dtypes"
   ]
  },
  {
   "cell_type": "code",
   "execution_count": 530,
   "metadata": {},
   "outputs": [],
   "source": [
    "amazon.Rating = [j.replace(\" out of 5 stars\",\"\") for j in amazon.Rating]"
   ]
  },
  {
   "cell_type": "code",
   "execution_count": 532,
   "metadata": {},
   "outputs": [],
   "source": [
    "amazon.Rating = amazon.Rating.astype(float)"
   ]
  },
  {
   "cell_type": "code",
   "execution_count": 535,
   "metadata": {},
   "outputs": [
    {
     "data": {
      "text/plain": [
       "0        5.0\n",
       "1        5.0\n",
       "2        1.0\n",
       "3        5.0\n",
       "4        4.0\n",
       "        ... \n",
       "10773    4.0\n",
       "10774    5.0\n",
       "10775    5.0\n",
       "10776    5.0\n",
       "10777    5.0\n",
       "Name: Rating, Length: 10778, dtype: float64"
      ]
     },
     "execution_count": 535,
     "metadata": {},
     "output_type": "execute_result"
    }
   ],
   "source": [
    "amazon.Rating.round(0)"
   ]
  },
  {
   "cell_type": "code",
   "execution_count": 536,
   "metadata": {},
   "outputs": [
    {
     "data": {
      "text/html": [
       "<div>\n",
       "<style scoped>\n",
       "    .dataframe tbody tr th:only-of-type {\n",
       "        vertical-align: middle;\n",
       "    }\n",
       "\n",
       "    .dataframe tbody tr th {\n",
       "        vertical-align: top;\n",
       "    }\n",
       "\n",
       "    .dataframe thead th {\n",
       "        text-align: right;\n",
       "    }\n",
       "</style>\n",
       "<table border=\"1\" class=\"dataframe\">\n",
       "  <thead>\n",
       "    <tr style=\"text-align: right;\">\n",
       "      <th></th>\n",
       "      <th>Rating</th>\n",
       "      <th>Review</th>\n",
       "    </tr>\n",
       "  </thead>\n",
       "  <tbody>\n",
       "    <tr>\n",
       "      <th>0</th>\n",
       "      <td>5.0</td>\n",
       "      <td>Overall nice</td>\n",
       "    </tr>\n",
       "    <tr>\n",
       "      <th>1</th>\n",
       "      <td>5.0</td>\n",
       "      <td>Using it from day one and fully satisfied in a...</td>\n",
       "    </tr>\n",
       "    <tr>\n",
       "      <th>2</th>\n",
       "      <td>1.0</td>\n",
       "      <td>Not working key board and automatic typing one...</td>\n",
       "    </tr>\n",
       "    <tr>\n",
       "      <th>3</th>\n",
       "      <td>5.0</td>\n",
       "      <td>Best Laptop for basic computing on quad core p...</td>\n",
       "    </tr>\n",
       "    <tr>\n",
       "      <th>4</th>\n",
       "      <td>4.0</td>\n",
       "      <td>Good Option with some cons</td>\n",
       "    </tr>\n",
       "    <tr>\n",
       "      <th>...</th>\n",
       "      <td>...</td>\n",
       "      <td>...</td>\n",
       "    </tr>\n",
       "    <tr>\n",
       "      <th>10773</th>\n",
       "      <td>4.0</td>\n",
       "      <td>Bad print quality after 4 months</td>\n",
       "    </tr>\n",
       "    <tr>\n",
       "      <th>10774</th>\n",
       "      <td>5.0</td>\n",
       "      <td>Great product at fraction of the cost</td>\n",
       "    </tr>\n",
       "    <tr>\n",
       "      <th>10775</th>\n",
       "      <td>5.0</td>\n",
       "      <td>excelente Producto!</td>\n",
       "    </tr>\n",
       "    <tr>\n",
       "      <th>10776</th>\n",
       "      <td>5.0</td>\n",
       "      <td>Exact fit..</td>\n",
       "    </tr>\n",
       "    <tr>\n",
       "      <th>10777</th>\n",
       "      <td>5.0</td>\n",
       "      <td>Amazing Color</td>\n",
       "    </tr>\n",
       "  </tbody>\n",
       "</table>\n",
       "<p>10778 rows × 2 columns</p>\n",
       "</div>"
      ],
      "text/plain": [
       "       Rating                                             Review\n",
       "0         5.0                                       Overall nice\n",
       "1         5.0  Using it from day one and fully satisfied in a...\n",
       "2         1.0  Not working key board and automatic typing one...\n",
       "3         5.0  Best Laptop for basic computing on quad core p...\n",
       "4         4.0                         Good Option with some cons\n",
       "...       ...                                                ...\n",
       "10773     4.0                   Bad print quality after 4 months\n",
       "10774     5.0              Great product at fraction of the cost\n",
       "10775     5.0                                excelente Producto!\n",
       "10776     5.0                                        Exact fit..\n",
       "10777     5.0                                      Amazing Color\n",
       "\n",
       "[10778 rows x 2 columns]"
      ]
     },
     "execution_count": 536,
     "metadata": {},
     "output_type": "execute_result"
    }
   ],
   "source": [
    "amazon"
   ]
  },
  {
   "cell_type": "markdown",
   "metadata": {},
   "source": [
    " "
   ]
  },
  {
   "cell_type": "markdown",
   "metadata": {},
   "source": [
    " "
   ]
  },
  {
   "cell_type": "markdown",
   "metadata": {},
   "source": [
    "#### Flipkart : laptop"
   ]
  },
  {
   "cell_type": "code",
   "execution_count": 349,
   "metadata": {},
   "outputs": [],
   "source": [
    "# Flipkart.com laptop url\n",
    "url = 'https://www.flipkart.com/search?q=laptop&otracker=search&otracker1=search&marketplace=FLIPKART&as-show=on&as=off'\n",
    "driver.get(url)"
   ]
  },
  {
   "cell_type": "code",
   "execution_count": 350,
   "metadata": {},
   "outputs": [],
   "source": [
    "url = []"
   ]
  },
  {
   "cell_type": "code",
   "execution_count": 351,
   "metadata": {},
   "outputs": [],
   "source": [
    "#Fetching url to open each description page from page 0 to 14\n",
    "\n",
    "start=0\n",
    "end=15\n",
    "for page in range(start,end):\n",
    "    time.sleep(3)\n",
    "    \n",
    "    #extracting url tags\n",
    "    url_tags= driver.find_elements(By.XPATH, '//a[@class=\"_1fQZEK\"]')\n",
    "    for i in url_tags:\n",
    "        url.append(i.get_attribute('href'))\n",
    "        \n",
    "    time.sleep(4)\n",
    "    if page<2: #For pressing next button\n",
    "        button = driver.find_element(By.XPATH,'//a[@class=\"_1LKTO3\"]')\n",
    "        button.click()\n",
    "\n",
    "    time.sleep(2)"
   ]
  },
  {
   "cell_type": "code",
   "execution_count": 352,
   "metadata": {},
   "outputs": [
    {
     "data": {
      "text/plain": [
       "360"
      ]
     },
     "execution_count": 352,
     "metadata": {},
     "output_type": "execute_result"
    }
   ],
   "source": [
    "len(url)"
   ]
  },
  {
   "cell_type": "code",
   "execution_count": 365,
   "metadata": {},
   "outputs": [],
   "source": [
    "ratingf = []\n",
    "reviewf = []\n",
    "a = -1\n",
    "b = -1\n",
    "c = -1"
   ]
  },
  {
   "cell_type": "code",
   "execution_count": 397,
   "metadata": {},
   "outputs": [],
   "source": [
    "#let's extract all web elements having required parent tags and then extract required elements from them\n",
    "for i in url[21:360]:\n",
    "    driver.get(i)\n",
    "    time.sleep(2)\n",
    "    \n",
    "    #Finding web element for expand review button and clicking button\n",
    "    try:\n",
    "        search_but = driver.find_element(By.XPATH, '//span[@class=\"MCE--B\"]')\n",
    "        search_but.click()\n",
    "    except:\n",
    "        pass\n",
    "    \n",
    "    a = a+1\n",
    "    \n",
    "    #Extracting ratings tags from parent tag\n",
    "    try:\n",
    "        rating_tags = driver.find_elements(By.XPATH, '//div[@class=\"_3LWZlK _1BLPMq\" or @class =\"_3LWZlK _1rdVr6 _1BLPMq\"]')\n",
    "        for i in rating_tags:\n",
    "            ratingf.append(i.text)\n",
    "    except:\n",
    "        ratingf.append(None)\n",
    "\n",
    "    b = b+1\n",
    "    #Extracting review tag from parent tag\n",
    "    try:\n",
    "        review_tags = driver.find_elements(By.XPATH, '//p[@class=\"_2-N8zT\"]')\n",
    "        for i in review_tags:\n",
    "            reviewf.append(i.text)\n",
    "    except:\n",
    "        reviewf.append(None)\n",
    "    c = c+1\n",
    "    time.sleep(1)"
   ]
  },
  {
   "cell_type": "code",
   "execution_count": 405,
   "metadata": {},
   "outputs": [
    {
     "data": {
      "text/plain": [
       "2979"
      ]
     },
     "execution_count": 405,
     "metadata": {},
     "output_type": "execute_result"
    }
   ],
   "source": [
    "len(ratingf)"
   ]
  },
  {
   "cell_type": "code",
   "execution_count": 406,
   "metadata": {},
   "outputs": [
    {
     "data": {
      "text/plain": [
       "2979"
      ]
     },
     "execution_count": 406,
     "metadata": {},
     "output_type": "execute_result"
    }
   ],
   "source": [
    "len(reviewf)"
   ]
  },
  {
   "cell_type": "code",
   "execution_count": 407,
   "metadata": {},
   "outputs": [
    {
     "data": {
      "text/plain": [
       "359"
      ]
     },
     "execution_count": 407,
     "metadata": {},
     "output_type": "execute_result"
    }
   ],
   "source": [
    "a"
   ]
  },
  {
   "cell_type": "code",
   "execution_count": 408,
   "metadata": {},
   "outputs": [
    {
     "data": {
      "text/plain": [
       "359"
      ]
     },
     "execution_count": 408,
     "metadata": {},
     "output_type": "execute_result"
    }
   ],
   "source": [
    "b"
   ]
  },
  {
   "cell_type": "code",
   "execution_count": 409,
   "metadata": {},
   "outputs": [
    {
     "data": {
      "text/plain": [
       "359"
      ]
     },
     "execution_count": 409,
     "metadata": {},
     "output_type": "execute_result"
    }
   ],
   "source": [
    "c"
   ]
  },
  {
   "cell_type": "markdown",
   "metadata": {},
   "source": [
    " "
   ]
  },
  {
   "cell_type": "markdown",
   "metadata": {},
   "source": [
    "#### Flipkart : Phones"
   ]
  },
  {
   "cell_type": "code",
   "execution_count": 410,
   "metadata": {},
   "outputs": [],
   "source": [
    "# Flipkart.com Phones url\n",
    "url = 'https://www.flipkart.com/search?q=phones&otracker=search&otracker1=search&marketplace=FLIPKART&as-show=on&as=off'\n",
    "driver.get(url)"
   ]
  },
  {
   "cell_type": "code",
   "execution_count": 411,
   "metadata": {},
   "outputs": [],
   "source": [
    "url = []"
   ]
  },
  {
   "cell_type": "code",
   "execution_count": 412,
   "metadata": {},
   "outputs": [],
   "source": [
    "#Fetching url to open each description page from page 0 to 14\n",
    "\n",
    "start=0\n",
    "end=15\n",
    "for page in range(start,end):\n",
    "    time.sleep(3)\n",
    "    \n",
    "    #extracting url tags\n",
    "    url_tags= driver.find_elements(By.XPATH, '//a[@class=\"_1fQZEK\"]')\n",
    "    for i in url_tags:\n",
    "        url.append(i.get_attribute('href'))\n",
    "        \n",
    "    time.sleep(4)\n",
    "    if page<2: #For pressing next button\n",
    "        button = driver.find_element(By.XPATH,'//a[@class=\"_1LKTO3\"]')\n",
    "        button.click()\n",
    "\n",
    "    time.sleep(2)"
   ]
  },
  {
   "cell_type": "code",
   "execution_count": 413,
   "metadata": {},
   "outputs": [
    {
     "data": {
      "text/plain": [
       "360"
      ]
     },
     "execution_count": 413,
     "metadata": {},
     "output_type": "execute_result"
    }
   ],
   "source": [
    "len(url)"
   ]
  },
  {
   "cell_type": "code",
   "execution_count": 414,
   "metadata": {},
   "outputs": [],
   "source": [
    "ratingf1 = []\n",
    "reviewf1 = []\n",
    "a = -1\n",
    "b = -1\n",
    "c = -1"
   ]
  },
  {
   "cell_type": "code",
   "execution_count": 415,
   "metadata": {},
   "outputs": [],
   "source": [
    "#let's extract all web elements having required parent tags and then extract required elements from them\n",
    "for i in url[0:360]:\n",
    "    driver.get(i)\n",
    "    time.sleep(2)\n",
    "    \n",
    "    #Finding web element for expand review button and clicking button\n",
    "    try:\n",
    "        search_but = driver.find_element(By.XPATH, '//span[@class=\"MCE--B\"]')\n",
    "        search_but.click()\n",
    "    except:\n",
    "        pass\n",
    "    \n",
    "    a = a+1\n",
    "    \n",
    "    #Extracting ratings tags from parent tag\n",
    "    try:\n",
    "        rating_tags = driver.find_elements(By.XPATH, '//div[@class=\"_3LWZlK _1BLPMq\" or @class =\"_3LWZlK _1rdVr6 _1BLPMq\"]')\n",
    "        for i in rating_tags:\n",
    "            ratingf1.append(i.text)\n",
    "    except:\n",
    "        ratingf1.append(None)\n",
    "\n",
    "    b = b+1\n",
    "    #Extracting review tag from parent tag\n",
    "    try:\n",
    "        review_tags = driver.find_elements(By.XPATH, '//p[@class=\"_2-N8zT\"]')\n",
    "        for i in review_tags:\n",
    "            reviewf1.append(i.text)\n",
    "    except:\n",
    "        reviewf1.append(None)\n",
    "    c = c+1\n",
    "    time.sleep(1)"
   ]
  },
  {
   "cell_type": "code",
   "execution_count": 423,
   "metadata": {},
   "outputs": [
    {
     "data": {
      "text/plain": [
       "3534"
      ]
     },
     "execution_count": 423,
     "metadata": {},
     "output_type": "execute_result"
    }
   ],
   "source": [
    "len(ratingf1)"
   ]
  },
  {
   "cell_type": "code",
   "execution_count": 424,
   "metadata": {},
   "outputs": [
    {
     "data": {
      "text/plain": [
       "3534"
      ]
     },
     "execution_count": 424,
     "metadata": {},
     "output_type": "execute_result"
    }
   ],
   "source": [
    "len(reviewf1)"
   ]
  },
  {
   "cell_type": "code",
   "execution_count": 425,
   "metadata": {},
   "outputs": [
    {
     "data": {
      "text/plain": [
       "359"
      ]
     },
     "execution_count": 425,
     "metadata": {},
     "output_type": "execute_result"
    }
   ],
   "source": [
    "a"
   ]
  },
  {
   "cell_type": "code",
   "execution_count": 426,
   "metadata": {},
   "outputs": [
    {
     "data": {
      "text/plain": [
       "359"
      ]
     },
     "execution_count": 426,
     "metadata": {},
     "output_type": "execute_result"
    }
   ],
   "source": [
    "b"
   ]
  },
  {
   "cell_type": "code",
   "execution_count": 427,
   "metadata": {},
   "outputs": [
    {
     "data": {
      "text/plain": [
       "359"
      ]
     },
     "execution_count": 427,
     "metadata": {},
     "output_type": "execute_result"
    }
   ],
   "source": [
    "c"
   ]
  },
  {
   "cell_type": "markdown",
   "metadata": {},
   "source": [
    " "
   ]
  },
  {
   "cell_type": "markdown",
   "metadata": {},
   "source": [
    "#### Flipkart : Headphones"
   ]
  },
  {
   "cell_type": "code",
   "execution_count": 428,
   "metadata": {},
   "outputs": [],
   "source": [
    "# Flipkart.com Headphones url\n",
    "url = 'https://www.flipkart.com/search?q=Headphones&otracker=search&otracker1=search&marketplace=FLIPKART&as-show=on&as=off'\n",
    "driver.get(url)"
   ]
  },
  {
   "cell_type": "code",
   "execution_count": 435,
   "metadata": {},
   "outputs": [],
   "source": [
    "url = []"
   ]
  },
  {
   "cell_type": "code",
   "execution_count": 436,
   "metadata": {},
   "outputs": [],
   "source": [
    "#Fetching url to open each description page from page 0 to 14\n",
    "\n",
    "start=0\n",
    "end=15\n",
    "for page in range(start,end):\n",
    "    time.sleep(3)\n",
    "    \n",
    "    #extracting url tags\n",
    "    url_tags= driver.find_elements(By.XPATH, '//a[@class=\"_2rpwqI\"]')\n",
    "    for i in url_tags:\n",
    "        url.append(i.get_attribute('href'))\n",
    "        \n",
    "    time.sleep(4)\n",
    "    if page<2: #For pressing next button\n",
    "        button = driver.find_element(By.XPATH,'//a[@class=\"_1LKTO3\"]')\n",
    "        button.click()\n",
    "\n",
    "    time.sleep(2)"
   ]
  },
  {
   "cell_type": "code",
   "execution_count": 437,
   "metadata": {},
   "outputs": [
    {
     "data": {
      "text/plain": [
       "600"
      ]
     },
     "execution_count": 437,
     "metadata": {},
     "output_type": "execute_result"
    }
   ],
   "source": [
    "len(url)"
   ]
  },
  {
   "cell_type": "code",
   "execution_count": 458,
   "metadata": {},
   "outputs": [],
   "source": [
    "ratingf2 = []\n",
    "reviewf2 = []\n",
    "a = -1\n",
    "b = -1\n",
    "c = -1"
   ]
  },
  {
   "cell_type": "code",
   "execution_count": 459,
   "metadata": {},
   "outputs": [],
   "source": [
    "#let's extract all web elements having required parent tags and then extract required elements from them\n",
    "for i in url[0:360]:\n",
    "    driver.get(i)\n",
    "    time.sleep(2)\n",
    "    driver.execute_script(\"window.stop();\")\n",
    "    \n",
    "    #Finding web element for expand review button and clicking button\n",
    "    try:\n",
    "        search_but = driver.find_element(By.XPATH, '//span[@class=\"MCE--B\"]')\n",
    "        search_but.click()\n",
    "    except:\n",
    "        pass\n",
    "    \n",
    "    a = a+1\n",
    "    \n",
    "    #Extracting ratings tags from parent tag\n",
    "    try:\n",
    "        rating_tags = driver.find_elements(By.XPATH, '//div[@class=\"_3LWZlK _1BLPMq\" or @class =\"_3LWZlK _1rdVr6 _1BLPMq\"]')\n",
    "        for i in rating_tags:\n",
    "            ratingf2.append(i.text)\n",
    "    except:\n",
    "        ratingf2.append(None)\n",
    "\n",
    "    b = b+1\n",
    "    #Extracting review tag from parent tag\n",
    "    try:\n",
    "        review_tags = driver.find_elements(By.XPATH, '//p[@class=\"_2-N8zT\"]')\n",
    "        for i in review_tags:\n",
    "            reviewf2.append(i.text)\n",
    "    except:\n",
    "        reviewf2.append(None)\n",
    "    c = c+1\n",
    "    time.sleep(1)"
   ]
  },
  {
   "cell_type": "code",
   "execution_count": 477,
   "metadata": {},
   "outputs": [
    {
     "data": {
      "text/plain": [
       "3396"
      ]
     },
     "execution_count": 477,
     "metadata": {},
     "output_type": "execute_result"
    }
   ],
   "source": [
    "len(ratingf2)"
   ]
  },
  {
   "cell_type": "code",
   "execution_count": 478,
   "metadata": {},
   "outputs": [
    {
     "data": {
      "text/plain": [
       "3396"
      ]
     },
     "execution_count": 478,
     "metadata": {},
     "output_type": "execute_result"
    }
   ],
   "source": [
    "len(reviewf2)"
   ]
  },
  {
   "cell_type": "code",
   "execution_count": 462,
   "metadata": {},
   "outputs": [
    {
     "data": {
      "text/plain": [
       "359"
      ]
     },
     "execution_count": 462,
     "metadata": {},
     "output_type": "execute_result"
    }
   ],
   "source": [
    "a"
   ]
  },
  {
   "cell_type": "code",
   "execution_count": 463,
   "metadata": {},
   "outputs": [
    {
     "data": {
      "text/plain": [
       "359"
      ]
     },
     "execution_count": 463,
     "metadata": {},
     "output_type": "execute_result"
    }
   ],
   "source": [
    "b"
   ]
  },
  {
   "cell_type": "code",
   "execution_count": 464,
   "metadata": {},
   "outputs": [
    {
     "data": {
      "text/plain": [
       "359"
      ]
     },
     "execution_count": 464,
     "metadata": {},
     "output_type": "execute_result"
    }
   ],
   "source": [
    "c"
   ]
  },
  {
   "cell_type": "markdown",
   "metadata": {},
   "source": [
    " "
   ]
  },
  {
   "cell_type": "markdown",
   "metadata": {},
   "source": [
    "#### Flipkart : smartwatches"
   ]
  },
  {
   "cell_type": "code",
   "execution_count": 465,
   "metadata": {},
   "outputs": [],
   "source": [
    "# Flipkart.com smartwatches url\n",
    "url = 'https://www.flipkart.com/search?q=smartwatches&otracker=search&otracker1=search&marketplace=FLIPKART&as-show=on&as=off'\n",
    "driver.get(url)"
   ]
  },
  {
   "cell_type": "code",
   "execution_count": 466,
   "metadata": {},
   "outputs": [],
   "source": [
    "url = []"
   ]
  },
  {
   "cell_type": "code",
   "execution_count": 467,
   "metadata": {},
   "outputs": [],
   "source": [
    "#Fetching url to open each description page from page 0 to 14\n",
    "\n",
    "start=0\n",
    "end=15\n",
    "for page in range(start,end):\n",
    "    time.sleep(3)\n",
    "    \n",
    "    #extracting url tags\n",
    "    url_tags= driver.find_elements(By.XPATH, '//a[@class=\"_1fQZEK\"]')\n",
    "    for i in url_tags:\n",
    "        url.append(i.get_attribute('href'))\n",
    "        \n",
    "    time.sleep(4)\n",
    "    if page<2: #For pressing next button\n",
    "        button = driver.find_element(By.XPATH,'//a[@class=\"_1LKTO3\"]')\n",
    "        button.click()\n",
    "\n",
    "    time.sleep(2)"
   ]
  },
  {
   "cell_type": "code",
   "execution_count": 468,
   "metadata": {},
   "outputs": [
    {
     "data": {
      "text/plain": [
       "360"
      ]
     },
     "execution_count": 468,
     "metadata": {},
     "output_type": "execute_result"
    }
   ],
   "source": [
    "len(url)"
   ]
  },
  {
   "cell_type": "code",
   "execution_count": 469,
   "metadata": {},
   "outputs": [],
   "source": [
    "ratingf3 = []\n",
    "reviewf3 = []\n",
    "a = -1\n",
    "b = -1\n",
    "c = -1"
   ]
  },
  {
   "cell_type": "code",
   "execution_count": 470,
   "metadata": {},
   "outputs": [],
   "source": [
    "#let's extract all web elements having required parent tags and then extract required elements from them\n",
    "for i in url[0:360]:\n",
    "    driver.get(i)\n",
    "    time.sleep(2)\n",
    "    driver.execute_script(\"window.stop();\")\n",
    "    \n",
    "    #Finding web element for expand review button and clicking button\n",
    "    try:\n",
    "        search_but = driver.find_element(By.XPATH, '//span[@class=\"MCE--B\"]')\n",
    "        search_but.click()\n",
    "    except:\n",
    "        pass\n",
    "    \n",
    "    a = a+1\n",
    "    \n",
    "    #Extracting ratings tags from parent tag\n",
    "    try:\n",
    "        rating_tags = driver.find_elements(By.XPATH, '//div[@class=\"_3LWZlK _1BLPMq\" or @class =\"_3LWZlK _1rdVr6 _1BLPMq\"]')\n",
    "        for i in rating_tags:\n",
    "            ratingf3.append(i.text)\n",
    "    except:\n",
    "        ratingf3.append(None)\n",
    "\n",
    "    b = b+1\n",
    "    #Extracting review tag from parent tag\n",
    "    try:\n",
    "        review_tags = driver.find_elements(By.XPATH, '//p[@class=\"_2-N8zT\"]')\n",
    "        for i in review_tags:\n",
    "            reviewf3.append(i.text)\n",
    "    except:\n",
    "        reviewf3.append(None)\n",
    "    c = c+1\n",
    "    time.sleep(1)"
   ]
  },
  {
   "cell_type": "code",
   "execution_count": 480,
   "metadata": {},
   "outputs": [
    {
     "data": {
      "text/plain": [
       "3550"
      ]
     },
     "execution_count": 480,
     "metadata": {},
     "output_type": "execute_result"
    }
   ],
   "source": [
    "len(ratingf3)"
   ]
  },
  {
   "cell_type": "code",
   "execution_count": 481,
   "metadata": {},
   "outputs": [
    {
     "data": {
      "text/plain": [
       "3550"
      ]
     },
     "execution_count": 481,
     "metadata": {},
     "output_type": "execute_result"
    }
   ],
   "source": [
    "len(reviewf3)"
   ]
  },
  {
   "cell_type": "code",
   "execution_count": 473,
   "metadata": {},
   "outputs": [
    {
     "data": {
      "text/plain": [
       "359"
      ]
     },
     "execution_count": 473,
     "metadata": {},
     "output_type": "execute_result"
    }
   ],
   "source": [
    "a"
   ]
  },
  {
   "cell_type": "code",
   "execution_count": 474,
   "metadata": {},
   "outputs": [
    {
     "data": {
      "text/plain": [
       "359"
      ]
     },
     "execution_count": 474,
     "metadata": {},
     "output_type": "execute_result"
    }
   ],
   "source": [
    "b"
   ]
  },
  {
   "cell_type": "code",
   "execution_count": 475,
   "metadata": {},
   "outputs": [
    {
     "data": {
      "text/plain": [
       "359"
      ]
     },
     "execution_count": 475,
     "metadata": {},
     "output_type": "execute_result"
    }
   ],
   "source": [
    "c"
   ]
  },
  {
   "cell_type": "markdown",
   "metadata": {},
   "source": [
    "  "
   ]
  },
  {
   "cell_type": "markdown",
   "metadata": {},
   "source": [
    "#### Flipkart : Printers"
   ]
  },
  {
   "cell_type": "code",
   "execution_count": 482,
   "metadata": {},
   "outputs": [],
   "source": [
    "# Flipkart.com printers url\n",
    "url = 'https://www.flipkart.com/search?q=printers&otracker=search&otracker1=search&marketplace=FLIPKART&as-show=on&as=off'\n",
    "driver.get(url)"
   ]
  },
  {
   "cell_type": "code",
   "execution_count": 488,
   "metadata": {},
   "outputs": [],
   "source": [
    "url = []"
   ]
  },
  {
   "cell_type": "code",
   "execution_count": 490,
   "metadata": {},
   "outputs": [],
   "source": [
    "#Fetching url to open each description page from page 0 to 14\n",
    "\n",
    "start=0\n",
    "end=15\n",
    "for page in range(start,end):\n",
    "    time.sleep(3)\n",
    "    \n",
    "    #extracting url tags\n",
    "    url_tags= driver.find_elements(By.XPATH, '//a[@class=\"s1Q9rs\"]')\n",
    "    for i in url_tags:\n",
    "        url.append(i.get_attribute('href'))\n",
    "        \n",
    "    time.sleep(4)\n",
    "    if page<2: #For pressing next button\n",
    "        button = driver.find_element(By.XPATH,'//a[@class=\"_1LKTO3\"]')\n",
    "        button.click()\n",
    "\n",
    "    time.sleep(2)"
   ]
  },
  {
   "cell_type": "code",
   "execution_count": 491,
   "metadata": {},
   "outputs": [
    {
     "data": {
      "text/plain": [
       "600"
      ]
     },
     "execution_count": 491,
     "metadata": {},
     "output_type": "execute_result"
    }
   ],
   "source": [
    "len(url)"
   ]
  },
  {
   "cell_type": "code",
   "execution_count": 492,
   "metadata": {},
   "outputs": [],
   "source": [
    "ratingf4 = []\n",
    "reviewf4 = []\n",
    "a = -1\n",
    "b = -1\n",
    "c = -1"
   ]
  },
  {
   "cell_type": "code",
   "execution_count": 493,
   "metadata": {},
   "outputs": [],
   "source": [
    "#let's extract all web elements having required parent tags and then extract required elements from them\n",
    "for i in url[0:360]:\n",
    "    driver.get(i)\n",
    "    time.sleep(2)\n",
    "    driver.execute_script(\"window.stop();\")\n",
    "    \n",
    "    #Finding web element for expand review button and clicking button\n",
    "    try:\n",
    "        search_but = driver.find_element(By.XPATH, '//span[@class=\"MCE--B\"]')\n",
    "        search_but.click()\n",
    "    except:\n",
    "        pass\n",
    "    \n",
    "    a = a+1\n",
    "    \n",
    "    #Extracting ratings tags from parent tag\n",
    "    try:\n",
    "        rating_tags = driver.find_elements(By.XPATH, '//div[@class=\"_3LWZlK _1BLPMq\" or @class =\"_3LWZlK _1rdVr6 _1BLPMq\"]')\n",
    "        for i in rating_tags:\n",
    "            ratingf4.append(i.text)\n",
    "    except:\n",
    "        ratingf4.append(None)\n",
    "\n",
    "    b = b+1\n",
    "    #Extracting review tag from parent tag\n",
    "    try:\n",
    "        review_tags = driver.find_elements(By.XPATH, '//p[@class=\"_2-N8zT\"]')\n",
    "        for i in review_tags:\n",
    "            reviewf4.append(i.text)\n",
    "    except:\n",
    "        reviewf4.append(None)\n",
    "    c = c+1\n",
    "    time.sleep(1)"
   ]
  },
  {
   "cell_type": "code",
   "execution_count": 515,
   "metadata": {},
   "outputs": [
    {
     "data": {
      "text/plain": [
       "2969"
      ]
     },
     "execution_count": 515,
     "metadata": {},
     "output_type": "execute_result"
    }
   ],
   "source": [
    "len(ratingf4)"
   ]
  },
  {
   "cell_type": "code",
   "execution_count": 518,
   "metadata": {},
   "outputs": [
    {
     "data": {
      "text/plain": [
       "2969"
      ]
     },
     "execution_count": 518,
     "metadata": {},
     "output_type": "execute_result"
    }
   ],
   "source": [
    "len(reviewf4)"
   ]
  },
  {
   "cell_type": "code",
   "execution_count": 510,
   "metadata": {},
   "outputs": [
    {
     "data": {
      "text/plain": [
       "359"
      ]
     },
     "execution_count": 510,
     "metadata": {},
     "output_type": "execute_result"
    }
   ],
   "source": [
    "a"
   ]
  },
  {
   "cell_type": "code",
   "execution_count": 511,
   "metadata": {},
   "outputs": [
    {
     "data": {
      "text/plain": [
       "359"
      ]
     },
     "execution_count": 511,
     "metadata": {},
     "output_type": "execute_result"
    }
   ],
   "source": [
    "b"
   ]
  },
  {
   "cell_type": "code",
   "execution_count": 512,
   "metadata": {},
   "outputs": [
    {
     "data": {
      "text/plain": [
       "359"
      ]
     },
     "execution_count": 512,
     "metadata": {},
     "output_type": "execute_result"
    }
   ],
   "source": [
    "c"
   ]
  },
  {
   "cell_type": "markdown",
   "metadata": {},
   "source": [
    " "
   ]
  },
  {
   "cell_type": "markdown",
   "metadata": {},
   "source": [
    "### Creating dataframe for Flipkart products"
   ]
  },
  {
   "cell_type": "code",
   "execution_count": 537,
   "metadata": {},
   "outputs": [],
   "source": [
    "fl_rating = []\n",
    "fl_review = []"
   ]
  },
  {
   "cell_type": "code",
   "execution_count": 538,
   "metadata": {},
   "outputs": [
    {
     "data": {
      "text/plain": [
       "[None, None, None, None, None]"
      ]
     },
     "execution_count": 538,
     "metadata": {},
     "output_type": "execute_result"
    }
   ],
   "source": [
    "[fl_rating.extend(l) for l in (ratingf,ratingf1,ratingf2,ratingf3,ratingf4)]\n",
    "[fl_review.extend(l) for l in (reviewf,reviewf1,reviewf2,reviewf3,reviewf4)]"
   ]
  },
  {
   "cell_type": "code",
   "execution_count": 539,
   "metadata": {},
   "outputs": [
    {
     "data": {
      "text/html": [
       "<div>\n",
       "<style scoped>\n",
       "    .dataframe tbody tr th:only-of-type {\n",
       "        vertical-align: middle;\n",
       "    }\n",
       "\n",
       "    .dataframe tbody tr th {\n",
       "        vertical-align: top;\n",
       "    }\n",
       "\n",
       "    .dataframe thead th {\n",
       "        text-align: right;\n",
       "    }\n",
       "</style>\n",
       "<table border=\"1\" class=\"dataframe\">\n",
       "  <thead>\n",
       "    <tr style=\"text-align: right;\">\n",
       "      <th></th>\n",
       "      <th>Rating</th>\n",
       "      <th>Review</th>\n",
       "    </tr>\n",
       "  </thead>\n",
       "  <tbody>\n",
       "    <tr>\n",
       "      <th>0</th>\n",
       "      <td>1</td>\n",
       "      <td>Horrible</td>\n",
       "    </tr>\n",
       "    <tr>\n",
       "      <th>1</th>\n",
       "      <td>5</td>\n",
       "      <td>Just wow!</td>\n",
       "    </tr>\n",
       "    <tr>\n",
       "      <th>2</th>\n",
       "      <td>5</td>\n",
       "      <td>Fabulous!</td>\n",
       "    </tr>\n",
       "    <tr>\n",
       "      <th>3</th>\n",
       "      <td>1</td>\n",
       "      <td>Worthless</td>\n",
       "    </tr>\n",
       "    <tr>\n",
       "      <th>4</th>\n",
       "      <td>3</td>\n",
       "      <td>Just okay</td>\n",
       "    </tr>\n",
       "    <tr>\n",
       "      <th>...</th>\n",
       "      <td>...</td>\n",
       "      <td>...</td>\n",
       "    </tr>\n",
       "    <tr>\n",
       "      <th>16423</th>\n",
       "      <td>4</td>\n",
       "      <td>Nice product</td>\n",
       "    </tr>\n",
       "    <tr>\n",
       "      <th>16424</th>\n",
       "      <td>5</td>\n",
       "      <td>Worth every penny</td>\n",
       "    </tr>\n",
       "    <tr>\n",
       "      <th>16425</th>\n",
       "      <td>5</td>\n",
       "      <td>Brilliant</td>\n",
       "    </tr>\n",
       "    <tr>\n",
       "      <th>16426</th>\n",
       "      <td>3</td>\n",
       "      <td>Terrific</td>\n",
       "    </tr>\n",
       "    <tr>\n",
       "      <th>16427</th>\n",
       "      <td>3</td>\n",
       "      <td>Good choice</td>\n",
       "    </tr>\n",
       "  </tbody>\n",
       "</table>\n",
       "<p>16428 rows × 2 columns</p>\n",
       "</div>"
      ],
      "text/plain": [
       "      Rating             Review\n",
       "0          1           Horrible\n",
       "1          5          Just wow!\n",
       "2          5          Fabulous!\n",
       "3          1          Worthless\n",
       "4          3          Just okay\n",
       "...      ...                ...\n",
       "16423      4       Nice product\n",
       "16424      5  Worth every penny\n",
       "16425      5          Brilliant\n",
       "16426      3           Terrific\n",
       "16427      3        Good choice\n",
       "\n",
       "[16428 rows x 2 columns]"
      ]
     },
     "execution_count": 539,
     "metadata": {},
     "output_type": "execute_result"
    }
   ],
   "source": [
    "flipkart = pd.DataFrame()\n",
    "flipkart['Rating'] = fl_rating\n",
    "flipkart['Review'] = fl_review\n",
    "flipkart"
   ]
  },
  {
   "cell_type": "code",
   "execution_count": 540,
   "metadata": {},
   "outputs": [
    {
     "data": {
      "text/plain": [
       "Rating    object\n",
       "Review    object\n",
       "dtype: object"
      ]
     },
     "execution_count": 540,
     "metadata": {},
     "output_type": "execute_result"
    }
   ],
   "source": [
    "flipkart.dtypes"
   ]
  },
  {
   "cell_type": "code",
   "execution_count": 541,
   "metadata": {},
   "outputs": [],
   "source": [
    "flipkart.Rating = flipkart.Rating.astype(float)"
   ]
  },
  {
   "cell_type": "code",
   "execution_count": 543,
   "metadata": {},
   "outputs": [
    {
     "data": {
      "text/plain": [
       "0        1.0\n",
       "1        5.0\n",
       "2        5.0\n",
       "3        1.0\n",
       "4        3.0\n",
       "        ... \n",
       "16423    4.0\n",
       "16424    5.0\n",
       "16425    5.0\n",
       "16426    3.0\n",
       "16427    3.0\n",
       "Name: Rating, Length: 16428, dtype: float64"
      ]
     },
     "execution_count": 543,
     "metadata": {},
     "output_type": "execute_result"
    }
   ],
   "source": [
    "flipkart.Rating.round(0)"
   ]
  },
  {
   "cell_type": "code",
   "execution_count": 544,
   "metadata": {},
   "outputs": [
    {
     "data": {
      "text/html": [
       "<div>\n",
       "<style scoped>\n",
       "    .dataframe tbody tr th:only-of-type {\n",
       "        vertical-align: middle;\n",
       "    }\n",
       "\n",
       "    .dataframe tbody tr th {\n",
       "        vertical-align: top;\n",
       "    }\n",
       "\n",
       "    .dataframe thead th {\n",
       "        text-align: right;\n",
       "    }\n",
       "</style>\n",
       "<table border=\"1\" class=\"dataframe\">\n",
       "  <thead>\n",
       "    <tr style=\"text-align: right;\">\n",
       "      <th></th>\n",
       "      <th>Rating</th>\n",
       "      <th>Review</th>\n",
       "    </tr>\n",
       "  </thead>\n",
       "  <tbody>\n",
       "    <tr>\n",
       "      <th>0</th>\n",
       "      <td>1.0</td>\n",
       "      <td>Horrible</td>\n",
       "    </tr>\n",
       "    <tr>\n",
       "      <th>1</th>\n",
       "      <td>5.0</td>\n",
       "      <td>Just wow!</td>\n",
       "    </tr>\n",
       "    <tr>\n",
       "      <th>2</th>\n",
       "      <td>5.0</td>\n",
       "      <td>Fabulous!</td>\n",
       "    </tr>\n",
       "    <tr>\n",
       "      <th>3</th>\n",
       "      <td>1.0</td>\n",
       "      <td>Worthless</td>\n",
       "    </tr>\n",
       "    <tr>\n",
       "      <th>4</th>\n",
       "      <td>3.0</td>\n",
       "      <td>Just okay</td>\n",
       "    </tr>\n",
       "    <tr>\n",
       "      <th>...</th>\n",
       "      <td>...</td>\n",
       "      <td>...</td>\n",
       "    </tr>\n",
       "    <tr>\n",
       "      <th>16423</th>\n",
       "      <td>4.0</td>\n",
       "      <td>Nice product</td>\n",
       "    </tr>\n",
       "    <tr>\n",
       "      <th>16424</th>\n",
       "      <td>5.0</td>\n",
       "      <td>Worth every penny</td>\n",
       "    </tr>\n",
       "    <tr>\n",
       "      <th>16425</th>\n",
       "      <td>5.0</td>\n",
       "      <td>Brilliant</td>\n",
       "    </tr>\n",
       "    <tr>\n",
       "      <th>16426</th>\n",
       "      <td>3.0</td>\n",
       "      <td>Terrific</td>\n",
       "    </tr>\n",
       "    <tr>\n",
       "      <th>16427</th>\n",
       "      <td>3.0</td>\n",
       "      <td>Good choice</td>\n",
       "    </tr>\n",
       "  </tbody>\n",
       "</table>\n",
       "<p>16428 rows × 2 columns</p>\n",
       "</div>"
      ],
      "text/plain": [
       "       Rating             Review\n",
       "0         1.0           Horrible\n",
       "1         5.0          Just wow!\n",
       "2         5.0          Fabulous!\n",
       "3         1.0          Worthless\n",
       "4         3.0          Just okay\n",
       "...       ...                ...\n",
       "16423     4.0       Nice product\n",
       "16424     5.0  Worth every penny\n",
       "16425     5.0          Brilliant\n",
       "16426     3.0           Terrific\n",
       "16427     3.0        Good choice\n",
       "\n",
       "[16428 rows x 2 columns]"
      ]
     },
     "execution_count": 544,
     "metadata": {},
     "output_type": "execute_result"
    }
   ],
   "source": [
    "flipkart"
   ]
  },
  {
   "cell_type": "markdown",
   "metadata": {},
   "source": [
    " "
   ]
  },
  {
   "cell_type": "markdown",
   "metadata": {},
   "source": [
    "### Combining dataframes for amazon and flipkart"
   ]
  },
  {
   "cell_type": "code",
   "execution_count": 558,
   "metadata": {},
   "outputs": [],
   "source": [
    "df = pd.concat([amazon, flipkart], axis=0, ignore_index=True)"
   ]
  },
  {
   "cell_type": "code",
   "execution_count": 559,
   "metadata": {},
   "outputs": [
    {
     "data": {
      "text/html": [
       "<div>\n",
       "<style scoped>\n",
       "    .dataframe tbody tr th:only-of-type {\n",
       "        vertical-align: middle;\n",
       "    }\n",
       "\n",
       "    .dataframe tbody tr th {\n",
       "        vertical-align: top;\n",
       "    }\n",
       "\n",
       "    .dataframe thead th {\n",
       "        text-align: right;\n",
       "    }\n",
       "</style>\n",
       "<table border=\"1\" class=\"dataframe\">\n",
       "  <thead>\n",
       "    <tr style=\"text-align: right;\">\n",
       "      <th></th>\n",
       "      <th>Rating</th>\n",
       "      <th>Review</th>\n",
       "    </tr>\n",
       "  </thead>\n",
       "  <tbody>\n",
       "    <tr>\n",
       "      <th>0</th>\n",
       "      <td>5.0</td>\n",
       "      <td>Overall nice</td>\n",
       "    </tr>\n",
       "    <tr>\n",
       "      <th>1</th>\n",
       "      <td>5.0</td>\n",
       "      <td>Using it from day one and fully satisfied in a...</td>\n",
       "    </tr>\n",
       "    <tr>\n",
       "      <th>2</th>\n",
       "      <td>1.0</td>\n",
       "      <td>Not working key board and automatic typing one...</td>\n",
       "    </tr>\n",
       "    <tr>\n",
       "      <th>3</th>\n",
       "      <td>5.0</td>\n",
       "      <td>Best Laptop for basic computing on quad core p...</td>\n",
       "    </tr>\n",
       "    <tr>\n",
       "      <th>4</th>\n",
       "      <td>4.0</td>\n",
       "      <td>Good Option with some cons</td>\n",
       "    </tr>\n",
       "    <tr>\n",
       "      <th>...</th>\n",
       "      <td>...</td>\n",
       "      <td>...</td>\n",
       "    </tr>\n",
       "    <tr>\n",
       "      <th>27201</th>\n",
       "      <td>4.0</td>\n",
       "      <td>Nice product</td>\n",
       "    </tr>\n",
       "    <tr>\n",
       "      <th>27202</th>\n",
       "      <td>5.0</td>\n",
       "      <td>Worth every penny</td>\n",
       "    </tr>\n",
       "    <tr>\n",
       "      <th>27203</th>\n",
       "      <td>5.0</td>\n",
       "      <td>Brilliant</td>\n",
       "    </tr>\n",
       "    <tr>\n",
       "      <th>27204</th>\n",
       "      <td>3.0</td>\n",
       "      <td>Terrific</td>\n",
       "    </tr>\n",
       "    <tr>\n",
       "      <th>27205</th>\n",
       "      <td>3.0</td>\n",
       "      <td>Good choice</td>\n",
       "    </tr>\n",
       "  </tbody>\n",
       "</table>\n",
       "<p>27206 rows × 2 columns</p>\n",
       "</div>"
      ],
      "text/plain": [
       "       Rating                                             Review\n",
       "0         5.0                                       Overall nice\n",
       "1         5.0  Using it from day one and fully satisfied in a...\n",
       "2         1.0  Not working key board and automatic typing one...\n",
       "3         5.0  Best Laptop for basic computing on quad core p...\n",
       "4         4.0                         Good Option with some cons\n",
       "...       ...                                                ...\n",
       "27201     4.0                                       Nice product\n",
       "27202     5.0                                  Worth every penny\n",
       "27203     5.0                                          Brilliant\n",
       "27204     3.0                                           Terrific\n",
       "27205     3.0                                        Good choice\n",
       "\n",
       "[27206 rows x 2 columns]"
      ]
     },
     "execution_count": 559,
     "metadata": {},
     "output_type": "execute_result"
    }
   ],
   "source": [
    "df"
   ]
  },
  {
   "cell_type": "code",
   "execution_count": 560,
   "metadata": {},
   "outputs": [],
   "source": [
    "# saving the excel\n",
    "df.to_excel('Ratings_prediction_data.xlsx')"
   ]
  },
  {
   "cell_type": "code",
   "execution_count": 561,
   "metadata": {},
   "outputs": [],
   "source": [
    "driver.close()"
   ]
  },
  {
   "cell_type": "markdown",
   "metadata": {},
   "source": [
    " "
   ]
  }
 ],
 "metadata": {
  "colab": {
   "collapsed_sections": [],
   "name": "Web_Scraping_Assigment-2 .ipynb",
   "provenance": []
  },
  "kernelspec": {
   "display_name": "Python 3 (ipykernel)",
   "language": "python",
   "name": "python3"
  },
  "language_info": {
   "codemirror_mode": {
    "name": "ipython",
    "version": 3
   },
   "file_extension": ".py",
   "mimetype": "text/x-python",
   "name": "python",
   "nbconvert_exporter": "python",
   "pygments_lexer": "ipython3",
   "version": "3.7.11"
  }
 },
 "nbformat": 4,
 "nbformat_minor": 1
}
