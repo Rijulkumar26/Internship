{
 "cells": [
  {
   "cell_type": "code",
   "execution_count": 1,
   "id": "80e038c9",
   "metadata": {},
   "outputs": [],
   "source": [
    "import numpy as np\n",
    "import pandas as pd\n",
    "import seaborn as sns\n",
    "import matplotlib.pyplot as plt\n",
    "\n",
    "import warnings\n",
    "warnings.filterwarnings('ignore')"
   ]
  },
  {
   "cell_type": "markdown",
   "id": "6cfbc96c",
   "metadata": {},
   "source": [
    "## EDA:"
   ]
  },
  {
   "cell_type": "code",
   "execution_count": 68,
   "id": "d584d91d",
   "metadata": {},
   "outputs": [],
   "source": [
    "df = pd.read_excel('car_price_data.xlsx',index_col=0)"
   ]
  },
  {
   "cell_type": "code",
   "execution_count": 69,
   "id": "0001bcb5",
   "metadata": {},
   "outputs": [
    {
     "data": {
      "text/html": [
       "<div>\n",
       "<style scoped>\n",
       "    .dataframe tbody tr th:only-of-type {\n",
       "        vertical-align: middle;\n",
       "    }\n",
       "\n",
       "    .dataframe tbody tr th {\n",
       "        vertical-align: top;\n",
       "    }\n",
       "\n",
       "    .dataframe thead th {\n",
       "        text-align: right;\n",
       "    }\n",
       "</style>\n",
       "<table border=\"1\" class=\"dataframe\">\n",
       "  <thead>\n",
       "    <tr style=\"text-align: right;\">\n",
       "      <th></th>\n",
       "      <th>Brand</th>\n",
       "      <th>Model</th>\n",
       "      <th>Variant</th>\n",
       "      <th>Manufacturing Year</th>\n",
       "      <th>Driven kilometers</th>\n",
       "      <th>Fuel Type</th>\n",
       "      <th>Number of owners</th>\n",
       "      <th>Location</th>\n",
       "      <th>Price (in ₹)</th>\n",
       "    </tr>\n",
       "  </thead>\n",
       "  <tbody>\n",
       "    <tr>\n",
       "      <th>0</th>\n",
       "      <td>Hyundai</td>\n",
       "      <td>Verna</td>\n",
       "      <td>1.6 VTVT SX</td>\n",
       "      <td>2017.0</td>\n",
       "      <td>64,685 KMs</td>\n",
       "      <td>Petrol</td>\n",
       "      <td>First</td>\n",
       "      <td>Faridabad</td>\n",
       "      <td>8,25,000</td>\n",
       "    </tr>\n",
       "    <tr>\n",
       "      <th>1</th>\n",
       "      <td>Hyundai</td>\n",
       "      <td>i10</td>\n",
       "      <td>Sportz 1.2 AT</td>\n",
       "      <td>2010.0</td>\n",
       "      <td>38,798 KMs</td>\n",
       "      <td>Petrol</td>\n",
       "      <td>Second</td>\n",
       "      <td>Mumbai</td>\n",
       "      <td>2,95,000</td>\n",
       "    </tr>\n",
       "    <tr>\n",
       "      <th>2</th>\n",
       "      <td>Skoda</td>\n",
       "      <td>Rapid</td>\n",
       "      <td>1.6 MPI Active</td>\n",
       "      <td>2020.0</td>\n",
       "      <td>19,922 KMs</td>\n",
       "      <td>Petrol</td>\n",
       "      <td>Second</td>\n",
       "      <td>Coimbatore</td>\n",
       "      <td>8,75,000</td>\n",
       "    </tr>\n",
       "    <tr>\n",
       "      <th>3</th>\n",
       "      <td>Toyota</td>\n",
       "      <td>Innova</td>\n",
       "      <td>2.5 V 8 STR</td>\n",
       "      <td>2009.0</td>\n",
       "      <td>2,75,000 KMs</td>\n",
       "      <td>Diesel</td>\n",
       "      <td>First</td>\n",
       "      <td>Hyderabad</td>\n",
       "      <td>6,65,000</td>\n",
       "    </tr>\n",
       "    <tr>\n",
       "      <th>4</th>\n",
       "      <td>Maruti Suzuki</td>\n",
       "      <td>Wagon R</td>\n",
       "      <td>LXI ABS</td>\n",
       "      <td>2016.0</td>\n",
       "      <td>49,679 KMs</td>\n",
       "      <td>Petrol</td>\n",
       "      <td>First</td>\n",
       "      <td>Faridabad</td>\n",
       "      <td>3,45,000</td>\n",
       "    </tr>\n",
       "    <tr>\n",
       "      <th>...</th>\n",
       "      <td>...</td>\n",
       "      <td>...</td>\n",
       "      <td>...</td>\n",
       "      <td>...</td>\n",
       "      <td>...</td>\n",
       "      <td>...</td>\n",
       "      <td>...</td>\n",
       "      <td>...</td>\n",
       "      <td>...</td>\n",
       "    </tr>\n",
       "    <tr>\n",
       "      <th>4995</th>\n",
       "      <td>Jeep</td>\n",
       "      <td>Compass</td>\n",
       "      <td>Limited Plus Petrol AT</td>\n",
       "      <td>2020.0</td>\n",
       "      <td>23,500 KMs</td>\n",
       "      <td>Petrol</td>\n",
       "      <td>First</td>\n",
       "      <td>Delhi</td>\n",
       "      <td>21,50,000</td>\n",
       "    </tr>\n",
       "    <tr>\n",
       "      <th>4996</th>\n",
       "      <td>Skoda</td>\n",
       "      <td>Kodiaq</td>\n",
       "      <td>Style 2.0 TDI 4x4 AT</td>\n",
       "      <td>2017.0</td>\n",
       "      <td>1,30,000 KMs</td>\n",
       "      <td>Diesel</td>\n",
       "      <td>First</td>\n",
       "      <td>Ahmedabad</td>\n",
       "      <td>25,00,000</td>\n",
       "    </tr>\n",
       "    <tr>\n",
       "      <th>4997</th>\n",
       "      <td>NaN</td>\n",
       "      <td>NaN</td>\n",
       "      <td>NaN</td>\n",
       "      <td>NaN</td>\n",
       "      <td>55,740 KMs</td>\n",
       "      <td>Diesel</td>\n",
       "      <td>NaN</td>\n",
       "      <td>Coimbatore</td>\n",
       "      <td>4,95,000</td>\n",
       "    </tr>\n",
       "    <tr>\n",
       "      <th>4998</th>\n",
       "      <td>Maruti Suzuki</td>\n",
       "      <td>Swift DZire</td>\n",
       "      <td>VDI</td>\n",
       "      <td>2013.0</td>\n",
       "      <td>95,000 KMs</td>\n",
       "      <td>Diesel</td>\n",
       "      <td>Second</td>\n",
       "      <td>Ahmedabad</td>\n",
       "      <td>4,50,000</td>\n",
       "    </tr>\n",
       "    <tr>\n",
       "      <th>4999</th>\n",
       "      <td>Hyundai</td>\n",
       "      <td>Creta</td>\n",
       "      <td>SX 1.5 Petrol [2020-2022]</td>\n",
       "      <td>2020.0</td>\n",
       "      <td>14,000 KMs</td>\n",
       "      <td>Petrol</td>\n",
       "      <td>First</td>\n",
       "      <td>Chennai</td>\n",
       "      <td>17,75,000</td>\n",
       "    </tr>\n",
       "  </tbody>\n",
       "</table>\n",
       "<p>5000 rows × 9 columns</p>\n",
       "</div>"
      ],
      "text/plain": [
       "              Brand        Model                    Variant  \\\n",
       "0           Hyundai        Verna                1.6 VTVT SX   \n",
       "1           Hyundai          i10              Sportz 1.2 AT   \n",
       "2             Skoda        Rapid             1.6 MPI Active   \n",
       "3            Toyota       Innova                2.5 V 8 STR   \n",
       "4     Maruti Suzuki      Wagon R                    LXI ABS   \n",
       "...             ...          ...                        ...   \n",
       "4995           Jeep      Compass     Limited Plus Petrol AT   \n",
       "4996          Skoda       Kodiaq       Style 2.0 TDI 4x4 AT   \n",
       "4997            NaN          NaN                        NaN   \n",
       "4998  Maruti Suzuki  Swift DZire                        VDI   \n",
       "4999        Hyundai        Creta  SX 1.5 Petrol [2020-2022]   \n",
       "\n",
       "      Manufacturing Year Driven kilometers Fuel Type Number of owners  \\\n",
       "0                 2017.0        64,685 KMs    Petrol            First   \n",
       "1                 2010.0        38,798 KMs    Petrol           Second   \n",
       "2                 2020.0        19,922 KMs    Petrol           Second   \n",
       "3                 2009.0      2,75,000 KMs    Diesel            First   \n",
       "4                 2016.0        49,679 KMs    Petrol            First   \n",
       "...                  ...               ...       ...              ...   \n",
       "4995              2020.0        23,500 KMs    Petrol            First   \n",
       "4996              2017.0      1,30,000 KMs    Diesel            First   \n",
       "4997                 NaN        55,740 KMs    Diesel              NaN   \n",
       "4998              2013.0        95,000 KMs    Diesel           Second   \n",
       "4999              2020.0        14,000 KMs    Petrol            First   \n",
       "\n",
       "        Location Price (in ₹)  \n",
       "0      Faridabad     8,25,000  \n",
       "1         Mumbai     2,95,000  \n",
       "2     Coimbatore     8,75,000  \n",
       "3      Hyderabad     6,65,000  \n",
       "4      Faridabad     3,45,000  \n",
       "...          ...          ...  \n",
       "4995       Delhi    21,50,000  \n",
       "4996   Ahmedabad    25,00,000  \n",
       "4997  Coimbatore     4,95,000  \n",
       "4998   Ahmedabad     4,50,000  \n",
       "4999     Chennai    17,75,000  \n",
       "\n",
       "[5000 rows x 9 columns]"
      ]
     },
     "execution_count": 69,
     "metadata": {},
     "output_type": "execute_result"
    }
   ],
   "source": [
    "df"
   ]
  },
  {
   "cell_type": "code",
   "execution_count": 70,
   "id": "4753a43d",
   "metadata": {},
   "outputs": [],
   "source": [
    "#Removing 'KMs' substring from Driven kilometers data\n",
    "df['Driven kilometers'] = [j.split(\" \")[0] for j in df['Driven kilometers']]"
   ]
  },
  {
   "cell_type": "code",
   "execution_count": 71,
   "id": "314d4a18",
   "metadata": {},
   "outputs": [],
   "source": [
    "#Removing comma from Driven kilometers data and Price (in ₹) data\n",
    "df['Driven kilometers'] = [j.replace(',','') for j in df['Driven kilometers']]\n",
    "df['Price (in ₹)'] = [j.replace(',','') for j in df['Price (in ₹)']]"
   ]
  },
  {
   "cell_type": "code",
   "execution_count": 72,
   "id": "94bea56d",
   "metadata": {},
   "outputs": [
    {
     "data": {
      "text/html": [
       "<div>\n",
       "<style scoped>\n",
       "    .dataframe tbody tr th:only-of-type {\n",
       "        vertical-align: middle;\n",
       "    }\n",
       "\n",
       "    .dataframe tbody tr th {\n",
       "        vertical-align: top;\n",
       "    }\n",
       "\n",
       "    .dataframe thead th {\n",
       "        text-align: right;\n",
       "    }\n",
       "</style>\n",
       "<table border=\"1\" class=\"dataframe\">\n",
       "  <thead>\n",
       "    <tr style=\"text-align: right;\">\n",
       "      <th></th>\n",
       "      <th>Brand</th>\n",
       "      <th>Model</th>\n",
       "      <th>Variant</th>\n",
       "      <th>Manufacturing Year</th>\n",
       "      <th>Driven kilometers</th>\n",
       "      <th>Fuel Type</th>\n",
       "      <th>Number of owners</th>\n",
       "      <th>Location</th>\n",
       "      <th>Price (in ₹)</th>\n",
       "    </tr>\n",
       "  </thead>\n",
       "  <tbody>\n",
       "    <tr>\n",
       "      <th>0</th>\n",
       "      <td>Hyundai</td>\n",
       "      <td>Verna</td>\n",
       "      <td>1.6 VTVT SX</td>\n",
       "      <td>2017.0</td>\n",
       "      <td>64685</td>\n",
       "      <td>Petrol</td>\n",
       "      <td>First</td>\n",
       "      <td>Faridabad</td>\n",
       "      <td>825000</td>\n",
       "    </tr>\n",
       "    <tr>\n",
       "      <th>1</th>\n",
       "      <td>Hyundai</td>\n",
       "      <td>i10</td>\n",
       "      <td>Sportz 1.2 AT</td>\n",
       "      <td>2010.0</td>\n",
       "      <td>38798</td>\n",
       "      <td>Petrol</td>\n",
       "      <td>Second</td>\n",
       "      <td>Mumbai</td>\n",
       "      <td>295000</td>\n",
       "    </tr>\n",
       "    <tr>\n",
       "      <th>2</th>\n",
       "      <td>Skoda</td>\n",
       "      <td>Rapid</td>\n",
       "      <td>1.6 MPI Active</td>\n",
       "      <td>2020.0</td>\n",
       "      <td>19922</td>\n",
       "      <td>Petrol</td>\n",
       "      <td>Second</td>\n",
       "      <td>Coimbatore</td>\n",
       "      <td>875000</td>\n",
       "    </tr>\n",
       "    <tr>\n",
       "      <th>3</th>\n",
       "      <td>Toyota</td>\n",
       "      <td>Innova</td>\n",
       "      <td>2.5 V 8 STR</td>\n",
       "      <td>2009.0</td>\n",
       "      <td>275000</td>\n",
       "      <td>Diesel</td>\n",
       "      <td>First</td>\n",
       "      <td>Hyderabad</td>\n",
       "      <td>665000</td>\n",
       "    </tr>\n",
       "    <tr>\n",
       "      <th>4</th>\n",
       "      <td>Maruti Suzuki</td>\n",
       "      <td>Wagon R</td>\n",
       "      <td>LXI ABS</td>\n",
       "      <td>2016.0</td>\n",
       "      <td>49679</td>\n",
       "      <td>Petrol</td>\n",
       "      <td>First</td>\n",
       "      <td>Faridabad</td>\n",
       "      <td>345000</td>\n",
       "    </tr>\n",
       "    <tr>\n",
       "      <th>...</th>\n",
       "      <td>...</td>\n",
       "      <td>...</td>\n",
       "      <td>...</td>\n",
       "      <td>...</td>\n",
       "      <td>...</td>\n",
       "      <td>...</td>\n",
       "      <td>...</td>\n",
       "      <td>...</td>\n",
       "      <td>...</td>\n",
       "    </tr>\n",
       "    <tr>\n",
       "      <th>4995</th>\n",
       "      <td>Jeep</td>\n",
       "      <td>Compass</td>\n",
       "      <td>Limited Plus Petrol AT</td>\n",
       "      <td>2020.0</td>\n",
       "      <td>23500</td>\n",
       "      <td>Petrol</td>\n",
       "      <td>First</td>\n",
       "      <td>Delhi</td>\n",
       "      <td>2150000</td>\n",
       "    </tr>\n",
       "    <tr>\n",
       "      <th>4996</th>\n",
       "      <td>Skoda</td>\n",
       "      <td>Kodiaq</td>\n",
       "      <td>Style 2.0 TDI 4x4 AT</td>\n",
       "      <td>2017.0</td>\n",
       "      <td>130000</td>\n",
       "      <td>Diesel</td>\n",
       "      <td>First</td>\n",
       "      <td>Ahmedabad</td>\n",
       "      <td>2500000</td>\n",
       "    </tr>\n",
       "    <tr>\n",
       "      <th>4997</th>\n",
       "      <td>NaN</td>\n",
       "      <td>NaN</td>\n",
       "      <td>NaN</td>\n",
       "      <td>NaN</td>\n",
       "      <td>55740</td>\n",
       "      <td>Diesel</td>\n",
       "      <td>NaN</td>\n",
       "      <td>Coimbatore</td>\n",
       "      <td>495000</td>\n",
       "    </tr>\n",
       "    <tr>\n",
       "      <th>4998</th>\n",
       "      <td>Maruti Suzuki</td>\n",
       "      <td>Swift DZire</td>\n",
       "      <td>VDI</td>\n",
       "      <td>2013.0</td>\n",
       "      <td>95000</td>\n",
       "      <td>Diesel</td>\n",
       "      <td>Second</td>\n",
       "      <td>Ahmedabad</td>\n",
       "      <td>450000</td>\n",
       "    </tr>\n",
       "    <tr>\n",
       "      <th>4999</th>\n",
       "      <td>Hyundai</td>\n",
       "      <td>Creta</td>\n",
       "      <td>SX 1.5 Petrol [2020-2022]</td>\n",
       "      <td>2020.0</td>\n",
       "      <td>14000</td>\n",
       "      <td>Petrol</td>\n",
       "      <td>First</td>\n",
       "      <td>Chennai</td>\n",
       "      <td>1775000</td>\n",
       "    </tr>\n",
       "  </tbody>\n",
       "</table>\n",
       "<p>5000 rows × 9 columns</p>\n",
       "</div>"
      ],
      "text/plain": [
       "              Brand        Model                    Variant  \\\n",
       "0           Hyundai        Verna                1.6 VTVT SX   \n",
       "1           Hyundai          i10              Sportz 1.2 AT   \n",
       "2             Skoda        Rapid             1.6 MPI Active   \n",
       "3            Toyota       Innova                2.5 V 8 STR   \n",
       "4     Maruti Suzuki      Wagon R                    LXI ABS   \n",
       "...             ...          ...                        ...   \n",
       "4995           Jeep      Compass     Limited Plus Petrol AT   \n",
       "4996          Skoda       Kodiaq       Style 2.0 TDI 4x4 AT   \n",
       "4997            NaN          NaN                        NaN   \n",
       "4998  Maruti Suzuki  Swift DZire                        VDI   \n",
       "4999        Hyundai        Creta  SX 1.5 Petrol [2020-2022]   \n",
       "\n",
       "      Manufacturing Year Driven kilometers Fuel Type Number of owners  \\\n",
       "0                 2017.0             64685    Petrol            First   \n",
       "1                 2010.0             38798    Petrol           Second   \n",
       "2                 2020.0             19922    Petrol           Second   \n",
       "3                 2009.0            275000    Diesel            First   \n",
       "4                 2016.0             49679    Petrol            First   \n",
       "...                  ...               ...       ...              ...   \n",
       "4995              2020.0             23500    Petrol            First   \n",
       "4996              2017.0            130000    Diesel            First   \n",
       "4997                 NaN             55740    Diesel              NaN   \n",
       "4998              2013.0             95000    Diesel           Second   \n",
       "4999              2020.0             14000    Petrol            First   \n",
       "\n",
       "        Location Price (in ₹)  \n",
       "0      Faridabad       825000  \n",
       "1         Mumbai       295000  \n",
       "2     Coimbatore       875000  \n",
       "3      Hyderabad       665000  \n",
       "4      Faridabad       345000  \n",
       "...          ...          ...  \n",
       "4995       Delhi      2150000  \n",
       "4996   Ahmedabad      2500000  \n",
       "4997  Coimbatore       495000  \n",
       "4998   Ahmedabad       450000  \n",
       "4999     Chennai      1775000  \n",
       "\n",
       "[5000 rows x 9 columns]"
      ]
     },
     "execution_count": 72,
     "metadata": {},
     "output_type": "execute_result"
    }
   ],
   "source": [
    "df"
   ]
  },
  {
   "cell_type": "code",
   "execution_count": 73,
   "id": "171ea71c",
   "metadata": {
    "scrolled": false
   },
   "outputs": [
    {
     "data": {
      "text/plain": [
       "Brand                  object\n",
       "Model                  object\n",
       "Variant                object\n",
       "Manufacturing Year    float64\n",
       "Driven kilometers      object\n",
       "Fuel Type              object\n",
       "Number of owners       object\n",
       "Location               object\n",
       "Price (in ₹)           object\n",
       "dtype: object"
      ]
     },
     "execution_count": 73,
     "metadata": {},
     "output_type": "execute_result"
    }
   ],
   "source": [
    "#Column Data type in dataframe \n",
    "df.dtypes"
   ]
  },
  {
   "cell_type": "markdown",
   "id": "450566e2",
   "metadata": {},
   "source": [
    "#### Point to note here is that all columns are not numeric"
   ]
  },
  {
   "cell_type": "code",
   "execution_count": 74,
   "id": "d137841f",
   "metadata": {},
   "outputs": [],
   "source": [
    "#Converting datatype for Driven kilometers and Price (in ₹) columns\n",
    "df = df.astype({'Driven kilometers':'float','Price (in ₹)':'float'})"
   ]
  },
  {
   "cell_type": "code",
   "execution_count": 76,
   "id": "784b9c6c",
   "metadata": {},
   "outputs": [
    {
     "data": {
      "text/html": [
       "<div>\n",
       "<style scoped>\n",
       "    .dataframe tbody tr th:only-of-type {\n",
       "        vertical-align: middle;\n",
       "    }\n",
       "\n",
       "    .dataframe tbody tr th {\n",
       "        vertical-align: top;\n",
       "    }\n",
       "\n",
       "    .dataframe thead th {\n",
       "        text-align: right;\n",
       "    }\n",
       "</style>\n",
       "<table border=\"1\" class=\"dataframe\">\n",
       "  <thead>\n",
       "    <tr style=\"text-align: right;\">\n",
       "      <th></th>\n",
       "      <th>Brand</th>\n",
       "      <th>Model</th>\n",
       "      <th>Variant</th>\n",
       "      <th>Manufacturing Year</th>\n",
       "      <th>Driven kilometers</th>\n",
       "      <th>Fuel Type</th>\n",
       "      <th>Number of owners</th>\n",
       "      <th>Location</th>\n",
       "      <th>Price (in ₹)</th>\n",
       "    </tr>\n",
       "  </thead>\n",
       "  <tbody>\n",
       "    <tr>\n",
       "      <th>0</th>\n",
       "      <td>Hyundai</td>\n",
       "      <td>Verna</td>\n",
       "      <td>1.6 VTVT SX</td>\n",
       "      <td>2017.0</td>\n",
       "      <td>64685.0</td>\n",
       "      <td>Petrol</td>\n",
       "      <td>First</td>\n",
       "      <td>Faridabad</td>\n",
       "      <td>825000.0</td>\n",
       "    </tr>\n",
       "    <tr>\n",
       "      <th>1</th>\n",
       "      <td>Hyundai</td>\n",
       "      <td>i10</td>\n",
       "      <td>Sportz 1.2 AT</td>\n",
       "      <td>2010.0</td>\n",
       "      <td>38798.0</td>\n",
       "      <td>Petrol</td>\n",
       "      <td>Second</td>\n",
       "      <td>Mumbai</td>\n",
       "      <td>295000.0</td>\n",
       "    </tr>\n",
       "    <tr>\n",
       "      <th>2</th>\n",
       "      <td>Skoda</td>\n",
       "      <td>Rapid</td>\n",
       "      <td>1.6 MPI Active</td>\n",
       "      <td>2020.0</td>\n",
       "      <td>19922.0</td>\n",
       "      <td>Petrol</td>\n",
       "      <td>Second</td>\n",
       "      <td>Coimbatore</td>\n",
       "      <td>875000.0</td>\n",
       "    </tr>\n",
       "    <tr>\n",
       "      <th>3</th>\n",
       "      <td>Toyota</td>\n",
       "      <td>Innova</td>\n",
       "      <td>2.5 V 8 STR</td>\n",
       "      <td>2009.0</td>\n",
       "      <td>275000.0</td>\n",
       "      <td>Diesel</td>\n",
       "      <td>First</td>\n",
       "      <td>Hyderabad</td>\n",
       "      <td>665000.0</td>\n",
       "    </tr>\n",
       "    <tr>\n",
       "      <th>4</th>\n",
       "      <td>Maruti Suzuki</td>\n",
       "      <td>Wagon R</td>\n",
       "      <td>LXI ABS</td>\n",
       "      <td>2016.0</td>\n",
       "      <td>49679.0</td>\n",
       "      <td>Petrol</td>\n",
       "      <td>First</td>\n",
       "      <td>Faridabad</td>\n",
       "      <td>345000.0</td>\n",
       "    </tr>\n",
       "    <tr>\n",
       "      <th>...</th>\n",
       "      <td>...</td>\n",
       "      <td>...</td>\n",
       "      <td>...</td>\n",
       "      <td>...</td>\n",
       "      <td>...</td>\n",
       "      <td>...</td>\n",
       "      <td>...</td>\n",
       "      <td>...</td>\n",
       "      <td>...</td>\n",
       "    </tr>\n",
       "    <tr>\n",
       "      <th>4995</th>\n",
       "      <td>Jeep</td>\n",
       "      <td>Compass</td>\n",
       "      <td>Limited Plus Petrol AT</td>\n",
       "      <td>2020.0</td>\n",
       "      <td>23500.0</td>\n",
       "      <td>Petrol</td>\n",
       "      <td>First</td>\n",
       "      <td>Delhi</td>\n",
       "      <td>2150000.0</td>\n",
       "    </tr>\n",
       "    <tr>\n",
       "      <th>4996</th>\n",
       "      <td>Skoda</td>\n",
       "      <td>Kodiaq</td>\n",
       "      <td>Style 2.0 TDI 4x4 AT</td>\n",
       "      <td>2017.0</td>\n",
       "      <td>130000.0</td>\n",
       "      <td>Diesel</td>\n",
       "      <td>First</td>\n",
       "      <td>Ahmedabad</td>\n",
       "      <td>2500000.0</td>\n",
       "    </tr>\n",
       "    <tr>\n",
       "      <th>4997</th>\n",
       "      <td>NaN</td>\n",
       "      <td>NaN</td>\n",
       "      <td>NaN</td>\n",
       "      <td>NaN</td>\n",
       "      <td>55740.0</td>\n",
       "      <td>Diesel</td>\n",
       "      <td>NaN</td>\n",
       "      <td>Coimbatore</td>\n",
       "      <td>495000.0</td>\n",
       "    </tr>\n",
       "    <tr>\n",
       "      <th>4998</th>\n",
       "      <td>Maruti Suzuki</td>\n",
       "      <td>Swift DZire</td>\n",
       "      <td>VDI</td>\n",
       "      <td>2013.0</td>\n",
       "      <td>95000.0</td>\n",
       "      <td>Diesel</td>\n",
       "      <td>Second</td>\n",
       "      <td>Ahmedabad</td>\n",
       "      <td>450000.0</td>\n",
       "    </tr>\n",
       "    <tr>\n",
       "      <th>4999</th>\n",
       "      <td>Hyundai</td>\n",
       "      <td>Creta</td>\n",
       "      <td>SX 1.5 Petrol [2020-2022]</td>\n",
       "      <td>2020.0</td>\n",
       "      <td>14000.0</td>\n",
       "      <td>Petrol</td>\n",
       "      <td>First</td>\n",
       "      <td>Chennai</td>\n",
       "      <td>1775000.0</td>\n",
       "    </tr>\n",
       "  </tbody>\n",
       "</table>\n",
       "<p>5000 rows × 9 columns</p>\n",
       "</div>"
      ],
      "text/plain": [
       "              Brand        Model                    Variant  \\\n",
       "0           Hyundai        Verna                1.6 VTVT SX   \n",
       "1           Hyundai          i10              Sportz 1.2 AT   \n",
       "2             Skoda        Rapid             1.6 MPI Active   \n",
       "3            Toyota       Innova                2.5 V 8 STR   \n",
       "4     Maruti Suzuki      Wagon R                    LXI ABS   \n",
       "...             ...          ...                        ...   \n",
       "4995           Jeep      Compass     Limited Plus Petrol AT   \n",
       "4996          Skoda       Kodiaq       Style 2.0 TDI 4x4 AT   \n",
       "4997            NaN          NaN                        NaN   \n",
       "4998  Maruti Suzuki  Swift DZire                        VDI   \n",
       "4999        Hyundai        Creta  SX 1.5 Petrol [2020-2022]   \n",
       "\n",
       "      Manufacturing Year  Driven kilometers Fuel Type Number of owners  \\\n",
       "0                 2017.0            64685.0    Petrol            First   \n",
       "1                 2010.0            38798.0    Petrol           Second   \n",
       "2                 2020.0            19922.0    Petrol           Second   \n",
       "3                 2009.0           275000.0    Diesel            First   \n",
       "4                 2016.0            49679.0    Petrol            First   \n",
       "...                  ...                ...       ...              ...   \n",
       "4995              2020.0            23500.0    Petrol            First   \n",
       "4996              2017.0           130000.0    Diesel            First   \n",
       "4997                 NaN            55740.0    Diesel              NaN   \n",
       "4998              2013.0            95000.0    Diesel           Second   \n",
       "4999              2020.0            14000.0    Petrol            First   \n",
       "\n",
       "        Location  Price (in ₹)  \n",
       "0      Faridabad      825000.0  \n",
       "1         Mumbai      295000.0  \n",
       "2     Coimbatore      875000.0  \n",
       "3      Hyderabad      665000.0  \n",
       "4      Faridabad      345000.0  \n",
       "...          ...           ...  \n",
       "4995       Delhi     2150000.0  \n",
       "4996   Ahmedabad     2500000.0  \n",
       "4997  Coimbatore      495000.0  \n",
       "4998   Ahmedabad      450000.0  \n",
       "4999     Chennai     1775000.0  \n",
       "\n",
       "[5000 rows x 9 columns]"
      ]
     },
     "execution_count": 76,
     "metadata": {},
     "output_type": "execute_result"
    }
   ],
   "source": [
    "df"
   ]
  },
  {
   "cell_type": "code",
   "execution_count": 77,
   "id": "2487b8b3",
   "metadata": {},
   "outputs": [
    {
     "data": {
      "text/html": [
       "<div>\n",
       "<style scoped>\n",
       "    .dataframe tbody tr th:only-of-type {\n",
       "        vertical-align: middle;\n",
       "    }\n",
       "\n",
       "    .dataframe tbody tr th {\n",
       "        vertical-align: top;\n",
       "    }\n",
       "\n",
       "    .dataframe thead th {\n",
       "        text-align: right;\n",
       "    }\n",
       "</style>\n",
       "<table border=\"1\" class=\"dataframe\">\n",
       "  <thead>\n",
       "    <tr style=\"text-align: right;\">\n",
       "      <th></th>\n",
       "      <th>Manufacturing Year</th>\n",
       "      <th>Driven kilometers</th>\n",
       "      <th>Price (in ₹)</th>\n",
       "    </tr>\n",
       "  </thead>\n",
       "  <tbody>\n",
       "    <tr>\n",
       "      <th>count</th>\n",
       "      <td>4621.000000</td>\n",
       "      <td>5.000000e+03</td>\n",
       "      <td>5.000000e+03</td>\n",
       "    </tr>\n",
       "    <tr>\n",
       "      <th>mean</th>\n",
       "      <td>2016.674097</td>\n",
       "      <td>4.847137e+04</td>\n",
       "      <td>1.731232e+06</td>\n",
       "    </tr>\n",
       "    <tr>\n",
       "      <th>std</th>\n",
       "      <td>3.055022</td>\n",
       "      <td>5.403355e+04</td>\n",
       "      <td>2.403420e+06</td>\n",
       "    </tr>\n",
       "    <tr>\n",
       "      <th>min</th>\n",
       "      <td>1998.000000</td>\n",
       "      <td>7.000000e+01</td>\n",
       "      <td>9.000000e+04</td>\n",
       "    </tr>\n",
       "    <tr>\n",
       "      <th>25%</th>\n",
       "      <td>2015.000000</td>\n",
       "      <td>2.338625e+04</td>\n",
       "      <td>5.450000e+05</td>\n",
       "    </tr>\n",
       "    <tr>\n",
       "      <th>50%</th>\n",
       "      <td>2017.000000</td>\n",
       "      <td>4.200000e+04</td>\n",
       "      <td>8.650000e+05</td>\n",
       "    </tr>\n",
       "    <tr>\n",
       "      <th>75%</th>\n",
       "      <td>2019.000000</td>\n",
       "      <td>6.357900e+04</td>\n",
       "      <td>1.850000e+06</td>\n",
       "    </tr>\n",
       "    <tr>\n",
       "      <th>max</th>\n",
       "      <td>2022.000000</td>\n",
       "      <td>1.460000e+06</td>\n",
       "      <td>3.900000e+07</td>\n",
       "    </tr>\n",
       "  </tbody>\n",
       "</table>\n",
       "</div>"
      ],
      "text/plain": [
       "       Manufacturing Year  Driven kilometers  Price (in ₹)\n",
       "count         4621.000000       5.000000e+03  5.000000e+03\n",
       "mean          2016.674097       4.847137e+04  1.731232e+06\n",
       "std              3.055022       5.403355e+04  2.403420e+06\n",
       "min           1998.000000       7.000000e+01  9.000000e+04\n",
       "25%           2015.000000       2.338625e+04  5.450000e+05\n",
       "50%           2017.000000       4.200000e+04  8.650000e+05\n",
       "75%           2019.000000       6.357900e+04  1.850000e+06\n",
       "max           2022.000000       1.460000e+06  3.900000e+07"
      ]
     },
     "execution_count": 77,
     "metadata": {},
     "output_type": "execute_result"
    }
   ],
   "source": [
    "#Statistical summary\n",
    "df.describe()"
   ]
  },
  {
   "cell_type": "code",
   "execution_count": 78,
   "id": "53d94616",
   "metadata": {},
   "outputs": [
    {
     "data": {
      "text/plain": [
       "(5000, 9)"
      ]
     },
     "execution_count": 78,
     "metadata": {},
     "output_type": "execute_result"
    }
   ],
   "source": [
    "df.shape"
   ]
  },
  {
   "cell_type": "markdown",
   "id": "e5a2323e",
   "metadata": {},
   "source": [
    "#### We have 5000 data rows and 9 columns in the dataframe."
   ]
  },
  {
   "cell_type": "markdown",
   "id": "324711e5",
   "metadata": {},
   "source": [
    "### Target variable is Price (in ₹)"
   ]
  },
  {
   "cell_type": "markdown",
   "id": "d694e7f1",
   "metadata": {},
   "source": [
    " "
   ]
  },
  {
   "cell_type": "markdown",
   "id": "2589e024",
   "metadata": {},
   "source": [
    "### Checking Null values in Training Dataframe:"
   ]
  },
  {
   "cell_type": "code",
   "execution_count": 79,
   "id": "97db0405",
   "metadata": {
    "scrolled": false
   },
   "outputs": [
    {
     "data": {
      "image/png": "[encoded data removed]",
      "text/plain": [
       "<Figure size 576x288 with 2 Axes>"
      ]
     },
     "metadata": {},
     "output_type": "display_data"
    }
   ],
   "source": [
    "#Checking null values using heatmap\n",
    "sns.set(rc={'figure.figsize':(8,4)})\n",
    "sns.heatmap(df.isnull())\n",
    "plt.show()"
   ]
  },
  {
   "cell_type": "code",
   "execution_count": 80,
   "id": "0ece00fc",
   "metadata": {},
   "outputs": [
    {
     "data": {
      "text/plain": [
       "1912"
      ]
     },
     "execution_count": 80,
     "metadata": {},
     "output_type": "execute_result"
    }
   ],
   "source": [
    "#Total number of null values in complete dataset\n",
    "df.isnull().sum().sum()"
   ]
  },
  {
   "cell_type": "code",
   "execution_count": 81,
   "id": "223a9ccf",
   "metadata": {
    "scrolled": false
   },
   "outputs": [
    {
     "data": {
      "text/plain": [
       "Brand                 379\n",
       "Model                 379\n",
       "Variant               396\n",
       "Manufacturing Year    379\n",
       "Driven kilometers       0\n",
       "Fuel Type               0\n",
       "Number of owners      379\n",
       "Location                0\n",
       "Price (in ₹)            0\n",
       "dtype: int64"
      ]
     },
     "execution_count": 81,
     "metadata": {},
     "output_type": "execute_result"
    }
   ],
   "source": [
    "#number of null values in each column\n",
    "df.isnull().sum()"
   ]
  },
  {
   "cell_type": "markdown",
   "id": "0ada4ff9",
   "metadata": {},
   "source": [
    "### As we can't fill brand, model, variant with mode of data as it doesn't make sense hence dropping rows with NULL values"
   ]
  },
  {
   "cell_type": "code",
   "execution_count": 82,
   "id": "a7708a83",
   "metadata": {},
   "outputs": [],
   "source": [
    "df = df.dropna()"
   ]
  },
  {
   "cell_type": "code",
   "execution_count": 83,
   "id": "057db473",
   "metadata": {},
   "outputs": [
    {
     "data": {
      "text/plain": [
       "0"
      ]
     },
     "execution_count": 83,
     "metadata": {},
     "output_type": "execute_result"
    }
   ],
   "source": [
    "#Total number of null values in complete dataset\n",
    "df.isnull().sum().sum()"
   ]
  },
  {
   "cell_type": "code",
   "execution_count": 84,
   "id": "e957520c",
   "metadata": {},
   "outputs": [
    {
     "data": {
      "text/plain": [
       "(4604, 9)"
      ]
     },
     "execution_count": 84,
     "metadata": {},
     "output_type": "execute_result"
    }
   ],
   "source": [
    "df.shape"
   ]
  },
  {
   "cell_type": "markdown",
   "id": "6ceffbbe",
   "metadata": {},
   "source": [
    "#### Now There is no NULL values in dataframe"
   ]
  },
  {
   "cell_type": "markdown",
   "id": "cdb35ea9",
   "metadata": {},
   "source": [
    "### Histogram Plots :"
   ]
  },
  {
   "cell_type": "code",
   "execution_count": 85,
   "id": "fed2c1ac",
   "metadata": {
    "scrolled": true
   },
   "outputs": [],
   "source": [
    "#Making dataframe of nominal data\n",
    "df_visualisation_nominal = df[['Brand','Model','Variant','Manufacturing Year','Fuel Type','Number of owners','Location']].copy()"
   ]
  },
  {
   "cell_type": "code",
   "execution_count": 86,
   "id": "c5876ffb",
   "metadata": {},
   "outputs": [
    {
     "name": "stdout",
     "output_type": "stream",
     "text": [
      "Maruti Suzuki    913\n",
      "Hyundai          781\n",
      "Honda            477\n",
      "Mercedes-Benz    331\n",
      "BMW              266\n",
      "Audi             231\n",
      "Mahindra         196\n",
      "Toyota           187\n",
      "Volkswagen       167\n",
      "Tata             144\n",
      "Renault          139\n",
      "Ford             135\n",
      "Skoda            117\n",
      "Kia               91\n",
      "MG                84\n",
      "Volvo             61\n",
      "Jeep              59\n",
      "Land Rover        56\n",
      "Nissan            36\n",
      "Porsche           32\n",
      "Jaguar            27\n",
      "Chevrolet         19\n",
      "Datsun            18\n",
      "MINI              16\n",
      "Bentley            8\n",
      "Mitsubishi         6\n",
      "Rolls-Royce        2\n",
      "Lexus              2\n",
      "Ferrari            2\n",
      "Maserati           1\n",
      "Name: Brand, dtype: int64\n"
     ]
    },
    {
     "data": {
      "image/png": "[encoded data removed]",
      "text/plain": [
       "<Figure size 1440x288 with 1 Axes>"
      ]
     },
     "metadata": {},
     "output_type": "display_data"
    }
   ],
   "source": [
    "#Visualisation of Brand data\n",
    "sns.set(rc={'figure.figsize':(20,4)})\n",
    "ax = sns.countplot(x='Brand',data=df_visualisation_nominal)\n",
    "print(df_visualisation_nominal['Brand'].value_counts())"
   ]
  },
  {
   "cell_type": "markdown",
   "id": "5034ef6c",
   "metadata": {},
   "source": [
    "**As we can see most demand is for Maruti Suzuki and Hyundai and the rest are low in demand**"
   ]
  },
  {
   "cell_type": "code",
   "execution_count": 87,
   "id": "1f050db6",
   "metadata": {},
   "outputs": [
    {
     "name": "stdout",
     "output_type": "stream",
     "text": [
      "City          170\n",
      "Grand i10     150\n",
      "Wagon R       121\n",
      "Elite i20     112\n",
      "Creta         112\n",
      "             ... \n",
      "Karoq           1\n",
      "Yeti            1\n",
      "Sail Sedan      1\n",
      "Camaro          1\n",
      "NX              1\n",
      "Name: Model, Length: 227, dtype: int64\n"
     ]
    },
    {
     "data": {
      "image/png": "[encoded data removed]",
      "text/plain": [
       "<Figure size 1440x288 with 1 Axes>"
      ]
     },
     "metadata": {},
     "output_type": "display_data"
    }
   ],
   "source": [
    "#Visualisation of Model data\n",
    "ax = sns.countplot(x='Model',data=df_visualisation_nominal)\n",
    "print(df_visualisation_nominal['Model'].value_counts())"
   ]
  },
  {
   "cell_type": "markdown",
   "id": "464c98b0",
   "metadata": {},
   "source": [
    "**As we can see that highest demand is for City, then Grand i10, and so on**"
   ]
  },
  {
   "cell_type": "code",
   "execution_count": 88,
   "id": "de22858e",
   "metadata": {},
   "outputs": [
    {
     "name": "stdout",
     "output_type": "stream",
     "text": [
      "2017.0    657\n",
      "2018.0    622\n",
      "2016.0    524\n",
      "2019.0    522\n",
      "2020.0    434\n",
      "2015.0    434\n",
      "2021.0    333\n",
      "2014.0    297\n",
      "2013.0    236\n",
      "2012.0    148\n",
      "2011.0    135\n",
      "2010.0     84\n",
      "2022.0     84\n",
      "2009.0     35\n",
      "2008.0     29\n",
      "2007.0     20\n",
      "2006.0      8\n",
      "2005.0      1\n",
      "1998.0      1\n",
      "Name: Manufacturing Year, dtype: int64\n"
     ]
    },
    {
     "data": {
      "image/png": "[encoded data removed]",
      "text/plain": [
       "<Figure size 1440x288 with 1 Axes>"
      ]
     },
     "metadata": {},
     "output_type": "display_data"
    }
   ],
   "source": [
    "#Visualisation of Manufacturing Year data\n",
    "ax = sns.countplot(x='Manufacturing Year',data=df_visualisation_nominal)\n",
    "print(df_visualisation_nominal['Manufacturing Year'].value_counts())"
   ]
  },
  {
   "cell_type": "markdown",
   "id": "1909ee33",
   "metadata": {},
   "source": [
    "**As we can see that most cars are manufactured around 2017**"
   ]
  },
  {
   "cell_type": "code",
   "execution_count": 89,
   "id": "695065f6",
   "metadata": {},
   "outputs": [
    {
     "name": "stdout",
     "output_type": "stream",
     "text": [
      "Petrol      2739\n",
      "Diesel      1750\n",
      "CNG          103\n",
      "Electric       6\n",
      "Hybrid         6\n",
      "Name: Fuel Type, dtype: int64\n"
     ]
    },
    {
     "data": {
      "image/png": "[encoded data removed]",
      "text/plain": [
       "<Figure size 1440x288 with 1 Axes>"
      ]
     },
     "metadata": {},
     "output_type": "display_data"
    }
   ],
   "source": [
    "#Visualisation of Fuel Type data\n",
    "ax = sns.countplot(x='Fuel Type',data=df_visualisation_nominal)\n",
    "print(df_visualisation_nominal['Fuel Type'].value_counts())"
   ]
  },
  {
   "cell_type": "markdown",
   "id": "4c42f692",
   "metadata": {},
   "source": [
    "**Almost all cars are either petrol or deisel in this dataframe, rest are negligible**"
   ]
  },
  {
   "cell_type": "code",
   "execution_count": 90,
   "id": "c127281b",
   "metadata": {},
   "outputs": [
    {
     "name": "stdout",
     "output_type": "stream",
     "text": [
      "First           3834\n",
      "Second           683\n",
      "Third             71\n",
      "UnRegistered      15\n",
      "Fourth             1\n",
      "Name: Number of owners, dtype: int64\n"
     ]
    },
    {
     "data": {
      "image/png": "[encoded data removed]",
      "text/plain": [
       "<Figure size 576x288 with 1 Axes>"
      ]
     },
     "metadata": {},
     "output_type": "display_data"
    }
   ],
   "source": [
    "#Visualisation of Number of owners data\n",
    "sns.set(rc={'figure.figsize':(8,4)})\n",
    "ax = sns.countplot(x='Number of owners',data=df_visualisation_nominal)\n",
    "print(df_visualisation_nominal['Number of owners'].value_counts())"
   ]
  },
  {
   "cell_type": "markdown",
   "id": "246dc72e",
   "metadata": {},
   "source": [
    "**Almost all cars are sold by their first owner, some by second, and rest are negligible**"
   ]
  },
  {
   "cell_type": "code",
   "execution_count": 91,
   "id": "c001abb4",
   "metadata": {},
   "outputs": [
    {
     "name": "stdout",
     "output_type": "stream",
     "text": [
      "Mumbai          874\n",
      "Delhi           516\n",
      "Pune            505\n",
      "Bangalore       476\n",
      "Ahmedabad       458\n",
      "Thane           271\n",
      "Coimbatore      214\n",
      "Chennai         176\n",
      "Nashik          119\n",
      "Kanpur          109\n",
      "Salem            92\n",
      "Aurangabad       81\n",
      "Gurgaon          79\n",
      "Dak. Kannada     58\n",
      "Mangalore        58\n",
      "Kolkata          52\n",
      "Hyderabad        51\n",
      "Navi Mumbai      46\n",
      "Mysore           44\n",
      "Muzaffurpur      40\n",
      "Dharwad          31\n",
      "Jamshedpur       31\n",
      "Ranchi           26\n",
      "Lucknow          25\n",
      "Vadodara         23\n",
      "Nagpur           22\n",
      "Noida            22\n",
      "Bhopal           21\n",
      "Ajmer            20\n",
      "Faridabad        15\n",
      "Goa              13\n",
      "Chandigarh        8\n",
      "Dharmapuri        7\n",
      "Patna             7\n",
      "Vijaywada         6\n",
      "Varanasi          4\n",
      "Dehradun          2\n",
      "Ghaziabad         1\n",
      "Meerut            1\n",
      "Name: Location, dtype: int64\n"
     ]
    },
    {
     "data": {
      "image/png": "[encoded data removed]",
      "text/plain": [
       "<Figure size 1440x288 with 1 Axes>"
      ]
     },
     "metadata": {},
     "output_type": "display_data"
    }
   ],
   "source": [
    "#Visualisation of Location data\n",
    "sns.set(rc={'figure.figsize':(20,4)})\n",
    "ax = sns.countplot(x='Location',data=df_visualisation_nominal)\n",
    "print(df_visualisation_nominal['Location'].value_counts())"
   ]
  },
  {
   "cell_type": "markdown",
   "id": "3b2dfe71",
   "metadata": {},
   "source": [
    "**Most cars are sold in big cities like Mumbai, Delhi, Pune, banglore and Ahmedabad**"
   ]
  },
  {
   "cell_type": "markdown",
   "id": "14e22e9e",
   "metadata": {},
   "source": [
    "### Density Plots:"
   ]
  },
  {
   "cell_type": "code",
   "execution_count": 92,
   "id": "27565fec",
   "metadata": {
    "scrolled": true
   },
   "outputs": [],
   "source": [
    "#Making dataframe of Continous data\n",
    "df_visualisation_continous = df[['Driven kilometers','Price (in ₹)']].copy()"
   ]
  },
  {
   "cell_type": "code",
   "execution_count": 93,
   "id": "c2ca618c",
   "metadata": {},
   "outputs": [
    {
     "data": {
      "text/plain": [
       "<AxesSubplot:xlabel='Driven kilometers', ylabel='Density'>"
      ]
     },
     "execution_count": 93,
     "metadata": {},
     "output_type": "execute_result"
    },
    {
     "data": {
      "image/png": "[encoded data removed]",
      "text/plain": [
       "<Figure size 1440x288 with 1 Axes>"
      ]
     },
     "metadata": {},
     "output_type": "display_data"
    }
   ],
   "source": [
    "#Visualisation of Age data\n",
    "sns.distplot(df_visualisation_continous['Driven kilometers'])"
   ]
  },
  {
   "cell_type": "markdown",
   "id": "c1c28f8e",
   "metadata": {},
   "source": [
    "**Above graph looks skewed right with mode around 50000 kms**"
   ]
  },
  {
   "cell_type": "code",
   "execution_count": 94,
   "id": "4c9fe469",
   "metadata": {},
   "outputs": [
    {
     "data": {
      "text/plain": [
       "<AxesSubplot:xlabel='Price (in ₹)', ylabel='Density'>"
      ]
     },
     "execution_count": 94,
     "metadata": {},
     "output_type": "execute_result"
    },
    {
     "data": {
      "image/png": "[encoded data removed]",
      "text/plain": [
       "<Figure size 1440x288 with 1 Axes>"
      ]
     },
     "metadata": {},
     "output_type": "display_data"
    }
   ],
   "source": [
    "#Visualisation of Age data\n",
    "sns.distplot(df_visualisation_continous['Price (in ₹)'])"
   ]
  },
  {
   "cell_type": "markdown",
   "id": "31768aa8",
   "metadata": {},
   "source": [
    "**Above graph looks seked right with near at ₹10,00,000**"
   ]
  },
  {
   "cell_type": "markdown",
   "id": "d3f7eb6a",
   "metadata": {},
   "source": [
    "#### Visualisation is completed"
   ]
  },
  {
   "cell_type": "markdown",
   "id": "aa909026",
   "metadata": {},
   "source": [
    "  "
   ]
  },
  {
   "cell_type": "markdown",
   "id": "d5c960a7",
   "metadata": {},
   "source": [
    "### Encoding of Both training and testing Dataframe(Converting String to numeric):"
   ]
  },
  {
   "cell_type": "code",
   "execution_count": 95,
   "id": "f09e268c",
   "metadata": {},
   "outputs": [],
   "source": [
    "from sklearn.preprocessing import OrdinalEncoder\n",
    "enc = OrdinalEncoder()"
   ]
  },
  {
   "cell_type": "code",
   "execution_count": 96,
   "id": "31ef8311",
   "metadata": {},
   "outputs": [],
   "source": [
    "for i in df.columns:\n",
    "    if df[i].dtypes == \"object\":\n",
    "        df[i] = enc.fit_transform(df[i].values.reshape(-1,1))"
   ]
  },
  {
   "cell_type": "code",
   "execution_count": 97,
   "id": "28f3e1f9",
   "metadata": {},
   "outputs": [
    {
     "data": {
      "text/html": [
       "<div>\n",
       "<style scoped>\n",
       "    .dataframe tbody tr th:only-of-type {\n",
       "        vertical-align: middle;\n",
       "    }\n",
       "\n",
       "    .dataframe tbody tr th {\n",
       "        vertical-align: top;\n",
       "    }\n",
       "\n",
       "    .dataframe thead th {\n",
       "        text-align: right;\n",
       "    }\n",
       "</style>\n",
       "<table border=\"1\" class=\"dataframe\">\n",
       "  <thead>\n",
       "    <tr style=\"text-align: right;\">\n",
       "      <th></th>\n",
       "      <th>Brand</th>\n",
       "      <th>Model</th>\n",
       "      <th>Variant</th>\n",
       "      <th>Manufacturing Year</th>\n",
       "      <th>Driven kilometers</th>\n",
       "      <th>Fuel Type</th>\n",
       "      <th>Number of owners</th>\n",
       "      <th>Location</th>\n",
       "      <th>Price (in ₹)</th>\n",
       "    </tr>\n",
       "  </thead>\n",
       "  <tbody>\n",
       "    <tr>\n",
       "      <th>0</th>\n",
       "      <td>8.0</td>\n",
       "      <td>195.0</td>\n",
       "      <td>60.0</td>\n",
       "      <td>2017.0</td>\n",
       "      <td>64685.0</td>\n",
       "      <td>4.0</td>\n",
       "      <td>0.0</td>\n",
       "      <td>13.0</td>\n",
       "      <td>825000.0</td>\n",
       "    </tr>\n",
       "    <tr>\n",
       "      <th>1</th>\n",
       "      <td>8.0</td>\n",
       "      <td>224.0</td>\n",
       "      <td>795.0</td>\n",
       "      <td>2010.0</td>\n",
       "      <td>38798.0</td>\n",
       "      <td>4.0</td>\n",
       "      <td>2.0</td>\n",
       "      <td>24.0</td>\n",
       "      <td>295000.0</td>\n",
       "    </tr>\n",
       "    <tr>\n",
       "      <th>2</th>\n",
       "      <td>25.0</td>\n",
       "      <td>151.0</td>\n",
       "      <td>50.0</td>\n",
       "      <td>2020.0</td>\n",
       "      <td>19922.0</td>\n",
       "      <td>4.0</td>\n",
       "      <td>2.0</td>\n",
       "      <td>7.0</td>\n",
       "      <td>875000.0</td>\n",
       "    </tr>\n",
       "    <tr>\n",
       "      <th>3</th>\n",
       "      <td>27.0</td>\n",
       "      <td>111.0</td>\n",
       "      <td>138.0</td>\n",
       "      <td>2009.0</td>\n",
       "      <td>275000.0</td>\n",
       "      <td>1.0</td>\n",
       "      <td>0.0</td>\n",
       "      <td>17.0</td>\n",
       "      <td>665000.0</td>\n",
       "    </tr>\n",
       "    <tr>\n",
       "      <th>4</th>\n",
       "      <td>17.0</td>\n",
       "      <td>200.0</td>\n",
       "      <td>562.0</td>\n",
       "      <td>2016.0</td>\n",
       "      <td>49679.0</td>\n",
       "      <td>4.0</td>\n",
       "      <td>0.0</td>\n",
       "      <td>13.0</td>\n",
       "      <td>345000.0</td>\n",
       "    </tr>\n",
       "    <tr>\n",
       "      <th>...</th>\n",
       "      <td>...</td>\n",
       "      <td>...</td>\n",
       "      <td>...</td>\n",
       "      <td>...</td>\n",
       "      <td>...</td>\n",
       "      <td>...</td>\n",
       "      <td>...</td>\n",
       "      <td>...</td>\n",
       "      <td>...</td>\n",
       "    </tr>\n",
       "    <tr>\n",
       "      <th>4994</th>\n",
       "      <td>22.0</td>\n",
       "      <td>7.0</td>\n",
       "      <td>346.0</td>\n",
       "      <td>2018.0</td>\n",
       "      <td>5800.0</td>\n",
       "      <td>4.0</td>\n",
       "      <td>0.0</td>\n",
       "      <td>10.0</td>\n",
       "      <td>9500000.0</td>\n",
       "    </tr>\n",
       "    <tr>\n",
       "      <th>4995</th>\n",
       "      <td>10.0</td>\n",
       "      <td>54.0</td>\n",
       "      <td>583.0</td>\n",
       "      <td>2020.0</td>\n",
       "      <td>23500.0</td>\n",
       "      <td>4.0</td>\n",
       "      <td>0.0</td>\n",
       "      <td>10.0</td>\n",
       "      <td>2150000.0</td>\n",
       "    </tr>\n",
       "    <tr>\n",
       "      <th>4996</th>\n",
       "      <td>25.0</td>\n",
       "      <td>118.0</td>\n",
       "      <td>823.0</td>\n",
       "      <td>2017.0</td>\n",
       "      <td>130000.0</td>\n",
       "      <td>1.0</td>\n",
       "      <td>0.0</td>\n",
       "      <td>0.0</td>\n",
       "      <td>2500000.0</td>\n",
       "    </tr>\n",
       "    <tr>\n",
       "      <th>4998</th>\n",
       "      <td>17.0</td>\n",
       "      <td>175.0</td>\n",
       "      <td>889.0</td>\n",
       "      <td>2013.0</td>\n",
       "      <td>95000.0</td>\n",
       "      <td>1.0</td>\n",
       "      <td>2.0</td>\n",
       "      <td>0.0</td>\n",
       "      <td>450000.0</td>\n",
       "    </tr>\n",
       "    <tr>\n",
       "      <th>4999</th>\n",
       "      <td>8.0</td>\n",
       "      <td>62.0</td>\n",
       "      <td>742.0</td>\n",
       "      <td>2020.0</td>\n",
       "      <td>14000.0</td>\n",
       "      <td>4.0</td>\n",
       "      <td>0.0</td>\n",
       "      <td>6.0</td>\n",
       "      <td>1775000.0</td>\n",
       "    </tr>\n",
       "  </tbody>\n",
       "</table>\n",
       "<p>4604 rows × 9 columns</p>\n",
       "</div>"
      ],
      "text/plain": [
       "      Brand  Model  Variant  Manufacturing Year  Driven kilometers  Fuel Type  \\\n",
       "0       8.0  195.0     60.0              2017.0            64685.0        4.0   \n",
       "1       8.0  224.0    795.0              2010.0            38798.0        4.0   \n",
       "2      25.0  151.0     50.0              2020.0            19922.0        4.0   \n",
       "3      27.0  111.0    138.0              2009.0           275000.0        1.0   \n",
       "4      17.0  200.0    562.0              2016.0            49679.0        4.0   \n",
       "...     ...    ...      ...                 ...                ...        ...   \n",
       "4994   22.0    7.0    346.0              2018.0             5800.0        4.0   \n",
       "4995   10.0   54.0    583.0              2020.0            23500.0        4.0   \n",
       "4996   25.0  118.0    823.0              2017.0           130000.0        1.0   \n",
       "4998   17.0  175.0    889.0              2013.0            95000.0        1.0   \n",
       "4999    8.0   62.0    742.0              2020.0            14000.0        4.0   \n",
       "\n",
       "      Number of owners  Location  Price (in ₹)  \n",
       "0                  0.0      13.0      825000.0  \n",
       "1                  2.0      24.0      295000.0  \n",
       "2                  2.0       7.0      875000.0  \n",
       "3                  0.0      17.0      665000.0  \n",
       "4                  0.0      13.0      345000.0  \n",
       "...                ...       ...           ...  \n",
       "4994               0.0      10.0     9500000.0  \n",
       "4995               0.0      10.0     2150000.0  \n",
       "4996               0.0       0.0     2500000.0  \n",
       "4998               2.0       0.0      450000.0  \n",
       "4999               0.0       6.0     1775000.0  \n",
       "\n",
       "[4604 rows x 9 columns]"
      ]
     },
     "execution_count": 97,
     "metadata": {},
     "output_type": "execute_result"
    }
   ],
   "source": [
    "df"
   ]
  },
  {
   "cell_type": "markdown",
   "id": "fb1151d2",
   "metadata": {},
   "source": [
    "  "
   ]
  },
  {
   "cell_type": "markdown",
   "id": "44f01c5f",
   "metadata": {},
   "source": [
    "### Correlations:"
   ]
  },
  {
   "cell_type": "code",
   "execution_count": 98,
   "id": "805dbb99",
   "metadata": {
    "scrolled": true
   },
   "outputs": [
    {
     "data": {
      "text/plain": [
       "<AxesSubplot:>"
      ]
     },
     "execution_count": 98,
     "metadata": {},
     "output_type": "execute_result"
    },
    {
     "data": {
      "image/png": "[encoded data removed]",
      "text/plain": [
       "<Figure size 1584x504 with 2 Axes>"
      ]
     },
     "metadata": {},
     "output_type": "display_data"
    }
   ],
   "source": [
    "plt.figure(figsize = (22,7))\n",
    "sns.heatmap(df.describe(),annot = True, linewidths=0.1)"
   ]
  },
  {
   "cell_type": "code",
   "execution_count": 99,
   "id": "c84d7d6d",
   "metadata": {
    "scrolled": true
   },
   "outputs": [
    {
     "data": {
      "text/html": [
       "<div>\n",
       "<style scoped>\n",
       "    .dataframe tbody tr th:only-of-type {\n",
       "        vertical-align: middle;\n",
       "    }\n",
       "\n",
       "    .dataframe tbody tr th {\n",
       "        vertical-align: top;\n",
       "    }\n",
       "\n",
       "    .dataframe thead th {\n",
       "        text-align: right;\n",
       "    }\n",
       "</style>\n",
       "<table border=\"1\" class=\"dataframe\">\n",
       "  <thead>\n",
       "    <tr style=\"text-align: right;\">\n",
       "      <th></th>\n",
       "      <th>Brand</th>\n",
       "      <th>Model</th>\n",
       "      <th>Variant</th>\n",
       "      <th>Manufacturing Year</th>\n",
       "      <th>Driven kilometers</th>\n",
       "      <th>Fuel Type</th>\n",
       "      <th>Number of owners</th>\n",
       "      <th>Location</th>\n",
       "      <th>Price (in ₹)</th>\n",
       "    </tr>\n",
       "  </thead>\n",
       "  <tbody>\n",
       "    <tr>\n",
       "      <th>Brand</th>\n",
       "      <td>1.000000</td>\n",
       "      <td>0.189433</td>\n",
       "      <td>0.009341</td>\n",
       "      <td>0.034417</td>\n",
       "      <td>0.062718</td>\n",
       "      <td>-0.013552</td>\n",
       "      <td>-0.000821</td>\n",
       "      <td>0.024864</td>\n",
       "      <td>-0.071450</td>\n",
       "    </tr>\n",
       "    <tr>\n",
       "      <th>Model</th>\n",
       "      <td>0.189433</td>\n",
       "      <td>1.000000</td>\n",
       "      <td>0.260782</td>\n",
       "      <td>0.040512</td>\n",
       "      <td>0.034292</td>\n",
       "      <td>-0.049263</td>\n",
       "      <td>-0.009732</td>\n",
       "      <td>-0.017712</td>\n",
       "      <td>-0.061496</td>\n",
       "    </tr>\n",
       "    <tr>\n",
       "      <th>Variant</th>\n",
       "      <td>0.009341</td>\n",
       "      <td>0.260782</td>\n",
       "      <td>1.000000</td>\n",
       "      <td>0.121269</td>\n",
       "      <td>-0.037031</td>\n",
       "      <td>0.106619</td>\n",
       "      <td>-0.112088</td>\n",
       "      <td>0.002176</td>\n",
       "      <td>-0.139080</td>\n",
       "    </tr>\n",
       "    <tr>\n",
       "      <th>Manufacturing Year</th>\n",
       "      <td>0.034417</td>\n",
       "      <td>0.040512</td>\n",
       "      <td>0.121269</td>\n",
       "      <td>1.000000</td>\n",
       "      <td>-0.359649</td>\n",
       "      <td>0.060954</td>\n",
       "      <td>-0.306208</td>\n",
       "      <td>-0.067450</td>\n",
       "      <td>0.262275</td>\n",
       "    </tr>\n",
       "    <tr>\n",
       "      <th>Driven kilometers</th>\n",
       "      <td>0.062718</td>\n",
       "      <td>0.034292</td>\n",
       "      <td>-0.037031</td>\n",
       "      <td>-0.359649</td>\n",
       "      <td>1.000000</td>\n",
       "      <td>-0.214791</td>\n",
       "      <td>0.143295</td>\n",
       "      <td>0.064176</td>\n",
       "      <td>-0.149525</td>\n",
       "    </tr>\n",
       "    <tr>\n",
       "      <th>Fuel Type</th>\n",
       "      <td>-0.013552</td>\n",
       "      <td>-0.049263</td>\n",
       "      <td>0.106619</td>\n",
       "      <td>0.060954</td>\n",
       "      <td>-0.214791</td>\n",
       "      <td>1.000000</td>\n",
       "      <td>-0.093593</td>\n",
       "      <td>-0.024604</td>\n",
       "      <td>-0.129010</td>\n",
       "    </tr>\n",
       "    <tr>\n",
       "      <th>Number of owners</th>\n",
       "      <td>-0.000821</td>\n",
       "      <td>-0.009732</td>\n",
       "      <td>-0.112088</td>\n",
       "      <td>-0.306208</td>\n",
       "      <td>0.143295</td>\n",
       "      <td>-0.093593</td>\n",
       "      <td>1.000000</td>\n",
       "      <td>-0.029844</td>\n",
       "      <td>0.023259</td>\n",
       "    </tr>\n",
       "    <tr>\n",
       "      <th>Location</th>\n",
       "      <td>0.024864</td>\n",
       "      <td>-0.017712</td>\n",
       "      <td>0.002176</td>\n",
       "      <td>-0.067450</td>\n",
       "      <td>0.064176</td>\n",
       "      <td>-0.024604</td>\n",
       "      <td>-0.029844</td>\n",
       "      <td>1.000000</td>\n",
       "      <td>-0.051536</td>\n",
       "    </tr>\n",
       "    <tr>\n",
       "      <th>Price (in ₹)</th>\n",
       "      <td>-0.071450</td>\n",
       "      <td>-0.061496</td>\n",
       "      <td>-0.139080</td>\n",
       "      <td>0.262275</td>\n",
       "      <td>-0.149525</td>\n",
       "      <td>-0.129010</td>\n",
       "      <td>0.023259</td>\n",
       "      <td>-0.051536</td>\n",
       "      <td>1.000000</td>\n",
       "    </tr>\n",
       "  </tbody>\n",
       "</table>\n",
       "</div>"
      ],
      "text/plain": [
       "                       Brand     Model   Variant  Manufacturing Year  \\\n",
       "Brand               1.000000  0.189433  0.009341            0.034417   \n",
       "Model               0.189433  1.000000  0.260782            0.040512   \n",
       "Variant             0.009341  0.260782  1.000000            0.121269   \n",
       "Manufacturing Year  0.034417  0.040512  0.121269            1.000000   \n",
       "Driven kilometers   0.062718  0.034292 -0.037031           -0.359649   \n",
       "Fuel Type          -0.013552 -0.049263  0.106619            0.060954   \n",
       "Number of owners   -0.000821 -0.009732 -0.112088           -0.306208   \n",
       "Location            0.024864 -0.017712  0.002176           -0.067450   \n",
       "Price (in ₹)       -0.071450 -0.061496 -0.139080            0.262275   \n",
       "\n",
       "                    Driven kilometers  Fuel Type  Number of owners  Location  \\\n",
       "Brand                        0.062718  -0.013552         -0.000821  0.024864   \n",
       "Model                        0.034292  -0.049263         -0.009732 -0.017712   \n",
       "Variant                     -0.037031   0.106619         -0.112088  0.002176   \n",
       "Manufacturing Year          -0.359649   0.060954         -0.306208 -0.067450   \n",
       "Driven kilometers            1.000000  -0.214791          0.143295  0.064176   \n",
       "Fuel Type                   -0.214791   1.000000         -0.093593 -0.024604   \n",
       "Number of owners             0.143295  -0.093593          1.000000 -0.029844   \n",
       "Location                     0.064176  -0.024604         -0.029844  1.000000   \n",
       "Price (in ₹)                -0.149525  -0.129010          0.023259 -0.051536   \n",
       "\n",
       "                    Price (in ₹)  \n",
       "Brand                  -0.071450  \n",
       "Model                  -0.061496  \n",
       "Variant                -0.139080  \n",
       "Manufacturing Year      0.262275  \n",
       "Driven kilometers      -0.149525  \n",
       "Fuel Type              -0.129010  \n",
       "Number of owners        0.023259  \n",
       "Location               -0.051536  \n",
       "Price (in ₹)            1.000000  "
      ]
     },
     "execution_count": 99,
     "metadata": {},
     "output_type": "execute_result"
    }
   ],
   "source": [
    "#Correlation matrix\n",
    "df.corr()"
   ]
  },
  {
   "cell_type": "code",
   "execution_count": 100,
   "id": "345c070d",
   "metadata": {},
   "outputs": [
    {
     "data": {
      "text/plain": [
       "<AxesSubplot:>"
      ]
     },
     "execution_count": 100,
     "metadata": {},
     "output_type": "execute_result"
    },
    {
     "data": {
      "image/png": "[encoded data removed]",
      "text/plain": [
       "<Figure size 792x288 with 2 Axes>"
      ]
     },
     "metadata": {},
     "output_type": "display_data"
    }
   ],
   "source": [
    "#Correlation of Columns with target column using heatmap\n",
    "plt.figure(figsize = (11,4))\n",
    "sns.heatmap(df.corr(),annot = True, linewidths=0.1)"
   ]
  },
  {
   "cell_type": "markdown",
   "id": "aab51e1e",
   "metadata": {},
   "source": [
    "#### Here we can't see very high correlations as highest correlation present here is 0.26."
   ]
  },
  {
   "cell_type": "markdown",
   "id": "d965dc39",
   "metadata": {},
   "source": [
    " "
   ]
  },
  {
   "cell_type": "markdown",
   "id": "ccd93169",
   "metadata": {},
   "source": [
    "### Checking columns which appear to be highly correlated with target columns"
   ]
  },
  {
   "cell_type": "code",
   "execution_count": 101,
   "id": "26a9f4ab",
   "metadata": {
    "scrolled": false
   },
   "outputs": [
    {
     "data": {
      "image/png": "[encoded data removed]",
      "text/plain": [
       "<Figure size 1584x504 with 1 Axes>"
      ]
     },
     "metadata": {},
     "output_type": "display_data"
    }
   ],
   "source": [
    "plt.figure(figsize=(22,7))\n",
    "df.corr()['Price (in ₹)'].sort_values(ascending = False).drop(['Price (in ₹)']).plot(kind='bar',fontsize=14)\n",
    "plt.xlabel('Feature',fontsize=14)\n",
    "plt.ylabel('Price (in ₹)',fontsize=14)\n",
    "plt.title('Correlation',fontsize=20)\n",
    "plt.show()"
   ]
  },
  {
   "cell_type": "markdown",
   "id": "07f4039e",
   "metadata": {},
   "source": [
    "#### Here we can't see any high correlation with target column"
   ]
  },
  {
   "cell_type": "markdown",
   "id": "0c906526",
   "metadata": {},
   "source": [
    " "
   ]
  },
  {
   "cell_type": "code",
   "execution_count": 102,
   "id": "dbe2e3be",
   "metadata": {},
   "outputs": [
    {
     "data": {
      "image/png": "[encoded data removed]",
      "text/plain": [
       "<Figure size 1584x504 with 1 Axes>"
      ]
     },
     "metadata": {},
     "output_type": "display_data"
    }
   ],
   "source": [
    "#Checking correlation between Price (in ₹) and Manufacturing Year\n",
    "plt.figure(figsize=(22,7))\n",
    "plt.scatter(df['Price (in ₹)'],df['Manufacturing Year'])\n",
    "plt.show()"
   ]
  },
  {
   "cell_type": "markdown",
   "id": "6556abb9",
   "metadata": {},
   "source": [
    "#### We can't see any high correlations here"
   ]
  },
  {
   "cell_type": "code",
   "execution_count": 103,
   "id": "37f0ed1b",
   "metadata": {},
   "outputs": [
    {
     "data": {
      "image/png": "[encoded data removed]",
      "text/plain": [
       "<Figure size 1584x504 with 1 Axes>"
      ]
     },
     "metadata": {},
     "output_type": "display_data"
    }
   ],
   "source": [
    "#Checking correlation between Model and Variant\n",
    "plt.figure(figsize=(22,7))\n",
    "plt.scatter(df.Model,df.Variant)\n",
    "plt.show()"
   ]
  },
  {
   "cell_type": "markdown",
   "id": "a122ba1c",
   "metadata": {},
   "source": [
    "#### We can't see any high collinearity here"
   ]
  },
  {
   "cell_type": "markdown",
   "id": "8c6fda3a",
   "metadata": {},
   "source": [
    " "
   ]
  },
  {
   "cell_type": "markdown",
   "id": "1254cc8c",
   "metadata": {},
   "source": [
    " "
   ]
  },
  {
   "cell_type": "markdown",
   "id": "727baa07",
   "metadata": {},
   "source": [
    "### Checkin VIF for confirmation of above conclusion:"
   ]
  },
  {
   "cell_type": "code",
   "execution_count": 104,
   "id": "96ebee36",
   "metadata": {},
   "outputs": [],
   "source": [
    "from statsmodels.stats.outliers_influence import variance_inflation_factor"
   ]
  },
  {
   "cell_type": "code",
   "execution_count": 105,
   "id": "f84f3e60",
   "metadata": {},
   "outputs": [],
   "source": [
    "X1 = df[['Price (in ₹)', 'Manufacturing Year']]\n",
    "\n",
    "# VIF dataframe\n",
    "vif_dF = pd.DataFrame()\n",
    "vif_dF[\"feature\"] = X1.columns\n",
    "  \n",
    "# calculating VIF for each feature\n",
    "vif_dF[\"VIF\"] = [variance_inflation_factor(X1.values, i)\n",
    "                          for i in range(len(X1.columns))]"
   ]
  },
  {
   "cell_type": "code",
   "execution_count": 106,
   "id": "789243c0",
   "metadata": {
    "scrolled": true
   },
   "outputs": [
    {
     "name": "stdout",
     "output_type": "stream",
     "text": [
      "              feature       VIF\n",
      "0        Price (in ₹)  1.519806\n",
      "1  Manufacturing Year  1.519806\n"
     ]
    }
   ],
   "source": [
    "print(vif_dF)"
   ]
  },
  {
   "cell_type": "markdown",
   "id": "2d2f78aa",
   "metadata": {},
   "source": [
    "### As we can see there is no high correlation(<10)"
   ]
  },
  {
   "cell_type": "code",
   "execution_count": 107,
   "id": "2ea11c2d",
   "metadata": {},
   "outputs": [],
   "source": [
    "X2 = df[['Model','Variant']]\n",
    "\n",
    "# VIF dataframe\n",
    "vif_dF = pd.DataFrame()\n",
    "vif_dF[\"feature\"] = X2.columns\n",
    "  \n",
    "# calculating VIF for each feature\n",
    "vif_dF[\"VIF\"] = [variance_inflation_factor(X2.values, i)\n",
    "                          for i in range(len(X2.columns))]"
   ]
  },
  {
   "cell_type": "code",
   "execution_count": 108,
   "id": "a782333f",
   "metadata": {
    "scrolled": true
   },
   "outputs": [
    {
     "name": "stdout",
     "output_type": "stream",
     "text": [
      "   feature       VIF\n",
      "0    Model  3.020373\n",
      "1  Variant  3.020373\n"
     ]
    }
   ],
   "source": [
    "print(vif_dF)"
   ]
  },
  {
   "cell_type": "markdown",
   "id": "561a60d7",
   "metadata": {},
   "source": [
    "### As we can see here correlation is not high (<10)"
   ]
  },
  {
   "cell_type": "markdown",
   "id": "850728e0",
   "metadata": {},
   "source": [
    " "
   ]
  },
  {
   "cell_type": "markdown",
   "id": "1ef3e9c0",
   "metadata": {},
   "source": [
    "### Removing Skewness :"
   ]
  },
  {
   "cell_type": "code",
   "execution_count": 109,
   "id": "c8069b7a",
   "metadata": {
    "scrolled": false
   },
   "outputs": [
    {
     "data": {
      "text/plain": [
       "Brand                  0.136470\n",
       "Model                  0.153751\n",
       "Variant               -0.203913\n",
       "Manufacturing Year    -0.694481\n",
       "Driven kilometers     16.679011\n",
       "Fuel Type             -0.426434\n",
       "Number of owners       1.995534\n",
       "Location               0.004416\n",
       "Price (in ₹)           4.555661\n",
       "dtype: float64"
      ]
     },
     "execution_count": 109,
     "metadata": {},
     "output_type": "execute_result"
    }
   ],
   "source": [
    "#Checking skewness\n",
    "df.skew()"
   ]
  },
  {
   "cell_type": "markdown",
   "id": "70d6ec7f",
   "metadata": {},
   "source": [
    "#### Acceptable skewness (-0.65,+0.65)"
   ]
  },
  {
   "cell_type": "code",
   "execution_count": 110,
   "id": "3854315e",
   "metadata": {},
   "outputs": [],
   "source": [
    "#Removing skewness from 'Driven kilometers'\n",
    "from scipy.stats import yeojohnson\n",
    "df['Driven kilometers'] = yeojohnson(df['Driven kilometers'])[0]"
   ]
  },
  {
   "cell_type": "code",
   "execution_count": 111,
   "id": "ebe0b6e6",
   "metadata": {},
   "outputs": [
    {
     "data": {
      "text/plain": [
       "Brand                 0.136470\n",
       "Model                 0.153751\n",
       "Variant              -0.203913\n",
       "Manufacturing Year   -0.694481\n",
       "Driven kilometers     0.166319\n",
       "Fuel Type            -0.426434\n",
       "Number of owners      1.995534\n",
       "Location              0.004416\n",
       "Price (in ₹)          4.555661\n",
       "dtype: float64"
      ]
     },
     "execution_count": 111,
     "metadata": {},
     "output_type": "execute_result"
    }
   ],
   "source": [
    "#Checking skewness\n",
    "df.skew()"
   ]
  },
  {
   "cell_type": "markdown",
   "id": "6833086a",
   "metadata": {},
   "source": [
    "#### All continous columns (excluding target variable) are now in acceptable skew range "
   ]
  },
  {
   "cell_type": "markdown",
   "id": "a5512672",
   "metadata": {},
   "source": [
    "### Removing outliers :"
   ]
  },
  {
   "cell_type": "code",
   "execution_count": 112,
   "id": "9ed3cd5d",
   "metadata": {},
   "outputs": [
    {
     "data": {
      "text/plain": [
       "Brand                 float64\n",
       "Model                 float64\n",
       "Variant               float64\n",
       "Manufacturing Year    float64\n",
       "Driven kilometers     float64\n",
       "Fuel Type             float64\n",
       "Number of owners      float64\n",
       "Location              float64\n",
       "Price (in ₹)          float64\n",
       "dtype: object"
      ]
     },
     "execution_count": 112,
     "metadata": {},
     "output_type": "execute_result"
    }
   ],
   "source": [
    "#Outlier check\n",
    "df.dtypes"
   ]
  },
  {
   "cell_type": "code",
   "execution_count": 113,
   "id": "d40e9811",
   "metadata": {},
   "outputs": [
    {
     "data": {
      "text/plain": [
       "Brand                    AxesSubplot(0.125,0.657941;0.227941x0.222059)\n",
       "Model                 AxesSubplot(0.398529,0.657941;0.227941x0.222059)\n",
       "Variant               AxesSubplot(0.672059,0.657941;0.227941x0.222059)\n",
       "Manufacturing Year       AxesSubplot(0.125,0.391471;0.227941x0.222059)\n",
       "Driven kilometers     AxesSubplot(0.398529,0.391471;0.227941x0.222059)\n",
       "Fuel Type             AxesSubplot(0.672059,0.391471;0.227941x0.222059)\n",
       "Number of owners            AxesSubplot(0.125,0.125;0.227941x0.222059)\n",
       "Location                 AxesSubplot(0.398529,0.125;0.227941x0.222059)\n",
       "Price (in ₹)             AxesSubplot(0.672059,0.125;0.227941x0.222059)\n",
       "dtype: object"
      ]
     },
     "execution_count": 113,
     "metadata": {},
     "output_type": "execute_result"
    },
    {
     "data": {
      "image/png": "[encoded data removed]",
      "text/plain": [
       "<Figure size 720x720 with 9 Axes>"
      ]
     },
     "metadata": {},
     "output_type": "display_data"
    }
   ],
   "source": [
    "#Checking only for continous data types\n",
    "df.plot.box(layout =(3,3),subplots=True,figsize=(10,10))"
   ]
  },
  {
   "cell_type": "markdown",
   "id": "aab78492",
   "metadata": {},
   "source": [
    "### There looks like outliers in some columns so now we check with z-score:"
   ]
  },
  {
   "cell_type": "code",
   "execution_count": 114,
   "id": "1cfcaf1b",
   "metadata": {},
   "outputs": [
    {
     "data": {
      "text/plain": [
       "(4604, 9)"
      ]
     },
     "execution_count": 114,
     "metadata": {},
     "output_type": "execute_result"
    }
   ],
   "source": [
    "#Outlier removal using z-score\n",
    "df.shape"
   ]
  },
  {
   "cell_type": "code",
   "execution_count": 115,
   "id": "624b2022",
   "metadata": {},
   "outputs": [
    {
     "data": {
      "text/plain": [
       "(array([   3,  131,  132,  132,  150,  151,  151,  208,  225,  322,  333,\n",
       "         378,  399,  456,  460,  561,  567,  579,  583,  596,  600,  604,\n",
       "         605,  662,  663,  852,  881,  882,  888,  892,  894,  919,  929,\n",
       "         930,  952,  953,  956,  957,  991, 1012, 1029, 1029, 1060, 1106,\n",
       "        1111, 1138, 1139, 1143, 1149, 1149, 1150, 1150, 1166, 1244, 1262,\n",
       "        1277, 1309, 1364, 1365, 1366, 1368, 1369, 1370, 1371, 1450, 1461,\n",
       "        1462, 1469, 1491, 1498, 1535, 1555, 1602, 1606, 1614, 1643, 1667,\n",
       "        1678, 1682, 1686, 1687, 1711, 1713, 1718, 1723, 1730, 1732, 1735,\n",
       "        1752, 1758, 1785, 1789, 1890, 1960, 1974, 1975, 1976, 2001, 2005,\n",
       "        2040, 2073, 2102, 2102, 2124, 2125, 2135, 2145, 2146, 2163, 2172,\n",
       "        2231, 2238, 2263, 2267, 2271, 2280, 2284, 2321, 2321, 2322, 2437,\n",
       "        2442, 2481, 2484, 2487, 2488, 2491, 2507, 2508, 2509, 2509, 2510,\n",
       "        2511, 2512, 2512, 2527, 2531, 2545, 2558, 2600, 2606, 2614, 2634,\n",
       "        2656, 2657, 2677, 2681, 2700, 2724, 2724, 2728, 2731, 2731, 2732,\n",
       "        2739, 2745, 2746, 2746, 2780, 2780, 2783, 2793, 2802, 2818, 2836,\n",
       "        2836, 2840, 2840, 3389, 3390, 3390, 3465, 3482, 3580, 3583, 3590,\n",
       "        3634, 3654, 3711, 3715, 3815, 3821, 3832, 3836, 3848, 3852, 3856,\n",
       "        3857, 3914, 3915, 4096, 4122, 4127, 4129, 4151, 4164, 4165, 4171,\n",
       "        4173, 4175, 4176, 4179, 4180, 4182, 4183, 4185, 4188, 4212, 4254,\n",
       "        4254, 4283, 4328, 4332, 4348, 4350, 4355, 4355, 4359, 4359, 4362,\n",
       "        4362, 4375, 4460, 4484, 4556, 4557, 4558, 4559, 4599]),\n",
       " array([4, 6, 3, 6, 6, 3, 6, 3, 6, 6, 6, 6, 6, 6, 6, 6, 6, 3, 3, 4, 3, 3,\n",
       "        4, 6, 3, 8, 8, 8, 8, 8, 8, 6, 8, 8, 8, 8, 8, 8, 8, 8, 6, 8, 3, 8,\n",
       "        8, 3, 4, 4, 3, 6, 3, 6, 8, 6, 6, 8, 8, 8, 4, 4, 8, 4, 4, 6, 4, 8,\n",
       "        8, 4, 8, 8, 6, 6, 8, 8, 6, 8, 6, 6, 4, 8, 8, 6, 4, 8, 4, 3, 8, 6,\n",
       "        6, 6, 6, 6, 3, 6, 6, 6, 6, 8, 8, 6, 6, 6, 8, 8, 8, 6, 8, 8, 8, 8,\n",
       "        8, 6, 8, 8, 8, 6, 8, 4, 8, 6, 8, 8, 6, 8, 6, 8, 6, 8, 6, 6, 8, 8,\n",
       "        6, 6, 8, 8, 8, 6, 3, 6, 8, 8, 6, 8, 8, 8, 6, 4, 6, 8, 6, 6, 8, 6,\n",
       "        6, 6, 3, 6, 6, 8, 6, 4, 8, 6, 3, 6, 3, 6, 6, 3, 6, 3, 6, 6, 6, 6,\n",
       "        6, 6, 6, 6, 6, 6, 3, 3, 4, 3, 3, 4, 6, 3, 8, 8, 8, 8, 8, 8, 8, 8,\n",
       "        8, 8, 8, 8, 8, 8, 8, 8, 8, 6, 6, 8, 3, 8, 8, 3, 4, 3, 6, 3, 6, 3,\n",
       "        6, 8, 6, 8, 8, 4, 4, 6, 8]))"
      ]
     },
     "execution_count": 115,
     "metadata": {},
     "output_type": "execute_result"
    }
   ],
   "source": [
    "from scipy.stats import zscore\n",
    "\n",
    "z = np.abs(zscore(df))\n",
    "threshhold = 3\n",
    "np.where(z>3)"
   ]
  },
  {
   "cell_type": "code",
   "execution_count": 117,
   "id": "bd1cee92",
   "metadata": {},
   "outputs": [
    {
     "data": {
      "image/png": "[encoded data removed]",
      "text/plain": [
       "<Figure size 1440x288 with 1 Axes>"
      ]
     },
     "metadata": {},
     "output_type": "display_data"
    }
   ],
   "source": [
    "# Number of outliers in each column\n",
    "sns.histplot(np.where(z>3)[1])\n",
    "plt.show()"
   ]
  },
  {
   "cell_type": "code",
   "execution_count": 127,
   "id": "723d6bcd",
   "metadata": {},
   "outputs": [
    {
     "data": {
      "text/html": [
       "<div>\n",
       "<style scoped>\n",
       "    .dataframe tbody tr th:only-of-type {\n",
       "        vertical-align: middle;\n",
       "    }\n",
       "\n",
       "    .dataframe tbody tr th {\n",
       "        vertical-align: top;\n",
       "    }\n",
       "\n",
       "    .dataframe thead th {\n",
       "        text-align: right;\n",
       "    }\n",
       "</style>\n",
       "<table border=\"1\" class=\"dataframe\">\n",
       "  <thead>\n",
       "    <tr style=\"text-align: right;\">\n",
       "      <th></th>\n",
       "      <th>Brand</th>\n",
       "      <th>Model</th>\n",
       "      <th>Variant</th>\n",
       "      <th>Manufacturing Year</th>\n",
       "      <th>Driven kilometers</th>\n",
       "      <th>Fuel Type</th>\n",
       "      <th>Number of owners</th>\n",
       "      <th>Location</th>\n",
       "      <th>Price (in ₹)</th>\n",
       "    </tr>\n",
       "  </thead>\n",
       "  <tbody>\n",
       "    <tr>\n",
       "      <th>0</th>\n",
       "      <td>8.0</td>\n",
       "      <td>195.0</td>\n",
       "      <td>60.0</td>\n",
       "      <td>2017.0</td>\n",
       "      <td>72.673920</td>\n",
       "      <td>4.0</td>\n",
       "      <td>0.0</td>\n",
       "      <td>13.0</td>\n",
       "      <td>825000.0</td>\n",
       "    </tr>\n",
       "    <tr>\n",
       "      <th>1</th>\n",
       "      <td>8.0</td>\n",
       "      <td>224.0</td>\n",
       "      <td>795.0</td>\n",
       "      <td>2010.0</td>\n",
       "      <td>62.677332</td>\n",
       "      <td>4.0</td>\n",
       "      <td>2.0</td>\n",
       "      <td>24.0</td>\n",
       "      <td>295000.0</td>\n",
       "    </tr>\n",
       "    <tr>\n",
       "      <th>2</th>\n",
       "      <td>25.0</td>\n",
       "      <td>151.0</td>\n",
       "      <td>50.0</td>\n",
       "      <td>2020.0</td>\n",
       "      <td>51.582457</td>\n",
       "      <td>4.0</td>\n",
       "      <td>2.0</td>\n",
       "      <td>7.0</td>\n",
       "      <td>875000.0</td>\n",
       "    </tr>\n",
       "    <tr>\n",
       "      <th>4</th>\n",
       "      <td>17.0</td>\n",
       "      <td>200.0</td>\n",
       "      <td>562.0</td>\n",
       "      <td>2016.0</td>\n",
       "      <td>67.336939</td>\n",
       "      <td>4.0</td>\n",
       "      <td>0.0</td>\n",
       "      <td>13.0</td>\n",
       "      <td>345000.0</td>\n",
       "    </tr>\n",
       "    <tr>\n",
       "      <th>5</th>\n",
       "      <td>17.0</td>\n",
       "      <td>200.0</td>\n",
       "      <td>918.0</td>\n",
       "      <td>2016.0</td>\n",
       "      <td>76.981768</td>\n",
       "      <td>4.0</td>\n",
       "      <td>0.0</td>\n",
       "      <td>32.0</td>\n",
       "      <td>400000.0</td>\n",
       "    </tr>\n",
       "    <tr>\n",
       "      <th>...</th>\n",
       "      <td>...</td>\n",
       "      <td>...</td>\n",
       "      <td>...</td>\n",
       "      <td>...</td>\n",
       "      <td>...</td>\n",
       "      <td>...</td>\n",
       "      <td>...</td>\n",
       "      <td>...</td>\n",
       "      <td>...</td>\n",
       "    </tr>\n",
       "    <tr>\n",
       "      <th>4994</th>\n",
       "      <td>22.0</td>\n",
       "      <td>7.0</td>\n",
       "      <td>346.0</td>\n",
       "      <td>2018.0</td>\n",
       "      <td>35.708294</td>\n",
       "      <td>4.0</td>\n",
       "      <td>0.0</td>\n",
       "      <td>10.0</td>\n",
       "      <td>9500000.0</td>\n",
       "    </tr>\n",
       "    <tr>\n",
       "      <th>4995</th>\n",
       "      <td>10.0</td>\n",
       "      <td>54.0</td>\n",
       "      <td>583.0</td>\n",
       "      <td>2020.0</td>\n",
       "      <td>54.145542</td>\n",
       "      <td>4.0</td>\n",
       "      <td>0.0</td>\n",
       "      <td>10.0</td>\n",
       "      <td>2150000.0</td>\n",
       "    </tr>\n",
       "    <tr>\n",
       "      <th>4996</th>\n",
       "      <td>25.0</td>\n",
       "      <td>118.0</td>\n",
       "      <td>823.0</td>\n",
       "      <td>2017.0</td>\n",
       "      <td>88.802129</td>\n",
       "      <td>1.0</td>\n",
       "      <td>0.0</td>\n",
       "      <td>0.0</td>\n",
       "      <td>2500000.0</td>\n",
       "    </tr>\n",
       "    <tr>\n",
       "      <th>4998</th>\n",
       "      <td>17.0</td>\n",
       "      <td>175.0</td>\n",
       "      <td>889.0</td>\n",
       "      <td>2013.0</td>\n",
       "      <td>81.171189</td>\n",
       "      <td>1.0</td>\n",
       "      <td>2.0</td>\n",
       "      <td>0.0</td>\n",
       "      <td>450000.0</td>\n",
       "    </tr>\n",
       "    <tr>\n",
       "      <th>4999</th>\n",
       "      <td>8.0</td>\n",
       "      <td>62.0</td>\n",
       "      <td>742.0</td>\n",
       "      <td>2020.0</td>\n",
       "      <td>46.482811</td>\n",
       "      <td>4.0</td>\n",
       "      <td>0.0</td>\n",
       "      <td>6.0</td>\n",
       "      <td>1775000.0</td>\n",
       "    </tr>\n",
       "  </tbody>\n",
       "</table>\n",
       "<p>4582 rows × 9 columns</p>\n",
       "</div>"
      ],
      "text/plain": [
       "      Brand  Model  Variant  Manufacturing Year  Driven kilometers  Fuel Type  \\\n",
       "0       8.0  195.0     60.0              2017.0          72.673920        4.0   \n",
       "1       8.0  224.0    795.0              2010.0          62.677332        4.0   \n",
       "2      25.0  151.0     50.0              2020.0          51.582457        4.0   \n",
       "4      17.0  200.0    562.0              2016.0          67.336939        4.0   \n",
       "5      17.0  200.0    918.0              2016.0          76.981768        4.0   \n",
       "...     ...    ...      ...                 ...                ...        ...   \n",
       "4994   22.0    7.0    346.0              2018.0          35.708294        4.0   \n",
       "4995   10.0   54.0    583.0              2020.0          54.145542        4.0   \n",
       "4996   25.0  118.0    823.0              2017.0          88.802129        1.0   \n",
       "4998   17.0  175.0    889.0              2013.0          81.171189        1.0   \n",
       "4999    8.0   62.0    742.0              2020.0          46.482811        4.0   \n",
       "\n",
       "      Number of owners  Location  Price (in ₹)  \n",
       "0                  0.0      13.0      825000.0  \n",
       "1                  2.0      24.0      295000.0  \n",
       "2                  2.0       7.0      875000.0  \n",
       "4                  0.0      13.0      345000.0  \n",
       "5                  0.0      32.0      400000.0  \n",
       "...                ...       ...           ...  \n",
       "4994               0.0      10.0     9500000.0  \n",
       "4995               0.0      10.0     2150000.0  \n",
       "4996               0.0       0.0     2500000.0  \n",
       "4998               2.0       0.0      450000.0  \n",
       "4999               0.0       6.0     1775000.0  \n",
       "\n",
       "[4582 rows x 9 columns]"
      ]
     },
     "execution_count": 127,
     "metadata": {},
     "output_type": "execute_result"
    }
   ],
   "source": [
    "#Removing outlier from column 4 ('Driven kilometers') as it the only continous data column other than target variable\n",
    "df_new_z = df.copy()\n",
    "df_new_z = df_new_z[(np.abs(zscore(df['Driven kilometers'])) < 3)]\n",
    "df_new_z"
   ]
  },
  {
   "cell_type": "code",
   "execution_count": 128,
   "id": "f8cd9f0b",
   "metadata": {},
   "outputs": [
    {
     "data": {
      "text/plain": [
       "(4582, 9)"
      ]
     },
     "execution_count": 128,
     "metadata": {},
     "output_type": "execute_result"
    }
   ],
   "source": [
    "df_new_z.shape"
   ]
  },
  {
   "cell_type": "code",
   "execution_count": 129,
   "id": "4cf80e84",
   "metadata": {},
   "outputs": [
    {
     "data": {
      "text/plain": [
       "1.6507384882710685"
      ]
     },
     "execution_count": 129,
     "metadata": {},
     "output_type": "execute_result"
    }
   ],
   "source": [
    "#Data Loss\n",
    "Data_loss = (4604-4528)/4604*100\n",
    "Data_loss"
   ]
  },
  {
   "cell_type": "markdown",
   "id": "6b5a1ec4",
   "metadata": {},
   "source": [
    "#### Now we got no outlier in continous data and data loss is only 1.65%"
   ]
  },
  {
   "cell_type": "markdown",
   "id": "21566e0f",
   "metadata": {},
   "source": [
    " "
   ]
  },
  {
   "cell_type": "markdown",
   "id": "0f66ffa4",
   "metadata": {},
   "source": [
    "## Separating the columns into features and target for 'Price (in ₹)' target variable:"
   ]
  },
  {
   "cell_type": "code",
   "execution_count": 130,
   "id": "1982e2cb",
   "metadata": {},
   "outputs": [],
   "source": [
    "feature = df_new_z.drop(\"Price (in ₹)\",axis=1)\n",
    "target = df_new_z[\"Price (in ₹)\"]"
   ]
  },
  {
   "cell_type": "code",
   "execution_count": 131,
   "id": "2749d0b3",
   "metadata": {},
   "outputs": [],
   "source": [
    "from sklearn.metrics import r2_score\n",
    "from sklearn.model_selection import train_test_split\n",
    "from sklearn.model_selection import cross_val_score"
   ]
  },
  {
   "cell_type": "code",
   "execution_count": 132,
   "id": "b85409a3",
   "metadata": {},
   "outputs": [],
   "source": [
    "import warnings\n",
    "warnings.filterwarnings('ignore')"
   ]
  },
  {
   "cell_type": "markdown",
   "id": "85ecc2ea",
   "metadata": {},
   "source": [
    "### Model 1:"
   ]
  },
  {
   "cell_type": "code",
   "execution_count": 133,
   "id": "01c54cff",
   "metadata": {},
   "outputs": [],
   "source": [
    "from sklearn.linear_model import LinearRegression\n",
    "lr = LinearRegression()"
   ]
  },
  {
   "cell_type": "code",
   "execution_count": 134,
   "id": "d0cbfbfe",
   "metadata": {},
   "outputs": [
    {
     "name": "stdout",
     "output_type": "stream",
     "text": [
      "At random state 0 the training accuracy is : 0.16482520983492188\n",
      "At random state 0 the testing accuracy is : 0.1477559904165895\n",
      "\n",
      "\n",
      "At random state 1 the training accuracy is : 0.168220086604002\n",
      "At random state 1 the testing accuracy is : 0.13062723428316514\n",
      "\n",
      "\n",
      "At random state 2 the training accuracy is : 0.1646002834614324\n",
      "At random state 2 the testing accuracy is : 0.14701454895591104\n",
      "\n",
      "\n",
      "At random state 3 the training accuracy is : 0.15381097318885273\n",
      "At random state 3 the testing accuracy is : 0.19191158230017735\n",
      "\n",
      "\n",
      "At random state 4 the training accuracy is : 0.15837196021247346\n",
      "At random state 4 the testing accuracy is : 0.17176251516781027\n",
      "\n",
      "\n",
      "At random state 5 the training accuracy is : 0.15824007494116687\n",
      "At random state 5 the testing accuracy is : 0.16877038500415842\n",
      "\n",
      "\n",
      "At random state 6 the training accuracy is : 0.1567739603727587\n",
      "At random state 6 the testing accuracy is : 0.1738449297769873\n",
      "\n",
      "\n",
      "At random state 7 the training accuracy is : 0.16383619784543546\n",
      "At random state 7 the testing accuracy is : 0.1469071923098223\n",
      "\n",
      "\n",
      "At random state 8 the training accuracy is : 0.16889793091587735\n",
      "At random state 8 the testing accuracy is : 0.1258210241048594\n",
      "\n",
      "\n",
      "At random state 9 the training accuracy is : 0.1559551842539968\n",
      "At random state 9 the testing accuracy is : 0.17834298590019904\n",
      "\n",
      "\n"
     ]
    }
   ],
   "source": [
    "for i in range(0,10):\n",
    "    features_train,features_test,target_train,target_test = train_test_split(feature,target,test_size = 0.2,random_state = i)\n",
    "    lr.fit(features_train,target_train)\n",
    "    pred_train = lr.predict(features_train)\n",
    "    pred_test = lr.predict(features_test)\n",
    "    print(\"At random state \" + str(i) + \" the training accuracy is : \" + str(r2_score(target_train,pred_train)))\n",
    "    print(\"At random state \" + str(i) + \" the testing accuracy is : \" + str(r2_score(target_test,pred_test)))\n",
    "    print(\"\\n\")"
   ]
  },
  {
   "cell_type": "code",
   "execution_count": 135,
   "id": "056bbe92",
   "metadata": {},
   "outputs": [],
   "source": [
    "features_train,features_test,target_train,target_test = train_test_split(feature,target,test_size = 0.2,random_state = 7)"
   ]
  },
  {
   "cell_type": "code",
   "execution_count": 136,
   "id": "8f240381",
   "metadata": {},
   "outputs": [
    {
     "data": {
      "text/plain": [
       "LinearRegression()"
      ]
     },
     "execution_count": 136,
     "metadata": {},
     "output_type": "execute_result"
    }
   ],
   "source": [
    "lr.fit(features_train,target_train)"
   ]
  },
  {
   "cell_type": "code",
   "execution_count": 137,
   "id": "7d86736d",
   "metadata": {},
   "outputs": [],
   "source": [
    "pred_test = lr.predict(features_test)"
   ]
  },
  {
   "cell_type": "code",
   "execution_count": 138,
   "id": "ce147edb",
   "metadata": {},
   "outputs": [
    {
     "name": "stdout",
     "output_type": "stream",
     "text": [
      "0.1469071923098223\n"
     ]
    }
   ],
   "source": [
    "print(r2_score(target_test,pred_test))"
   ]
  },
  {
   "cell_type": "markdown",
   "id": "764a306e",
   "metadata": {},
   "source": [
    "### Cross Validation of model:"
   ]
  },
  {
   "cell_type": "code",
   "execution_count": 139,
   "id": "a56b2641",
   "metadata": {},
   "outputs": [],
   "source": [
    "Train_accuracy = r2_score(target_train,pred_train)\n",
    "Test_accuracy = r2_score(target_test,pred_test)"
   ]
  },
  {
   "cell_type": "code",
   "execution_count": 140,
   "id": "53578b0f",
   "metadata": {},
   "outputs": [
    {
     "name": "stdout",
     "output_type": "stream",
     "text": [
      "At cross fold 2 the cv score is 0.15704804394672922 and accuracy score for training is -0.1580800000323732 and accuracy score for testing is 0.1469071923098223\n",
      "\n",
      "\n",
      "At cross fold 3 the cv score is 0.14251423349721704 and accuracy score for training is -0.1580800000323732 and accuracy score for testing is 0.1469071923098223\n",
      "\n",
      "\n",
      "At cross fold 4 the cv score is 0.15053078379631382 and accuracy score for training is -0.1580800000323732 and accuracy score for testing is 0.1469071923098223\n",
      "\n",
      "\n",
      "At cross fold 5 the cv score is 0.05457718263550189 and accuracy score for training is -0.1580800000323732 and accuracy score for testing is 0.1469071923098223\n",
      "\n",
      "\n",
      "At cross fold 6 the cv score is -0.19180015405523898 and accuracy score for training is -0.1580800000323732 and accuracy score for testing is 0.1469071923098223\n",
      "\n",
      "\n",
      "At cross fold 7 the cv score is -0.15825706428065295 and accuracy score for training is -0.1580800000323732 and accuracy score for testing is 0.1469071923098223\n",
      "\n",
      "\n",
      "At cross fold 8 the cv score is -0.3226136611359613 and accuracy score for training is -0.1580800000323732 and accuracy score for testing is 0.1469071923098223\n",
      "\n",
      "\n",
      "At cross fold 9 the cv score is -0.23330875253170832 and accuracy score for training is -0.1580800000323732 and accuracy score for testing is 0.1469071923098223\n",
      "\n",
      "\n"
     ]
    }
   ],
   "source": [
    "for j in range(2,10):\n",
    "    cv_score = cross_val_score(lr,feature,target,cv=j)\n",
    "    cv_mean = cv_score.mean()\n",
    "    print(\"At cross fold \" + str(j) + \" the cv score is \" + str(cv_mean) + \" and accuracy score for training is \" + str(Train_accuracy) + \" and accuracy score for testing is \" + str(Test_accuracy))\n",
    "    print(\"\\n\")"
   ]
  },
  {
   "cell_type": "code",
   "execution_count": 141,
   "id": "8f0839b8",
   "metadata": {},
   "outputs": [
    {
     "data": {
      "image/png": "[encoded data removed]",
      "text/plain": [
       "<Figure size 576x432 with 1 Axes>"
      ]
     },
     "metadata": {},
     "output_type": "display_data"
    }
   ],
   "source": [
    "plt.figure(figsize=(8,6))\n",
    "plt.scatter(x=target_test,y=pred_test, color='r')\n",
    "plt.plot(target_test,target_test,color='b')\n",
    "plt.xlabel('Actual Price')\n",
    "plt.ylabel('Predicted Price')\n",
    "plt.title('Linear Regression')\n",
    "plt.show()"
   ]
  },
  {
   "cell_type": "markdown",
   "id": "a64c41d2",
   "metadata": {},
   "source": [
    "We can see almost all points lie near best fit curve"
   ]
  },
  {
   "cell_type": "markdown",
   "id": "fd3168ff",
   "metadata": {},
   "source": [
    "### Regularization using Lasso:"
   ]
  },
  {
   "cell_type": "code",
   "execution_count": 150,
   "id": "64c3ed16",
   "metadata": {},
   "outputs": [],
   "source": [
    "from sklearn.model_selection import GridSearchCV\n",
    "from sklearn.model_selection import cross_val_score\n",
    "import warnings\n",
    "warnings.filterwarnings('ignore')"
   ]
  },
  {
   "cell_type": "code",
   "execution_count": 151,
   "id": "c79ad793",
   "metadata": {},
   "outputs": [
    {
     "name": "stdout",
     "output_type": "stream",
     "text": [
      "{'alpha': 0.0001, 'random_state': 0}\n"
     ]
    }
   ],
   "source": [
    "from sklearn.linear_model import Lasso\n",
    "parameters = {'alpha':[0.0001,0.001,0.01,0.1,1,10],'random_state':list(range(0,10))}\n",
    "ls=Lasso()\n",
    "clf = GridSearchCV(ls,parameters)\n",
    "clf.fit(features_train,target_train)\n",
    "\n",
    "print(clf.best_params_)"
   ]
  },
  {
   "cell_type": "code",
   "execution_count": 152,
   "id": "8471c831",
   "metadata": {},
   "outputs": [
    {
     "data": {
      "text/plain": [
       "0.17834298589182485"
      ]
     },
     "execution_count": 152,
     "metadata": {},
     "output_type": "execute_result"
    }
   ],
   "source": [
    "ls = Lasso(alpha = 0.0001, random_state=0)\n",
    "ls.fit(features_train,target_train)\n",
    "ls.score(features_train,target_train)\n",
    "pred_ls = ls.predict(features_test)\n",
    "\n",
    "lss = r2_score(target_test,pred_ls)\n",
    "lss"
   ]
  },
  {
   "cell_type": "code",
   "execution_count": 153,
   "id": "3064ed4b",
   "metadata": {},
   "outputs": [
    {
     "data": {
      "text/plain": [
       "0.19180015403239356"
      ]
     },
     "execution_count": 153,
     "metadata": {},
     "output_type": "execute_result"
    }
   ],
   "source": [
    "cv_score = cross_val_score(ls,feature,target,cv=6)\n",
    "cv_mean =cv_score.mean()\n",
    "abs(cv_mean)"
   ]
  },
  {
   "cell_type": "markdown",
   "id": "d9f370b5",
   "metadata": {},
   "source": [
    "### Trying other models:"
   ]
  },
  {
   "cell_type": "code",
   "execution_count": 142,
   "id": "d9e36318",
   "metadata": {},
   "outputs": [],
   "source": [
    "def model_selection(algorithm_instance,features_train,target_train,features_test,target_test):\n",
    "    algorithm_instance.fit(features_train,target_train)\n",
    "    model_1_pred_train = algorithm_instance.predict(features_train)\n",
    "    model_1_pred_test = algorithm_instance.predict(features_test)\n",
    "    print(\"Accuracy for the training model : \",r2_score(target_train,model_1_pred_train))\n",
    "    print(\"Accuracy for the testing model : \",r2_score(target_test,model_1_pred_test))\n",
    "    \n",
    "    Train_accuracy = r2_score(target_train,model_1_pred_train)\n",
    "    Test_accuracy = r2_score(target_test,model_1_pred_test)\n",
    "    \n",
    "    for j in range(2,10):\n",
    "        cv_score = cross_val_score(algorithm_instance,feature,target,cv=j)\n",
    "        cv_mean = cv_score.mean()\n",
    "        print(\"At cross fold \" + str(j) + \" the cv score is \" + str(cv_mean) + \" and accuracy score for training is \" + str(Train_accuracy) + \" and accuracy score for testing is \" + str(Test_accuracy))\n",
    "        print(\"\\n\")"
   ]
  },
  {
   "cell_type": "markdown",
   "id": "60df5a1f",
   "metadata": {},
   "source": [
    "### Model 2:"
   ]
  },
  {
   "cell_type": "code",
   "execution_count": 143,
   "id": "98dfec76",
   "metadata": {
    "scrolled": false
   },
   "outputs": [
    {
     "name": "stdout",
     "output_type": "stream",
     "text": [
      "Accuracy for the training model :  0.9961851349226554\n",
      "Accuracy for the testing model :  0.9265178930964354\n",
      "At cross fold 2 the cv score is 0.8990860301596872 and accuracy score for training is 0.9961851349226554 and accuracy score for testing is 0.9265178930964354\n",
      "\n",
      "\n",
      "At cross fold 3 the cv score is 0.8928065106554822 and accuracy score for training is 0.9961851349226554 and accuracy score for testing is 0.9265178930964354\n",
      "\n",
      "\n",
      "At cross fold 4 the cv score is 0.8851020326046491 and accuracy score for training is 0.9961851349226554 and accuracy score for testing is 0.9265178930964354\n",
      "\n",
      "\n",
      "At cross fold 5 the cv score is 0.8801595462386809 and accuracy score for training is 0.9961851349226554 and accuracy score for testing is 0.9265178930964354\n",
      "\n",
      "\n",
      "At cross fold 6 the cv score is 0.8833257830703712 and accuracy score for training is 0.9961851349226554 and accuracy score for testing is 0.9265178930964354\n",
      "\n",
      "\n",
      "At cross fold 7 the cv score is 0.8816421915415581 and accuracy score for training is 0.9961851349226554 and accuracy score for testing is 0.9265178930964354\n",
      "\n",
      "\n",
      "At cross fold 8 the cv score is 0.8894512812621902 and accuracy score for training is 0.9961851349226554 and accuracy score for testing is 0.9265178930964354\n",
      "\n",
      "\n",
      "At cross fold 9 the cv score is 0.8914718914025843 and accuracy score for training is 0.9961851349226554 and accuracy score for testing is 0.9265178930964354\n",
      "\n",
      "\n"
     ]
    }
   ],
   "source": [
    "import xgboost as xgb\n",
    "model_selection(xgb.XGBRegressor(),features_train,target_train,features_test,target_test)"
   ]
  },
  {
   "cell_type": "markdown",
   "id": "db718718",
   "metadata": {},
   "source": [
    "### Model 3:"
   ]
  },
  {
   "cell_type": "code",
   "execution_count": 144,
   "id": "b56c4d2a",
   "metadata": {},
   "outputs": [
    {
     "name": "stdout",
     "output_type": "stream",
     "text": [
      "Accuracy for the training model :  0.9866976687986722\n",
      "Accuracy for the testing model :  0.8840525978432557\n",
      "At cross fold 2 the cv score is 0.8635985105119979 and accuracy score for training is 0.9866976687986722 and accuracy score for testing is 0.8840525978432557\n",
      "\n",
      "\n",
      "At cross fold 3 the cv score is 0.8601140215321599 and accuracy score for training is 0.9866976687986722 and accuracy score for testing is 0.8840525978432557\n",
      "\n",
      "\n",
      "At cross fold 4 the cv score is 0.8618833632265154 and accuracy score for training is 0.9866976687986722 and accuracy score for testing is 0.8840525978432557\n",
      "\n",
      "\n",
      "At cross fold 5 the cv score is 0.8634584787472598 and accuracy score for training is 0.9866976687986722 and accuracy score for testing is 0.8840525978432557\n",
      "\n",
      "\n",
      "At cross fold 6 the cv score is 0.8707506320329452 and accuracy score for training is 0.9866976687986722 and accuracy score for testing is 0.8840525978432557\n",
      "\n",
      "\n",
      "At cross fold 7 the cv score is 0.8592438838507211 and accuracy score for training is 0.9866976687986722 and accuracy score for testing is 0.8840525978432557\n",
      "\n",
      "\n",
      "At cross fold 8 the cv score is 0.8632746103614455 and accuracy score for training is 0.9866976687986722 and accuracy score for testing is 0.8840525978432557\n",
      "\n",
      "\n",
      "At cross fold 9 the cv score is 0.8782791400991781 and accuracy score for training is 0.9866976687986722 and accuracy score for testing is 0.8840525978432557\n",
      "\n",
      "\n"
     ]
    }
   ],
   "source": [
    "from sklearn.ensemble import RandomForestRegressor\n",
    "model_selection(RandomForestRegressor(),features_train,target_train,features_test,target_test)"
   ]
  },
  {
   "cell_type": "markdown",
   "id": "172f58e6",
   "metadata": {},
   "source": [
    "### Model 4:"
   ]
  },
  {
   "cell_type": "code",
   "execution_count": 145,
   "id": "d08ca413",
   "metadata": {},
   "outputs": [
    {
     "name": "stdout",
     "output_type": "stream",
     "text": [
      "Accuracy for the training model :  0.9981689203007841\n",
      "Accuracy for the testing model :  0.8626950354828585\n",
      "At cross fold 2 the cv score is 0.8295530091338674 and accuracy score for training is 0.9981689203007841 and accuracy score for testing is 0.8626950354828585\n",
      "\n",
      "\n",
      "At cross fold 3 the cv score is 0.8218685779519946 and accuracy score for training is 0.9981689203007841 and accuracy score for testing is 0.8626950354828585\n",
      "\n",
      "\n",
      "At cross fold 4 the cv score is 0.8377351324192724 and accuracy score for training is 0.9981689203007841 and accuracy score for testing is 0.8626950354828585\n",
      "\n",
      "\n",
      "At cross fold 5 the cv score is 0.7721129831128722 and accuracy score for training is 0.9981689203007841 and accuracy score for testing is 0.8626950354828585\n",
      "\n",
      "\n",
      "At cross fold 6 the cv score is 0.7947647373289368 and accuracy score for training is 0.9981689203007841 and accuracy score for testing is 0.8626950354828585\n",
      "\n",
      "\n",
      "At cross fold 7 the cv score is 0.7714867474781849 and accuracy score for training is 0.9981689203007841 and accuracy score for testing is 0.8626950354828585\n",
      "\n",
      "\n",
      "At cross fold 8 the cv score is 0.7916549845455205 and accuracy score for training is 0.9981689203007841 and accuracy score for testing is 0.8626950354828585\n",
      "\n",
      "\n",
      "At cross fold 9 the cv score is 0.7981915548475689 and accuracy score for training is 0.9981689203007841 and accuracy score for testing is 0.8626950354828585\n",
      "\n",
      "\n"
     ]
    }
   ],
   "source": [
    "from sklearn.tree import DecisionTreeRegressor\n",
    "model_selection(DecisionTreeRegressor(),features_train,target_train,features_test,target_test)"
   ]
  },
  {
   "cell_type": "markdown",
   "id": "b3c6b677",
   "metadata": {},
   "source": [
    "### Conclusion: Here RandomForestRegressor() gives best accuracy hence taking it as main model"
   ]
  },
  {
   "cell_type": "markdown",
   "id": "2269ac47",
   "metadata": {},
   "source": [
    " "
   ]
  },
  {
   "cell_type": "markdown",
   "id": "36bccc0b",
   "metadata": {},
   "source": [
    "#### Below we have tested mean squared error, Root mean squared error and Mean Absolute error method also:"
   ]
  },
  {
   "cell_type": "code",
   "execution_count": 146,
   "id": "a55698b1",
   "metadata": {},
   "outputs": [],
   "source": [
    "from sklearn.metrics import mean_squared_error\n",
    "from sklearn.metrics import mean_absolute_error"
   ]
  },
  {
   "cell_type": "code",
   "execution_count": 147,
   "id": "03061286",
   "metadata": {},
   "outputs": [
    {
     "name": "stdout",
     "output_type": "stream",
     "text": [
      "At random state 0 the training accuracy is : 55827510810.634384\n",
      "At random state 0 the testing accuracy is : 1259477691589.3833\n",
      "\n",
      "\n",
      "At random state 1 the training accuracy is : 72722788991.5702\n",
      "At random state 1 the testing accuracy is : 1489775009955.8066\n",
      "\n",
      "\n",
      "At random state 2 the training accuracy is : 86753912064.10907\n",
      "At random state 2 the testing accuracy is : 526598451394.723\n",
      "\n",
      "\n",
      "At random state 3 the training accuracy is : 80622450330.14482\n",
      "At random state 3 the testing accuracy is : 448331997574.2636\n",
      "\n",
      "\n",
      "At random state 4 the training accuracy is : 65204816147.5329\n",
      "At random state 4 the testing accuracy is : 542562823518.7444\n",
      "\n",
      "\n",
      "At random state 5 the training accuracy is : 87366392870.53561\n",
      "At random state 5 the testing accuracy is : 339219551824.4016\n",
      "\n",
      "\n",
      "At random state 6 the training accuracy is : 68095429507.5789\n",
      "At random state 6 the testing accuracy is : 828017527780.8955\n",
      "\n",
      "\n",
      "At random state 7 the training accuracy is : 82443861407.7149\n",
      "At random state 7 the testing accuracy is : 582108448347.1334\n",
      "\n",
      "\n",
      "At random state 8 the training accuracy is : 71623664311.34602\n",
      "At random state 8 the testing accuracy is : 745438563489.099\n",
      "\n",
      "\n",
      "At random state 9 the training accuracy is : 90899137186.29979\n",
      "At random state 9 the testing accuracy is : 807674481791.3033\n",
      "\n",
      "\n"
     ]
    }
   ],
   "source": [
    "# Mean Squared Error Method\n",
    "x = RandomForestRegressor()\n",
    "for i in range(0,10):\n",
    "    features_train,features_test,target_train,target_test = train_test_split(feature,target,test_size = 0.2,random_state = i)\n",
    "    x.fit(features_train,target_train)\n",
    "    pred_train = x.predict(features_train)\n",
    "    pred_test = x.predict(features_test)\n",
    "    print(\"At random state \" + str(i) + \" the training accuracy is : \" + str(mean_squared_error(target_train,pred_train)))\n",
    "    print(\"At random state \" + str(i) + \" the testing accuracy is : \" + str(mean_squared_error(target_test,pred_test)))\n",
    "    print(\"\\n\")"
   ]
  },
  {
   "cell_type": "code",
   "execution_count": 148,
   "id": "1295a831",
   "metadata": {},
   "outputs": [
    {
     "name": "stdout",
     "output_type": "stream",
     "text": [
      "At random state 0 the training accuracy is : 231372.4867770761\n",
      "At random state 0 the testing accuracy is : 1127794.4369824778\n",
      "\n",
      "\n",
      "At random state 1 the training accuracy is : 257362.92384476538\n",
      "At random state 1 the testing accuracy is : 1215085.6714977608\n",
      "\n",
      "\n",
      "At random state 2 the training accuracy is : 303964.83291337895\n",
      "At random state 2 the testing accuracy is : 778645.5204950301\n",
      "\n",
      "\n",
      "At random state 3 the training accuracy is : 284610.7094755677\n",
      "At random state 3 the testing accuracy is : 666416.5231353737\n",
      "\n",
      "\n",
      "At random state 4 the training accuracy is : 272125.318892688\n",
      "At random state 4 the testing accuracy is : 749538.5626127432\n",
      "\n",
      "\n",
      "At random state 5 the training accuracy is : 290082.9089373021\n",
      "At random state 5 the testing accuracy is : 580608.1764434495\n",
      "\n",
      "\n",
      "At random state 6 the training accuracy is : 275646.63320981426\n",
      "At random state 6 the testing accuracy is : 904188.2765051731\n",
      "\n",
      "\n",
      "At random state 7 the training accuracy is : 279894.3210487526\n",
      "At random state 7 the testing accuracy is : 800112.5599389294\n",
      "\n",
      "\n",
      "At random state 8 the training accuracy is : 254690.98447007473\n",
      "At random state 8 the testing accuracy is : 854044.1656429983\n",
      "\n",
      "\n",
      "At random state 9 the training accuracy is : 296626.68837778305\n",
      "At random state 9 the testing accuracy is : 892097.4125554935\n",
      "\n",
      "\n"
     ]
    }
   ],
   "source": [
    "# Root Mean Squared Error Method\n",
    "\n",
    "for i in range(0,10):\n",
    "    features_train,features_test,target_train,target_test = train_test_split(feature,target,test_size = 0.2,random_state = i)\n",
    "    x.fit(features_train,target_train)\n",
    "    pred_train = x.predict(features_train)\n",
    "    pred_test = x.predict(features_test)\n",
    "    print(\"At random state \" + str(i) + \" the training accuracy is : \" + str(mean_squared_error(target_train,pred_train,squared=False)))\n",
    "    print(\"At random state \" + str(i) + \" the testing accuracy is : \" + str(mean_squared_error(target_test,pred_test,squared=False)))\n",
    "    print(\"\\n\")"
   ]
  },
  {
   "cell_type": "code",
   "execution_count": 149,
   "id": "f7449fcc",
   "metadata": {},
   "outputs": [
    {
     "name": "stdout",
     "output_type": "stream",
     "text": [
      "At random state 0 the training accuracy is : 79253.33698499318\n",
      "At random state 0 the testing accuracy is : 284111.5419520174\n",
      "\n",
      "\n",
      "At random state 1 the training accuracy is : 78219.31095108166\n",
      "At random state 1 the testing accuracy is : 297882.3289453186\n",
      "\n",
      "\n",
      "At random state 2 the training accuracy is : 80530.55752251024\n",
      "At random state 2 the testing accuracy is : 224243.3055070883\n",
      "\n",
      "\n",
      "At random state 3 the training accuracy is : 87826.76738335608\n",
      "At random state 3 the testing accuracy is : 200906.36351145038\n",
      "\n",
      "\n",
      "At random state 4 the training accuracy is : 79449.33883414538\n",
      "At random state 4 the testing accuracy is : 201851.1968842499\n",
      "\n",
      "\n",
      "At random state 5 the training accuracy is : 81821.78278854024\n",
      "At random state 5 the testing accuracy is : 189274.41144103443\n",
      "\n",
      "\n",
      "At random state 6 the training accuracy is : 76396.65739699863\n",
      "At random state 6 the testing accuracy is : 212143.54112322791\n",
      "\n",
      "\n",
      "At random state 7 the training accuracy is : 79879.78071292145\n",
      "At random state 7 the testing accuracy is : 212913.77873500544\n",
      "\n",
      "\n",
      "At random state 8 the training accuracy is : 78680.72456753069\n",
      "At random state 8 the testing accuracy is : 230184.18320610683\n",
      "\n",
      "\n",
      "At random state 9 the training accuracy is : 79823.55082946793\n",
      "At random state 9 the testing accuracy is : 225374.44965103597\n",
      "\n",
      "\n"
     ]
    }
   ],
   "source": [
    "# Mean Absolute Error Method\n",
    "\n",
    "for i in range(0,10):\n",
    "    features_train,features_test,target_train,target_test = train_test_split(feature,target,test_size = 0.2,random_state = i)\n",
    "    x.fit(features_train,target_train)\n",
    "    pred_train = x.predict(features_train)\n",
    "    pred_test = x.predict(features_test)\n",
    "    print(\"At random state \" + str(i) + \" the training accuracy is : \" + str(mean_absolute_error(target_train,pred_train)))\n",
    "    print(\"At random state \" + str(i) + \" the testing accuracy is : \" + str(mean_absolute_error(target_test,pred_test)))\n",
    "    print(\"\\n\")"
   ]
  },
  {
   "cell_type": "markdown",
   "id": "ccf7d81e",
   "metadata": {},
   "source": [
    "#### Conclusion of 4 metrics method : As we can see we got best accuracy results in r2_score among (r2_score, mse, rms,mae)"
   ]
  },
  {
   "cell_type": "markdown",
   "id": "a5b45e01",
   "metadata": {},
   "source": [
    "### Ensemble technique:"
   ]
  },
  {
   "cell_type": "code",
   "execution_count": 154,
   "id": "b4433163",
   "metadata": {},
   "outputs": [
    {
     "name": "stdout",
     "output_type": "stream",
     "text": [
      "{'criterion': 'mse', 'max_features': 'auto', 'min_samples_leaf': 1, 'min_samples_split': 2}\n"
     ]
    }
   ],
   "source": [
    "from sklearn.model_selection import GridSearchCV\n",
    "from sklearn.ensemble import RandomForestRegressor\n",
    "\n",
    "#using 4 parameters\n",
    "parameters = {'criterion':['mse','mae'], 'max_features': [\"auto\",\"sqrt\",\"log2\"], 'min_samples_split' : [2,5,10], 'min_samples_leaf' : [1,2,4]}\n",
    "rf = RandomForestRegressor()\n",
    "clf = GridSearchCV(rf,parameters)\n",
    "clf.fit(features_train,target_train)\n",
    "\n",
    "print(clf.best_params_)"
   ]
  },
  {
   "cell_type": "code",
   "execution_count": 155,
   "id": "23736f8c",
   "metadata": {},
   "outputs": [
    {
     "name": "stdout",
     "output_type": "stream",
     "text": [
      "R2 score:  84.93856007532219\n",
      "Cross Validation score:  19.180015403239356\n"
     ]
    }
   ],
   "source": [
    "rf = RandomForestRegressor(criterion = \"mse\", max_features = \"auto\", min_samples_leaf = 1, min_samples_split = 2)\n",
    "rf.fit(features_train,target_train)\n",
    "rf.score(features_train,target_train)\n",
    "pred_decision = rf.predict(features_test)\n",
    "\n",
    "rfs = r2_score(target_test,pred_decision)\n",
    "print('R2 score: ', abs(rfs)*100)\n",
    "\n",
    "rfscore = cross_val_score(ls,feature,target,cv=6)\n",
    "rfc =rfscore.mean()\n",
    "rfc\n",
    "print('Cross Validation score: ', abs(rfc)*100)"
   ]
  },
  {
   "cell_type": "markdown",
   "id": "b568bd3b",
   "metadata": {},
   "source": [
    "### Conclusion : We got r2_score as 84.94% for 'Price (in ₹)' prediction"
   ]
  },
  {
   "cell_type": "markdown",
   "id": "915543b7",
   "metadata": {},
   "source": [
    " "
   ]
  }
 ],
 "metadata": {
  "kernelspec": {
   "display_name": "Python 3 (ipykernel)",
   "language": "python",
   "name": "python3"
  },
  "language_info": {
   "codemirror_mode": {
    "name": "ipython",
    "version": 3
   },
   "file_extension": ".py",
   "mimetype": "text/x-python",
   "name": "python",
   "nbconvert_exporter": "python",
   "pygments_lexer": "ipython3",
   "version": "3.7.11"
  }
 },
 "nbformat": 4,
 "nbformat_minor": 5
}
