{
 "cells": [
  {
   "cell_type": "markdown",
   "metadata": {},
   "source": [
    " "
   ]
  },
  {
   "cell_type": "code",
   "execution_count": 57,
   "metadata": {},
   "outputs": [],
   "source": [
    "#import all required libraries\n",
    "import selenium\n",
    "from selenium import webdriver\n",
    "from selenium.webdriver.common.by import By\n",
    "import pandas as pd\n",
    "import time\n",
    "import warnings\n",
    "warnings.filterwarnings(\"ignore\")\n",
    "\n",
    "from selenium.common.exceptions import NoSuchElementException"
   ]
  },
  {
   "cell_type": "markdown",
   "metadata": {},
   "source": [
    "### Scrape the Car prices and other details of 5000 used cars from cartrade.com"
   ]
  },
  {
   "cell_type": "code",
   "execution_count": 498,
   "metadata": {},
   "outputs": [],
   "source": [
    "#connecting to webdriver\n",
    "driver = webdriver.Chrome('chromedriver')"
   ]
  },
  {
   "cell_type": "code",
   "execution_count": 81,
   "metadata": {},
   "outputs": [],
   "source": [
    "url = 'https://www.cartrade.com/'\n",
    "driver.get(url)"
   ]
  },
  {
   "cell_type": "code",
   "execution_count": 82,
   "metadata": {},
   "outputs": [],
   "source": [
    "#Finding web element for 'All used cars' tab\n",
    "search_tab = driver.find_element(By.XPATH,\"/html/body/section[1]/div/div/div/div[1]/div/div[1]/div[2]/div[2]\")\n",
    "search_tab.click()"
   ]
  },
  {
   "cell_type": "code",
   "execution_count": 83,
   "metadata": {},
   "outputs": [],
   "source": [
    "url = []\n",
    "loc = []\n",
    "fuel =[]\n",
    "price = []\n",
    "km = []"
   ]
  },
  {
   "cell_type": "code",
   "execution_count": 90,
   "metadata": {},
   "outputs": [],
   "source": [
    "#Fetching url to open each description page as well as information of used cars on main page\n",
    "a=1\n",
    "start=0\n",
    "end=200\n",
    "\n",
    "for page in range(start,end):\n",
    "    \n",
    "    #extracting url tags\n",
    "    url_tags= driver.find_elements(By.XPATH, '//h2[@class=\"h2heading truncate\"]/a')\n",
    "    for i in url_tags:\n",
    "        url.append(i.get_attribute('href'))\n",
    "        a = a+1\n",
    "    \n",
    "    \n",
    "    #extracting location tags\n",
    "    loc_tags = driver.find_elements(By.XPATH, '//div[@class=\"info_cr_new\"]')\n",
    "    for i in loc_tags:\n",
    "        loc.append(i.text.split('\\n|\\n')[2])\n",
    "    \n",
    "    \n",
    "    #extracting fuel type tags\n",
    "    fuel_tags = driver.find_elements(By.XPATH, '//div[@class=\"info_cr_new\"]')\n",
    "    for i in fuel_tags:\n",
    "        fuel.append(i.text.split('\\n|\\n')[1])\n",
    "    \n",
    "    \n",
    "    #extracting car price tags\n",
    "    price_tags = driver.find_elements(By.XPATH, '//div[@class=\"cr_prc\"]')\n",
    "    for i in price_tags:\n",
    "        price.append(i.text)\n",
    "    \n",
    "    \n",
    "    #extracting driven kilometers tags\n",
    "    km_tags = driver.find_elements(By.XPATH, '//div[@class=\"info_cr_new\"]')\n",
    "    for i in km_tags:\n",
    "        km.append(i.text.split('\\n|\\n')[0])\n",
    "    \n",
    "    if a>=10000:\n",
    "        break\n",
    "    \n",
    "    time.sleep(5)\n",
    "    #For pressing next button\n",
    "    try:\n",
    "        button = driver.find_element(By.XPATH,'//li[@class=\"next\"]')\n",
    "        button.click()\n",
    "    except:\n",
    "        break # In case number of pages end before reaching 10000\n",
    "    time.sleep(5)"
   ]
  },
  {
   "cell_type": "code",
   "execution_count": 91,
   "metadata": {},
   "outputs": [
    {
     "data": {
      "text/plain": [
       "8318"
      ]
     },
     "execution_count": 91,
     "metadata": {},
     "output_type": "execute_result"
    }
   ],
   "source": [
    "len(url)"
   ]
  },
  {
   "cell_type": "code",
   "execution_count": 92,
   "metadata": {},
   "outputs": [
    {
     "data": {
      "text/plain": [
       "8318"
      ]
     },
     "execution_count": 92,
     "metadata": {},
     "output_type": "execute_result"
    }
   ],
   "source": [
    "len(loc)"
   ]
  },
  {
   "cell_type": "code",
   "execution_count": 93,
   "metadata": {},
   "outputs": [
    {
     "data": {
      "text/plain": [
       "8318"
      ]
     },
     "execution_count": 93,
     "metadata": {},
     "output_type": "execute_result"
    }
   ],
   "source": [
    "len(fuel)"
   ]
  },
  {
   "cell_type": "code",
   "execution_count": 94,
   "metadata": {},
   "outputs": [
    {
     "data": {
      "text/plain": [
       "8318"
      ]
     },
     "execution_count": 94,
     "metadata": {},
     "output_type": "execute_result"
    }
   ],
   "source": [
    "len(price)"
   ]
  },
  {
   "cell_type": "code",
   "execution_count": 95,
   "metadata": {},
   "outputs": [
    {
     "data": {
      "text/plain": [
       "8318"
      ]
     },
     "execution_count": 95,
     "metadata": {},
     "output_type": "execute_result"
    }
   ],
   "source": [
    "len(km)"
   ]
  },
  {
   "cell_type": "code",
   "execution_count": 297,
   "metadata": {},
   "outputs": [],
   "source": [
    "brand = []\n",
    "model = []\n",
    "var = []\n",
    "col = []\n",
    "year = []\n",
    "own = []"
   ]
  },
  {
   "cell_type": "code",
   "execution_count": 960,
   "metadata": {},
   "outputs": [],
   "source": [
    "#let's extract all web elements having required parent tags and then extract required elements from them\n",
    "for i in url[0:5000]:\n",
    "    driver.get(i)\n",
    "    time.sleep(3)\n",
    "    driver.execute_script(\"window.stop();\")\n",
    "    \n",
    "    #Extracting Brand from parent tag\n",
    "    try:\n",
    "        brand_test = []\n",
    "        brand_tag = driver.find_element(By.XPATH,'//div[@class=\"wrapper v_content\"]')\n",
    "        brand_test.append(brand_tag.text.split('\\n')[3])\n",
    "        brand.append(brand_test[0].split(\"»\")[0])\n",
    "    except:\n",
    "        brand.append(None)\n",
    "    \n",
    "    \n",
    "    #Extracting Model name from parent tag\n",
    "    try:\n",
    "        model_test = []\n",
    "        model_tag = driver.find_element(By.XPATH,'//div[@class=\"wrapper v_content\"]')\n",
    "        model_test.append(model_tag.text.split('\\n')[4])\n",
    "        model.append(model_test[0].split(\"»\")[0])\n",
    "    except:\n",
    "        model.append(None)\n",
    "    \n",
    "    \n",
    "    #Extracting Variant from parent tag\n",
    "    try:\n",
    "        var_tag = driver.find_element(By.XPATH,'//div[@class=\"wrapper v_content\"]')\n",
    "        var.append(var_tag.text.split('\\n')[5])\n",
    "    except:\n",
    "        var.append(None)\n",
    "            \n",
    "        \n",
    "    #Extracting Manufacturing year from parent tag\n",
    "    try:\n",
    "        year_test=[]\n",
    "        year_tag = driver.find_element(By.XPATH,'//table[@class = \"v_table\"]')\n",
    "        year_test.append(year_tag.text.split('\\n'))\n",
    "        \n",
    "        # to get string with substring(MANUFACTURING YEAR) in it\n",
    "        year_try = [i for i in year_test[0] if \"MANUFACTURING YEAR\" in i]\n",
    "        year.append(year_try[0].split(\" \")[2])\n",
    "    except:\n",
    "        year.append(None)\n",
    "            \n",
    "        \n",
    "    #Extracting Number of owners from parent tag\n",
    "    try:\n",
    "        own_test=[]\n",
    "        own_tag = driver.find_element(By.XPATH,'//table[@class = \"v_table\"]')\n",
    "        own_test.append(own_tag.text.split('\\n'))\n",
    "        \n",
    "        # to get string with substring(NUMBER OF OWNERS) in it\n",
    "        own_try = [i for i in own_test[0] if \"NUMBER OF OWNERS\" in i]\n",
    "        own.append(own_try[0].split(\" \")[3])\n",
    "    except:\n",
    "        own.append(None)\n",
    "    \n",
    "    time.sleep(3)"
   ]
  },
  {
   "cell_type": "code",
   "execution_count": 961,
   "metadata": {},
   "outputs": [
    {
     "data": {
      "text/plain": [
       "5000"
      ]
     },
     "execution_count": 961,
     "metadata": {},
     "output_type": "execute_result"
    }
   ],
   "source": [
    "len(brand)"
   ]
  },
  {
   "cell_type": "code",
   "execution_count": 962,
   "metadata": {},
   "outputs": [
    {
     "data": {
      "text/plain": [
       "5000"
      ]
     },
     "execution_count": 962,
     "metadata": {},
     "output_type": "execute_result"
    }
   ],
   "source": [
    "len(model)"
   ]
  },
  {
   "cell_type": "code",
   "execution_count": 963,
   "metadata": {},
   "outputs": [
    {
     "data": {
      "text/plain": [
       "5000"
      ]
     },
     "execution_count": 963,
     "metadata": {},
     "output_type": "execute_result"
    }
   ],
   "source": [
    "len(var)"
   ]
  },
  {
   "cell_type": "code",
   "execution_count": 964,
   "metadata": {},
   "outputs": [
    {
     "data": {
      "text/plain": [
       "5000"
      ]
     },
     "execution_count": 964,
     "metadata": {},
     "output_type": "execute_result"
    }
   ],
   "source": [
    "len(year)"
   ]
  },
  {
   "cell_type": "code",
   "execution_count": 965,
   "metadata": {},
   "outputs": [
    {
     "data": {
      "text/plain": [
       "5000"
      ]
     },
     "execution_count": 965,
     "metadata": {},
     "output_type": "execute_result"
    }
   ],
   "source": [
    "len(own)"
   ]
  },
  {
   "cell_type": "code",
   "execution_count": 971,
   "metadata": {},
   "outputs": [],
   "source": [
    "# Editing price variable data\n",
    "fprice = [j.replace(\"₹\",\" \").split(\" \")[1] for j in price]"
   ]
  },
  {
   "cell_type": "code",
   "execution_count": 973,
   "metadata": {},
   "outputs": [
    {
     "data": {
      "text/html": [
       "<div>\n",
       "<style scoped>\n",
       "    .dataframe tbody tr th:only-of-type {\n",
       "        vertical-align: middle;\n",
       "    }\n",
       "\n",
       "    .dataframe tbody tr th {\n",
       "        vertical-align: top;\n",
       "    }\n",
       "\n",
       "    .dataframe thead th {\n",
       "        text-align: right;\n",
       "    }\n",
       "</style>\n",
       "<table border=\"1\" class=\"dataframe\">\n",
       "  <thead>\n",
       "    <tr style=\"text-align: right;\">\n",
       "      <th></th>\n",
       "      <th>Brand</th>\n",
       "      <th>Model</th>\n",
       "      <th>Variant</th>\n",
       "      <th>Manufacturing Year</th>\n",
       "      <th>Driven kilometers</th>\n",
       "      <th>Fuel Type</th>\n",
       "      <th>Number of owners</th>\n",
       "      <th>Location</th>\n",
       "      <th>Price (in ₹)</th>\n",
       "    </tr>\n",
       "  </thead>\n",
       "  <tbody>\n",
       "    <tr>\n",
       "      <th>0</th>\n",
       "      <td>Hyundai</td>\n",
       "      <td>Verna</td>\n",
       "      <td>1.6 VTVT SX</td>\n",
       "      <td>2017</td>\n",
       "      <td>64,685 KMs</td>\n",
       "      <td>Petrol</td>\n",
       "      <td>First</td>\n",
       "      <td>Faridabad</td>\n",
       "      <td>8,25,000</td>\n",
       "    </tr>\n",
       "    <tr>\n",
       "      <th>1</th>\n",
       "      <td>Hyundai</td>\n",
       "      <td>i10</td>\n",
       "      <td>Sportz 1.2 AT</td>\n",
       "      <td>2010</td>\n",
       "      <td>38,798 KMs</td>\n",
       "      <td>Petrol</td>\n",
       "      <td>Second</td>\n",
       "      <td>Mumbai</td>\n",
       "      <td>2,95,000</td>\n",
       "    </tr>\n",
       "    <tr>\n",
       "      <th>2</th>\n",
       "      <td>Skoda</td>\n",
       "      <td>Rapid</td>\n",
       "      <td>1.6 MPI Active</td>\n",
       "      <td>2020</td>\n",
       "      <td>19,922 KMs</td>\n",
       "      <td>Petrol</td>\n",
       "      <td>Second</td>\n",
       "      <td>Coimbatore</td>\n",
       "      <td>8,75,000</td>\n",
       "    </tr>\n",
       "    <tr>\n",
       "      <th>3</th>\n",
       "      <td>Toyota</td>\n",
       "      <td>Innova</td>\n",
       "      <td>2.5 V 8 STR</td>\n",
       "      <td>2009</td>\n",
       "      <td>2,75,000 KMs</td>\n",
       "      <td>Diesel</td>\n",
       "      <td>First</td>\n",
       "      <td>Hyderabad</td>\n",
       "      <td>6,65,000</td>\n",
       "    </tr>\n",
       "    <tr>\n",
       "      <th>4</th>\n",
       "      <td>Maruti Suzuki</td>\n",
       "      <td>Wagon R</td>\n",
       "      <td>LXI ABS</td>\n",
       "      <td>2016</td>\n",
       "      <td>49,679 KMs</td>\n",
       "      <td>Petrol</td>\n",
       "      <td>First</td>\n",
       "      <td>Faridabad</td>\n",
       "      <td>3,45,000</td>\n",
       "    </tr>\n",
       "    <tr>\n",
       "      <th>...</th>\n",
       "      <td>...</td>\n",
       "      <td>...</td>\n",
       "      <td>...</td>\n",
       "      <td>...</td>\n",
       "      <td>...</td>\n",
       "      <td>...</td>\n",
       "      <td>...</td>\n",
       "      <td>...</td>\n",
       "      <td>...</td>\n",
       "    </tr>\n",
       "    <tr>\n",
       "      <th>4995</th>\n",
       "      <td>Jeep</td>\n",
       "      <td>Compass</td>\n",
       "      <td>Limited Plus Petrol AT</td>\n",
       "      <td>2020</td>\n",
       "      <td>23,500 KMs</td>\n",
       "      <td>Petrol</td>\n",
       "      <td>First</td>\n",
       "      <td>Delhi</td>\n",
       "      <td>21,50,000</td>\n",
       "    </tr>\n",
       "    <tr>\n",
       "      <th>4996</th>\n",
       "      <td>Skoda</td>\n",
       "      <td>Kodiaq</td>\n",
       "      <td>Style 2.0 TDI 4x4 AT</td>\n",
       "      <td>2017</td>\n",
       "      <td>1,30,000 KMs</td>\n",
       "      <td>Diesel</td>\n",
       "      <td>First</td>\n",
       "      <td>Ahmedabad</td>\n",
       "      <td>25,00,000</td>\n",
       "    </tr>\n",
       "    <tr>\n",
       "      <th>4997</th>\n",
       "      <td>None</td>\n",
       "      <td>None</td>\n",
       "      <td>None</td>\n",
       "      <td>None</td>\n",
       "      <td>55,740 KMs</td>\n",
       "      <td>Diesel</td>\n",
       "      <td>None</td>\n",
       "      <td>Coimbatore</td>\n",
       "      <td>4,95,000</td>\n",
       "    </tr>\n",
       "    <tr>\n",
       "      <th>4998</th>\n",
       "      <td>Maruti Suzuki</td>\n",
       "      <td>Swift DZire</td>\n",
       "      <td>VDI</td>\n",
       "      <td>2013</td>\n",
       "      <td>95,000 KMs</td>\n",
       "      <td>Diesel</td>\n",
       "      <td>Second</td>\n",
       "      <td>Ahmedabad</td>\n",
       "      <td>4,50,000</td>\n",
       "    </tr>\n",
       "    <tr>\n",
       "      <th>4999</th>\n",
       "      <td>Hyundai</td>\n",
       "      <td>Creta</td>\n",
       "      <td>SX 1.5 Petrol [2020-2022]</td>\n",
       "      <td>2020</td>\n",
       "      <td>14,000 KMs</td>\n",
       "      <td>Petrol</td>\n",
       "      <td>First</td>\n",
       "      <td>Chennai</td>\n",
       "      <td>17,75,000</td>\n",
       "    </tr>\n",
       "  </tbody>\n",
       "</table>\n",
       "<p>5000 rows × 9 columns</p>\n",
       "</div>"
      ],
      "text/plain": [
       "              Brand        Model                    Variant  \\\n",
       "0           Hyundai        Verna                1.6 VTVT SX   \n",
       "1           Hyundai          i10              Sportz 1.2 AT   \n",
       "2             Skoda        Rapid             1.6 MPI Active   \n",
       "3            Toyota       Innova                2.5 V 8 STR   \n",
       "4     Maruti Suzuki      Wagon R                    LXI ABS   \n",
       "...             ...          ...                        ...   \n",
       "4995           Jeep      Compass     Limited Plus Petrol AT   \n",
       "4996          Skoda       Kodiaq       Style 2.0 TDI 4x4 AT   \n",
       "4997           None         None                       None   \n",
       "4998  Maruti Suzuki  Swift DZire                        VDI   \n",
       "4999        Hyundai        Creta  SX 1.5 Petrol [2020-2022]   \n",
       "\n",
       "     Manufacturing Year Driven kilometers Fuel Type Number of owners  \\\n",
       "0                  2017        64,685 KMs    Petrol            First   \n",
       "1                  2010        38,798 KMs    Petrol           Second   \n",
       "2                  2020        19,922 KMs    Petrol           Second   \n",
       "3                  2009      2,75,000 KMs    Diesel            First   \n",
       "4                  2016        49,679 KMs    Petrol            First   \n",
       "...                 ...               ...       ...              ...   \n",
       "4995               2020        23,500 KMs    Petrol            First   \n",
       "4996               2017      1,30,000 KMs    Diesel            First   \n",
       "4997               None        55,740 KMs    Diesel             None   \n",
       "4998               2013        95,000 KMs    Diesel           Second   \n",
       "4999               2020        14,000 KMs    Petrol            First   \n",
       "\n",
       "        Location Price (in ₹)  \n",
       "0      Faridabad     8,25,000  \n",
       "1         Mumbai     2,95,000  \n",
       "2     Coimbatore     8,75,000  \n",
       "3      Hyderabad     6,65,000  \n",
       "4      Faridabad     3,45,000  \n",
       "...          ...          ...  \n",
       "4995       Delhi    21,50,000  \n",
       "4996   Ahmedabad    25,00,000  \n",
       "4997  Coimbatore     4,95,000  \n",
       "4998   Ahmedabad     4,50,000  \n",
       "4999     Chennai    17,75,000  \n",
       "\n",
       "[5000 rows x 9 columns]"
      ]
     },
     "execution_count": 973,
     "metadata": {},
     "output_type": "execute_result"
    }
   ],
   "source": [
    "car = pd.DataFrame()\n",
    "car['Brand'] = brand\n",
    "car['Model'] = model\n",
    "car['Variant'] = var\n",
    "car['Manufacturing Year'] = year\n",
    "car['Driven kilometers'] = km[0:5000]\n",
    "car['Fuel Type'] = fuel[0:5000]\n",
    "car['Number of owners'] = own\n",
    "car['Location'] = loc[0:5000]\n",
    "car['Price (in ₹)'] = fprice[0:5000]\n",
    "car"
   ]
  },
  {
   "cell_type": "code",
   "execution_count": 974,
   "metadata": {},
   "outputs": [],
   "source": [
    "# saving the excel\n",
    "car.to_excel('car_price_data.xlsx')"
   ]
  },
  {
   "cell_type": "code",
   "execution_count": 970,
   "metadata": {},
   "outputs": [],
   "source": [
    "driver.close()"
   ]
  }
 ],
 "metadata": {
  "colab": {
   "collapsed_sections": [],
   "name": "Web_Scraping_Assigment-2 .ipynb",
   "provenance": []
  },
  "kernelspec": {
   "display_name": "Python 3 (ipykernel)",
   "language": "python",
   "name": "python3"
  },
  "language_info": {
   "codemirror_mode": {
    "name": "ipython",
    "version": 3
   },
   "file_extension": ".py",
   "mimetype": "text/x-python",
   "name": "python",
   "nbconvert_exporter": "python",
   "pygments_lexer": "ipython3",
   "version": "3.7.11"
  }
 },
 "nbformat": 4,
 "nbformat_minor": 1
}
